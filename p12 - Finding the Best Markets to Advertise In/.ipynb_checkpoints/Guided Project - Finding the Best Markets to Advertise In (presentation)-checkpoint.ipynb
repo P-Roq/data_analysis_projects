{
 "cells": [
  {
   "cell_type": "markdown",
   "metadata": {},
   "source": [
    "# Guided Project 10: E-learning For Web And Mobile Developers - Finding The Best Markets to Advertise In"
   ]
  },
  {
   "cell_type": "code",
   "execution_count": 1,
   "metadata": {},
   "outputs": [],
   "source": [
    "import numpy as np\n",
    "import pandas as pd\n",
    "import re\n",
    "import matplotlib.pyplot as plt\n",
    "import seaborn as sns\n",
    "\n",
    "%matplotlib inline"
   ]
  },
  {
   "cell_type": "markdown",
   "metadata": {},
   "source": [
    "## Introduction\n",
    "\n",
    "An undesignated company in the e-learning business wants to know what are the (two) best markets to promote their recently created programming course, soon to be available to the public. The company's service is based on a monthly subscription priced at `$59`.   \n",
    "\n",
    "To produce a quick landscape of what a market of this type could look like, one can benchmark from the relevant work made by the free e-learning platform [freeCodeCamp](https://www.freecodecamp.org/). This organization compiled and made public the answers of a survey that they've submitted in 2017, which delivers a good profiling on people who have been learning to code ([for less then five years](https://www.freecodecamp.org/news/take-the-2017-new-coder-survey-and-help-us-build-a-massive-public-dataset-8c808cbee7eb/)). The survey results are publicly available on their [GitHub](https://github.com/freeCodeCamp/2017-new-coder-survey) archive. \n",
    "\n",
    "This survey is a good resource, providing a general demographic and social characterization of the type of user that might be interested in purchasing new e-learning materials. And despite of the narrower scope of the present analysis, there is plenty of material in this survey that also provides good hints about the type of learning platforms, and other support platforms such as social networks, media outlets, podcasts, etc, these learners often use, if one wish to make a more comprehensive analysis of the e-learning market."
   ]
  },
  {
   "cell_type": "code",
   "execution_count": 2,
   "metadata": {},
   "outputs": [],
   "source": [
    "# To avoid 'DtypeWarning: Columns (17, 16)' insert this dict into `pd.read_csv()`.\n",
    "dtype_dic = {'CodeEventOther': 'str',\n",
    "             'JobInterestOther': 'str'}\n",
    "\n",
    "survey = pd.read_csv('2017-fCC-New-Coders-Survey-Data.csv', dtype=dtype_dic)"
   ]
  },
  {
   "cell_type": "markdown",
   "metadata": {},
   "source": [
    "## Exploring the data set\n",
    "---\n",
    "\n",
    "\\[**Note**: list of columns' names in the annex at the end of the project.\\]"
   ]
  },
  {
   "cell_type": "markdown",
   "metadata": {},
   "source": [
    "NUmber of rows and columns:"
   ]
  },
  {
   "cell_type": "code",
   "execution_count": 3,
   "metadata": {
    "scrolled": true
   },
   "outputs": [
    {
     "name": "stdout",
     "output_type": "stream",
     "text": [
      "<class 'pandas.core.frame.DataFrame'>\n",
      "RangeIndex: 18175 entries, 0 to 18174\n",
      "Columns: 136 entries, Age to YouTubeTheNewBoston\n",
      "dtypes: float64(105), object(31)\n",
      "memory usage: 16.7+ MB\n"
     ]
    }
   ],
   "source": [
    "survey.info()"
   ]
  },
  {
   "cell_type": "markdown",
   "metadata": {},
   "source": [
    "The first five rows:"
   ]
  },
  {
   "cell_type": "code",
   "execution_count": 4,
   "metadata": {
    "scrolled": true
   },
   "outputs": [
    {
     "data": {
      "text/html": [
       "<div>\n",
       "<style scoped>\n",
       "    .dataframe tbody tr th:only-of-type {\n",
       "        vertical-align: middle;\n",
       "    }\n",
       "\n",
       "    .dataframe tbody tr th {\n",
       "        vertical-align: top;\n",
       "    }\n",
       "\n",
       "    .dataframe thead th {\n",
       "        text-align: right;\n",
       "    }\n",
       "</style>\n",
       "<table border=\"1\" class=\"dataframe\">\n",
       "  <thead>\n",
       "    <tr style=\"text-align: right;\">\n",
       "      <th></th>\n",
       "      <th>Age</th>\n",
       "      <th>AttendedBootcamp</th>\n",
       "      <th>BootcampFinish</th>\n",
       "      <th>BootcampLoanYesNo</th>\n",
       "      <th>BootcampName</th>\n",
       "      <th>BootcampRecommend</th>\n",
       "      <th>ChildrenNumber</th>\n",
       "      <th>CityPopulation</th>\n",
       "      <th>CodeEventConferences</th>\n",
       "      <th>CodeEventDjangoGirls</th>\n",
       "      <th>...</th>\n",
       "      <th>YouTubeFCC</th>\n",
       "      <th>YouTubeFunFunFunction</th>\n",
       "      <th>YouTubeGoogleDev</th>\n",
       "      <th>YouTubeLearnCode</th>\n",
       "      <th>YouTubeLevelUpTuts</th>\n",
       "      <th>YouTubeMIT</th>\n",
       "      <th>YouTubeMozillaHacks</th>\n",
       "      <th>YouTubeOther</th>\n",
       "      <th>YouTubeSimplilearn</th>\n",
       "      <th>YouTubeTheNewBoston</th>\n",
       "    </tr>\n",
       "  </thead>\n",
       "  <tbody>\n",
       "    <tr>\n",
       "      <th>0</th>\n",
       "      <td>27.0</td>\n",
       "      <td>0.0</td>\n",
       "      <td>NaN</td>\n",
       "      <td>NaN</td>\n",
       "      <td>NaN</td>\n",
       "      <td>NaN</td>\n",
       "      <td>NaN</td>\n",
       "      <td>more than 1 million</td>\n",
       "      <td>NaN</td>\n",
       "      <td>NaN</td>\n",
       "      <td>...</td>\n",
       "      <td>NaN</td>\n",
       "      <td>NaN</td>\n",
       "      <td>NaN</td>\n",
       "      <td>NaN</td>\n",
       "      <td>NaN</td>\n",
       "      <td>NaN</td>\n",
       "      <td>NaN</td>\n",
       "      <td>NaN</td>\n",
       "      <td>NaN</td>\n",
       "      <td>NaN</td>\n",
       "    </tr>\n",
       "    <tr>\n",
       "      <th>1</th>\n",
       "      <td>34.0</td>\n",
       "      <td>0.0</td>\n",
       "      <td>NaN</td>\n",
       "      <td>NaN</td>\n",
       "      <td>NaN</td>\n",
       "      <td>NaN</td>\n",
       "      <td>NaN</td>\n",
       "      <td>less than 100,000</td>\n",
       "      <td>NaN</td>\n",
       "      <td>NaN</td>\n",
       "      <td>...</td>\n",
       "      <td>1.0</td>\n",
       "      <td>NaN</td>\n",
       "      <td>NaN</td>\n",
       "      <td>NaN</td>\n",
       "      <td>NaN</td>\n",
       "      <td>NaN</td>\n",
       "      <td>NaN</td>\n",
       "      <td>NaN</td>\n",
       "      <td>NaN</td>\n",
       "      <td>NaN</td>\n",
       "    </tr>\n",
       "    <tr>\n",
       "      <th>2</th>\n",
       "      <td>21.0</td>\n",
       "      <td>0.0</td>\n",
       "      <td>NaN</td>\n",
       "      <td>NaN</td>\n",
       "      <td>NaN</td>\n",
       "      <td>NaN</td>\n",
       "      <td>NaN</td>\n",
       "      <td>more than 1 million</td>\n",
       "      <td>NaN</td>\n",
       "      <td>NaN</td>\n",
       "      <td>...</td>\n",
       "      <td>NaN</td>\n",
       "      <td>NaN</td>\n",
       "      <td>NaN</td>\n",
       "      <td>1.0</td>\n",
       "      <td>1.0</td>\n",
       "      <td>NaN</td>\n",
       "      <td>NaN</td>\n",
       "      <td>NaN</td>\n",
       "      <td>NaN</td>\n",
       "      <td>NaN</td>\n",
       "    </tr>\n",
       "    <tr>\n",
       "      <th>3</th>\n",
       "      <td>26.0</td>\n",
       "      <td>0.0</td>\n",
       "      <td>NaN</td>\n",
       "      <td>NaN</td>\n",
       "      <td>NaN</td>\n",
       "      <td>NaN</td>\n",
       "      <td>NaN</td>\n",
       "      <td>between 100,000 and 1 million</td>\n",
       "      <td>NaN</td>\n",
       "      <td>NaN</td>\n",
       "      <td>...</td>\n",
       "      <td>1.0</td>\n",
       "      <td>1.0</td>\n",
       "      <td>NaN</td>\n",
       "      <td>NaN</td>\n",
       "      <td>1.0</td>\n",
       "      <td>NaN</td>\n",
       "      <td>NaN</td>\n",
       "      <td>NaN</td>\n",
       "      <td>NaN</td>\n",
       "      <td>NaN</td>\n",
       "    </tr>\n",
       "    <tr>\n",
       "      <th>4</th>\n",
       "      <td>20.0</td>\n",
       "      <td>0.0</td>\n",
       "      <td>NaN</td>\n",
       "      <td>NaN</td>\n",
       "      <td>NaN</td>\n",
       "      <td>NaN</td>\n",
       "      <td>NaN</td>\n",
       "      <td>between 100,000 and 1 million</td>\n",
       "      <td>NaN</td>\n",
       "      <td>NaN</td>\n",
       "      <td>...</td>\n",
       "      <td>NaN</td>\n",
       "      <td>NaN</td>\n",
       "      <td>NaN</td>\n",
       "      <td>NaN</td>\n",
       "      <td>NaN</td>\n",
       "      <td>NaN</td>\n",
       "      <td>NaN</td>\n",
       "      <td>NaN</td>\n",
       "      <td>NaN</td>\n",
       "      <td>NaN</td>\n",
       "    </tr>\n",
       "  </tbody>\n",
       "</table>\n",
       "<p>5 rows × 136 columns</p>\n",
       "</div>"
      ],
      "text/plain": [
       "    Age  AttendedBootcamp  BootcampFinish  BootcampLoanYesNo BootcampName  \\\n",
       "0  27.0               0.0             NaN                NaN          NaN   \n",
       "1  34.0               0.0             NaN                NaN          NaN   \n",
       "2  21.0               0.0             NaN                NaN          NaN   \n",
       "3  26.0               0.0             NaN                NaN          NaN   \n",
       "4  20.0               0.0             NaN                NaN          NaN   \n",
       "\n",
       "   BootcampRecommend  ChildrenNumber                 CityPopulation  \\\n",
       "0                NaN             NaN            more than 1 million   \n",
       "1                NaN             NaN              less than 100,000   \n",
       "2                NaN             NaN            more than 1 million   \n",
       "3                NaN             NaN  between 100,000 and 1 million   \n",
       "4                NaN             NaN  between 100,000 and 1 million   \n",
       "\n",
       "   CodeEventConferences  CodeEventDjangoGirls  ...  YouTubeFCC  \\\n",
       "0                   NaN                   NaN  ...         NaN   \n",
       "1                   NaN                   NaN  ...         1.0   \n",
       "2                   NaN                   NaN  ...         NaN   \n",
       "3                   NaN                   NaN  ...         1.0   \n",
       "4                   NaN                   NaN  ...         NaN   \n",
       "\n",
       "   YouTubeFunFunFunction  YouTubeGoogleDev  YouTubeLearnCode  \\\n",
       "0                    NaN               NaN               NaN   \n",
       "1                    NaN               NaN               NaN   \n",
       "2                    NaN               NaN               1.0   \n",
       "3                    1.0               NaN               NaN   \n",
       "4                    NaN               NaN               NaN   \n",
       "\n",
       "   YouTubeLevelUpTuts  YouTubeMIT  YouTubeMozillaHacks YouTubeOther  \\\n",
       "0                 NaN         NaN                  NaN          NaN   \n",
       "1                 NaN         NaN                  NaN          NaN   \n",
       "2                 1.0         NaN                  NaN          NaN   \n",
       "3                 1.0         NaN                  NaN          NaN   \n",
       "4                 NaN         NaN                  NaN          NaN   \n",
       "\n",
       "   YouTubeSimplilearn  YouTubeTheNewBoston  \n",
       "0                 NaN                  NaN  \n",
       "1                 NaN                  NaN  \n",
       "2                 NaN                  NaN  \n",
       "3                 NaN                  NaN  \n",
       "4                 NaN                  NaN  \n",
       "\n",
       "[5 rows x 136 columns]"
      ]
     },
     "execution_count": 4,
     "metadata": {},
     "output_type": "execute_result"
    }
   ],
   "source": [
    "survey.head()"
   ]
  },
  {
   "cell_type": "markdown",
   "metadata": {},
   "source": [
    "The two basic questions are:\n",
    "\n",
    "- Where to advertise?\n",
    "- To whom does the content provider should advertise?\n",
    "\n",
    "For a quicker approach to the analysis the focus will be first based on a macro view of the potential markets, thus assessing which are the countries with more potential instead of looking on micro level, e.g. assessing which partners/platforms the company could consider to advertise in. For the later question, we can try to quantify the market dimensions through the dynamics between the willingness to pay of e-learners and the price of the product to be offered by the company we represent. "
   ]
  },
  {
   "cell_type": "markdown",
   "metadata": {},
   "source": [
    "### What is the weight of e-learners wanting to be either web or mobile developers?\n",
    "\n",
    "The upcoming course is for web and mobile development therefore it begs the question: is this survey representative of our population of interest?"
   ]
  },
  {
   "cell_type": "markdown",
   "metadata": {},
   "source": [
    "The following series, `interest` compiles the frequency distribution (in percentage) of the values in `survey['JobRoleInterest']`.\n",
    "\n",
    "'JobRoleInterest' is the answer respondents gave when asked what job roles within the coding field are they interested in applying for.   "
   ]
  },
  {
   "cell_type": "code",
   "execution_count": 5,
   "metadata": {},
   "outputs": [],
   "source": [
    "interest = survey['JobRoleInterest'].value_counts(\n",
    "    normalize=True).sort_values(ascending=False)*100\n",
    "\n",
    "interest = pd.DataFrame({'Desired Job Role': interest.index,\n",
    "                         '% of Total': interest}).reset_index(drop=True)"
   ]
  },
  {
   "cell_type": "markdown",
   "metadata": {},
   "source": [
    "There are 3213 unique answers, which we can see below, derive from combinations of several desired job roles."
   ]
  },
  {
   "cell_type": "code",
   "execution_count": 6,
   "metadata": {},
   "outputs": [
    {
     "name": "stdout",
     "output_type": "stream",
     "text": [
      "<class 'pandas.core.frame.DataFrame'>\n",
      "RangeIndex: 3213 entries, 0 to 3212\n",
      "Data columns (total 2 columns):\n",
      " #   Column            Non-Null Count  Dtype  \n",
      "---  ------            --------------  -----  \n",
      " 0   Desired Job Role  3213 non-null   object \n",
      " 1   % of Total        3213 non-null   float64\n",
      "dtypes: float64(1), object(1)\n",
      "memory usage: 37.7+ KB\n"
     ]
    }
   ],
   "source": [
    "interest.info()"
   ]
  },
  {
   "cell_type": "markdown",
   "metadata": {},
   "source": [
    "Top 10 most replied answer on desired job roles:"
   ]
  },
  {
   "cell_type": "code",
   "execution_count": 7,
   "metadata": {},
   "outputs": [
    {
     "data": {
      "text/html": [
       "<div>\n",
       "<style scoped>\n",
       "    .dataframe tbody tr th:only-of-type {\n",
       "        vertical-align: middle;\n",
       "    }\n",
       "\n",
       "    .dataframe tbody tr th {\n",
       "        vertical-align: top;\n",
       "    }\n",
       "\n",
       "    .dataframe thead th {\n",
       "        text-align: right;\n",
       "    }\n",
       "</style>\n",
       "<table border=\"1\" class=\"dataframe\">\n",
       "  <thead>\n",
       "    <tr style=\"text-align: right;\">\n",
       "      <th></th>\n",
       "      <th>Desired Job Role</th>\n",
       "      <th>% of Total</th>\n",
       "    </tr>\n",
       "  </thead>\n",
       "  <tbody>\n",
       "    <tr>\n",
       "      <th>0</th>\n",
       "      <td>Full-Stack Web Developer</td>\n",
       "      <td>11.770595</td>\n",
       "    </tr>\n",
       "    <tr>\n",
       "      <th>1</th>\n",
       "      <td>Front-End Web Developer</td>\n",
       "      <td>6.435927</td>\n",
       "    </tr>\n",
       "    <tr>\n",
       "      <th>2</th>\n",
       "      <td>Data Scientist</td>\n",
       "      <td>2.173913</td>\n",
       "    </tr>\n",
       "    <tr>\n",
       "      <th>3</th>\n",
       "      <td>Back-End Web Developer</td>\n",
       "      <td>2.030892</td>\n",
       "    </tr>\n",
       "    <tr>\n",
       "      <th>4</th>\n",
       "      <td>Mobile Developer</td>\n",
       "      <td>1.673341</td>\n",
       "    </tr>\n",
       "    <tr>\n",
       "      <th>5</th>\n",
       "      <td>Game Developer</td>\n",
       "      <td>1.630435</td>\n",
       "    </tr>\n",
       "    <tr>\n",
       "      <th>6</th>\n",
       "      <td>Information Security</td>\n",
       "      <td>1.315789</td>\n",
       "    </tr>\n",
       "    <tr>\n",
       "      <th>7</th>\n",
       "      <td>Full-Stack Web Developer,   Front-End Web Deve...</td>\n",
       "      <td>0.915332</td>\n",
       "    </tr>\n",
       "    <tr>\n",
       "      <th>8</th>\n",
       "      <td>Front-End Web Developer, Full-Stack Web Deve...</td>\n",
       "      <td>0.800915</td>\n",
       "    </tr>\n",
       "    <tr>\n",
       "      <th>9</th>\n",
       "      <td>Product Manager</td>\n",
       "      <td>0.786613</td>\n",
       "    </tr>\n",
       "  </tbody>\n",
       "</table>\n",
       "</div>"
      ],
      "text/plain": [
       "                                    Desired Job Role  % of Total\n",
       "0                           Full-Stack Web Developer   11.770595\n",
       "1                            Front-End Web Developer    6.435927\n",
       "2                                     Data Scientist    2.173913\n",
       "3                             Back-End Web Developer    2.030892\n",
       "4                                   Mobile Developer    1.673341\n",
       "5                                     Game Developer    1.630435\n",
       "6                               Information Security    1.315789\n",
       "7  Full-Stack Web Developer,   Front-End Web Deve...    0.915332\n",
       "8    Front-End Web Developer, Full-Stack Web Deve...    0.800915\n",
       "9                                    Product Manager    0.786613"
      ]
     },
     "execution_count": 7,
     "metadata": {},
     "output_type": "execute_result"
    }
   ],
   "source": [
    "interest.iloc[:10]"
   ]
  },
  {
   "cell_type": "markdown",
   "metadata": {},
   "source": [
    "How much percentage represent the sum of the top 10 most answered questions in `interest['Desired Job Role']`:"
   ]
  },
  {
   "cell_type": "code",
   "execution_count": 8,
   "metadata": {},
   "outputs": [
    {
     "data": {
      "text/plain": [
       "29.53"
      ]
     },
     "execution_count": 8,
     "metadata": {},
     "output_type": "execute_result"
    }
   ],
   "source": [
    "interest['% of Total'].iloc[:10].sum().round(2)"
   ]
  },
  {
   "cell_type": "markdown",
   "metadata": {},
   "source": [
    "Desired job roles answers that include either the expression 'Web Developer' or 'Mobile Developer' in the description:"
   ]
  },
  {
   "cell_type": "code",
   "execution_count": 9,
   "metadata": {},
   "outputs": [],
   "source": [
    "web_or_mobile = interest['Desired Job Role'].str.contains(\n",
    "    '(?:Web Developer|Mobile Developer)', regex=True)"
   ]
  },
  {
   "cell_type": "code",
   "execution_count": 10,
   "metadata": {},
   "outputs": [
    {
     "data": {
      "text/plain": [
       "2918"
      ]
     },
     "execution_count": 10,
     "metadata": {},
     "output_type": "execute_result"
    }
   ],
   "source": [
    "web_mobile = interest[web_or_mobile]\n",
    "\n",
    "web_mobile.shape[0]"
   ]
  },
  {
   "cell_type": "markdown",
   "metadata": {},
   "source": [
    "Above, we can see that `interest` gives us a multitude of job role interests. The number of unique answers is very high because the answer to 'What job role would you like to fulfill?' (column `JobRoleInterest` in `survey`) can be answered by giving combinations of job roles. So much so that the ten most answered job roles only comprise of aprox. 30% of the total number of unique answers (3213).\n",
    "\n",
    "Looking more closely to the top 10 desired job roles, we can see that most of the jobs contain the expression 'Web Developer' while 'Mobile Developer' appears as the fifth most popular desired job role. Furthermore, we also know that 2918 out of 3213 job roles are directly related with the roles of web or mobile developer, which assures us that the data in hand is adequate to the type of conclusions we desire to take. Figure 1 below, summarizes these findings. "
   ]
  },
  {
   "cell_type": "code",
   "execution_count": 11,
   "metadata": {},
   "outputs": [
    {
     "data": {
      "image/png": "[encoded data removed]",
      "text/plain": [
       "<Figure size 864x432 with 2 Axes>"
      ]
     },
     "metadata": {
      "needs_background": "light"
     },
     "output_type": "display_data"
    }
   ],
   "source": [
    "top10 = interest.copy().head(10)\n",
    "\n",
    "fig = plt.figure(figsize=(12, 6))\n",
    "\n",
    "plt.style.use('seaborn')\n",
    "\n",
    "\n",
    "fig.suptitle('Figure 1', fontsize=16, x=0.62)\n",
    "\n",
    "\n",
    "ax1 = plt.subplot(1, 2, 1)\n",
    "\n",
    "ax2 = plt.subplot(1, 2, 2)\n",
    "\n",
    "\n",
    "# Horizontal bar plot.\n",
    "ax1.set_title('Top 10 Most Popular Desired Job Roles')\n",
    "\n",
    "ax1.barh(y=top10['Desired Job Role'],\n",
    "         width=top10['% of Total'])\n",
    "\n",
    "ax1.invert_yaxis()  # descending order\n",
    "\n",
    "ax1.set_xlabel('Percentage of Total')\n",
    "\n",
    "\n",
    "# Vertical bar plot.\n",
    "ax2.set_title('Job Roles: Web and Mobile vs Total')\n",
    "\n",
    "# X axis labels.\n",
    "ax2_bar_labels = ['Total Job Roles', 'Web or Mobile Developer']\n",
    "\n",
    "graph_2 = ax2.bar(x=[0, 1],\n",
    "                  height=[interest.shape[0], web_mobile.shape[0]],\n",
    "                  tick_label=ax2_bar_labels)\n",
    "\n",
    "\n",
    "# Top of the bars label values.\n",
    "ax2_bar_values = [interest.shape[0], web_mobile.shape[0]]\n",
    "\n",
    "i = 0\n",
    "for bar in graph_2:\n",
    "    width = bar.get_width()\n",
    "    height = bar.get_height()\n",
    "    x, y = bar.get_xy()\n",
    "    plt.text(x+width/2,\n",
    "             y+height*1.01,\n",
    "             ax2_bar_values[i],\n",
    "             ha='center',\n",
    "             weight='bold')\n",
    "    i += 1\n",
    "\n",
    "\n",
    "plt.tight_layout()\n",
    "\n",
    "plt.show()"
   ]
  },
  {
   "cell_type": "markdown",
   "metadata": {},
   "source": [
    "### Refining the data set and quantifying the number of respondents by country of residence."
   ]
  },
  {
   "cell_type": "markdown",
   "metadata": {},
   "source": [
    "`survey_2` excludes rows without a response (NaN) in the column `survey['JobRoleInterest']`. This will narrow down the sample to respondents that clearly pursuit e-learning as an investment towards finding a job role in the IT sector, and thus are willing to actively search in the market for e-learning content."
   ]
  },
  {
   "cell_type": "code",
   "execution_count": 12,
   "metadata": {},
   "outputs": [],
   "source": [
    "jobrole_not_null = survey['JobRoleInterest'].notnull()\n",
    "\n",
    "survey_2 = survey[jobrole_not_null]"
   ]
  },
  {
   "cell_type": "markdown",
   "metadata": {},
   "source": [
    "Grouping respondents by country of residence:"
   ]
  },
  {
   "cell_type": "code",
   "execution_count": 13,
   "metadata": {},
   "outputs": [],
   "source": [
    "country_res_freq_abs = survey_2['CountryLive'].value_counts(\n",
    "    ).sort_values(ascending=False)\n",
    "\n",
    "country_res_freq_rel = survey_2['CountryLive'].value_counts(\n",
    "    normalize=True).sort_values(ascending=False).round(3)*100"
   ]
  },
  {
   "cell_type": "code",
   "execution_count": 14,
   "metadata": {},
   "outputs": [
    {
     "data": {
      "text/html": [
       "<div>\n",
       "<style scoped>\n",
       "    .dataframe tbody tr th:only-of-type {\n",
       "        vertical-align: middle;\n",
       "    }\n",
       "\n",
       "    .dataframe tbody tr th {\n",
       "        vertical-align: top;\n",
       "    }\n",
       "\n",
       "    .dataframe thead th {\n",
       "        text-align: right;\n",
       "    }\n",
       "</style>\n",
       "<table border=\"1\" class=\"dataframe\">\n",
       "  <thead>\n",
       "    <tr style=\"text-align: right;\">\n",
       "      <th></th>\n",
       "      <th>Absolute</th>\n",
       "      <th>Relative (%)</th>\n",
       "    </tr>\n",
       "  </thead>\n",
       "  <tbody>\n",
       "    <tr>\n",
       "      <th>United States of America</th>\n",
       "      <td>3125</td>\n",
       "      <td>45.7</td>\n",
       "    </tr>\n",
       "    <tr>\n",
       "      <th>India</th>\n",
       "      <td>528</td>\n",
       "      <td>7.7</td>\n",
       "    </tr>\n",
       "    <tr>\n",
       "      <th>United Kingdom</th>\n",
       "      <td>315</td>\n",
       "      <td>4.6</td>\n",
       "    </tr>\n",
       "    <tr>\n",
       "      <th>Canada</th>\n",
       "      <td>260</td>\n",
       "      <td>3.8</td>\n",
       "    </tr>\n",
       "    <tr>\n",
       "      <th>Poland</th>\n",
       "      <td>131</td>\n",
       "      <td>1.9</td>\n",
       "    </tr>\n",
       "    <tr>\n",
       "      <th>Brazil</th>\n",
       "      <td>129</td>\n",
       "      <td>1.9</td>\n",
       "    </tr>\n",
       "    <tr>\n",
       "      <th>Germany</th>\n",
       "      <td>125</td>\n",
       "      <td>1.8</td>\n",
       "    </tr>\n",
       "    <tr>\n",
       "      <th>Australia</th>\n",
       "      <td>112</td>\n",
       "      <td>1.6</td>\n",
       "    </tr>\n",
       "    <tr>\n",
       "      <th>Russia</th>\n",
       "      <td>102</td>\n",
       "      <td>1.5</td>\n",
       "    </tr>\n",
       "    <tr>\n",
       "      <th>Ukraine</th>\n",
       "      <td>89</td>\n",
       "      <td>1.3</td>\n",
       "    </tr>\n",
       "  </tbody>\n",
       "</table>\n",
       "</div>"
      ],
      "text/plain": [
       "                          Absolute  Relative (%)\n",
       "United States of America      3125          45.7\n",
       "India                          528           7.7\n",
       "United Kingdom                 315           4.6\n",
       "Canada                         260           3.8\n",
       "Poland                         131           1.9\n",
       "Brazil                         129           1.9\n",
       "Germany                        125           1.8\n",
       "Australia                      112           1.6\n",
       "Russia                         102           1.5\n",
       "Ukraine                         89           1.3"
      ]
     },
     "execution_count": 14,
     "metadata": {},
     "output_type": "execute_result"
    }
   ],
   "source": [
    "country_res_freq_table = pd.DataFrame({'Absolute': country_res_freq_abs,\n",
    "                                       'Relative (%)': country_res_freq_rel})\n",
    "country_res_freq_table.head(10)"
   ]
  },
  {
   "cell_type": "markdown",
   "metadata": {},
   "source": [
    "Number of countries represented in the 2017 survey:"
   ]
  },
  {
   "cell_type": "code",
   "execution_count": 15,
   "metadata": {},
   "outputs": [
    {
     "data": {
      "text/plain": [
       "137"
      ]
     },
     "execution_count": 15,
     "metadata": {},
     "output_type": "execute_result"
    }
   ],
   "source": [
    "country_res_freq_table.shape[0]"
   ]
  },
  {
   "cell_type": "markdown",
   "metadata": {},
   "source": [
    "`country_res_freq_table` groups the respondents by country of residence. As we can see, the large majority of respondents lives in the US (48%), while the rest of the countries, 136 of them, account for the other half of the respondents' residency. The middle ground is formed by India, U.K. and Canada, where aprox. 7.7, 4.6, and 3.8 percent, respectively, of the pool of respondents live in. From these aspects, we can take two ideas:\n",
    "\n",
    "- Usually is a good idea to invest in markets where one can see consistently growing interest in the industry targeted: in one hand, the market is not yet saturated, and in the other, the investor knows that the level of interest of the public is high enough for it to be a safe bet (return in the short run at least _break-even_). This last notion is important because the potential of a market is also measured by its maturity.\n",
    "\n",
    "\n",
    "- Also based on the results above, investing based on physical boarders may not be the best approach since no country besides the US seems to be a matured enough market; albeit, a deeper analysis should be undertaken in order to determine a markets maturity. Regardless, an advertising strategy based on 'common ground', i.e. on international (digital) platforms, could be more effective in the short-term, if the prospects of market maturation beyond US is not foreseeable in the near future."
   ]
  },
  {
   "cell_type": "markdown",
   "metadata": {},
   "source": [
    "## Assessing the willingness to pay of an average e-learner of code through the analysis of monthly expenditures. \n",
    "---\n",
    "\n",
    "The main idea of using this comprehensive survey provided by _freeDataCamp_ is to use a representative sample as a proxy e-learning market (or groups of markets) in the IT sector, extrapolating the consumer target out it."
   ]
  },
  {
   "cell_type": "markdown",
   "metadata": {},
   "source": [
    "`learn_monthly_expend` gives out how much each student spends per month on e-learning; hereby, also designated in short as 'monthly expenditure'."
   ]
  },
  {
   "cell_type": "code",
   "execution_count": 16,
   "metadata": {},
   "outputs": [],
   "source": [
    "# Support series: replace the '0's by '1's.\n",
    "# 'MonthsProgramming' is float.\n",
    "if_zero = survey_2['MonthsProgramming'] == 0\n",
    "\n",
    "moded_monthsprogramming = survey_2['MonthsProgramming'].copy().mask(if_zero, 1)\n",
    "\n",
    "learn_monthly_expend = survey_2['MoneyForLearning'] / moded_monthsprogramming\n",
    "\n",
    "learn_monthly_expend = learn_monthly_expend.rename('learn_monthly_expend')\n",
    "\n",
    "survey_2 = survey_2.join(learn_monthly_expend)"
   ]
  },
  {
   "cell_type": "markdown",
   "metadata": {},
   "source": [
    "New DataFrame `survey_3`: excluding rows where `learn_monthly_expend` is null:"
   ]
  },
  {
   "cell_type": "code",
   "execution_count": 17,
   "metadata": {},
   "outputs": [],
   "source": [
    "survey_3 = survey_2[survey_2['learn_monthly_expend'].notnull()]"
   ]
  },
  {
   "cell_type": "markdown",
   "metadata": {},
   "source": [
    "### Analyzing the average monthly learning expenditure by country, focusing on US, India, the United Kingdom and Canada."
   ]
  },
  {
   "cell_type": "markdown",
   "metadata": {},
   "source": [
    "Compiling the means, median and modes for the top four countries/markets:"
   ]
  },
  {
   "cell_type": "code",
   "execution_count": 18,
   "metadata": {},
   "outputs": [
    {
     "data": {
      "text/html": [
       "<div>\n",
       "<style scoped>\n",
       "    .dataframe tbody tr th:only-of-type {\n",
       "        vertical-align: middle;\n",
       "    }\n",
       "\n",
       "    .dataframe tbody tr th {\n",
       "        vertical-align: top;\n",
       "    }\n",
       "\n",
       "    .dataframe thead th {\n",
       "        text-align: right;\n",
       "    }\n",
       "</style>\n",
       "<table border=\"1\" class=\"dataframe\">\n",
       "  <thead>\n",
       "    <tr style=\"text-align: right;\">\n",
       "      <th></th>\n",
       "      <th>USA</th>\n",
       "      <th>India</th>\n",
       "      <th>UK</th>\n",
       "      <th>Canada</th>\n",
       "    </tr>\n",
       "  </thead>\n",
       "  <tbody>\n",
       "    <tr>\n",
       "      <th>count</th>\n",
       "      <td>2933.00</td>\n",
       "      <td>463.00</td>\n",
       "      <td>279.00</td>\n",
       "      <td>240.00</td>\n",
       "    </tr>\n",
       "    <tr>\n",
       "      <th>mean</th>\n",
       "      <td>228.00</td>\n",
       "      <td>135.10</td>\n",
       "      <td>45.53</td>\n",
       "      <td>113.51</td>\n",
       "    </tr>\n",
       "    <tr>\n",
       "      <th>std</th>\n",
       "      <td>1940.25</td>\n",
       "      <td>692.96</td>\n",
       "      <td>162.31</td>\n",
       "      <td>441.01</td>\n",
       "    </tr>\n",
       "    <tr>\n",
       "      <th>min</th>\n",
       "      <td>0.00</td>\n",
       "      <td>0.00</td>\n",
       "      <td>0.00</td>\n",
       "      <td>0.00</td>\n",
       "    </tr>\n",
       "    <tr>\n",
       "      <th>25%</th>\n",
       "      <td>0.00</td>\n",
       "      <td>0.00</td>\n",
       "      <td>0.00</td>\n",
       "      <td>0.00</td>\n",
       "    </tr>\n",
       "    <tr>\n",
       "      <th>50%</th>\n",
       "      <td>3.33</td>\n",
       "      <td>0.00</td>\n",
       "      <td>0.00</td>\n",
       "      <td>0.00</td>\n",
       "    </tr>\n",
       "    <tr>\n",
       "      <th>75%</th>\n",
       "      <td>50.00</td>\n",
       "      <td>13.25</td>\n",
       "      <td>20.42</td>\n",
       "      <td>25.00</td>\n",
       "    </tr>\n",
       "    <tr>\n",
       "      <th>max</th>\n",
       "      <td>80000.00</td>\n",
       "      <td>10000.00</td>\n",
       "      <td>1400.00</td>\n",
       "      <td>5000.00</td>\n",
       "    </tr>\n",
       "  </tbody>\n",
       "</table>\n",
       "</div>"
      ],
      "text/plain": [
       "            USA     India       UK   Canada\n",
       "count   2933.00    463.00   279.00   240.00\n",
       "mean     228.00    135.10    45.53   113.51\n",
       "std     1940.25    692.96   162.31   441.01\n",
       "min        0.00      0.00     0.00     0.00\n",
       "25%        0.00      0.00     0.00     0.00\n",
       "50%        3.33      0.00     0.00     0.00\n",
       "75%       50.00     13.25    20.42    25.00\n",
       "max    80000.00  10000.00  1400.00  5000.00"
      ]
     },
     "execution_count": 18,
     "metadata": {},
     "output_type": "execute_result"
    }
   ],
   "source": [
    "usa = survey_3.copy(0)[survey_3['CountryLive'] == 'United States of America']\n",
    "india = survey_3.copy(0)[survey_3['CountryLive'] == 'India']\n",
    "uk = survey_3.copy(0)[survey_3['CountryLive'] == 'United Kingdom']\n",
    "canada = survey_3.copy(0)[survey_3['CountryLive'] == 'Canada']\n",
    "\n",
    "\n",
    "usa_expend = usa['learn_monthly_expend']\n",
    "india_expend = india['learn_monthly_expend']\n",
    "uk_expend = uk['learn_monthly_expend']\n",
    "canada_expend = canada['learn_monthly_expend']\n",
    "\n",
    "\n",
    "country_expend_descrip = pd.DataFrame({'USA':usa_expend.describe(),\n",
    "                                       'India':india_expend.describe(),\n",
    "                                       'UK':uk_expend.describe(),\n",
    "                                       'Canada':canada_expend.describe()})\n",
    "country_expend_descrip.round(2)"
   ]
  },
  {
   "cell_type": "markdown",
   "metadata": {},
   "source": [
    "`country_expend_descrip` provides the basic statistics for the average learning monthly expenditure, in USD, by country. We can see that there are great discrepancies of magnitude between the mean, the median and mode (the mode for every country in the panel is `$0`; depicted in the annex). The means are too high when the medians, i.e. 50% of the total values, are `$0` or close to it. Also, the maximum values for the monthly expenditure in both cases is suspiciously high; we can see that the difference between the maximum value and the upper quartile (75%), in all cases, is greatly unproportionate. This discrepancy may indicate that there are outliers that are inflating the mean. For outliers one means very high monthly expenditures which may derived from a mistaken answer given by some respondents, to the 'MoneyForLearning' column in the survey, or maybe there are types of e-learning platforms/businesses, which set their prices substantially higher to those practiced by the majority of the e-learning platforms mentioned in the survey. This might be the case of university courses/degrees and bootcamps. "
   ]
  },
  {
   "cell_type": "markdown",
   "metadata": {},
   "source": [
    "### Boxplot analysis of monthy expenditures."
   ]
  },
  {
   "cell_type": "markdown",
   "metadata": {},
   "source": [
    "Given that the average monthly expenditures are completely uneven, we must decide realistically, what is the consumer target. Provided that most of the high expenditure outliers are real and not a typo from the survey respondents, we must  observe closely the distribution of values and then decide how to if and how to remove the extreme outliers."
   ]
  },
  {
   "cell_type": "code",
   "execution_count": 19,
   "metadata": {},
   "outputs": [
    {
     "data": {
      "image/png": "[encoded data removed]",
      "text/plain": [
       "<Figure size 864x864 with 4 Axes>"
      ]
     },
     "metadata": {},
     "output_type": "display_data"
    }
   ],
   "source": [
    "fig = plt.figure(figsize=(12, 12))\n",
    "\n",
    "plt.style.use('seaborn')\n",
    "\n",
    "\n",
    "fig.suptitle('Figure 2: Avg. Monthly Learning Expenditure', fontsize=16)\n",
    "\n",
    "\n",
    "ax1 = plt.subplot(2, 2, 1)\n",
    "ax2 = plt.subplot(2, 2, 2)\n",
    "ax3 = plt.subplot(2, 2, 3)\n",
    "ax4 = plt.subplot(2, 2, 4)\n",
    "\n",
    "\n",
    "# Boxplots.\n",
    "\n",
    "# ax1\n",
    "ax1.set_title('USA')\n",
    "\n",
    "ax1.boxplot(usa_expend)\n",
    "\n",
    "ax1.set(xticklabels=[])  # hiding x tick labels\n",
    "\n",
    "ax1.set_ylabel('USD')\n",
    "\n",
    "\n",
    "# ax2\n",
    "ax2.set_title('UK')\n",
    "\n",
    "ax2.boxplot(uk_expend)\n",
    "\n",
    "ax2.set(xticklabels=[])\n",
    "\n",
    "# ax3\n",
    "ax3.set_title('India')\n",
    "\n",
    "ax3.boxplot(india_expend)\n",
    "\n",
    "ax3.set(xticklabels=[])\n",
    "\n",
    "ax3.set_ylabel('USD')\n",
    "\n",
    "# ax4\n",
    "ax4.set_title('Canada')\n",
    "\n",
    "ax4.boxplot(canada_expend)\n",
    "\n",
    "ax4.set(xticklabels=[])\n",
    "\n",
    "\n",
    "plt.show()"
   ]
  },
  {
   "cell_type": "markdown",
   "metadata": {},
   "source": [
    "Based on the boxplots displayed above (Figure 2) we can acknowledge the presence of upper outliers as the boxplots themselves are 'squashed down' near the minimum value which `$0` spend. In order to trim those upper outliers, three possible criteria come to mind:\n",
    "\n",
    "- assess the outliers visually and determine a threshold.\n",
    "\n",
    "\n",
    "- remove the top 1% of monthly expenditures.\n",
    "\n",
    "\n",
    "- remove values over the top whisker, which is calculated by: \n",
    "\n",
    "$outlier > (upper_{quartile} + (upper_{quartile} - lower_{quartile})*1.5)$\n",
    "\n",
    "Let's explore the last two scenarios."
   ]
  },
  {
   "cell_type": "markdown",
   "metadata": {},
   "source": [
    "#### Scenario 1 - Removing the top 3% of values of each country.\n",
    "\n",
    "Note: although not depicted, removing only the highest 1% and 2% monthly expenditures from the UK frequency distribution, did not remove all the extreme outliers, but 3% accomplished that. Therefore we set the trimming of the top 3% for every country, for ease of comparison."
   ]
  },
  {
   "cell_type": "code",
   "execution_count": 20,
   "metadata": {},
   "outputs": [],
   "source": [
    "# 1st, compute how many observations is 1% of the total.\n",
    "# Since odd values will create results with decimals we round\n",
    "# to zero decimals and convert to integer again to be able to\n",
    "# use them below in .loc[].\n",
    "usa_1_perc = int(round(usa_expend.size*0.03, 0))\n",
    "india_1_perc = int(round(india_expend.size*0.03, 0))\n",
    "uk_1_perc = int(round(uk_expend.size*0.03, 0))\n",
    "canada_1_perc = int(round(canada_expend.size*0.03, 0))\n",
    "\n",
    "\n",
    "# 2nd, sort values in descending order.\n",
    "usa_expend = usa_expend.sort_values(ascending=False)\n",
    "india_expend = india_expend.sort_values(ascending=False)\n",
    "uk_expend = uk_expend.sort_values(ascending=False)\n",
    "canada_expend = canada_expend.sort_values(ascending=False)\n",
    "\n",
    "# 3rd, trim the top 3% out of the beginning of each series.\n",
    "# We add '+1' in `.loc[]` to exclude the last value/row belonging to \n",
    "# the top 3%.\n",
    "usa_expend_trim1 = usa_expend.iloc[usa_1_perc+1:]\n",
    "india_expend_trim1 = india_expend.iloc[india_1_perc+1:]\n",
    "uk_expend_trim1 = uk_expend.iloc[uk_1_perc+1:]\n",
    "canada_expend_trim1 = canada_expend.iloc[canada_1_perc+1:]"
   ]
  },
  {
   "cell_type": "markdown",
   "metadata": {},
   "source": [
    "Basic Statistics of the trimmed monthly expenditures series by country (in USD):"
   ]
  },
  {
   "cell_type": "code",
   "execution_count": 21,
   "metadata": {},
   "outputs": [
    {
     "data": {
      "text/html": [
       "<div>\n",
       "<style scoped>\n",
       "    .dataframe tbody tr th:only-of-type {\n",
       "        vertical-align: middle;\n",
       "    }\n",
       "\n",
       "    .dataframe tbody tr th {\n",
       "        vertical-align: top;\n",
       "    }\n",
       "\n",
       "    .dataframe thead th {\n",
       "        text-align: right;\n",
       "    }\n",
       "</style>\n",
       "<table border=\"1\" class=\"dataframe\">\n",
       "  <thead>\n",
       "    <tr style=\"text-align: right;\">\n",
       "      <th></th>\n",
       "      <th>USA</th>\n",
       "      <th>India</th>\n",
       "      <th>UK</th>\n",
       "      <th>Canada</th>\n",
       "    </tr>\n",
       "  </thead>\n",
       "  <tbody>\n",
       "    <tr>\n",
       "      <th>count</th>\n",
       "      <td>2844.00</td>\n",
       "      <td>448.00</td>\n",
       "      <td>270.00</td>\n",
       "      <td>232.00</td>\n",
       "    </tr>\n",
       "    <tr>\n",
       "      <th>mean</th>\n",
       "      <td>72.69</td>\n",
       "      <td>39.36</td>\n",
       "      <td>20.86</td>\n",
       "      <td>46.93</td>\n",
       "    </tr>\n",
       "    <tr>\n",
       "      <th>std</th>\n",
       "      <td>198.62</td>\n",
       "      <td>129.91</td>\n",
       "      <td>44.38</td>\n",
       "      <td>139.96</td>\n",
       "    </tr>\n",
       "    <tr>\n",
       "      <th>min</th>\n",
       "      <td>0.00</td>\n",
       "      <td>0.00</td>\n",
       "      <td>0.00</td>\n",
       "      <td>0.00</td>\n",
       "    </tr>\n",
       "    <tr>\n",
       "      <th>25%</th>\n",
       "      <td>0.00</td>\n",
       "      <td>0.00</td>\n",
       "      <td>0.00</td>\n",
       "      <td>0.00</td>\n",
       "    </tr>\n",
       "    <tr>\n",
       "      <th>50%</th>\n",
       "      <td>2.50</td>\n",
       "      <td>0.00</td>\n",
       "      <td>0.00</td>\n",
       "      <td>0.00</td>\n",
       "    </tr>\n",
       "    <tr>\n",
       "      <th>75%</th>\n",
       "      <td>35.00</td>\n",
       "      <td>11.11</td>\n",
       "      <td>16.67</td>\n",
       "      <td>20.00</td>\n",
       "    </tr>\n",
       "    <tr>\n",
       "      <th>max</th>\n",
       "      <td>1571.43</td>\n",
       "      <td>1000.00</td>\n",
       "      <td>250.00</td>\n",
       "      <td>900.00</td>\n",
       "    </tr>\n",
       "  </tbody>\n",
       "</table>\n",
       "</div>"
      ],
      "text/plain": [
       "           USA    India      UK  Canada\n",
       "count  2844.00   448.00  270.00  232.00\n",
       "mean     72.69    39.36   20.86   46.93\n",
       "std     198.62   129.91   44.38  139.96\n",
       "min       0.00     0.00    0.00    0.00\n",
       "25%       0.00     0.00    0.00    0.00\n",
       "50%       2.50     0.00    0.00    0.00\n",
       "75%      35.00    11.11   16.67   20.00\n",
       "max    1571.43  1000.00  250.00  900.00"
      ]
     },
     "execution_count": 21,
     "metadata": {},
     "output_type": "execute_result"
    }
   ],
   "source": [
    "country_expend_descrip_2 = pd.DataFrame({'USA':usa_expend_trim1.describe(),\n",
    "                                       'India':india_expend_trim1.describe(),\n",
    "                                       'UK':uk_expend_trim1.describe(),\n",
    "                                       'Canada':canada_expend_trim1.describe()})\n",
    "country_expend_descrip_2.round(2)"
   ]
  },
  {
   "cell_type": "markdown",
   "metadata": {},
   "source": [
    "The function `upper_threshold` was designed to calculate the value of the top whisker (outlier threshold) of the original series in order to set the x tick labels in Figure 3 and 4 (below)."
   ]
  },
  {
   "cell_type": "code",
   "execution_count": 22,
   "metadata": {},
   "outputs": [],
   "source": [
    "def upper_threshold(series):\n",
    "    '''Takes a frequency distribution and returns an upper \n",
    "    outlier threshold (upper boxplot whisker).\n",
    "    '''\n",
    "\n",
    "    lower_quartile = series.describe()[4]\n",
    "    upper_quartile = series.describe()[6]\n",
    "    interquartile_range = upper_quartile - lower_quartile\n",
    "    upper_threshold = upper_quartile + interquartile_range*1.5\n",
    "\n",
    "    return upper_threshold"
   ]
  },
  {
   "cell_type": "code",
   "execution_count": 23,
   "metadata": {},
   "outputs": [
    {
     "data": {
      "image/png": "[encoded data removed]",
      "text/plain": [
       "<Figure size 864x1296 with 4 Axes>"
      ]
     },
     "metadata": {},
     "output_type": "display_data"
    }
   ],
   "source": [
    "fig = plt.figure(figsize=(12, 18))\n",
    "\n",
    "plt.style.use('seaborn')\n",
    "\n",
    "\n",
    "fig.suptitle(\n",
    "    'Figure 3: Scenario 1, Avg. Monthly Learning Expenditure - Trimmed top 3%', fontsize=16)\n",
    "\n",
    "\n",
    "ax1 = plt.subplot(2, 2, 1)\n",
    "ax2 = plt.subplot(2, 2, 2)\n",
    "ax3 = plt.subplot(2, 2, 3)\n",
    "ax4 = plt.subplot(2, 2, 4)\n",
    "\n",
    "\n",
    "# Boxplots.\n",
    "\n",
    "# ax1\n",
    "ax1.set_title('USA')\n",
    "\n",
    "ax1.boxplot(usa_expend_trim1)\n",
    "\n",
    "ax1.set(xticklabels=[])  # hiding x tick labels\n",
    "\n",
    "ax1.set_ylabel('USD')\n",
    "\n",
    "\n",
    "# Customizing the y labels to only show: median, upper quartile, outlier threshold and max value.\n",
    "\n",
    "# Shortening the name for ease of use.\n",
    "ced2 = country_expend_descrip_2.copy()\n",
    "\n",
    "label_list_usa_1 = [ced2.loc['50%', 'USA'].round(2),\n",
    "                  ced2.loc['75%', 'USA'].round(2),\n",
    "                  upper_threshold(usa_expend_trim1).round(2),\n",
    "                  ced2.loc['max', 'USA'].round(2)]\n",
    "\n",
    "ax1.yaxis.set_ticks(label_list_usa_1)\n",
    "ax1.yaxis.set_ticklabels(label_list_usa_1)\n",
    "\n",
    "\n",
    "# ax2\n",
    "ax2.set_title('UK')\n",
    "\n",
    "ax2.boxplot(uk_expend_trim1)\n",
    "\n",
    "ax2.set(xticklabels=[])\n",
    "\n",
    "# Customizing the y labels to only show: median, upper quartile, outlier threshold and max value.\n",
    "label_list_uk_1 = [ced2.loc['50%', 'UK'].round(2),\n",
    "              ced2.loc['75%', 'UK'].round(2),\n",
    "              upper_threshold(uk_expend_trim1).round(2),\n",
    "              ced2.loc['max', 'UK'].round(2)]\n",
    "\n",
    "ax2.yaxis.set_ticks(label_list_uk_1)\n",
    "ax2.yaxis.set_ticklabels(label_list_uk_1)\n",
    "\n",
    "# ax3\n",
    "ax3.set_title('India')\n",
    "\n",
    "ax3.boxplot(india_expend_trim1)\n",
    "\n",
    "ax3.set(xticklabels=[])\n",
    "\n",
    "ax3.set_ylabel('USD')\n",
    "\n",
    "# Customizing the y labels to only show: median, upper quartile, outlier threshold and max value.\n",
    "label_list_india_1 = [ced2.loc['50%', 'India'].round(2),\n",
    "              ced2.loc['75%', 'India'].round(2),\n",
    "              upper_threshold(india_expend_trim1).round(2),\n",
    "              ced2.loc['max', 'India'].round(2)]\n",
    "\n",
    "ax3.yaxis.set_ticks(label_list_india_1)\n",
    "ax3.yaxis.set_ticklabels(label_list_india_1)\n",
    "\n",
    "# ax4\n",
    "ax4.set_title('Canada')\n",
    "\n",
    "ax4.boxplot(canada_expend_trim1)\n",
    "\n",
    "ax4.set(xticklabels=[])\n",
    "\n",
    "# Customizing the y labels to only show: median, upper quartile, outlier threshold and max value.\n",
    "label_list_canada_1 = [ced2.loc['50%', 'Canada'].round(2),\n",
    "              ced2.loc['75%', 'Canada'].round(2),\n",
    "              upper_threshold(canada_expend_trim1).round(2),\n",
    "              ced2.loc['max', 'Canada'].round(2)]\n",
    "\n",
    "ax4.yaxis.set_ticks(label_list_canada_1)\n",
    "ax4.yaxis.set_ticklabels(label_list_canada_1)\n",
    "\n",
    "\n",
    "plt.show()"
   ]
  },
  {
   "cell_type": "markdown",
   "metadata": {},
   "source": [
    "#### Scenario 2\n",
    "\n",
    "In this scenario, the maximum value in each boxplot is the top whisker of Figure 2 (no trimming), i.e. all values above this threshold were removed from the original series.\n",
    "\n",
    "To trim out the outliers into a new set of series for each country, we resort again to `upper_threshold`."
   ]
  },
  {
   "cell_type": "code",
   "execution_count": 24,
   "metadata": {},
   "outputs": [],
   "source": [
    "# Computing the thresholds for all countries.\n",
    "usa_threshold = upper_threshold(usa_expend)\n",
    "india_threshold = upper_threshold(india_expend)\n",
    "uk_threshold = upper_threshold(uk_expend)\n",
    "canada_threshold = upper_threshold(canada_expend)\n",
    "\n",
    "# Applying the thresholds as a condition to remove the upper ouliers.\n",
    "usa_expend_trim2 = usa_expend[usa_expend < usa_threshold]\n",
    "india_expend_trim2 = india_expend[india_expend < india_threshold]\n",
    "uk_expend_trim2 = uk_expend[uk_expend < uk_threshold]\n",
    "canada_expend_trim2 = canada_expend[canada_expend < usa_threshold]"
   ]
  },
  {
   "cell_type": "markdown",
   "metadata": {},
   "source": [
    "`country_expend_descrip_3` gives the panel of basic statistics for the monthly expenditure series completely removed of outliers."
   ]
  },
  {
   "cell_type": "code",
   "execution_count": 25,
   "metadata": {},
   "outputs": [
    {
     "data": {
      "text/html": [
       "<div>\n",
       "<style scoped>\n",
       "    .dataframe tbody tr th:only-of-type {\n",
       "        vertical-align: middle;\n",
       "    }\n",
       "\n",
       "    .dataframe tbody tr th {\n",
       "        vertical-align: top;\n",
       "    }\n",
       "\n",
       "    .dataframe thead th {\n",
       "        text-align: right;\n",
       "    }\n",
       "</style>\n",
       "<table border=\"1\" class=\"dataframe\">\n",
       "  <thead>\n",
       "    <tr style=\"text-align: right;\">\n",
       "      <th></th>\n",
       "      <th>USA</th>\n",
       "      <th>India</th>\n",
       "      <th>UK</th>\n",
       "      <th>Canada</th>\n",
       "    </tr>\n",
       "  </thead>\n",
       "  <tbody>\n",
       "    <tr>\n",
       "      <th>count</th>\n",
       "      <td>2468.00</td>\n",
       "      <td>371.00</td>\n",
       "      <td>234.00</td>\n",
       "      <td>209.00</td>\n",
       "    </tr>\n",
       "    <tr>\n",
       "      <th>mean</th>\n",
       "      <td>13.67</td>\n",
       "      <td>2.53</td>\n",
       "      <td>6.10</td>\n",
       "      <td>9.23</td>\n",
       "    </tr>\n",
       "    <tr>\n",
       "      <th>std</th>\n",
       "      <td>24.69</td>\n",
       "      <td>5.45</td>\n",
       "      <td>11.55</td>\n",
       "      <td>18.31</td>\n",
       "    </tr>\n",
       "    <tr>\n",
       "      <th>min</th>\n",
       "      <td>0.00</td>\n",
       "      <td>0.00</td>\n",
       "      <td>0.00</td>\n",
       "      <td>0.00</td>\n",
       "    </tr>\n",
       "    <tr>\n",
       "      <th>25%</th>\n",
       "      <td>0.00</td>\n",
       "      <td>0.00</td>\n",
       "      <td>0.00</td>\n",
       "      <td>0.00</td>\n",
       "    </tr>\n",
       "    <tr>\n",
       "      <th>50%</th>\n",
       "      <td>0.00</td>\n",
       "      <td>0.00</td>\n",
       "      <td>0.00</td>\n",
       "      <td>0.00</td>\n",
       "    </tr>\n",
       "    <tr>\n",
       "      <th>75%</th>\n",
       "      <td>16.67</td>\n",
       "      <td>2.04</td>\n",
       "      <td>8.00</td>\n",
       "      <td>9.29</td>\n",
       "    </tr>\n",
       "    <tr>\n",
       "      <th>max</th>\n",
       "      <td>121.43</td>\n",
       "      <td>31.00</td>\n",
       "      <td>50.00</td>\n",
       "      <td>100.00</td>\n",
       "    </tr>\n",
       "  </tbody>\n",
       "</table>\n",
       "</div>"
      ],
      "text/plain": [
       "           USA   India      UK  Canada\n",
       "count  2468.00  371.00  234.00  209.00\n",
       "mean     13.67    2.53    6.10    9.23\n",
       "std      24.69    5.45   11.55   18.31\n",
       "min       0.00    0.00    0.00    0.00\n",
       "25%       0.00    0.00    0.00    0.00\n",
       "50%       0.00    0.00    0.00    0.00\n",
       "75%      16.67    2.04    8.00    9.29\n",
       "max     121.43   31.00   50.00  100.00"
      ]
     },
     "execution_count": 25,
     "metadata": {},
     "output_type": "execute_result"
    }
   ],
   "source": [
    "country_expend_descrip_3 = pd.DataFrame({'USA':usa_expend_trim2.describe(),\n",
    "                                       'India':india_expend_trim2.describe(),\n",
    "                                       'UK':uk_expend_trim2.describe(),\n",
    "                                       'Canada':canada_expend_trim2.describe()})\n",
    "country_expend_descrip_3.round(2)"
   ]
  },
  {
   "cell_type": "code",
   "execution_count": 26,
   "metadata": {},
   "outputs": [
    {
     "data": {
      "image/png": "[encoded data removed]",
      "text/plain": [
       "<Figure size 864x864 with 4 Axes>"
      ]
     },
     "metadata": {},
     "output_type": "display_data"
    }
   ],
   "source": [
    "fig = plt.figure(figsize=(12, 12))\n",
    "\n",
    "plt.style.use('seaborn')\n",
    "\n",
    "\n",
    "fig.suptitle(\n",
    "    'Figure 4: Scenario 2, Avg. Monthly Learning Expenditure - outlier formula', fontsize=16)\n",
    "\n",
    "\n",
    "ax1 = plt.subplot(2, 2, 1)\n",
    "ax2 = plt.subplot(2, 2, 2)\n",
    "ax3 = plt.subplot(2, 2, 3)\n",
    "ax4 = plt.subplot(2, 2, 4)\n",
    "\n",
    "\n",
    "# Boxplots.\n",
    "\n",
    "# ax1\n",
    "ax1.set_title('USA')\n",
    "\n",
    "ax1.boxplot(usa_expend_trim2)\n",
    "\n",
    "ax1.set(xticklabels=[])  # hiding x tick labels\n",
    "\n",
    "ax1.set_ylabel('USD')\n",
    "\n",
    "\n",
    "\n",
    "# Customizing the y labels to only show: median, upper quartile, outlier threshold and max value.\n",
    "\n",
    "# Shortening the name for ease of use.\n",
    "ced3 = country_expend_descrip_3.copy()\n",
    "\n",
    "label_list_usa_2 = [ced3.loc['50%', 'USA'].round(2),\n",
    "                  ced3.loc['75%', 'USA'].round(2),\n",
    "                  upper_threshold(usa_expend_trim2).round(2),\n",
    "                  ced3.loc['max', 'USA'].round(2)]\n",
    "\n",
    "ax1.yaxis.set_ticks(label_list_usa_2)\n",
    "ax1.yaxis.set_ticklabels(label_list_usa_2)\n",
    "\n",
    "\n",
    "# ax2\n",
    "ax2.set_title('UK')\n",
    "\n",
    "ax2.boxplot(uk_expend_trim2)\n",
    "\n",
    "ax2.set(xticklabels=[])\n",
    "\n",
    "# Customizing the y labels to only show: median, upper quartile, outlier threshold and max value.\n",
    "label_list_uk_2 = [ced3.loc['50%', 'UK'].round(2),\n",
    "              ced3.loc['75%', 'UK'].round(2),\n",
    "              upper_threshold(uk_expend_trim2).round(2),\n",
    "              ced3.loc['max', 'UK'].round(2)]\n",
    "\n",
    "ax2.yaxis.set_ticks(label_list_uk_2)\n",
    "ax2.yaxis.set_ticklabels(label_list_uk_2)\n",
    "\n",
    "# ax3\n",
    "ax3.set_title('India')\n",
    "\n",
    "ax3.boxplot(india_expend_trim2)\n",
    "\n",
    "ax3.set_ylabel('USD')\n",
    "\n",
    "# Customizing the y labels to only show: median, upper quartile, outlier threshold and max value.\n",
    "label_list_india_2 = [ced3.loc['50%', 'India'].round(2),\n",
    "              ced3.loc['75%', 'India'].round(2),\n",
    "              upper_threshold(india_expend_trim2).round(2),\n",
    "              ced3.loc['max', 'India'].round(2)]\n",
    "\n",
    "ax3.yaxis.set_ticks(label_list_india_2)\n",
    "ax3.yaxis.set_ticklabels(label_list_india_2)\n",
    "\n",
    "\n",
    "# ax4\n",
    "ax4.set_title('Canada')\n",
    "\n",
    "ax4.boxplot(canada_expend_trim2)\n",
    "\n",
    "ax4.set(xticklabels=[])\n",
    "\n",
    "# Customizing the y labels to only show: median, upper quartile, outlier threshold and max value.\n",
    "label_list_canada_2 = [ced3.loc['50%', 'Canada'].round(2),\n",
    "              ced3.loc['75%', 'Canada'].round(2),\n",
    "              upper_threshold(canada_expend_trim2).round(2),\n",
    "              ced3.loc['max', 'Canada'].round(2)]\n",
    "\n",
    "ax4.yaxis.set_ticks(label_list_canada_2)\n",
    "ax4.yaxis.set_ticklabels(label_list_canada_2)\n",
    "\n",
    "\n",
    "\n",
    "plt.show()"
   ]
  },
  {
   "cell_type": "markdown",
   "metadata": {},
   "source": [
    "As we can see in the latest group of boxplots (Figure 4), applying the outlier formula will trim the data in a way that maximum values are now much closer the mean. We can now even visualize the 3rd and 4th quartiles. When looking for similarities between Figure 3 and 4, we can conclude that the US is the best market to advertise in, because in both scenarios has the highest number of high paying students of the panel. Regarding the other countries:\n",
    "\n",
    "- Scenario 1 (top 3% trimmed): observing Figure 3, UK seems to be excluded because it has the lowest maximum and upper quartile value, whilst India and Canada show similar results: India has the maximum value of avg. expenditure of the two but Canada has the higher upper quartile and median.\n",
    "\n",
    "\n",
    "- Scenario 2 (removing every outlier from the original series): in this case (Figure 4), the UK seems to beat India with a higher median, upper quartile and maximum expenditure, but Canada still surpasses the UK as the market with a higher avg. monthly expenditure per student. Also, in both scenarios Canada appears with the second highest mean after the US.\n",
    "\n",
    "To conclude on this part of the analysis, USA and Canada seem to be the best markets to advertise in, notwithstanding the fact that the analysis still suffers from the uneven distribution of monthly expenditures, where the majority of students spends way less than a small majority which is sending several times over the value of the 75% percentile (in both Scenario 1 and 2)."
   ]
  },
  {
   "cell_type": "markdown",
   "metadata": {},
   "source": [
    "### Choosing the markets to invest based on the perceived willingness to pay of potential costumers\n",
    "---"
   ]
  },
  {
   "cell_type": "markdown",
   "metadata": {},
   "source": [
    "Considering again scenarios 1 and 2, how many students spend $59 or more in learning expenditures?\n",
    "\n",
    "And what if we wanted to include in the count, students that spend less than `$59` but can also be perceived as potential costumers? Lets say that potential costumers can also be included if they are already spending at least half of the proposed price, i.e. `$29` in monthly expenditures (rounded, down instead of `$29.5`)."
   ]
  },
  {
   "cell_type": "markdown",
   "metadata": {},
   "source": [
    "#### Scenario 1 (top 3% trimmed)"
   ]
  },
  {
   "cell_type": "code",
   "execution_count": 27,
   "metadata": {},
   "outputs": [
    {
     "data": {
      "text/html": [
       "<div>\n",
       "<style scoped>\n",
       "    .dataframe tbody tr th:only-of-type {\n",
       "        vertical-align: middle;\n",
       "    }\n",
       "\n",
       "    .dataframe tbody tr th {\n",
       "        vertical-align: top;\n",
       "    }\n",
       "\n",
       "    .dataframe thead th {\n",
       "        text-align: right;\n",
       "    }\n",
       "</style>\n",
       "<table border=\"1\" class=\"dataframe\">\n",
       "  <thead>\n",
       "    <tr style=\"text-align: right;\">\n",
       "      <th></th>\n",
       "      <th>$59</th>\n",
       "      <th>$29</th>\n",
       "    </tr>\n",
       "  </thead>\n",
       "  <tbody>\n",
       "    <tr>\n",
       "      <th>Canada</th>\n",
       "      <td>32</td>\n",
       "      <td>46</td>\n",
       "    </tr>\n",
       "    <tr>\n",
       "      <th>India</th>\n",
       "      <td>60</td>\n",
       "      <td>78</td>\n",
       "    </tr>\n",
       "    <tr>\n",
       "      <th>UK</th>\n",
       "      <td>34</td>\n",
       "      <td>54</td>\n",
       "    </tr>\n",
       "    <tr>\n",
       "      <th>USA</th>\n",
       "      <td>575</td>\n",
       "      <td>788</td>\n",
       "    </tr>\n",
       "  </tbody>\n",
       "</table>\n",
       "</div>"
      ],
      "text/plain": [
       "        $59  $29\n",
       "Canada   32   46\n",
       "India    60   78\n",
       "UK       34   54\n",
       "USA     575  788"
      ]
     },
     "execution_count": 27,
     "metadata": {},
     "output_type": "execute_result"
    }
   ],
   "source": [
    "# For $59.\n",
    "\n",
    "usa_over59_1 = usa_expend_trim1[usa_expend_trim1 >= 59]\n",
    "india_over59_1 = india_expend_trim1[india_expend_trim1 >= 59]\n",
    "uk_over59_1 = uk_expend_trim1[uk_expend_trim1 >= 59]\n",
    "canada_over59_1 = canada_expend_trim1[canada_expend_trim1 >= 59]\n",
    "\n",
    "usa_over59_count_1 = usa_over59_1.size\n",
    "india_over59_count_1 = india_over59_1.size\n",
    "uk_over59_count_1 = uk_over59_1.size\n",
    "canada_over59_count_1 = canada_over59_1.size\n",
    "\n",
    "over_equal_59_1 = pd.Series({'USA': usa_over59_count_1,\n",
    "                             'India': india_over59_count_1,\n",
    "                             'UK': uk_over59_count_1,\n",
    "                             'Canada': canada_over59_count_1})\n",
    "\n",
    "\n",
    "#  For $29.\n",
    "usa_over29_1 = usa_expend_trim1[usa_expend_trim1 >= 29]\n",
    "india_over29_1 = india_expend_trim1[india_expend_trim1 >= 29]\n",
    "uk_over29_1 = uk_expend_trim1[uk_expend_trim1 >= 29]\n",
    "canada_over29_1 = canada_expend_trim1[canada_expend_trim1 >= 29]\n",
    "\n",
    "usa_over29_count_1 = usa_over29_1.size\n",
    "india_over29_count_1 = india_over29_1.size\n",
    "uk_over29_count_1 = uk_over29_1.size\n",
    "canada_over29_count_1 = canada_over29_1.size\n",
    "\n",
    "over_equal_29_1 = pd.Series({'USA': usa_over29_count_1,\n",
    "                             'India': india_over29_count_1,\n",
    "                             'UK': uk_over29_count_1,\n",
    "                             'Canada': canada_over29_count_1, })\n",
    "\n",
    "pd.DataFrame({'$59': over_equal_59_1, '$29': over_equal_29_1}).sort_index()"
   ]
  },
  {
   "cell_type": "markdown",
   "metadata": {},
   "source": [
    "In both cases the top number of students is USA and India, where Canada appears in last. This values are not 'set in stone' because the scenario can evolve year by year, and with the data currently at our disposal we cannot assess which market has the highest growing rate. Regardless, for Canada to catch up to India, it would have to double down, in a short time, their number of potential costumers, which is not likely.\n",
    "\n",
    "Another open question is whether high spenders constitute part of the potential market, if they are such a small portion of the whole, or in other words, someone that is spending for example, `$500+` per month, will be interested in the type of course that costs `$59` per month? Perhaps the sample should control for those students that seek high paying learning not so much for the quality of the learning content, but to acquire a formal education diploma, such as a college degree. "
   ]
  },
  {
   "cell_type": "markdown",
   "metadata": {},
   "source": [
    "#### Scenario 2 (outliers beyond upper whisker removed)"
   ]
  },
  {
   "cell_type": "code",
   "execution_count": 28,
   "metadata": {},
   "outputs": [
    {
     "data": {
      "text/html": [
       "<div>\n",
       "<style scoped>\n",
       "    .dataframe tbody tr th:only-of-type {\n",
       "        vertical-align: middle;\n",
       "    }\n",
       "\n",
       "    .dataframe tbody tr th {\n",
       "        vertical-align: top;\n",
       "    }\n",
       "\n",
       "    .dataframe thead th {\n",
       "        text-align: right;\n",
       "    }\n",
       "</style>\n",
       "<table border=\"1\" class=\"dataframe\">\n",
       "  <thead>\n",
       "    <tr style=\"text-align: right;\">\n",
       "      <th></th>\n",
       "      <th>$59</th>\n",
       "      <th>$29</th>\n",
       "    </tr>\n",
       "  </thead>\n",
       "  <tbody>\n",
       "    <tr>\n",
       "      <th>Canada</th>\n",
       "      <td>9</td>\n",
       "      <td>23</td>\n",
       "    </tr>\n",
       "    <tr>\n",
       "      <th>India</th>\n",
       "      <td>0</td>\n",
       "      <td>1</td>\n",
       "    </tr>\n",
       "    <tr>\n",
       "      <th>UK</th>\n",
       "      <td>0</td>\n",
       "      <td>18</td>\n",
       "    </tr>\n",
       "    <tr>\n",
       "      <th>USA</th>\n",
       "      <td>199</td>\n",
       "      <td>412</td>\n",
       "    </tr>\n",
       "  </tbody>\n",
       "</table>\n",
       "</div>"
      ],
      "text/plain": [
       "        $59  $29\n",
       "Canada    9   23\n",
       "India     0    1\n",
       "UK        0   18\n",
       "USA     199  412"
      ]
     },
     "execution_count": 28,
     "metadata": {},
     "output_type": "execute_result"
    }
   ],
   "source": [
    "# For $59.\n",
    "usa_over59_2 = usa_expend_trim2[usa_expend_trim2 >= 59]\n",
    "india_over59_2 = india_expend_trim2[india_expend_trim2 >= 59]\n",
    "uk_over59_2 = uk_expend_trim2[uk_expend_trim2 >= 59]\n",
    "canada_over59_2 = canada_expend_trim2[canada_expend_trim2 >= 59]\n",
    "\n",
    "usa_over59_count_2 = usa_over59_2.size\n",
    "india_over59_count_2 = india_over59_2.size\n",
    "uk_over59_count_2 = uk_over59_2.size\n",
    "canada_over59_count_2 = canada_over59_2.size\n",
    "\n",
    "over_equal_59_2 = pd.Series({'USA': usa_over59_count_2,\n",
    "                             'India': india_over59_count_2,\n",
    "                             'UK': uk_over59_count_2,\n",
    "                             'Canada': canada_over59_count_2, }).sort_values(ascending=False)\n",
    "\n",
    "\n",
    "# For $29.\n",
    "usa_over29_2 = usa_expend_trim2[usa_expend_trim2 >= 29]\n",
    "india_over29_2 = india_expend_trim2[india_expend_trim2 >= 29]\n",
    "uk_over29_2 = uk_expend_trim2[uk_expend_trim2 >= 29]\n",
    "canada_over29_2 = canada_expend_trim2[canada_expend_trim2 >= 29]\n",
    "\n",
    "usa_over29_count_2 = usa_over29_2.size\n",
    "india_over29_count_2 = india_over29_2.size\n",
    "uk_over29_count_2 = uk_over29_2.size\n",
    "canada_over29_count_2 = canada_over29_2.size\n",
    "\n",
    "over_equal_29_2 = pd.Series({'USA': usa_over29_count_2,\n",
    "                             'India': india_over29_count_2,\n",
    "                             'UK': uk_over29_count_2,\n",
    "                             'Canada': canada_over29_count_2, }).sort_values(ascending=False)\n",
    "\n",
    "\n",
    "pd.DataFrame({'$59': over_equal_59_2, '$29': over_equal_29_2}).sort_index()"
   ]
  },
  {
   "cell_type": "markdown",
   "metadata": {},
   "source": [
    "In scenario 2, for both cases - `$59` and `$29`, USA appears first and Canada second, as the markets with the highest number of spenders."
   ]
  },
  {
   "cell_type": "markdown",
   "metadata": {},
   "source": [
    "### Some questions and answers derived from the analysis.\n",
    "---\n",
    "\n",
    "Should the company we represent invest in a second market, which one would it be?\n",
    " \n",
    "- There are arguments in favor of either India or Canada, although with a slight inclination for the former. More analysis components should be added so that a more precise/justified answer can be made.\n",
    "\n",
    "---\n",
    " \n",
    "Does it make sense to advertise in more than two countries?\n",
    "\n",
    "- This question relegate us again to the notion of market maturity. We have gathered evidence that the US market has the most potential, followed by India. Because the markets in UK and Canada have so few potential costumers, even if hypothetically all the costumers in one of those markets, say the UK for example, bought the course the company we represent is offering, it would still account for less than 10% of the potential costumers in the US (in all cases analyzed above). \n",
    "\n",
    "---\n",
    " \n",
    "Does it make sense to split the advertising budget unequally (e.g.: spend 70% to advertise in the US and 30% to advertise in India)?\n",
    "\n",
    "- It may depend on the costs of advertising (business/advertising permits, deals with third party platforms, etc.), but in principle, the market that offers a quicker ROI (return on investment) should weigh in more on the consigned budget.\n",
    "\n",
    "---\n",
    "\n",
    "\n",
    "Does it make sense to advertise only in the US?\n",
    "\n",
    "- Given that these markets are expected to grow, it is important to invest and to be established in new markets from the beginning, as to gain a _[first-mover advantage](https://en.wikipedia.org/wiki/First-mover_advantage)_. Also, the aforementioned advertising costs in India can be potentially lower, being a rising market (developing country). \n",
    "\n",
    "---\n",
    "\n",
    "If we had a marketing team in our company, would it be better to just send them our results and let them use their domain knowledge to take the best decision?\n",
    "\n",
    "- In the case of having a marketing company, it would be wise to coordinate the effort between teams so that all the expertise could be channeled to reach more refined conclusions on the subject. "
   ]
  },
  {
   "cell_type": "markdown",
   "metadata": {},
   "source": [
    "## Conclusion remarks solely based on the analysis of the 2017 _freeCodeCamp_ survey\n",
    "---\n",
    "\n",
    "The analysis shows that the US is the undeniable best choice to advertise in, because the perception withdrawn from the results is that it has, by far, the highest number of potential costumers and also the highest number of potential costumers who are willing to pay more for e-learning services. If the advertising strategy envisions the exploration of other markets, both India and Canada present evidence in their favor, although it is unclear which markets might have the highest return on investment, solely based on the information provided in this one survey. To further explore the issue, one possible strategy would be to reach out to the marketing team, asking them to define more precisely the target consumer, based on how much she/he spends on e-learning content, combined with other profile aspects, such as finding out what is the preferred approach to learning, e.g. students that indicate first preference for self-paced 'pay as you go' courses should be seen as the primary target, instead of students that are more interested in bootcamps or college enrolling."
   ]
  },
  {
   "cell_type": "markdown",
   "metadata": {},
   "source": [
    "## Further Exploration - Suggesting a second best market to invest in.\n",
    "---\n",
    "With the support of more information - freeCodeCamp's 2016 and 2018 surveys, lets make a quick comparison between potential secondary markets to advertise in, based on the framework used so far."
   ]
  },
  {
   "cell_type": "markdown",
   "metadata": {},
   "source": [
    "### Reading 2016 and 2018 data sets:"
   ]
  },
  {
   "cell_type": "code",
   "execution_count": 29,
   "metadata": {},
   "outputs": [],
   "source": [
    "# survey_2016 also raises a warning about mixed types in the columns below, therefore we specify the type manually.\n",
    "# slight name change compared with 2017's survey ('JobInterestOther').\n",
    "dtype_dic_2016 = {'CodeEventOther': 'str',\n",
    "             'JobRoleInterestOther': 'str'}  \n",
    "\n",
    "survey_2016 = pd.read_csv('2016-FCC-New-Coders-Survey-Data.csv', dtype=dtype_dic_2016)\n",
    "survey_2018 = pd.read_csv('2018-fCC-New-Coders-Survey-Data.csv')\n",
    "\n",
    "# copying 2017's survey into a new identifier.\n",
    "survey_2017 = survey.copy()"
   ]
  },
  {
   "cell_type": "markdown",
   "metadata": {},
   "source": [
    "Basic info on the 2016 and 2018 data sets:\n",
    "\n",
    "- Note: full list of columns' names in the annex. "
   ]
  },
  {
   "cell_type": "code",
   "execution_count": 30,
   "metadata": {},
   "outputs": [
    {
     "name": "stdout",
     "output_type": "stream",
     "text": [
      "<class 'pandas.core.frame.DataFrame'>\n",
      "RangeIndex: 15620 entries, 0 to 15619\n",
      "Columns: 113 entries, Age to StudentDebtOwe\n",
      "dtypes: float64(85), object(28)\n",
      "memory usage: 11.8+ MB\n"
     ]
    }
   ],
   "source": [
    "survey_2016.info()"
   ]
  },
  {
   "cell_type": "code",
   "execution_count": 31,
   "metadata": {},
   "outputs": [
    {
     "name": "stdout",
     "output_type": "stream",
     "text": [
      "<class 'pandas.core.frame.DataFrame'>\n",
      "RangeIndex: 28397 entries, 0 to 28396\n",
      "Columns: 137 entries, ID to time_total_sec\n",
      "dtypes: float64(106), int64(3), object(28)\n",
      "memory usage: 26.6+ MB\n"
     ]
    }
   ],
   "source": [
    "survey_2018.info()"
   ]
  },
  {
   "cell_type": "markdown",
   "metadata": {},
   "source": [
    "Filtering both data sets in order to include only students which desire to be either a web or a mobile developer.\n",
    "\n",
    "Contrary to 2016 and 2017 versions, the 2018 survey does not have the column 'JobRoleInterest' but has for each working field, within the job role possibilities, binary columns. To filter out the 2018 data set, we include only rows which have the value `1`, in at least one of the columns below:\n",
    "\n",
    "- `job_intr_fllstck` (Full Stack)\n",
    "- `job_intr_backend` (Back End)\n",
    "- `job_intr_frntend` (Front End)\n",
    "- `job_intr_mobile`  (Mobile)\n",
    "- `job_intr_devops`  (DevOps / SysAdmin)   \n",
    "- `job_intr_datasci` (Data Science)  \n",
    "- `job_intr_teacher` (Teacher / Trainer / Developer Evangelist)\n",
    "- `job_intr_qa_engn` (Quality Assurance Engineer)  \n",
    "- `job_intr_ux_engn` (User Experience Designer)  \n",
    "- `job_intr_projm`   (Project Management)  \n",
    "- `job_intr_gamedev` (Game Development) \n",
    "- `job_intr_infosec` (Information Security)   \n",
    "- `job_intr_dataengn`(Data Engineer)\n",
    "- `job_intr_other`   (other job)"
   ]
  },
  {
   "cell_type": "markdown",
   "metadata": {},
   "source": [
    "**2016**"
   ]
  },
  {
   "cell_type": "code",
   "execution_count": 32,
   "metadata": {},
   "outputs": [],
   "source": [
    "jobrole_not_null_2016 = survey_2016['JobRoleInterest'].notnull()\n",
    "\n",
    "survey_2016_2 = survey_2016[jobrole_not_null_2016]"
   ]
  },
  {
   "cell_type": "markdown",
   "metadata": {},
   "source": [
    "**2017**\n",
    "\n",
    "(copying the 2017 DataFrame into a new identifier)"
   ]
  },
  {
   "cell_type": "code",
   "execution_count": 33,
   "metadata": {},
   "outputs": [],
   "source": [
    "survey_2017_2 = survey_2.copy()"
   ]
  },
  {
   "cell_type": "markdown",
   "metadata": {},
   "source": [
    "**2018**"
   ]
  },
  {
   "cell_type": "code",
   "execution_count": 34,
   "metadata": {},
   "outputs": [],
   "source": [
    "jobrole_not_null_2018_cond = survey_2018.loc[:, 'job_intr_fllstck':'job_intr_other'].notnull()\n",
    "\n",
    "jobrole_not_null_2018_any = jobrole_not_null_2018_cond.any(axis=1).rename('at_least_one_jobrole')\n",
    "\n",
    "survey_2018 = survey_2018.join(jobrole_not_null_2018_any)\n",
    "\n",
    "survey_2018_2 = survey_2018[survey_2018['at_least_one_jobrole']].reset_index(drop=True)"
   ]
  },
  {
   "cell_type": "markdown",
   "metadata": {},
   "source": [
    "### Computing the absolute and relative frequency distribution of the top 10 countries with more students:"
   ]
  },
  {
   "cell_type": "markdown",
   "metadata": {},
   "source": [
    "**2016**"
   ]
  },
  {
   "cell_type": "code",
   "execution_count": 35,
   "metadata": {},
   "outputs": [],
   "source": [
    "country_res_freq_abs_2016 = survey_2016_2['CountryLive'].value_counts(\n",
    "    ).sort_values(ascending=False)\n",
    "\n",
    "country_res_freq_rel_2016 = survey_2016_2['CountryLive'].value_counts(\n",
    "    normalize=True).sort_values(ascending=False).round(3)*100"
   ]
  },
  {
   "cell_type": "code",
   "execution_count": 36,
   "metadata": {},
   "outputs": [
    {
     "data": {
      "text/html": [
       "<div>\n",
       "<style scoped>\n",
       "    .dataframe tbody tr th:only-of-type {\n",
       "        vertical-align: middle;\n",
       "    }\n",
       "\n",
       "    .dataframe tbody tr th {\n",
       "        vertical-align: top;\n",
       "    }\n",
       "\n",
       "    .dataframe thead th {\n",
       "        text-align: right;\n",
       "    }\n",
       "</style>\n",
       "<table border=\"1\" class=\"dataframe\">\n",
       "  <thead>\n",
       "    <tr style=\"text-align: right;\">\n",
       "      <th></th>\n",
       "      <th>Absolute</th>\n",
       "      <th>Relative (%)</th>\n",
       "    </tr>\n",
       "  </thead>\n",
       "  <tbody>\n",
       "    <tr>\n",
       "      <th>United States of America</th>\n",
       "      <td>2979</td>\n",
       "      <td>52.5</td>\n",
       "    </tr>\n",
       "    <tr>\n",
       "      <th>India</th>\n",
       "      <td>382</td>\n",
       "      <td>6.7</td>\n",
       "    </tr>\n",
       "    <tr>\n",
       "      <th>United Kingdom</th>\n",
       "      <td>242</td>\n",
       "      <td>4.3</td>\n",
       "    </tr>\n",
       "    <tr>\n",
       "      <th>Canada</th>\n",
       "      <td>221</td>\n",
       "      <td>3.9</td>\n",
       "    </tr>\n",
       "    <tr>\n",
       "      <th>Australia</th>\n",
       "      <td>122</td>\n",
       "      <td>2.2</td>\n",
       "    </tr>\n",
       "    <tr>\n",
       "      <th>Poland</th>\n",
       "      <td>105</td>\n",
       "      <td>1.9</td>\n",
       "    </tr>\n",
       "    <tr>\n",
       "      <th>Russia</th>\n",
       "      <td>98</td>\n",
       "      <td>1.7</td>\n",
       "    </tr>\n",
       "    <tr>\n",
       "      <th>Ukraine</th>\n",
       "      <td>96</td>\n",
       "      <td>1.7</td>\n",
       "    </tr>\n",
       "    <tr>\n",
       "      <th>Germany</th>\n",
       "      <td>80</td>\n",
       "      <td>1.4</td>\n",
       "    </tr>\n",
       "    <tr>\n",
       "      <th>Brazil</th>\n",
       "      <td>73</td>\n",
       "      <td>1.3</td>\n",
       "    </tr>\n",
       "  </tbody>\n",
       "</table>\n",
       "</div>"
      ],
      "text/plain": [
       "                          Absolute  Relative (%)\n",
       "United States of America      2979          52.5\n",
       "India                          382           6.7\n",
       "United Kingdom                 242           4.3\n",
       "Canada                         221           3.9\n",
       "Australia                      122           2.2\n",
       "Poland                         105           1.9\n",
       "Russia                          98           1.7\n",
       "Ukraine                         96           1.7\n",
       "Germany                         80           1.4\n",
       "Brazil                          73           1.3"
      ]
     },
     "execution_count": 36,
     "metadata": {},
     "output_type": "execute_result"
    }
   ],
   "source": [
    "country_res_freq_table_2016 = pd.DataFrame({'Absolute': country_res_freq_abs_2016,\n",
    "                                       'Relative (%)': country_res_freq_rel_2016})\n",
    "country_res_freq_table_2016.head(10)"
   ]
  },
  {
   "cell_type": "markdown",
   "metadata": {},
   "source": [
    "**2018**"
   ]
  },
  {
   "cell_type": "code",
   "execution_count": 37,
   "metadata": {},
   "outputs": [
    {
     "data": {
      "text/html": [
       "<div>\n",
       "<style scoped>\n",
       "    .dataframe tbody tr th:only-of-type {\n",
       "        vertical-align: middle;\n",
       "    }\n",
       "\n",
       "    .dataframe tbody tr th {\n",
       "        vertical-align: top;\n",
       "    }\n",
       "\n",
       "    .dataframe thead th {\n",
       "        text-align: right;\n",
       "    }\n",
       "</style>\n",
       "<table border=\"1\" class=\"dataframe\">\n",
       "  <thead>\n",
       "    <tr style=\"text-align: right;\">\n",
       "      <th></th>\n",
       "      <th>Absolute</th>\n",
       "      <th>Relative (%)</th>\n",
       "    </tr>\n",
       "  </thead>\n",
       "  <tbody>\n",
       "    <tr>\n",
       "      <th>United States of America</th>\n",
       "      <td>5160</td>\n",
       "      <td>37.8</td>\n",
       "    </tr>\n",
       "    <tr>\n",
       "      <th>India</th>\n",
       "      <td>1916</td>\n",
       "      <td>14.0</td>\n",
       "    </tr>\n",
       "    <tr>\n",
       "      <th>United Kingdom</th>\n",
       "      <td>556</td>\n",
       "      <td>4.1</td>\n",
       "    </tr>\n",
       "    <tr>\n",
       "      <th>Canada</th>\n",
       "      <td>407</td>\n",
       "      <td>3.0</td>\n",
       "    </tr>\n",
       "    <tr>\n",
       "      <th>Nigeria</th>\n",
       "      <td>319</td>\n",
       "      <td>2.3</td>\n",
       "    </tr>\n",
       "    <tr>\n",
       "      <th>Brazil</th>\n",
       "      <td>282</td>\n",
       "      <td>2.1</td>\n",
       "    </tr>\n",
       "    <tr>\n",
       "      <th>Germany</th>\n",
       "      <td>260</td>\n",
       "      <td>1.9</td>\n",
       "    </tr>\n",
       "    <tr>\n",
       "      <th>Russia</th>\n",
       "      <td>249</td>\n",
       "      <td>1.8</td>\n",
       "    </tr>\n",
       "    <tr>\n",
       "      <th>Australia</th>\n",
       "      <td>184</td>\n",
       "      <td>1.3</td>\n",
       "    </tr>\n",
       "    <tr>\n",
       "      <th>Spain</th>\n",
       "      <td>170</td>\n",
       "      <td>1.2</td>\n",
       "    </tr>\n",
       "  </tbody>\n",
       "</table>\n",
       "</div>"
      ],
      "text/plain": [
       "                          Absolute  Relative (%)\n",
       "United States of America      5160          37.8\n",
       "India                         1916          14.0\n",
       "United Kingdom                 556           4.1\n",
       "Canada                         407           3.0\n",
       "Nigeria                        319           2.3\n",
       "Brazil                         282           2.1\n",
       "Germany                        260           1.9\n",
       "Russia                         249           1.8\n",
       "Australia                      184           1.3\n",
       "Spain                          170           1.2"
      ]
     },
     "execution_count": 37,
     "metadata": {},
     "output_type": "execute_result"
    }
   ],
   "source": [
    "# 'country_live' instead of 'CountryLive' in the 2018 data set.\n",
    "\n",
    "country_res_freq_abs_2018 = survey_2018_2['country_live'].value_counts(\n",
    "    ).sort_values(ascending=False)\n",
    "\n",
    "country_res_freq_rel_2018 = survey_2018_2['country_live'].value_counts(\n",
    "    normalize=True).sort_values(ascending=False).round(3)*100\n",
    "\n",
    "\n",
    "country_res_freq_table_2018 = pd.DataFrame({'Absolute': country_res_freq_abs_2018,\n",
    "                                       'Relative (%)': country_res_freq_rel_2018})\n",
    "country_res_freq_table_2018.head(10)"
   ]
  },
  {
   "cell_type": "markdown",
   "metadata": {},
   "source": [
    "From the frequency tables above for 2016 and 2018, we can see that the top 4 is identical for all three years (including 2017), thus we can compare the values side-by-side to have a better perspective of year-by-year changes."
   ]
  },
  {
   "cell_type": "markdown",
   "metadata": {},
   "source": [
    "### Which markets are growing and how do they compare with the evolution of the business sector?\n",
    "\n",
    "One of the advantages of having the same survey for several years, is that we can compare directly the year-over-year changes in the variables. In this case, we are interested in knowing if the e-learning sector is growing as a whole and which markets may be the main drivers behind that growth. We assume that the number of respondents in the survey with at least one job desire as a proxy of the e-learning sector. "
   ]
  },
  {
   "cell_type": "code",
   "execution_count": 38,
   "metadata": {},
   "outputs": [],
   "source": [
    "# Copying 2017 results into new identifier.\n",
    "country_res_freq_table_2017 = country_res_freq_table.copy()\n",
    "\n",
    "countries = ['United States of America', 'India', 'United Kingdom', 'Canada']\n",
    "\n",
    "top_4_by_country = pd.DataFrame({'2016':country_res_freq_table_2016.loc[countries, 'Relative (%)'],\n",
    "                                '2017':country_res_freq_table_2017.loc[countries, 'Relative (%)'],\n",
    "                                '2018':country_res_freq_table_2018.loc[countries, 'Relative (%)']})"
   ]
  },
  {
   "cell_type": "code",
   "execution_count": 39,
   "metadata": {},
   "outputs": [
    {
     "data": {
      "text/html": [
       "<div>\n",
       "<style scoped>\n",
       "    .dataframe tbody tr th:only-of-type {\n",
       "        vertical-align: middle;\n",
       "    }\n",
       "\n",
       "    .dataframe tbody tr th {\n",
       "        vertical-align: top;\n",
       "    }\n",
       "\n",
       "    .dataframe thead th {\n",
       "        text-align: right;\n",
       "    }\n",
       "</style>\n",
       "<table border=\"1\" class=\"dataframe\">\n",
       "  <thead>\n",
       "    <tr style=\"text-align: right;\">\n",
       "      <th></th>\n",
       "      <th>2016</th>\n",
       "      <th>2017</th>\n",
       "      <th>2018</th>\n",
       "    </tr>\n",
       "  </thead>\n",
       "  <tbody>\n",
       "    <tr>\n",
       "      <th>United States of America</th>\n",
       "      <td>52.5</td>\n",
       "      <td>45.7</td>\n",
       "      <td>37.8</td>\n",
       "    </tr>\n",
       "    <tr>\n",
       "      <th>India</th>\n",
       "      <td>6.7</td>\n",
       "      <td>7.7</td>\n",
       "      <td>14.0</td>\n",
       "    </tr>\n",
       "    <tr>\n",
       "      <th>United Kingdom</th>\n",
       "      <td>4.3</td>\n",
       "      <td>4.6</td>\n",
       "      <td>4.1</td>\n",
       "    </tr>\n",
       "    <tr>\n",
       "      <th>Canada</th>\n",
       "      <td>3.9</td>\n",
       "      <td>3.8</td>\n",
       "      <td>3.0</td>\n",
       "    </tr>\n",
       "  </tbody>\n",
       "</table>\n",
       "</div>"
      ],
      "text/plain": [
       "                          2016  2017  2018\n",
       "United States of America  52.5  45.7  37.8\n",
       "India                      6.7   7.7  14.0\n",
       "United Kingdom             4.3   4.6   4.1\n",
       "Canada                     3.9   3.8   3.0"
      ]
     },
     "execution_count": 39,
     "metadata": {},
     "output_type": "execute_result"
    }
   ],
   "source": [
    "top_4_by_country"
   ]
  },
  {
   "cell_type": "markdown",
   "metadata": {},
   "source": [
    "Year-over-year percentage change in the number of respondents (with at least one desired job role), for the top 4 countries and all countries."
   ]
  },
  {
   "cell_type": "code",
   "execution_count": 40,
   "metadata": {},
   "outputs": [
    {
     "data": {
      "text/html": [
       "<div>\n",
       "<style scoped>\n",
       "    .dataframe tbody tr th:only-of-type {\n",
       "        vertical-align: middle;\n",
       "    }\n",
       "\n",
       "    .dataframe tbody tr th {\n",
       "        vertical-align: top;\n",
       "    }\n",
       "\n",
       "    .dataframe thead th {\n",
       "        text-align: right;\n",
       "    }\n",
       "</style>\n",
       "<table border=\"1\" class=\"dataframe\">\n",
       "  <thead>\n",
       "    <tr style=\"text-align: right;\">\n",
       "      <th></th>\n",
       "      <th>2016-2017</th>\n",
       "      <th>2017-2018</th>\n",
       "    </tr>\n",
       "  </thead>\n",
       "  <tbody>\n",
       "    <tr>\n",
       "      <th>United States of America</th>\n",
       "      <td>-12.95</td>\n",
       "      <td>-17.29</td>\n",
       "    </tr>\n",
       "    <tr>\n",
       "      <th>India</th>\n",
       "      <td>14.93</td>\n",
       "      <td>81.82</td>\n",
       "    </tr>\n",
       "    <tr>\n",
       "      <th>United Kingdom</th>\n",
       "      <td>6.98</td>\n",
       "      <td>-10.87</td>\n",
       "    </tr>\n",
       "    <tr>\n",
       "      <th>Canada</th>\n",
       "      <td>-2.56</td>\n",
       "      <td>-21.05</td>\n",
       "    </tr>\n",
       "    <tr>\n",
       "      <th>All countries</th>\n",
       "      <td>20.62</td>\n",
       "      <td>99.81</td>\n",
       "    </tr>\n",
       "  </tbody>\n",
       "</table>\n",
       "</div>"
      ],
      "text/plain": [
       "                          2016-2017  2017-2018\n",
       "United States of America     -12.95     -17.29\n",
       "India                         14.93      81.82\n",
       "United Kingdom                 6.98     -10.87\n",
       "Canada                        -2.56     -21.05\n",
       "All countries                 20.62      99.81"
      ]
     },
     "execution_count": 40,
     "metadata": {},
     "output_type": "execute_result"
    }
   ],
   "source": [
    "change_2016_17 = ((top_4_by_country['2017'] - top_4_by_country['2016']) / top_4_by_country['2016'])*100\n",
    "\n",
    "change_2017_18 = ((top_4_by_country['2018'] - top_4_by_country['2017']) / top_4_by_country['2017'])*100\n",
    "\n",
    "change_2016_17 = change_2016_17.rename('2016-2017').round(2)\n",
    "\n",
    "change_2017_18 = change_2017_18.rename('2017-2018').round(2)\n",
    "\n",
    "yearly_change = pd.concat([change_2016_17, change_2017_18], axis=1)\n",
    "\n",
    "\n",
    "\n",
    "# Appending the YoY change in all countries to the df `yearly_change`.\n",
    "change_2016_17_total = (\n",
    "    (country_res_freq_table_2017['Absolute'].sum() - country_res_freq_table_2016['Absolute'].sum()) / country_res_freq_table_2016['Absolute'].sum()\n",
    "                        )*100\n",
    "\n",
    "change_2017_18_total = (\n",
    "    (country_res_freq_table_2018['Absolute'].sum() - country_res_freq_table_2017['Absolute'].sum()) / country_res_freq_table_2017['Absolute'].sum()\n",
    "                        )*100\n",
    "\n",
    "change_2016_17_total = change_2016_17_total.round(2)\n",
    "\n",
    "change_2017_18_total = change_2017_18_total.round(2)\n",
    "\n",
    "changes_total_countries = pd.DataFrame({'2016-2017':change_2016_17_total,\n",
    "                                        '2017-2018':change_2017_18_total},\n",
    "                                        index=['All countries'])\n",
    "\n",
    "yearly_change = yearly_change.append(changes_total_countries)\n",
    "\n",
    "yearly_change"
   ]
  },
  {
   "cell_type": "markdown",
   "metadata": {},
   "source": [
    "Total number of respondents (rows) by year/survey:"
   ]
  },
  {
   "cell_type": "code",
   "execution_count": 41,
   "metadata": {},
   "outputs": [
    {
     "data": {
      "text/html": [
       "<div>\n",
       "<style scoped>\n",
       "    .dataframe tbody tr th:only-of-type {\n",
       "        vertical-align: middle;\n",
       "    }\n",
       "\n",
       "    .dataframe tbody tr th {\n",
       "        vertical-align: top;\n",
       "    }\n",
       "\n",
       "    .dataframe thead th {\n",
       "        text-align: right;\n",
       "    }\n",
       "</style>\n",
       "<table border=\"1\" class=\"dataframe\">\n",
       "  <thead>\n",
       "    <tr style=\"text-align: right;\">\n",
       "      <th></th>\n",
       "      <th>2016</th>\n",
       "      <th>2017</th>\n",
       "      <th>2018</th>\n",
       "    </tr>\n",
       "  </thead>\n",
       "  <tbody>\n",
       "    <tr>\n",
       "      <th>No. Students</th>\n",
       "      <td>15620</td>\n",
       "      <td>18175</td>\n",
       "      <td>28397</td>\n",
       "    </tr>\n",
       "  </tbody>\n",
       "</table>\n",
       "</div>"
      ],
      "text/plain": [
       "               2016   2017   2018\n",
       "No. Students  15620  18175  28397"
      ]
     },
     "execution_count": 41,
     "metadata": {},
     "output_type": "execute_result"
    }
   ],
   "source": [
    "number_respondents_total = [survey_2016.shape[0],\n",
    "                            survey_2017.shape[0],\n",
    "                            survey_2018.shape[0]]\n",
    "\n",
    "pd.DataFrame({'2016': number_respondents_total[0],\n",
    "              '2017': number_respondents_total[1],\n",
    "              '2018': number_respondents_total[2]},\n",
    "             index=['No. Students'])"
   ]
  },
  {
   "cell_type": "markdown",
   "metadata": {},
   "source": [
    "Year-over-year percentage change of total number of respondents:"
   ]
  },
  {
   "cell_type": "code",
   "execution_count": 42,
   "metadata": {},
   "outputs": [
    {
     "data": {
      "text/html": [
       "<div>\n",
       "<style scoped>\n",
       "    .dataframe tbody tr th:only-of-type {\n",
       "        vertical-align: middle;\n",
       "    }\n",
       "\n",
       "    .dataframe tbody tr th {\n",
       "        vertical-align: top;\n",
       "    }\n",
       "\n",
       "    .dataframe thead th {\n",
       "        text-align: right;\n",
       "    }\n",
       "</style>\n",
       "<table border=\"1\" class=\"dataframe\">\n",
       "  <thead>\n",
       "    <tr style=\"text-align: right;\">\n",
       "      <th></th>\n",
       "      <th>2016-17</th>\n",
       "      <th>2017-18</th>\n",
       "    </tr>\n",
       "  </thead>\n",
       "  <tbody>\n",
       "    <tr>\n",
       "      <th>YoY % change</th>\n",
       "      <td>16.36</td>\n",
       "      <td>56.24</td>\n",
       "    </tr>\n",
       "  </tbody>\n",
       "</table>\n",
       "</div>"
      ],
      "text/plain": [
       "              2016-17  2017-18\n",
       "YoY % change    16.36    56.24"
      ]
     },
     "execution_count": 42,
     "metadata": {},
     "output_type": "execute_result"
    }
   ],
   "source": [
    "change_total_respondents_2016_17 = round(\n",
    "    ((survey_2017.shape[0] - survey_2016.shape[0]) / survey_2016.shape[0]) * 100, 2)\n",
    "\n",
    "change_total_respondents_2017_18 = round(\n",
    "    ((survey_2018.shape[0] - survey_2017.shape[0]) / survey_2017.shape[0]) * 100, 2)\n",
    "\n",
    "pd.DataFrame({'2016-17': change_total_respondents_2016_17,\n",
    "              '2017-18': change_total_respondents_2017_18},\n",
    "             index=['YoY % change'])"
   ]
  },
  {
   "cell_type": "markdown",
   "metadata": {},
   "source": [
    "In general, when looking to the table that shows the year-over-year percentage change in the number of students in the top 4 most represented countries, while the rest of the countries has less students responding to the survey, India grows its base substantially. For example, the number of respondents living in India increased by almost 82% from 2017 to 2018. This is an indication of a potential growing market, because we can also assess that while the total number of respondents increased substantially over the years, the sub-sample of respondents with at least one desired job role, our population of interest, also increased. The idea behind this reasoning is this: more students answering the survey provides the perception that the market in the e-learning sector is growing in potential, and at the same time the Indian market seems to be growing at a higher rate, contributing more than the other countries to that global market growth."
   ]
  },
  {
   "cell_type": "markdown",
   "metadata": {},
   "source": [
    "### Assessing the willingness to pay of an average e-learner - replicating the analysis in 2018.\n",
    "\n",
    "Since 2018 is the most recent data, we go over the process of computing the average monthly expenditure and compare it with the 2017 values, in order to assess whether the average student is spending more or less than before and which country has the highest number of students with the highest willingness to pay.\n",
    "\n",
    "`learn_monthly_expend` gives out how much each student spends per month on e-learning; here by designated in short by 'monthly expenditure'."
   ]
  },
  {
   "cell_type": "code",
   "execution_count": 43,
   "metadata": {},
   "outputs": [],
   "source": [
    "# Support series: replace the '0's by '1's.\n",
    "# 'months_programming' for 2018 data set instead of 'MonthsProgramming' (2017).\n",
    "if_zero_2018 = survey_2018_2['months_programming'] == 0\n",
    "\n",
    "moded_monthsprogramming_2018 = survey_2018_2['months_programming'].copy().mask(if_zero, 1)\n",
    "\n",
    "learn_monthly_expend_2018 = survey_2018_2['months_programming'] / moded_monthsprogramming_2018\n",
    "\n",
    "learn_monthly_expend_2018 = learn_monthly_expend_2018.rename('learn_monthly_expend')\n",
    "\n",
    "survey_2018_2 = survey_2018_2.join(learn_monthly_expend_2018)\n",
    "\n"
   ]
  },
  {
   "cell_type": "markdown",
   "metadata": {},
   "source": [
    "New DataFrame `survey_2018_3`: excluding rows where `learn_monthly_expend` is null:"
   ]
  },
  {
   "cell_type": "code",
   "execution_count": 45,
   "metadata": {},
   "outputs": [],
   "source": [
    "survey_2018_3 = survey_2018_2[survey_2018_2['learn_monthly_expend'].notnull()]"
   ]
  },
  {
   "cell_type": "markdown",
   "metadata": {},
   "source": [
    "#### Analyzing the average monthly learning expenditure by country:"
   ]
  },
  {
   "cell_type": "code",
   "execution_count": 48,
   "metadata": {},
   "outputs": [
    {
     "data": {
      "text/html": [
       "<div>\n",
       "<style scoped>\n",
       "    .dataframe tbody tr th:only-of-type {\n",
       "        vertical-align: middle;\n",
       "    }\n",
       "\n",
       "    .dataframe tbody tr th {\n",
       "        vertical-align: top;\n",
       "    }\n",
       "\n",
       "    .dataframe thead th {\n",
       "        text-align: right;\n",
       "    }\n",
       "</style>\n",
       "<table border=\"1\" class=\"dataframe\">\n",
       "  <thead>\n",
       "    <tr style=\"text-align: right;\">\n",
       "      <th></th>\n",
       "      <th>USA</th>\n",
       "      <th>India</th>\n",
       "      <th>UK</th>\n",
       "      <th>Canada</th>\n",
       "    </tr>\n",
       "  </thead>\n",
       "  <tbody>\n",
       "    <tr>\n",
       "      <th>count</th>\n",
       "      <td>4723.00</td>\n",
       "      <td>1863.00</td>\n",
       "      <td>519.00</td>\n",
       "      <td>376.00</td>\n",
       "    </tr>\n",
       "    <tr>\n",
       "      <th>mean</th>\n",
       "      <td>6.69</td>\n",
       "      <td>7.63</td>\n",
       "      <td>6.20</td>\n",
       "      <td>6.74</td>\n",
       "    </tr>\n",
       "    <tr>\n",
       "      <th>std</th>\n",
       "      <td>18.29</td>\n",
       "      <td>12.65</td>\n",
       "      <td>13.37</td>\n",
       "      <td>13.22</td>\n",
       "    </tr>\n",
       "    <tr>\n",
       "      <th>min</th>\n",
       "      <td>0.00</td>\n",
       "      <td>0.00</td>\n",
       "      <td>0.00</td>\n",
       "      <td>0.00</td>\n",
       "    </tr>\n",
       "    <tr>\n",
       "      <th>25%</th>\n",
       "      <td>1.00</td>\n",
       "      <td>1.00</td>\n",
       "      <td>1.00</td>\n",
       "      <td>1.00</td>\n",
       "    </tr>\n",
       "    <tr>\n",
       "      <th>50%</th>\n",
       "      <td>1.00</td>\n",
       "      <td>1.00</td>\n",
       "      <td>1.00</td>\n",
       "      <td>1.00</td>\n",
       "    </tr>\n",
       "    <tr>\n",
       "      <th>75%</th>\n",
       "      <td>6.00</td>\n",
       "      <td>10.00</td>\n",
       "      <td>6.00</td>\n",
       "      <td>6.00</td>\n",
       "    </tr>\n",
       "    <tr>\n",
       "      <th>max</th>\n",
       "      <td>420.00</td>\n",
       "      <td>120.00</td>\n",
       "      <td>120.00</td>\n",
       "      <td>120.00</td>\n",
       "    </tr>\n",
       "  </tbody>\n",
       "</table>\n",
       "</div>"
      ],
      "text/plain": [
       "           USA    India      UK  Canada\n",
       "count  4723.00  1863.00  519.00  376.00\n",
       "mean      6.69     7.63    6.20    6.74\n",
       "std      18.29    12.65   13.37   13.22\n",
       "min       0.00     0.00    0.00    0.00\n",
       "25%       1.00     1.00    1.00    1.00\n",
       "50%       1.00     1.00    1.00    1.00\n",
       "75%       6.00    10.00    6.00    6.00\n",
       "max     420.00   120.00  120.00  120.00"
      ]
     },
     "execution_count": 48,
     "metadata": {},
     "output_type": "execute_result"
    }
   ],
   "source": [
    "usa_2018 = survey_2018_3.copy(0)[survey_2018_3['country_live'] == 'United States of America']\n",
    "india_2018 = survey_2018_3.copy(0)[survey_2018_3['country_live'] == 'India']\n",
    "uk_2018 = survey_2018_3.copy(0)[survey_2018_3['country_live'] == 'United Kingdom']\n",
    "canada_2018 = survey_2018_3.copy(0)[survey_2018_3['country_live'] == 'Canada']\n",
    "\n",
    "\n",
    "usa_expend_2018 = usa_2018['learn_monthly_expend']\n",
    "india_expend_2018 = india_2018['learn_monthly_expend']\n",
    "uk_expend_2018 = uk_2018['learn_monthly_expend']\n",
    "canada_expend_2018 = canada_2018['learn_monthly_expend']\n",
    "\n",
    "\n",
    "country_expend_descrip_2018 = pd.DataFrame({'USA':usa_expend_2018.describe(),\n",
    "                                       'India':india_expend_2018.describe(),\n",
    "                                       'UK':uk_expend_2018.describe(),\n",
    "                                       'Canada':canada_expend_2018.describe()})\n",
    "country_expend_descrip_2018.round(2)"
   ]
  },
  {
   "cell_type": "markdown",
   "metadata": {},
   "source": [
    "As we can observe, in table above, the maximum monthly expenditure values are much more reasonable than the ones in the previous year (2017), both at 120 USD in India, UK and Canada. This entails that we can proceed with the analysis without treating the series for extreme outliers. Moreover,  India seems to be the more fertile ground for a new newcomer company in e-learning marketing: not only has substantially more students than UK or Canada (1863 vs. 519 and 376 respectively), but also has the highest mean and upper quartile of the three aforementioned markets. Despite of the US retaining the most favorable overall scenario, it presents an inferior mean monthly expenditure compared to India, which is the highest of the panel.\n",
    "\n",
    "#### Analyzing the purchase power of students in the four countries for two thresholds, and comparing with 2017 results.\n",
    "\n",
    "- Students that are already spending monthly the same as the course our company will be offering: \\\\$59.\n",
    "\n",
    "\n",
    "- Students that are currently paying also monthly, at least (aprox.) half of the previous value: \\\\$29"
   ]
  },
  {
   "cell_type": "markdown",
   "metadata": {},
   "source": [
    "For `$59`:"
   ]
  },
  {
   "cell_type": "code",
   "execution_count": 49,
   "metadata": {},
   "outputs": [
    {
     "data": {
      "text/html": [
       "<div>\n",
       "<style scoped>\n",
       "    .dataframe tbody tr th:only-of-type {\n",
       "        vertical-align: middle;\n",
       "    }\n",
       "\n",
       "    .dataframe tbody tr th {\n",
       "        vertical-align: top;\n",
       "    }\n",
       "\n",
       "    .dataframe thead th {\n",
       "        text-align: right;\n",
       "    }\n",
       "</style>\n",
       "<table border=\"1\" class=\"dataframe\">\n",
       "  <thead>\n",
       "    <tr style=\"text-align: right;\">\n",
       "      <th></th>\n",
       "      <th>2017 - Trim 3%</th>\n",
       "      <th>2017 - Top whisk. rem.</th>\n",
       "      <th>2018 - original</th>\n",
       "    </tr>\n",
       "  </thead>\n",
       "  <tbody>\n",
       "    <tr>\n",
       "      <th>USA</th>\n",
       "      <td>575</td>\n",
       "      <td>199</td>\n",
       "      <td>64</td>\n",
       "    </tr>\n",
       "    <tr>\n",
       "      <th>India</th>\n",
       "      <td>60</td>\n",
       "      <td>0</td>\n",
       "      <td>29</td>\n",
       "    </tr>\n",
       "    <tr>\n",
       "      <th>UK</th>\n",
       "      <td>34</td>\n",
       "      <td>0</td>\n",
       "      <td>10</td>\n",
       "    </tr>\n",
       "    <tr>\n",
       "      <th>Canada</th>\n",
       "      <td>32</td>\n",
       "      <td>9</td>\n",
       "      <td>6</td>\n",
       "    </tr>\n",
       "  </tbody>\n",
       "</table>\n",
       "</div>"
      ],
      "text/plain": [
       "        2017 - Trim 3%  2017 - Top whisk. rem.  2018 - original\n",
       "USA                575                     199               64\n",
       "India               60                       0               29\n",
       "UK                  34                       0               10\n",
       "Canada              32                       9                6"
      ]
     },
     "execution_count": 49,
     "metadata": {},
     "output_type": "execute_result"
    }
   ],
   "source": [
    "usa_over59_2018 = usa_expend_2018[usa_expend_2018 >= 59]\n",
    "india_over59_2018 = india_expend_2018[india_expend_2018 >= 59]\n",
    "uk_over59_2018 = uk_expend_2018[uk_expend_2018 >= 59]\n",
    "canada_over59_2018 = canada_expend_2018[canada_expend_2018 >= 59]\n",
    "\n",
    "usa_over59_count_2018 = usa_over59_2018.size\n",
    "india_over59_count_2018 = india_over59_2018.size\n",
    "uk_over59_count_2018 = uk_over59_2018.size\n",
    "canada_over59_count_2018 = canada_over59_2018.size\n",
    "\n",
    "over_equal_59_2018 = pd.Series({'USA': usa_over59_count_2018,\n",
    "                                'India': india_over59_count_2018,\n",
    "                                'UK': uk_over59_count_2018,\n",
    "                                'Canada': canada_over59_count_2018, }).sort_values(ascending=False)\n",
    "\n",
    "\n",
    "# New identifiers for 2017 values\n",
    "over_equal_29_2017_scenario_1 = over_equal_29_1.copy()\n",
    "over_equal_59_2017_scenario_1 = over_equal_59_1.copy()\n",
    "over_equal_29_2017_scenario_2 = over_equal_29_2.copy()\n",
    "over_equal_59_2017_scenario_2 = over_equal_59_2.copy()\n",
    "\n",
    "\n",
    "willing_to_spend_comparison_59 = pd.DataFrame({'2017 - Trim 3%': over_equal_59_2017_scenario_1,\n",
    "                                            '2017 - Top whisk. rem.': over_equal_59_2017_scenario_2,\n",
    "                                            '2018 - original': over_equal_59_2018}).sort_values('2018 - original', ascending=False)\n",
    "\n",
    "willing_to_spend_comparison_59"
   ]
  },
  {
   "cell_type": "markdown",
   "metadata": {},
   "source": [
    "For `$29`:"
   ]
  },
  {
   "cell_type": "code",
   "execution_count": 50,
   "metadata": {},
   "outputs": [
    {
     "data": {
      "text/html": [
       "<div>\n",
       "<style scoped>\n",
       "    .dataframe tbody tr th:only-of-type {\n",
       "        vertical-align: middle;\n",
       "    }\n",
       "\n",
       "    .dataframe tbody tr th {\n",
       "        vertical-align: top;\n",
       "    }\n",
       "\n",
       "    .dataframe thead th {\n",
       "        text-align: right;\n",
       "    }\n",
       "</style>\n",
       "<table border=\"1\" class=\"dataframe\">\n",
       "  <thead>\n",
       "    <tr style=\"text-align: right;\">\n",
       "      <th></th>\n",
       "      <th>2017 - Trim 3%</th>\n",
       "      <th>2017 - Top whisk. rem.</th>\n",
       "      <th>2018 - original</th>\n",
       "    </tr>\n",
       "  </thead>\n",
       "  <tbody>\n",
       "    <tr>\n",
       "      <th>USA</th>\n",
       "      <td>788</td>\n",
       "      <td>412</td>\n",
       "      <td>243</td>\n",
       "    </tr>\n",
       "    <tr>\n",
       "      <th>India</th>\n",
       "      <td>78</td>\n",
       "      <td>1</td>\n",
       "      <td>122</td>\n",
       "    </tr>\n",
       "    <tr>\n",
       "      <th>UK</th>\n",
       "      <td>54</td>\n",
       "      <td>18</td>\n",
       "      <td>26</td>\n",
       "    </tr>\n",
       "    <tr>\n",
       "      <th>Canada</th>\n",
       "      <td>46</td>\n",
       "      <td>23</td>\n",
       "      <td>19</td>\n",
       "    </tr>\n",
       "  </tbody>\n",
       "</table>\n",
       "</div>"
      ],
      "text/plain": [
       "        2017 - Trim 3%  2017 - Top whisk. rem.  2018 - original\n",
       "USA                788                     412              243\n",
       "India               78                       1              122\n",
       "UK                  54                      18               26\n",
       "Canada              46                      23               19"
      ]
     },
     "execution_count": 50,
     "metadata": {},
     "output_type": "execute_result"
    }
   ],
   "source": [
    "usa_over29_2018 = usa_expend_2018[usa_expend_2018 >= 29]\n",
    "india_over29_2018 = india_expend_2018[india_expend_2018 >= 29]\n",
    "uk_over29_2018 = uk_expend_2018[uk_expend_2018 >= 29]\n",
    "canada_over29_2018 = canada_expend_2018[canada_expend_2018 >= 29]\n",
    "\n",
    "usa_over29_count_2018 = usa_over29_2018.size\n",
    "india_over29_count_2018 = india_over29_2018.size\n",
    "uk_over29_count_2018 = uk_over29_2018.size\n",
    "canada_over29_count_2018 = canada_over29_2018.size\n",
    "\n",
    "over_equal_29_2018 = pd.Series({'USA': usa_over29_count_2018,\n",
    "                          'India': india_over29_count_2018,\n",
    "                          'UK': uk_over29_count_2018,\n",
    "                          'Canada': canada_over29_count_2018, }).sort_values(ascending=False)\n",
    "\n",
    "\n",
    "willing_to_spend_comparison_29 = pd.DataFrame({'2017 - Trim 3%': over_equal_29_2017_scenario_1,\n",
    "                                            '2017 - Top whisk. rem.': over_equal_29_2017_scenario_2,\n",
    "                                            '2018 - original': over_equal_29_2018}).sort_values('2018 - original', ascending=False)\n",
    "\n",
    "willing_to_spend_comparison_29"
   ]
  },
  {
   "cell_type": "markdown",
   "metadata": {},
   "source": [
    "Considering 2018, India appears in second place as the country with more students that are currently spending per month \\\\$29 or more and \\\\$59 or more, in both cases, by a significant margin when compared with UK and Canada. This is a contrast with the the other countries, which regardless the type of outlier trimming done for 2017 values, in most cases see the level of potential costumers decrease in 2018, either if the threshold is set at \\\\$29 or \\\\$59. "
   ]
  },
  {
   "cell_type": "markdown",
   "metadata": {},
   "source": [
    "## Concluding remarks on the choice to invest/advertise in a second best market.\n",
    "---\n",
    "\n",
    "The analysis proves that India might be the next be thing in terms of e-learning market. It's considerably growing, on a year by year basis, the number of people interested in learning and follow a career in coding. Indian students also seem to be increasing their spending as an investment on learning, when compared with Canada and U.K.. Thus, according to the evidence gathered throughout the entire analysis, India stands out as the second best e-learning market to advertise in, after the US."
   ]
  },
  {
   "cell_type": "markdown",
   "metadata": {},
   "source": [
    "## Annex\n",
    "---"
   ]
  },
  {
   "cell_type": "markdown",
   "metadata": {},
   "source": [
    "Monthly Learning Expenditures (2017): mode(s)"
   ]
  },
  {
   "cell_type": "code",
   "execution_count": 51,
   "metadata": {},
   "outputs": [
    {
     "data": {
      "text/plain": [
       "CountryLive\n",
       "United States of America    0.0\n",
       "India                       0.0\n",
       "United Kingdom              0.0\n",
       "Canada                      0.0\n",
       "Name: learn_monthly_expend, dtype: float64"
      ]
     },
     "execution_count": 51,
     "metadata": {},
     "output_type": "execute_result"
    }
   ],
   "source": [
    "by_country = survey_3[['CountryLive', 'learn_monthly_expend']].groupby(\n",
    "    by='CountryLive')\n",
    "\n",
    "import scipy\n",
    "\n",
    "# we specify `mode(x)[0]` because we are only interested\n",
    "# in the first value, which is the mode itself.\n",
    "country_mode = by_country.agg(lambda x: scipy.stats.mode(x)[0]).round(2)\n",
    "\n",
    "country_mode.loc[['United States of America',\n",
    "                  'India',\n",
    "                  'United Kingdom',\n",
    "                  'Canada'], 'learn_monthly_expend']"
   ]
  },
  {
   "cell_type": "markdown",
   "metadata": {},
   "source": [
    "Exploring the columns available:"
   ]
  },
  {
   "cell_type": "markdown",
   "metadata": {},
   "source": [
    "### 2016"
   ]
  },
  {
   "cell_type": "code",
   "execution_count": 52,
   "metadata": {},
   "outputs": [
    {
     "name": "stdout",
     "output_type": "stream",
     "text": [
      "<class 'pandas.core.frame.DataFrame'>\n",
      "RangeIndex: 15620 entries, 0 to 15619\n",
      "Data columns (total 113 columns):\n",
      " #    Column                         Dtype  \n",
      "---   ------                         -----  \n",
      " 0    Age                            float64\n",
      " 1    AttendedBootcamp               float64\n",
      " 2    BootcampFinish                 float64\n",
      " 3    BootcampFullJobAfter           float64\n",
      " 4    BootcampLoanYesNo              float64\n",
      " 5    BootcampMonthsAgo              float64\n",
      " 6    BootcampName                   object \n",
      " 7    BootcampPostSalary             float64\n",
      " 8    BootcampRecommend              float64\n",
      " 9    ChildrenNumber                 float64\n",
      " 10   CityPopulation                 object \n",
      " 11   CodeEventBootcamp              float64\n",
      " 12   CodeEventCoffee                float64\n",
      " 13   CodeEventConferences           float64\n",
      " 14   CodeEventDjangoGirls           float64\n",
      " 15   CodeEventGameJam               float64\n",
      " 16   CodeEventGirlDev               float64\n",
      " 17   CodeEventHackathons            float64\n",
      " 18   CodeEventMeetup                float64\n",
      " 19   CodeEventNodeSchool            float64\n",
      " 20   CodeEventNone                  float64\n",
      " 21   CodeEventOther                 object \n",
      " 22   CodeEventRailsBridge           float64\n",
      " 23   CodeEventRailsGirls            float64\n",
      " 24   CodeEventStartUpWknd           float64\n",
      " 25   CodeEventWomenCode             float64\n",
      " 26   CodeEventWorkshop              float64\n",
      " 27   CommuteTime                    float64\n",
      " 28   CountryCitizen                 object \n",
      " 29   CountryLive                    object \n",
      " 30   EmploymentField                object \n",
      " 31   EmploymentFieldOther           object \n",
      " 32   EmploymentStatus               object \n",
      " 33   EmploymentStatusOther          object \n",
      " 34   ExpectedEarning                float64\n",
      " 35   FinanciallySupporting          float64\n",
      " 36   Gender                         object \n",
      " 37   HasChildren                    float64\n",
      " 38   HasDebt                        float64\n",
      " 39   HasFinancialDependents         float64\n",
      " 40   HasHighSpdInternet             float64\n",
      " 41   HasHomeMortgage                float64\n",
      " 42   HasServedInMilitary            float64\n",
      " 43   HasStudentDebt                 float64\n",
      " 44   HomeMortgageOwe                float64\n",
      " 45   HoursLearning                  float64\n",
      " 46   ID.x                           object \n",
      " 47   ID.y                           object \n",
      " 48   Income                         float64\n",
      " 49   IsEthnicMinority               float64\n",
      " 50   IsReceiveDisabilitiesBenefits  float64\n",
      " 51   IsSoftwareDev                  float64\n",
      " 52   IsUnderEmployed                float64\n",
      " 53   JobApplyWhen                   object \n",
      " 54   JobPref                        object \n",
      " 55   JobRelocateYesNo               float64\n",
      " 56   JobRoleInterest                object \n",
      " 57   JobRoleInterestOther           object \n",
      " 58   JobWherePref                   object \n",
      " 59   LanguageAtHome                 object \n",
      " 60   MaritalStatus                  object \n",
      " 61   MoneyForLearning               float64\n",
      " 62   MonthsProgramming              float64\n",
      " 63   NetworkID                      object \n",
      " 64   Part1EndTime                   object \n",
      " 65   Part1StartTime                 object \n",
      " 66   Part2EndTime                   object \n",
      " 67   Part2StartTime                 object \n",
      " 68   PodcastChangeLog               float64\n",
      " 69   PodcastCodeNewbie              float64\n",
      " 70   PodcastCodingBlocks            float64\n",
      " 71   PodcastDeveloperTea            float64\n",
      " 72   PodcastDotNetRocks             float64\n",
      " 73   PodcastHanselminutes           float64\n",
      " 74   PodcastJsAir                   float64\n",
      " 75   PodcastJSJabber                float64\n",
      " 76   PodcastNone                    float64\n",
      " 77   PodcastOther                   object \n",
      " 78   PodcastProgrammingThrowDown    float64\n",
      " 79   PodcastRubyRogues              float64\n",
      " 80   PodcastSEDaily                 float64\n",
      " 81   PodcastShopTalk                float64\n",
      " 82   PodcastTalkPython              float64\n",
      " 83   PodcastWebAhead                float64\n",
      " 84   ResourceBlogs                  float64\n",
      " 85   ResourceBooks                  float64\n",
      " 86   ResourceCodecademy             float64\n",
      " 87   ResourceCodeWars               float64\n",
      " 88   ResourceCoursera               float64\n",
      " 89   ResourceDevTips                float64\n",
      " 90   ResourceEdX                    float64\n",
      " 91   ResourceEggHead                float64\n",
      " 92   ResourceFCC                    float64\n",
      " 93   ResourceGoogle                 float64\n",
      " 94   ResourceHackerRank             float64\n",
      " 95   ResourceKhanAcademy            float64\n",
      " 96   ResourceLynda                  float64\n",
      " 97   ResourceMDN                    float64\n",
      " 98   ResourceOdinProj               float64\n",
      " 99   ResourceOther                  object \n",
      " 100  ResourcePluralSight            float64\n",
      " 101  ResourceReddit                 float64\n",
      " 102  ResourceSkillCrush             float64\n",
      " 103  ResourceSoloLearn              float64\n",
      " 104  ResourceStackOverflow          float64\n",
      " 105  ResourceTreehouse              float64\n",
      " 106  ResourceUdacity                float64\n",
      " 107  ResourceUdemy                  float64\n",
      " 108  ResourceW3Schools              float64\n",
      " 109  ResourceYouTube                float64\n",
      " 110  SchoolDegree                   object \n",
      " 111  SchoolMajor                    object \n",
      " 112  StudentDebtOwe                 float64\n",
      "dtypes: float64(85), object(28)\n",
      "memory usage: 11.8+ MB\n"
     ]
    }
   ],
   "source": [
    "pd.set_option('display.max_columns', None)\n",
    "\n",
    "survey_2016.info(verbose=True)"
   ]
  },
  {
   "cell_type": "markdown",
   "metadata": {},
   "source": [
    "### 2017"
   ]
  },
  {
   "cell_type": "code",
   "execution_count": 53,
   "metadata": {},
   "outputs": [
    {
     "name": "stdout",
     "output_type": "stream",
     "text": [
      "<class 'pandas.core.frame.DataFrame'>\n",
      "RangeIndex: 18175 entries, 0 to 18174\n",
      "Data columns (total 136 columns):\n",
      " #    Column                         Dtype  \n",
      "---   ------                         -----  \n",
      " 0    Age                            float64\n",
      " 1    AttendedBootcamp               float64\n",
      " 2    BootcampFinish                 float64\n",
      " 3    BootcampLoanYesNo              float64\n",
      " 4    BootcampName                   object \n",
      " 5    BootcampRecommend              float64\n",
      " 6    ChildrenNumber                 float64\n",
      " 7    CityPopulation                 object \n",
      " 8    CodeEventConferences           float64\n",
      " 9    CodeEventDjangoGirls           float64\n",
      " 10   CodeEventFCC                   float64\n",
      " 11   CodeEventGameJam               float64\n",
      " 12   CodeEventGirlDev               float64\n",
      " 13   CodeEventHackathons            float64\n",
      " 14   CodeEventMeetup                float64\n",
      " 15   CodeEventNodeSchool            float64\n",
      " 16   CodeEventNone                  float64\n",
      " 17   CodeEventOther                 object \n",
      " 18   CodeEventRailsBridge           float64\n",
      " 19   CodeEventRailsGirls            float64\n",
      " 20   CodeEventStartUpWknd           float64\n",
      " 21   CodeEventWkdBootcamps          float64\n",
      " 22   CodeEventWomenCode             float64\n",
      " 23   CodeEventWorkshops             float64\n",
      " 24   CommuteTime                    object \n",
      " 25   CountryCitizen                 object \n",
      " 26   CountryLive                    object \n",
      " 27   EmploymentField                object \n",
      " 28   EmploymentFieldOther           object \n",
      " 29   EmploymentStatus               object \n",
      " 30   EmploymentStatusOther          object \n",
      " 31   ExpectedEarning                float64\n",
      " 32   FinanciallySupporting          float64\n",
      " 33   FirstDevJob                    float64\n",
      " 34   Gender                         object \n",
      " 35   GenderOther                    object \n",
      " 36   HasChildren                    float64\n",
      " 37   HasDebt                        float64\n",
      " 38   HasFinancialDependents         float64\n",
      " 39   HasHighSpdInternet             float64\n",
      " 40   HasHomeMortgage                float64\n",
      " 41   HasServedInMilitary            float64\n",
      " 42   HasStudentDebt                 float64\n",
      " 43   HomeMortgageOwe                float64\n",
      " 44   HoursLearning                  float64\n",
      " 45   ID.x                           object \n",
      " 46   ID.y                           object \n",
      " 47   Income                         float64\n",
      " 48   IsEthnicMinority               float64\n",
      " 49   IsReceiveDisabilitiesBenefits  float64\n",
      " 50   IsSoftwareDev                  float64\n",
      " 51   IsUnderEmployed                float64\n",
      " 52   JobApplyWhen                   object \n",
      " 53   JobInterestBackEnd             float64\n",
      " 54   JobInterestDataEngr            float64\n",
      " 55   JobInterestDataSci             float64\n",
      " 56   JobInterestDevOps              float64\n",
      " 57   JobInterestFrontEnd            float64\n",
      " 58   JobInterestFullStack           float64\n",
      " 59   JobInterestGameDev             float64\n",
      " 60   JobInterestInfoSec             float64\n",
      " 61   JobInterestMobile              float64\n",
      " 62   JobInterestOther               object \n",
      " 63   JobInterestProjMngr            float64\n",
      " 64   JobInterestQAEngr              float64\n",
      " 65   JobInterestUX                  float64\n",
      " 66   JobPref                        object \n",
      " 67   JobRelocateYesNo               float64\n",
      " 68   JobRoleInterest                object \n",
      " 69   JobWherePref                   object \n",
      " 70   LanguageAtHome                 object \n",
      " 71   MaritalStatus                  object \n",
      " 72   MoneyForLearning               float64\n",
      " 73   MonthsProgramming              float64\n",
      " 74   NetworkID                      object \n",
      " 75   Part1EndTime                   object \n",
      " 76   Part1StartTime                 object \n",
      " 77   Part2EndTime                   object \n",
      " 78   Part2StartTime                 object \n",
      " 79   PodcastChangeLog               float64\n",
      " 80   PodcastCodeNewbie              float64\n",
      " 81   PodcastCodePen                 float64\n",
      " 82   PodcastDevTea                  float64\n",
      " 83   PodcastDotNET                  float64\n",
      " 84   PodcastGiantRobots             float64\n",
      " 85   PodcastJSAir                   float64\n",
      " 86   PodcastJSJabber                float64\n",
      " 87   PodcastNone                    float64\n",
      " 88   PodcastOther                   object \n",
      " 89   PodcastProgThrowdown           float64\n",
      " 90   PodcastRubyRogues              float64\n",
      " 91   PodcastSEDaily                 float64\n",
      " 92   PodcastSERadio                 float64\n",
      " 93   PodcastShopTalk                float64\n",
      " 94   PodcastTalkPython              float64\n",
      " 95   PodcastTheWebAhead             float64\n",
      " 96   ResourceCodecademy             float64\n",
      " 97   ResourceCodeWars               float64\n",
      " 98   ResourceCoursera               float64\n",
      " 99   ResourceCSS                    float64\n",
      " 100  ResourceEdX                    float64\n",
      " 101  ResourceEgghead                float64\n",
      " 102  ResourceFCC                    float64\n",
      " 103  ResourceHackerRank             float64\n",
      " 104  ResourceKA                     float64\n",
      " 105  ResourceLynda                  float64\n",
      " 106  ResourceMDN                    float64\n",
      " 107  ResourceOdinProj               float64\n",
      " 108  ResourceOther                  object \n",
      " 109  ResourcePluralSight            float64\n",
      " 110  ResourceSkillcrush             float64\n",
      " 111  ResourceSO                     float64\n",
      " 112  ResourceTreehouse              float64\n",
      " 113  ResourceUdacity                float64\n",
      " 114  ResourceUdemy                  float64\n",
      " 115  ResourceW3S                    float64\n",
      " 116  SchoolDegree                   object \n",
      " 117  SchoolMajor                    object \n",
      " 118  StudentDebtOwe                 float64\n",
      " 119  YouTubeCodeCourse              float64\n",
      " 120  YouTubeCodingTrain             float64\n",
      " 121  YouTubeCodingTut360            float64\n",
      " 122  YouTubeComputerphile           float64\n",
      " 123  YouTubeDerekBanas              float64\n",
      " 124  YouTubeDevTips                 float64\n",
      " 125  YouTubeEngineeredTruth         float64\n",
      " 126  YouTubeFCC                     float64\n",
      " 127  YouTubeFunFunFunction          float64\n",
      " 128  YouTubeGoogleDev               float64\n",
      " 129  YouTubeLearnCode               float64\n",
      " 130  YouTubeLevelUpTuts             float64\n",
      " 131  YouTubeMIT                     float64\n",
      " 132  YouTubeMozillaHacks            float64\n",
      " 133  YouTubeOther                   object \n",
      " 134  YouTubeSimplilearn             float64\n",
      " 135  YouTubeTheNewBoston            float64\n",
      "dtypes: float64(105), object(31)\n",
      "memory usage: 16.7+ MB\n"
     ]
    }
   ],
   "source": [
    "survey_2017.info(verbose=True)"
   ]
  },
  {
   "cell_type": "markdown",
   "metadata": {},
   "source": [
    "### 2018"
   ]
  },
  {
   "cell_type": "code",
   "execution_count": 54,
   "metadata": {},
   "outputs": [
    {
     "name": "stdout",
     "output_type": "stream",
     "text": [
      "<class 'pandas.core.frame.DataFrame'>\n",
      "RangeIndex: 28397 entries, 0 to 28396\n",
      "Data columns (total 138 columns):\n",
      " #    Column                 Dtype  \n",
      "---   ------                 -----  \n",
      " 0    ID                     object \n",
      " 1    is_software_dev        float64\n",
      " 2    is_first_dev_job       float64\n",
      " 3    months_job_search      float64\n",
      " 4    job_pref               object \n",
      " 5    job_intr_fllstck       float64\n",
      " 6    job_intr_backend       float64\n",
      " 7    job_intr_frntend       float64\n",
      " 8    job_intr_mobile        float64\n",
      " 9    job_intr_devops        float64\n",
      " 10   job_intr_datasci       float64\n",
      " 11   job_intr_teacher       float64\n",
      " 12   job_intr_qa_engn       float64\n",
      " 13   job_intr_ux_engn       float64\n",
      " 14   job_intr_projm         float64\n",
      " 15   job_intr_gamedev       float64\n",
      " 16   job_intr_infosec       float64\n",
      " 17   job_intr_dataengn      float64\n",
      " 18   job_intr_other         object \n",
      " 19   when_appl_job          object \n",
      " 20   expected_earn          float64\n",
      " 21   job_lctn_pref          object \n",
      " 22   job_relocate           float64\n",
      " 23   reasons_to_code        object \n",
      " 24   reasons_to_code_other  object \n",
      " 25   rsrc_fcc               float64\n",
      " 26   rsrc_mdn               float64\n",
      " 27   rsrc_so                float64\n",
      " 28   rsrc_edx               float64\n",
      " 29   rsrc_coursera          float64\n",
      " 30   rsrc_khan_acdm         float64\n",
      " 31   rsrc_pluralsght        float64\n",
      " 32   rsrc_codeacdm          float64\n",
      " 33   rsrc_udacity           float64\n",
      " 34   rsrc_udemy             float64\n",
      " 35   rsrc_code_wars         float64\n",
      " 36   rsrc_treehouse         float64\n",
      " 37   rsrc_hackerrank        float64\n",
      " 38   rsrc_frntendmstr       float64\n",
      " 39   rsrc_lynda             float64\n",
      " 40   rsrc_egghead           float64\n",
      " 41   rsrc_css_tricks        float64\n",
      " 42   rsrc_other             object \n",
      " 43   codeevnt_fcc           float64\n",
      " 44   codeevnt_hackthn       float64\n",
      " 45   codeevnt_confs         float64\n",
      " 46   codeevnt_workshps      float64\n",
      " 47   codeevnt_startupwknd   float64\n",
      " 48   codeevnt_nodeschl      float64\n",
      " 49   codeevnt_womenwc       float64\n",
      " 50   codeevnt_girldevit     float64\n",
      " 51   codeevnt_coderdojo     float64\n",
      " 52   codeevnt_meetup        float64\n",
      " 53   codeevnt_railsbrdg     float64\n",
      " 54   codeevnt_gamejam       float64\n",
      " 55   codeevnt_railsgrls     float64\n",
      " 56   codeevnt_djangogrls    float64\n",
      " 57   codeevnt_wkndbtcmp     float64\n",
      " 58   codeevnt_other         object \n",
      " 59   podcast_fcc            float64\n",
      " 60   podcast_codenewbie     float64\n",
      " 61   podcast_changelog      float64\n",
      " 62   podcast_sedaily        float64\n",
      " 63   podcast_js_jabber      float64\n",
      " 64   podcast_syntaxfm       float64\n",
      " 65   podcast_ltcwm          float64\n",
      " 66   podcast_fullstckrd     float64\n",
      " 67   podcast_frnthppyhr     float64\n",
      " 68   podcast_codingblcks    float64\n",
      " 69   podcast_shoptalk       float64\n",
      " 70   podcast_devtea         float64\n",
      " 71   podcast_progthrwdwn    float64\n",
      " 72   podcast_geekspeak      float64\n",
      " 73   podcast_hanselmnts     float64\n",
      " 74   podcast_talkpythonme   float64\n",
      " 75   podcast_rubyrogues     float64\n",
      " 76   podcast_codepenrd      float64\n",
      " 77   podcast_seradio        float64\n",
      " 78   podcast_other          object \n",
      " 79   yt_mit_ocw             float64\n",
      " 80   yt_fcc                 float64\n",
      " 81   yt_computerphile       float64\n",
      " 82   yt_devtips             float64\n",
      " 83   yt_cs_dojo             float64\n",
      " 84   yt_engn_truth          float64\n",
      " 85   yt_learncodeacdm       float64\n",
      " 86   yt_lvluptuts           float64\n",
      " 87   yt_funfunfunct         float64\n",
      " 88   yt_codingtuts360       float64\n",
      " 89   yt_codingtrain         float64\n",
      " 90   yt_derekbanas          float64\n",
      " 91   yt_simplilearn         float64\n",
      " 92   yt_simpleprog          float64\n",
      " 93   yt_mozillahacks        float64\n",
      " 94   yt_googledevs          float64\n",
      " 95   yt_other               object \n",
      " 96   hours_learning         float64\n",
      " 97   months_programming     int64  \n",
      " 98   bootcamp_attend        float64\n",
      " 99   bootcamp_name          object \n",
      " 100  bootcamp_finished      float64\n",
      " 101  bootcamp_have_loan     float64\n",
      " 102  bootcamp_recommend     float64\n",
      " 103  money_for_learning     float64\n",
      " 104  age                    int64  \n",
      " 105  gender                 object \n",
      " 106  gender_other           object \n",
      " 107  country_citizen        object \n",
      " 108  country_live           object \n",
      " 109  live_city_population   object \n",
      " 110  is_ethnic_minority     float64\n",
      " 111  lang_at_home           object \n",
      " 112  school_degree          object \n",
      " 113  school_major           object \n",
      " 114  marital_status         object \n",
      " 115  has_finance_depends    float64\n",
      " 116  has_children           float64\n",
      " 117  num_children           float64\n",
      " 118  do_finance_support     float64\n",
      " 119  debt_amt               float64\n",
      " 120  home_mrtg_has          float64\n",
      " 121  home_mrtg_owe          float64\n",
      " 122  student_debt_has       float64\n",
      " 123  student_debt_amt       float64\n",
      " 124  curr_emplymnt          object \n",
      " 125  curr_emplymnt_other    object \n",
      " 126  curr_field             object \n",
      " 127  last_yr_income         float64\n",
      " 128  communite_time         object \n",
      " 129  is_self_employed       float64\n",
      " 130  has_served_military    float64\n",
      " 131  is_recv_disab_bnft     float64\n",
      " 132  has_high_spd_ntnet     float64\n",
      " 133  time_start             object \n",
      " 134  time_end               object \n",
      " 135  network_id             object \n",
      " 136  time_total_sec         int64  \n",
      " 137  at_least_one_jobrole   bool   \n",
      "dtypes: bool(1), float64(106), int64(3), object(28)\n",
      "memory usage: 26.7+ MB\n"
     ]
    }
   ],
   "source": [
    "survey_2018.info(verbose=True)"
   ]
  }
 ],
 "metadata": {
  "hide_input": false,
  "kernelspec": {
   "display_name": "Python 3",
   "language": "python",
   "name": "python3"
  },
  "language_info": {
   "codemirror_mode": {
    "name": "ipython",
    "version": 3
   },
   "file_extension": ".py",
   "mimetype": "text/x-python",
   "name": "python",
   "nbconvert_exporter": "python",
   "pygments_lexer": "ipython3",
   "version": "3.7.3"
  },
  "toc": {
   "base_numbering": 1,
   "nav_menu": {},
   "number_sections": false,
   "sideBar": true,
   "skip_h1_title": true,
   "title_cell": "Table of Contents",
   "title_sidebar": "Contents",
   "toc_cell": false,
   "toc_position": {},
   "toc_section_display": true,
   "toc_window_display": true
  },
  "varInspector": {
   "cols": {
    "lenName": 16,
    "lenType": 16,
    "lenVar": 40
   },
   "kernels_config": {
    "python": {
     "delete_cmd_postfix": "",
     "delete_cmd_prefix": "del ",
     "library": "var_list.py",
     "varRefreshCmd": "print(var_dic_list())"
    },
    "r": {
     "delete_cmd_postfix": ") ",
     "delete_cmd_prefix": "rm(",
     "library": "var_list.r",
     "varRefreshCmd": "cat(var_dic_list()) "
    }
   },
   "position": {
    "height": "596.85px",
    "left": "588px",
    "right": "20px",
    "top": "120px",
    "width": "350px"
   },
   "types_to_exclude": [
    "module",
    "function",
    "builtin_function_or_method",
    "instance",
    "_Feature"
   ],
   "window_display": false
  }
 },
 "nbformat": 4,
 "nbformat_minor": 4
}
