{
 "cells": [
  {
   "cell_type": "markdown",
   "metadata": {},
   "source": [
    "# Guided Project 12: Finding The Best Markets To Advertise In"
   ]
  },
  {
   "cell_type": "code",
   "execution_count": 60,
   "metadata": {},
   "outputs": [],
   "source": [
    "import numpy as np\n",
    "import pandas as pd\n",
    "import re\n",
    "import matplotlib.pyplot as plt\n",
    "import seaborn as sns\n",
    "\n",
    "%matplotlib inline"
   ]
  },
  {
   "cell_type": "markdown",
   "metadata": {},
   "source": [
    "Note: solutions notebook [here](https://github.com/dataquestio/solutions/blob/master/Mission310Solutions.ipynb)."
   ]
  },
  {
   "cell_type": "markdown",
   "metadata": {},
   "source": [
    "## Slide 1\n",
    "---\n",
    "We've come a long way in this course and learned:\n",
    "\n",
    "\n",
    "- How to summarize distributions using the mean, the median, and the mode.\n",
    "\n",
    "\n",
    "- How to measure the variability of a distribution using the range, the mean absolute deviation, the variance, and the standard deviation.\n",
    "\n",
    "\n",
    "- How to locate any value in a distribution using z-scores.\n",
    "\n",
    "\n",
    "To make learning smoother and more efficient, we learned about each of these topics in isolation. In this guided project, we make one step further and learn to combine some of these skills to perform practical data analysis. Moreover, we'll also make use of what we learned in the first course.\n",
    "\n",
    "Let's assume that we're working for an an e-learning company that offers courses on programming. Most of our courses are on web and mobile development, but we also cover many other domains, like data science, game development, etc. We want to promote our product and we'd like to invest some money in advertisement. Our goal in this project is to find out the two best markets to advertise our product in.\n",
    "\n",
    "\n",
    "\n",
    "#### Instructions\n",
    "---\n",
    "- To help readers gain context into your project, use the first Markdown cell of the notebook to:\n",
    "    - Add a title.\n",
    "    - Write a short introduction where you explain readers in no more than two paragraphs:\n",
    "        - What the project is about.\n",
    "        - What your goal is in this project.\n",
    "\n",
    "\n",
    "- The title and the introduction are tentative at this point, so don't spend too much time here — you can come back at the end of your work to refine them."
   ]
  },
  {
   "cell_type": "markdown",
   "metadata": {},
   "source": [
    "Short description of the project's intent:\n",
    "\n",
    "An undesignated company in the e-learning business wants to know what are the best markets to promote their recently created programming course, soon to be available to the public. "
   ]
  },
  {
   "cell_type": "markdown",
   "metadata": {},
   "source": [
    "## Slide 2\n",
    "---\n",
    "To reach our goal, we could organize surveys for a couple of different markets to find out which would the best choices for advertising. This is very costly, however, and it's a good call to explore cheaper options first.\n",
    "\n",
    "We can try to search existing data that might be relevant for our purpose. One good candidate is the data from [freeCodeCamp's 2017 New Coder Survey](https://www.freecodecamp.org/news/take-the-2017-new-coder-survey-and-help-us-build-a-massive-public-dataset-8c808cbee7eb/). [freeCodeCamp](https://www.freecodecamp.org/) is a free e-learning platform that offers courses on web development. Because they run a [popular Medium publication](https://www.freecodecamp.org/news/) (over 400,000 followers), their survey attracted new coders with varying interests (not only web development), which is ideal for the purpose of our analysis.\n",
    "\n",
    "The survey data is publicly available in this [GitHub repository](https://github.com/freeCodeCamp/2017-new-coder-survey).\n",
    "\n",
    "\n",
    "\n",
    "#### Instructions\n",
    "---\n",
    "- Read in the `'2017-fCC-New-Coders-Survey-Data.csv'` file and explore briefly the data set.\n",
    "    - Look for number of rows and columns.\n",
    "    - Print the first five rows.\n",
    "    - Try to find relevant columns for the purpose of our analysis.\n",
    "    - Try to understand what each column describes.\n",
    "        - You'll notice that most column names are self-explanatory, but it seems that we don't have a clear documentation explaining each column name. However, you can find more information in the `raw-data` folder of the [repository](https://github.com/freeCodeCamp/2017-new-coder-survey) we mentioned above — you can find the initial survey questions, and from there it should be easy to infer what each column describes.\n",
    "\n",
    "\n",
    "- Once you're done with this initial exploration, add some context for readers and discuss:\n",
    "    - Why you're using a ready-made data set instead of organizing a survey.\n",
    "    - What's this data set about.\n",
    "    - Where can this data set be downloaded."
   ]
  },
  {
   "cell_type": "markdown",
   "metadata": {},
   "source": [
    "## Introduction\n",
    "---\n",
    "A company in the e-learning business wants to know what are the two best markets to promote their recently created programming course, soon to be made available to the public. The company's service is based on a monthly subscription priced at $59.   \n",
    "\n",
    "To produce a quick landscape of the e-leaning market one can benchmark from the relevant work produced by the free e-learning platform [freeCodeCamp](https://www.freecodecamp.org/). This organization compiled and made public the answers of a survey that they've submitted in 2017, which delivers a good profiling on people who have been learning in several fields of IT. ([for less then five years](https://www.freecodecamp.org/news/take-the-2017-new-coder-survey-and-help-us-build-a-massive-public-dataset-8c808cbee7eb/)). The survey results are publicly available at their [GitHub](https://github.com/freeCodeCamp/2017-new-coder-survey) archive. This survey is a good resource that provides a general demographic and social characterization of the type of individual that might be interested in purchasing new e-learning content. \n",
    "\n",
    "These include:\n",
    " - Demographics: age, respondent's nationality, gender, city of residence, etc.\n",
    " \n",
    " \n",
    " - Social/economic:\n",
    "     - Social condition: marital status, children, etc.\n",
    "     - Employment status: employed, income, debt, etc.\n",
    "     \n",
    "     \n",
    " - IT related: experience in coding, field of expertize, resources used to learn new content, money spent in learning content, etc."
   ]
  },
  {
   "cell_type": "markdown",
   "metadata": {},
   "source": [
    "A warning has been returned by the system: \n",
    "\n",
    "    DtypeWarning: Columns (17,62)\n",
    "\n",
    "There are columns with more than one dtype. To pass it without warning one must set `low_memory=False`; regardless, one should further investigate and decide whether to clean or drop columns 17 and 62."
   ]
  },
  {
   "cell_type": "code",
   "execution_count": 61,
   "metadata": {},
   "outputs": [],
   "source": [
    "dtype_dic = {'CodeEventOther': 'str',\n",
    "             'JobInterestOther': 'str'}\n",
    "\n",
    "survey = pd.read_csv('2017-fCC-New-Coders-Survey-Data.csv', dtype=dtype_dic)"
   ]
  },
  {
   "cell_type": "markdown",
   "metadata": {},
   "source": [
    "Inspecting columns 17 and 62:"
   ]
  },
  {
   "cell_type": "code",
   "execution_count": 62,
   "metadata": {},
   "outputs": [
    {
     "data": {
      "text/html": [
       "<div>\n",
       "<style scoped>\n",
       "    .dataframe tbody tr th:only-of-type {\n",
       "        vertical-align: middle;\n",
       "    }\n",
       "\n",
       "    .dataframe tbody tr th {\n",
       "        vertical-align: top;\n",
       "    }\n",
       "\n",
       "    .dataframe thead th {\n",
       "        text-align: right;\n",
       "    }\n",
       "</style>\n",
       "<table border=\"1\" class=\"dataframe\">\n",
       "  <thead>\n",
       "    <tr style=\"text-align: right;\">\n",
       "      <th></th>\n",
       "      <th>CodeEventOther</th>\n",
       "      <th>JobInterestOther</th>\n",
       "    </tr>\n",
       "  </thead>\n",
       "  <tbody>\n",
       "    <tr>\n",
       "      <th>count</th>\n",
       "      <td>570</td>\n",
       "      <td>266</td>\n",
       "    </tr>\n",
       "    <tr>\n",
       "      <th>unique</th>\n",
       "      <td>463</td>\n",
       "      <td>177</td>\n",
       "    </tr>\n",
       "    <tr>\n",
       "      <th>top</th>\n",
       "      <td>No</td>\n",
       "      <td>Undecided</td>\n",
       "    </tr>\n",
       "    <tr>\n",
       "      <th>freq</th>\n",
       "      <td>21</td>\n",
       "      <td>23</td>\n",
       "    </tr>\n",
       "  </tbody>\n",
       "</table>\n",
       "</div>"
      ],
      "text/plain": [
       "       CodeEventOther JobInterestOther\n",
       "count             570              266\n",
       "unique            463              177\n",
       "top                No        Undecided\n",
       "freq               21               23"
      ]
     },
     "execution_count": 62,
     "metadata": {},
     "output_type": "execute_result"
    }
   ],
   "source": [
    "pd.DataFrame({'CodeEventOther': survey.iloc[:, 17].describe(),\n",
    "              'JobInterestOther': survey.iloc[:, 62].describe()}\n",
    "             )"
   ]
  },
  {
   "cell_type": "markdown",
   "metadata": {},
   "source": [
    "Basic information on `survey` (small version).\n",
    "\n",
    "\n",
    "\\[Note: due to the extensive number of columns in `survey`, the full information summary on this data set has been relegated to Annex I, at the end of the project.\\]"
   ]
  },
  {
   "cell_type": "code",
   "execution_count": 63,
   "metadata": {
    "scrolled": true
   },
   "outputs": [
    {
     "name": "stdout",
     "output_type": "stream",
     "text": [
      "<class 'pandas.core.frame.DataFrame'>\n",
      "RangeIndex: 18175 entries, 0 to 18174\n",
      "Columns: 136 entries, Age to YouTubeTheNewBoston\n",
      "dtypes: float64(105), object(31)\n",
      "memory usage: 16.7+ MB\n"
     ]
    }
   ],
   "source": [
    "survey.info()"
   ]
  },
  {
   "cell_type": "markdown",
   "metadata": {},
   "source": [
    "As an example let's observe the first respondent's answer to the survey (`Na` dropped):"
   ]
  },
  {
   "cell_type": "code",
   "execution_count": 64,
   "metadata": {
    "scrolled": false
   },
   "outputs": [
    {
     "data": {
      "text/plain": [
       "Age                                                            27\n",
       "AttendedBootcamp                                                0\n",
       "CityPopulation                                more than 1 million\n",
       "CommuteTime                                      15 to 29 minutes\n",
       "CountryCitizen                                             Canada\n",
       "CountryLive                                                Canada\n",
       "EmploymentField                       software development and IT\n",
       "EmploymentStatus                               Employed for wages\n",
       "Gender                                                     female\n",
       "HasDebt                                                         1\n",
       "HasFinancialDependents                                          0\n",
       "HasHighSpdInternet                                              1\n",
       "HasHomeMortgage                                                 0\n",
       "HasServedInMilitary                                             0\n",
       "HasStudentDebt                                                  0\n",
       "HoursLearning                                                  15\n",
       "ID.x                             02d9465b21e8bd09374b0066fb2d5614\n",
       "ID.y                             eb78c1c3ac6cd9052aec557065070fbf\n",
       "IsReceiveDisabilitiesBenefits                                   0\n",
       "IsSoftwareDev                                                   0\n",
       "IsUnderEmployed                                                 0\n",
       "JobPref                                   start your own business\n",
       "LanguageAtHome                                            English\n",
       "MaritalStatus                     married or domestic partnership\n",
       "MoneyForLearning                                              150\n",
       "MonthsProgramming                                               6\n",
       "NetworkID                                              6f1fbc6b2b\n",
       "Part1EndTime                                  2017-03-09 00:36:22\n",
       "Part1StartTime                                2017-03-09 00:32:59\n",
       "Part2EndTime                                  2017-03-09 00:59:46\n",
       "Part2StartTime                                2017-03-09 00:36:26\n",
       "PodcastDevTea                                                   1\n",
       "ResourceCodecademy                                              1\n",
       "ResourceFCC                                                     1\n",
       "ResourceMDN                                                     1\n",
       "ResourceUdemy                                                   1\n",
       "ResourceW3S                                                     1\n",
       "SchoolDegree                       some college credit, no degree\n",
       "Name: 0, dtype: object"
      ]
     },
     "execution_count": 64,
     "metadata": {},
     "output_type": "execute_result"
    }
   ],
   "source": [
    "survey.iloc[0, :].dropna()"
   ]
  },
  {
   "cell_type": "markdown",
   "metadata": {},
   "source": [
    "### Formulating The Main Scope Of The Analysis\n",
    "\n",
    "The two basic questions are:\n",
    "\n",
    "- Where to advertise?\n",
    "- To whom does the content provider should target its advertisement?\n",
    "\n",
    "For a quicker approach to the analysis the focus will be initially based on a macro view of the potential markets, to assess which countries possess the greatest growing potential, instead of looking on a micro level, e.g. assessing which partners/platforms the company could consider to advertise in. Focusing on the macro level, we can try to quantify the market dimensions through the dynamics between the willingness to pay of e-learners and the price of the product to be offered by the company we represent. "
   ]
  },
  {
   "cell_type": "markdown",
   "metadata": {},
   "source": [
    "## Slide 3\n",
    "---\n",
    "As we mentioned earlier, most of the courses we offer are on web and mobile development, but we also cover many other domains, like data science, game development, etc. For the purpose of our analysis, we want to answer questions about a _population_ of new coders that are interested in the subjects we teach. We'd like to know:\n",
    "\n",
    "\n",
    "- Where are these new coders located.\n",
    "\n",
    "\n",
    "- What are the locations with the greatest number of new coders.\n",
    "\n",
    "\n",
    "- How much money new coders are willing to spend on learning.\n",
    "\n",
    "\n",
    "Before starting to analyze the sample data we have, we need to clarify whether it's representative for our population of interest and it has the right categories of people for our purpose.\n",
    "\n",
    "\n",
    "\n",
    "#### Instructions\n",
    "---\n",
    "Figure out whether the sample we have is representative for our population of interest.\n",
    "\n",
    "- The `JobRoleInterest` column describes for every participant the role(s) they'd be interested in working.\n",
    "\n",
    "\n",
    "- Generate a frequency distribution table for this column. Take percentages instead of absolute frequencies.\n",
    "\n",
    "\n",
    "- Analyze the table.\n",
    "    - Are people interested in only one subject or they can be interested in more than one subject?\n",
    "    - If most people are interested in more than one subject, is this sample still representative?\n",
    "    - The focus of our courses is on web and mobile development. How many people are interested in at least one of these two subjects?\n",
    "    \n",
    "    \n",
    "- Generate at least one graph while you're working on these steps to help the reader understand easier what you're doing.\n",
    "\n",
    "\n",
    "- Use Markdown cells to explain the readers what you're doing."
   ]
  },
  {
   "cell_type": "markdown",
   "metadata": {},
   "source": [
    "### What Is The Weight Of E-learners Wanting To Be Either Web Or Mobile Developers?\n",
    "\n",
    "The upcoming course is mainly target to web and mobile developers,  therefore it is necessary to understand whether the survey we're exploring is actually representative of our population of interest.\n",
    "\n",
    "The following series, `desired_job` compiles the frequency distribution (in percentage) of the values in the column `JobRoleInterest`, which asks the respondent what job roles within the coding field are they interested in applying for.  "
   ]
  },
  {
   "cell_type": "code",
   "execution_count": 65,
   "metadata": {},
   "outputs": [],
   "source": [
    "desired_job_count = survey['JobRoleInterest'].value_counts().sort_values(ascending=False)\n",
    "\n",
    "count_perc = survey['JobRoleInterest'].value_counts(\n",
    "    normalize=True).sort_values(ascending=False)*100\n",
    "\n",
    "desired_job = pd.DataFrame({'Desired Job Role': desired_job_count.index,\n",
    "                            'Count Answers': desired_job_count,\n",
    "                         'Percentage': count_perc}).reset_index(drop=True)"
   ]
  },
  {
   "cell_type": "markdown",
   "metadata": {},
   "source": [
    "As we can see below, only 61.53% of the respondents answered the job role question. "
   ]
  },
  {
   "cell_type": "code",
   "execution_count": 66,
   "metadata": {},
   "outputs": [
    {
     "name": "stdout",
     "output_type": "stream",
     "text": [
      "Desired jobs, answers: 6992\n",
      "Percentage from total answers in survey: 61.53%.\n"
     ]
    }
   ],
   "source": [
    "na_desired_job = survey['JobRoleInterest'].isna().sum()\n",
    "\n",
    "print(f'Desired jobs, answers: {desired_job[\"Count Answers\"].sum()}')\n",
    "\n",
    "print(f'Percentage from total answers in survey: {round(na_desired_job*100/survey.shape[0], 2)}%.')"
   ]
  },
  {
   "cell_type": "markdown",
   "metadata": {},
   "source": [
    "`desired_job.info()` reports that 3213 unique answers were given in the `Desired Job Role` (same as `JobRoleInterest`) column/question; this is a consequence of allowing the respondent to fill a unconstrained number desired job roles. Because we're trying to narrow the profile of our target consumer, the data set will imply some date cleaning and reconfiguration. Let's proceed with the analysis of the summary analysis of `desire_job`."
   ]
  },
  {
   "cell_type": "code",
   "execution_count": 67,
   "metadata": {},
   "outputs": [
    {
     "name": "stdout",
     "output_type": "stream",
     "text": [
      "<class 'pandas.core.frame.DataFrame'>\n",
      "RangeIndex: 3213 entries, 0 to 3212\n",
      "Data columns (total 3 columns):\n",
      " #   Column            Non-Null Count  Dtype  \n",
      "---  ------            --------------  -----  \n",
      " 0   Desired Job Role  3213 non-null   object \n",
      " 1   Count Answers     3213 non-null   int64  \n",
      " 2   Percentage        3213 non-null   float64\n",
      "dtypes: float64(1), int64(1), object(1)\n",
      "memory usage: 62.8+ KB\n"
     ]
    }
   ],
   "source": [
    "desired_job.info()"
   ]
  },
  {
   "cell_type": "markdown",
   "metadata": {},
   "source": [
    "Top 10 most replied answer on desired job roles:"
   ]
  },
  {
   "cell_type": "code",
   "execution_count": 68,
   "metadata": {},
   "outputs": [
    {
     "data": {
      "text/html": [
       "<div>\n",
       "<style scoped>\n",
       "    .dataframe tbody tr th:only-of-type {\n",
       "        vertical-align: middle;\n",
       "    }\n",
       "\n",
       "    .dataframe tbody tr th {\n",
       "        vertical-align: top;\n",
       "    }\n",
       "\n",
       "    .dataframe thead th {\n",
       "        text-align: right;\n",
       "    }\n",
       "</style>\n",
       "<table border=\"1\" class=\"dataframe\">\n",
       "  <thead>\n",
       "    <tr style=\"text-align: right;\">\n",
       "      <th></th>\n",
       "      <th>Desired Job Role</th>\n",
       "      <th>Count Answers</th>\n",
       "      <th>Percentage</th>\n",
       "    </tr>\n",
       "  </thead>\n",
       "  <tbody>\n",
       "    <tr>\n",
       "      <th>0</th>\n",
       "      <td>Full-Stack Web Developer</td>\n",
       "      <td>823</td>\n",
       "      <td>11.770595</td>\n",
       "    </tr>\n",
       "    <tr>\n",
       "      <th>1</th>\n",
       "      <td>Front-End Web Developer</td>\n",
       "      <td>450</td>\n",
       "      <td>6.435927</td>\n",
       "    </tr>\n",
       "    <tr>\n",
       "      <th>2</th>\n",
       "      <td>Data Scientist</td>\n",
       "      <td>152</td>\n",
       "      <td>2.173913</td>\n",
       "    </tr>\n",
       "    <tr>\n",
       "      <th>3</th>\n",
       "      <td>Back-End Web Developer</td>\n",
       "      <td>142</td>\n",
       "      <td>2.030892</td>\n",
       "    </tr>\n",
       "    <tr>\n",
       "      <th>4</th>\n",
       "      <td>Mobile Developer</td>\n",
       "      <td>117</td>\n",
       "      <td>1.673341</td>\n",
       "    </tr>\n",
       "    <tr>\n",
       "      <th>5</th>\n",
       "      <td>Game Developer</td>\n",
       "      <td>114</td>\n",
       "      <td>1.630435</td>\n",
       "    </tr>\n",
       "    <tr>\n",
       "      <th>6</th>\n",
       "      <td>Information Security</td>\n",
       "      <td>92</td>\n",
       "      <td>1.315789</td>\n",
       "    </tr>\n",
       "    <tr>\n",
       "      <th>7</th>\n",
       "      <td>Full-Stack Web Developer,   Front-End Web Deve...</td>\n",
       "      <td>64</td>\n",
       "      <td>0.915332</td>\n",
       "    </tr>\n",
       "    <tr>\n",
       "      <th>8</th>\n",
       "      <td>Front-End Web Developer, Full-Stack Web Deve...</td>\n",
       "      <td>56</td>\n",
       "      <td>0.800915</td>\n",
       "    </tr>\n",
       "    <tr>\n",
       "      <th>9</th>\n",
       "      <td>Product Manager</td>\n",
       "      <td>55</td>\n",
       "      <td>0.786613</td>\n",
       "    </tr>\n",
       "  </tbody>\n",
       "</table>\n",
       "</div>"
      ],
      "text/plain": [
       "                                    Desired Job Role  Count Answers  \\\n",
       "0                           Full-Stack Web Developer            823   \n",
       "1                            Front-End Web Developer            450   \n",
       "2                                     Data Scientist            152   \n",
       "3                             Back-End Web Developer            142   \n",
       "4                                   Mobile Developer            117   \n",
       "5                                     Game Developer            114   \n",
       "6                               Information Security             92   \n",
       "7  Full-Stack Web Developer,   Front-End Web Deve...             64   \n",
       "8    Front-End Web Developer, Full-Stack Web Deve...             56   \n",
       "9                                    Product Manager             55   \n",
       "\n",
       "   Percentage  \n",
       "0   11.770595  \n",
       "1    6.435927  \n",
       "2    2.173913  \n",
       "3    2.030892  \n",
       "4    1.673341  \n",
       "5    1.630435  \n",
       "6    1.315789  \n",
       "7    0.915332  \n",
       "8    0.800915  \n",
       "9    0.786613  "
      ]
     },
     "execution_count": 68,
     "metadata": {},
     "output_type": "execute_result"
    }
   ],
   "source": [
    "desired_job.iloc[:10]"
   ]
  },
  {
   "cell_type": "markdown",
   "metadata": {},
   "source": [
    "Given the multitude of job role interests, and combinations, the number of unique answers is very high to the point that the ten most answered job roles only comprise of approx. 30% of the total number of unique answers (3213)."
   ]
  },
  {
   "cell_type": "code",
   "execution_count": 69,
   "metadata": {},
   "outputs": [
    {
     "data": {
      "text/plain": [
       "'29.53%'"
      ]
     },
     "execution_count": 69,
     "metadata": {},
     "output_type": "execute_result"
    }
   ],
   "source": [
    "f'{desired_job[\"Percentage\"].iloc[:10].sum().round(2)}%'"
   ]
  },
  {
   "cell_type": "code",
   "execution_count": 70,
   "metadata": {},
   "outputs": [
    {
     "data": {
      "text/plain": [
       "count    3213.000000\n",
       "mean        0.031124\n",
       "std         0.250382\n",
       "min         0.014302\n",
       "25%         0.014302\n",
       "50%         0.014302\n",
       "75%         0.014302\n",
       "max        11.770595\n",
       "Name: Percentage, dtype: float64"
      ]
     },
     "execution_count": 70,
     "metadata": {},
     "output_type": "execute_result"
    }
   ],
   "source": [
    "desired_job['Percentage'].describe()"
   ]
  },
  {
   "cell_type": "markdown",
   "metadata": {},
   "source": [
    "Desired job roles answers that include either the expression 'Web Developer' or 'Mobile Developer' in the description:"
   ]
  },
  {
   "cell_type": "code",
   "execution_count": 71,
   "metadata": {},
   "outputs": [
    {
     "name": "stdout",
     "output_type": "stream",
     "text": [
      "Desired web or mobile job role unique answers: 2918\n",
      "Percentage from total unique job role answers: 90.82%\n",
      "Percentage from total answers in survey: 86.24%\n"
     ]
    }
   ],
   "source": [
    "web_or_mobile = desired_job['Desired Job Role'].str.contains(\n",
    "    '(?:Web Developer|Mobile Developer)', regex=True)\n",
    "\n",
    "web_mobile = desired_job[web_or_mobile]\n",
    "\n",
    "web_mobile_perc = round((web_mobile.shape[0]*100/desired_job.shape[0]), 2)\n",
    "\n",
    "print(f'Desired web or mobile job role unique answers: {web_mobile.shape[0]}')\n",
    "print(f'Percentage from total unique job role answers: {web_mobile_perc}%')\n",
    "print(f'Percentage from total answers in survey: {web_mobile[\"Percentage\"].sum().round(2)}%')"
   ]
  },
  {
   "cell_type": "markdown",
   "metadata": {},
   "source": [
    "Looking more closely to the top 10 desired job roles, we can see that most of the jobs contain the expression 'Web Developer' while 'Mobile Developer' appears as the fifth most popular desired job role (row 4). Furthermore, we also know that 86.24% of the respondents that answered to the job role question report interest in web or mobile development, which assures us that the data in hand is, at least partially, adequate to the type of exploration we desire to undertake - mind that 38.47% of the respondents did not answer this question. Figure 1 below, summarizes these findings. "
   ]
  },
  {
   "cell_type": "code",
   "execution_count": 72,
   "metadata": {},
   "outputs": [
    {
     "data": {
      "image/png": "[encoded data removed]",
      "text/plain": [
       "<Figure size 864x432 with 2 Axes>"
      ]
     },
     "metadata": {
      "needs_background": "light"
     },
     "output_type": "display_data"
    }
   ],
   "source": [
    "top10 = desired_job.head(10)\n",
    "\n",
    "fig = plt.figure(figsize=(12, 6))\n",
    "\n",
    "plt.style.use('seaborn')\n",
    "\n",
    "\n",
    "fig.suptitle('Figure 1', fontsize=16, x=0.62)\n",
    "\n",
    "\n",
    "ax1 = plt.subplot(1, 2, 1)\n",
    "\n",
    "ax2 = plt.subplot(1, 2, 2)\n",
    "\n",
    "\n",
    "# Horizontal bar plot.\n",
    "ax1.set_title('Top 10 Most Popular Desired Job Roles')\n",
    "\n",
    "ax1.barh(y=top10['Desired Job Role'],\n",
    "         width=top10['Percentage'])\n",
    "\n",
    "ax1.invert_yaxis()  # descending order\n",
    "\n",
    "ax1.set_xlabel('Percentage of Total')\n",
    "\n",
    "\n",
    "# Vertical bar plot.\n",
    "ax2.set_title('Desired Job Roles: Web and Mobile vs Total')\n",
    "\n",
    "# X axis labels.\n",
    "ax2_bar_labels = ['Total Job Roles', 'Web or Mobile Developer']\n",
    "\n",
    "graph_2 = ax2.bar(x=[0, 1],\n",
    "                  height=[desired_job['Count Answers'].sum(), web_mobile['Count Answers'].sum()],\n",
    "                  tick_label=ax2_bar_labels)\n",
    "\n",
    "\n",
    "# Top of the bars label values.\n",
    "ax2_bar_values = [desired_job['Count Answers'].sum(), web_mobile['Count Answers'].sum()]\n",
    "\n",
    "i = 0\n",
    "for bar in graph_2:\n",
    "    width = bar.get_width()\n",
    "    height = bar.get_height()\n",
    "    x, y = bar.get_xy()\n",
    "    plt.text(x+width/2,\n",
    "             y+height*1.02,\n",
    "             ax2_bar_values[i],\n",
    "             ha='center',\n",
    "             weight='bold')\n",
    "    i += 1\n",
    "\n",
    "\n",
    "plt.tight_layout()\n",
    "\n",
    "plt.show()"
   ]
  },
  {
   "cell_type": "markdown",
   "metadata": {},
   "source": [
    "## Slide 4\n",
    "---\n",
    "Now that we found out that the sample has the right categories of people for our purpose, we can begin analyzing it. We can start with finding out where these new coders are located, and what are the densities (how many coders there are) for each location.\n",
    "\n",
    "The data set provides information about the location of each participant at a country level. The `CountryCitizen` variable describes the country of origin for each participant, and the `CountryLive` variable describes what country each participants lives in (which may be different than the origin country).\n",
    "\n",
    "For our analysis, we'll work with the `CountryLive` variable because we're interested where people actually live at the moment when we run the ads. In other words, we're interested where people are located, not where they were born.\n",
    "\n",
    "Because the data set provides information at a country level, we can think of each country as an individual market. This means we can frame our goal as finding the two best countries to advertise in.\n",
    "\n",
    "One indicator of a good market is the number of potential customers — the more potential customers in a market, the better. If our ads manage to convince 10% of the 5000 potential customers in market A to buy our product, then this is better than convincing 100% of the 30 potential customers in market B.\n",
    "\n",
    "\n",
    "\n",
    "#### Instructions\n",
    "---\n",
    "- To make sure you're working with a representative sample, drop all the rows where participants didn't answer what role they are interested in. Where a participant didn't respond, we can't know for sure what their interests are, so it's better if we leave out this category of participants.\n",
    "\n",
    "\n",
    "- Generate a frequency table for the `CountryLive` variable.\n",
    "    - Generate both absolute and relative frequencies.\n",
    "    - Analyze the results.\n",
    "    - Based on the results, what are the two markets you'd choose for advertisement?\n",
    "    - Can we stop the analysis here, or we need to go more in depth?"
   ]
  },
  {
   "cell_type": "markdown",
   "metadata": {},
   "source": [
    "### Refining The Data Set And Quantifying The Number Of Respondents By Country Of Residence.\n",
    "\n",
    "`survey_2` excludes rows without a response (`NaN`) in the `JobRoleInterest` column. This will narrow down the sample to respondents that clearly pursuit e-learning as an investment towards finding a job role in the IT sector. We can assume this way that group of respondents is willing to actively search in the market for e-learning content."
   ]
  },
  {
   "cell_type": "code",
   "execution_count": 73,
   "metadata": {},
   "outputs": [],
   "source": [
    "jobrole_not_null = survey['JobRoleInterest'].notnull()\n",
    "\n",
    "survey_2 = survey[jobrole_not_null]"
   ]
  },
  {
   "cell_type": "code",
   "execution_count": 74,
   "metadata": {},
   "outputs": [],
   "source": [
    "country_res_freq_abs = survey_2['CountryLive'].value_counts(\n",
    "    ).sort_values(ascending=False)\n",
    "\n",
    "country_res_freq_rel = survey_2['CountryLive'].value_counts(\n",
    "    normalize=True).sort_values(ascending=False).round(3)*100"
   ]
  },
  {
   "cell_type": "code",
   "execution_count": 75,
   "metadata": {},
   "outputs": [
    {
     "data": {
      "text/html": [
       "<div>\n",
       "<style scoped>\n",
       "    .dataframe tbody tr th:only-of-type {\n",
       "        vertical-align: middle;\n",
       "    }\n",
       "\n",
       "    .dataframe tbody tr th {\n",
       "        vertical-align: top;\n",
       "    }\n",
       "\n",
       "    .dataframe thead th {\n",
       "        text-align: right;\n",
       "    }\n",
       "</style>\n",
       "<table border=\"1\" class=\"dataframe\">\n",
       "  <thead>\n",
       "    <tr style=\"text-align: right;\">\n",
       "      <th></th>\n",
       "      <th>Absolute</th>\n",
       "      <th>Relative (%)</th>\n",
       "    </tr>\n",
       "  </thead>\n",
       "  <tbody>\n",
       "    <tr>\n",
       "      <th>United States of America</th>\n",
       "      <td>3125</td>\n",
       "      <td>45.7</td>\n",
       "    </tr>\n",
       "    <tr>\n",
       "      <th>India</th>\n",
       "      <td>528</td>\n",
       "      <td>7.7</td>\n",
       "    </tr>\n",
       "    <tr>\n",
       "      <th>United Kingdom</th>\n",
       "      <td>315</td>\n",
       "      <td>4.6</td>\n",
       "    </tr>\n",
       "    <tr>\n",
       "      <th>Canada</th>\n",
       "      <td>260</td>\n",
       "      <td>3.8</td>\n",
       "    </tr>\n",
       "    <tr>\n",
       "      <th>Poland</th>\n",
       "      <td>131</td>\n",
       "      <td>1.9</td>\n",
       "    </tr>\n",
       "    <tr>\n",
       "      <th>Brazil</th>\n",
       "      <td>129</td>\n",
       "      <td>1.9</td>\n",
       "    </tr>\n",
       "    <tr>\n",
       "      <th>Germany</th>\n",
       "      <td>125</td>\n",
       "      <td>1.8</td>\n",
       "    </tr>\n",
       "    <tr>\n",
       "      <th>Australia</th>\n",
       "      <td>112</td>\n",
       "      <td>1.6</td>\n",
       "    </tr>\n",
       "    <tr>\n",
       "      <th>Russia</th>\n",
       "      <td>102</td>\n",
       "      <td>1.5</td>\n",
       "    </tr>\n",
       "    <tr>\n",
       "      <th>Ukraine</th>\n",
       "      <td>89</td>\n",
       "      <td>1.3</td>\n",
       "    </tr>\n",
       "  </tbody>\n",
       "</table>\n",
       "</div>"
      ],
      "text/plain": [
       "                          Absolute  Relative (%)\n",
       "United States of America      3125          45.7\n",
       "India                          528           7.7\n",
       "United Kingdom                 315           4.6\n",
       "Canada                         260           3.8\n",
       "Poland                         131           1.9\n",
       "Brazil                         129           1.9\n",
       "Germany                        125           1.8\n",
       "Australia                      112           1.6\n",
       "Russia                         102           1.5\n",
       "Ukraine                         89           1.3"
      ]
     },
     "execution_count": 75,
     "metadata": {},
     "output_type": "execute_result"
    }
   ],
   "source": [
    "country_res_freq_table = pd.DataFrame({'Absolute': country_res_freq_abs,\n",
    "                                       'Relative (%)': country_res_freq_rel})\n",
    "country_res_freq_table.head(10)"
   ]
  },
  {
   "cell_type": "markdown",
   "metadata": {},
   "source": [
    "Number of countries represented in the 2017 survey:"
   ]
  },
  {
   "cell_type": "code",
   "execution_count": 76,
   "metadata": {},
   "outputs": [
    {
     "data": {
      "text/plain": [
       "137"
      ]
     },
     "execution_count": 76,
     "metadata": {},
     "output_type": "execute_result"
    }
   ],
   "source": [
    "country_res_freq_table.shape[0]"
   ]
  },
  {
   "cell_type": "markdown",
   "metadata": {},
   "source": [
    "`country_res_freq_table` groups the respondents by country of residence. As we can see, the large majority of respondents lives in the US (48%), while the rest of the countries, 136 of them, account for the other half of the respondents' residency. The middle ground is formed by India, U.K. and Canada, where approx. 7.7, 4.6, and 3.8 percent of the respondents live in, respectively. From these aspects, we can take two ideas:\n",
    "\n",
    "- Usually is a good idea to invest in markets where one can see consistently growing interest in the industry targeted: in one hand, the market is not yet saturated, and in the other, the investor knows that the level of interest of the public is high enough for it to be a safe bet (in terms of a return in the short run, at least at a _break-even_ point). This last notion is important because the potential of a market is also measured by its maturity.\n",
    "\n",
    "\n",
    "- Also based on the results above, investing based on physical boarders may not be the best approach since no country besides the US seems to be a matured enough market, albeit, a deeper analysis should be undertaken in order to determine a market's maturity. Regardless, an advertising strategy based on 'common ground', i.e. on international (digital) platforms, could be more effective in the short-term, if the prospects of market maturation beyond US is not foreseeable in the near future."
   ]
  },
  {
   "cell_type": "markdown",
   "metadata": {},
   "source": [
    "## Slide 5\n",
    "---\n",
    "Previously, we found useful information about the location of new coders, and what are the countries where new coders live, but we need to go more in depth with our analysis before taking a decision. We can continue by figuring out how much money new coders are actually willing to spend on learning. Advertising within markets where most people are only willing to learn for free is extremely unlikely to be profitable for us.\n",
    "\n",
    "The `MoneyForLearning` column describes in American dollars the amount of money spent by participants from the moment they started coding until the moment they completed the survey. Our company sells subscriptions at a price of $59 per month, and for this reason we're interested in finding out how much money each student spends _per month_.\n",
    "\n",
    "It also seems like a good idea to narrow down our analysis to only four countries: the US, India, the United Kingdom, and Canada. Two reasons for this decision are:\n",
    "\n",
    "\n",
    "- These are the countries having the highest absolute frequencies in our sample, which means we have a decent amount of data for each.\n",
    "\n",
    "\n",
    "- Our courses are written in English, and English is an official language in all these four countries. The more people that know English, the better our chances to target the right people with our ads.\n",
    "\n",
    "\n",
    "\n",
    "#### Instructions\n",
    "---\n",
    "- Create a new column that describes the amount of money a student has spent per month (at the moment they completed the survey).\n",
    "    - You'll need to divide the `MoneyForLearning` column to the `MonthsProgramming` column.\n",
    "    \n",
    "    - Some students answered that they had been learning to code for 0 months (it might be that they had just started when they completed the survey). To avoid dividing by 0, replace all the values of 0 with 1.\n",
    "\n",
    "\n",
    "- Find out how many null values there are in the new column (the column describing the amount of money students spend per month).\n",
    "\n",
    "\n",
    "- Keep only the rows that don't have a null value for the new column.\n",
    "\n",
    "\n",
    "- Remove also any rows that have null values in the `CountryLive` column. **\\[already executed in the previous slide - `survey_2` is the result of that modification\\]**\n",
    "\n",
    "\n",
    "- Group the remaining data by the `CountryLive` column and find out how much money a student spends on average each month in the US, India, the United Kingdom and Canada.\n",
    "    - You can use the `DataFrame.groupby()` method.\n",
    "    \n",
    "    - As a summary metric, we recommend choosing the mean to take into account all values in the distributions. You can also compute the median or the mode to see how they compare with the mean.\n",
    "    \n",
    "    - Analyze the results. Is there anything in the results that looks off?"
   ]
  },
  {
   "cell_type": "markdown",
   "metadata": {},
   "source": [
    "## Assessing The Willingness To Pay Of E-learners\n",
    "---\n",
    "\n",
    "The survey provided by _freeDataCamp_ is very comprehensive, and can give many clues on how to profile the target consumer. It provides essential information, such as:\n",
    " - Money spent on learning (e-learning and conventional -  `MoneyForLearning`). \n",
    " - Months spent learning (`MonthsProgramming`).\n",
    " - Events and bootcamps attended.\n",
    " - Digital platforms, resources, and specialized media (podcasts, blogs, etc.)\n",
    " \n",
    " \n",
    "For now we'll be focusing on some data cleaning and data transformation that can give us a term of comparison between the monthly cost of our company's product and how much are e-learners currently spending on a monthly basis:\n",
    "- Some respondents answered that they were learning at '0' months; to avoid later on division errors, we'll assume that learning under a month is equivalent to be learning 'up to one month'.\n",
    "\n",
    "\n",
    "- build a ratio -`learn_monthly_expend`, that gives out how much each student spends per month on learning, hereby, also designated in short as 'monthly expenditure'.\n",
    "\n",
    "\n",
    "- We'll be trimming the data set again, excluding the rows/answers which  miss the value on `learn_monthly_expend`."
   ]
  },
  {
   "cell_type": "code",
   "execution_count": 77,
   "metadata": {},
   "outputs": [],
   "source": [
    "# Suppressing `SettingWithCopyWarning`.\n",
    "pd.options.mode.chained_assignment = None  # default='warn'\n",
    "\n",
    "survey_2['MonthsProgramming'] = survey_2['MonthsProgramming'].replace(0, 1)\n",
    "\n",
    "survey_2['learn_monthly_expend'] = survey_2['MoneyForLearning'] / survey_2['MonthsProgramming']\n",
    "\n",
    "survey_3 = survey_2[survey_2['learn_monthly_expend'].notnull()]"
   ]
  },
  {
   "cell_type": "markdown",
   "metadata": {},
   "source": [
    "Total number of null values in `learn_monthly_expend`:"
   ]
  },
  {
   "cell_type": "code",
   "execution_count": 78,
   "metadata": {},
   "outputs": [
    {
     "data": {
      "text/plain": [
       "675"
      ]
     },
     "execution_count": 78,
     "metadata": {},
     "output_type": "execute_result"
    }
   ],
   "source": [
    "survey_2['learn_monthly_expend'].isnull().sum()"
   ]
  },
  {
   "cell_type": "markdown",
   "metadata": {},
   "source": [
    "New DataFrame `survey_3`: excluding rows where `learn_monthly_expend` is null:"
   ]
  },
  {
   "cell_type": "code",
   "execution_count": 79,
   "metadata": {},
   "outputs": [],
   "source": [
    "survey_3 = survey_2[survey_2['learn_monthly_expend'].notnull()]"
   ]
  },
  {
   "cell_type": "markdown",
   "metadata": {},
   "source": [
    "Confirming: the total number of rows in `survey_3` plus 675 (null values removed) should add up to the total number of rows in `survey_2`:"
   ]
  },
  {
   "cell_type": "code",
   "execution_count": 80,
   "metadata": {},
   "outputs": [
    {
     "data": {
      "text/plain": [
       "6992"
      ]
     },
     "execution_count": 80,
     "metadata": {},
     "output_type": "execute_result"
    }
   ],
   "source": [
    "survey_2.shape[0]"
   ]
  },
  {
   "cell_type": "code",
   "execution_count": 81,
   "metadata": {},
   "outputs": [
    {
     "data": {
      "text/plain": [
       "6992"
      ]
     },
     "execution_count": 81,
     "metadata": {},
     "output_type": "execute_result"
    }
   ],
   "source": [
    "survey_3.shape[0] + 675"
   ]
  },
  {
   "cell_type": "markdown",
   "metadata": {},
   "source": [
    "survey_2018.info(verbose=True)"
   ]
  },
  {
   "cell_type": "code",
   "execution_count": 82,
   "metadata": {},
   "outputs": [],
   "source": [
    "by_country = survey_3[['CountryLive', 'learn_monthly_expend']].groupby(\n",
    "    by='CountryLive')\n",
    "\n",
    "country_mean = by_country.mean().round(2)\n",
    "\n",
    "country_median = by_country.median().round(2)"
   ]
  },
  {
   "cell_type": "markdown",
   "metadata": {},
   "source": [
    "**Note**:\n",
    "\n",
    "it is not possible to compute the mode(s) of a 'DataFrameGroupBy' object. It returns the following error:\n",
    "\n",
    "    AttributeError: 'DataFrameGroupBy' object has no attribute 'mode'.\n",
    "\n",
    "To circumvent this problem we can use the `scipy` library. scipy.stats.mode returns a tuple of (mode, count). "
   ]
  },
  {
   "cell_type": "code",
   "execution_count": 83,
   "metadata": {},
   "outputs": [],
   "source": [
    "import scipy\n",
    "\n",
    "# we specify `mode(x)[0]` because we are only interested\n",
    "# in the first value, which is the mode itself.\n",
    "country_mode = by_country.agg(lambda x: scipy.stats.mode(x)[0]).round(2)"
   ]
  },
  {
   "cell_type": "markdown",
   "metadata": {},
   "source": [
    "### Analyzing The Average Monthly Learning Expenditure By Country, Focusing On US, India, The United Kingdom And Canada.\n",
    "\n",
    "Compiling the mean, median and modes for the top four countries/markets:"
   ]
  },
  {
   "cell_type": "code",
   "execution_count": 84,
   "metadata": {},
   "outputs": [],
   "source": [
    "top_countries = ['United States of America',\n",
    "                 'India',\n",
    "                 'United Kingdom',\n",
    "                 'Canada']\n",
    "\n",
    "top_countries_expend = pd.DataFrame({'mean expend (USD)': country_mean.loc[top_countries, 'learn_monthly_expend'],\n",
    "                                     'median expend (USD)': country_median.loc[top_countries, 'learn_monthly_expend'],\n",
    "                                     'mode expend (USD)': country_mode.loc[top_countries, 'learn_monthly_expend']})"
   ]
  },
  {
   "cell_type": "code",
   "execution_count": 85,
   "metadata": {},
   "outputs": [
    {
     "data": {
      "text/html": [
       "<div>\n",
       "<style scoped>\n",
       "    .dataframe tbody tr th:only-of-type {\n",
       "        vertical-align: middle;\n",
       "    }\n",
       "\n",
       "    .dataframe tbody tr th {\n",
       "        vertical-align: top;\n",
       "    }\n",
       "\n",
       "    .dataframe thead th {\n",
       "        text-align: right;\n",
       "    }\n",
       "</style>\n",
       "<table border=\"1\" class=\"dataframe\">\n",
       "  <thead>\n",
       "    <tr style=\"text-align: right;\">\n",
       "      <th></th>\n",
       "      <th>mean expend (USD)</th>\n",
       "      <th>median expend (USD)</th>\n",
       "      <th>mode expend (USD)</th>\n",
       "    </tr>\n",
       "    <tr>\n",
       "      <th>CountryLive</th>\n",
       "      <th></th>\n",
       "      <th></th>\n",
       "      <th></th>\n",
       "    </tr>\n",
       "  </thead>\n",
       "  <tbody>\n",
       "    <tr>\n",
       "      <th>United States of America</th>\n",
       "      <td>228.00</td>\n",
       "      <td>3.33</td>\n",
       "      <td>0.0</td>\n",
       "    </tr>\n",
       "    <tr>\n",
       "      <th>India</th>\n",
       "      <td>135.10</td>\n",
       "      <td>0.00</td>\n",
       "      <td>0.0</td>\n",
       "    </tr>\n",
       "    <tr>\n",
       "      <th>Canada</th>\n",
       "      <td>113.51</td>\n",
       "      <td>0.00</td>\n",
       "      <td>0.0</td>\n",
       "    </tr>\n",
       "    <tr>\n",
       "      <th>United Kingdom</th>\n",
       "      <td>45.53</td>\n",
       "      <td>0.00</td>\n",
       "      <td>0.0</td>\n",
       "    </tr>\n",
       "  </tbody>\n",
       "</table>\n",
       "</div>"
      ],
      "text/plain": [
       "                          mean expend (USD)  median expend (USD)  \\\n",
       "CountryLive                                                        \n",
       "United States of America             228.00                 3.33   \n",
       "India                                135.10                 0.00   \n",
       "Canada                               113.51                 0.00   \n",
       "United Kingdom                        45.53                 0.00   \n",
       "\n",
       "                          mode expend (USD)  \n",
       "CountryLive                                  \n",
       "United States of America                0.0  \n",
       "India                                   0.0  \n",
       "Canada                                  0.0  \n",
       "United Kingdom                          0.0  "
      ]
     },
     "execution_count": 85,
     "metadata": {},
     "output_type": "execute_result"
    }
   ],
   "source": [
    "top_countries_expend = top_countries_expend.sort_values('mean expend (USD)',\n",
    "                                                        ascending=False)\n",
    "\n",
    "top_countries_expend"
   ]
  },
  {
   "cell_type": "code",
   "execution_count": 124,
   "metadata": {},
   "outputs": [
    {
     "data": {
      "text/html": [
       "<div>\n",
       "<style scoped>\n",
       "    .dataframe tbody tr th:only-of-type {\n",
       "        vertical-align: middle;\n",
       "    }\n",
       "\n",
       "    .dataframe tbody tr th {\n",
       "        vertical-align: top;\n",
       "    }\n",
       "\n",
       "    .dataframe thead th {\n",
       "        text-align: right;\n",
       "    }\n",
       "</style>\n",
       "<table border=\"1\" class=\"dataframe\">\n",
       "  <thead>\n",
       "    <tr style=\"text-align: right;\">\n",
       "      <th></th>\n",
       "      <th>USA</th>\n",
       "      <th>India</th>\n",
       "      <th>UK</th>\n",
       "      <th>Canada</th>\n",
       "    </tr>\n",
       "  </thead>\n",
       "  <tbody>\n",
       "    <tr>\n",
       "      <th>count</th>\n",
       "      <td>2933.00</td>\n",
       "      <td>463.00</td>\n",
       "      <td>279.00</td>\n",
       "      <td>240.00</td>\n",
       "    </tr>\n",
       "    <tr>\n",
       "      <th>mean</th>\n",
       "      <td>228.00</td>\n",
       "      <td>135.10</td>\n",
       "      <td>45.53</td>\n",
       "      <td>113.51</td>\n",
       "    </tr>\n",
       "    <tr>\n",
       "      <th>std</th>\n",
       "      <td>1940.25</td>\n",
       "      <td>692.96</td>\n",
       "      <td>162.31</td>\n",
       "      <td>441.01</td>\n",
       "    </tr>\n",
       "    <tr>\n",
       "      <th>min</th>\n",
       "      <td>0.00</td>\n",
       "      <td>0.00</td>\n",
       "      <td>0.00</td>\n",
       "      <td>0.00</td>\n",
       "    </tr>\n",
       "    <tr>\n",
       "      <th>25%</th>\n",
       "      <td>0.00</td>\n",
       "      <td>0.00</td>\n",
       "      <td>0.00</td>\n",
       "      <td>0.00</td>\n",
       "    </tr>\n",
       "    <tr>\n",
       "      <th>50%</th>\n",
       "      <td>3.33</td>\n",
       "      <td>0.00</td>\n",
       "      <td>0.00</td>\n",
       "      <td>0.00</td>\n",
       "    </tr>\n",
       "    <tr>\n",
       "      <th>75%</th>\n",
       "      <td>50.00</td>\n",
       "      <td>13.25</td>\n",
       "      <td>20.42</td>\n",
       "      <td>25.00</td>\n",
       "    </tr>\n",
       "    <tr>\n",
       "      <th>max</th>\n",
       "      <td>80000.00</td>\n",
       "      <td>10000.00</td>\n",
       "      <td>1400.00</td>\n",
       "      <td>5000.00</td>\n",
       "    </tr>\n",
       "  </tbody>\n",
       "</table>\n",
       "</div>"
      ],
      "text/plain": [
       "            USA     India       UK   Canada\n",
       "count   2933.00    463.00   279.00   240.00\n",
       "mean     228.00    135.10    45.53   113.51\n",
       "std     1940.25    692.96   162.31   441.01\n",
       "min        0.00      0.00     0.00     0.00\n",
       "25%        0.00      0.00     0.00     0.00\n",
       "50%        3.33      0.00     0.00     0.00\n",
       "75%       50.00     13.25    20.42    25.00\n",
       "max    80000.00  10000.00  1400.00  5000.00"
      ]
     },
     "execution_count": 124,
     "metadata": {},
     "output_type": "execute_result"
    }
   ],
   "source": [
    "usa = survey_3.copy(0)[survey_3['CountryLive'] == 'United States of America']\n",
    "india = survey_3.copy(0)[survey_3['CountryLive'] == 'India']\n",
    "uk = survey_3.copy(0)[survey_3['CountryLive'] == 'United Kingdom']\n",
    "canada = survey_3.copy(0)[survey_3['CountryLive'] == 'Canada']\n",
    "\n",
    "\n",
    "usa_expend = usa['learn_monthly_expend']\n",
    "india_expend = india['learn_monthly_expend']\n",
    "uk_expend = uk['learn_monthly_expend']\n",
    "canada_expend = canada['learn_monthly_expend']\n",
    "\n",
    "\n",
    "country_expend_descrip_2017 = pd.DataFrame({'USA':usa_expend.describe(),\n",
    "                                       'India':india_expend.describe(),\n",
    "                                       'UK':uk_expend.describe(),\n",
    "                                       'Canada':canada_expend.describe()}).round(2)\n",
    "country_expend_descrip_2017"
   ]
  },
  {
   "cell_type": "markdown",
   "metadata": {},
   "source": [
    "`country_expend_descrip` shows the average monthly learning  expenditure in USD, by country. We can see that there are great discrepancies of magnitude between the mean, the median and the mode (the mode for every country in the panel is `$0`; these are described in the Annex I - 'Monthly Learning Expenditures (2017): mode(s)'). The means are too high if contrasted with the medians, i.e. 50% of the total values, are `$0` or close to it. Also, the maximum values for the monthly expenditure in both cases is suspiciously high; we can see that the difference between the maximum value and the upper quartile (75%), in all cases, is disproportionately high. This discrepancy may indicate that there are outliers that are inflating the mean. For outliers one means very high monthly expenditures which may derived from a mistaken answer given by some respondents, or maybe there are types of e-learning platforms/businesses, which set their prices substantially higher to those practiced by the majority of the e-learning platforms mentioned in the survey. This might be the case of university courses/degrees and bootcamps. "
   ]
  },
  {
   "cell_type": "markdown",
   "metadata": {},
   "source": [
    "## Slide 6\n",
    "---\n",
    "In the last exercise, you should have arrived at the following mean values:\n",
    "\n",
    "    CountryLive\n",
    "    United States of America    227.997996\n",
    "    India                       135.100982\n",
    "    United Kingdom               45.534443\n",
    "    Canada                      113.510961\n",
    "    Name: money_per_month, dtype: float64\n",
    "\n",
    "\n",
    "\n",
    "The results for the United Kingdom and Canada are surprisingly low relative to the values we see for India. If we considered a few socio-economical metrics (like GDP per capita), we'd intuitively expect people in the UK and Canada to spend more on learning than people in India.\n",
    "\n",
    "It might be that we don't have have enough representative data for the United Kingdom, Canada, and India, or we have some outliers (maybe coming from wrong survey answers) making the mean too big for India, or too low for the UK and Canada. Or it might be that the results are correct.\n",
    "\n",
    "\n",
    "#### Instructions\n",
    "---\n",
    "- Generate four box plots on the same figure to visualize for each country (the US, India, the United Kingdom, Canada) the distribution of the variable that describes how much money each participant had spent per month.\n",
    "    - Can you spot extreme outliers for India, Canada or the United Kingdom?\n",
    "    - If not, what extreme outliers can you spot?\n",
    "\n",
    "\n",
    "- Eliminate the extreme outliers.\n",
    "\n",
    "\n",
    "- Recompute the mean values, just like we did in the previous screen: group the data by the `CountryLive` column, and then find out how much money a student spends on average each month in the US, India, the United Kingdom and Canada.\n",
    "    - If the mean values still look off, look more for extreme outliers. For instance, you can find a couple of persons in India who spend $5000 per month. Isolate these respondents and examine their answers to other questions in the survey to figure out whether these big expenses with learning are justified — you can try to find out whether they attended any bootcamp, which might justify the large amount of money spent.\n",
    "    - If you find more extreme outliers, remove them, and recompute the mean values.\n",
    "    - If you get stuck, you can always sneak a look at the solution notebook.\n",
    "\n",
    "\n",
    "- Is it clear enough at this point what are the two best countries to choose for advertisement?"
   ]
  },
  {
   "cell_type": "markdown",
   "metadata": {},
   "source": [
    "### Boxplot Analysis Of Monthy Expenditures.\n",
    "\n",
    "Given that the average monthly expenditures are completely uneven, we must decide realistically, what is the consumer target. Provided that most of the high expenditure outliers are real and not a typo from the survey respondents, we must  observe closely the distribution of values and then decide how to remove the extreme outliers."
   ]
  },
  {
   "cell_type": "code",
   "execution_count": 87,
   "metadata": {},
   "outputs": [
    {
     "data": {
      "image/png": "[encoded data removed]",
      "text/plain": [
       "<Figure size 864x864 with 4 Axes>"
      ]
     },
     "metadata": {},
     "output_type": "display_data"
    }
   ],
   "source": [
    "fig = plt.figure(figsize=(12, 12))\n",
    "\n",
    "plt.style.use('seaborn')\n",
    "\n",
    "\n",
    "fig.suptitle('Figure 2: Avg. Monthly Learning Expenditure By Country (2017 Survey)', fontsize=16)\n",
    "\n",
    "\n",
    "ax1 = plt.subplot(2, 2, 1)\n",
    "ax2 = plt.subplot(2, 2, 2)\n",
    "ax3 = plt.subplot(2, 2, 3)\n",
    "ax4 = plt.subplot(2, 2, 4)\n",
    "\n",
    "\n",
    "# Boxplots.\n",
    "\n",
    "# ax1\n",
    "ax1.set_title('USA')\n",
    "\n",
    "ax1.boxplot(usa_expend)\n",
    "\n",
    "ax1.set(xticklabels=[])  # hiding x tick labels\n",
    "\n",
    "ax1.set_ylabel('USD')\n",
    "\n",
    "\n",
    "# ax2\n",
    "ax2.set_title('UK')\n",
    "\n",
    "ax2.boxplot(uk_expend)\n",
    "\n",
    "ax2.set(xticklabels=[])\n",
    "\n",
    "# ax3\n",
    "ax3.set_title('India')\n",
    "\n",
    "ax3.boxplot(india_expend)\n",
    "\n",
    "ax3.set(xticklabels=[])\n",
    "\n",
    "ax3.set_ylabel('USD')\n",
    "\n",
    "# ax4\n",
    "ax4.set_title('Canada')\n",
    "\n",
    "ax4.boxplot(canada_expend)\n",
    "\n",
    "ax4.set(xticklabels=[])\n",
    "\n",
    "\n",
    "plt.show()"
   ]
  },
  {
   "cell_type": "markdown",
   "metadata": {},
   "source": [
    "Based on the boxplots displayed above (Figure 2) we can acknowledge the presence of upper outliers as the boxplots themselves are 'squashed down' near the minimum value, which is `$0`. In order to trim those upper outliers, three possible criteria come to mind:\n",
    "\n",
    "- assess the outliers visually and determine a threshold.\n",
    "\n",
    "\n",
    "- remove the top 1% monthly expenditures.\n",
    "\n",
    "\n",
    "- remove values over the top whisker, which is calculated resorting to the inter-quartile range (IQR):\n",
    "\n",
    "\n",
    "\\begin{align}\n",
    "IQR = upper_{quartile} - lower_{quartile} \\\\\n",
    "\\text{Upper Box Plot Whisker} = upper_{quartile} + IQR*1.5 \\\\\n",
    "outlier > \\text{Upper Box Plot Whisker} \n",
    "\\end{align}\n",
    "    \n",
    "\n",
    "- compute the Z-score of each value for each Series and trim the values above 2 or 3 standard-errors. \n",
    "\n",
    "For this analysis, let's focus on two scenarios: 1st, trimming a top percentage of outliers; 2nd remove outliers beyond the upper whisker. We lay out the descriptive statistics and box plots, and then compare both scenarios."
   ]
  },
  {
   "cell_type": "markdown",
   "metadata": {},
   "source": [
    "**Scenario 1** - Removing the top 3% of values of each country.\n",
    "\n",
    "Note: although not depicted, removing only the highest 1% and 2% monthly expenditures from the UK frequency distribution, did not remove all the extreme outliers, but 3% accomplished that. Therefore we set the trimming of the top 3% for every country, for ease of comparison."
   ]
  },
  {
   "cell_type": "code",
   "execution_count": 88,
   "metadata": {},
   "outputs": [],
   "source": [
    "# 1st, compute how many observations is 3%.\n",
    "# Since odd values will create results with decimals we round\n",
    "# to zero decimals and convert to integer again to be able to\n",
    "# use them below in .loc[].\n",
    "usa_3_perc = int(round(usa_expend.size*0.03, 0))\n",
    "india_3_perc = int(round(india_expend.size*0.03, 0))\n",
    "uk_3_perc = int(round(uk_expend.size*0.03, 0))\n",
    "canada_3_perc = int(round(canada_expend.size*0.03, 0))\n",
    "\n",
    "\n",
    "# 2nd, sort values in descending order.\n",
    "usa_expend = usa_expend.sort_values(ascending=False)\n",
    "india_expend = india_expend.sort_values(ascending=False)\n",
    "uk_expend = uk_expend.sort_values(ascending=False)\n",
    "canada_expend = canada_expend.sort_values(ascending=False)\n",
    "\n",
    "# 3rd, trim the top 3% out of the beginning of each series.\n",
    "# We add '+1' in `.loc[]` to exclude the last value/row belonging to the top 3%.\n",
    "usa_expend_trim1 = usa_expend.iloc[usa_3_perc+1:]\n",
    "india_expend_trim1 = india_expend.iloc[india_3_perc+1:]\n",
    "uk_expend_trim1 = uk_expend.iloc[uk_3_perc+1:]\n",
    "canada_expend_trim1 = canada_expend.iloc[canada_3_perc+1:]"
   ]
  },
  {
   "cell_type": "markdown",
   "metadata": {},
   "source": [
    "Basic Statistics of the trimmed monthly expenditures series by country (in USD):"
   ]
  },
  {
   "cell_type": "code",
   "execution_count": 89,
   "metadata": {},
   "outputs": [
    {
     "data": {
      "text/html": [
       "<div>\n",
       "<style scoped>\n",
       "    .dataframe tbody tr th:only-of-type {\n",
       "        vertical-align: middle;\n",
       "    }\n",
       "\n",
       "    .dataframe tbody tr th {\n",
       "        vertical-align: top;\n",
       "    }\n",
       "\n",
       "    .dataframe thead th {\n",
       "        text-align: right;\n",
       "    }\n",
       "</style>\n",
       "<table border=\"1\" class=\"dataframe\">\n",
       "  <thead>\n",
       "    <tr style=\"text-align: right;\">\n",
       "      <th></th>\n",
       "      <th>USA</th>\n",
       "      <th>India</th>\n",
       "      <th>UK</th>\n",
       "      <th>Canada</th>\n",
       "    </tr>\n",
       "  </thead>\n",
       "  <tbody>\n",
       "    <tr>\n",
       "      <th>count</th>\n",
       "      <td>2844.00</td>\n",
       "      <td>448.00</td>\n",
       "      <td>270.00</td>\n",
       "      <td>232.00</td>\n",
       "    </tr>\n",
       "    <tr>\n",
       "      <th>mean</th>\n",
       "      <td>72.69</td>\n",
       "      <td>39.36</td>\n",
       "      <td>20.86</td>\n",
       "      <td>46.93</td>\n",
       "    </tr>\n",
       "    <tr>\n",
       "      <th>std</th>\n",
       "      <td>198.62</td>\n",
       "      <td>129.91</td>\n",
       "      <td>44.38</td>\n",
       "      <td>139.96</td>\n",
       "    </tr>\n",
       "    <tr>\n",
       "      <th>min</th>\n",
       "      <td>0.00</td>\n",
       "      <td>0.00</td>\n",
       "      <td>0.00</td>\n",
       "      <td>0.00</td>\n",
       "    </tr>\n",
       "    <tr>\n",
       "      <th>25%</th>\n",
       "      <td>0.00</td>\n",
       "      <td>0.00</td>\n",
       "      <td>0.00</td>\n",
       "      <td>0.00</td>\n",
       "    </tr>\n",
       "    <tr>\n",
       "      <th>50%</th>\n",
       "      <td>2.50</td>\n",
       "      <td>0.00</td>\n",
       "      <td>0.00</td>\n",
       "      <td>0.00</td>\n",
       "    </tr>\n",
       "    <tr>\n",
       "      <th>75%</th>\n",
       "      <td>35.00</td>\n",
       "      <td>11.11</td>\n",
       "      <td>16.67</td>\n",
       "      <td>20.00</td>\n",
       "    </tr>\n",
       "    <tr>\n",
       "      <th>max</th>\n",
       "      <td>1571.43</td>\n",
       "      <td>1000.00</td>\n",
       "      <td>250.00</td>\n",
       "      <td>900.00</td>\n",
       "    </tr>\n",
       "  </tbody>\n",
       "</table>\n",
       "</div>"
      ],
      "text/plain": [
       "           USA    India      UK  Canada\n",
       "count  2844.00   448.00  270.00  232.00\n",
       "mean     72.69    39.36   20.86   46.93\n",
       "std     198.62   129.91   44.38  139.96\n",
       "min       0.00     0.00    0.00    0.00\n",
       "25%       0.00     0.00    0.00    0.00\n",
       "50%       2.50     0.00    0.00    0.00\n",
       "75%      35.00    11.11   16.67   20.00\n",
       "max    1571.43  1000.00  250.00  900.00"
      ]
     },
     "execution_count": 89,
     "metadata": {},
     "output_type": "execute_result"
    }
   ],
   "source": [
    "country_expend_descrip_2 = pd.DataFrame({'USA':usa_expend_trim1.describe(),\n",
    "                                       'India':india_expend_trim1.describe(),\n",
    "                                       'UK':uk_expend_trim1.describe(),\n",
    "                                       'Canada':canada_expend_trim1.describe()}).round(2)\n",
    "country_expend_descrip_2"
   ]
  },
  {
   "cell_type": "markdown",
   "metadata": {},
   "source": [
    "The function `upper_threshold` helps to calculate the value of the top whisker (outlier threshold) of a Series, so that we can label it in the box plot below:"
   ]
  },
  {
   "cell_type": "code",
   "execution_count": 90,
   "metadata": {},
   "outputs": [],
   "source": [
    "def upper_threshold(series):\n",
    "    \"\"\"Takes a frequency distribution and returns an upper \n",
    "    outlier threshold (upper boxplot whisker).\n",
    "    \"\"\"\n",
    "\n",
    "    lower_quartile = series.describe()[4]\n",
    "    upper_quartile = series.describe()[6]\n",
    "    interquartile_range = upper_quartile - lower_quartile\n",
    "    upper_threshold = upper_quartile + interquartile_range*1.5\n",
    "\n",
    "    return upper_threshold"
   ]
  },
  {
   "cell_type": "code",
   "execution_count": 91,
   "metadata": {},
   "outputs": [
    {
     "data": {
      "image/png": "[encoded data removed]",
      "text/plain": [
       "<Figure size 864x1296 with 4 Axes>"
      ]
     },
     "metadata": {},
     "output_type": "display_data"
    }
   ],
   "source": [
    "fig = plt.figure(figsize=(12, 18))\n",
    "\n",
    "plt.style.use('seaborn')\n",
    "\n",
    "\n",
    "fig.suptitle(\n",
    "    'Figure 3: Scenario 1, Avg. Monthly Learning Expenditure - Trimmed top 3%', fontsize=16)\n",
    "\n",
    "\n",
    "ax1 = plt.subplot(2, 2, 1)\n",
    "ax2 = plt.subplot(2, 2, 2)\n",
    "ax3 = plt.subplot(2, 2, 3)\n",
    "ax4 = plt.subplot(2, 2, 4)\n",
    "\n",
    "\n",
    "# Boxplots.\n",
    "\n",
    "# ax1\n",
    "ax1.set_title('USA')\n",
    "\n",
    "ax1.boxplot(usa_expend_trim1)\n",
    "\n",
    "ax1.set(xticklabels=[])  # hiding x tick labels\n",
    "\n",
    "ax1.set_ylabel('USD')\n",
    "\n",
    "\n",
    "# Customizing the y labels to only show: median, upper quartile, outlier threshold and max value.\n",
    "\n",
    "# Shortening the name for ease of use.\n",
    "ced2 = country_expend_descrip_2.copy()\n",
    "\n",
    "label_list_usa_1 = [ced2.loc['50%', 'USA'].round(2),\n",
    "                  ced2.loc['75%', 'USA'].round(2),\n",
    "                  upper_threshold(usa_expend_trim1).round(2),\n",
    "                  ced2.loc['max', 'USA'].round(2)]\n",
    "\n",
    "ax1.yaxis.set_ticks(label_list_usa_1)\n",
    "ax1.yaxis.set_ticklabels(label_list_usa_1)\n",
    "\n",
    "\n",
    "# ax2\n",
    "ax2.set_title('UK')\n",
    "\n",
    "ax2.boxplot(uk_expend_trim1)\n",
    "\n",
    "ax2.set(xticklabels=[])\n",
    "\n",
    "# Customizing the y labels to only show: median, upper quartile, outlier threshold and max value.\n",
    "label_list_uk_1 = [ced2.loc['50%', 'UK'].round(2),\n",
    "              ced2.loc['75%', 'UK'].round(2),\n",
    "              upper_threshold(uk_expend_trim1).round(2),\n",
    "              ced2.loc['max', 'UK'].round(2)]\n",
    "\n",
    "ax2.yaxis.set_ticks(label_list_uk_1)\n",
    "ax2.yaxis.set_ticklabels(label_list_uk_1)\n",
    "\n",
    "# ax3\n",
    "ax3.set_title('India')\n",
    "\n",
    "ax3.boxplot(india_expend_trim1)\n",
    "\n",
    "ax3.set(xticklabels=[])\n",
    "\n",
    "ax3.set_ylabel('USD')\n",
    "\n",
    "# Customizing the y labels to only show: median, upper quartile, outlier threshold and max value.\n",
    "label_list_india_1 = [ced2.loc['50%', 'India'].round(2),\n",
    "              ced2.loc['75%', 'India'].round(2),\n",
    "              upper_threshold(india_expend_trim1).round(2),\n",
    "              ced2.loc['max', 'India'].round(2)]\n",
    "\n",
    "ax3.yaxis.set_ticks(label_list_india_1)\n",
    "ax3.yaxis.set_ticklabels(label_list_india_1)\n",
    "\n",
    "# ax4\n",
    "ax4.set_title('Canada')\n",
    "\n",
    "ax4.boxplot(canada_expend_trim1)\n",
    "\n",
    "ax4.set(xticklabels=[])\n",
    "\n",
    "# Customizing the y labels to only show: median, upper quartile, outlier threshold and max value.\n",
    "label_list_canada_1 = [ced2.loc['50%', 'Canada'].round(2),\n",
    "              ced2.loc['75%', 'Canada'].round(2),\n",
    "              upper_threshold(canada_expend_trim1).round(2),\n",
    "              ced2.loc['max', 'Canada'].round(2)]\n",
    "\n",
    "ax4.yaxis.set_ticks(label_list_canada_1)\n",
    "ax4.yaxis.set_ticklabels(label_list_canada_1)\n",
    "\n",
    "\n",
    "plt.show()"
   ]
  },
  {
   "cell_type": "markdown",
   "metadata": {},
   "source": [
    "#### Scenario 2\n",
    "\n",
    "In this scenario, the maximum value in each boxplot is the top whisker of Figure 2 (no trimming), i.e. all values above this threshold were removed from the original series.\n",
    "\n",
    "To trim out the outliers into a new set of series for each country, we resort again to `upper_threshold`."
   ]
  },
  {
   "cell_type": "code",
   "execution_count": 92,
   "metadata": {},
   "outputs": [],
   "source": [
    "# Computing the thresholds for all countries.\n",
    "usa_threshold = upper_threshold(usa_expend)\n",
    "india_threshold = upper_threshold(india_expend)\n",
    "uk_threshold = upper_threshold(uk_expend)\n",
    "canada_threshold = upper_threshold(canada_expend)\n",
    "\n",
    "# Applying the thresholds as a condition to remove the upper ouliers.\n",
    "usa_expend_trim2 = usa_expend[usa_expend < usa_threshold]\n",
    "india_expend_trim2 = india_expend[india_expend < india_threshold]\n",
    "uk_expend_trim2 = uk_expend[uk_expend < uk_threshold]\n",
    "canada_expend_trim2 = canada_expend[canada_expend < usa_threshold]"
   ]
  },
  {
   "cell_type": "markdown",
   "metadata": {},
   "source": [
    "`country_expend_descrip_3` gives the panel of basic statistics for the monthly expenditure series completely removed of outliers."
   ]
  },
  {
   "cell_type": "code",
   "execution_count": 93,
   "metadata": {},
   "outputs": [
    {
     "data": {
      "text/html": [
       "<div>\n",
       "<style scoped>\n",
       "    .dataframe tbody tr th:only-of-type {\n",
       "        vertical-align: middle;\n",
       "    }\n",
       "\n",
       "    .dataframe tbody tr th {\n",
       "        vertical-align: top;\n",
       "    }\n",
       "\n",
       "    .dataframe thead th {\n",
       "        text-align: right;\n",
       "    }\n",
       "</style>\n",
       "<table border=\"1\" class=\"dataframe\">\n",
       "  <thead>\n",
       "    <tr style=\"text-align: right;\">\n",
       "      <th></th>\n",
       "      <th>USA</th>\n",
       "      <th>India</th>\n",
       "      <th>UK</th>\n",
       "      <th>Canada</th>\n",
       "    </tr>\n",
       "  </thead>\n",
       "  <tbody>\n",
       "    <tr>\n",
       "      <th>count</th>\n",
       "      <td>2468.00</td>\n",
       "      <td>371.00</td>\n",
       "      <td>234.00</td>\n",
       "      <td>209.00</td>\n",
       "    </tr>\n",
       "    <tr>\n",
       "      <th>mean</th>\n",
       "      <td>13.67</td>\n",
       "      <td>2.53</td>\n",
       "      <td>6.10</td>\n",
       "      <td>9.23</td>\n",
       "    </tr>\n",
       "    <tr>\n",
       "      <th>std</th>\n",
       "      <td>24.69</td>\n",
       "      <td>5.45</td>\n",
       "      <td>11.55</td>\n",
       "      <td>18.31</td>\n",
       "    </tr>\n",
       "    <tr>\n",
       "      <th>min</th>\n",
       "      <td>0.00</td>\n",
       "      <td>0.00</td>\n",
       "      <td>0.00</td>\n",
       "      <td>0.00</td>\n",
       "    </tr>\n",
       "    <tr>\n",
       "      <th>25%</th>\n",
       "      <td>0.00</td>\n",
       "      <td>0.00</td>\n",
       "      <td>0.00</td>\n",
       "      <td>0.00</td>\n",
       "    </tr>\n",
       "    <tr>\n",
       "      <th>50%</th>\n",
       "      <td>0.00</td>\n",
       "      <td>0.00</td>\n",
       "      <td>0.00</td>\n",
       "      <td>0.00</td>\n",
       "    </tr>\n",
       "    <tr>\n",
       "      <th>75%</th>\n",
       "      <td>16.67</td>\n",
       "      <td>2.04</td>\n",
       "      <td>8.00</td>\n",
       "      <td>9.29</td>\n",
       "    </tr>\n",
       "    <tr>\n",
       "      <th>max</th>\n",
       "      <td>121.43</td>\n",
       "      <td>31.00</td>\n",
       "      <td>50.00</td>\n",
       "      <td>100.00</td>\n",
       "    </tr>\n",
       "  </tbody>\n",
       "</table>\n",
       "</div>"
      ],
      "text/plain": [
       "           USA   India      UK  Canada\n",
       "count  2468.00  371.00  234.00  209.00\n",
       "mean     13.67    2.53    6.10    9.23\n",
       "std      24.69    5.45   11.55   18.31\n",
       "min       0.00    0.00    0.00    0.00\n",
       "25%       0.00    0.00    0.00    0.00\n",
       "50%       0.00    0.00    0.00    0.00\n",
       "75%      16.67    2.04    8.00    9.29\n",
       "max     121.43   31.00   50.00  100.00"
      ]
     },
     "execution_count": 93,
     "metadata": {},
     "output_type": "execute_result"
    }
   ],
   "source": [
    "country_expend_descrip_3 = pd.DataFrame({'USA':usa_expend_trim2.describe(),\n",
    "                                       'India':india_expend_trim2.describe(),\n",
    "                                       'UK':uk_expend_trim2.describe(),\n",
    "                                       'Canada':canada_expend_trim2.describe()}).round(2)\n",
    "country_expend_descrip_3"
   ]
  },
  {
   "cell_type": "code",
   "execution_count": 94,
   "metadata": {},
   "outputs": [
    {
     "data": {
      "image/png": "[encoded data removed]",
      "text/plain": [
       "<Figure size 864x864 with 4 Axes>"
      ]
     },
     "metadata": {},
     "output_type": "display_data"
    }
   ],
   "source": [
    "fig = plt.figure(figsize=(12, 12))\n",
    "\n",
    "plt.style.use('seaborn')\n",
    "\n",
    "\n",
    "fig.suptitle(\n",
    "    'Figure 4: Scenario 2, Avg. Monthly Learning Expenditure - outlier formula', fontsize=16)\n",
    "\n",
    "\n",
    "ax1 = plt.subplot(2, 2, 1)\n",
    "ax2 = plt.subplot(2, 2, 2)\n",
    "ax3 = plt.subplot(2, 2, 3)\n",
    "ax4 = plt.subplot(2, 2, 4)\n",
    "\n",
    "\n",
    "# Boxplots.\n",
    "\n",
    "# ax1\n",
    "ax1.set_title('USA')\n",
    "\n",
    "ax1.boxplot(usa_expend_trim2)\n",
    "\n",
    "ax1.set(xticklabels=[])  # hiding x tick labels\n",
    "\n",
    "ax1.set_ylabel('USD')\n",
    "\n",
    "\n",
    "\n",
    "# Customizing the y labels to only show: median, upper quartile, outlier threshold and max value.\n",
    "\n",
    "# Shortening the name for ease of use.\n",
    "ced3 = country_expend_descrip_3.copy()\n",
    "\n",
    "label_list_usa_2 = [ced3.loc['50%', 'USA'].round(2),\n",
    "                  ced3.loc['75%', 'USA'].round(2),\n",
    "                  upper_threshold(usa_expend_trim2).round(2),\n",
    "                  ced3.loc['max', 'USA'].round(2)]\n",
    "\n",
    "ax1.yaxis.set_ticks(label_list_usa_2)\n",
    "ax1.yaxis.set_ticklabels(label_list_usa_2)\n",
    "\n",
    "\n",
    "# ax2\n",
    "ax2.set_title('UK')\n",
    "\n",
    "ax2.boxplot(uk_expend_trim2)\n",
    "\n",
    "ax2.set(xticklabels=[])\n",
    "\n",
    "# Customizing the y labels to only show: median, upper quartile, outlier threshold and max value.\n",
    "label_list_uk_2 = [ced3.loc['50%', 'UK'].round(2),\n",
    "              ced3.loc['75%', 'UK'].round(2),\n",
    "              upper_threshold(uk_expend_trim2).round(2),\n",
    "              ced3.loc['max', 'UK'].round(2)]\n",
    "\n",
    "ax2.yaxis.set_ticks(label_list_uk_2)\n",
    "ax2.yaxis.set_ticklabels(label_list_uk_2)\n",
    "\n",
    "# ax3\n",
    "ax3.set_title('India')\n",
    "\n",
    "ax3.boxplot(india_expend_trim2)\n",
    "\n",
    "ax3.set_ylabel('USD')\n",
    "\n",
    "# Customizing the y labels to only show: median, upper quartile, outlier threshold and max value.\n",
    "label_list_india_2 = [ced3.loc['50%', 'India'].round(2),\n",
    "              ced3.loc['75%', 'India'].round(2),\n",
    "              upper_threshold(india_expend_trim2).round(2),\n",
    "              ced3.loc['max', 'India'].round(2)]\n",
    "\n",
    "ax3.yaxis.set_ticks(label_list_india_2)\n",
    "ax3.yaxis.set_ticklabels(label_list_india_2)\n",
    "\n",
    "\n",
    "# ax4\n",
    "ax4.set_title('Canada')\n",
    "\n",
    "ax4.boxplot(canada_expend_trim2)\n",
    "\n",
    "ax4.set(xticklabels=[])\n",
    "\n",
    "# Customizing the y labels to only show: median, upper quartile, outlier threshold and max value.\n",
    "label_list_canada_2 = [ced3.loc['50%', 'Canada'].round(2),\n",
    "              ced3.loc['75%', 'Canada'].round(2),\n",
    "              upper_threshold(canada_expend_trim2).round(2),\n",
    "              ced3.loc['max', 'Canada'].round(2)]\n",
    "\n",
    "ax4.yaxis.set_ticks(label_list_canada_2)\n",
    "ax4.yaxis.set_ticklabels(label_list_canada_2)\n",
    "\n",
    "\n",
    "\n",
    "plt.show()"
   ]
  },
  {
   "cell_type": "markdown",
   "metadata": {},
   "source": [
    "As we can see in the latest group of boxplots (Figure 4), applying the outlier formula will trim the data in a way that maximum values are now much closer the mean. We can now even visualize the 3rd quartile. When looking for similarities between Figure 3 and 4, we can conclude that the US is the best market to advertise in, because in both scenarios has the highest number of high paying students of the panel. Regarding the other countries:\n",
    "\n",
    "- Scenario 1 (top 3% trimmed): observing Figure 3, UK seems to be excluded because it has the lowest maximum and upper quartile value, whilst India and Canada show similar results: India has the maximum value of avg. expenditure of the two, but Canada has the higher upper quartile and median.\n",
    "\n",
    "\n",
    "- Scenario 2 (removing outliers beyond the upper whisker): in this case (Figure 4), the UK seems to beat India with a higher median, upper quartile and maximum expenditure, but Canada still surpasses the UK as the market with a higher avg. monthly expenditure per student. Also, in both scenarios Canada appears with the second highest mean after the US.\n",
    "\n",
    "To conclude on this part of the analysis, USA and Canada seem to be the best markets to advertise in, notwithstanding the fact that the analysis still suffers from the uneven distribution of monthly expenditures, where the majority of students spends way less than a small group, which spends disproportionately above the 75% percentile value (in both scenarios)."
   ]
  },
  {
   "cell_type": "markdown",
   "metadata": {},
   "source": [
    "## Slide 7\n",
    "---\n",
    "After eliminating the extreme outliers, we found the following mean values:\n",
    "\n",
    "    CountryLive\n",
    "    Canada                       93.065400\n",
    "    India                        65.758763\n",
    "    United Kingdom               45.534443\n",
    "    United States of America    142.654608\n",
    "    Name: money_per_month, dtype: float64\n",
    "\n",
    "There's not only one solution in this case, and you might have found solid arguments to take different decisions with respect to eliminating some of the outliers. You can see the decision we took in the [solution notebook](https://github.com/dataquestio/solutions/blob/master/Mission310Solutions.ipynb).\n",
    "\n",
    "Considering the results we've found so far, one country we should definitely advertise in is the US. There are a lot of new coders living there and they are willing to pay a good amount of money each month.\n",
    "\n",
    "We need to choose one more market though.\n",
    "\n",
    "\n",
    "\n",
    "#### Instructions\n",
    "---\n",
    "- Try to choose the second market to advertise in.\n",
    "    - Remember that we sell subscriptions at a price of $59 per month.\n",
    "    - Make sure you also consider the number of potential customers in each country.\n",
    "\n",
    "\n",
    "- Based on all of the results you've found so far, brainstorm a couple of possible decisions.\n",
    "    - Does it make sense to advertise in more then two countries?\n",
    "    - Does it make sense to split the advertising budget unequally (e.g.: spend 70% to advertise in the US and 30% to advertise in India)?\n",
    "    - Does it make sense to advertise only in the US?\n",
    "    - If we had a marketing team in our company, would it be better to just send them our results and let them use their domain knowledge to take the best decision?"
   ]
  },
  {
   "cell_type": "markdown",
   "metadata": {},
   "source": [
    "### Choosing The Markets To Invest Based On The Perceived Willingness To Pay Of Potential Costumers.\n",
    "\n",
    "Considering again scenarios 1 and 2, how many students spend \\\\$59 or more in learning expenditures? And what if we consider students that spend less than \\\\$59 but can also be perceived as potential costumers? Lets say that potential costumers can also be included if they are already spending at least half of the proposed price, i.e. around \\\\$29 in monthly expenditures. Below we register both scenarios."
   ]
  },
  {
   "cell_type": "markdown",
   "metadata": {},
   "source": [
    "Scenario 1 (top 3% trimmed):"
   ]
  },
  {
   "cell_type": "code",
   "execution_count": 95,
   "metadata": {},
   "outputs": [
    {
     "data": {
      "text/html": [
       "<div>\n",
       "<style scoped>\n",
       "    .dataframe tbody tr th:only-of-type {\n",
       "        vertical-align: middle;\n",
       "    }\n",
       "\n",
       "    .dataframe tbody tr th {\n",
       "        vertical-align: top;\n",
       "    }\n",
       "\n",
       "    .dataframe thead th {\n",
       "        text-align: right;\n",
       "    }\n",
       "</style>\n",
       "<table border=\"1\" class=\"dataframe\">\n",
       "  <thead>\n",
       "    <tr style=\"text-align: right;\">\n",
       "      <th></th>\n",
       "      <th>$59</th>\n",
       "      <th>$29</th>\n",
       "    </tr>\n",
       "  </thead>\n",
       "  <tbody>\n",
       "    <tr>\n",
       "      <th>Canada</th>\n",
       "      <td>32</td>\n",
       "      <td>46</td>\n",
       "    </tr>\n",
       "    <tr>\n",
       "      <th>India</th>\n",
       "      <td>60</td>\n",
       "      <td>78</td>\n",
       "    </tr>\n",
       "    <tr>\n",
       "      <th>UK</th>\n",
       "      <td>34</td>\n",
       "      <td>54</td>\n",
       "    </tr>\n",
       "    <tr>\n",
       "      <th>USA</th>\n",
       "      <td>575</td>\n",
       "      <td>788</td>\n",
       "    </tr>\n",
       "  </tbody>\n",
       "</table>\n",
       "</div>"
      ],
      "text/plain": [
       "        $59  $29\n",
       "Canada   32   46\n",
       "India    60   78\n",
       "UK       34   54\n",
       "USA     575  788"
      ]
     },
     "execution_count": 95,
     "metadata": {},
     "output_type": "execute_result"
    }
   ],
   "source": [
    "# For $59.\n",
    "\n",
    "usa_over59_1 = usa_expend_trim1[usa_expend_trim1 >= 59]\n",
    "india_over59_1 = india_expend_trim1[india_expend_trim1 >= 59]\n",
    "uk_over59_1 = uk_expend_trim1[uk_expend_trim1 >= 59]\n",
    "canada_over59_1 = canada_expend_trim1[canada_expend_trim1 >= 59]\n",
    "\n",
    "usa_over59_count_1 = usa_over59_1.size\n",
    "india_over59_count_1 = india_over59_1.size\n",
    "uk_over59_count_1 = uk_over59_1.size\n",
    "canada_over59_count_1 = canada_over59_1.size\n",
    "\n",
    "over_equal59_1 = pd.Series({'USA': usa_over59_count_1,\n",
    "                             'India': india_over59_count_1,\n",
    "                             'UK': uk_over59_count_1,\n",
    "                             'Canada': canada_over59_count_1})\n",
    "\n",
    "\n",
    "#  For $29.\n",
    "usa_over29_1 = usa_expend_trim1[usa_expend_trim1 >= 29]\n",
    "india_over29_1 = india_expend_trim1[india_expend_trim1 >= 29]\n",
    "uk_over29_1 = uk_expend_trim1[uk_expend_trim1 >= 29]\n",
    "canada_over29_1 = canada_expend_trim1[canada_expend_trim1 >= 29]\n",
    "\n",
    "usa_over29_count_1 = usa_over29_1.size\n",
    "india_over29_count_1 = india_over29_1.size\n",
    "uk_over29_count_1 = uk_over29_1.size\n",
    "canada_over29_count_1 = canada_over29_1.size\n",
    "\n",
    "over_equal29_1 = pd.Series({'USA': usa_over29_count_1,\n",
    "                             'India': india_over29_count_1,\n",
    "                             'UK': uk_over29_count_1,\n",
    "                             'Canada': canada_over29_count_1, })\n",
    "\n",
    "pd.DataFrame({'$59': over_equal59_1, '$29': over_equal29_1}).sort_index()"
   ]
  },
  {
   "cell_type": "markdown",
   "metadata": {},
   "source": [
    "In both cases the top number of students is USA and India, where Canada appears in last. This values are not definitive because the scenario can evolve in the next years, and with the data currently at our disposal we cannot assess which market has the highest growing rate. Regardless, for Canada to catch up to India, it would have to double down, in a short time, their number of potential costumers, which is unlikely.\n",
    "\n",
    "Another open question is whether high spenders constitute part of the potential market, or in other words, is it fair to assume that someone that is spending for example, \\\\$500+ per month, will be interested in the type of course that costs \\\\$59 per month? Perhaps the sample should control for students that seek high paying learning, not so much for the quality of the learning content, but to acquire a recognize school diploma, such as a college degree. "
   ]
  },
  {
   "cell_type": "markdown",
   "metadata": {},
   "source": [
    "#### Scenario 2 (outliers beyond upper whisker removed)"
   ]
  },
  {
   "cell_type": "code",
   "execution_count": 96,
   "metadata": {},
   "outputs": [
    {
     "data": {
      "text/html": [
       "<div>\n",
       "<style scoped>\n",
       "    .dataframe tbody tr th:only-of-type {\n",
       "        vertical-align: middle;\n",
       "    }\n",
       "\n",
       "    .dataframe tbody tr th {\n",
       "        vertical-align: top;\n",
       "    }\n",
       "\n",
       "    .dataframe thead th {\n",
       "        text-align: right;\n",
       "    }\n",
       "</style>\n",
       "<table border=\"1\" class=\"dataframe\">\n",
       "  <thead>\n",
       "    <tr style=\"text-align: right;\">\n",
       "      <th></th>\n",
       "      <th>$59</th>\n",
       "      <th>$29</th>\n",
       "    </tr>\n",
       "  </thead>\n",
       "  <tbody>\n",
       "    <tr>\n",
       "      <th>Canada</th>\n",
       "      <td>9</td>\n",
       "      <td>23</td>\n",
       "    </tr>\n",
       "    <tr>\n",
       "      <th>India</th>\n",
       "      <td>0</td>\n",
       "      <td>1</td>\n",
       "    </tr>\n",
       "    <tr>\n",
       "      <th>UK</th>\n",
       "      <td>0</td>\n",
       "      <td>18</td>\n",
       "    </tr>\n",
       "    <tr>\n",
       "      <th>USA</th>\n",
       "      <td>199</td>\n",
       "      <td>412</td>\n",
       "    </tr>\n",
       "  </tbody>\n",
       "</table>\n",
       "</div>"
      ],
      "text/plain": [
       "        $59  $29\n",
       "Canada    9   23\n",
       "India     0    1\n",
       "UK        0   18\n",
       "USA     199  412"
      ]
     },
     "execution_count": 96,
     "metadata": {},
     "output_type": "execute_result"
    }
   ],
   "source": [
    "# For $59.\n",
    "usa_over59_2 = usa_expend_trim2[usa_expend_trim2 >= 59]\n",
    "india_over59_2 = india_expend_trim2[india_expend_trim2 >= 59]\n",
    "uk_over59_2 = uk_expend_trim2[uk_expend_trim2 >= 59]\n",
    "canada_over59_2 = canada_expend_trim2[canada_expend_trim2 >= 59]\n",
    "\n",
    "usa_over59_count_2 = usa_over59_2.size\n",
    "india_over59_count_2 = india_over59_2.size\n",
    "uk_over59_count_2 = uk_over59_2.size\n",
    "canada_over59_count_2 = canada_over59_2.size\n",
    "\n",
    "over_equal59_2 = pd.Series({'USA': usa_over59_count_2,\n",
    "                             'India': india_over59_count_2,\n",
    "                             'UK': uk_over59_count_2,\n",
    "                             'Canada': canada_over59_count_2, }).sort_values(ascending=False)\n",
    "\n",
    "\n",
    "# For $29.\n",
    "usa_over29_2 = usa_expend_trim2[usa_expend_trim2 >= 29]\n",
    "india_over29_2 = india_expend_trim2[india_expend_trim2 >= 29]\n",
    "uk_over29_2 = uk_expend_trim2[uk_expend_trim2 >= 29]\n",
    "canada_over29_2 = canada_expend_trim2[canada_expend_trim2 >= 29]\n",
    "\n",
    "usa_over29_count_2 = usa_over29_2.size\n",
    "india_over29_count_2 = india_over29_2.size\n",
    "uk_over29_count_2 = uk_over29_2.size\n",
    "canada_over29_count_2 = canada_over29_2.size\n",
    "\n",
    "over_equal29_2 = pd.Series({'USA': usa_over29_count_2,\n",
    "                             'India': india_over29_count_2,\n",
    "                             'UK': uk_over29_count_2,\n",
    "                             'Canada': canada_over29_count_2, }).sort_values(ascending=False)\n",
    "\n",
    "\n",
    "pd.DataFrame({'$59': over_equal59_2, '$29': over_equal29_2}).sort_index()"
   ]
  },
  {
   "cell_type": "markdown",
   "metadata": {},
   "source": [
    "In scenario 2, for both cases - `$59` and `$29`, USA appears first and Canada second, as the markets with the highest number of spenders."
   ]
  },
  {
   "cell_type": "markdown",
   "metadata": {},
   "source": [
    "### Some Questions And Answers Derived From The Analysis.\n",
    "---\n",
    "\n",
    "Should the company we represent invest in a second market, which one would it be?\n",
    " \n",
    "- There are arguments in favor of either India or Canada, although with a slight inclination for the former. More elements of analysis should be added so that a more precise/justified answer can be made.\n",
    "\n",
    "---\n",
    " \n",
    "Does it make sense to advertise in more than two countries?\n",
    "\n",
    "- This question relegate us again to the notion of market maturity. We have gathered evidence that the US market has the most potential, followed by India. Because the markets in UK and Canada have so few potential costumers, even if hypothetically all the costumers in one of those markets, say the UK for example, bought the course the company we represent is offering, it would still account for less than 10% of the potential costumers in the US (in all cases analyzed above). \n",
    "\n",
    "---\n",
    " \n",
    "Does it make sense to split the advertising budget unequally (e.g.: spend 70% to advertise in the US and 30% to advertise in India)?\n",
    "\n",
    "- It may depend on the costs of advertising (business/advertising permits, deals with third party platforms, etc.), but in principle, the market that offers a quicker ROI (return on investment) should weigh in more on the consigned budget.\n",
    "\n",
    "---\n",
    "\n",
    "\n",
    "Does it make sense to advertise only in the US?\n",
    "\n",
    "- Given that these markets are expected to grow, it is important to invest and to be established in new markets from the beginning, as to gain a _[first-mover advantage](https://en.wikipedia.org/wiki/First-mover_advantage)_. Also, the aforementioned advertising costs in India can be potentially lower compared with the other western countries. \n",
    "\n",
    "---\n",
    "\n",
    "If we had a marketing team in our company, would it be better to just send them our results and let them use their domain knowledge to take the best decision?\n",
    "\n",
    "- In the case of having a marketing company it would be wise to coordinate the effort between teams, so that all the expertise could be channeled to reach more refined insights on the subject, and thus more informed decision making. "
   ]
  },
  {
   "cell_type": "markdown",
   "metadata": {},
   "source": [
    "## Slide 9 (end of project)\n",
    "---\n",
    "In this project, we analyzed survey data from new coders to find the best two markets to advertise in. The only solid conclusion we reached is that the US would be a good market to advertise in.\n",
    "\n",
    "For the second best market, it wasn't clear-cut what to choose between India and Canada. We decided to send the results to the marketing team so they can use their domain knowledge to take the best decision.\n",
    "\n",
    "You might have reached different conclusions, which is totally fine, as long as you constructed a sound reasoning for those conclusions. Try to wrap up your work by writing a conclusion section that has no more than two paragraphs.\n",
    "\n",
    "You can also continue working on this project. Next steps include:\n",
    "\n",
    "\n",
    "- Finding other criteria for choosing the best market.\n",
    "\n",
    "\n",
    " - Analyzing other data sets:\n",
    "    - [freeCodeCamp's 2016 New Coders Survey](https://github.com/freeCodeCamp/2016-new-coder-survey).\n",
    "    - [freeCodeCamp's 2017 New Coders Survey](https://github.com/freeCodeCamp/2018-new-coder-survey)\n",
    "    - [Stack Overflow 2018 Developer Survey](https://www.kaggle.com/stackoverflow/stack-overflow-2018-developer-survey).\n",
    "    \n",
    "    \n",
    "- Improving your project from a stylistical point of view by following the guidelines discussed in [this style guide](https://www.dataquest.io/blog/data-science-project-style-guide).\n",
    "    \n",
    "\n",
    "Curious to see what other students have done on this project? [Head over to our Community to check them out](https://community.dataquest.io/tags/c/social/share/49/310). While you are there, please remember to show some love and give your own feedback!\n",
    "\n",
    "And of course, we welcome you to share your own project and show off your hard work. Head over to our [Community to share your finished Guided Project](https://community.dataquest.io/tags/c/social/share/49/310)!"
   ]
  },
  {
   "cell_type": "markdown",
   "metadata": {},
   "source": [
    "## Conclusion Remarks Based On The Analysis Of The 2017 _freeCodeCamp_ Survey\n",
    "---\n",
    "\n",
    "The analysis shows that the US is the undeniable best choice to advertise in. The perception is that it has, by far, the highest number of potential costumers and also the highest number of potential costumers who are willing to pay more for e-learning services. If the advertising strategy envisions the exploration of other markets, both India and Canada present evidence in their favor, although it is unclear which market might have the highest return on investment, solely based on the information provided in this one survey. To further explore the issue, one possible strategy would be to reach out to the marketing team, asking them to define more precisely the target consumer, based on how much she/he spends on e-learning content, combined with other profile aspects, such as finding out what is the preferred approach to learning, e.g. students that indicate first preference for self-paced 'pay as you go' courses should be seen as the primary target, instead of students that are more interested in bootcamps or college enrolling."
   ]
  },
  {
   "cell_type": "markdown",
   "metadata": {},
   "source": [
    "## Further Exploration - Suggesting a second best market to invest in.\n",
    "---\n",
    "With the support of more information - freeCodeCamp's 2016 and 2018 surveys, lets make a quick comparison between potential secondary markets to advertise in  based on the framework used so far."
   ]
  },
  {
   "cell_type": "markdown",
   "metadata": {},
   "source": [
    "### Reading 2016 and 2018 data sets:"
   ]
  },
  {
   "cell_type": "markdown",
   "metadata": {},
   "source": [
    "Reading 2016 and 2018 data sets:"
   ]
  },
  {
   "cell_type": "code",
   "execution_count": 97,
   "metadata": {},
   "outputs": [],
   "source": [
    "# survey_2016 also raises a warning about mixed types in the columns below, therefore we specify the type manually.\n",
    "# slight name change compared with 2017's survey ('JobInterestOther').\n",
    "dtype_dic_2016 = {'CodeEventOther': 'str',\n",
    "             'JobRoleInterestOther': 'str'}  \n",
    "\n",
    "survey_2016 = pd.read_csv('2016-FCC-New-Coders-Survey-Data.csv', dtype=dtype_dic_2016)\n",
    "survey_2018 = pd.read_csv('2018-fCC-New-Coders-Survey-Data.csv')\n",
    "\n",
    "# copying 2017's survey into a new identifier.\n",
    "survey_2017 = survey.copy()"
   ]
  },
  {
   "cell_type": "markdown",
   "metadata": {},
   "source": [
    "Basic info on the 2016 and 2018 data sets:\n",
    "\n",
    "- Full list of columns' names in the annex. "
   ]
  },
  {
   "cell_type": "code",
   "execution_count": 98,
   "metadata": {},
   "outputs": [
    {
     "name": "stdout",
     "output_type": "stream",
     "text": [
      "<class 'pandas.core.frame.DataFrame'>\n",
      "RangeIndex: 15620 entries, 0 to 15619\n",
      "Columns: 113 entries, Age to StudentDebtOwe\n",
      "dtypes: float64(85), object(28)\n",
      "memory usage: 11.8+ MB\n"
     ]
    }
   ],
   "source": [
    "survey_2016.info()"
   ]
  },
  {
   "cell_type": "code",
   "execution_count": 99,
   "metadata": {},
   "outputs": [
    {
     "name": "stdout",
     "output_type": "stream",
     "text": [
      "<class 'pandas.core.frame.DataFrame'>\n",
      "RangeIndex: 28397 entries, 0 to 28396\n",
      "Columns: 137 entries, ID to time_total_sec\n",
      "dtypes: float64(106), int64(3), object(28)\n",
      "memory usage: 26.6+ MB\n"
     ]
    }
   ],
   "source": [
    "survey_2018.info()"
   ]
  },
  {
   "cell_type": "markdown",
   "metadata": {},
   "source": [
    "Filtering both data sets in order to include only students which desire to be either a web or a mobile developer.\n",
    "\n",
    "Contrary to 2016 and 2017 versions, the 2018 survey does not have the column 'JobRoleInterest' but has for each working field, within the job role possibilities, binary columns. To filter out the 2018 data set, we include only rows which have the value `1`, in at least one of the columns below:\n",
    "\n",
    "- `job_intr_fllstck` (Full Stack)\n",
    "- `job_intr_backend` (Back End)\n",
    "- `job_intr_frntend` (Front End)\n",
    "- `job_intr_mobile`  (Mobile)\n",
    "- `job_intr_devops`  (DevOps / SysAdmin)   \n",
    "- `job_intr_datasci` (Data Science)  \n",
    "- `job_intr_teacher` (Teacher / Trainer / Developer Evangelist)\n",
    "- `job_intr_qa_engn` (Quality Assurance Engineer)  \n",
    "- `job_intr_ux_engn` (User Experience Designer)  \n",
    "- `job_intr_projm`   (Project Management)  \n",
    "- `job_intr_gamedev` (Game Development) \n",
    "- `job_intr_infosec` (Information Security)   \n",
    "- `job_intr_dataengn`(Data Engineer)\n",
    "- `job_intr_other`   (other job)"
   ]
  },
  {
   "cell_type": "markdown",
   "metadata": {},
   "source": [
    "**2016**"
   ]
  },
  {
   "cell_type": "code",
   "execution_count": 100,
   "metadata": {},
   "outputs": [],
   "source": [
    "jobrole_not_null_2016 = survey_2016['JobRoleInterest'].notnull()\n",
    "\n",
    "survey_2016_2 = survey_2016[jobrole_not_null_2016]"
   ]
  },
  {
   "cell_type": "code",
   "execution_count": 101,
   "metadata": {},
   "outputs": [],
   "source": [
    "country_res_freq_abs_2016 = survey_2016_2['CountryLive'].value_counts(\n",
    "                       ).sort_values(ascending=False)\n",
    "\n",
    "country_res_freq_rel_2016 = survey_2016_2['CountryLive'].value_counts(\n",
    "                       normalize=True).sort_values(ascending=False).round(3)*100"
   ]
  },
  {
   "cell_type": "markdown",
   "metadata": {},
   "source": [
    "**2017**\n",
    "\n",
    "(copying the 2017 DataFrame into a new identifier)"
   ]
  },
  {
   "cell_type": "code",
   "execution_count": 102,
   "metadata": {},
   "outputs": [],
   "source": [
    "survey_2017_2 = survey_2.copy()"
   ]
  },
  {
   "cell_type": "markdown",
   "metadata": {},
   "source": [
    "**2018**"
   ]
  },
  {
   "cell_type": "code",
   "execution_count": 103,
   "metadata": {},
   "outputs": [],
   "source": [
    "jobrole_not_null_2018_cond = survey_2018.loc[:, 'job_intr_fllstck':'job_intr_other'].notnull()\n",
    "\n",
    "jobrole_not_null_2018_any = jobrole_not_null_2018_cond.any(axis=1).rename('at_least_one_jobrole')\n",
    "\n",
    "survey_2018 = survey_2018.join(jobrole_not_null_2018_any)\n",
    "\n",
    "survey_2018_2 = survey_2018[survey_2018['at_least_one_jobrole']].reset_index(drop=True)"
   ]
  },
  {
   "cell_type": "markdown",
   "metadata": {},
   "source": [
    "### The Absolute And Relative Frequency Distribution Of The Top 10 Countries With More Students."
   ]
  },
  {
   "cell_type": "markdown",
   "metadata": {},
   "source": [
    "**2016**"
   ]
  },
  {
   "cell_type": "code",
   "execution_count": 104,
   "metadata": {},
   "outputs": [],
   "source": [
    "country_res_freq_abs_2016 = survey_2016_2['CountryLive'].value_counts(\n",
    "    ).sort_values(ascending=False)\n",
    "\n",
    "country_res_freq_rel_2016 = survey_2016_2['CountryLive'].value_counts(\n",
    "    normalize=True).sort_values(ascending=False).round(3)*100"
   ]
  },
  {
   "cell_type": "code",
   "execution_count": 105,
   "metadata": {},
   "outputs": [
    {
     "data": {
      "text/html": [
       "<div>\n",
       "<style scoped>\n",
       "    .dataframe tbody tr th:only-of-type {\n",
       "        vertical-align: middle;\n",
       "    }\n",
       "\n",
       "    .dataframe tbody tr th {\n",
       "        vertical-align: top;\n",
       "    }\n",
       "\n",
       "    .dataframe thead th {\n",
       "        text-align: right;\n",
       "    }\n",
       "</style>\n",
       "<table border=\"1\" class=\"dataframe\">\n",
       "  <thead>\n",
       "    <tr style=\"text-align: right;\">\n",
       "      <th></th>\n",
       "      <th>Absolute</th>\n",
       "      <th>Relative (%)</th>\n",
       "    </tr>\n",
       "  </thead>\n",
       "  <tbody>\n",
       "    <tr>\n",
       "      <th>United States of America</th>\n",
       "      <td>2979</td>\n",
       "      <td>52.5</td>\n",
       "    </tr>\n",
       "    <tr>\n",
       "      <th>India</th>\n",
       "      <td>382</td>\n",
       "      <td>6.7</td>\n",
       "    </tr>\n",
       "    <tr>\n",
       "      <th>United Kingdom</th>\n",
       "      <td>242</td>\n",
       "      <td>4.3</td>\n",
       "    </tr>\n",
       "    <tr>\n",
       "      <th>Canada</th>\n",
       "      <td>221</td>\n",
       "      <td>3.9</td>\n",
       "    </tr>\n",
       "    <tr>\n",
       "      <th>Australia</th>\n",
       "      <td>122</td>\n",
       "      <td>2.2</td>\n",
       "    </tr>\n",
       "    <tr>\n",
       "      <th>Poland</th>\n",
       "      <td>105</td>\n",
       "      <td>1.9</td>\n",
       "    </tr>\n",
       "    <tr>\n",
       "      <th>Russia</th>\n",
       "      <td>98</td>\n",
       "      <td>1.7</td>\n",
       "    </tr>\n",
       "    <tr>\n",
       "      <th>Ukraine</th>\n",
       "      <td>96</td>\n",
       "      <td>1.7</td>\n",
       "    </tr>\n",
       "    <tr>\n",
       "      <th>Germany</th>\n",
       "      <td>80</td>\n",
       "      <td>1.4</td>\n",
       "    </tr>\n",
       "    <tr>\n",
       "      <th>Brazil</th>\n",
       "      <td>73</td>\n",
       "      <td>1.3</td>\n",
       "    </tr>\n",
       "  </tbody>\n",
       "</table>\n",
       "</div>"
      ],
      "text/plain": [
       "                          Absolute  Relative (%)\n",
       "United States of America      2979          52.5\n",
       "India                          382           6.7\n",
       "United Kingdom                 242           4.3\n",
       "Canada                         221           3.9\n",
       "Australia                      122           2.2\n",
       "Poland                         105           1.9\n",
       "Russia                          98           1.7\n",
       "Ukraine                         96           1.7\n",
       "Germany                         80           1.4\n",
       "Brazil                          73           1.3"
      ]
     },
     "execution_count": 105,
     "metadata": {},
     "output_type": "execute_result"
    }
   ],
   "source": [
    "country_res_freq_table_2016 = pd.DataFrame({'Absolute': country_res_freq_abs_2016,\n",
    "                                       'Relative (%)': country_res_freq_rel_2016})\n",
    "country_res_freq_table_2016.head(10)"
   ]
  },
  {
   "cell_type": "markdown",
   "metadata": {},
   "source": [
    "**2018**"
   ]
  },
  {
   "cell_type": "code",
   "execution_count": 106,
   "metadata": {},
   "outputs": [
    {
     "data": {
      "text/html": [
       "<div>\n",
       "<style scoped>\n",
       "    .dataframe tbody tr th:only-of-type {\n",
       "        vertical-align: middle;\n",
       "    }\n",
       "\n",
       "    .dataframe tbody tr th {\n",
       "        vertical-align: top;\n",
       "    }\n",
       "\n",
       "    .dataframe thead th {\n",
       "        text-align: right;\n",
       "    }\n",
       "</style>\n",
       "<table border=\"1\" class=\"dataframe\">\n",
       "  <thead>\n",
       "    <tr style=\"text-align: right;\">\n",
       "      <th></th>\n",
       "      <th>Absolute</th>\n",
       "      <th>Relative (%)</th>\n",
       "    </tr>\n",
       "  </thead>\n",
       "  <tbody>\n",
       "    <tr>\n",
       "      <th>United States of America</th>\n",
       "      <td>5160</td>\n",
       "      <td>37.8</td>\n",
       "    </tr>\n",
       "    <tr>\n",
       "      <th>India</th>\n",
       "      <td>1916</td>\n",
       "      <td>14.0</td>\n",
       "    </tr>\n",
       "    <tr>\n",
       "      <th>United Kingdom</th>\n",
       "      <td>556</td>\n",
       "      <td>4.1</td>\n",
       "    </tr>\n",
       "    <tr>\n",
       "      <th>Canada</th>\n",
       "      <td>407</td>\n",
       "      <td>3.0</td>\n",
       "    </tr>\n",
       "    <tr>\n",
       "      <th>Nigeria</th>\n",
       "      <td>319</td>\n",
       "      <td>2.3</td>\n",
       "    </tr>\n",
       "    <tr>\n",
       "      <th>Brazil</th>\n",
       "      <td>282</td>\n",
       "      <td>2.1</td>\n",
       "    </tr>\n",
       "    <tr>\n",
       "      <th>Germany</th>\n",
       "      <td>260</td>\n",
       "      <td>1.9</td>\n",
       "    </tr>\n",
       "    <tr>\n",
       "      <th>Russia</th>\n",
       "      <td>249</td>\n",
       "      <td>1.8</td>\n",
       "    </tr>\n",
       "    <tr>\n",
       "      <th>Australia</th>\n",
       "      <td>184</td>\n",
       "      <td>1.3</td>\n",
       "    </tr>\n",
       "    <tr>\n",
       "      <th>Spain</th>\n",
       "      <td>170</td>\n",
       "      <td>1.2</td>\n",
       "    </tr>\n",
       "  </tbody>\n",
       "</table>\n",
       "</div>"
      ],
      "text/plain": [
       "                          Absolute  Relative (%)\n",
       "United States of America      5160          37.8\n",
       "India                         1916          14.0\n",
       "United Kingdom                 556           4.1\n",
       "Canada                         407           3.0\n",
       "Nigeria                        319           2.3\n",
       "Brazil                         282           2.1\n",
       "Germany                        260           1.9\n",
       "Russia                         249           1.8\n",
       "Australia                      184           1.3\n",
       "Spain                          170           1.2"
      ]
     },
     "execution_count": 106,
     "metadata": {},
     "output_type": "execute_result"
    }
   ],
   "source": [
    "# 'country_live' instead of 'CountryLive' in the 2018 data set.\n",
    "\n",
    "country_res_freq_abs_2018 = survey_2018_2['country_live'].value_counts(\n",
    "    ).sort_values(ascending=False)\n",
    "\n",
    "country_res_freq_rel_2018 = survey_2018_2['country_live'].value_counts(\n",
    "    normalize=True).sort_values(ascending=False).round(3)*100\n",
    "\n",
    "\n",
    "country_res_freq_table_2018 = pd.DataFrame({'Absolute': country_res_freq_abs_2018,\n",
    "                                       'Relative (%)': country_res_freq_rel_2018})\n",
    "country_res_freq_table_2018.head(10)"
   ]
  },
  {
   "cell_type": "markdown",
   "metadata": {},
   "source": [
    "From the frequency tables above for 2016 and 2018, we can see that the top 4 is identical for all three years (including 2017), thus we can compare the values side-by-side in order to have a better perspective of year-by-year changes."
   ]
  },
  {
   "cell_type": "markdown",
   "metadata": {},
   "source": [
    "### Which Markets Are Growing And How Do They Compare With The Evolution Of The Business Sector?\n",
    "\n",
    "One of the advantages of having the same survey for several years, is that we can compare directly the year-over-year changes in the variables. In this case, we are interested in knowing if the e-learning sector is growing as a whole and which markets may be the main drivers behind that growth. We assume that the number of respondents in the survey with at least one desired job role as a proxy of the e-learning sector. "
   ]
  },
  {
   "cell_type": "code",
   "execution_count": 107,
   "metadata": {},
   "outputs": [],
   "source": [
    "# Copying 2017 results into new identifier.\n",
    "country_res_freq_table_2017 = country_res_freq_table.copy()\n",
    "\n",
    "countries = ['United States of America', 'India', 'United Kingdom', 'Canada']\n",
    "\n",
    "top_4_by_country = pd.DataFrame({'2016':country_res_freq_table_2016.loc[countries, 'Relative (%)'],\n",
    "                                '2017':country_res_freq_table_2017.loc[countries, 'Relative (%)'],\n",
    "                                '2018':country_res_freq_table_2018.loc[countries, 'Relative (%)']})"
   ]
  },
  {
   "cell_type": "code",
   "execution_count": 108,
   "metadata": {},
   "outputs": [
    {
     "data": {
      "text/html": [
       "<div>\n",
       "<style scoped>\n",
       "    .dataframe tbody tr th:only-of-type {\n",
       "        vertical-align: middle;\n",
       "    }\n",
       "\n",
       "    .dataframe tbody tr th {\n",
       "        vertical-align: top;\n",
       "    }\n",
       "\n",
       "    .dataframe thead th {\n",
       "        text-align: right;\n",
       "    }\n",
       "</style>\n",
       "<table border=\"1\" class=\"dataframe\">\n",
       "  <thead>\n",
       "    <tr style=\"text-align: right;\">\n",
       "      <th></th>\n",
       "      <th>2016</th>\n",
       "      <th>2017</th>\n",
       "      <th>2018</th>\n",
       "    </tr>\n",
       "  </thead>\n",
       "  <tbody>\n",
       "    <tr>\n",
       "      <th>United States of America</th>\n",
       "      <td>52.5</td>\n",
       "      <td>45.7</td>\n",
       "      <td>37.8</td>\n",
       "    </tr>\n",
       "    <tr>\n",
       "      <th>India</th>\n",
       "      <td>6.7</td>\n",
       "      <td>7.7</td>\n",
       "      <td>14.0</td>\n",
       "    </tr>\n",
       "    <tr>\n",
       "      <th>United Kingdom</th>\n",
       "      <td>4.3</td>\n",
       "      <td>4.6</td>\n",
       "      <td>4.1</td>\n",
       "    </tr>\n",
       "    <tr>\n",
       "      <th>Canada</th>\n",
       "      <td>3.9</td>\n",
       "      <td>3.8</td>\n",
       "      <td>3.0</td>\n",
       "    </tr>\n",
       "  </tbody>\n",
       "</table>\n",
       "</div>"
      ],
      "text/plain": [
       "                          2016  2017  2018\n",
       "United States of America  52.5  45.7  37.8\n",
       "India                      6.7   7.7  14.0\n",
       "United Kingdom             4.3   4.6   4.1\n",
       "Canada                     3.9   3.8   3.0"
      ]
     },
     "execution_count": 108,
     "metadata": {},
     "output_type": "execute_result"
    }
   ],
   "source": [
    "top_4_by_country"
   ]
  },
  {
   "cell_type": "markdown",
   "metadata": {},
   "source": [
    "Year-over-year percentage change in respondents with valid (non-null) desired job roles answers; for the top 4 countries and total countries."
   ]
  },
  {
   "cell_type": "code",
   "execution_count": 109,
   "metadata": {},
   "outputs": [
    {
     "data": {
      "text/html": [
       "<div>\n",
       "<style scoped>\n",
       "    .dataframe tbody tr th:only-of-type {\n",
       "        vertical-align: middle;\n",
       "    }\n",
       "\n",
       "    .dataframe tbody tr th {\n",
       "        vertical-align: top;\n",
       "    }\n",
       "\n",
       "    .dataframe thead th {\n",
       "        text-align: right;\n",
       "    }\n",
       "</style>\n",
       "<table border=\"1\" class=\"dataframe\">\n",
       "  <thead>\n",
       "    <tr style=\"text-align: right;\">\n",
       "      <th></th>\n",
       "      <th>2016-2017</th>\n",
       "      <th>2017-2018</th>\n",
       "    </tr>\n",
       "  </thead>\n",
       "  <tbody>\n",
       "    <tr>\n",
       "      <th>United States of America</th>\n",
       "      <td>-12.95</td>\n",
       "      <td>-17.29</td>\n",
       "    </tr>\n",
       "    <tr>\n",
       "      <th>India</th>\n",
       "      <td>14.93</td>\n",
       "      <td>81.82</td>\n",
       "    </tr>\n",
       "    <tr>\n",
       "      <th>United Kingdom</th>\n",
       "      <td>6.98</td>\n",
       "      <td>-10.87</td>\n",
       "    </tr>\n",
       "    <tr>\n",
       "      <th>Canada</th>\n",
       "      <td>-2.56</td>\n",
       "      <td>-21.05</td>\n",
       "    </tr>\n",
       "    <tr>\n",
       "      <th>All countries</th>\n",
       "      <td>20.62</td>\n",
       "      <td>99.81</td>\n",
       "    </tr>\n",
       "  </tbody>\n",
       "</table>\n",
       "</div>"
      ],
      "text/plain": [
       "                          2016-2017  2017-2018\n",
       "United States of America     -12.95     -17.29\n",
       "India                         14.93      81.82\n",
       "United Kingdom                 6.98     -10.87\n",
       "Canada                        -2.56     -21.05\n",
       "All countries                 20.62      99.81"
      ]
     },
     "execution_count": 109,
     "metadata": {},
     "output_type": "execute_result"
    }
   ],
   "source": [
    "change_2016_17 = ((top_4_by_country['2017'] - top_4_by_country['2016']) / top_4_by_country['2016'])*100\n",
    "\n",
    "change_2017_18 = ((top_4_by_country['2018'] - top_4_by_country['2017']) / top_4_by_country['2017'])*100\n",
    "\n",
    "change_2016_17 = change_2016_17.rename('2016-2017').round(2)\n",
    "\n",
    "change_2017_18 = change_2017_18.rename('2017-2018').round(2)\n",
    "\n",
    "yearly_change = pd.concat([change_2016_17, change_2017_18], axis=1)\n",
    "\n",
    "\n",
    "\n",
    "# Appending the YoY change in all countries to the df `yearly_change`.\n",
    "change_2016_17_total = (\n",
    "    (country_res_freq_table_2017['Absolute'].sum() - country_res_freq_table_2016['Absolute'].sum()) / country_res_freq_table_2016['Absolute'].sum()\n",
    "                        )*100\n",
    "\n",
    "change_2017_18_total = (\n",
    "    (country_res_freq_table_2018['Absolute'].sum() - country_res_freq_table_2017['Absolute'].sum()) / country_res_freq_table_2017['Absolute'].sum()\n",
    "                        )*100\n",
    "\n",
    "change_2016_17_total = change_2016_17_total.round(2)\n",
    "\n",
    "change_2017_18_total = change_2017_18_total.round(2)\n",
    "\n",
    "changes_total_countries = pd.DataFrame({'2016-2017':change_2016_17_total,\n",
    "                                        '2017-2018':change_2017_18_total},\n",
    "                                        index=['All countries'])\n",
    "\n",
    "yearly_change = yearly_change.append(changes_total_countries)\n",
    "\n",
    "yearly_change"
   ]
  },
  {
   "cell_type": "markdown",
   "metadata": {},
   "source": [
    "Total number of respondents (rows) by year/survey:"
   ]
  },
  {
   "cell_type": "code",
   "execution_count": 110,
   "metadata": {},
   "outputs": [
    {
     "data": {
      "text/html": [
       "<div>\n",
       "<style scoped>\n",
       "    .dataframe tbody tr th:only-of-type {\n",
       "        vertical-align: middle;\n",
       "    }\n",
       "\n",
       "    .dataframe tbody tr th {\n",
       "        vertical-align: top;\n",
       "    }\n",
       "\n",
       "    .dataframe thead th {\n",
       "        text-align: right;\n",
       "    }\n",
       "</style>\n",
       "<table border=\"1\" class=\"dataframe\">\n",
       "  <thead>\n",
       "    <tr style=\"text-align: right;\">\n",
       "      <th></th>\n",
       "      <th>2016</th>\n",
       "      <th>2017</th>\n",
       "      <th>2018</th>\n",
       "    </tr>\n",
       "  </thead>\n",
       "  <tbody>\n",
       "    <tr>\n",
       "      <th>No. Students</th>\n",
       "      <td>15620</td>\n",
       "      <td>18175</td>\n",
       "      <td>28397</td>\n",
       "    </tr>\n",
       "  </tbody>\n",
       "</table>\n",
       "</div>"
      ],
      "text/plain": [
       "               2016   2017   2018\n",
       "No. Students  15620  18175  28397"
      ]
     },
     "execution_count": 110,
     "metadata": {},
     "output_type": "execute_result"
    }
   ],
   "source": [
    "number_respondents_total = [survey_2016.shape[0], survey_2017.shape[0], survey_2018.shape[0]]\n",
    "\n",
    "pd.DataFrame({'2016':number_respondents_total[0],\n",
    "              '2017':number_respondents_total[1],\n",
    "              '2018':number_respondents_total[2]},\n",
    "              index=['No. Students'])"
   ]
  },
  {
   "cell_type": "markdown",
   "metadata": {},
   "source": [
    "Year-over-year percentage change of total number of respondents:"
   ]
  },
  {
   "cell_type": "code",
   "execution_count": 111,
   "metadata": {},
   "outputs": [
    {
     "data": {
      "text/html": [
       "<div>\n",
       "<style scoped>\n",
       "    .dataframe tbody tr th:only-of-type {\n",
       "        vertical-align: middle;\n",
       "    }\n",
       "\n",
       "    .dataframe tbody tr th {\n",
       "        vertical-align: top;\n",
       "    }\n",
       "\n",
       "    .dataframe thead th {\n",
       "        text-align: right;\n",
       "    }\n",
       "</style>\n",
       "<table border=\"1\" class=\"dataframe\">\n",
       "  <thead>\n",
       "    <tr style=\"text-align: right;\">\n",
       "      <th></th>\n",
       "      <th>2016-17</th>\n",
       "      <th>2017-18</th>\n",
       "    </tr>\n",
       "  </thead>\n",
       "  <tbody>\n",
       "    <tr>\n",
       "      <th>YoY % change</th>\n",
       "      <td>16.36</td>\n",
       "      <td>56.24</td>\n",
       "    </tr>\n",
       "  </tbody>\n",
       "</table>\n",
       "</div>"
      ],
      "text/plain": [
       "              2016-17  2017-18\n",
       "YoY % change    16.36    56.24"
      ]
     },
     "execution_count": 111,
     "metadata": {},
     "output_type": "execute_result"
    }
   ],
   "source": [
    "change_total_respondents_2016_17 = round(\n",
    "    ((survey_2017.shape[0] - survey_2016.shape[0]) / survey_2016.shape[0]) * 100, 2)\n",
    "\n",
    "change_total_respondents_2017_18 = round(\n",
    "    ((survey_2018.shape[0] - survey_2017.shape[0]) / survey_2017.shape[0]) * 100, 2)\n",
    "\n",
    "pd.DataFrame({'2016-17': change_total_respondents_2016_17,\n",
    "              '2017-18': change_total_respondents_2017_18},\n",
    "             index=['YoY % change'])"
   ]
  },
  {
   "cell_type": "markdown",
   "metadata": {},
   "source": [
    "In general, when looking to the table that shows the year-over-year percentage change in the number of students in the top 4 most represented countries, while the rest of the countries has less students responding to the survey, India grows its base substantially. For example, the number of respondents living in India increased by almost 82% from 2017 to 2018. This is an indication of a potential growing market, because we can also assess that while the total number of respondents increased substantially over the years, the sub-sample of respondents with at least one desired job role (our population of interest), also increased. The idea behind this reasoning is: more students answering the survey provides the perception that the market in the e-learning sector is growing in potential, and at the same time the Indian market seems to be growing at a higher rate, contributing more than the other countries to that global market growth."
   ]
  },
  {
   "cell_type": "markdown",
   "metadata": {},
   "source": [
    "### The Willingness To Pay Of An Average E-learner - Replicating The Analysis For The 2018 Survey.\n",
    "\n",
    "Since 2018 is the most recent data, we go over the process of computing the average monthly expenditure and compare it with the 2017 values, in order to assess whether the average student is spending more or less than before and which country has the highest number of students with the highest willingness to pay.\n",
    "\n",
    "`learn_monthly_expend` gives out how much each student spends per month on e-learning; here by designated in short by 'monthly expenditure'."
   ]
  },
  {
   "cell_type": "code",
   "execution_count": 112,
   "metadata": {},
   "outputs": [],
   "source": [
    "# Support series: replace the '0's by '1's.\n",
    "survey_2018_2['months_programming'] = survey_2018_2['months_programming'].replace(0, 1)\n",
    "\n",
    "survey_2018_2['learn_monthly_expend'] = survey_2018_2['money_for_learning'] / survey_2018_2['months_programming']"
   ]
  },
  {
   "cell_type": "markdown",
   "metadata": {},
   "source": [
    "Total number of null values in `learn_monthly_expend`:"
   ]
  },
  {
   "cell_type": "code",
   "execution_count": 113,
   "metadata": {},
   "outputs": [
    {
     "data": {
      "text/plain": [
       "789"
      ]
     },
     "execution_count": 113,
     "metadata": {},
     "output_type": "execute_result"
    }
   ],
   "source": [
    "survey_2018_2['learn_monthly_expend'].isnull().sum()"
   ]
  },
  {
   "cell_type": "markdown",
   "metadata": {},
   "source": [
    "New DataFrame `survey_2018_3`: excluding rows where `learn_monthly_expend` is null:"
   ]
  },
  {
   "cell_type": "code",
   "execution_count": 114,
   "metadata": {},
   "outputs": [],
   "source": [
    "survey_2018_3 = survey_2018_2[survey_2018_2['learn_monthly_expend'].notnull()]"
   ]
  },
  {
   "cell_type": "markdown",
   "metadata": {},
   "source": [
    "Confirming: the total number of rows in `survey_2018_3` plus 833 (null values removed) should add up to the total number of rows in `survey_2018_2`:"
   ]
  },
  {
   "cell_type": "code",
   "execution_count": 115,
   "metadata": {},
   "outputs": [
    {
     "data": {
      "text/plain": [
       "13897"
      ]
     },
     "execution_count": 115,
     "metadata": {},
     "output_type": "execute_result"
    }
   ],
   "source": [
    "survey_2018_2.shape[0]"
   ]
  },
  {
   "cell_type": "code",
   "execution_count": 116,
   "metadata": {},
   "outputs": [
    {
     "data": {
      "text/plain": [
       "13941"
      ]
     },
     "execution_count": 116,
     "metadata": {},
     "output_type": "execute_result"
    }
   ],
   "source": [
    "survey_2018_3.shape[0] + 833"
   ]
  },
  {
   "cell_type": "markdown",
   "metadata": {},
   "source": [
    "Analyzing the average monthly learning expenditure by country:"
   ]
  },
  {
   "cell_type": "code",
   "execution_count": 117,
   "metadata": {
    "scrolled": true
   },
   "outputs": [
    {
     "data": {
      "text/html": [
       "<div>\n",
       "<style scoped>\n",
       "    .dataframe tbody tr th:only-of-type {\n",
       "        vertical-align: middle;\n",
       "    }\n",
       "\n",
       "    .dataframe tbody tr th {\n",
       "        vertical-align: top;\n",
       "    }\n",
       "\n",
       "    .dataframe thead th {\n",
       "        text-align: right;\n",
       "    }\n",
       "</style>\n",
       "<table border=\"1\" class=\"dataframe\">\n",
       "  <thead>\n",
       "    <tr style=\"text-align: right;\">\n",
       "      <th></th>\n",
       "      <th>USA</th>\n",
       "      <th>India</th>\n",
       "      <th>UK</th>\n",
       "      <th>Canada</th>\n",
       "    </tr>\n",
       "  </thead>\n",
       "  <tbody>\n",
       "    <tr>\n",
       "      <th>count</th>\n",
       "      <td>5020.00</td>\n",
       "      <td>1737.00</td>\n",
       "      <td>532.00</td>\n",
       "      <td>390.00</td>\n",
       "    </tr>\n",
       "    <tr>\n",
       "      <th>mean</th>\n",
       "      <td>255.59</td>\n",
       "      <td>155.84</td>\n",
       "      <td>141.88</td>\n",
       "      <td>213.30</td>\n",
       "    </tr>\n",
       "    <tr>\n",
       "      <th>std</th>\n",
       "      <td>3259.89</td>\n",
       "      <td>1487.62</td>\n",
       "      <td>1037.52</td>\n",
       "      <td>1462.64</td>\n",
       "    </tr>\n",
       "    <tr>\n",
       "      <th>min</th>\n",
       "      <td>0.00</td>\n",
       "      <td>0.00</td>\n",
       "      <td>0.00</td>\n",
       "      <td>0.00</td>\n",
       "    </tr>\n",
       "    <tr>\n",
       "      <th>25%</th>\n",
       "      <td>0.00</td>\n",
       "      <td>0.00</td>\n",
       "      <td>0.00</td>\n",
       "      <td>0.00</td>\n",
       "    </tr>\n",
       "    <tr>\n",
       "      <th>50%</th>\n",
       "      <td>0.00</td>\n",
       "      <td>0.00</td>\n",
       "      <td>0.00</td>\n",
       "      <td>0.00</td>\n",
       "    </tr>\n",
       "    <tr>\n",
       "      <th>75%</th>\n",
       "      <td>33.33</td>\n",
       "      <td>16.67</td>\n",
       "      <td>20.00</td>\n",
       "      <td>37.50</td>\n",
       "    </tr>\n",
       "    <tr>\n",
       "      <th>max</th>\n",
       "      <td>200000.00</td>\n",
       "      <td>35000.00</td>\n",
       "      <td>16666.67</td>\n",
       "      <td>20000.00</td>\n",
       "    </tr>\n",
       "  </tbody>\n",
       "</table>\n",
       "</div>"
      ],
      "text/plain": [
       "             USA     India        UK    Canada\n",
       "count    5020.00   1737.00    532.00    390.00\n",
       "mean      255.59    155.84    141.88    213.30\n",
       "std      3259.89   1487.62   1037.52   1462.64\n",
       "min         0.00      0.00      0.00      0.00\n",
       "25%         0.00      0.00      0.00      0.00\n",
       "50%         0.00      0.00      0.00      0.00\n",
       "75%        33.33     16.67     20.00     37.50\n",
       "max    200000.00  35000.00  16666.67  20000.00"
      ]
     },
     "execution_count": 117,
     "metadata": {},
     "output_type": "execute_result"
    }
   ],
   "source": [
    "change_2016_17 = ((top_4_by_country['2017'] - top_4_by_country['2016']) / top_4_by_country['2016'])*100\n",
    "\n",
    "change_2017_18 = ((top_4_by_country['2018'] - top_4_by_country['2017']) / top_4_by_country['2017'])*100\n",
    "\n",
    "change_2016_17 = change_2016_17.rename('2016-2017').round(2)\n",
    "\n",
    "change_2017_18 = change_2017_18.rename('2017-2018').round(2)\n",
    "\n",
    "yearly_change = pd.concat([change_2016_17, change_2017_18], axis=1)\n",
    "\n",
    "\n",
    "\n",
    "# Appending the YoY change in all countries to the df `yearly_change`.\n",
    "change_2016_17_total = (\n",
    "    (country_res_freq_table_2017['Absolute'].sum() - country_res_freq_table_2016['Absolute'].sum()) / country_res_freq_table_2016['Absolute'].sum()\n",
    "                        )*100\n",
    "\n",
    "change_2017_18_total = (\n",
    "    (country_res_freq_table_2018['Absolute'].sum() - country_res_freq_table_2017['Absolute'].sum()) / country_res_freq_table_2017['Absolute'].sum()\n",
    "                        )*100\n",
    "\n",
    "change_2016_17_total = change_2016_17_total.round(2)\n",
    "\n",
    "change_2017_18_total = change_2017_18_total.round(2)\n",
    "\n",
    "changes_total_countries = pd.DataFrame({'2016-2017':change_2016_17_total,\n",
    "                                        '2017-2018':change_2017_18_total},\n",
    "                                        index=['All countries'])\n",
    "\n",
    "yearly_change = yearly_change.append(changes_total_countries)\n",
    "\n",
    "yearly_change"
   ]
  },
  {
   "cell_type": "markdown",
   "metadata": {},
   "source": [
    "As we can observe, in table above, the maximum monthly expenditure values are much more reasonable than the ones in the previous year (2017), both at 120 USD in India, UK and Canada. This entails that we can proceed with the analysis without treating the series for extreme outliers. Moreover,  India seems to be the more fertile ground for a newcomer company: not only has substantially more students than UK or Canada (1863 vs. 519 and 376 respectively), but also has the highest mean and upper quartile of the three aforementioned markets. Despite of the US retaining the most favorable overall scenario, it presents an inferior mean monthly expenditure compared to India, which is the highest of the panel.\n",
    "\n",
    "\n",
    "#### Assessing the willingness to pay of students by analyzing their current spending, and comparing with 2017 results.\n",
    "\n",
    "The two levels of spending:\n",
    "- Students that are already spending monthly the same as the course our company will be offering: \\\\$59.\n",
    "- Students that are currently paying also monthly, at least (approx.) half of the previous value: \\\\$29"
   ]
  },
  {
   "cell_type": "markdown",
   "metadata": {},
   "source": [
    "For `$59`:"
   ]
  },
  {
   "cell_type": "code",
   "execution_count": 118,
   "metadata": {},
   "outputs": [
    {
     "data": {
      "text/html": [
       "<div>\n",
       "<style scoped>\n",
       "    .dataframe tbody tr th:only-of-type {\n",
       "        vertical-align: middle;\n",
       "    }\n",
       "\n",
       "    .dataframe tbody tr th {\n",
       "        vertical-align: top;\n",
       "    }\n",
       "\n",
       "    .dataframe thead th {\n",
       "        text-align: right;\n",
       "    }\n",
       "</style>\n",
       "<table border=\"1\" class=\"dataframe\">\n",
       "  <thead>\n",
       "    <tr style=\"text-align: right;\">\n",
       "      <th></th>\n",
       "      <th>2017 - Trim 3%</th>\n",
       "      <th>2017 - Top whisk. rem.</th>\n",
       "      <th>2018 - original</th>\n",
       "    </tr>\n",
       "  </thead>\n",
       "  <tbody>\n",
       "    <tr>\n",
       "      <th>USA</th>\n",
       "      <td>575</td>\n",
       "      <td>199</td>\n",
       "      <td>961</td>\n",
       "    </tr>\n",
       "    <tr>\n",
       "      <th>India</th>\n",
       "      <td>60</td>\n",
       "      <td>0</td>\n",
       "      <td>255</td>\n",
       "    </tr>\n",
       "    <tr>\n",
       "      <th>Canada</th>\n",
       "      <td>32</td>\n",
       "      <td>9</td>\n",
       "      <td>78</td>\n",
       "    </tr>\n",
       "    <tr>\n",
       "      <th>UK</th>\n",
       "      <td>34</td>\n",
       "      <td>0</td>\n",
       "      <td>69</td>\n",
       "    </tr>\n",
       "  </tbody>\n",
       "</table>\n",
       "</div>"
      ],
      "text/plain": [
       "        2017 - Trim 3%  2017 - Top whisk. rem.  2018 - original\n",
       "USA                575                     199              961\n",
       "India               60                       0              255\n",
       "Canada              32                       9               78\n",
       "UK                  34                       0               69"
      ]
     },
     "execution_count": 118,
     "metadata": {},
     "output_type": "execute_result"
    }
   ],
   "source": [
    "usa_over59_2018 = usa_expend_2018[usa_expend_2018 >= 59]\n",
    "india_over59_2018 = india_expend_2018[india_expend_2018 >= 59]\n",
    "uk_over59_2018 = uk_expend_2018[uk_expend_2018 >= 59]\n",
    "canada_over59_2018 = canada_expend_2018[canada_expend_2018 >= 59]\n",
    "\n",
    "usa_over59_count_2018 = usa_over59_2018.size\n",
    "india_over59_count_2018 = india_over59_2018.size\n",
    "uk_over59_count_2018 = uk_over59_2018.size\n",
    "canada_over59_count_2018 = canada_over59_2018.size\n",
    "\n",
    "over_equal59_2018 = pd.Series({'USA': usa_over59_count_2018,\n",
    "                                'India': india_over59_count_2018,\n",
    "                                'UK': uk_over59_count_2018,\n",
    "                                'Canada': canada_over59_count_2018, }).sort_values(ascending=False)\n",
    "\n",
    "\n",
    "# New identifiers for 2017 values\n",
    "over_equal29_2017_scenario_1 = over_equal29_1.copy()\n",
    "over_equal59_2017_scenario_1 = over_equal59_1.copy()\n",
    "over_equal29_2017_scenario_2 = over_equal29_2.copy()\n",
    "over_equal59_2017_scenario_2 = over_equal59_2.copy()\n",
    "\n",
    "\n",
    "willing_to_spend_comparison_59 = pd.DataFrame({'2017 - Trim 3%': over_equal59_2017_scenario_1,\n",
    "                                            '2017 - Top whisk. rem.': over_equal59_2017_scenario_2,\n",
    "                                            '2018 - original': over_equal59_2018}).sort_values('2018 - original', ascending=False)\n",
    "\n",
    "willing_to_spend_comparison_59"
   ]
  },
  {
   "cell_type": "markdown",
   "metadata": {},
   "source": [
    "For `$29`:"
   ]
  },
  {
   "cell_type": "code",
   "execution_count": 119,
   "metadata": {
    "scrolled": true
   },
   "outputs": [
    {
     "data": {
      "text/html": [
       "<div>\n",
       "<style scoped>\n",
       "    .dataframe tbody tr th:only-of-type {\n",
       "        vertical-align: middle;\n",
       "    }\n",
       "\n",
       "    .dataframe tbody tr th {\n",
       "        vertical-align: top;\n",
       "    }\n",
       "\n",
       "    .dataframe thead th {\n",
       "        text-align: right;\n",
       "    }\n",
       "</style>\n",
       "<table border=\"1\" class=\"dataframe\">\n",
       "  <thead>\n",
       "    <tr style=\"text-align: right;\">\n",
       "      <th></th>\n",
       "      <th>2017 - Trim 3%</th>\n",
       "      <th>2017 - Top whisk. rem.</th>\n",
       "      <th>2018 - original</th>\n",
       "    </tr>\n",
       "  </thead>\n",
       "  <tbody>\n",
       "    <tr>\n",
       "      <th>USA</th>\n",
       "      <td>788</td>\n",
       "      <td>412</td>\n",
       "      <td>1338</td>\n",
       "    </tr>\n",
       "    <tr>\n",
       "      <th>India</th>\n",
       "      <td>78</td>\n",
       "      <td>1</td>\n",
       "      <td>359</td>\n",
       "    </tr>\n",
       "    <tr>\n",
       "      <th>UK</th>\n",
       "      <td>54</td>\n",
       "      <td>18</td>\n",
       "      <td>107</td>\n",
       "    </tr>\n",
       "    <tr>\n",
       "      <th>Canada</th>\n",
       "      <td>46</td>\n",
       "      <td>23</td>\n",
       "      <td>106</td>\n",
       "    </tr>\n",
       "  </tbody>\n",
       "</table>\n",
       "</div>"
      ],
      "text/plain": [
       "        2017 - Trim 3%  2017 - Top whisk. rem.  2018 - original\n",
       "USA                788                     412             1338\n",
       "India               78                       1              359\n",
       "UK                  54                      18              107\n",
       "Canada              46                      23              106"
      ]
     },
     "execution_count": 119,
     "metadata": {},
     "output_type": "execute_result"
    }
   ],
   "source": [
    "usa_over29_2018 = usa_expend_2018[usa_expend_2018 >= 29]\n",
    "india_over29_2018 = india_expend_2018[india_expend_2018 >= 29]\n",
    "uk_over29_2018 = uk_expend_2018[uk_expend_2018 >= 29]\n",
    "canada_over29_2018 = canada_expend_2018[canada_expend_2018 >= 29]\n",
    "\n",
    "usa_over29_count_2018 = usa_over29_2018.size\n",
    "india_over29_count_2018 = india_over29_2018.size\n",
    "uk_over29_count_2018 = uk_over29_2018.size\n",
    "canada_over29_count_2018 = canada_over29_2018.size\n",
    "\n",
    "over_equal29_2018 = pd.Series({'USA': usa_over29_count_2018,\n",
    "                          'India': india_over29_count_2018,\n",
    "                          'UK': uk_over29_count_2018,\n",
    "                          'Canada': canada_over29_count_2018, }).sort_values(ascending=False)\n",
    "\n",
    "\n",
    "willing_to_spend_comparison_29 = pd.DataFrame({'2017 - Trim 3%': over_equal29_2017_scenario_1,\n",
    "                                            '2017 - Top whisk. rem.': over_equal29_2017_scenario_2,\n",
    "                                            '2018 - original': over_equal29_2018}).sort_values('2018 - original', ascending=False)\n",
    "\n",
    "willing_to_spend_comparison_29"
   ]
  },
  {
   "cell_type": "markdown",
   "metadata": {},
   "source": [
    "**Comment**: Considering 2018, India appears in second place as the country with more students that are currently spending per month \\\\$29 or more and \\\\$59 or more, in both cases, by a significant margin when compared with UK and Canada. This is a contrast with the the other countries, which regardless the type of outlier trimming done for 2017 values, in most cases see the level of potential costumers decrease in 2018, either if the threshold is set at \\\\$29 or \\\\$59. "
   ]
  },
  {
   "cell_type": "markdown",
   "metadata": {},
   "source": [
    "## Concluding remarks on the choice to invest/advertise in a second best market.\n",
    "---\n",
    "\n",
    "The analysis proves that India might be the next be thing in terms of e-learning market. It's considerably growing, on a year by year basis, the number of people interested in learning and follow a career in coding. Indian students also seem to be increasing their spending as an investment on learning, when compared with Canada and U.K.. Thus, according to the evidence gathered throughout the entire analysis, India stands out as the second best e-learning market to advertise in, after the US."
   ]
  },
  {
   "cell_type": "markdown",
   "metadata": {},
   "source": [
    "## Annex\n",
    "---"
   ]
  },
  {
   "cell_type": "markdown",
   "metadata": {},
   "source": [
    "Exploring the columns available:"
   ]
  },
  {
   "cell_type": "markdown",
   "metadata": {},
   "source": [
    "### 2016"
   ]
  },
  {
   "cell_type": "code",
   "execution_count": 120,
   "metadata": {},
   "outputs": [
    {
     "name": "stdout",
     "output_type": "stream",
     "text": [
      "<class 'pandas.core.frame.DataFrame'>\n",
      "RangeIndex: 15620 entries, 0 to 15619\n",
      "Data columns (total 113 columns):\n",
      " #   Column                         Dtype  \n",
      "---  ------                         -----  \n",
      " 0   Age                            float64\n",
      " 1   AttendedBootcamp               float64\n",
      " 2   BootcampFinish                 float64\n",
      " 3   BootcampFullJobAfter           float64\n",
      " 4   BootcampLoanYesNo              float64\n",
      " 5   BootcampMonthsAgo              float64\n",
      " 6   BootcampName                   object \n",
      " 7   BootcampPostSalary             float64\n",
      " 8   BootcampRecommend              float64\n",
      " 9   ChildrenNumber                 float64\n",
      " 10  CityPopulation                 object \n",
      " 11  CodeEventBootcamp              float64\n",
      " 12  CodeEventCoffee                float64\n",
      " 13  CodeEventConferences           float64\n",
      " 14  CodeEventDjangoGirls           float64\n",
      " 15  CodeEventGameJam               float64\n",
      " 16  CodeEventGirlDev               float64\n",
      " 17  CodeEventHackathons            float64\n",
      " 18  CodeEventMeetup                float64\n",
      " 19  CodeEventNodeSchool            float64\n",
      " 20  CodeEventNone                  float64\n",
      " 21  CodeEventOther                 object \n",
      " 22  CodeEventRailsBridge           float64\n",
      " 23  CodeEventRailsGirls            float64\n",
      " 24  CodeEventStartUpWknd           float64\n",
      " 25  CodeEventWomenCode             float64\n",
      " 26  CodeEventWorkshop              float64\n",
      " 27  CommuteTime                    float64\n",
      " 28  CountryCitizen                 object \n",
      " 29  CountryLive                    object \n",
      " 30  EmploymentField                object \n",
      " 31  EmploymentFieldOther           object \n",
      " 32  EmploymentStatus               object \n",
      " 33  EmploymentStatusOther          object \n",
      " 34  ExpectedEarning                float64\n",
      " 35  FinanciallySupporting          float64\n",
      " 36  Gender                         object \n",
      " 37  HasChildren                    float64\n",
      " 38  HasDebt                        float64\n",
      " 39  HasFinancialDependents         float64\n",
      " 40  HasHighSpdInternet             float64\n",
      " 41  HasHomeMortgage                float64\n",
      " 42  HasServedInMilitary            float64\n",
      " 43  HasStudentDebt                 float64\n",
      " 44  HomeMortgageOwe                float64\n",
      " 45  HoursLearning                  float64\n",
      " 46  ID.x                           object \n",
      " 47  ID.y                           object \n",
      " 48  Income                         float64\n",
      " 49  IsEthnicMinority               float64\n",
      " 50  IsReceiveDisabilitiesBenefits  float64\n",
      " 51  IsSoftwareDev                  float64\n",
      " 52  IsUnderEmployed                float64\n",
      " 53  JobApplyWhen                   object \n",
      " 54  JobPref                        object \n",
      " 55  JobRelocateYesNo               float64\n",
      " 56  JobRoleInterest                object \n",
      " 57  JobRoleInterestOther           object \n",
      " 58  JobWherePref                   object \n",
      " 59  LanguageAtHome                 object \n",
      " 60  MaritalStatus                  object \n",
      " 61  MoneyForLearning               float64\n",
      " 62  MonthsProgramming              float64\n",
      " 63  NetworkID                      object \n",
      " 64  Part1EndTime                   object \n",
      " 65  Part1StartTime                 object \n",
      " 66  Part2EndTime                   object \n",
      " 67  Part2StartTime                 object \n",
      " 68  PodcastChangeLog               float64\n",
      " 69  PodcastCodeNewbie              float64\n",
      " 70  PodcastCodingBlocks            float64\n",
      " 71  PodcastDeveloperTea            float64\n",
      " 72  PodcastDotNetRocks             float64\n",
      " 73  PodcastHanselminutes           float64\n",
      " 74  PodcastJsAir                   float64\n",
      " 75  PodcastJSJabber                float64\n",
      " 76  PodcastNone                    float64\n",
      " 77  PodcastOther                   object \n",
      " 78  PodcastProgrammingThrowDown    float64\n",
      " 79  PodcastRubyRogues              float64\n",
      " 80  PodcastSEDaily                 float64\n",
      " 81  PodcastShopTalk                float64\n",
      " 82  PodcastTalkPython              float64\n",
      " 83  PodcastWebAhead                float64\n",
      " 84  ResourceBlogs                  float64\n",
      " 85  ResourceBooks                  float64\n",
      " 86  ResourceCodecademy             float64\n",
      " 87  ResourceCodeWars               float64\n",
      " 88  ResourceCoursera               float64\n",
      " 89  ResourceDevTips                float64\n",
      " 90  ResourceEdX                    float64\n",
      " 91  ResourceEggHead                float64\n",
      " 92  ResourceFCC                    float64\n",
      " 93  ResourceGoogle                 float64\n",
      " 94  ResourceHackerRank             float64\n",
      " 95  ResourceKhanAcademy            float64\n",
      " 96  ResourceLynda                  float64\n",
      " 97  ResourceMDN                    float64\n",
      " 98  ResourceOdinProj               float64\n",
      " 99  ResourceOther                  object \n",
      " 100 ResourcePluralSight            float64\n",
      " 101 ResourceReddit                 float64\n",
      " 102 ResourceSkillCrush             float64\n",
      " 103 ResourceSoloLearn              float64\n",
      " 104 ResourceStackOverflow          float64\n",
      " 105 ResourceTreehouse              float64\n",
      " 106 ResourceUdacity                float64\n",
      " 107 ResourceUdemy                  float64\n",
      " 108 ResourceW3Schools              float64\n",
      " 109 ResourceYouTube                float64\n",
      " 110 SchoolDegree                   object \n",
      " 111 SchoolMajor                    object \n",
      " 112 StudentDebtOwe                 float64\n",
      "dtypes: float64(85), object(28)\n",
      "memory usage: 11.8+ MB\n"
     ]
    }
   ],
   "source": [
    "pd.set_option('display.max_columns', None)\n",
    "\n",
    "survey_2016.info(verbose=True)"
   ]
  },
  {
   "cell_type": "markdown",
   "metadata": {},
   "source": [
    "### 2017"
   ]
  },
  {
   "cell_type": "code",
   "execution_count": 121,
   "metadata": {},
   "outputs": [
    {
     "name": "stdout",
     "output_type": "stream",
     "text": [
      "<class 'pandas.core.frame.DataFrame'>\n",
      "RangeIndex: 18175 entries, 0 to 18174\n",
      "Data columns (total 136 columns):\n",
      " #   Column                         Dtype  \n",
      "---  ------                         -----  \n",
      " 0   Age                            float64\n",
      " 1   AttendedBootcamp               float64\n",
      " 2   BootcampFinish                 float64\n",
      " 3   BootcampLoanYesNo              float64\n",
      " 4   BootcampName                   object \n",
      " 5   BootcampRecommend              float64\n",
      " 6   ChildrenNumber                 float64\n",
      " 7   CityPopulation                 object \n",
      " 8   CodeEventConferences           float64\n",
      " 9   CodeEventDjangoGirls           float64\n",
      " 10  CodeEventFCC                   float64\n",
      " 11  CodeEventGameJam               float64\n",
      " 12  CodeEventGirlDev               float64\n",
      " 13  CodeEventHackathons            float64\n",
      " 14  CodeEventMeetup                float64\n",
      " 15  CodeEventNodeSchool            float64\n",
      " 16  CodeEventNone                  float64\n",
      " 17  CodeEventOther                 object \n",
      " 18  CodeEventRailsBridge           float64\n",
      " 19  CodeEventRailsGirls            float64\n",
      " 20  CodeEventStartUpWknd           float64\n",
      " 21  CodeEventWkdBootcamps          float64\n",
      " 22  CodeEventWomenCode             float64\n",
      " 23  CodeEventWorkshops             float64\n",
      " 24  CommuteTime                    object \n",
      " 25  CountryCitizen                 object \n",
      " 26  CountryLive                    object \n",
      " 27  EmploymentField                object \n",
      " 28  EmploymentFieldOther           object \n",
      " 29  EmploymentStatus               object \n",
      " 30  EmploymentStatusOther          object \n",
      " 31  ExpectedEarning                float64\n",
      " 32  FinanciallySupporting          float64\n",
      " 33  FirstDevJob                    float64\n",
      " 34  Gender                         object \n",
      " 35  GenderOther                    object \n",
      " 36  HasChildren                    float64\n",
      " 37  HasDebt                        float64\n",
      " 38  HasFinancialDependents         float64\n",
      " 39  HasHighSpdInternet             float64\n",
      " 40  HasHomeMortgage                float64\n",
      " 41  HasServedInMilitary            float64\n",
      " 42  HasStudentDebt                 float64\n",
      " 43  HomeMortgageOwe                float64\n",
      " 44  HoursLearning                  float64\n",
      " 45  ID.x                           object \n",
      " 46  ID.y                           object \n",
      " 47  Income                         float64\n",
      " 48  IsEthnicMinority               float64\n",
      " 49  IsReceiveDisabilitiesBenefits  float64\n",
      " 50  IsSoftwareDev                  float64\n",
      " 51  IsUnderEmployed                float64\n",
      " 52  JobApplyWhen                   object \n",
      " 53  JobInterestBackEnd             float64\n",
      " 54  JobInterestDataEngr            float64\n",
      " 55  JobInterestDataSci             float64\n",
      " 56  JobInterestDevOps              float64\n",
      " 57  JobInterestFrontEnd            float64\n",
      " 58  JobInterestFullStack           float64\n",
      " 59  JobInterestGameDev             float64\n",
      " 60  JobInterestInfoSec             float64\n",
      " 61  JobInterestMobile              float64\n",
      " 62  JobInterestOther               object \n",
      " 63  JobInterestProjMngr            float64\n",
      " 64  JobInterestQAEngr              float64\n",
      " 65  JobInterestUX                  float64\n",
      " 66  JobPref                        object \n",
      " 67  JobRelocateYesNo               float64\n",
      " 68  JobRoleInterest                object \n",
      " 69  JobWherePref                   object \n",
      " 70  LanguageAtHome                 object \n",
      " 71  MaritalStatus                  object \n",
      " 72  MoneyForLearning               float64\n",
      " 73  MonthsProgramming              float64\n",
      " 74  NetworkID                      object \n",
      " 75  Part1EndTime                   object \n",
      " 76  Part1StartTime                 object \n",
      " 77  Part2EndTime                   object \n",
      " 78  Part2StartTime                 object \n",
      " 79  PodcastChangeLog               float64\n",
      " 80  PodcastCodeNewbie              float64\n",
      " 81  PodcastCodePen                 float64\n",
      " 82  PodcastDevTea                  float64\n",
      " 83  PodcastDotNET                  float64\n",
      " 84  PodcastGiantRobots             float64\n",
      " 85  PodcastJSAir                   float64\n",
      " 86  PodcastJSJabber                float64\n",
      " 87  PodcastNone                    float64\n",
      " 88  PodcastOther                   object \n",
      " 89  PodcastProgThrowdown           float64\n",
      " 90  PodcastRubyRogues              float64\n",
      " 91  PodcastSEDaily                 float64\n",
      " 92  PodcastSERadio                 float64\n",
      " 93  PodcastShopTalk                float64\n",
      " 94  PodcastTalkPython              float64\n",
      " 95  PodcastTheWebAhead             float64\n",
      " 96  ResourceCodecademy             float64\n",
      " 97  ResourceCodeWars               float64\n",
      " 98  ResourceCoursera               float64\n",
      " 99  ResourceCSS                    float64\n",
      " 100 ResourceEdX                    float64\n",
      " 101 ResourceEgghead                float64\n",
      " 102 ResourceFCC                    float64\n",
      " 103 ResourceHackerRank             float64\n",
      " 104 ResourceKA                     float64\n",
      " 105 ResourceLynda                  float64\n",
      " 106 ResourceMDN                    float64\n",
      " 107 ResourceOdinProj               float64\n",
      " 108 ResourceOther                  object \n",
      " 109 ResourcePluralSight            float64\n",
      " 110 ResourceSkillcrush             float64\n",
      " 111 ResourceSO                     float64\n",
      " 112 ResourceTreehouse              float64\n",
      " 113 ResourceUdacity                float64\n",
      " 114 ResourceUdemy                  float64\n",
      " 115 ResourceW3S                    float64\n",
      " 116 SchoolDegree                   object \n",
      " 117 SchoolMajor                    object \n",
      " 118 StudentDebtOwe                 float64\n",
      " 119 YouTubeCodeCourse              float64\n",
      " 120 YouTubeCodingTrain             float64\n",
      " 121 YouTubeCodingTut360            float64\n",
      " 122 YouTubeComputerphile           float64\n",
      " 123 YouTubeDerekBanas              float64\n",
      " 124 YouTubeDevTips                 float64\n",
      " 125 YouTubeEngineeredTruth         float64\n",
      " 126 YouTubeFCC                     float64\n",
      " 127 YouTubeFunFunFunction          float64\n",
      " 128 YouTubeGoogleDev               float64\n",
      " 129 YouTubeLearnCode               float64\n",
      " 130 YouTubeLevelUpTuts             float64\n",
      " 131 YouTubeMIT                     float64\n",
      " 132 YouTubeMozillaHacks            float64\n",
      " 133 YouTubeOther                   object \n",
      " 134 YouTubeSimplilearn             float64\n",
      " 135 YouTubeTheNewBoston            float64\n",
      "dtypes: float64(105), object(31)\n",
      "memory usage: 16.7+ MB\n"
     ]
    }
   ],
   "source": [
    "survey_2017.info(verbose=True)"
   ]
  },
  {
   "cell_type": "markdown",
   "metadata": {},
   "source": [
    "### 2018"
   ]
  },
  {
   "cell_type": "code",
   "execution_count": 122,
   "metadata": {},
   "outputs": [
    {
     "name": "stdout",
     "output_type": "stream",
     "text": [
      "<class 'pandas.core.frame.DataFrame'>\n",
      "RangeIndex: 28397 entries, 0 to 28396\n",
      "Data columns (total 138 columns):\n",
      " #   Column                 Dtype  \n",
      "---  ------                 -----  \n",
      " 0   ID                     object \n",
      " 1   is_software_dev        float64\n",
      " 2   is_first_dev_job       float64\n",
      " 3   months_job_search      float64\n",
      " 4   job_pref               object \n",
      " 5   job_intr_fllstck       float64\n",
      " 6   job_intr_backend       float64\n",
      " 7   job_intr_frntend       float64\n",
      " 8   job_intr_mobile        float64\n",
      " 9   job_intr_devops        float64\n",
      " 10  job_intr_datasci       float64\n",
      " 11  job_intr_teacher       float64\n",
      " 12  job_intr_qa_engn       float64\n",
      " 13  job_intr_ux_engn       float64\n",
      " 14  job_intr_projm         float64\n",
      " 15  job_intr_gamedev       float64\n",
      " 16  job_intr_infosec       float64\n",
      " 17  job_intr_dataengn      float64\n",
      " 18  job_intr_other         object \n",
      " 19  when_appl_job          object \n",
      " 20  expected_earn          float64\n",
      " 21  job_lctn_pref          object \n",
      " 22  job_relocate           float64\n",
      " 23  reasons_to_code        object \n",
      " 24  reasons_to_code_other  object \n",
      " 25  rsrc_fcc               float64\n",
      " 26  rsrc_mdn               float64\n",
      " 27  rsrc_so                float64\n",
      " 28  rsrc_edx               float64\n",
      " 29  rsrc_coursera          float64\n",
      " 30  rsrc_khan_acdm         float64\n",
      " 31  rsrc_pluralsght        float64\n",
      " 32  rsrc_codeacdm          float64\n",
      " 33  rsrc_udacity           float64\n",
      " 34  rsrc_udemy             float64\n",
      " 35  rsrc_code_wars         float64\n",
      " 36  rsrc_treehouse         float64\n",
      " 37  rsrc_hackerrank        float64\n",
      " 38  rsrc_frntendmstr       float64\n",
      " 39  rsrc_lynda             float64\n",
      " 40  rsrc_egghead           float64\n",
      " 41  rsrc_css_tricks        float64\n",
      " 42  rsrc_other             object \n",
      " 43  codeevnt_fcc           float64\n",
      " 44  codeevnt_hackthn       float64\n",
      " 45  codeevnt_confs         float64\n",
      " 46  codeevnt_workshps      float64\n",
      " 47  codeevnt_startupwknd   float64\n",
      " 48  codeevnt_nodeschl      float64\n",
      " 49  codeevnt_womenwc       float64\n",
      " 50  codeevnt_girldevit     float64\n",
      " 51  codeevnt_coderdojo     float64\n",
      " 52  codeevnt_meetup        float64\n",
      " 53  codeevnt_railsbrdg     float64\n",
      " 54  codeevnt_gamejam       float64\n",
      " 55  codeevnt_railsgrls     float64\n",
      " 56  codeevnt_djangogrls    float64\n",
      " 57  codeevnt_wkndbtcmp     float64\n",
      " 58  codeevnt_other         object \n",
      " 59  podcast_fcc            float64\n",
      " 60  podcast_codenewbie     float64\n",
      " 61  podcast_changelog      float64\n",
      " 62  podcast_sedaily        float64\n",
      " 63  podcast_js_jabber      float64\n",
      " 64  podcast_syntaxfm       float64\n",
      " 65  podcast_ltcwm          float64\n",
      " 66  podcast_fullstckrd     float64\n",
      " 67  podcast_frnthppyhr     float64\n",
      " 68  podcast_codingblcks    float64\n",
      " 69  podcast_shoptalk       float64\n",
      " 70  podcast_devtea         float64\n",
      " 71  podcast_progthrwdwn    float64\n",
      " 72  podcast_geekspeak      float64\n",
      " 73  podcast_hanselmnts     float64\n",
      " 74  podcast_talkpythonme   float64\n",
      " 75  podcast_rubyrogues     float64\n",
      " 76  podcast_codepenrd      float64\n",
      " 77  podcast_seradio        float64\n",
      " 78  podcast_other          object \n",
      " 79  yt_mit_ocw             float64\n",
      " 80  yt_fcc                 float64\n",
      " 81  yt_computerphile       float64\n",
      " 82  yt_devtips             float64\n",
      " 83  yt_cs_dojo             float64\n",
      " 84  yt_engn_truth          float64\n",
      " 85  yt_learncodeacdm       float64\n",
      " 86  yt_lvluptuts           float64\n",
      " 87  yt_funfunfunct         float64\n",
      " 88  yt_codingtuts360       float64\n",
      " 89  yt_codingtrain         float64\n",
      " 90  yt_derekbanas          float64\n",
      " 91  yt_simplilearn         float64\n",
      " 92  yt_simpleprog          float64\n",
      " 93  yt_mozillahacks        float64\n",
      " 94  yt_googledevs          float64\n",
      " 95  yt_other               object \n",
      " 96  hours_learning         float64\n",
      " 97  months_programming     int64  \n",
      " 98  bootcamp_attend        float64\n",
      " 99  bootcamp_name          object \n",
      " 100 bootcamp_finished      float64\n",
      " 101 bootcamp_have_loan     float64\n",
      " 102 bootcamp_recommend     float64\n",
      " 103 money_for_learning     float64\n",
      " 104 age                    int64  \n",
      " 105 gender                 object \n",
      " 106 gender_other           object \n",
      " 107 country_citizen        object \n",
      " 108 country_live           object \n",
      " 109 live_city_population   object \n",
      " 110 is_ethnic_minority     float64\n",
      " 111 lang_at_home           object \n",
      " 112 school_degree          object \n",
      " 113 school_major           object \n",
      " 114 marital_status         object \n",
      " 115 has_finance_depends    float64\n",
      " 116 has_children           float64\n",
      " 117 num_children           float64\n",
      " 118 do_finance_support     float64\n",
      " 119 debt_amt               float64\n",
      " 120 home_mrtg_has          float64\n",
      " 121 home_mrtg_owe          float64\n",
      " 122 student_debt_has       float64\n",
      " 123 student_debt_amt       float64\n",
      " 124 curr_emplymnt          object \n",
      " 125 curr_emplymnt_other    object \n",
      " 126 curr_field             object \n",
      " 127 last_yr_income         float64\n",
      " 128 communite_time         object \n",
      " 129 is_self_employed       float64\n",
      " 130 has_served_military    float64\n",
      " 131 is_recv_disab_bnft     float64\n",
      " 132 has_high_spd_ntnet     float64\n",
      " 133 time_start             object \n",
      " 134 time_end               object \n",
      " 135 network_id             object \n",
      " 136 time_total_sec         int64  \n",
      " 137 at_least_one_jobrole   bool   \n",
      "dtypes: bool(1), float64(106), int64(3), object(28)\n",
      "memory usage: 26.7+ MB\n"
     ]
    }
   ],
   "source": [
    "survey_2018.info(verbose=True)"
   ]
  }
 ],
 "metadata": {
  "hide_input": false,
  "kernelspec": {
   "display_name": "Python 3 (ipykernel)",
   "language": "python",
   "name": "python3"
  },
  "language_info": {
   "codemirror_mode": {
    "name": "ipython",
    "version": 3
   },
   "file_extension": ".py",
   "mimetype": "text/x-python",
   "name": "python",
   "nbconvert_exporter": "python",
   "pygments_lexer": "ipython3",
   "version": "3.9.2"
  },
  "toc": {
   "base_numbering": 1,
   "nav_menu": {
    "height": "328px",
    "width": "259px"
   },
   "number_sections": false,
   "sideBar": true,
   "skip_h1_title": true,
   "title_cell": "Table of Contents",
   "title_sidebar": "Contents",
   "toc_cell": false,
   "toc_position": {},
   "toc_section_display": true,
   "toc_window_display": false
  },
  "varInspector": {
   "cols": {
    "lenName": 16,
    "lenType": 16,
    "lenVar": 40
   },
   "kernels_config": {
    "python": {
     "delete_cmd_postfix": "",
     "delete_cmd_prefix": "del ",
     "library": "var_list.py",
     "varRefreshCmd": "print(var_dic_list())"
    },
    "r": {
     "delete_cmd_postfix": ") ",
     "delete_cmd_prefix": "rm(",
     "library": "var_list.r",
     "varRefreshCmd": "cat(var_dic_list()) "
    }
   },
   "position": {
    "height": "596.85px",
    "left": "588px",
    "right": "20px",
    "top": "120px",
    "width": "350px"
   },
   "types_to_exclude": [
    "module",
    "function",
    "builtin_function_or_method",
    "instance",
    "_Feature"
   ],
   "window_display": false
  }
 },
 "nbformat": 4,
 "nbformat_minor": 4
}
