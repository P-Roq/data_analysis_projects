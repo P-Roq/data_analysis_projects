{
 "cells": [
  {
   "cell_type": "markdown",
   "metadata": {
    "collapsed": true
   },
   "source": [
    "# Guided Project  - Popular Data Science Questions\n",
    "---\n",
    "From the tutorial:\n",
    "\n",
    "\n",
    ">\"In this scenario, you're working for a company that creates data science content, be it books, online articles, videos or interactive text-based platforms like Dataquest.\n",
    ">\n",
    ">You're tasked with figuring out what is best content to write about. Because you took this course, you know that given the lack of instructions there's some leeway in what \"best\" means here.\n",
    ">\n",
    ">Since you're passionate about helping people learn, you decide to scour the internet in search for the answer to the question \"What is it that people want to learn about in data science?\" (as opposed to determining the most profitable content, for instance).\n",
    ">\n",
    ">Thinking back to your experience when you first started learning programming, it occurs to you that if you wanted to figure out what programming content to write, you could consult Stack Overflow (a question and answer website about programming) and see what kind of content is more popular.\n",
    ">\n",
    ">If you open the link in the image shared above, you'll find a complete list of Stack Exchange websites sorted by percentage of questions that received answers. At the time of this writing, [Data Science Stack Exchange (DSSE)](https://datascience.stackexchange.com/) is on the bottom 10 sites with respect to this metric.\n",
    ">\n",
    ">The fact that DSSE is a data science dedicated site (contrarily to the others), coupled with it having a lot of unanswered questions, makes it an ideal candidate for this investigation. DSSE will be the focus of this guided project.\"\n",
    "\n",
    "**Note:** a comprehensive solution to this project is provided in [GitHub](https://github.com/dataquestio/solutions/blob/master/Mission469Solutions.ipynb). The last section of this project analyses the difference in the approaches - mine and the one from the solution, and adds comments that help to understand the possible shortcummnings of my version of the project."
   ]
  },
  {
   "cell_type": "markdown",
   "metadata": {},
   "source": [
    "## Index\n",
    "---\n",
    "- [Task 1](#Task_1) \n",
    "- [Task 2](#Task_2)\n",
    "- [Task 3](#Task_3)\n",
    "- [Task 4](#Task_4)\n",
    "- [Task 5](#Task_5)\n",
    "- [Task 6](#Task_6)\n",
    "- [Task 7](#Task_7)\n",
    "- [Task 8](#Task_8)\n",
    "- [Task 9](#Task_9)\n",
    "- [Extra-content: discussion and comparison with Dataquest solutions](#Extra-content)"
   ]
  },
  {
   "cell_type": "markdown",
   "metadata": {},
   "source": [
    "## Task_1\n",
    "---\n",
    "1. If you're not familiar with any Stack Exchange website, take the time to explore one of them. Try to answer a few of these questions in a markdown cell:\n",
    "\n",
    "    - 1.1. What kind of questions are welcome on this site?\n",
    "    \n",
    "    - 1.2. What, other than questions, does the site's home subdivide into?\n",
    "      - Does any of them look useful towards our goal?\n",
    "      \n",
    "    - 1.3. What information is available in each post?<P>\n",
    "    \n",
    "2. Explore some of the questions that were asked. **\\[omitted task\\]**<p>\n",
    "\n",
    "3. Try asking a couple of questions on any of Stack Exchange sites to get a better feel for how the sites operate. **\\[omitted task\\]**"
   ]
  },
  {
   "cell_type": "markdown",
   "metadata": {},
   "source": [
    "## I\n",
    "---\n",
    "### A Brief Inquiry Into The Concept Of Data Science Stack Exchange\n",
    "\n",
    "\n",
    "**What kind of questions are welcome on this site?**\n",
    "\n",
    "As the [DSSE's tour page describes](https://datascience.stackexchange.com/tour), the type of questions that are welcome on the platform are 'practical, detailed questions' related to data science. The same logic can be applied to any of the Stack Exchange websites, where this type of engagement is done under a broad but identifiable subject. Other examples of sites within the group are: [Ask Ubuntu](https://askubuntu.com/https://askubuntu.com/) (a platform dedicated to Ubuntu, an operating system within the Linux family),  [English Language & Usage](https://english.stackexchange.com/), and [Mathematics](https://math.stackexchange.com/).\n",
    "\n",
    "---\n",
    "\n",
    "\n",
    "**What, other than questions, does the site's home subdivide into?**\n",
    "  - **Does any of them look useful towards our goal?**\n",
    "  \n",
    "  \n",
    "DSSE's home site subdivides into 4 sections:\n",
    "- Questions - a page dedicated to browse and ask questions.\n",
    "- Tags - tags are keywords associated to the topic(s) of each question. The Tags section groups all the questions by their tag(s), for ease of browsing. \n",
    "- Users - this section allows the public to browse for DSSE's users.\n",
    "- Unanswered - lists questions that haven't been accepted by moderators or do not have any upvote from other users.\n",
    "\n",
    "From our frame of work, which is to look for 'what people want to learn about data science', what seems to be important is the clues provided by the meta-data gathered in form of tags. These keywords allow to identify which are the most popular concepts that arise from the pool of questions which have many subject matters. Similarly, the 'hot' tab in the Home page can be equally useful, offering the possibility to track the current flow of interest shown in a given key concept or subject given the questions that are generating more engagement at the moment.\n",
    "\n",
    "\n",
    "---\n",
    "\n",
    "\n",
    "**What information is available in each post?**\n",
    "\n",
    "Each post, such as in [this example](https://datascience.stackexchange.com/questions/69622/discrimination-vs-calibration-machine-learning-models), has the following main information:\n",
    "\n",
    "\n",
    " - From the poster side:\n",
    "     - Title of the question.\n",
    "     - Content of the question.\n",
    "     - Post info: 'Asked' (when was it posted), 'Active'(last interaction), 'Viewed' (number of views).\n",
    "     - User info: name, score, reputation, badges.\n",
    "     - Associated tags.\n",
    "     - Question's rating (by other users).\n",
    "     \n",
    "     \n",
    " - From the answer side:\n",
    "      - Answers from users, sorted by rating. For each answer:\n",
    "          - Content of the answer.\n",
    "          - User info (similar to 'user info' in the poster side).\n",
    "          - Answer's rating (from other users).\n",
    "          \n",
    "  - Comments:\n",
    "      - Content.\n",
    "      - Commenter user name.\n",
    "      "
   ]
  },
  {
   "cell_type": "markdown",
   "metadata": {
    "collapsed": true
   },
   "source": [
    "## Task_2\n",
    "---\n",
    "### Preamble\n",
    "'After a spending some time investigating the website, you decide that the tags will be very useful in **categorizing content**, saving you the trouble of you having to do it yourself.\n",
    "\n",
    "Now comes the challenge of accessing the data en masse. One potential solution would be to scrape the site. However, because we still haven't learned how to web scrape, and because we have an easier alternative (mostly the second reason), we're going to do something else.\n",
    "\n",
    "Stack Exchange provides a public data base for each of its websites. [Here's](https://data.stackexchange.com/datascience/query/new) a link to query and explore Data Science Stack Exchange's database. \n",
    "\n",
    "\\(...\\)\n",
    "\n",
    "Note that SEDE uses a different dialect (Transact-SQL — Microsoft's SQL) than SQLite , which you learned earlier. Most things are the same, but some are different. \\(...\\) If you run into any issues due to these differences, try to research on your own how to solve them. [Here's](https://www.mssqltips.com/sqlservertip/4777/comparing-some-differences-of-sql-server-to-sqlite/) a helpful resource.'\n",
    "\n",
    "\n",
    "#### Instructions\n",
    "---\n",
    "1. Explore Data Science Stack Exchange's data model.  \n",
    "     - Investigate a few of the tables, especially those whose names sound more promising;\n",
    "     - Write a few queries to get a feel for the data; <p><p>   \n",
    "       \n",
    "2. In a markdown cell, write about what tables look more promising towards finding the most popular content.\n"
   ]
  },
  {
   "cell_type": "markdown",
   "metadata": {},
   "source": [
    "Looking at the tables available in DSSE's public data base (sql code):\n",
    "\n",
    "    SELECT \n",
    "            *\n",
    "    FROM INFORMATION_SCHEMA.TABLES\n",
    "    ORDER BY 1;\n",
    "    \n",
    "Output:\n",
    "\n",
    "|TABLE_NAME                |\n",
    "|--------------------------|\n",
    "|Badges                    |\n",
    "|CloseAsOffTopicReasonTypes|\n",
    "|CloseReasonTypes          |\n",
    "|Comments                  |\n",
    "|FlagTypes                 |\n",
    "|PendingFlags              |\n",
    "|PostFeedback              |\n",
    "|PostHistory               |\n",
    "|PostHistoryTypes          |\n",
    "|PostLinks                 |\n",
    "|PostNotices               |\n",
    "|PostNoticeTypes           |\n",
    "|Posts                     |\n",
    "|PostsWithDeleted          |\n",
    "|PostTags                  |\n",
    "|PostTypes                 |\n",
    "|ReviewRejectionReasons    |\n",
    "|ReviewTaskResults         |\n",
    "|ReviewTaskResultTypes     |\n",
    "|ReviewTasks               |\n",
    "|ReviewTaskStates          |\n",
    "|ReviewTaskTypes           |\n",
    "|SuggestedEdits            |\n",
    "|SuggestedEditVotes        |\n",
    "|Tags                      |\n",
    "|TagSynonyms               |\n",
    "|Users                     |\n",
    "|Votes                     |\n",
    "|VoteTypes                 |\n",
    "\n",
    "**Comment:** Looking at the tables availabe, starting to look for the desired information by exploring 'Posts' and 'Tags' seems reasonable.\n",
    "\n",
    "Taking a look at the basic info on the **'Posts'** table:\n",
    "\n",
    "        SELECT \n",
    "              COLUMN_NAME,\n",
    "              DATA_TYPE\n",
    "          FROM INFORMATION_SCHEMA.COLUMNS\n",
    "          WHERE TABLE_NAME = 'Posts';\n",
    "          \n",
    "Output:\n",
    "\n",
    "|COLUMN_NAME               |DATA_TYPE     |\n",
    "|--------------------------|--------------|\n",
    "|Id                        |int           |\n",
    "|PostTypeId                |tinyint       |\n",
    "|AcceptedAnswerId          |int           |\n",
    "|ParentId                  |int           |\n",
    "|CreationDate              |datetime      |\n",
    "|DeletionDate              |datetime      |\n",
    "|Score                     |int           |\n",
    "|ViewCount                 |int           |\n",
    "|Body                      |nvarchar      |\n",
    "|OwnerUserId               |int           |\n",
    "|OwnerDisplayName          |nvarchar      |\n",
    "|LastEditorUserId          |int           |\n",
    "|LastEditorDisplayName     |nvarchar      |\n",
    "|LastEditDate              |datetime      |\n",
    "|LastActivityDate          |datetime      |\n",
    "|Title                     |nvarchar      |\n",
    "|Tags                      |nvarchar      |\n",
    "|AnswerCount               |int           |\n",
    "|CommentCount              |int           |\n",
    "|FavoriteCount             |int           |\n",
    "|ClosedDate                |datetime      |\n",
    "|CommunityOwnedDate        |datetime      |\n",
    "|ContentLicense            |varchar       |\n",
    "\n",
    "**Comment:** the 'Posts' column has many columns but in order to understand what is the content users are after, one can look into the columns that register levels of engagement; belelow, using an exploratoty query into 'Posts', is an example of such columns:\n",
    "\n",
    "    SELECT \n",
    "        Top 5\n",
    "            Id,\n",
    "            ViewCount,\n",
    "            Score,\n",
    "            Tags,\n",
    "            AnswerCount,\n",
    "            CommentCount,\n",
    "            FavoriteCount\n",
    "        FROM Posts\n",
    "        ORDER BY ViewCount DESC;\n",
    "\n",
    "Output:\n",
    "\n",
    "|Id   |Title                                                                                                      |ViewCount|Score|Tags                                                 |AnswerCount|CommentCount|FavoriteCount|\n",
    "|-----|-----------------------------------------------------------------------------------------------------------|---------|-----|-----------------------------------------------------|-----------|------------|-------------|\n",
    "|11928|ValueError: Input contains NaN, infinity or a value too large for dtype('float32')                         |297432   |81   |python, random-forest, pandas                      |10         |2           |18           |\n",
    "|893  |How to get correlation between two categorical variable and a categorical variable and continuous variable?|290850   |103  |r, statistics, correlation                         |1          |5           |113          |\n",
    "|12321|What's the difference between fit and fit_transform in scikit-learn models?                                |282621   |210  |python, scikit-learn                               |10         |4           |154          |\n",
    "|13490|How to set class weights for imbalanced classes in Keras?                                                  |281734   |217  | deep-learning, classification, keras, weighted-data |9          |0           |85           |\n",
    "|33053|How do I compare columns in different data frames?                                                         |259993   |39   |pandas, dataframe                                  |6          |4           |15           |\n",
    "\n",
    "\n",
    "**Comment:** What is most sought after data science content can be extracted by defining different criteria. When looking at the sample from the 'Posts' table (shown above), one can be order the most popular content by view counts, or other columns such as number of answers or number of comments. \n",
    "\n",
    "\n",
    "We can also explore the table tags **'Tags'** to have a notion of what is available:\n",
    "\n",
    "        SELECT \n",
    "              COLUMN_NAME,\n",
    "              DATA_TYPE\n",
    "            FROM INFORMATION_SCHEMA.COLUMNS\n",
    "            WHERE TABLE_NAME = 'Tags';\n",
    "            \n",
    "Output:\n",
    "\n",
    "|COLUMN_NAME    |DATA_TYPE|\n",
    "|---------------|---------|\n",
    "|Id             |int      |\n",
    "|TagName        |nvarchar |\n",
    "|Count          |int      |\n",
    "|ExcerptPostId  |int      |\n",
    "|WikiPostId     |int      |\n",
    "|IsModeratorOnly|bit      |\n",
    "|IsRequired     |bit      |\n",
    "\n",
    "\n",
    "\n",
    "Sampling 'Tags' by frequency ('Count'); hiighest 20 values:\n",
    "\n",
    "        SELECT \n",
    "          TOP 20\n",
    "              TagName,\n",
    "              Count\n",
    "          FROM Tags\n",
    "          ORDER BY COUNT DESC;\n",
    "          \n",
    "Output:\n",
    "\n",
    "|TagName            |Count|\n",
    "|-------------------|-----|\n",
    "|machine-learning   |9083 |\n",
    "|python             |5316 |\n",
    "|deep-learning      |3842 |\n",
    "|neural-network     |3731 |\n",
    "|classification     |2623 |\n",
    "|keras              |2354 |\n",
    "|nlp                |1877 |\n",
    "|scikit-learn       |1831 |\n",
    "|tensorflow         |1801 |\n",
    "|time-series        |1384 |\n",
    "|r                  |1295 |\n",
    "|regression         |1236 |\n",
    "|dataset            |1170 |\n",
    "|cnn                |1153 |\n",
    "|clustering         |1137 |\n",
    "|data-mining        |1054 |\n",
    "|pandas             |1040 |\n",
    "|predictive-modeling|1001 |\n",
    "|lstm               |942  |\n",
    "|statistics         |884  |\n",
    "\n",
    "\n",
    "**Comment:** The table immedialtely above displays the twenty most frequent tags associated to posts. From what we can see, these tags are mostly related to languages (e.g. python, r), libraries (e.g. pandas, scikit-learn), data analysis concepts (e.g. machine-learning, deep-learning) and statistical concepts (e.g. regression, time-series, clustering)."
   ]
  },
  {
   "cell_type": "markdown",
   "metadata": {},
   "source": [
    "## Task_3\n",
    "---\n",
    "### Preamble\n",
    "---\n",
    "The posts table has a lot of columns. We'll be focusing our attention on those that seem relevant towards our goal:\n",
    "\n",
    "- `Id`: An identification number for the post.\n",
    "\n",
    "- `PostTypeId`: An identification number for the type of post.\n",
    "    - 1 = Question\n",
    "    - 2 = Answer\n",
    "    - ...\n",
    "    (check [here](https://meta.stackexchange.com/questions/2677/database-schema-documentation-for-the-public-data-dump-and-sede) the full list)\n",
    "    \n",
    "- `CreationDate`: The date and time of creation of the post.\n",
    "\n",
    "- `Score`: The post's score.\n",
    "    \n",
    "- `ViewCount`: How many times the post was viewed.\n",
    "\n",
    "-  `Tags`: What tags were used.\n",
    "    \n",
    "- `AnswerCount`: How many answers the question got (only applicable to question posts).\n",
    "\n",
    "- `FavoriteCount`: How many times the question was favored i.e. bookmarked by users (only applicable to question posts).\n",
    "\n",
    "Note that with the exception of the tags column, the last few columns contain information about how popular the post is — the kind of information we're after.\n",
    "\n",
    "There are eight different types of post. Before we try to figure out which of them are relevant to us, let's check how many of them there are:\n",
    "\n",
    "    SELECT \n",
    "            PostTypeId, \n",
    "            COUNT(*) as NrOfPosts\n",
    "        FROM posts\n",
    "        GROUP BY PostTypeId;\n",
    "        \n",
    "Output:\n",
    "\n",
    "|PostTypeId|NrOfPosts|\n",
    "|----------|---------|\n",
    "|1         |21446    |\n",
    "|2         |23673    |\n",
    "|4         |236      |\n",
    "|5         |236      |\n",
    "|6         |11       |\n",
    "|7         |1        |\n",
    "\n",
    "Due to their low volume, anything that isn't questions or answers is mostly inconsequential. Even if it happens to be the case that such kind of posts is immensely popular, they would just be outliers and not relevant to us. We'll then just focus on the questions.\n",
    "\n",
    "Since we're only interested in recent posts, we'll limit our analysis to the posts of 2019. (At the time of writing it is early 2020).\n",
    "\n",
    "The dataset we'll be using in this guided project is one resulting from a possible solution to the following exercise.\n",
    "\n",
    "#### Instructions\n",
    "---\n",
    "1. Run a query against the SEDE DSSE database that extracts the columns listed above for all the questions in 2019.\n",
    "\n",
    "Attempt of solution:\n",
    "\n",
    "    SELECT \n",
    "          Id,\n",
    "          PostTypeId,\n",
    "          CreationDate,\n",
    "          Score,\n",
    "          ViewCount,\n",
    "          Tags,\n",
    "          AnswerCount,\n",
    "          FavoriteCount\n",
    "      From Posts\n",
    "      WHERE (CreationDate >= '2019-01-01 00:00:00')\n",
    "      AND (CreationDate < '2020-01-01 00:00:00')\n",
    "      \n",
    "Two findings when looking in to the output:\n",
    "\n",
    "- Most cells in the `FavoriteCount` column are empty.\n",
    "- The values in the `Tags` column are strings with the following presentation, e.g. `row 0`: '<machine-learning><data-mining>'\n"
   ]
  },
  {
   "cell_type": "code",
   "execution_count": null,
   "metadata": {},
   "outputs": [],
   "source": []
  },
  {
   "cell_type": "code",
   "execution_count": null,
   "metadata": {},
   "outputs": [],
   "source": []
  },
  {
   "cell_type": "markdown",
   "metadata": {
    "collapsed": true
   },
   "source": [
    "## Task_4\n",
    "---\n",
    "1. Read in the file into a dataframe.   \n",
    "<br>   \n",
    "\n",
    "2. Explore the data. Try to answer a few of these questions in a markdown cell:\n",
    "    - How many missing values are there in each column?\n",
    "    - Can we fix the missing values somehow?\n",
    "    - Are the types of each column adequate?\n",
    "    - What can we do about the Tags column?\n"
   ]
  },
  {
   "cell_type": "code",
   "execution_count": 1,
   "metadata": {},
   "outputs": [],
   "source": [
    "# Reading the file:\n",
    "import pandas as pd\n",
    "import numpy as np\n",
    "import matplotlib.pyplot as plt \n",
    "import re\n",
    "\n",
    "# using the full directory from my machine is not working:\n",
    "# df = pd.read_csv('/home/pi/documentos/dataquest/projects/p8 - Popular Data Science Questions (Data analysis in Business)/2019_questions.csv')\n",
    "\n",
    "# not using a full directory works in loading a csv file; probably one already made available by dataquest.\n",
    "df = pd.read_csv('2019_questions.csv')"
   ]
  },
  {
   "cell_type": "markdown",
   "metadata": {},
   "source": [
    "#### Exploring the data"
   ]
  },
  {
   "cell_type": "markdown",
   "metadata": {},
   "source": [
    "First look by sampling"
   ]
  },
  {
   "cell_type": "code",
   "execution_count": 2,
   "metadata": {},
   "outputs": [
    {
     "data": {
      "text/html": [
       "<div>\n",
       "<style scoped>\n",
       "    .dataframe tbody tr th:only-of-type {\n",
       "        vertical-align: middle;\n",
       "    }\n",
       "\n",
       "    .dataframe tbody tr th {\n",
       "        vertical-align: top;\n",
       "    }\n",
       "\n",
       "    .dataframe thead th {\n",
       "        text-align: right;\n",
       "    }\n",
       "</style>\n",
       "<table border=\"1\" class=\"dataframe\">\n",
       "  <thead>\n",
       "    <tr style=\"text-align: right;\">\n",
       "      <th></th>\n",
       "      <th>Id</th>\n",
       "      <th>CreationDate</th>\n",
       "      <th>Score</th>\n",
       "      <th>ViewCount</th>\n",
       "      <th>Tags</th>\n",
       "      <th>AnswerCount</th>\n",
       "      <th>FavoriteCount</th>\n",
       "    </tr>\n",
       "  </thead>\n",
       "  <tbody>\n",
       "    <tr>\n",
       "      <th>0</th>\n",
       "      <td>44419</td>\n",
       "      <td>2019-01-23 09:21:13</td>\n",
       "      <td>1</td>\n",
       "      <td>21</td>\n",
       "      <td>&lt;machine-learning&gt;&lt;data-mining&gt;</td>\n",
       "      <td>0</td>\n",
       "      <td>NaN</td>\n",
       "    </tr>\n",
       "    <tr>\n",
       "      <th>1</th>\n",
       "      <td>44420</td>\n",
       "      <td>2019-01-23 09:34:01</td>\n",
       "      <td>0</td>\n",
       "      <td>25</td>\n",
       "      <td>&lt;machine-learning&gt;&lt;regression&gt;&lt;linear-regressi...</td>\n",
       "      <td>0</td>\n",
       "      <td>NaN</td>\n",
       "    </tr>\n",
       "    <tr>\n",
       "      <th>2</th>\n",
       "      <td>44423</td>\n",
       "      <td>2019-01-23 09:58:41</td>\n",
       "      <td>2</td>\n",
       "      <td>1651</td>\n",
       "      <td>&lt;python&gt;&lt;time-series&gt;&lt;forecast&gt;&lt;forecasting&gt;</td>\n",
       "      <td>0</td>\n",
       "      <td>NaN</td>\n",
       "    </tr>\n",
       "    <tr>\n",
       "      <th>3</th>\n",
       "      <td>44427</td>\n",
       "      <td>2019-01-23 10:57:09</td>\n",
       "      <td>0</td>\n",
       "      <td>55</td>\n",
       "      <td>&lt;machine-learning&gt;&lt;scikit-learn&gt;&lt;pca&gt;</td>\n",
       "      <td>1</td>\n",
       "      <td>NaN</td>\n",
       "    </tr>\n",
       "    <tr>\n",
       "      <th>4</th>\n",
       "      <td>44428</td>\n",
       "      <td>2019-01-23 11:02:15</td>\n",
       "      <td>0</td>\n",
       "      <td>19</td>\n",
       "      <td>&lt;dataset&gt;&lt;bigdata&gt;&lt;data&gt;&lt;speech-to-text&gt;</td>\n",
       "      <td>0</td>\n",
       "      <td>NaN</td>\n",
       "    </tr>\n",
       "  </tbody>\n",
       "</table>\n",
       "</div>"
      ],
      "text/plain": [
       "      Id         CreationDate  Score  ViewCount  \\\n",
       "0  44419  2019-01-23 09:21:13      1         21   \n",
       "1  44420  2019-01-23 09:34:01      0         25   \n",
       "2  44423  2019-01-23 09:58:41      2       1651   \n",
       "3  44427  2019-01-23 10:57:09      0         55   \n",
       "4  44428  2019-01-23 11:02:15      0         19   \n",
       "\n",
       "                                                Tags  AnswerCount  \\\n",
       "0                    <machine-learning><data-mining>            0   \n",
       "1  <machine-learning><regression><linear-regressi...            0   \n",
       "2       <python><time-series><forecast><forecasting>            0   \n",
       "3              <machine-learning><scikit-learn><pca>            1   \n",
       "4           <dataset><bigdata><data><speech-to-text>            0   \n",
       "\n",
       "   FavoriteCount  \n",
       "0            NaN  \n",
       "1            NaN  \n",
       "2            NaN  \n",
       "3            NaN  \n",
       "4            NaN  "
      ]
     },
     "execution_count": 2,
     "metadata": {},
     "output_type": "execute_result"
    }
   ],
   "source": [
    "df.head()"
   ]
  },
  {
   "cell_type": "markdown",
   "metadata": {},
   "source": [
    "Dataframe shape"
   ]
  },
  {
   "cell_type": "code",
   "execution_count": 3,
   "metadata": {},
   "outputs": [
    {
     "data": {
      "text/plain": [
       "(8839, 7)"
      ]
     },
     "execution_count": 3,
     "metadata": {},
     "output_type": "execute_result"
    }
   ],
   "source": [
    "df.shape"
   ]
  },
  {
   "cell_type": "markdown",
   "metadata": {},
   "source": [
    "Columns information"
   ]
  },
  {
   "cell_type": "code",
   "execution_count": 4,
   "metadata": {},
   "outputs": [
    {
     "name": "stdout",
     "output_type": "stream",
     "text": [
      "<class 'pandas.core.frame.DataFrame'>\n",
      "RangeIndex: 8839 entries, 0 to 8838\n",
      "Data columns (total 7 columns):\n",
      "Id               8839 non-null int64\n",
      "CreationDate     8839 non-null object\n",
      "Score            8839 non-null int64\n",
      "ViewCount        8839 non-null int64\n",
      "Tags             8839 non-null object\n",
      "AnswerCount      8839 non-null int64\n",
      "FavoriteCount    1407 non-null float64\n",
      "dtypes: float64(1), int64(4), object(2)\n",
      "memory usage: 414.4+ KB\n"
     ]
    }
   ],
   "source": [
    "df.info()"
   ]
  },
  {
   "cell_type": "markdown",
   "metadata": {},
   "source": [
    "Missing values"
   ]
  },
  {
   "cell_type": "code",
   "execution_count": 5,
   "metadata": {},
   "outputs": [],
   "source": [
    "nulls = df.isnull().sum()"
   ]
  },
  {
   "cell_type": "code",
   "execution_count": 6,
   "metadata": {},
   "outputs": [
    {
     "data": {
      "text/plain": [
       "Id                0.00000\n",
       "CreationDate      0.00000\n",
       "Score             0.00000\n",
       "ViewCount         0.00000\n",
       "Tags              0.00000\n",
       "AnswerCount       0.00000\n",
       "FavoriteCount    84.08191\n",
       "dtype: float64"
      ]
     },
     "execution_count": 6,
     "metadata": {},
     "output_type": "execute_result"
    }
   ],
   "source": [
    "nulls/8839*100"
   ]
  },
  {
   "cell_type": "code",
   "execution_count": 7,
   "metadata": {},
   "outputs": [
    {
     "name": "stdout",
     "output_type": "stream",
     "text": [
      "<class 'pandas.core.frame.DataFrame'>\n",
      "RangeIndex: 8839 entries, 0 to 8838\n",
      "Data columns (total 7 columns):\n",
      "Id               8839 non-null int64\n",
      "CreationDate     8839 non-null object\n",
      "Score            8839 non-null int64\n",
      "ViewCount        8839 non-null int64\n",
      "Tags             8839 non-null object\n",
      "AnswerCount      8839 non-null int64\n",
      "FavoriteCount    1407 non-null float64\n",
      "dtypes: float64(1), int64(4), object(2)\n",
      "memory usage: 414.4+ KB\n"
     ]
    }
   ],
   "source": [
    "df.info()"
   ]
  },
  {
   "cell_type": "markdown",
   "metadata": {},
   "source": [
    "About the `Tags` column values"
   ]
  },
  {
   "cell_type": "code",
   "execution_count": 8,
   "metadata": {},
   "outputs": [
    {
     "data": {
      "text/plain": [
       "str"
      ]
     },
     "execution_count": 8,
     "metadata": {},
     "output_type": "execute_result"
    }
   ],
   "source": [
    "# confirming that the `Tags` column is string type.\n",
    "\n",
    "type(df.iloc[0, 4])"
   ]
  },
  {
   "cell_type": "markdown",
   "metadata": {},
   "source": [
    "**Commments**\n",
    "\n",
    "- Only `FavoriteCounts` has missing values, which account for 84% of the total values.\n",
    "\n",
    "- Since `FavoriteCounts` is a personal choice of each user, of how important/useful a post is, if he/her decide to bookmark it, it's difficult to find viable proxy for this column; therefore, it can be dropped from the analysis since it does not provide consistent information.\n",
    "\n",
    "- Between objects - strings and datetime, and integers and floats, there are no surprises here; everything is 'workable'.\n",
    "\n",
    "- Since the values in `Tags` are strings, an easy cleaning can be applied, in order to extract each number of available tags per row. "
   ]
  },
  {
   "cell_type": "markdown",
   "metadata": {},
   "source": [
    "## Task_5\n",
    "---\n",
    "### Preamble\n",
    "\n",
    "At the end of this screen, the types of the columns should be as follows.\n",
    "\n",
    "    Id                        int64\n",
    "    CreationDate     datetime64[ns]\n",
    "    Score                     int64\n",
    "    ViewCount                 int64\n",
    "    Tags                     object\n",
    "    AnswerCount               int64\n",
    "    FavoriteCount             int64\n",
    "\n",
    "#### Instructions\n",
    "---\n",
    "1. Fill in the missing values with 0.  \n",
    "\n",
    "   <br> \n",
    "2. Set the types of each column in accordance to what was illustrated above.   <br>\n",
    "    <br>\n",
    "3. Clean the Tags column and assign it back to itself."
   ]
  },
  {
   "cell_type": "markdown",
   "metadata": {},
   "source": [
    "Filling in zeros for `FavoriteCount`:"
   ]
  },
  {
   "cell_type": "code",
   "execution_count": 9,
   "metadata": {},
   "outputs": [],
   "source": [
    "df['FavoriteCount'] = df['FavoriteCount'].mask(df['FavoriteCount'].isnull(), 0)"
   ]
  },
  {
   "cell_type": "code",
   "execution_count": 10,
   "metadata": {},
   "outputs": [
    {
     "data": {
      "text/plain": [
       "0"
      ]
     },
     "execution_count": 10,
     "metadata": {},
     "output_type": "execute_result"
    }
   ],
   "source": [
    "df['FavoriteCount'].isnull().sum()"
   ]
  },
  {
   "cell_type": "markdown",
   "metadata": {},
   "source": [
    "Columns that need to change types:\n",
    " - CreationDate: object to Datetime\n",
    " - FavoriteCount: float to int"
   ]
  },
  {
   "cell_type": "code",
   "execution_count": 11,
   "metadata": {},
   "outputs": [],
   "source": [
    "df = df.astype({'FavoriteCount':'int'})"
   ]
  },
  {
   "cell_type": "code",
   "execution_count": 12,
   "metadata": {},
   "outputs": [],
   "source": [
    "df = df.astype({'CreationDate':'datetime64[ns]'})"
   ]
  },
  {
   "cell_type": "markdown",
   "metadata": {},
   "source": [
    "Cleaning the column `Tags`:\n",
    "\n",
    "Note: to accomplish the tasks it is necessary to clean and reform the `Tags` colummn. For that purpose, this column will be split in a way that for each tag i (i in [0, n]) there is a column `Tag i`."
   ]
  },
  {
   "cell_type": "code",
   "execution_count": 13,
   "metadata": {},
   "outputs": [],
   "source": [
    "split_tags = df['Tags'].str.split(pat=\"><\", expand=True)\n",
    "\n",
    "# Example of a `Tags` string: <machine-learning><data-mining>"
   ]
  },
  {
   "cell_type": "code",
   "execution_count": 14,
   "metadata": {},
   "outputs": [],
   "source": [
    "split_tags = split_tags.rename({0:'Tag_1', 1:'Tag_2', 2:'Tag_3', 3:'Tag_4', 4:'Tag_5'}, axis=1)"
   ]
  },
  {
   "cell_type": "code",
   "execution_count": 15,
   "metadata": {},
   "outputs": [],
   "source": [
    "split_tags = split_tags.apply(lambda x: x.str.replace('(?:<|>)', ''))"
   ]
  },
  {
   "cell_type": "code",
   "execution_count": 16,
   "metadata": {},
   "outputs": [],
   "source": [
    "split_tags = split_tags.fillna(value=np.nan)"
   ]
  },
  {
   "cell_type": "code",
   "execution_count": 17,
   "metadata": {},
   "outputs": [],
   "source": [
    "# changing the original `Tags` column just to make it \n",
    "# tidy before closing the cleaning\n",
    "df['Tags'] = df['Tags'].str.replace(\"><\", ', ')\n",
    "df['Tags'] = df['Tags'].str.replace('(?:<|>)', '')"
   ]
  },
  {
   "cell_type": "code",
   "execution_count": 18,
   "metadata": {},
   "outputs": [
    {
     "data": {
      "text/html": [
       "<div>\n",
       "<style scoped>\n",
       "    .dataframe tbody tr th:only-of-type {\n",
       "        vertical-align: middle;\n",
       "    }\n",
       "\n",
       "    .dataframe tbody tr th {\n",
       "        vertical-align: top;\n",
       "    }\n",
       "\n",
       "    .dataframe thead th {\n",
       "        text-align: right;\n",
       "    }\n",
       "</style>\n",
       "<table border=\"1\" class=\"dataframe\">\n",
       "  <thead>\n",
       "    <tr style=\"text-align: right;\">\n",
       "      <th></th>\n",
       "      <th>Tag_1</th>\n",
       "      <th>Tag_2</th>\n",
       "      <th>Tag_3</th>\n",
       "      <th>Tag_4</th>\n",
       "      <th>Tag_5</th>\n",
       "    </tr>\n",
       "  </thead>\n",
       "  <tbody>\n",
       "    <tr>\n",
       "      <th>0</th>\n",
       "      <td>machine-learning</td>\n",
       "      <td>data-mining</td>\n",
       "      <td>NaN</td>\n",
       "      <td>NaN</td>\n",
       "      <td>NaN</td>\n",
       "    </tr>\n",
       "    <tr>\n",
       "      <th>1</th>\n",
       "      <td>machine-learning</td>\n",
       "      <td>regression</td>\n",
       "      <td>linear-regression</td>\n",
       "      <td>regularization</td>\n",
       "      <td>NaN</td>\n",
       "    </tr>\n",
       "    <tr>\n",
       "      <th>2</th>\n",
       "      <td>python</td>\n",
       "      <td>time-series</td>\n",
       "      <td>forecast</td>\n",
       "      <td>forecasting</td>\n",
       "      <td>NaN</td>\n",
       "    </tr>\n",
       "    <tr>\n",
       "      <th>3</th>\n",
       "      <td>machine-learning</td>\n",
       "      <td>scikit-learn</td>\n",
       "      <td>pca</td>\n",
       "      <td>NaN</td>\n",
       "      <td>NaN</td>\n",
       "    </tr>\n",
       "    <tr>\n",
       "      <th>4</th>\n",
       "      <td>dataset</td>\n",
       "      <td>bigdata</td>\n",
       "      <td>data</td>\n",
       "      <td>speech-to-text</td>\n",
       "      <td>NaN</td>\n",
       "    </tr>\n",
       "  </tbody>\n",
       "</table>\n",
       "</div>"
      ],
      "text/plain": [
       "              Tag_1         Tag_2              Tag_3           Tag_4 Tag_5\n",
       "0  machine-learning   data-mining                NaN             NaN   NaN\n",
       "1  machine-learning    regression  linear-regression  regularization   NaN\n",
       "2            python   time-series           forecast     forecasting   NaN\n",
       "3  machine-learning  scikit-learn                pca             NaN   NaN\n",
       "4           dataset       bigdata               data  speech-to-text   NaN"
      ]
     },
     "execution_count": 18,
     "metadata": {},
     "output_type": "execute_result"
    }
   ],
   "source": [
    "split_tags.head()"
   ]
  },
  {
   "cell_type": "code",
   "execution_count": 19,
   "metadata": {},
   "outputs": [],
   "source": [
    "df[split_tags.columns] = split_tags"
   ]
  },
  {
   "cell_type": "markdown",
   "metadata": {},
   "source": [
    "#### After cleaning and joining to the main dataframe, we have: "
   ]
  },
  {
   "cell_type": "code",
   "execution_count": 20,
   "metadata": {},
   "outputs": [
    {
     "data": {
      "text/html": [
       "<div>\n",
       "<style scoped>\n",
       "    .dataframe tbody tr th:only-of-type {\n",
       "        vertical-align: middle;\n",
       "    }\n",
       "\n",
       "    .dataframe tbody tr th {\n",
       "        vertical-align: top;\n",
       "    }\n",
       "\n",
       "    .dataframe thead th {\n",
       "        text-align: right;\n",
       "    }\n",
       "</style>\n",
       "<table border=\"1\" class=\"dataframe\">\n",
       "  <thead>\n",
       "    <tr style=\"text-align: right;\">\n",
       "      <th></th>\n",
       "      <th>Id</th>\n",
       "      <th>CreationDate</th>\n",
       "      <th>Score</th>\n",
       "      <th>ViewCount</th>\n",
       "      <th>Tags</th>\n",
       "      <th>AnswerCount</th>\n",
       "      <th>FavoriteCount</th>\n",
       "      <th>Tag_1</th>\n",
       "      <th>Tag_2</th>\n",
       "      <th>Tag_3</th>\n",
       "      <th>Tag_4</th>\n",
       "      <th>Tag_5</th>\n",
       "    </tr>\n",
       "  </thead>\n",
       "  <tbody>\n",
       "    <tr>\n",
       "      <th>0</th>\n",
       "      <td>44419</td>\n",
       "      <td>2019-01-23 09:21:13</td>\n",
       "      <td>1</td>\n",
       "      <td>21</td>\n",
       "      <td>machine-learning, data-mining</td>\n",
       "      <td>0</td>\n",
       "      <td>0</td>\n",
       "      <td>machine-learning</td>\n",
       "      <td>data-mining</td>\n",
       "      <td>NaN</td>\n",
       "      <td>NaN</td>\n",
       "      <td>NaN</td>\n",
       "    </tr>\n",
       "    <tr>\n",
       "      <th>1</th>\n",
       "      <td>44420</td>\n",
       "      <td>2019-01-23 09:34:01</td>\n",
       "      <td>0</td>\n",
       "      <td>25</td>\n",
       "      <td>machine-learning, regression, linear-regressio...</td>\n",
       "      <td>0</td>\n",
       "      <td>0</td>\n",
       "      <td>machine-learning</td>\n",
       "      <td>regression</td>\n",
       "      <td>linear-regression</td>\n",
       "      <td>regularization</td>\n",
       "      <td>NaN</td>\n",
       "    </tr>\n",
       "    <tr>\n",
       "      <th>2</th>\n",
       "      <td>44423</td>\n",
       "      <td>2019-01-23 09:58:41</td>\n",
       "      <td>2</td>\n",
       "      <td>1651</td>\n",
       "      <td>python, time-series, forecast, forecasting</td>\n",
       "      <td>0</td>\n",
       "      <td>0</td>\n",
       "      <td>python</td>\n",
       "      <td>time-series</td>\n",
       "      <td>forecast</td>\n",
       "      <td>forecasting</td>\n",
       "      <td>NaN</td>\n",
       "    </tr>\n",
       "    <tr>\n",
       "      <th>3</th>\n",
       "      <td>44427</td>\n",
       "      <td>2019-01-23 10:57:09</td>\n",
       "      <td>0</td>\n",
       "      <td>55</td>\n",
       "      <td>machine-learning, scikit-learn, pca</td>\n",
       "      <td>1</td>\n",
       "      <td>0</td>\n",
       "      <td>machine-learning</td>\n",
       "      <td>scikit-learn</td>\n",
       "      <td>pca</td>\n",
       "      <td>NaN</td>\n",
       "      <td>NaN</td>\n",
       "    </tr>\n",
       "    <tr>\n",
       "      <th>4</th>\n",
       "      <td>44428</td>\n",
       "      <td>2019-01-23 11:02:15</td>\n",
       "      <td>0</td>\n",
       "      <td>19</td>\n",
       "      <td>dataset, bigdata, data, speech-to-text</td>\n",
       "      <td>0</td>\n",
       "      <td>0</td>\n",
       "      <td>dataset</td>\n",
       "      <td>bigdata</td>\n",
       "      <td>data</td>\n",
       "      <td>speech-to-text</td>\n",
       "      <td>NaN</td>\n",
       "    </tr>\n",
       "  </tbody>\n",
       "</table>\n",
       "</div>"
      ],
      "text/plain": [
       "      Id        CreationDate  Score  ViewCount  \\\n",
       "0  44419 2019-01-23 09:21:13      1         21   \n",
       "1  44420 2019-01-23 09:34:01      0         25   \n",
       "2  44423 2019-01-23 09:58:41      2       1651   \n",
       "3  44427 2019-01-23 10:57:09      0         55   \n",
       "4  44428 2019-01-23 11:02:15      0         19   \n",
       "\n",
       "                                                Tags  AnswerCount  \\\n",
       "0                      machine-learning, data-mining            0   \n",
       "1  machine-learning, regression, linear-regressio...            0   \n",
       "2         python, time-series, forecast, forecasting            0   \n",
       "3                machine-learning, scikit-learn, pca            1   \n",
       "4             dataset, bigdata, data, speech-to-text            0   \n",
       "\n",
       "   FavoriteCount             Tag_1         Tag_2              Tag_3  \\\n",
       "0              0  machine-learning   data-mining                NaN   \n",
       "1              0  machine-learning    regression  linear-regression   \n",
       "2              0            python   time-series           forecast   \n",
       "3              0  machine-learning  scikit-learn                pca   \n",
       "4              0           dataset       bigdata               data   \n",
       "\n",
       "            Tag_4 Tag_5  \n",
       "0             NaN   NaN  \n",
       "1  regularization   NaN  \n",
       "2     forecasting   NaN  \n",
       "3             NaN   NaN  \n",
       "4  speech-to-text   NaN  "
      ]
     },
     "execution_count": 20,
     "metadata": {},
     "output_type": "execute_result"
    }
   ],
   "source": [
    "df.head()"
   ]
  },
  {
   "cell_type": "markdown",
   "metadata": {},
   "source": [
    "**Comment:** from what we can see, there are some overlapping tags such as in `Row 2` where we have forecast and forecasting in `Tag_3` and `Tag_4` respectively. Perhaps, a situation to deal with."
   ]
  },
  {
   "cell_type": "markdown",
   "metadata": {
    "collapsed": true
   },
   "source": [
    "## Task_6\n",
    "---\n",
    "### Preamble\n",
    "---\n",
    "We now focus on determining the most popular tags. We'll do so by considering two different popularity proxies: **for each tag we'll count how many times the tag was used**, and **how many times a question with that tag was viewed**.\n",
    "\n",
    "We could take into account the score, or whether or not a question is part of someone's favorite questions. These are all reasonable options to investigate; but we'll limit the focus of our research to counts and views for now.\n",
    "\n",
    "#### Instructions\n",
    "---\n",
    "1. Count how many times each tag was used.   \n",
    "   <br>    \n",
    "2. Count how many times each tag was viewed.   \n",
    "   <br>\n",
    "3. Create visualizations for the top tags of each of the above results.\n"
   ]
  },
  {
   "cell_type": "markdown",
   "metadata": {},
   "source": [
    "#### Task 6.1 Count how many times each tag was used. \n",
    "\n",
    "To count the tags used in the dataframe, I'll be doing a trick:\n",
    "  1. concating all tag columns in `df` (rows 7 to 11);\n",
    "  2. then, just use  the Series.value_counts()"
   ]
  },
  {
   "cell_type": "code",
   "execution_count": 21,
   "metadata": {},
   "outputs": [],
   "source": [
    "concat_tags = pd.concat([df.iloc[:, 7],\n",
    "                        df.iloc[:, 8],\n",
    "                        df.iloc[:, 9],\n",
    "                        df.iloc[:, 10],\n",
    "                        df.iloc[:, 11]])"
   ]
  },
  {
   "cell_type": "code",
   "execution_count": 22,
   "metadata": {},
   "outputs": [],
   "source": [
    "most_used = concat_tags.value_counts()"
   ]
  },
  {
   "cell_type": "code",
   "execution_count": 23,
   "metadata": {},
   "outputs": [],
   "source": [
    "most_used_top20 = most_used[:20]"
   ]
  },
  {
   "cell_type": "markdown",
   "metadata": {},
   "source": [
    "#### Top 20 most used tags in the  `Posts` database:"
   ]
  },
  {
   "cell_type": "code",
   "execution_count": 24,
   "metadata": {},
   "outputs": [
    {
     "data": {
      "text/plain": [
       "machine-learning          2693\n",
       "python                    1814\n",
       "deep-learning             1220\n",
       "neural-network            1055\n",
       "keras                      935\n",
       "classification             685\n",
       "tensorflow                 584\n",
       "scikit-learn               540\n",
       "nlp                        493\n",
       "cnn                        489\n",
       "time-series                466\n",
       "lstm                       402\n",
       "pandas                     354\n",
       "regression                 347\n",
       "dataset                    340\n",
       "r                          268\n",
       "predictive-modeling        265\n",
       "clustering                 257\n",
       "statistics                 234\n",
       "machine-learning-model     224\n",
       "dtype: int64"
      ]
     },
     "execution_count": 24,
     "metadata": {},
     "output_type": "execute_result"
    }
   ],
   "source": [
    "most_used_top20"
   ]
  },
  {
   "cell_type": "markdown",
   "metadata": {},
   "source": [
    "#### 6.2. Count how many times each tag was viewed."
   ]
  },
  {
   "cell_type": "code",
   "execution_count": 25,
   "metadata": {},
   "outputs": [],
   "source": [
    "check = df.iloc[:, 7:12] == 'machine-learning'"
   ]
  },
  {
   "cell_type": "code",
   "execution_count": 26,
   "metadata": {},
   "outputs": [
    {
     "data": {
      "text/plain": [
       "0     True\n",
       "1     True\n",
       "2    False\n",
       "3     True\n",
       "4    False\n",
       "dtype: bool"
      ]
     },
     "execution_count": 26,
     "metadata": {},
     "output_type": "execute_result"
    }
   ],
   "source": [
    "check.any(1).head()"
   ]
  },
  {
   "cell_type": "code",
   "execution_count": 27,
   "metadata": {},
   "outputs": [],
   "source": [
    "series = pd.Series(index=most_used.index)"
   ]
  },
  {
   "cell_type": "code",
   "execution_count": 28,
   "metadata": {},
   "outputs": [
    {
     "data": {
      "text/plain": [
       "machine-learning   NaN\n",
       "python             NaN\n",
       "deep-learning      NaN\n",
       "neural-network     NaN\n",
       "keras              NaN\n",
       "dtype: float64"
      ]
     },
     "execution_count": 28,
     "metadata": {},
     "output_type": "execute_result"
    }
   ],
   "source": [
    "series.head()"
   ]
  },
  {
   "cell_type": "markdown",
   "metadata": {},
   "source": [
    "**Comment:** below is a double loop that has the purpose of filling up a series named `most_viewed`, which displays the total number of views of all posts that have been marked with each tag. Since the task is very burdensome for the computer, taking a long time for it to come up with the output, the list of tags in `most_viewed` is comprised by the  top 60 in `most_used` (provides the total number of times a tag has been associated with any post). "
   ]
  },
  {
   "cell_type": "markdown",
   "metadata": {},
   "source": [
    "    # starting by creating an empty series with an index which is the top 60 values in `most_used`.\n",
    "    most_viewed = pd.Series(index=most_used.index[:60])\n",
    "\n",
    "    # the first loop goes down the tags in `most_viewed` one at a time\n",
    "    for row_1 in np.arange(0, most_viewed.shape[0], 1):\n",
    "        # the line below indentifies the tag to be used in the second loop\n",
    "        tag = most_viewed.index[row_1]\n",
    "        # the line below states that, instead of empty, the value in `most_viewed` for a given tag is `0`, i.e. a integer.\n",
    "        most_viewed[tag] = 0\n",
    "\n",
    "        # this second loop goes over the main dataframe, `df` and asks for each row: \n",
    "        # 'is the tag identified in the first loop in any of the tag columns, i.e. `Tag 1`, `Tag 2`, `Tag 3`, etc. in `df`?'\n",
    "        # if the tag is in at least one of the columns, then add the value in the column`ViewCounts` \n",
    "        # to the same tag row in `most_viewed`. The objective is two add all the 'ViewCounts' given a specific tag, for all tags.\n",
    "        # or else: do nothing.\n",
    "        for row_2 in np.arange(0, df.shape[0], 1):\n",
    "            condition = df.iloc[row_2, 7:12] == tag\n",
    "            if condition.any(0) == True:\n",
    "                #  column 3 is `ViewCount`\n",
    "                most_viewed[tag] += df.iloc[row_2, 3]   \n",
    "                \n",
    "    # the output only needs to be saved once to be available later\n",
    "    most_viewed.to_csv('/home/pi/documentos/dataquest/projects/p8 - Popular Data Science Questions (Data analysis in Business)/most_viewed',\n",
    "                  header=['most_viewed'])\n",
    "    "
   ]
  },
  {
   "cell_type": "markdown",
   "metadata": {},
   "source": [
    "**Note:** because the computation of `most_viewed` is long and burdensome to the computer, I've run the code to produce it once, save the output and opened it again: this way, whenever I run the Jupyter notebook, the output is retrieved from a csv file instead of going through the whole computaion again. Regardless, the code used to produce the `most_viewed` output is fully written, run-ready and saved in the markdown cell above."
   ]
  },
  {
   "cell_type": "code",
   "execution_count": 29,
   "metadata": {},
   "outputs": [],
   "source": [
    "most_viewed = pd.read_csv('most_viewed', index_col='Unnamed: 0')"
   ]
  },
  {
   "cell_type": "code",
   "execution_count": 30,
   "metadata": {},
   "outputs": [
    {
     "data": {
      "text/html": [
       "<div>\n",
       "<style scoped>\n",
       "    .dataframe tbody tr th:only-of-type {\n",
       "        vertical-align: middle;\n",
       "    }\n",
       "\n",
       "    .dataframe tbody tr th {\n",
       "        vertical-align: top;\n",
       "    }\n",
       "\n",
       "    .dataframe thead th {\n",
       "        text-align: right;\n",
       "    }\n",
       "</style>\n",
       "<table border=\"1\" class=\"dataframe\">\n",
       "  <thead>\n",
       "    <tr style=\"text-align: right;\">\n",
       "      <th></th>\n",
       "      <th>most_viewed</th>\n",
       "    </tr>\n",
       "  </thead>\n",
       "  <tbody>\n",
       "    <tr>\n",
       "      <th>machine-learning</th>\n",
       "      <td>388499.0</td>\n",
       "    </tr>\n",
       "    <tr>\n",
       "      <th>python</th>\n",
       "      <td>537585.0</td>\n",
       "    </tr>\n",
       "    <tr>\n",
       "      <th>deep-learning</th>\n",
       "      <td>233628.0</td>\n",
       "    </tr>\n",
       "    <tr>\n",
       "      <th>neural-network</th>\n",
       "      <td>185367.0</td>\n",
       "    </tr>\n",
       "    <tr>\n",
       "      <th>keras</th>\n",
       "      <td>268608.0</td>\n",
       "    </tr>\n",
       "  </tbody>\n",
       "</table>\n",
       "</div>"
      ],
      "text/plain": [
       "                  most_viewed\n",
       "machine-learning     388499.0\n",
       "python               537585.0\n",
       "deep-learning        233628.0\n",
       "neural-network       185367.0\n",
       "keras                268608.0"
      ]
     },
     "execution_count": 30,
     "metadata": {},
     "output_type": "execute_result"
    }
   ],
   "source": [
    "most_viewed.head()"
   ]
  },
  {
   "cell_type": "code",
   "execution_count": 31,
   "metadata": {},
   "outputs": [],
   "source": [
    "most_viewed = most_viewed.sort_values('most_viewed', ascending=False)"
   ]
  },
  {
   "cell_type": "code",
   "execution_count": 32,
   "metadata": {},
   "outputs": [
    {
     "data": {
      "text/html": [
       "<div>\n",
       "<style scoped>\n",
       "    .dataframe tbody tr th:only-of-type {\n",
       "        vertical-align: middle;\n",
       "    }\n",
       "\n",
       "    .dataframe tbody tr th {\n",
       "        vertical-align: top;\n",
       "    }\n",
       "\n",
       "    .dataframe thead th {\n",
       "        text-align: right;\n",
       "    }\n",
       "</style>\n",
       "<table border=\"1\" class=\"dataframe\">\n",
       "  <thead>\n",
       "    <tr style=\"text-align: right;\">\n",
       "      <th></th>\n",
       "      <th>most_viewed</th>\n",
       "    </tr>\n",
       "  </thead>\n",
       "  <tbody>\n",
       "    <tr>\n",
       "      <th>python</th>\n",
       "      <td>537585.0</td>\n",
       "    </tr>\n",
       "    <tr>\n",
       "      <th>machine-learning</th>\n",
       "      <td>388499.0</td>\n",
       "    </tr>\n",
       "    <tr>\n",
       "      <th>keras</th>\n",
       "      <td>268608.0</td>\n",
       "    </tr>\n",
       "    <tr>\n",
       "      <th>deep-learning</th>\n",
       "      <td>233628.0</td>\n",
       "    </tr>\n",
       "    <tr>\n",
       "      <th>pandas</th>\n",
       "      <td>201787.0</td>\n",
       "    </tr>\n",
       "    <tr>\n",
       "      <th>neural-network</th>\n",
       "      <td>185367.0</td>\n",
       "    </tr>\n",
       "    <tr>\n",
       "      <th>scikit-learn</th>\n",
       "      <td>128110.0</td>\n",
       "    </tr>\n",
       "    <tr>\n",
       "      <th>tensorflow</th>\n",
       "      <td>121369.0</td>\n",
       "    </tr>\n",
       "    <tr>\n",
       "      <th>classification</th>\n",
       "      <td>104457.0</td>\n",
       "    </tr>\n",
       "    <tr>\n",
       "      <th>lstm</th>\n",
       "      <td>74458.0</td>\n",
       "    </tr>\n",
       "    <tr>\n",
       "      <th>nlp</th>\n",
       "      <td>71382.0</td>\n",
       "    </tr>\n",
       "    <tr>\n",
       "      <th>cnn</th>\n",
       "      <td>70349.0</td>\n",
       "    </tr>\n",
       "    <tr>\n",
       "      <th>time-series</th>\n",
       "      <td>64134.0</td>\n",
       "    </tr>\n",
       "    <tr>\n",
       "      <th>numpy</th>\n",
       "      <td>49767.0</td>\n",
       "    </tr>\n",
       "    <tr>\n",
       "      <th>regression</th>\n",
       "      <td>49451.0</td>\n",
       "    </tr>\n",
       "    <tr>\n",
       "      <th>dataset</th>\n",
       "      <td>43151.0</td>\n",
       "    </tr>\n",
       "    <tr>\n",
       "      <th>pytorch</th>\n",
       "      <td>40240.0</td>\n",
       "    </tr>\n",
       "    <tr>\n",
       "      <th>clustering</th>\n",
       "      <td>33928.0</td>\n",
       "    </tr>\n",
       "    <tr>\n",
       "      <th>r</th>\n",
       "      <td>33684.0</td>\n",
       "    </tr>\n",
       "    <tr>\n",
       "      <th>image-classification</th>\n",
       "      <td>33238.0</td>\n",
       "    </tr>\n",
       "  </tbody>\n",
       "</table>\n",
       "</div>"
      ],
      "text/plain": [
       "                      most_viewed\n",
       "python                   537585.0\n",
       "machine-learning         388499.0\n",
       "keras                    268608.0\n",
       "deep-learning            233628.0\n",
       "pandas                   201787.0\n",
       "neural-network           185367.0\n",
       "scikit-learn             128110.0\n",
       "tensorflow               121369.0\n",
       "classification           104457.0\n",
       "lstm                      74458.0\n",
       "nlp                       71382.0\n",
       "cnn                       70349.0\n",
       "time-series               64134.0\n",
       "numpy                     49767.0\n",
       "regression                49451.0\n",
       "dataset                   43151.0\n",
       "pytorch                   40240.0\n",
       "clustering                33928.0\n",
       "r                         33684.0\n",
       "image-classification      33238.0"
      ]
     },
     "execution_count": 32,
     "metadata": {},
     "output_type": "execute_result"
    }
   ],
   "source": [
    "most_viewed.head(20)"
   ]
  },
  {
   "cell_type": "markdown",
   "metadata": {},
   "source": [
    "Lets present a dataframe that collects all the tags in both `most_used` and `most_viewed` and then check which values intersect when looking for the highest 20 values in `most_used` and the highest 20 values in `most_views`."
   ]
  },
  {
   "cell_type": "code",
   "execution_count": 33,
   "metadata": {},
   "outputs": [],
   "source": [
    "# concat uses outer join by defaullt\n",
    "tags_merged = pd.concat([most_used, most_viewed], axis=1, sort=False)\n",
    "\n",
    "tags_merged = tags_merged.rename(columns={0:'most_used', 1:'most_viewed'})"
   ]
  },
  {
   "cell_type": "code",
   "execution_count": 34,
   "metadata": {},
   "outputs": [
    {
     "data": {
      "text/html": [
       "<div>\n",
       "<style scoped>\n",
       "    .dataframe tbody tr th:only-of-type {\n",
       "        vertical-align: middle;\n",
       "    }\n",
       "\n",
       "    .dataframe tbody tr th {\n",
       "        vertical-align: top;\n",
       "    }\n",
       "\n",
       "    .dataframe thead th {\n",
       "        text-align: right;\n",
       "    }\n",
       "</style>\n",
       "<table border=\"1\" class=\"dataframe\">\n",
       "  <thead>\n",
       "    <tr style=\"text-align: right;\">\n",
       "      <th></th>\n",
       "      <th>most_used</th>\n",
       "      <th>most_viewed</th>\n",
       "    </tr>\n",
       "  </thead>\n",
       "  <tbody>\n",
       "    <tr>\n",
       "      <th>machine-learning</th>\n",
       "      <td>2693</td>\n",
       "      <td>388499.0</td>\n",
       "    </tr>\n",
       "    <tr>\n",
       "      <th>python</th>\n",
       "      <td>1814</td>\n",
       "      <td>537585.0</td>\n",
       "    </tr>\n",
       "    <tr>\n",
       "      <th>deep-learning</th>\n",
       "      <td>1220</td>\n",
       "      <td>233628.0</td>\n",
       "    </tr>\n",
       "    <tr>\n",
       "      <th>neural-network</th>\n",
       "      <td>1055</td>\n",
       "      <td>185367.0</td>\n",
       "    </tr>\n",
       "    <tr>\n",
       "      <th>keras</th>\n",
       "      <td>935</td>\n",
       "      <td>268608.0</td>\n",
       "    </tr>\n",
       "    <tr>\n",
       "      <th>classification</th>\n",
       "      <td>685</td>\n",
       "      <td>104457.0</td>\n",
       "    </tr>\n",
       "    <tr>\n",
       "      <th>tensorflow</th>\n",
       "      <td>584</td>\n",
       "      <td>121369.0</td>\n",
       "    </tr>\n",
       "    <tr>\n",
       "      <th>scikit-learn</th>\n",
       "      <td>540</td>\n",
       "      <td>128110.0</td>\n",
       "    </tr>\n",
       "    <tr>\n",
       "      <th>nlp</th>\n",
       "      <td>493</td>\n",
       "      <td>71382.0</td>\n",
       "    </tr>\n",
       "    <tr>\n",
       "      <th>cnn</th>\n",
       "      <td>489</td>\n",
       "      <td>70349.0</td>\n",
       "    </tr>\n",
       "  </tbody>\n",
       "</table>\n",
       "</div>"
      ],
      "text/plain": [
       "                  most_used  most_viewed\n",
       "machine-learning       2693     388499.0\n",
       "python                 1814     537585.0\n",
       "deep-learning          1220     233628.0\n",
       "neural-network         1055     185367.0\n",
       "keras                   935     268608.0\n",
       "classification          685     104457.0\n",
       "tensorflow              584     121369.0\n",
       "scikit-learn            540     128110.0\n",
       "nlp                     493      71382.0\n",
       "cnn                     489      70349.0"
      ]
     },
     "execution_count": 34,
     "metadata": {},
     "output_type": "execute_result"
    }
   ],
   "source": [
    "tags_merged.head(10)"
   ]
  },
  {
   "cell_type": "code",
   "execution_count": 35,
   "metadata": {},
   "outputs": [
    {
     "data": {
      "text/plain": [
       "most_used      27.0\n",
       "most_viewed     NaN\n",
       "Name: csv, dtype: float64"
      ]
     },
     "execution_count": 35,
     "metadata": {},
     "output_type": "execute_result"
    }
   ],
   "source": [
    "tags_merged.loc['csv']"
   ]
  },
  {
   "cell_type": "markdown",
   "metadata": {},
   "source": [
    "Top 20 of most used tags"
   ]
  },
  {
   "cell_type": "code",
   "execution_count": 36,
   "metadata": {},
   "outputs": [],
   "source": [
    "merge_top_used = tags_merged.loc[:, 'most_used'].sort_values(ascending=False).head(20)"
   ]
  },
  {
   "cell_type": "code",
   "execution_count": 37,
   "metadata": {},
   "outputs": [
    {
     "data": {
      "text/plain": [
       "machine-learning          2693\n",
       "python                    1814\n",
       "deep-learning             1220\n",
       "neural-network            1055\n",
       "keras                      935\n",
       "classification             685\n",
       "tensorflow                 584\n",
       "scikit-learn               540\n",
       "nlp                        493\n",
       "cnn                        489\n",
       "time-series                466\n",
       "lstm                       402\n",
       "pandas                     354\n",
       "regression                 347\n",
       "dataset                    340\n",
       "r                          268\n",
       "predictive-modeling        265\n",
       "clustering                 257\n",
       "statistics                 234\n",
       "machine-learning-model     224\n",
       "Name: most_used, dtype: int64"
      ]
     },
     "execution_count": 37,
     "metadata": {},
     "output_type": "execute_result"
    }
   ],
   "source": [
    "merge_top_used"
   ]
  },
  {
   "cell_type": "markdown",
   "metadata": {},
   "source": [
    "Top 20 of most viewed tags"
   ]
  },
  {
   "cell_type": "code",
   "execution_count": 38,
   "metadata": {},
   "outputs": [],
   "source": [
    "merge_top_viewed = tags_merged.loc[:, 'most_viewed'].sort_values( ascending=False).head(20)"
   ]
  },
  {
   "cell_type": "code",
   "execution_count": 39,
   "metadata": {},
   "outputs": [
    {
     "data": {
      "text/plain": [
       "python                  537585.0\n",
       "machine-learning        388499.0\n",
       "keras                   268608.0\n",
       "deep-learning           233628.0\n",
       "pandas                  201787.0\n",
       "neural-network          185367.0\n",
       "scikit-learn            128110.0\n",
       "tensorflow              121369.0\n",
       "classification          104457.0\n",
       "lstm                     74458.0\n",
       "nlp                      71382.0\n",
       "cnn                      70349.0\n",
       "time-series              64134.0\n",
       "numpy                    49767.0\n",
       "regression               49451.0\n",
       "dataset                  43151.0\n",
       "pytorch                  40240.0\n",
       "clustering               33928.0\n",
       "r                        33684.0\n",
       "image-classification     33238.0\n",
       "Name: most_viewed, dtype: float64"
      ]
     },
     "execution_count": 39,
     "metadata": {},
     "output_type": "execute_result"
    }
   ],
   "source": [
    "merge_top_viewed"
   ]
  },
  {
   "cell_type": "markdown",
   "metadata": {},
   "source": [
    "Which tags are in the top most used but not in the top most viewed?\n",
    "\n",
    "As we can see below, only 6 tags appear in one of the two series."
   ]
  },
  {
   "cell_type": "code",
   "execution_count": 40,
   "metadata": {},
   "outputs": [],
   "source": [
    "intersect_1 = pd.Series(merge_top_used.index).isin(pd.Series(merge_top_viewed.index))"
   ]
  },
  {
   "cell_type": "code",
   "execution_count": 41,
   "metadata": {},
   "outputs": [
    {
     "data": {
      "text/plain": [
       "16       predictive-modeling\n",
       "18                statistics\n",
       "19    machine-learning-model\n",
       "dtype: object"
      ]
     },
     "execution_count": 41,
     "metadata": {},
     "output_type": "execute_result"
    }
   ],
   "source": [
    "# `NOT IN` or `do not intersect` is given by `~` in the line below:\n",
    "pd.Series(merge_top_used.index)[~intersect_1] "
   ]
  },
  {
   "cell_type": "markdown",
   "metadata": {},
   "source": [
    "Which tags are in the top most viewed but not in the top most used?"
   ]
  },
  {
   "cell_type": "code",
   "execution_count": 42,
   "metadata": {},
   "outputs": [
    {
     "data": {
      "text/plain": [
       "16                 pytorch\n",
       "18                       r\n",
       "19    image-classification\n",
       "dtype: object"
      ]
     },
     "execution_count": 42,
     "metadata": {},
     "output_type": "execute_result"
    }
   ],
   "source": [
    "pd.Series(merge_top_viewed.index)[~intersect_1]"
   ]
  },
  {
   "cell_type": "markdown",
   "metadata": {},
   "source": [
    "#### 6.3. Create visualizations for the top tags of each of the above results."
   ]
  },
  {
   "cell_type": "markdown",
   "metadata": {},
   "source": [
    "#### Top 20 in most used (`merge_top_used`) "
   ]
  },
  {
   "cell_type": "code",
   "execution_count": 43,
   "metadata": {},
   "outputs": [
    {
     "data": {
      "text/plain": [
       "<matplotlib.axes._subplots.AxesSubplot at 0xab16d890>"
      ]
     },
     "execution_count": 43,
     "metadata": {},
     "output_type": "execute_result"
    },
    {
     "data": {
      "image/png": "[encoded data removed]",
      "text/plain": [
       "<Figure size 1440x720 with 1 Axes>"
      ]
     },
     "metadata": {
      "needs_background": "light"
     },
     "output_type": "display_data"
    }
   ],
   "source": [
    "merge_top_used.plot.bar(figsize=(20, 10),\n",
    "                        rot=90,\n",
    "                        fontsize=20,\n",
    "                        grid=1)\n",
    "\n"
   ]
  },
  {
   "cell_type": "markdown",
   "metadata": {},
   "source": [
    "#### Top 20 in most viewed (`merge_top_viewed`) "
   ]
  },
  {
   "cell_type": "code",
   "execution_count": 44,
   "metadata": {},
   "outputs": [
    {
     "data": {
      "text/plain": [
       "<matplotlib.axes._subplots.AxesSubplot at 0xab1f8370>"
      ]
     },
     "execution_count": 44,
     "metadata": {},
     "output_type": "execute_result"
    },
    {
     "data": {
      "image/png": "[encoded data removed]",
      "text/plain": [
       "<Figure size 1440x720 with 1 Axes>"
      ]
     },
     "metadata": {
      "needs_background": "light"
     },
     "output_type": "display_data"
    }
   ],
   "source": [
    "merge_top_viewed.plot.bar(figsize=(20, 10),\n",
    "                        rot=90,\n",
    "                        fontsize=20,\n",
    "                        grid=1)\n"
   ]
  },
  {
   "cell_type": "markdown",
   "metadata": {},
   "source": [
    "**Comment:** As we can see from the figures above both tops have an exponencial behaviour, where the top 7 tags are pratically the same in both tops. All other tags are at lower, similar level, wheere we ca see that the divergent tags - those that appear only at one of the series, are at the botton, e.g. in the `merge_top_viewed` series, `pytorch`, `r` and `image-classification` are at the bottom. "
   ]
  },
  {
   "cell_type": "markdown",
   "metadata": {},
   "source": [
    "## Task_7\n",
    "---\n",
    "### Preamble\n",
    "---\n",
    "Some tags also stand out as being related. For example, python is related to pandas, as we can find both pythons and pandas in the same country — or better yet, because pandas is a Python library. So by writing about pandas, we can actually simultaneously tackle two tags.\n",
    "\n",
    "Other pairs of tags, shouldn't be related at all, like pandas and r:"
   ]
  },
  {
   "cell_type": "code",
   "execution_count": 45,
   "metadata": {},
   "outputs": [
    {
     "data": {
      "text/html": [
       "<div>\n",
       "<style scoped>\n",
       "    .dataframe tbody tr th:only-of-type {\n",
       "        vertical-align: middle;\n",
       "    }\n",
       "\n",
       "    .dataframe tbody tr th {\n",
       "        vertical-align: top;\n",
       "    }\n",
       "\n",
       "    .dataframe thead th {\n",
       "        text-align: right;\n",
       "    }\n",
       "</style>\n",
       "<table border=\"1\" class=\"dataframe\">\n",
       "  <thead>\n",
       "    <tr style=\"text-align: right;\">\n",
       "      <th></th>\n",
       "      <th>Id</th>\n",
       "      <th>CreationDate</th>\n",
       "      <th>Score</th>\n",
       "      <th>ViewCount</th>\n",
       "      <th>Tags</th>\n",
       "      <th>AnswerCount</th>\n",
       "      <th>FavoriteCount</th>\n",
       "      <th>Tag_1</th>\n",
       "      <th>Tag_2</th>\n",
       "      <th>Tag_3</th>\n",
       "      <th>Tag_4</th>\n",
       "      <th>Tag_5</th>\n",
       "    </tr>\n",
       "  </thead>\n",
       "  <tbody>\n",
       "    <tr>\n",
       "      <th>2873</th>\n",
       "      <td>60074</td>\n",
       "      <td>2019-09-11 20:35:17</td>\n",
       "      <td>0</td>\n",
       "      <td>22</td>\n",
       "      <td>r, pandas, dplyr</td>\n",
       "      <td>0</td>\n",
       "      <td>0</td>\n",
       "      <td>r</td>\n",
       "      <td>pandas</td>\n",
       "      <td>dplyr</td>\n",
       "      <td>NaN</td>\n",
       "      <td>NaN</td>\n",
       "    </tr>\n",
       "    <tr>\n",
       "      <th>3651</th>\n",
       "      <td>49148</td>\n",
       "      <td>2019-04-11 19:41:39</td>\n",
       "      <td>1</td>\n",
       "      <td>83</td>\n",
       "      <td>r, data-mining, pandas, matlab, databases</td>\n",
       "      <td>3</td>\n",
       "      <td>0</td>\n",
       "      <td>r</td>\n",
       "      <td>data-mining</td>\n",
       "      <td>pandas</td>\n",
       "      <td>matlab</td>\n",
       "      <td>databases</td>\n",
       "    </tr>\n",
       "  </tbody>\n",
       "</table>\n",
       "</div>"
      ],
      "text/plain": [
       "         Id        CreationDate  Score  ViewCount  \\\n",
       "2873  60074 2019-09-11 20:35:17      0         22   \n",
       "3651  49148 2019-04-11 19:41:39      1         83   \n",
       "\n",
       "                                           Tags  AnswerCount  FavoriteCount  \\\n",
       "2873                           r, pandas, dplyr            0              0   \n",
       "3651  r, data-mining, pandas, matlab, databases            3              0   \n",
       "\n",
       "     Tag_1        Tag_2   Tag_3   Tag_4      Tag_5  \n",
       "2873     r       pandas   dplyr     NaN        NaN  \n",
       "3651     r  data-mining  pandas  matlab  databases  "
      ]
     },
     "execution_count": 45,
     "metadata": {},
     "output_type": "execute_result"
    }
   ],
   "source": [
    "df[df[\"Tags\"].apply(\n",
    "    lambda tags: True if re.match('r,.+pandas', string=tags) \n",
    "                 else False)]"
   ]
  },
  {
   "cell_type": "markdown",
   "metadata": {},
   "source": [
    "\\[Preamble - continuation\\]\n",
    "\n",
    "Just two results. You can look at these questions by replacing ID in https://datascience.stackexchange.com/questions/ID with the questions' Ids values and see what they are about.\n",
    "\n",
    "----\n",
    "\n",
    "The following query was passed onto the [data.stackexchange.com database](https://data.stackexchange.com/datascience/query/edit/1415602) and strange enough, it only retrieved one of the aforementioned rows above. The query is written correctly, because when changing the id number - 60074 by another, in the 'Where' clause, the query displays the two requested rows.\n",
    "\n",
    "        Select\n",
    "                  Id,\n",
    "                  Title\n",
    "                From Posts\n",
    "                Where (Id = 60074 OR Id = 49148);\n",
    "                \n",
    "Nonetheless, the output is:\n",
    "\n",
    "Id:49148\n",
    "\n",
    "\n",
    "Titile: Why are pandas/R/etc so common in a data scientist or analyst's workflow when one can resort to UDFs in an RDBMS?\n",
    "\n",
    "\n",
    "#### Instructions\n",
    "---\n",
    "The goal of this exercise is to make you think about technical solutions to determining how tags are related. We haven't covered any techniques to deal with this yet, so don't worry if nothing comes to mind.\n",
    "\n",
    "1. Brainstorm some ways in which you could find relationships between pair of tags.\n",
    "\n",
    "\n",
    "2. Brainstorm some ways in which you could find relationships between multiple tags.\n",
    "\n",
    "\n",
    "#### Brainstorm notes\n",
    "\n",
    "A way to treat the problem above is to aggregate the tags into a wider concept, and then unfold it by category like in the (incomplete example) given below:\n",
    "\n",
    "- Languages:\n",
    "\n",
    "    - Python\n",
    "        - packages\n",
    "            - scikit-learn (machine-learning)\n",
    "            - ...\n",
    "        - libraries\n",
    "            - pandas (panel data manipulation and analysis)\n",
    "            - tensorflow (machine-learning)\n",
    "        - API\n",
    "            - keras (deep-learning)\n",
    "    - R\n",
    "        - packages\n",
    "            - rsqlite (databases)\n",
    "        - libraries\n",
    "            - ggplot2 (data visualization)\n",
    "            - ...\n",
    "            \n",
    "- Environments and collection of environments\n",
    "    - jupyter\n",
    "    \n",
    "- Concepts\n",
    "    \n",
    "    - machine-learning\n",
    "    - deep-learning\n",
    "    - data visualization\n",
    "    - linear-regressions\n",
    "    - data-mining\n",
    "    - neural-networks\n",
    "    - ...\n",
    "\n",
    "As we see above, once we start to specify more and more, we find that for each package, library or API there is an underlying purpose that is propably related to an entry in 'Concepts', therefore, one way that tags could be organized is to couple a tool like tag, i.e. language (R or Python most likely) or a sub-category of a language as mentioned above (package, library, API, or other) with a concept within the realm of mathmatics, statistics, data base management, etc."
   ]
  },
  {
   "cell_type": "markdown",
   "metadata": {},
   "source": [
    "## Task_8\n",
    "---\n",
    "### Preamble\n",
    "---\n",
    "Although analytical solutions to the problem set forth in the previous screen exist, they aren't necessarily needed, nor the best way to go about solving the problem.\n",
    "\n",
    "[Domain knowledge](https://en.wikipedia.org/wiki/Domain_knowledge) can be very useful. Let's see how it can help us here.\n",
    "\n",
    "You may have noticed that the most used tags are also the most viewed. From the top 10 tags of each, here's a list of the tags in common: python, machine-learning, deep-learning, neural-network, keras, tensorflow, classification, scikit-learn.\n",
    "\n",
    "Do you know what each of these or most of these tags means? Could there be strong relations between them?\n",
    "\n",
    "#### Instructions\n",
    "---\n",
    "1. Take a look at the tags page on [DSSE](https://datascience.stackexchange.com/tags). Try to answer the questions above. Do additional research on the internet as needed.\n",
    "\n",
    "**Note:** the 'Brainstorm notes' above, give out the main idea of the concepts mentioned in this task's preamble."
   ]
  },
  {
   "cell_type": "markdown",
   "metadata": {},
   "source": [
    "## Task_9\n",
    "---\n",
    "### Preamble\n",
    "---\n",
    "Before we officially make our recommendation, it would be nice to solidify our findings with additional proof. More specifically, one thing that comes to mind is \"Is deep learning just a fad?\" Ideally, the content we decide to create will be the most useful for as long as possible. Could interest in deep learning be slowing down? Back to SEDE!\n",
    "\n",
    "The file `all_questions.csv` holds the result of the query below — this query fetches all of the questions ever asked on DSSE, their dates and tags.\n",
    "\n",
    "        SELECT Id, CreationDate, Tags\n",
    "\n",
    "          FROM posts\n",
    "\n",
    "         WHERE PostTypeId = 1;\n",
    "\n",
    "In this we will track the interest in deep learning across time. We will:\n",
    "\n",
    "- Count how many deep learning questions are asked per time period.\n",
    "\n",
    "\n",
    "- The total amount of questions per time period.\n",
    "\n",
    "\n",
    "- How many deep learning questions there are relative to the total amount of questions per time period.\n",
    "\n",
    "#### Instructions\n",
    "---\n",
    "1. Read the file all_questions.csv into a dataframe.\n",
    "\n",
    "\n",
    "2. Transform the tags column in a similar manner to what was previously done.\n",
    "\n",
    "\n",
    "3. Think about what questions should be classified as deep learning questions and then implement that definition.\n",
    "\n",
    "\n",
    "4. Decide on an adequate timeframe and track interest in deep learning across that timeframe:\n",
    "    - a. Count how many deep learning questions are asked per time period.\n",
    "    - b. The total amount of questions per time period.\n",
    "    - c. How many deep learning questions there are relative to the total amount of questions per time period;\n",
    "    \n",
    "    \n",
    "5. Write your observations and final recommendation in a markdown cell.\n",
    "\n"
   ]
  },
  {
   "cell_type": "markdown",
   "metadata": {},
   "source": [
    "#### Task 9.1\n",
    "\n",
    "Reading the data set:"
   ]
  },
  {
   "cell_type": "code",
   "execution_count": 46,
   "metadata": {},
   "outputs": [],
   "source": [
    "all_questions = pd.read_csv('all_questions.csv')"
   ]
  },
  {
   "cell_type": "code",
   "execution_count": 47,
   "metadata": {},
   "outputs": [
    {
     "data": {
      "text/html": [
       "<div>\n",
       "<style scoped>\n",
       "    .dataframe tbody tr th:only-of-type {\n",
       "        vertical-align: middle;\n",
       "    }\n",
       "\n",
       "    .dataframe tbody tr th {\n",
       "        vertical-align: top;\n",
       "    }\n",
       "\n",
       "    .dataframe thead th {\n",
       "        text-align: right;\n",
       "    }\n",
       "</style>\n",
       "<table border=\"1\" class=\"dataframe\">\n",
       "  <thead>\n",
       "    <tr style=\"text-align: right;\">\n",
       "      <th></th>\n",
       "      <th>Id</th>\n",
       "      <th>CreationDate</th>\n",
       "      <th>Tags</th>\n",
       "    </tr>\n",
       "  </thead>\n",
       "  <tbody>\n",
       "    <tr>\n",
       "      <th>0</th>\n",
       "      <td>52137</td>\n",
       "      <td>2019-05-17 21:54:15</td>\n",
       "      <td>&lt;python&gt;&lt;keras&gt;&lt;prediction&gt;&lt;evaluation&gt;</td>\n",
       "    </tr>\n",
       "    <tr>\n",
       "      <th>1</th>\n",
       "      <td>52142</td>\n",
       "      <td>2019-05-17 23:11:13</td>\n",
       "      <td>&lt;deep-learning&gt;&lt;overfitting&gt;&lt;regularization&gt;</td>\n",
       "    </tr>\n",
       "  </tbody>\n",
       "</table>\n",
       "</div>"
      ],
      "text/plain": [
       "      Id         CreationDate                                          Tags\n",
       "0  52137  2019-05-17 21:54:15       <python><keras><prediction><evaluation>\n",
       "1  52142  2019-05-17 23:11:13  <deep-learning><overfitting><regularization>"
      ]
     },
     "execution_count": 47,
     "metadata": {},
     "output_type": "execute_result"
    }
   ],
   "source": [
    "all_questions.head(2)"
   ]
  },
  {
   "cell_type": "markdown",
   "metadata": {},
   "source": [
    "#### Task 9.2\n",
    "\n",
    "Making the same procedures as in [Task 4](#Task_4) in order to clean the `Tags` column."
   ]
  },
  {
   "cell_type": "code",
   "execution_count": 48,
   "metadata": {},
   "outputs": [],
   "source": [
    "split_tags_2 = all_questions['Tags'].str.split(pat=\"><\", expand=True)\n",
    "\n",
    "split_tags_2 = split_tags_2.rename({0:'Tag_1', 1:'Tag_2', 2:'Tag_3', 3:'Tag_4', 4:'Tag_5'}, axis=1)\n",
    "\n",
    "split_tags_2 = split_tags_2.apply(lambda x: x.str.replace('(?:<|>)', ''))\n",
    "\n",
    "split_tags_2 = split_tags_2.fillna(value=np.nan)\n",
    "\n",
    "# changing the original `Tags` column just to make it \n",
    "# tidy before closing the cleaning\n",
    "all_questions['Tags'] = all_questions['Tags'].str.replace(\"><\", ', ')\n",
    "all_questions['Tags'] = all_questions['Tags'].str.replace('(?:<|>)', '')"
   ]
  },
  {
   "cell_type": "code",
   "execution_count": 49,
   "metadata": {},
   "outputs": [],
   "source": [
    "all_questions[split_tags_2.columns] = split_tags_2"
   ]
  },
  {
   "cell_type": "markdown",
   "metadata": {},
   "source": [
    "Checking changes:"
   ]
  },
  {
   "cell_type": "code",
   "execution_count": 50,
   "metadata": {},
   "outputs": [
    {
     "data": {
      "text/html": [
       "<div>\n",
       "<style scoped>\n",
       "    .dataframe tbody tr th:only-of-type {\n",
       "        vertical-align: middle;\n",
       "    }\n",
       "\n",
       "    .dataframe tbody tr th {\n",
       "        vertical-align: top;\n",
       "    }\n",
       "\n",
       "    .dataframe thead th {\n",
       "        text-align: right;\n",
       "    }\n",
       "</style>\n",
       "<table border=\"1\" class=\"dataframe\">\n",
       "  <thead>\n",
       "    <tr style=\"text-align: right;\">\n",
       "      <th></th>\n",
       "      <th>Id</th>\n",
       "      <th>CreationDate</th>\n",
       "      <th>Tags</th>\n",
       "      <th>Tag_1</th>\n",
       "      <th>Tag_2</th>\n",
       "      <th>Tag_3</th>\n",
       "      <th>Tag_4</th>\n",
       "      <th>Tag_5</th>\n",
       "    </tr>\n",
       "  </thead>\n",
       "  <tbody>\n",
       "    <tr>\n",
       "      <th>0</th>\n",
       "      <td>52137</td>\n",
       "      <td>2019-05-17 21:54:15</td>\n",
       "      <td>python, keras, prediction, evaluation</td>\n",
       "      <td>python</td>\n",
       "      <td>keras</td>\n",
       "      <td>prediction</td>\n",
       "      <td>evaluation</td>\n",
       "      <td>NaN</td>\n",
       "    </tr>\n",
       "    <tr>\n",
       "      <th>1</th>\n",
       "      <td>52142</td>\n",
       "      <td>2019-05-17 23:11:13</td>\n",
       "      <td>deep-learning, overfitting, regularization</td>\n",
       "      <td>deep-learning</td>\n",
       "      <td>overfitting</td>\n",
       "      <td>regularization</td>\n",
       "      <td>NaN</td>\n",
       "      <td>NaN</td>\n",
       "    </tr>\n",
       "  </tbody>\n",
       "</table>\n",
       "</div>"
      ],
      "text/plain": [
       "      Id         CreationDate                                        Tags  \\\n",
       "0  52137  2019-05-17 21:54:15       python, keras, prediction, evaluation   \n",
       "1  52142  2019-05-17 23:11:13  deep-learning, overfitting, regularization   \n",
       "\n",
       "           Tag_1        Tag_2           Tag_3       Tag_4 Tag_5  \n",
       "0         python        keras      prediction  evaluation   NaN  \n",
       "1  deep-learning  overfitting  regularization         NaN   NaN  "
      ]
     },
     "execution_count": 50,
     "metadata": {},
     "output_type": "execute_result"
    }
   ],
   "source": [
    "all_questions.head(2)"
   ]
  },
  {
   "cell_type": "markdown",
   "metadata": {},
   "source": [
    "#### Task_9.3 \n",
    "\n",
    "The DSSE site provides descrpitions on the every tag used. `deep-learning` has the [following description](https://datascience.stackexchange.com/tags/deep-learning/info):\n",
    "\n",
    "'a new area of Machine Learning research concerned with the technologies used for learning hierarchical representations of data, mainly done with deep neural networks (i.e. networks with two or more hidden layers), but also with some sort of Probabilistic Graphical Models.'\n",
    "\n",
    "DSSE also provides a page with tag synonyms to each tag. In the case of 'deep-learning' we can [find out](https://datascience.stackexchange.com/tags/deep-learning/synonyms) that the concept is also referred as 'deep-network'.\n",
    "\n",
    "To ease further procedures that evolve working information related to `deep-learning`, is can be best to replace all the mentions of 'deep-network' by the former expression."
   ]
  },
  {
   "cell_type": "code",
   "execution_count": 51,
   "metadata": {},
   "outputs": [],
   "source": [
    "all_questions.iloc[:, 2:-1] = all_questions.iloc[:, 2:-1].apply(lambda x: x.str.replace('deep-network', 'deep-learning'))"
   ]
  },
  {
   "cell_type": "markdown",
   "metadata": {},
   "source": [
    "Changing the format of `CreationDate` to DateTime and leaving only year and month:"
   ]
  },
  {
   "cell_type": "code",
   "execution_count": 52,
   "metadata": {},
   "outputs": [],
   "source": [
    "all_questions.loc[:, 'CreationDate'] = pd.to_datetime(arg=all_questions.loc[:, 'CreationDate']).dt.strftime('%Y-%m')"
   ]
  },
  {
   "cell_type": "markdown",
   "metadata": {},
   "source": [
    "#### Task 9.4\n",
    "\n",
    "Since the number of observations in the data set is lenghty, going back as much as 2014, one can try to condense them into a broader timeframe, so that we can have all the years represented into a time series without having to many observations. Therefore, `CreationDate` be transformed into a quarterly time series.\n",
    "\n",
    "**New content:** in order to present a time series, `CreationDate` will be used to produced another date series that encapsulates the values of the former series into quarterly data, using [pd.PeriodIndex()](https://stackoverflow.com/questions/50459301/how-to-convert-dates-to-quarters-in-python#50459364)."
   ]
  },
  {
   "cell_type": "code",
   "execution_count": 53,
   "metadata": {},
   "outputs": [
    {
     "data": {
      "text/plain": [
       "0    2019-05\n",
       "1    2019-05\n",
       "2    2019-05\n",
       "3    2019-05\n",
       "Name: CreationDate, dtype: object"
      ]
     },
     "execution_count": 53,
     "metadata": {},
     "output_type": "execute_result"
    }
   ],
   "source": [
    "all_questions.loc[:3, 'CreationDate']"
   ]
  },
  {
   "cell_type": "code",
   "execution_count": 54,
   "metadata": {},
   "outputs": [],
   "source": [
    "all_questions['quarterly_data'] = pd.PeriodIndex(all_questions.loc[:, 'CreationDate'], freq='Q')"
   ]
  },
  {
   "cell_type": "code",
   "execution_count": 55,
   "metadata": {},
   "outputs": [],
   "source": [
    "all_questions = all_questions.sort_values('quarterly_data')"
   ]
  },
  {
   "cell_type": "code",
   "execution_count": 56,
   "metadata": {},
   "outputs": [],
   "source": [
    "all_questions = all_questions.reset_index(drop=True)"
   ]
  },
  {
   "cell_type": "markdown",
   "metadata": {},
   "source": [
    "Checking if the changes were made:"
   ]
  },
  {
   "cell_type": "code",
   "execution_count": 57,
   "metadata": {},
   "outputs": [
    {
     "data": {
      "text/plain": [
       "0   2014Q2\n",
       "1   2014Q2\n",
       "2   2014Q2\n",
       "3   2014Q2\n",
       "4   2014Q2\n",
       "Name: quarterly_data, dtype: object"
      ]
     },
     "execution_count": 57,
     "metadata": {},
     "output_type": "execute_result"
    }
   ],
   "source": [
    "all_questions['quarterly_data'].head()"
   ]
  },
  {
   "cell_type": "markdown",
   "metadata": {},
   "source": [
    "**Task 9.4.a**\n",
    "\n",
    "In order to count the rows associated to 'deep-learning' one can drop all the rows without it and then simply sum the rows by the unique values in quarterly data."
   ]
  },
  {
   "cell_type": "code",
   "execution_count": 58,
   "metadata": {},
   "outputs": [],
   "source": [
    "condition_dl = all_questions['Tags'].str.contains('deep-learning')"
   ]
  },
  {
   "cell_type": "code",
   "execution_count": 59,
   "metadata": {},
   "outputs": [],
   "source": [
    "only_dl = all_questions[condition_dl]"
   ]
  },
  {
   "cell_type": "markdown",
   "metadata": {},
   "source": [
    "Using grouby().size() one can count the number of rows associated with each one of the unique values in `quarterly_data`."
   ]
  },
  {
   "cell_type": "code",
   "execution_count": 60,
   "metadata": {},
   "outputs": [],
   "source": [
    "group_quarterly = only_dl.groupby(by='quarterly_data').size()"
   ]
  },
  {
   "cell_type": "code",
   "execution_count": 61,
   "metadata": {},
   "outputs": [
    {
     "data": {
      "text/plain": [
       "quarterly_data\n",
       "2014Q2      1\n",
       "2014Q3      1\n",
       "2014Q4      6\n",
       "2015Q1      3\n",
       "2015Q2      7\n",
       "2015Q3      8\n",
       "2015Q4     12\n",
       "2016Q1     27\n",
       "2016Q2     36\n",
       "2016Q3     47\n",
       "2016Q4     48\n",
       "2017Q1     95\n",
       "2017Q2     70\n",
       "2017Q3    104\n",
       "2017Q4    152\n",
       "2018Q1    217\n",
       "2018Q2    238\n",
       "2018Q3    269\n",
       "2018Q4    176\n",
       "2019Q1    224\n",
       "2019Q2    236\n",
       "2019Q3    236\n",
       "2019Q4    200\n",
       "2020Q1    231\n",
       "2020Q2    249\n",
       "2020Q3    273\n",
       "2020Q4    230\n",
       "2021Q1    254\n",
       "2021Q2    224\n",
       "Freq: Q-DEC, dtype: int64"
      ]
     },
     "execution_count": 61,
     "metadata": {},
     "output_type": "execute_result"
    }
   ],
   "source": [
    "group_quarterly\n"
   ]
  },
  {
   "cell_type": "markdown",
   "metadata": {},
   "source": [
    "**Task 9.4.b**\n",
    "\n",
    "The total amount of questions per time period.\n",
    "\n",
    "**Comment:** `quarterly_combined` aggregates in one dataframe, both the total number of questions by quarter - `all_questions` and also the questions per quarter, associated with the tag `deep-learning` in `deep_learning_only`. "
   ]
  },
  {
   "cell_type": "code",
   "execution_count": 62,
   "metadata": {},
   "outputs": [],
   "source": [
    "group_quarterly_all = all_questions.groupby(by='quarterly_data').size()\n",
    "\n",
    "quarterly_combined = pd.DataFrame({'all_questions':group_quarterly_all, 'deep_learning_only':group_quarterly})"
   ]
  },
  {
   "cell_type": "code",
   "execution_count": 63,
   "metadata": {},
   "outputs": [
    {
     "data": {
      "text/html": [
       "<div>\n",
       "<style scoped>\n",
       "    .dataframe tbody tr th:only-of-type {\n",
       "        vertical-align: middle;\n",
       "    }\n",
       "\n",
       "    .dataframe tbody tr th {\n",
       "        vertical-align: top;\n",
       "    }\n",
       "\n",
       "    .dataframe thead th {\n",
       "        text-align: right;\n",
       "    }\n",
       "</style>\n",
       "<table border=\"1\" class=\"dataframe\">\n",
       "  <thead>\n",
       "    <tr style=\"text-align: right;\">\n",
       "      <th></th>\n",
       "      <th>all_questions</th>\n",
       "      <th>deep_learning_only</th>\n",
       "    </tr>\n",
       "    <tr>\n",
       "      <th>quarterly_data</th>\n",
       "      <th></th>\n",
       "      <th></th>\n",
       "    </tr>\n",
       "  </thead>\n",
       "  <tbody>\n",
       "    <tr>\n",
       "      <th>2014Q2</th>\n",
       "      <td>157</td>\n",
       "      <td>1</td>\n",
       "    </tr>\n",
       "    <tr>\n",
       "      <th>2014Q3</th>\n",
       "      <td>188</td>\n",
       "      <td>1</td>\n",
       "    </tr>\n",
       "    <tr>\n",
       "      <th>2014Q4</th>\n",
       "      <td>214</td>\n",
       "      <td>6</td>\n",
       "    </tr>\n",
       "    <tr>\n",
       "      <th>2015Q1</th>\n",
       "      <td>188</td>\n",
       "      <td>3</td>\n",
       "    </tr>\n",
       "    <tr>\n",
       "      <th>2015Q2</th>\n",
       "      <td>284</td>\n",
       "      <td>7</td>\n",
       "    </tr>\n",
       "  </tbody>\n",
       "</table>\n",
       "</div>"
      ],
      "text/plain": [
       "                all_questions  deep_learning_only\n",
       "quarterly_data                                   \n",
       "2014Q2                    157                   1\n",
       "2014Q3                    188                   1\n",
       "2014Q4                    214                   6\n",
       "2015Q1                    188                   3\n",
       "2015Q2                    284                   7"
      ]
     },
     "execution_count": 63,
     "metadata": {},
     "output_type": "execute_result"
    }
   ],
   "source": [
    "quarterly_combined.head()"
   ]
  },
  {
   "cell_type": "markdown",
   "metadata": {},
   "source": [
    "**Task 9.4.c**\n",
    "\n",
    "How many deep learning questions there are relative to the total amount of questions per time period;"
   ]
  },
  {
   "cell_type": "code",
   "execution_count": 64,
   "metadata": {},
   "outputs": [],
   "source": [
    "quarterly_combined['deep-learning_%'] = quarterly_combined['deep_learning_only']/quarterly_combined['all_questions']*100\n",
    "\n",
    "quarterly_combined['deep-learning_%'] = quarterly_combined['deep-learning_%'].round(2)"
   ]
  },
  {
   "cell_type": "code",
   "execution_count": 65,
   "metadata": {},
   "outputs": [
    {
     "data": {
      "text/html": [
       "<div>\n",
       "<style scoped>\n",
       "    .dataframe tbody tr th:only-of-type {\n",
       "        vertical-align: middle;\n",
       "    }\n",
       "\n",
       "    .dataframe tbody tr th {\n",
       "        vertical-align: top;\n",
       "    }\n",
       "\n",
       "    .dataframe thead th {\n",
       "        text-align: right;\n",
       "    }\n",
       "</style>\n",
       "<table border=\"1\" class=\"dataframe\">\n",
       "  <thead>\n",
       "    <tr style=\"text-align: right;\">\n",
       "      <th></th>\n",
       "      <th>all_questions</th>\n",
       "      <th>deep_learning_only</th>\n",
       "      <th>deep-learning_%</th>\n",
       "    </tr>\n",
       "    <tr>\n",
       "      <th>quarterly_data</th>\n",
       "      <th></th>\n",
       "      <th></th>\n",
       "      <th></th>\n",
       "    </tr>\n",
       "  </thead>\n",
       "  <tbody>\n",
       "    <tr>\n",
       "      <th>2014Q2</th>\n",
       "      <td>157</td>\n",
       "      <td>1</td>\n",
       "      <td>0.64</td>\n",
       "    </tr>\n",
       "    <tr>\n",
       "      <th>2014Q3</th>\n",
       "      <td>188</td>\n",
       "      <td>1</td>\n",
       "      <td>0.53</td>\n",
       "    </tr>\n",
       "    <tr>\n",
       "      <th>2014Q4</th>\n",
       "      <td>214</td>\n",
       "      <td>6</td>\n",
       "      <td>2.80</td>\n",
       "    </tr>\n",
       "    <tr>\n",
       "      <th>2015Q1</th>\n",
       "      <td>188</td>\n",
       "      <td>3</td>\n",
       "      <td>1.60</td>\n",
       "    </tr>\n",
       "    <tr>\n",
       "      <th>2015Q2</th>\n",
       "      <td>284</td>\n",
       "      <td>7</td>\n",
       "      <td>2.46</td>\n",
       "    </tr>\n",
       "    <tr>\n",
       "      <th>2015Q3</th>\n",
       "      <td>310</td>\n",
       "      <td>8</td>\n",
       "      <td>2.58</td>\n",
       "    </tr>\n",
       "    <tr>\n",
       "      <th>2015Q4</th>\n",
       "      <td>379</td>\n",
       "      <td>12</td>\n",
       "      <td>3.17</td>\n",
       "    </tr>\n",
       "    <tr>\n",
       "      <th>2016Q1</th>\n",
       "      <td>511</td>\n",
       "      <td>27</td>\n",
       "      <td>5.28</td>\n",
       "    </tr>\n",
       "    <tr>\n",
       "      <th>2016Q2</th>\n",
       "      <td>511</td>\n",
       "      <td>36</td>\n",
       "      <td>7.05</td>\n",
       "    </tr>\n",
       "    <tr>\n",
       "      <th>2016Q3</th>\n",
       "      <td>575</td>\n",
       "      <td>47</td>\n",
       "      <td>8.17</td>\n",
       "    </tr>\n",
       "    <tr>\n",
       "      <th>2016Q4</th>\n",
       "      <td>519</td>\n",
       "      <td>48</td>\n",
       "      <td>9.25</td>\n",
       "    </tr>\n",
       "    <tr>\n",
       "      <th>2017Q1</th>\n",
       "      <td>690</td>\n",
       "      <td>95</td>\n",
       "      <td>13.77</td>\n",
       "    </tr>\n",
       "    <tr>\n",
       "      <th>2017Q2</th>\n",
       "      <td>633</td>\n",
       "      <td>70</td>\n",
       "      <td>11.06</td>\n",
       "    </tr>\n",
       "    <tr>\n",
       "      <th>2017Q3</th>\n",
       "      <td>707</td>\n",
       "      <td>104</td>\n",
       "      <td>14.71</td>\n",
       "    </tr>\n",
       "    <tr>\n",
       "      <th>2017Q4</th>\n",
       "      <td>888</td>\n",
       "      <td>152</td>\n",
       "      <td>17.12</td>\n",
       "    </tr>\n",
       "    <tr>\n",
       "      <th>2018Q1</th>\n",
       "      <td>1200</td>\n",
       "      <td>217</td>\n",
       "      <td>18.08</td>\n",
       "    </tr>\n",
       "    <tr>\n",
       "      <th>2018Q2</th>\n",
       "      <td>1424</td>\n",
       "      <td>238</td>\n",
       "      <td>16.71</td>\n",
       "    </tr>\n",
       "    <tr>\n",
       "      <th>2018Q3</th>\n",
       "      <td>1461</td>\n",
       "      <td>269</td>\n",
       "      <td>18.41</td>\n",
       "    </tr>\n",
       "    <tr>\n",
       "      <th>2018Q4</th>\n",
       "      <td>1268</td>\n",
       "      <td>176</td>\n",
       "      <td>13.88</td>\n",
       "    </tr>\n",
       "    <tr>\n",
       "      <th>2019Q1</th>\n",
       "      <td>1734</td>\n",
       "      <td>224</td>\n",
       "      <td>12.92</td>\n",
       "    </tr>\n",
       "    <tr>\n",
       "      <th>2019Q2</th>\n",
       "      <td>1792</td>\n",
       "      <td>236</td>\n",
       "      <td>13.17</td>\n",
       "    </tr>\n",
       "    <tr>\n",
       "      <th>2019Q3</th>\n",
       "      <td>1744</td>\n",
       "      <td>236</td>\n",
       "      <td>13.53</td>\n",
       "    </tr>\n",
       "    <tr>\n",
       "      <th>2019Q4</th>\n",
       "      <td>1505</td>\n",
       "      <td>200</td>\n",
       "      <td>13.29</td>\n",
       "    </tr>\n",
       "    <tr>\n",
       "      <th>2020Q1</th>\n",
       "      <td>1782</td>\n",
       "      <td>231</td>\n",
       "      <td>12.96</td>\n",
       "    </tr>\n",
       "    <tr>\n",
       "      <th>2020Q2</th>\n",
       "      <td>1851</td>\n",
       "      <td>249</td>\n",
       "      <td>13.45</td>\n",
       "    </tr>\n",
       "    <tr>\n",
       "      <th>2020Q3</th>\n",
       "      <td>1753</td>\n",
       "      <td>273</td>\n",
       "      <td>15.57</td>\n",
       "    </tr>\n",
       "    <tr>\n",
       "      <th>2020Q4</th>\n",
       "      <td>1535</td>\n",
       "      <td>230</td>\n",
       "      <td>14.98</td>\n",
       "    </tr>\n",
       "    <tr>\n",
       "      <th>2021Q1</th>\n",
       "      <td>1804</td>\n",
       "      <td>254</td>\n",
       "      <td>14.08</td>\n",
       "    </tr>\n",
       "    <tr>\n",
       "      <th>2021Q2</th>\n",
       "      <td>1343</td>\n",
       "      <td>224</td>\n",
       "      <td>16.68</td>\n",
       "    </tr>\n",
       "  </tbody>\n",
       "</table>\n",
       "</div>"
      ],
      "text/plain": [
       "                all_questions  deep_learning_only  deep-learning_%\n",
       "quarterly_data                                                    \n",
       "2014Q2                    157                   1             0.64\n",
       "2014Q3                    188                   1             0.53\n",
       "2014Q4                    214                   6             2.80\n",
       "2015Q1                    188                   3             1.60\n",
       "2015Q2                    284                   7             2.46\n",
       "2015Q3                    310                   8             2.58\n",
       "2015Q4                    379                  12             3.17\n",
       "2016Q1                    511                  27             5.28\n",
       "2016Q2                    511                  36             7.05\n",
       "2016Q3                    575                  47             8.17\n",
       "2016Q4                    519                  48             9.25\n",
       "2017Q1                    690                  95            13.77\n",
       "2017Q2                    633                  70            11.06\n",
       "2017Q3                    707                 104            14.71\n",
       "2017Q4                    888                 152            17.12\n",
       "2018Q1                   1200                 217            18.08\n",
       "2018Q2                   1424                 238            16.71\n",
       "2018Q3                   1461                 269            18.41\n",
       "2018Q4                   1268                 176            13.88\n",
       "2019Q1                   1734                 224            12.92\n",
       "2019Q2                   1792                 236            13.17\n",
       "2019Q3                   1744                 236            13.53\n",
       "2019Q4                   1505                 200            13.29\n",
       "2020Q1                   1782                 231            12.96\n",
       "2020Q2                   1851                 249            13.45\n",
       "2020Q3                   1753                 273            15.57\n",
       "2020Q4                   1535                 230            14.98\n",
       "2021Q1                   1804                 254            14.08\n",
       "2021Q2                   1343                 224            16.68"
      ]
     },
     "execution_count": 65,
     "metadata": {},
     "output_type": "execute_result"
    }
   ],
   "source": [
    "quarterly_combined"
   ]
  },
  {
   "cell_type": "markdown",
   "metadata": {},
   "source": [
    "**Comment:** in order to have a good reference to compare the evolution of the community's interest by the topic 'deep-learning', we visually compare it in the same analogous terms with the topic/tag 'machine-learning', he most popular tags according to 'most used' and 'most viewed' criteria."
   ]
  },
  {
   "cell_type": "code",
   "execution_count": 66,
   "metadata": {},
   "outputs": [],
   "source": [
    "condition_ml = all_questions['Tags'].str.contains('machine-learning')\n",
    "\n",
    "only_ml = all_questions[condition_ml]\n",
    "\n",
    "\n",
    "group_quarterly_ml = only_ml.groupby(by='quarterly_data').size()\n",
    "\n",
    "quarterly_combined = quarterly_combined.merge(right=pd.DataFrame({'machine_learning_only':group_quarterly_ml}),\n",
    "                                              how='left',\n",
    "                                              left_index=True,\n",
    "                                              right_index=True)\n"
   ]
  },
  {
   "cell_type": "code",
   "execution_count": 67,
   "metadata": {},
   "outputs": [
    {
     "data": {
      "text/html": [
       "<div>\n",
       "<style scoped>\n",
       "    .dataframe tbody tr th:only-of-type {\n",
       "        vertical-align: middle;\n",
       "    }\n",
       "\n",
       "    .dataframe tbody tr th {\n",
       "        vertical-align: top;\n",
       "    }\n",
       "\n",
       "    .dataframe thead th {\n",
       "        text-align: right;\n",
       "    }\n",
       "</style>\n",
       "<table border=\"1\" class=\"dataframe\">\n",
       "  <thead>\n",
       "    <tr style=\"text-align: right;\">\n",
       "      <th></th>\n",
       "      <th>all_questions</th>\n",
       "      <th>deep_learning_only</th>\n",
       "      <th>deep-learning_%</th>\n",
       "      <th>machine_learning_only</th>\n",
       "    </tr>\n",
       "    <tr>\n",
       "      <th>quarterly_data</th>\n",
       "      <th></th>\n",
       "      <th></th>\n",
       "      <th></th>\n",
       "      <th></th>\n",
       "    </tr>\n",
       "  </thead>\n",
       "  <tbody>\n",
       "    <tr>\n",
       "      <th>2014Q2</th>\n",
       "      <td>157</td>\n",
       "      <td>1</td>\n",
       "      <td>0.64</td>\n",
       "      <td>41</td>\n",
       "    </tr>\n",
       "    <tr>\n",
       "      <th>2014Q3</th>\n",
       "      <td>188</td>\n",
       "      <td>1</td>\n",
       "      <td>0.53</td>\n",
       "      <td>61</td>\n",
       "    </tr>\n",
       "    <tr>\n",
       "      <th>2014Q4</th>\n",
       "      <td>214</td>\n",
       "      <td>6</td>\n",
       "      <td>2.80</td>\n",
       "      <td>69</td>\n",
       "    </tr>\n",
       "    <tr>\n",
       "      <th>2015Q1</th>\n",
       "      <td>188</td>\n",
       "      <td>3</td>\n",
       "      <td>1.60</td>\n",
       "      <td>65</td>\n",
       "    </tr>\n",
       "    <tr>\n",
       "      <th>2015Q2</th>\n",
       "      <td>284</td>\n",
       "      <td>7</td>\n",
       "      <td>2.46</td>\n",
       "      <td>97</td>\n",
       "    </tr>\n",
       "  </tbody>\n",
       "</table>\n",
       "</div>"
      ],
      "text/plain": [
       "                all_questions  deep_learning_only  deep-learning_%  \\\n",
       "quarterly_data                                                       \n",
       "2014Q2                    157                   1             0.64   \n",
       "2014Q3                    188                   1             0.53   \n",
       "2014Q4                    214                   6             2.80   \n",
       "2015Q1                    188                   3             1.60   \n",
       "2015Q2                    284                   7             2.46   \n",
       "\n",
       "                machine_learning_only  \n",
       "quarterly_data                         \n",
       "2014Q2                             41  \n",
       "2014Q3                             61  \n",
       "2014Q4                             69  \n",
       "2015Q1                             65  \n",
       "2015Q2                             97  "
      ]
     },
     "execution_count": 67,
     "metadata": {},
     "output_type": "execute_result"
    }
   ],
   "source": [
    "quarterly_combined.head()"
   ]
  },
  {
   "cell_type": "code",
   "execution_count": 68,
   "metadata": {},
   "outputs": [
    {
     "data": {
      "text/plain": [
       "<matplotlib.axes._subplots.AxesSubplot at 0xa9fc9ed0>"
      ]
     },
     "execution_count": 68,
     "metadata": {},
     "output_type": "execute_result"
    },
    {
     "data": {
      "image/png": "[encoded data removed]",
      "text/plain": [
       "<Figure size 576x432 with 1 Axes>"
      ]
     },
     "metadata": {
      "needs_background": "light"
     },
     "output_type": "display_data"
    }
   ],
   "source": [
    "fig1, ax1 = plt.subplots(figsize=(8,6))\n",
    "\n",
    "\n",
    "plt.xticks(rotation = 25)\n",
    "\n",
    "ax1.set_ylabel('nr. of questions',\n",
    "               rotation=0,\n",
    "               horizontalalignment='right')\n",
    "\n",
    "ax1.set_title('Evolution of Answers Associated to Deep-leaning Only and to Machine-Learning Only',\n",
    "              y=1.05)\n",
    "\n",
    "quarterly_combined['deep_learning_only'].plot(ax=ax1,\n",
    "                                              legend=True)\n",
    "\n",
    "quarterly_combined['machine_learning_only'].plot(ax=ax1,\n",
    "                                                 legend=True)\n",
    "\n",
    "quarterly_combined['all_questions'].plot(ax=ax1,\n",
    "                                     legend=True)\n",
    "\n"
   ]
  },
  {
   "cell_type": "markdown",
   "metadata": {},
   "source": [
    "**Comment:** as we can see in the time series figure above, the x axis spans over the entire time period of the `CreationDate` column in the main dataframe `all_questions`, but in quarterly data, where each tick represents one quarter of a give year. **The similarity in the behaviour of both tags, shows that it is likely that they are correlated, and that it could be wiser to know if it is possible to treat them as just one aggregated concept**. As we can see, the main difference between the two tags is the order of magnitude; in terms of behaviour both tags experiment an increase in popularity from 2014 mid 2018 aproximately; plateauing until 2020, and after that, visibily decreasing. \n",
    "\n",
    "One thing to say about the use of tags as a proxy of what content is popular, is that they are ineherently correlated with the DSSE's popularity as a platform. As we can observe, this site underperforms in terms of popularity, when comparing with the other Stack Exchange branches, which may be cannibalizing users and content from DSSE. Sure enough, when adding to the graph all the posts in a given quarter, we observe that there are a few valleys from 2019 to 2021, which may indicate a loss of interest in the platform. The fact that in both 'deep-learning' and 'machine-learning' those valleys are smoother than in the 'all_questions', indicates that the interest of these topics is robust even when the overall number of posts decreases, therefore, one can believe that this kind of content is a viable bet for a new platform that wants to promote data cscience content."
   ]
  },
  {
   "cell_type": "markdown",
   "metadata": {},
   "source": [
    "## End of project\n",
    "---\n",
    "### Considerations from the tutorial for further exploration:\n",
    "\n",
    "Our work allowed us to conclude that deep learning is the most popular topic right now. Here are some things to consider:\n",
    "\n",
    "- What other content can we recommend that isn't as popular? You can try using association rules to find strong relations between tags.\n",
    "\n",
    "\n",
    "- What other popularity features could we include in our analysis? Perhaps scores and favourite counts?\n",
    "\n",
    "\n",
    "- We focused on DSSE. How could we use other related sites to help us with our goal?\n",
    "\n",
    "\n",
    "- How can we leverage other sites to determine what non-data-science content to write about? For example, is there some mathematical field that leads to more questions than others?\n"
   ]
  },
  {
   "cell_type": "markdown",
   "metadata": {},
   "source": [
    "## Extra-content \n",
    "\n",
    "### Discussion and comparison with Dataquest solutions\n",
    "\n",
    "Because these guided projects allow for a ceratin level of freedom when tackling the tasks at hand, it is only natural that the way their tasks are interepreted and what processes are used to reach the goals imposed by them, may diverge. Therefore, when reaching the end of the project, it is more rational for me to approach the revision of my answers, comparing them to the proposed solution, by changing them completly if they miss the point, but otherwise, if they diverge slightly and justifiably, commenting in this section what can be learned from the comparison of the two approaches."
   ]
  },
  {
   "cell_type": "markdown",
   "metadata": {},
   "source": [
    "**On Task 1.2** \n",
    "\n",
    "The question was: \n",
    "\n",
    "- 'What, other than questions, does the site's home subdivide into?'\n",
    "\n",
    "My understanding of what were the subdivisions of the site's [home](https://datascience.stackexchange.com/questions) were different from the on in the solutions. I interpreted subdivisions by the different sections of this website, which are organized with different purposes, being the main sections, the center column of the page dedicated to questions, and also the left, right, upper and bottom sections of the page, which also can be seen as subdivisions with broad but still confined purposes. \n",
    "\n",
    "In the solutions, the interpretation is that the first group of links presented in the left panel under the category 'Public', is what constitutes the subdivisions; ignoring the fact that below there are other goups such as 'FIND A JOB' and 'TEAMS' which are organized in the same manner as the 'Public' group of links."
   ]
  },
  {
   "cell_type": "markdown",
   "metadata": {},
   "source": [
    "**On Task 3.1**\n",
    "\n",
    "'Run a query against the SEDE DSSE database that extracts the columns listed above for all the questions in 2019.'\n",
    "\n",
    "Just for comparison sake, of different methods to retrieve the same info; being the interesting part, how to retrieve the 2019 data:\n",
    "\n",
    "My version:\n",
    "\n",
    "    SELECT \n",
    "          Id,\n",
    "          PostTypeId,\n",
    "          CreationDate,\n",
    "          Score,\n",
    "          ViewCount,\n",
    "          Tags,\n",
    "          AnswerCount,\n",
    "          FavoriteCount\n",
    "      From Posts\n",
    "      WHERE (CreationDate >= '2019-01-01 00:00:00')\n",
    "      AND (CreationDate < '2020-01-01 00:00:00')\n",
    "      \n",
    "Solution version:\n",
    "\n",
    "    SELECT \n",
    "            Id,\n",
    "            CreationDate,\n",
    "            Score,\n",
    "            ViewCount,\n",
    "            Tags,\n",
    "            AnswerCount,\n",
    "            FavoriteCount\n",
    "        FROM posts\n",
    "     WHERE PostTypeId = 1 AND YEAR(CreationDate) = 2019;"
   ]
  },
  {
   "cell_type": "markdown",
   "metadata": {},
   "source": [
    "**On Task 5.3**\n",
    "\n",
    "'Clean the Tags column and assign it back to itself.'\n",
    "\n",
    "The solution provides an interesting approach, instead of splitting the column `Tags` into several columns, it transforms each cell into a list of tags, which can be worked on, in order to arrive at the same outputs as my approach.\n",
    "\n",
    "As we can see in the solution's line, the difference was not to expand in str.split() (omitted: expand=False):\n",
    "\n",
    "    questions[\"Tags\"] = questions[\"Tags\"].str.replace(\"^<|>$\",\"\").str.split(\"><\")\n",
    "\n",
    "\n",
    "**Important note:**  \n",
    "When converting each value in `Tags` into a list it is important to notice that each tag within thoses lists must be a string instead of having all the tags inside a string. **Sometimes it can be difficult to assess if a value is a one-string list or a multiple string list** so it is better to pay attention to the process.\n",
    "\n",
    "\n",
    "\n",
    "\n",
    "First off, how the data is presented currently:"
   ]
  },
  {
   "cell_type": "code",
   "execution_count": 69,
   "metadata": {},
   "outputs": [
    {
     "data": {
      "text/plain": [
       "0                        machine-learning, data-mining\n",
       "1    machine-learning, regression, linear-regressio...\n",
       "2           python, time-series, forecast, forecasting\n",
       "3                  machine-learning, scikit-learn, pca\n",
       "4               dataset, bigdata, data, speech-to-text\n",
       "Name: Tags, dtype: object"
      ]
     },
     "execution_count": 69,
     "metadata": {},
     "output_type": "execute_result"
    }
   ],
   "source": [
    "df['Tags'].head()"
   ]
  },
  {
   "cell_type": "code",
   "execution_count": 70,
   "metadata": {},
   "outputs": [],
   "source": [
    "test_tags_list_1 = df[\"Tags\"].str.replace(\"^<|>$\",\"\").str.split(\"><\")"
   ]
  },
  {
   "cell_type": "code",
   "execution_count": 71,
   "metadata": {},
   "outputs": [
    {
     "data": {
      "text/plain": [
       "0                      [machine-learning, data-mining]\n",
       "1    [machine-learning, regression, linear-regressi...\n",
       "2         [python, time-series, forecast, forecasting]\n",
       "3                [machine-learning, scikit-learn, pca]\n",
       "4             [dataset, bigdata, data, speech-to-text]\n",
       "Name: Tags, dtype: object"
      ]
     },
     "execution_count": 71,
     "metadata": {},
     "output_type": "execute_result"
    }
   ],
   "source": [
    "test_tags_list_1.head()"
   ]
  },
  {
   "cell_type": "markdown",
   "metadata": {},
   "source": [
    "**First scenario - doing it the wrong way:**\n",
    "\n",
    "Above, `test_tags_list_1` seems to have solved the issue and seem to have a list of one or more elements (tags) for each row. In reality, we cannot access an element of those lists if we wanted to. Lets prove it:"
   ]
  },
  {
   "cell_type": "code",
   "execution_count": 72,
   "metadata": {},
   "outputs": [
    {
     "name": "stdout",
     "output_type": "stream",
     "text": [
      "['machine-learning, data-mining']\n",
      "['machine-learning, regression, linear-regression, regularization']\n",
      "['python, time-series, forecast, forecasting']\n",
      "['machine-learning, scikit-learn, pca']\n",
      "['dataset, bigdata, data, speech-to-text']\n"
     ]
    }
   ],
   "source": [
    "for tag in test_tags_list_1[:5]:\n",
    "    print(tag)"
   ]
  },
  {
   "cell_type": "markdown",
   "metadata": {},
   "source": [
    "**As we can see above, each value on `test_tags_list_1` is one-element list.\n",
    "\n",
    "**Second scenario - converting one strings into multiple strings per list:**\n",
    "\n",
    "all the tags that have a name composed of two or more words are originally separated by a hiphen, therefore, by removing the commas, is still possible to identify each tag when forming a list out of each value, where each string is formed by considering the white spaces available. See below."
   ]
  },
  {
   "cell_type": "code",
   "execution_count": 73,
   "metadata": {},
   "outputs": [],
   "source": [
    "# removing commas leaving only white spaces between tags\n",
    "# also applying `split()` which converts each value into a list \n",
    "# with where each tag is a string\n",
    "test_tags_list_2 = df['Tags'].str.replace(',', '').apply(lambda x: x.split())"
   ]
  },
  {
   "cell_type": "markdown",
   "metadata": {},
   "source": [
    "**Note:** it looks identical to `test_tags_list_1` but below we see that it is not:"
   ]
  },
  {
   "cell_type": "code",
   "execution_count": 74,
   "metadata": {},
   "outputs": [
    {
     "data": {
      "text/plain": [
       "0                      [machine-learning, data-mining]\n",
       "1    [machine-learning, regression, linear-regressi...\n",
       "2         [python, time-series, forecast, forecasting]\n",
       "3                [machine-learning, scikit-learn, pca]\n",
       "4             [dataset, bigdata, data, speech-to-text]\n",
       "Name: Tags, dtype: object"
      ]
     },
     "execution_count": 74,
     "metadata": {},
     "output_type": "execute_result"
    }
   ],
   "source": [
    "test_tags_list_2.head()"
   ]
  },
  {
   "cell_type": "code",
   "execution_count": 75,
   "metadata": {},
   "outputs": [
    {
     "name": "stdout",
     "output_type": "stream",
     "text": [
      "['machine-learning', 'data-mining']\n",
      "['machine-learning', 'regression', 'linear-regression', 'regularization']\n",
      "['python', 'time-series', 'forecast', 'forecasting']\n",
      "['machine-learning', 'scikit-learn', 'pca']\n",
      "['dataset', 'bigdata', 'data', 'speech-to-text']\n"
     ]
    }
   ],
   "source": [
    "for tag in test_tags_list_2[:5]:\n",
    "    print(tag)"
   ]
  },
  {
   "cell_type": "markdown",
   "metadata": {},
   "source": [
    "**On Task 6.2**\n",
    "\n",
    "'Count how many times each tag was viewed.'\n",
    "\n",
    "The solution project uses an interesting approach instead of mine, although both arriving at the same output. In my version I go over each row and ask if a given tag is at least in one of the range of columns `Tag 1` to `Tag 5` (when splitting the original column `Tags` into columns, 5 tags was the maximum a post had attached). If the answer was true, then the `ViewCount` of such rows would be added to another series for that specific tag. Repeating this process for every tag (60 top most used tags to shorten the process).\n",
    "\n",
    "The solution approach was a mixed between a novelty command -  df.iterrows(), and an old process - dictionary count:\n",
    "\n",
    "        # this dic will collect post `ViewCounts` per tag\n",
    "        tag_view_count = dict()\n",
    "\n",
    "        # iterrows() allows to do two loops in sequence:\n",
    "        # - first row: go to column `Tags` which is a list, \n",
    "        # and iterate over it.\n",
    "        # - do the same for every other row.\n",
    "        for index, row in questions.iterrows():\n",
    "        \n",
    "            # classic dictionary count in the second loop\n",
    "            for tag in row['Tags']:\n",
    "                if tag in tag_view_count:\n",
    "                    tag_view_count[tag] += row['ViewCount']\n",
    "                else:\n",
    "                    tag_view_count[tag] = row['ViewCount']\n",
    "\n"
   ]
  },
  {
   "cell_type": "markdown",
   "metadata": {},
   "source": [
    "**On Task 9.3**\n",
    "\n",
    "'Think about what questions should be classified as deep learning questions and then implement that definition.'\n",
    "\n",
    "Because I am somewhat short on domain knowledge on the matters of machine-learning, my approach was to treat tags as independent concepts when no immediate proof was there to relate them. In that spririt I just referred to the tag description webpage and synonym ([Task 9.3](#Task_9.3)). One approach I could have taken was to look for correlations among tags, or in other words, which tags appear simultaneously the most, and observe which tags appear hand in hand with 'deep-learning' (or 'deep-neatwork', its synonym).\n",
    "\n",
    "The solution project does come up with a answer of that nature. Here's the essential code script (adapted to match the variable names in my project), that counts how many times, throughtout each post in the dataframe, machine-learning (which here is seen as a parent concept to deep-learning) has been paired with other tags:"
   ]
  },
  {
   "cell_type": "code",
   "execution_count": 76,
   "metadata": {},
   "outputs": [],
   "source": [
    "# series of unique tags\n",
    "unique_tags = concat_tags.dropna().unique()\n",
    "\n",
    "# empty dataframe is a square matrix where both columns and rows are \n",
    "# the group of avalilable tags\n",
    "# concat_tags.unique() is derivered from my version in Task 6.\n",
    "associations = pd.DataFrame(index=unique_tags, columns=unique_tags)\n",
    "\n",
    "# changing the type of columns to numeric by inserting zeroes in every\n",
    "# value\n",
    "associations = associations.fillna(0)\n",
    "\n",
    "# the series used for the loop is taken from the previous comment 'On Task 5.3', deriverd from df['Tags']\n",
    "# where each value is a list of tags (strings). \n",
    "for tags in test_tags_list_2:\n",
    "    associations.loc[tags, tags] += 1\n",
    "\n",
    "# showing the top 20 most used tags to shorten the dataframe.   \n",
    "associations_top20 = associations.loc[most_used.index[:20], most_used.index[:20]]"
   ]
  },
  {
   "cell_type": "code",
   "execution_count": 77,
   "metadata": {},
   "outputs": [
    {
     "data": {
      "text/html": [
       "<div>\n",
       "<style scoped>\n",
       "    .dataframe tbody tr th:only-of-type {\n",
       "        vertical-align: middle;\n",
       "    }\n",
       "\n",
       "    .dataframe tbody tr th {\n",
       "        vertical-align: top;\n",
       "    }\n",
       "\n",
       "    .dataframe thead th {\n",
       "        text-align: right;\n",
       "    }\n",
       "</style>\n",
       "<table border=\"1\" class=\"dataframe\">\n",
       "  <thead>\n",
       "    <tr style=\"text-align: right;\">\n",
       "      <th></th>\n",
       "      <th>machine-learning</th>\n",
       "      <th>python</th>\n",
       "      <th>deep-learning</th>\n",
       "      <th>neural-network</th>\n",
       "      <th>keras</th>\n",
       "      <th>classification</th>\n",
       "      <th>tensorflow</th>\n",
       "      <th>scikit-learn</th>\n",
       "      <th>nlp</th>\n",
       "      <th>cnn</th>\n",
       "      <th>time-series</th>\n",
       "      <th>lstm</th>\n",
       "      <th>pandas</th>\n",
       "      <th>regression</th>\n",
       "      <th>dataset</th>\n",
       "      <th>r</th>\n",
       "      <th>predictive-modeling</th>\n",
       "      <th>clustering</th>\n",
       "      <th>statistics</th>\n",
       "      <th>machine-learning-model</th>\n",
       "    </tr>\n",
       "  </thead>\n",
       "  <tbody>\n",
       "    <tr>\n",
       "      <th>machine-learning</th>\n",
       "      <td>2693</td>\n",
       "      <td>499</td>\n",
       "      <td>429</td>\n",
       "      <td>366</td>\n",
       "      <td>195</td>\n",
       "      <td>259</td>\n",
       "      <td>106</td>\n",
       "      <td>188</td>\n",
       "      <td>113</td>\n",
       "      <td>124</td>\n",
       "      <td>131</td>\n",
       "      <td>71</td>\n",
       "      <td>62</td>\n",
       "      <td>119</td>\n",
       "      <td>99</td>\n",
       "      <td>63</td>\n",
       "      <td>123</td>\n",
       "      <td>61</td>\n",
       "      <td>89</td>\n",
       "      <td>139</td>\n",
       "    </tr>\n",
       "    <tr>\n",
       "      <th>python</th>\n",
       "      <td>499</td>\n",
       "      <td>1814</td>\n",
       "      <td>160</td>\n",
       "      <td>137</td>\n",
       "      <td>280</td>\n",
       "      <td>98</td>\n",
       "      <td>167</td>\n",
       "      <td>235</td>\n",
       "      <td>71</td>\n",
       "      <td>62</td>\n",
       "      <td>105</td>\n",
       "      <td>61</td>\n",
       "      <td>244</td>\n",
       "      <td>59</td>\n",
       "      <td>53</td>\n",
       "      <td>24</td>\n",
       "      <td>35</td>\n",
       "      <td>45</td>\n",
       "      <td>35</td>\n",
       "      <td>37</td>\n",
       "    </tr>\n",
       "    <tr>\n",
       "      <th>deep-learning</th>\n",
       "      <td>429</td>\n",
       "      <td>160</td>\n",
       "      <td>1220</td>\n",
       "      <td>305</td>\n",
       "      <td>247</td>\n",
       "      <td>59</td>\n",
       "      <td>136</td>\n",
       "      <td>16</td>\n",
       "      <td>72</td>\n",
       "      <td>160</td>\n",
       "      <td>44</td>\n",
       "      <td>103</td>\n",
       "      <td>1</td>\n",
       "      <td>21</td>\n",
       "      <td>32</td>\n",
       "      <td>5</td>\n",
       "      <td>32</td>\n",
       "      <td>2</td>\n",
       "      <td>12</td>\n",
       "      <td>19</td>\n",
       "    </tr>\n",
       "    <tr>\n",
       "      <th>neural-network</th>\n",
       "      <td>366</td>\n",
       "      <td>137</td>\n",
       "      <td>305</td>\n",
       "      <td>1055</td>\n",
       "      <td>235</td>\n",
       "      <td>65</td>\n",
       "      <td>108</td>\n",
       "      <td>24</td>\n",
       "      <td>24</td>\n",
       "      <td>118</td>\n",
       "      <td>33</td>\n",
       "      <td>69</td>\n",
       "      <td>1</td>\n",
       "      <td>42</td>\n",
       "      <td>20</td>\n",
       "      <td>9</td>\n",
       "      <td>13</td>\n",
       "      <td>8</td>\n",
       "      <td>11</td>\n",
       "      <td>10</td>\n",
       "    </tr>\n",
       "    <tr>\n",
       "      <th>keras</th>\n",
       "      <td>195</td>\n",
       "      <td>280</td>\n",
       "      <td>247</td>\n",
       "      <td>235</td>\n",
       "      <td>935</td>\n",
       "      <td>58</td>\n",
       "      <td>256</td>\n",
       "      <td>34</td>\n",
       "      <td>23</td>\n",
       "      <td>116</td>\n",
       "      <td>51</td>\n",
       "      <td>133</td>\n",
       "      <td>3</td>\n",
       "      <td>31</td>\n",
       "      <td>13</td>\n",
       "      <td>10</td>\n",
       "      <td>11</td>\n",
       "      <td>0</td>\n",
       "      <td>3</td>\n",
       "      <td>17</td>\n",
       "    </tr>\n",
       "    <tr>\n",
       "      <th>classification</th>\n",
       "      <td>259</td>\n",
       "      <td>98</td>\n",
       "      <td>59</td>\n",
       "      <td>65</td>\n",
       "      <td>58</td>\n",
       "      <td>685</td>\n",
       "      <td>20</td>\n",
       "      <td>47</td>\n",
       "      <td>35</td>\n",
       "      <td>20</td>\n",
       "      <td>25</td>\n",
       "      <td>20</td>\n",
       "      <td>3</td>\n",
       "      <td>34</td>\n",
       "      <td>28</td>\n",
       "      <td>10</td>\n",
       "      <td>27</td>\n",
       "      <td>12</td>\n",
       "      <td>19</td>\n",
       "      <td>21</td>\n",
       "    </tr>\n",
       "    <tr>\n",
       "      <th>tensorflow</th>\n",
       "      <td>106</td>\n",
       "      <td>167</td>\n",
       "      <td>136</td>\n",
       "      <td>108</td>\n",
       "      <td>256</td>\n",
       "      <td>20</td>\n",
       "      <td>584</td>\n",
       "      <td>15</td>\n",
       "      <td>11</td>\n",
       "      <td>57</td>\n",
       "      <td>9</td>\n",
       "      <td>43</td>\n",
       "      <td>3</td>\n",
       "      <td>9</td>\n",
       "      <td>9</td>\n",
       "      <td>1</td>\n",
       "      <td>6</td>\n",
       "      <td>0</td>\n",
       "      <td>0</td>\n",
       "      <td>9</td>\n",
       "    </tr>\n",
       "    <tr>\n",
       "      <th>scikit-learn</th>\n",
       "      <td>188</td>\n",
       "      <td>235</td>\n",
       "      <td>16</td>\n",
       "      <td>24</td>\n",
       "      <td>34</td>\n",
       "      <td>47</td>\n",
       "      <td>15</td>\n",
       "      <td>540</td>\n",
       "      <td>12</td>\n",
       "      <td>0</td>\n",
       "      <td>12</td>\n",
       "      <td>2</td>\n",
       "      <td>37</td>\n",
       "      <td>37</td>\n",
       "      <td>9</td>\n",
       "      <td>1</td>\n",
       "      <td>12</td>\n",
       "      <td>24</td>\n",
       "      <td>6</td>\n",
       "      <td>18</td>\n",
       "    </tr>\n",
       "    <tr>\n",
       "      <th>nlp</th>\n",
       "      <td>113</td>\n",
       "      <td>71</td>\n",
       "      <td>72</td>\n",
       "      <td>24</td>\n",
       "      <td>23</td>\n",
       "      <td>35</td>\n",
       "      <td>11</td>\n",
       "      <td>12</td>\n",
       "      <td>493</td>\n",
       "      <td>7</td>\n",
       "      <td>0</td>\n",
       "      <td>19</td>\n",
       "      <td>3</td>\n",
       "      <td>2</td>\n",
       "      <td>11</td>\n",
       "      <td>4</td>\n",
       "      <td>1</td>\n",
       "      <td>9</td>\n",
       "      <td>3</td>\n",
       "      <td>4</td>\n",
       "    </tr>\n",
       "    <tr>\n",
       "      <th>cnn</th>\n",
       "      <td>124</td>\n",
       "      <td>62</td>\n",
       "      <td>160</td>\n",
       "      <td>118</td>\n",
       "      <td>116</td>\n",
       "      <td>20</td>\n",
       "      <td>57</td>\n",
       "      <td>0</td>\n",
       "      <td>7</td>\n",
       "      <td>489</td>\n",
       "      <td>8</td>\n",
       "      <td>24</td>\n",
       "      <td>1</td>\n",
       "      <td>6</td>\n",
       "      <td>11</td>\n",
       "      <td>2</td>\n",
       "      <td>6</td>\n",
       "      <td>0</td>\n",
       "      <td>1</td>\n",
       "      <td>4</td>\n",
       "    </tr>\n",
       "    <tr>\n",
       "      <th>time-series</th>\n",
       "      <td>131</td>\n",
       "      <td>105</td>\n",
       "      <td>44</td>\n",
       "      <td>33</td>\n",
       "      <td>51</td>\n",
       "      <td>25</td>\n",
       "      <td>9</td>\n",
       "      <td>12</td>\n",
       "      <td>0</td>\n",
       "      <td>8</td>\n",
       "      <td>466</td>\n",
       "      <td>87</td>\n",
       "      <td>19</td>\n",
       "      <td>24</td>\n",
       "      <td>6</td>\n",
       "      <td>22</td>\n",
       "      <td>31</td>\n",
       "      <td>20</td>\n",
       "      <td>22</td>\n",
       "      <td>7</td>\n",
       "    </tr>\n",
       "    <tr>\n",
       "      <th>lstm</th>\n",
       "      <td>71</td>\n",
       "      <td>61</td>\n",
       "      <td>103</td>\n",
       "      <td>69</td>\n",
       "      <td>133</td>\n",
       "      <td>20</td>\n",
       "      <td>43</td>\n",
       "      <td>2</td>\n",
       "      <td>19</td>\n",
       "      <td>24</td>\n",
       "      <td>87</td>\n",
       "      <td>402</td>\n",
       "      <td>7</td>\n",
       "      <td>11</td>\n",
       "      <td>7</td>\n",
       "      <td>3</td>\n",
       "      <td>13</td>\n",
       "      <td>3</td>\n",
       "      <td>1</td>\n",
       "      <td>5</td>\n",
       "    </tr>\n",
       "    <tr>\n",
       "      <th>pandas</th>\n",
       "      <td>62</td>\n",
       "      <td>244</td>\n",
       "      <td>1</td>\n",
       "      <td>1</td>\n",
       "      <td>3</td>\n",
       "      <td>3</td>\n",
       "      <td>3</td>\n",
       "      <td>37</td>\n",
       "      <td>3</td>\n",
       "      <td>1</td>\n",
       "      <td>19</td>\n",
       "      <td>7</td>\n",
       "      <td>354</td>\n",
       "      <td>6</td>\n",
       "      <td>14</td>\n",
       "      <td>2</td>\n",
       "      <td>4</td>\n",
       "      <td>5</td>\n",
       "      <td>3</td>\n",
       "      <td>4</td>\n",
       "    </tr>\n",
       "    <tr>\n",
       "      <th>regression</th>\n",
       "      <td>119</td>\n",
       "      <td>59</td>\n",
       "      <td>21</td>\n",
       "      <td>42</td>\n",
       "      <td>31</td>\n",
       "      <td>34</td>\n",
       "      <td>9</td>\n",
       "      <td>37</td>\n",
       "      <td>2</td>\n",
       "      <td>6</td>\n",
       "      <td>24</td>\n",
       "      <td>11</td>\n",
       "      <td>6</td>\n",
       "      <td>347</td>\n",
       "      <td>6</td>\n",
       "      <td>10</td>\n",
       "      <td>28</td>\n",
       "      <td>2</td>\n",
       "      <td>16</td>\n",
       "      <td>8</td>\n",
       "    </tr>\n",
       "    <tr>\n",
       "      <th>dataset</th>\n",
       "      <td>99</td>\n",
       "      <td>53</td>\n",
       "      <td>32</td>\n",
       "      <td>20</td>\n",
       "      <td>13</td>\n",
       "      <td>28</td>\n",
       "      <td>9</td>\n",
       "      <td>9</td>\n",
       "      <td>11</td>\n",
       "      <td>11</td>\n",
       "      <td>6</td>\n",
       "      <td>7</td>\n",
       "      <td>14</td>\n",
       "      <td>6</td>\n",
       "      <td>340</td>\n",
       "      <td>6</td>\n",
       "      <td>7</td>\n",
       "      <td>5</td>\n",
       "      <td>17</td>\n",
       "      <td>12</td>\n",
       "    </tr>\n",
       "    <tr>\n",
       "      <th>r</th>\n",
       "      <td>63</td>\n",
       "      <td>24</td>\n",
       "      <td>5</td>\n",
       "      <td>9</td>\n",
       "      <td>10</td>\n",
       "      <td>10</td>\n",
       "      <td>1</td>\n",
       "      <td>1</td>\n",
       "      <td>4</td>\n",
       "      <td>2</td>\n",
       "      <td>22</td>\n",
       "      <td>3</td>\n",
       "      <td>2</td>\n",
       "      <td>10</td>\n",
       "      <td>6</td>\n",
       "      <td>268</td>\n",
       "      <td>13</td>\n",
       "      <td>16</td>\n",
       "      <td>16</td>\n",
       "      <td>7</td>\n",
       "    </tr>\n",
       "    <tr>\n",
       "      <th>predictive-modeling</th>\n",
       "      <td>123</td>\n",
       "      <td>35</td>\n",
       "      <td>32</td>\n",
       "      <td>13</td>\n",
       "      <td>11</td>\n",
       "      <td>27</td>\n",
       "      <td>6</td>\n",
       "      <td>12</td>\n",
       "      <td>1</td>\n",
       "      <td>6</td>\n",
       "      <td>31</td>\n",
       "      <td>13</td>\n",
       "      <td>4</td>\n",
       "      <td>28</td>\n",
       "      <td>7</td>\n",
       "      <td>13</td>\n",
       "      <td>265</td>\n",
       "      <td>0</td>\n",
       "      <td>16</td>\n",
       "      <td>21</td>\n",
       "    </tr>\n",
       "    <tr>\n",
       "      <th>clustering</th>\n",
       "      <td>61</td>\n",
       "      <td>45</td>\n",
       "      <td>2</td>\n",
       "      <td>8</td>\n",
       "      <td>0</td>\n",
       "      <td>12</td>\n",
       "      <td>0</td>\n",
       "      <td>24</td>\n",
       "      <td>9</td>\n",
       "      <td>0</td>\n",
       "      <td>20</td>\n",
       "      <td>3</td>\n",
       "      <td>5</td>\n",
       "      <td>2</td>\n",
       "      <td>5</td>\n",
       "      <td>16</td>\n",
       "      <td>0</td>\n",
       "      <td>257</td>\n",
       "      <td>3</td>\n",
       "      <td>3</td>\n",
       "    </tr>\n",
       "    <tr>\n",
       "      <th>statistics</th>\n",
       "      <td>89</td>\n",
       "      <td>35</td>\n",
       "      <td>12</td>\n",
       "      <td>11</td>\n",
       "      <td>3</td>\n",
       "      <td>19</td>\n",
       "      <td>0</td>\n",
       "      <td>6</td>\n",
       "      <td>3</td>\n",
       "      <td>1</td>\n",
       "      <td>22</td>\n",
       "      <td>1</td>\n",
       "      <td>3</td>\n",
       "      <td>16</td>\n",
       "      <td>17</td>\n",
       "      <td>16</td>\n",
       "      <td>16</td>\n",
       "      <td>3</td>\n",
       "      <td>234</td>\n",
       "      <td>3</td>\n",
       "    </tr>\n",
       "    <tr>\n",
       "      <th>machine-learning-model</th>\n",
       "      <td>139</td>\n",
       "      <td>37</td>\n",
       "      <td>19</td>\n",
       "      <td>10</td>\n",
       "      <td>17</td>\n",
       "      <td>21</td>\n",
       "      <td>9</td>\n",
       "      <td>18</td>\n",
       "      <td>4</td>\n",
       "      <td>4</td>\n",
       "      <td>7</td>\n",
       "      <td>5</td>\n",
       "      <td>4</td>\n",
       "      <td>8</td>\n",
       "      <td>12</td>\n",
       "      <td>7</td>\n",
       "      <td>21</td>\n",
       "      <td>3</td>\n",
       "      <td>3</td>\n",
       "      <td>224</td>\n",
       "    </tr>\n",
       "  </tbody>\n",
       "</table>\n",
       "</div>"
      ],
      "text/plain": [
       "                        machine-learning  python  deep-learning  \\\n",
       "machine-learning                    2693     499            429   \n",
       "python                               499    1814            160   \n",
       "deep-learning                        429     160           1220   \n",
       "neural-network                       366     137            305   \n",
       "keras                                195     280            247   \n",
       "classification                       259      98             59   \n",
       "tensorflow                           106     167            136   \n",
       "scikit-learn                         188     235             16   \n",
       "nlp                                  113      71             72   \n",
       "cnn                                  124      62            160   \n",
       "time-series                          131     105             44   \n",
       "lstm                                  71      61            103   \n",
       "pandas                                62     244              1   \n",
       "regression                           119      59             21   \n",
       "dataset                               99      53             32   \n",
       "r                                     63      24              5   \n",
       "predictive-modeling                  123      35             32   \n",
       "clustering                            61      45              2   \n",
       "statistics                            89      35             12   \n",
       "machine-learning-model               139      37             19   \n",
       "\n",
       "                        neural-network  keras  classification  tensorflow  \\\n",
       "machine-learning                   366    195             259         106   \n",
       "python                             137    280              98         167   \n",
       "deep-learning                      305    247              59         136   \n",
       "neural-network                    1055    235              65         108   \n",
       "keras                              235    935              58         256   \n",
       "classification                      65     58             685          20   \n",
       "tensorflow                         108    256              20         584   \n",
       "scikit-learn                        24     34              47          15   \n",
       "nlp                                 24     23              35          11   \n",
       "cnn                                118    116              20          57   \n",
       "time-series                         33     51              25           9   \n",
       "lstm                                69    133              20          43   \n",
       "pandas                               1      3               3           3   \n",
       "regression                          42     31              34           9   \n",
       "dataset                             20     13              28           9   \n",
       "r                                    9     10              10           1   \n",
       "predictive-modeling                 13     11              27           6   \n",
       "clustering                           8      0              12           0   \n",
       "statistics                          11      3              19           0   \n",
       "machine-learning-model              10     17              21           9   \n",
       "\n",
       "                        scikit-learn  nlp  cnn  time-series  lstm  pandas  \\\n",
       "machine-learning                 188  113  124          131    71      62   \n",
       "python                           235   71   62          105    61     244   \n",
       "deep-learning                     16   72  160           44   103       1   \n",
       "neural-network                    24   24  118           33    69       1   \n",
       "keras                             34   23  116           51   133       3   \n",
       "classification                    47   35   20           25    20       3   \n",
       "tensorflow                        15   11   57            9    43       3   \n",
       "scikit-learn                     540   12    0           12     2      37   \n",
       "nlp                               12  493    7            0    19       3   \n",
       "cnn                                0    7  489            8    24       1   \n",
       "time-series                       12    0    8          466    87      19   \n",
       "lstm                               2   19   24           87   402       7   \n",
       "pandas                            37    3    1           19     7     354   \n",
       "regression                        37    2    6           24    11       6   \n",
       "dataset                            9   11   11            6     7      14   \n",
       "r                                  1    4    2           22     3       2   \n",
       "predictive-modeling               12    1    6           31    13       4   \n",
       "clustering                        24    9    0           20     3       5   \n",
       "statistics                         6    3    1           22     1       3   \n",
       "machine-learning-model            18    4    4            7     5       4   \n",
       "\n",
       "                        regression  dataset    r  predictive-modeling  \\\n",
       "machine-learning               119       99   63                  123   \n",
       "python                          59       53   24                   35   \n",
       "deep-learning                   21       32    5                   32   \n",
       "neural-network                  42       20    9                   13   \n",
       "keras                           31       13   10                   11   \n",
       "classification                  34       28   10                   27   \n",
       "tensorflow                       9        9    1                    6   \n",
       "scikit-learn                    37        9    1                   12   \n",
       "nlp                              2       11    4                    1   \n",
       "cnn                              6       11    2                    6   \n",
       "time-series                     24        6   22                   31   \n",
       "lstm                            11        7    3                   13   \n",
       "pandas                           6       14    2                    4   \n",
       "regression                     347        6   10                   28   \n",
       "dataset                          6      340    6                    7   \n",
       "r                               10        6  268                   13   \n",
       "predictive-modeling             28        7   13                  265   \n",
       "clustering                       2        5   16                    0   \n",
       "statistics                      16       17   16                   16   \n",
       "machine-learning-model           8       12    7                   21   \n",
       "\n",
       "                        clustering  statistics  machine-learning-model  \n",
       "machine-learning                61          89                     139  \n",
       "python                          45          35                      37  \n",
       "deep-learning                    2          12                      19  \n",
       "neural-network                   8          11                      10  \n",
       "keras                            0           3                      17  \n",
       "classification                  12          19                      21  \n",
       "tensorflow                       0           0                       9  \n",
       "scikit-learn                    24           6                      18  \n",
       "nlp                              9           3                       4  \n",
       "cnn                              0           1                       4  \n",
       "time-series                     20          22                       7  \n",
       "lstm                             3           1                       5  \n",
       "pandas                           5           3                       4  \n",
       "regression                       2          16                       8  \n",
       "dataset                          5          17                      12  \n",
       "r                               16          16                       7  \n",
       "predictive-modeling              0          16                      21  \n",
       "clustering                     257           3                       3  \n",
       "statistics                       3         234                       3  \n",
       "machine-learning-model           3           3                     224  "
      ]
     },
     "execution_count": 77,
     "metadata": {},
     "output_type": "execute_result"
    }
   ],
   "source": [
    "associations_top20"
   ]
  },
  {
   "cell_type": "markdown",
   "metadata": {},
   "source": [
    "**Comment:** I personnaly had some difficulty to understand, just looking at this piece of the code:\n",
    "\n",
    "    for tags in test_tags_list_2:\n",
    "        associations.loc[tags, tags] += 1\n",
    "        \n",
    "how did it fill up all the values with the pair of tags counts. The mechanism works by simultaneously add 1 to all the values originated in a matrix composed by the tags in the list, which at the same time belong to the main dataframe (`associations`). Below are some examples of the loop works:       \n",
    "\n",
    "In these examples we are just sampling from the main df `associations`, so the values are final and all the pair of tags has been registered already. \n",
    "\n",
    "Example row 0: `['machine-learning', 'data-mining']`"
   ]
  },
  {
   "cell_type": "code",
   "execution_count": 78,
   "metadata": {},
   "outputs": [
    {
     "data": {
      "text/html": [
       "<div>\n",
       "<style scoped>\n",
       "    .dataframe tbody tr th:only-of-type {\n",
       "        vertical-align: middle;\n",
       "    }\n",
       "\n",
       "    .dataframe tbody tr th {\n",
       "        vertical-align: top;\n",
       "    }\n",
       "\n",
       "    .dataframe thead th {\n",
       "        text-align: right;\n",
       "    }\n",
       "</style>\n",
       "<table border=\"1\" class=\"dataframe\">\n",
       "  <thead>\n",
       "    <tr style=\"text-align: right;\">\n",
       "      <th></th>\n",
       "      <th>machine-learning</th>\n",
       "      <th>data-mining</th>\n",
       "    </tr>\n",
       "  </thead>\n",
       "  <tbody>\n",
       "    <tr>\n",
       "      <th>machine-learning</th>\n",
       "      <td>2693</td>\n",
       "      <td>95</td>\n",
       "    </tr>\n",
       "    <tr>\n",
       "      <th>data-mining</th>\n",
       "      <td>95</td>\n",
       "      <td>217</td>\n",
       "    </tr>\n",
       "  </tbody>\n",
       "</table>\n",
       "</div>"
      ],
      "text/plain": [
       "                  machine-learning  data-mining\n",
       "machine-learning              2693           95\n",
       "data-mining                     95          217"
      ]
     },
     "execution_count": 78,
     "metadata": {},
     "output_type": "execute_result"
    }
   ],
   "source": [
    "associations.loc[['machine-learning', 'data-mining'], ['machine-learning', 'data-mining']]"
   ]
  },
  {
   "cell_type": "markdown",
   "metadata": {},
   "source": [
    "Example row 1: `['machine-learning', 'regression', 'linear-regression', 'regularization']`"
   ]
  },
  {
   "cell_type": "code",
   "execution_count": 79,
   "metadata": {},
   "outputs": [
    {
     "data": {
      "text/html": [
       "<div>\n",
       "<style scoped>\n",
       "    .dataframe tbody tr th:only-of-type {\n",
       "        vertical-align: middle;\n",
       "    }\n",
       "\n",
       "    .dataframe tbody tr th {\n",
       "        vertical-align: top;\n",
       "    }\n",
       "\n",
       "    .dataframe thead th {\n",
       "        text-align: right;\n",
       "    }\n",
       "</style>\n",
       "<table border=\"1\" class=\"dataframe\">\n",
       "  <thead>\n",
       "    <tr style=\"text-align: right;\">\n",
       "      <th></th>\n",
       "      <th>machine-learning</th>\n",
       "      <th>regression</th>\n",
       "      <th>linear-regression</th>\n",
       "      <th>regularization</th>\n",
       "    </tr>\n",
       "  </thead>\n",
       "  <tbody>\n",
       "    <tr>\n",
       "      <th>machine-learning</th>\n",
       "      <td>2693</td>\n",
       "      <td>119</td>\n",
       "      <td>68</td>\n",
       "      <td>20</td>\n",
       "    </tr>\n",
       "    <tr>\n",
       "      <th>regression</th>\n",
       "      <td>119</td>\n",
       "      <td>347</td>\n",
       "      <td>35</td>\n",
       "      <td>2</td>\n",
       "    </tr>\n",
       "    <tr>\n",
       "      <th>linear-regression</th>\n",
       "      <td>68</td>\n",
       "      <td>35</td>\n",
       "      <td>175</td>\n",
       "      <td>1</td>\n",
       "    </tr>\n",
       "    <tr>\n",
       "      <th>regularization</th>\n",
       "      <td>20</td>\n",
       "      <td>2</td>\n",
       "      <td>1</td>\n",
       "      <td>50</td>\n",
       "    </tr>\n",
       "  </tbody>\n",
       "</table>\n",
       "</div>"
      ],
      "text/plain": [
       "                   machine-learning  regression  linear-regression  \\\n",
       "machine-learning               2693         119                 68   \n",
       "regression                      119         347                 35   \n",
       "linear-regression                68          35                175   \n",
       "regularization                   20           2                  1   \n",
       "\n",
       "                   regularization  \n",
       "machine-learning               20  \n",
       "regression                      2  \n",
       "linear-regression               1  \n",
       "regularization                 50  "
      ]
     },
     "execution_count": 79,
     "metadata": {},
     "output_type": "execute_result"
    }
   ],
   "source": [
    "associations.loc[['machine-learning', 'regression', 'linear-regression', 'regularization'],\n",
    "                 ['machine-learning', 'regression', 'linear-regression', 'regularization']]"
   ]
  },
  {
   "cell_type": "markdown",
   "metadata": {},
   "source": [
    "**Comment:** looking at the results of `associations_top20`, which are elegantly portrayed in a colored heat map in the solution project, we can observe that there are some redundant associations between 'machine-learning' and other tags, such as 'python', once we already know that 'python' is an obvious and unavoidable part of data science content. Because there are some of those redundant associations, the solution project suggests that we make use of domain knowledge in order to define some association rules, which in practice means that the researcher should go over each popular tag, and see if it is related in a relevant manner to the concept of machine learning, something that was already somewhat sketched in the 'Brainstorm notes' in [Task 7](#Task_7).\n",
    "\n",
    "So, to conclude this discussion, we'll just reformulate Task 9.4.a to 9.4.c, aggregating the group of tags proposed in the solution project into 'machine-learning':\n",
    "\n",
    "    [\"lstm\", \"cnn\", \"scikit-learn\", \"tensorflow\", \"keras\", \"neural-network\", \"deep-learning\"]"
   ]
  },
  {
   "cell_type": "markdown",
   "metadata": {},
   "source": [
    "**Reformed Task 9.4.a**\n",
    "\n",
    "We can pick up the dataframe `all_questions` and just replace the tags above by 'machine-learning' in a new dataframe - 'all_questions_2'."
   ]
  },
  {
   "cell_type": "code",
   "execution_count": 80,
   "metadata": {},
   "outputs": [],
   "source": [
    "pattern = '(lstm|cnn|scikit-learn|tensorflow|keras|neural-network|deep-learning)'"
   ]
  },
  {
   "cell_type": "code",
   "execution_count": 81,
   "metadata": {},
   "outputs": [],
   "source": [
    "all_questions_2 = all_questions.copy()"
   ]
  },
  {
   "cell_type": "code",
   "execution_count": 82,
   "metadata": {},
   "outputs": [],
   "source": [
    "all_questions_2.iloc[:, 2:-1] = all_questions_2.iloc[:, 2:-1].apply(lambda x: x.str.replace(pattern, 'machine-learning'))"
   ]
  },
  {
   "cell_type": "markdown",
   "metadata": {},
   "source": [
    "Checking if the changes were successful by looking for one of the replaced tags:"
   ]
  },
  {
   "cell_type": "code",
   "execution_count": 83,
   "metadata": {},
   "outputs": [
    {
     "data": {
      "text/html": [
       "<div>\n",
       "<style scoped>\n",
       "    .dataframe tbody tr th:only-of-type {\n",
       "        vertical-align: middle;\n",
       "    }\n",
       "\n",
       "    .dataframe tbody tr th {\n",
       "        vertical-align: top;\n",
       "    }\n",
       "\n",
       "    .dataframe thead th {\n",
       "        text-align: right;\n",
       "    }\n",
       "</style>\n",
       "<table border=\"1\" class=\"dataframe\">\n",
       "  <thead>\n",
       "    <tr style=\"text-align: right;\">\n",
       "      <th></th>\n",
       "      <th>Id</th>\n",
       "      <th>CreationDate</th>\n",
       "      <th>Tags</th>\n",
       "      <th>Tag_1</th>\n",
       "      <th>Tag_2</th>\n",
       "      <th>Tag_3</th>\n",
       "      <th>Tag_4</th>\n",
       "      <th>Tag_5</th>\n",
       "      <th>quarterly_data</th>\n",
       "    </tr>\n",
       "  </thead>\n",
       "  <tbody>\n",
       "  </tbody>\n",
       "</table>\n",
       "</div>"
      ],
      "text/plain": [
       "Empty DataFrame\n",
       "Columns: [Id, CreationDate, Tags, Tag_1, Tag_2, Tag_3, Tag_4, Tag_5, quarterly_data]\n",
       "Index: []"
      ]
     },
     "execution_count": 83,
     "metadata": {},
     "output_type": "execute_result"
    }
   ],
   "source": [
    "condition_test = all_questions_2['Tags'].str.contains('scikit-learn')\n",
    "\n",
    "all_questions_2[condition_test]"
   ]
  },
  {
   "cell_type": "markdown",
   "metadata": {},
   "source": [
    "Creating a new condition to drop all the rows without 'machine-learning' as a tag:"
   ]
  },
  {
   "cell_type": "code",
   "execution_count": 84,
   "metadata": {},
   "outputs": [],
   "source": [
    "condition_agg = all_questions_2['Tags'].str.contains('machine-learning')"
   ]
  },
  {
   "cell_type": "code",
   "execution_count": 85,
   "metadata": {},
   "outputs": [],
   "source": [
    "machine_learning = all_questions_2[condition_agg]"
   ]
  },
  {
   "cell_type": "markdown",
   "metadata": {},
   "source": [
    "Using grouby().size() one can count the number of rows associated with each one of the unique values in `quarterly_data`."
   ]
  },
  {
   "cell_type": "code",
   "execution_count": 86,
   "metadata": {},
   "outputs": [],
   "source": [
    "group_quarterly = machine_learning.groupby(by='quarterly_data').size()"
   ]
  },
  {
   "cell_type": "code",
   "execution_count": 87,
   "metadata": {},
   "outputs": [
    {
     "data": {
      "text/plain": [
       "quarterly_data\n",
       "2014Q2     44\n",
       "2014Q3     71\n",
       "2014Q4     80\n",
       "2015Q1     74\n",
       "2015Q2    110\n",
       "Freq: Q-DEC, dtype: int64"
      ]
     },
     "execution_count": 87,
     "metadata": {},
     "output_type": "execute_result"
    }
   ],
   "source": [
    "group_quarterly.head()"
   ]
  },
  {
   "cell_type": "markdown",
   "metadata": {},
   "source": [
    "**Task 9.4.b**\n",
    "\n",
    "The total amount of questions per time period.\n",
    "\n",
    "**Comment:** `quarterly_combined` aggregates in one dataframe, both the total number of questions by quarter - `all_questions` and also the questions per quarter, associated with the tag `deep-learning` in `deep_learning_only`. "
   ]
  },
  {
   "cell_type": "code",
   "execution_count": 88,
   "metadata": {},
   "outputs": [],
   "source": [
    "group_quarterly_all = all_questions.groupby(by='quarterly_data').size()\n",
    "\n",
    "quarterly_combined = pd.DataFrame({'all_questions':group_quarterly_all, 'deep_learning_only':group_quarterly})"
   ]
  },
  {
   "cell_type": "code",
   "execution_count": 89,
   "metadata": {},
   "outputs": [
    {
     "data": {
      "text/html": [
       "<div>\n",
       "<style scoped>\n",
       "    .dataframe tbody tr th:only-of-type {\n",
       "        vertical-align: middle;\n",
       "    }\n",
       "\n",
       "    .dataframe tbody tr th {\n",
       "        vertical-align: top;\n",
       "    }\n",
       "\n",
       "    .dataframe thead th {\n",
       "        text-align: right;\n",
       "    }\n",
       "</style>\n",
       "<table border=\"1\" class=\"dataframe\">\n",
       "  <thead>\n",
       "    <tr style=\"text-align: right;\">\n",
       "      <th></th>\n",
       "      <th>all_questions</th>\n",
       "      <th>deep_learning_only</th>\n",
       "    </tr>\n",
       "    <tr>\n",
       "      <th>quarterly_data</th>\n",
       "      <th></th>\n",
       "      <th></th>\n",
       "    </tr>\n",
       "  </thead>\n",
       "  <tbody>\n",
       "    <tr>\n",
       "      <th>2014Q2</th>\n",
       "      <td>157</td>\n",
       "      <td>44</td>\n",
       "    </tr>\n",
       "    <tr>\n",
       "      <th>2014Q3</th>\n",
       "      <td>188</td>\n",
       "      <td>71</td>\n",
       "    </tr>\n",
       "    <tr>\n",
       "      <th>2014Q4</th>\n",
       "      <td>214</td>\n",
       "      <td>80</td>\n",
       "    </tr>\n",
       "    <tr>\n",
       "      <th>2015Q1</th>\n",
       "      <td>188</td>\n",
       "      <td>74</td>\n",
       "    </tr>\n",
       "    <tr>\n",
       "      <th>2015Q2</th>\n",
       "      <td>284</td>\n",
       "      <td>110</td>\n",
       "    </tr>\n",
       "  </tbody>\n",
       "</table>\n",
       "</div>"
      ],
      "text/plain": [
       "                all_questions  deep_learning_only\n",
       "quarterly_data                                   \n",
       "2014Q2                    157                  44\n",
       "2014Q3                    188                  71\n",
       "2014Q4                    214                  80\n",
       "2015Q1                    188                  74\n",
       "2015Q2                    284                 110"
      ]
     },
     "execution_count": 89,
     "metadata": {},
     "output_type": "execute_result"
    }
   ],
   "source": [
    "quarterly_combined.head()"
   ]
  },
  {
   "cell_type": "markdown",
   "metadata": {},
   "source": [
    "**Task 9.4.c**\n",
    "\n",
    "How many deep learning questions there are relative to the total amount of questions per time period;"
   ]
  },
  {
   "cell_type": "code",
   "execution_count": 90,
   "metadata": {},
   "outputs": [],
   "source": [
    "quarterly_combined['deep-learning_%'] = quarterly_combined['deep_learning_only']/quarterly_combined['all_questions']*100\n",
    "\n",
    "quarterly_combined['deep-learning_%'] = quarterly_combined['deep-learning_%'].round(2)"
   ]
  },
  {
   "cell_type": "code",
   "execution_count": 91,
   "metadata": {},
   "outputs": [
    {
     "data": {
      "text/html": [
       "<div>\n",
       "<style scoped>\n",
       "    .dataframe tbody tr th:only-of-type {\n",
       "        vertical-align: middle;\n",
       "    }\n",
       "\n",
       "    .dataframe tbody tr th {\n",
       "        vertical-align: top;\n",
       "    }\n",
       "\n",
       "    .dataframe thead th {\n",
       "        text-align: right;\n",
       "    }\n",
       "</style>\n",
       "<table border=\"1\" class=\"dataframe\">\n",
       "  <thead>\n",
       "    <tr style=\"text-align: right;\">\n",
       "      <th></th>\n",
       "      <th>all_questions</th>\n",
       "      <th>deep_learning_only</th>\n",
       "      <th>deep-learning_%</th>\n",
       "    </tr>\n",
       "    <tr>\n",
       "      <th>quarterly_data</th>\n",
       "      <th></th>\n",
       "      <th></th>\n",
       "      <th></th>\n",
       "    </tr>\n",
       "  </thead>\n",
       "  <tbody>\n",
       "    <tr>\n",
       "      <th>2014Q2</th>\n",
       "      <td>157</td>\n",
       "      <td>44</td>\n",
       "      <td>28.03</td>\n",
       "    </tr>\n",
       "    <tr>\n",
       "      <th>2014Q3</th>\n",
       "      <td>188</td>\n",
       "      <td>71</td>\n",
       "      <td>37.77</td>\n",
       "    </tr>\n",
       "    <tr>\n",
       "      <th>2014Q4</th>\n",
       "      <td>214</td>\n",
       "      <td>80</td>\n",
       "      <td>37.38</td>\n",
       "    </tr>\n",
       "    <tr>\n",
       "      <th>2015Q1</th>\n",
       "      <td>188</td>\n",
       "      <td>74</td>\n",
       "      <td>39.36</td>\n",
       "    </tr>\n",
       "    <tr>\n",
       "      <th>2015Q2</th>\n",
       "      <td>284</td>\n",
       "      <td>110</td>\n",
       "      <td>38.73</td>\n",
       "    </tr>\n",
       "    <tr>\n",
       "      <th>2015Q3</th>\n",
       "      <td>310</td>\n",
       "      <td>137</td>\n",
       "      <td>44.19</td>\n",
       "    </tr>\n",
       "    <tr>\n",
       "      <th>2015Q4</th>\n",
       "      <td>379</td>\n",
       "      <td>160</td>\n",
       "      <td>42.22</td>\n",
       "    </tr>\n",
       "    <tr>\n",
       "      <th>2016Q1</th>\n",
       "      <td>511</td>\n",
       "      <td>228</td>\n",
       "      <td>44.62</td>\n",
       "    </tr>\n",
       "    <tr>\n",
       "      <th>2016Q2</th>\n",
       "      <td>511</td>\n",
       "      <td>216</td>\n",
       "      <td>42.27</td>\n",
       "    </tr>\n",
       "    <tr>\n",
       "      <th>2016Q3</th>\n",
       "      <td>575</td>\n",
       "      <td>302</td>\n",
       "      <td>52.52</td>\n",
       "    </tr>\n",
       "    <tr>\n",
       "      <th>2016Q4</th>\n",
       "      <td>519</td>\n",
       "      <td>293</td>\n",
       "      <td>56.45</td>\n",
       "    </tr>\n",
       "    <tr>\n",
       "      <th>2017Q1</th>\n",
       "      <td>690</td>\n",
       "      <td>379</td>\n",
       "      <td>54.93</td>\n",
       "    </tr>\n",
       "    <tr>\n",
       "      <th>2017Q2</th>\n",
       "      <td>633</td>\n",
       "      <td>362</td>\n",
       "      <td>57.19</td>\n",
       "    </tr>\n",
       "    <tr>\n",
       "      <th>2017Q3</th>\n",
       "      <td>707</td>\n",
       "      <td>390</td>\n",
       "      <td>55.16</td>\n",
       "    </tr>\n",
       "    <tr>\n",
       "      <th>2017Q4</th>\n",
       "      <td>888</td>\n",
       "      <td>533</td>\n",
       "      <td>60.02</td>\n",
       "    </tr>\n",
       "    <tr>\n",
       "      <th>2018Q1</th>\n",
       "      <td>1200</td>\n",
       "      <td>784</td>\n",
       "      <td>65.33</td>\n",
       "    </tr>\n",
       "    <tr>\n",
       "      <th>2018Q2</th>\n",
       "      <td>1424</td>\n",
       "      <td>859</td>\n",
       "      <td>60.32</td>\n",
       "    </tr>\n",
       "    <tr>\n",
       "      <th>2018Q3</th>\n",
       "      <td>1461</td>\n",
       "      <td>962</td>\n",
       "      <td>65.85</td>\n",
       "    </tr>\n",
       "    <tr>\n",
       "      <th>2018Q4</th>\n",
       "      <td>1268</td>\n",
       "      <td>764</td>\n",
       "      <td>60.25</td>\n",
       "    </tr>\n",
       "    <tr>\n",
       "      <th>2019Q1</th>\n",
       "      <td>1734</td>\n",
       "      <td>1076</td>\n",
       "      <td>62.05</td>\n",
       "    </tr>\n",
       "    <tr>\n",
       "      <th>2019Q2</th>\n",
       "      <td>1792</td>\n",
       "      <td>1050</td>\n",
       "      <td>58.59</td>\n",
       "    </tr>\n",
       "    <tr>\n",
       "      <th>2019Q3</th>\n",
       "      <td>1744</td>\n",
       "      <td>1044</td>\n",
       "      <td>59.86</td>\n",
       "    </tr>\n",
       "    <tr>\n",
       "      <th>2019Q4</th>\n",
       "      <td>1505</td>\n",
       "      <td>876</td>\n",
       "      <td>58.21</td>\n",
       "    </tr>\n",
       "    <tr>\n",
       "      <th>2020Q1</th>\n",
       "      <td>1782</td>\n",
       "      <td>1017</td>\n",
       "      <td>57.07</td>\n",
       "    </tr>\n",
       "    <tr>\n",
       "      <th>2020Q2</th>\n",
       "      <td>1851</td>\n",
       "      <td>1031</td>\n",
       "      <td>55.70</td>\n",
       "    </tr>\n",
       "    <tr>\n",
       "      <th>2020Q3</th>\n",
       "      <td>1753</td>\n",
       "      <td>1026</td>\n",
       "      <td>58.53</td>\n",
       "    </tr>\n",
       "    <tr>\n",
       "      <th>2020Q4</th>\n",
       "      <td>1535</td>\n",
       "      <td>909</td>\n",
       "      <td>59.22</td>\n",
       "    </tr>\n",
       "    <tr>\n",
       "      <th>2021Q1</th>\n",
       "      <td>1804</td>\n",
       "      <td>992</td>\n",
       "      <td>54.99</td>\n",
       "    </tr>\n",
       "    <tr>\n",
       "      <th>2021Q2</th>\n",
       "      <td>1343</td>\n",
       "      <td>762</td>\n",
       "      <td>56.74</td>\n",
       "    </tr>\n",
       "  </tbody>\n",
       "</table>\n",
       "</div>"
      ],
      "text/plain": [
       "                all_questions  deep_learning_only  deep-learning_%\n",
       "quarterly_data                                                    \n",
       "2014Q2                    157                  44            28.03\n",
       "2014Q3                    188                  71            37.77\n",
       "2014Q4                    214                  80            37.38\n",
       "2015Q1                    188                  74            39.36\n",
       "2015Q2                    284                 110            38.73\n",
       "2015Q3                    310                 137            44.19\n",
       "2015Q4                    379                 160            42.22\n",
       "2016Q1                    511                 228            44.62\n",
       "2016Q2                    511                 216            42.27\n",
       "2016Q3                    575                 302            52.52\n",
       "2016Q4                    519                 293            56.45\n",
       "2017Q1                    690                 379            54.93\n",
       "2017Q2                    633                 362            57.19\n",
       "2017Q3                    707                 390            55.16\n",
       "2017Q4                    888                 533            60.02\n",
       "2018Q1                   1200                 784            65.33\n",
       "2018Q2                   1424                 859            60.32\n",
       "2018Q3                   1461                 962            65.85\n",
       "2018Q4                   1268                 764            60.25\n",
       "2019Q1                   1734                1076            62.05\n",
       "2019Q2                   1792                1050            58.59\n",
       "2019Q3                   1744                1044            59.86\n",
       "2019Q4                   1505                 876            58.21\n",
       "2020Q1                   1782                1017            57.07\n",
       "2020Q2                   1851                1031            55.70\n",
       "2020Q3                   1753                1026            58.53\n",
       "2020Q4                   1535                 909            59.22\n",
       "2021Q1                   1804                 992            54.99\n",
       "2021Q2                   1343                 762            56.74"
      ]
     },
     "execution_count": 91,
     "metadata": {},
     "output_type": "execute_result"
    }
   ],
   "source": [
    "quarterly_combined"
   ]
  },
  {
   "cell_type": "markdown",
   "metadata": {},
   "source": [
    "**Comment:** in order to have a good reference to compare the evolution of the community's interest by the topic 'deep-learning', we visually compare it in the same analogous terms with the topic/tag 'machine-learning', he most popular tags according to 'most used' and 'most viewed' criteria."
   ]
  },
  {
   "cell_type": "code",
   "execution_count": 92,
   "metadata": {},
   "outputs": [],
   "source": [
    "condition_ml = all_questions['Tags'].str.contains('machine-learning')\n",
    "\n",
    "only_ml = all_questions[condition_ml]\n",
    "\n",
    "\n",
    "group_quarterly_ml = only_ml.groupby(by='quarterly_data').size()\n",
    "\n",
    "quarterly_combined = quarterly_combined.merge(right=pd.DataFrame({'machine_learning_only':group_quarterly_ml}),\n",
    "                                              how='left',\n",
    "                                              left_index=True,\n",
    "                                              right_index=True)\n"
   ]
  },
  {
   "cell_type": "code",
   "execution_count": 93,
   "metadata": {},
   "outputs": [
    {
     "data": {
      "text/html": [
       "<div>\n",
       "<style scoped>\n",
       "    .dataframe tbody tr th:only-of-type {\n",
       "        vertical-align: middle;\n",
       "    }\n",
       "\n",
       "    .dataframe tbody tr th {\n",
       "        vertical-align: top;\n",
       "    }\n",
       "\n",
       "    .dataframe thead th {\n",
       "        text-align: right;\n",
       "    }\n",
       "</style>\n",
       "<table border=\"1\" class=\"dataframe\">\n",
       "  <thead>\n",
       "    <tr style=\"text-align: right;\">\n",
       "      <th></th>\n",
       "      <th>all_questions</th>\n",
       "      <th>deep_learning_only</th>\n",
       "      <th>deep-learning_%</th>\n",
       "      <th>machine_learning_only</th>\n",
       "    </tr>\n",
       "    <tr>\n",
       "      <th>quarterly_data</th>\n",
       "      <th></th>\n",
       "      <th></th>\n",
       "      <th></th>\n",
       "      <th></th>\n",
       "    </tr>\n",
       "  </thead>\n",
       "  <tbody>\n",
       "    <tr>\n",
       "      <th>2014Q2</th>\n",
       "      <td>157</td>\n",
       "      <td>44</td>\n",
       "      <td>28.03</td>\n",
       "      <td>41</td>\n",
       "    </tr>\n",
       "    <tr>\n",
       "      <th>2014Q3</th>\n",
       "      <td>188</td>\n",
       "      <td>71</td>\n",
       "      <td>37.77</td>\n",
       "      <td>61</td>\n",
       "    </tr>\n",
       "    <tr>\n",
       "      <th>2014Q4</th>\n",
       "      <td>214</td>\n",
       "      <td>80</td>\n",
       "      <td>37.38</td>\n",
       "      <td>69</td>\n",
       "    </tr>\n",
       "    <tr>\n",
       "      <th>2015Q1</th>\n",
       "      <td>188</td>\n",
       "      <td>74</td>\n",
       "      <td>39.36</td>\n",
       "      <td>65</td>\n",
       "    </tr>\n",
       "    <tr>\n",
       "      <th>2015Q2</th>\n",
       "      <td>284</td>\n",
       "      <td>110</td>\n",
       "      <td>38.73</td>\n",
       "      <td>97</td>\n",
       "    </tr>\n",
       "  </tbody>\n",
       "</table>\n",
       "</div>"
      ],
      "text/plain": [
       "                all_questions  deep_learning_only  deep-learning_%  \\\n",
       "quarterly_data                                                       \n",
       "2014Q2                    157                  44            28.03   \n",
       "2014Q3                    188                  71            37.77   \n",
       "2014Q4                    214                  80            37.38   \n",
       "2015Q1                    188                  74            39.36   \n",
       "2015Q2                    284                 110            38.73   \n",
       "\n",
       "                machine_learning_only  \n",
       "quarterly_data                         \n",
       "2014Q2                             41  \n",
       "2014Q3                             61  \n",
       "2014Q4                             69  \n",
       "2015Q1                             65  \n",
       "2015Q2                             97  "
      ]
     },
     "execution_count": 93,
     "metadata": {},
     "output_type": "execute_result"
    }
   ],
   "source": [
    "quarterly_combined.head()"
   ]
  },
  {
   "cell_type": "code",
   "execution_count": 94,
   "metadata": {},
   "outputs": [
    {
     "data": {
      "text/plain": [
       "<matplotlib.axes._subplots.AxesSubplot at 0xa985ed10>"
      ]
     },
     "execution_count": 94,
     "metadata": {},
     "output_type": "execute_result"
    },
    {
     "data": {
      "image/png": "[encoded data removed]",
      "text/plain": [
       "<Figure size 576x432 with 1 Axes>"
      ]
     },
     "metadata": {
      "needs_background": "light"
     },
     "output_type": "display_data"
    }
   ],
   "source": [
    "fig1, ax1 = plt.subplots(figsize=(8,6))\n",
    "\n",
    "\n",
    "plt.xticks(rotation = 25)\n",
    "\n",
    "ax1.set_ylabel('nr. of questions',\n",
    "               rotation=0,\n",
    "               horizontalalignment='right')\n",
    "\n",
    "ax1.set_title('Evolution of Answers Associated to Deep-leaning Only and to Machine-Learning Only',\n",
    "              y=1.05)\n",
    "\n",
    "quarterly_combined['deep_learning_only'].plot(ax=ax1,\n",
    "                                              legend=True)\n",
    "\n",
    "quarterly_combined['machine_learning_only'].plot(ax=ax1,\n",
    "                                                 legend=True)\n",
    "\n",
    "quarterly_combined['all_questions'].plot(ax=ax1,\n",
    "                                     legend=True)\n",
    "\n"
   ]
  },
  {
   "cell_type": "markdown",
   "metadata": {},
   "source": [
    "**Comment:** as we can see in the time series figure above, the x axis spans over the entire time period of the `CreationDate` column in the main dataframe `all_questions`, but in quarterly data, where each tick represents one quarter of a give year. **The similarity in the behaviour of both tags, shows that it is likely that they are correlated, and that it could be wiser to know if it is possible to treat them as just one aggregated concept**. As we can see, the main difference between the two tags is the order of magnitude; in terms of behaviour both tags experiment an increase in popularity from 2014 mid 2018 aproximately; plateauing until 2020, and after that, visibily decreasing. \n",
    "\n",
    "One thing to say about the use of tags as a proxy of what content is popular, is that they are ineherently correlated with the DSSE's popularity as a platform. As we can observe, this site underperforms in terms of popularity, when comparing with the other Stack Exchange branches, which may be cannibalizing users and content from DSSE. Sure enough, when adding to the graph all the posts in a given quarter, we observe that there are a few valleys from 2019 to 2021, which may indicate a loss of interest in the platform. The fact that in both 'deep-learning' and 'machine-learning' lines the valleys are smoother than in the 'all_questions', indicates that the interest of these topics is robust even when the overall number of posts decreases, therefore, one can believe that this kind of content is a viable bet for a new platform that wants to promote data science content.\n",
    "\n",
    "\n",
    "\\[End of the Extra-content Section.\\]"
   ]
  }
 ],
 "metadata": {
  "hide_input": false,
  "kernelspec": {
   "display_name": "Python 3 (ipykernel)",
   "language": "python",
   "name": "python3"
  },
  "language_info": {
   "codemirror_mode": {
    "name": "ipython",
    "version": 3
   },
   "file_extension": ".py",
   "mimetype": "text/x-python",
   "name": "python",
   "nbconvert_exporter": "python",
   "pygments_lexer": "ipython3",
   "version": "3.9.2"
  },
  "toc": {
   "base_numbering": 1,
   "nav_menu": {},
   "number_sections": true,
   "sideBar": true,
   "skip_h1_title": true,
   "title_cell": "Table of Contents",
   "title_sidebar": "Contents",
   "toc_cell": false,
   "toc_position": {},
   "toc_section_display": true,
   "toc_window_display": false
  },
  "varInspector": {
   "cols": {
    "lenName": 16,
    "lenType": 16,
    "lenVar": 40
   },
   "kernels_config": {
    "python": {
     "delete_cmd_postfix": "",
     "delete_cmd_prefix": "del ",
     "library": "var_list.py",
     "varRefreshCmd": "print(var_dic_list())"
    },
    "r": {
     "delete_cmd_postfix": ") ",
     "delete_cmd_prefix": "rm(",
     "library": "var_list.r",
     "varRefreshCmd": "cat(var_dic_list()) "
    }
   },
   "types_to_exclude": [
    "module",
    "function",
    "builtin_function_or_method",
    "instance",
    "_Feature"
   ],
   "window_display": false
  }
 },
 "nbformat": 4,
 "nbformat_minor": 2
}
