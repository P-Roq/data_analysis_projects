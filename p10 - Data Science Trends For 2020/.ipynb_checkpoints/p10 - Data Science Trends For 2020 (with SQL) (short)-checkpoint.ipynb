{
 "cells": [
  {
   "cell_type": "markdown",
   "metadata": {
    "collapsed": true
   },
   "source": [
    "# Data Science Trends For 2020 - What Can The Data Science Stack Exchange Database Tell Us About The Most Sought After Topics In This Field? \n",
    "\n",
    "\n",
    "\n",
    "\n",
    "\n",
    "---\n",
    "From the Dataquest's tutorial:\n",
    "\n",
    "\n",
    ">\"In this scenario, you're working for a company that creates data science content, be it books, online articles, videos or interactive text-based platforms like Dataquest.\n",
    ">\n",
    ">You're tasked with figuring out what is best content to write about. Because you took this course, you know that given the lack of instructions there's some leeway in what \"best\" means here.\n",
    ">\n",
    ">Since you're passionate about helping people learn, you decide to scour the internet in search for the answer to the question \"What is it that people want to learn about in data science?\" (as opposed to determining the most profitable content, for instance).\n",
    ">\n",
    ">Thinking back to your experience when you first started learning programming, it occurs to you that if you wanted to figure out what programming content to write, you could consult Stack Overflow (a question and answer website about programming) and see what kind of content is more popular.\n",
    ">\n",
    ">If you open the link in the image shared above, you'll find a complete list of Stack Exchange websites sorted by percentage of questions that received answers. At the time of this writing, [Data Science Stack Exchange (DSSE)](https://datascience.stackexchange.com/) is on the bottom 10 sites with respect to this metric.\n",
    ">\n",
    ">The fact that DSSE is a data science dedicated site (contrarily to the others), coupled with it having a lot of unanswered questions, makes it an ideal candidate for this investigation. DSSE will be the focus of this guided project.\""
   ]
  },
  {
   "cell_type": "markdown",
   "metadata": {},
   "source": [
    "## Index\n",
    "---\n",
    "- [I - A Brief Inquiry Into The Concept Of Data Science Stack Exchange](I) \n",
    "- [II - Exploring DSSE's Database](#II)\n",
    "- [III - Resuming The Data Of Interest And Retrieving It](#III)\n",
    "- [IV - Exploring The posts DataFrame](#IV)\n",
    "- [V - Data Cleaning](#V)\n",
    "- [VI - Counting And Comparing The Most Popular Tags](#VI)\n",
    "- [VII - The Interest For Machine-learning Over Time](#VII)\n",
    "- [VIII - Conclusion](#VIII)\n"
   ]
  },
  {
   "cell_type": "markdown",
   "metadata": {},
   "source": [
    "## I\n",
    "---\n",
    "### A Brief Inquiry Into The Concept Of Data Science Stack Exchange\n",
    "\n",
    "\n",
    "**What kind of questions are welcome on this site?**\n",
    "\n",
    "As the [DSSE's tour page describes](https://datascience.stackexchange.com/tour), the type of questions that are welcome on the platform are 'practical, detailed questions' related to data science. The same logic can be applied to any of the Stack Exchange platforms, where this type of engagement is done under a broad but identifiable subject. Some examples are: [Ask Ubuntu](https://askubuntu.com/https://askubuntu.com/) (a platform dedicated to Ubuntu, an operating system within the Linux family),  [English Language & Usage](https://english.stackexchange.com/), and [Mathematics](https://math.stackexchange.com/).\n",
    "\n",
    "\n",
    "\n",
    "---\n",
    "\n",
    "\n",
    "**What, other than questions, does the site's home subdivide into?** **Does any of them look useful towards our goal?**\n",
    "  \n",
    "  \n",
    "DSSE's home site subdivides into 4 sections:\n",
    "- 'Questions' - a page dedicated to browse and ask questions.\n",
    "- 'Tags' - tags are keywords associated to the topic(s) of each question. This section groups all the questions by their tag(s), for ease of browsing. \n",
    "\n",
    "- 'Users' - this section allows the public to browse for DSSE's users.\n",
    "- 'Unanswered' - lists questions that haven't been accepted by moderators or do not have any upvotes from other users.\n",
    "\n",
    "\n",
    "\n",
    "From our frame of work, which is to look for 'what people want to learn about data science', what seems to be interesting is the clues provided by the meta-data gathered in form of tags. These keywords allow to identify which are the most popular themes and concepts that arise from the pool of questions. Similarly, the 'hot' tab in the home page can be equally useful, offering the possibility to track the current flow of interest shown in a given key concept or subject based on the questions that are generating more engagement.\n",
    "\n",
    "\n",
    "\n",
    "---\n",
    "\n",
    "\n",
    "**What information is available in each post?**\n",
    "\n",
    "Each post, such as [this example](https://datascience.stackexchange.com/questions/69622/discrimination-vs-calibration-machine-learning-models), has the following main information:\n",
    "\n",
    "\n",
    "\n",
    " - From the poster side:\n",
    "     - Title of the question.\n",
    "     - Content of the question.\n",
    "     - Post information: 'Asked' (when was it posted), 'Active'(last interaction), 'Viewed' (number of views).\n",
    "     \n",
    "     - User information: name, score, reputation, [badges](https://stackoverflow.com/help/badges).\n",
    "     \n",
    "     - Associated tags.\n",
    "     - Question's rating (from other users).\n",
    "     \n",
    "     \n",
    " - From the answer side:\n",
    "      - Answers from users, sorted by rating. For each answer:\n",
    "          - Content of the answer.\n",
    "          - User information (similar to 'user information' in the poster side).\n",
    "          - Answer's rating (from other users).\n",
    "          \n",
    "          \n",
    "  - Comments:\n",
    "      - Content.\n",
    "      - Commenter user name.\n",
    "      "
   ]
  },
  {
   "cell_type": "markdown",
   "metadata": {
    "collapsed": true
   },
   "source": [
    "## II\n",
    "---\n",
    "### Exploring DSSE's Database \n",
    "\n",
    "Stack Exchange has a public [database](https://data.stackexchange.com/datascience/queries) for each one of their platforms, which allow queries to retrieve data regarding the content made public in the platform. With this tool we can collect information on the most popular subjects within the sphere of data science, mainly through the assessment of which tags appear more often.\n",
    "\n",
    "\n",
    "The tables below have been queried from the DSSE's database. We display first the query used to retrieve them and the associated output; the dialect used below is Transact-SQL, Microsoft's SQL flavor.\n",
    "\n",
    "From an initial query (omitted) we were able to find two tables that may be relevant to our question: 'Posts' and 'Tags'. Below is a result to a query that allows us to check useful information regarding 'Posts':\n",
    "\n",
    "\n",
    "    SELECT \n",
    "        Top 5\n",
    "            Id,\n",
    "            ViewCount,\n",
    "            Score,\n",
    "            Tags,\n",
    "            AnswerCount,\n",
    "            CommentCount,\n",
    "            FavoriteCount\n",
    "        FROM Posts\n",
    "        ORDER BY ViewCount DESC;\n",
    "\n",
    "Output:\n",
    "\n",
    "|Id   |Title  |ViewCount|Score|Tags |AnswerCount|CommentCount|FavoriteCount|\n",
    "|-----|-----------------------------------------------------------------------------------------------------------|---------|-----|-----------------------------------------------------|-----------|------------|-------------|\n",
    "|11928|ValueError: Input contains NaN, infinity or a value too large for dtype('float32')                         |297432   |81   |python, random-forest, pandas                      |10         |2           |18           |\n",
    "|893  |How to get correlation between two categorical variable and a categorical variable and continuous variable?|290850   |103  |r, statistics, correlation                         |1          |5           |113          |\n",
    "|12321|What's the difference between fit and fit_transform in scikit-learn models?                                |282621   |210  |python, scikit-learn                               |10         |4           |154          |\n",
    "|13490|How to set class weights for imbalanced classes in Keras?                                                  |281734   |217  | deep-learning, classification, keras, weighted-data |9          |0           |85           |\n",
    "|33053|How do I compare columns in different data frames?                                                         |259993   |39   |pandas, dataframe                                  |6          |4           |15           |\n",
    "\n",
    "\n",
    "As we can see from the retrieved output, we can infer how popular certain topics are by how much views and engagement the associated questions generate. \n",
    "\n",
    "Even more to the point, the **'Tags'** table allows to quantify the volume of references to any particular tag. The query below withdraws the top 20 most used tags and their frequency in descending order:\n",
    "\n",
    "        SELECT \n",
    "          TOP 20\n",
    "              TagName,\n",
    "              Count\n",
    "          FROM Tags\n",
    "          ORDER BY COUNT DESC;\n",
    "          \n",
    "Output:\n",
    "\n",
    "|TagName            |Count|\n",
    "|-------------------|-----|\n",
    "|machine-learning   |9083 |\n",
    "|python             |5316 |\n",
    "|deep-learning      |3842 |\n",
    "|neural-network     |3731 |\n",
    "|classification     |2623 |\n",
    "|keras              |2354 |\n",
    "|nlp                |1877 |\n",
    "|scikit-learn       |1831 |\n",
    "|tensorflow         |1801 |\n",
    "|time-series        |1384 |\n",
    "|r                  |1295 |\n",
    "|regression         |1236 |\n",
    "|dataset            |1170 |\n",
    "|cnn                |1153 |\n",
    "|clustering         |1137 |\n",
    "|data-mining        |1054 |\n",
    "|pandas             |1040 |\n",
    "|predictive-modeling|1001 |\n",
    "|lstm               |942  |\n",
    "|statistics         |884  |\n",
    "\n",
    "\n",
    "From what we can assess, these tags are mostly related to programming languages (e.g. Python, R), libraries (e.g. pandas, scikit-learn), artificial-intelligence concepts (e.g. machine-learning, deep-learning) and statistical concepts (e.g. regression, time-series, clustering). \n",
    "\n",
    "By making a few queries in the DSSE's database we can begin to understand what are the current trends in data science, though, in order to make a clearer picture of how trends may be evolving, it is better to further explore the available data. "
   ]
  },
  {
   "cell_type": "markdown",
   "metadata": {},
   "source": [
    "## III\n",
    "---\n",
    "### Resuming The Data Of Interest And Retrieving It\n",
    "\n",
    "After having identified these raw blocks of information, we can now think of compiling the data of interest into a data set to be further explored. Since the 'Posts' table also has information on tags, we'll be  able to compare its insights with the 'Tags' frequency distribution. Potential columns of interest are:\n",
    "\n",
    "\n",
    "\n",
    "\n",
    "- `Id`: An identification number for the post.\n",
    "- `PostTypeId`: An identification number for the type of post.\n",
    "    - 1 = Question\n",
    "    - 2 = Answer\n",
    "    - ... (check [here](https://meta.stackexchange.com/questions/2677/database-schema-documentation-for-the-public-data-dump-and-sede) the full list)\n",
    "- `CreationDate`: The date and time of creation of the post.\n",
    "- `Score`: The post's score.\n",
    "- `ViewCount`: How many times the post was viewed.\n",
    "-  `Tags`: What tags were used.\n",
    "- `AnswerCount`: How many answers the question got (only applicable to question posts).\n",
    "- `FavoriteCount`: How many times the question was favored i.e. bookmarked by users (only applicable to question posts).\n",
    "\n",
    "\n",
    "To formulate the data set we'll be choosing the seemingly most relevant columns from the list above: `Id`, `CreationDate`, `ViewCount` and `Tags`. The query used to retrieve the data into a CSV file is the following:\n",
    "\n",
    "\n",
    "    SELECT \n",
    "            Id,\n",
    "            CreationDate,\n",
    "            ViewCount,\n",
    "            Tags\n",
    "        From Posts\n",
    "        WHERE PostTypeId = 1\n",
    "        AND (CreationDate >= '2019-01-01 00:00:00')\n",
    "        AND (CreationDate < '2020-01-01 00:00:00');\n",
    "\n",
    "\n",
    "The query has two filters: the first - `PostTypeId = 1` ensures that we only collect information on questions, rather than answers (thus avoiding repeated information), or other types of [posts](https://meta.stackexchange.com/questions/2677/database-schema-documentation-for-the-public-data-dump-and-sede); the second, was to only admit questions made in 2019, in order to retain a sense of the current popular data science trends (this analysis is taking place in early 2020). \n",
    "\n",
    "  "
   ]
  },
  {
   "cell_type": "markdown",
   "metadata": {
    "collapsed": true
   },
   "source": [
    "## IV\n",
    "---\n",
    "### Exploring The `posts` DataFrame\n",
    "\n",
    "After transferring the query results into a CSV file we can load it into a DataFrame.    "
   ]
  },
  {
   "cell_type": "code",
   "execution_count": 1,
   "metadata": {},
   "outputs": [],
   "source": [
    "# Importing libraries\n",
    "import pandas as pd\n",
    "import numpy as np\n",
    "import matplotlib.pyplot as plt \n",
    "import re\n",
    "\n",
    "# Reading the file:\n",
    "posts = pd.read_csv('2019_questions_v2.csv')"
   ]
  },
  {
   "cell_type": "markdown",
   "metadata": {},
   "source": [
    "#### Basic information and sampling the data set.\n"
   ]
  },
  {
   "cell_type": "code",
   "execution_count": 2,
   "metadata": {},
   "outputs": [
    {
     "name": "stdout",
     "output_type": "stream",
     "text": [
      "<class 'pandas.core.frame.DataFrame'>\n",
      "RangeIndex: 8839 entries, 0 to 8838\n",
      "Data columns (total 4 columns):\n",
      " #   Column        Non-Null Count  Dtype \n",
      "---  ------        --------------  ----- \n",
      " 0   Id            8839 non-null   int64 \n",
      " 1   CreationDate  8839 non-null   object\n",
      " 2   ViewCount     8839 non-null   int64 \n",
      " 3   Tags          8839 non-null   object\n",
      "dtypes: int64(2), object(2)\n",
      "memory usage: 276.3+ KB\n"
     ]
    }
   ],
   "source": [
    "posts.info()"
   ]
  },
  {
   "cell_type": "markdown",
   "metadata": {},
   "source": [
    "From `posts.info()` we can see that the there are no missing values - non-null values per column are the same as the range index: 8839 entries.\n",
    "\n",
    "\n",
    "First 5 rows:"
   ]
  },
  {
   "cell_type": "code",
   "execution_count": 3,
   "metadata": {},
   "outputs": [
    {
     "data": {
      "text/html": [
       "<div>\n",
       "<style scoped>\n",
       "    .dataframe tbody tr th:only-of-type {\n",
       "        vertical-align: middle;\n",
       "    }\n",
       "\n",
       "    .dataframe tbody tr th {\n",
       "        vertical-align: top;\n",
       "    }\n",
       "\n",
       "    .dataframe thead th {\n",
       "        text-align: right;\n",
       "    }\n",
       "</style>\n",
       "<table border=\"1\" class=\"dataframe\">\n",
       "  <thead>\n",
       "    <tr style=\"text-align: right;\">\n",
       "      <th></th>\n",
       "      <th>Id</th>\n",
       "      <th>CreationDate</th>\n",
       "      <th>ViewCount</th>\n",
       "      <th>Tags</th>\n",
       "    </tr>\n",
       "  </thead>\n",
       "  <tbody>\n",
       "    <tr>\n",
       "      <th>0</th>\n",
       "      <td>44419</td>\n",
       "      <td>2019-01-23 09:21:13</td>\n",
       "      <td>21</td>\n",
       "      <td>&lt;machine-learning&gt;&lt;data-mining&gt;</td>\n",
       "    </tr>\n",
       "    <tr>\n",
       "      <th>1</th>\n",
       "      <td>44420</td>\n",
       "      <td>2019-01-23 09:34:01</td>\n",
       "      <td>25</td>\n",
       "      <td>&lt;machine-learning&gt;&lt;regression&gt;&lt;linear-regressi...</td>\n",
       "    </tr>\n",
       "    <tr>\n",
       "      <th>2</th>\n",
       "      <td>44423</td>\n",
       "      <td>2019-01-23 09:58:41</td>\n",
       "      <td>1651</td>\n",
       "      <td>&lt;python&gt;&lt;time-series&gt;&lt;forecast&gt;&lt;forecasting&gt;</td>\n",
       "    </tr>\n",
       "    <tr>\n",
       "      <th>3</th>\n",
       "      <td>44427</td>\n",
       "      <td>2019-01-23 10:57:09</td>\n",
       "      <td>55</td>\n",
       "      <td>&lt;machine-learning&gt;&lt;scikit-learn&gt;&lt;pca&gt;</td>\n",
       "    </tr>\n",
       "    <tr>\n",
       "      <th>4</th>\n",
       "      <td>44428</td>\n",
       "      <td>2019-01-23 11:02:15</td>\n",
       "      <td>19</td>\n",
       "      <td>&lt;dataset&gt;&lt;bigdata&gt;&lt;data&gt;&lt;speech-to-text&gt;</td>\n",
       "    </tr>\n",
       "  </tbody>\n",
       "</table>\n",
       "</div>"
      ],
      "text/plain": [
       "      Id         CreationDate  ViewCount  \\\n",
       "0  44419  2019-01-23 09:21:13         21   \n",
       "1  44420  2019-01-23 09:34:01         25   \n",
       "2  44423  2019-01-23 09:58:41       1651   \n",
       "3  44427  2019-01-23 10:57:09         55   \n",
       "4  44428  2019-01-23 11:02:15         19   \n",
       "\n",
       "                                                Tags  \n",
       "0                    <machine-learning><data-mining>  \n",
       "1  <machine-learning><regression><linear-regressi...  \n",
       "2       <python><time-series><forecast><forecasting>  \n",
       "3              <machine-learning><scikit-learn><pca>  \n",
       "4           <dataset><bigdata><data><speech-to-text>  "
      ]
     },
     "execution_count": 3,
     "metadata": {},
     "output_type": "execute_result"
    }
   ],
   "source": [
    "posts.head()"
   ]
  },
  {
   "cell_type": "markdown",
   "metadata": {},
   "source": [
    "## V\n",
    "---\n",
    "### Data Cleaning\n",
    "\n",
    "There are some minor data cleaning steps that can ease the use of the data set:\n",
    "- Convert `CreationDate` into a date/time type. \n",
    "\n",
    "- Extract the relevant tags (a list of tags per row) from the correspondent column and assign it back to `Tags`.\n",
    "\n",
    "\n",
    "First rows of `posts` after cleaning below:\n"
   ]
  },
  {
   "cell_type": "code",
   "execution_count": 4,
   "metadata": {},
   "outputs": [
    {
     "data": {
      "text/html": [
       "<div>\n",
       "<style scoped>\n",
       "    .dataframe tbody tr th:only-of-type {\n",
       "        vertical-align: middle;\n",
       "    }\n",
       "\n",
       "    .dataframe tbody tr th {\n",
       "        vertical-align: top;\n",
       "    }\n",
       "\n",
       "    .dataframe thead th {\n",
       "        text-align: right;\n",
       "    }\n",
       "</style>\n",
       "<table border=\"1\" class=\"dataframe\">\n",
       "  <thead>\n",
       "    <tr style=\"text-align: right;\">\n",
       "      <th></th>\n",
       "      <th>Id</th>\n",
       "      <th>CreationDate</th>\n",
       "      <th>ViewCount</th>\n",
       "      <th>Tags</th>\n",
       "    </tr>\n",
       "  </thead>\n",
       "  <tbody>\n",
       "    <tr>\n",
       "      <th>0</th>\n",
       "      <td>44419</td>\n",
       "      <td>2019-01-23 09:21:13</td>\n",
       "      <td>21</td>\n",
       "      <td>[machine-learning, data-mining]</td>\n",
       "    </tr>\n",
       "    <tr>\n",
       "      <th>1</th>\n",
       "      <td>44420</td>\n",
       "      <td>2019-01-23 09:34:01</td>\n",
       "      <td>25</td>\n",
       "      <td>[machine-learning, regression, linear-regressi...</td>\n",
       "    </tr>\n",
       "    <tr>\n",
       "      <th>2</th>\n",
       "      <td>44423</td>\n",
       "      <td>2019-01-23 09:58:41</td>\n",
       "      <td>1651</td>\n",
       "      <td>[python, time-series, forecast, forecasting]</td>\n",
       "    </tr>\n",
       "    <tr>\n",
       "      <th>3</th>\n",
       "      <td>44427</td>\n",
       "      <td>2019-01-23 10:57:09</td>\n",
       "      <td>55</td>\n",
       "      <td>[machine-learning, scikit-learn, pca]</td>\n",
       "    </tr>\n",
       "    <tr>\n",
       "      <th>4</th>\n",
       "      <td>44428</td>\n",
       "      <td>2019-01-23 11:02:15</td>\n",
       "      <td>19</td>\n",
       "      <td>[dataset, bigdata, data, speech-to-text]</td>\n",
       "    </tr>\n",
       "  </tbody>\n",
       "</table>\n",
       "</div>"
      ],
      "text/plain": [
       "      Id        CreationDate  ViewCount  \\\n",
       "0  44419 2019-01-23 09:21:13         21   \n",
       "1  44420 2019-01-23 09:34:01         25   \n",
       "2  44423 2019-01-23 09:58:41       1651   \n",
       "3  44427 2019-01-23 10:57:09         55   \n",
       "4  44428 2019-01-23 11:02:15         19   \n",
       "\n",
       "                                                Tags  \n",
       "0                    [machine-learning, data-mining]  \n",
       "1  [machine-learning, regression, linear-regressi...  \n",
       "2       [python, time-series, forecast, forecasting]  \n",
       "3              [machine-learning, scikit-learn, pca]  \n",
       "4           [dataset, bigdata, data, speech-to-text]  "
      ]
     },
     "execution_count": 4,
     "metadata": {},
     "output_type": "execute_result"
    }
   ],
   "source": [
    "posts = posts.astype({'CreationDate': 'datetime64[ns]'})\n",
    "\n",
    "posts['Tags'] = posts['Tags'].str.replace(\"><\", ', ', regex=True)\n",
    "posts['Tags'] = posts['Tags'].str.replace('(?:<|>)', '', regex=True)\n",
    "\n",
    "posts['Tags'] = posts['Tags'].apply(lambda x: x.split(', '))\n",
    "    \n",
    "posts.head()"
   ]
  },
  {
   "cell_type": "markdown",
   "metadata": {
    "collapsed": true
   },
   "source": [
    "## VI\n",
    "---\n",
    "### Counting And Comparing The Most Popular Tags \n",
    "\n",
    "A good way to start the analysis is to quantify the number of times each individual tag has been referenced overall and also how many times that tag has been indirectly searched, by counting the number of views of every posted question associated with that tag.\n",
    "\n",
    "We'll be focusing on the 20 most frequent tags.\n"
   ]
  },
  {
   "cell_type": "markdown",
   "metadata": {},
   "source": [
    "#### How many times each tag was used:"
   ]
  },
  {
   "cell_type": "code",
   "execution_count": 5,
   "metadata": {},
   "outputs": [],
   "source": [
    "count_tags = {}\n",
    "\n",
    "for i, tag_list in enumerate(posts['Tags']): \n",
    "    for tag in tag_list:\n",
    "        if tag not in count_tags.keys():\n",
    "            count_tags[tag] = 1 \n",
    "        else:\n",
    "            count_tags[tag] += 1\n",
    "\n",
    "most_used = pd.Series(count_tags).sort_values(ascending=False)[:20]"
   ]
  },
  {
   "cell_type": "markdown",
   "metadata": {},
   "source": [
    "Top 20 most used tags in `posts`:"
   ]
  },
  {
   "cell_type": "code",
   "execution_count": 6,
   "metadata": {},
   "outputs": [
    {
     "data": {
      "text/plain": [
       "machine-learning          2693\n",
       "python                    1814\n",
       "deep-learning             1220\n",
       "neural-network            1055\n",
       "keras                      935\n",
       "classification             685\n",
       "tensorflow                 584\n",
       "scikit-learn               540\n",
       "nlp                        493\n",
       "cnn                        489\n",
       "time-series                466\n",
       "lstm                       402\n",
       "pandas                     354\n",
       "regression                 347\n",
       "dataset                    340\n",
       "r                          268\n",
       "predictive-modeling        265\n",
       "clustering                 257\n",
       "statistics                 234\n",
       "machine-learning-model     224\n",
       "dtype: int64"
      ]
     },
     "execution_count": 6,
     "metadata": {},
     "output_type": "execute_result"
    }
   ],
   "source": [
    "most_used"
   ]
  },
  {
   "cell_type": "markdown",
   "metadata": {},
   "source": [
    "#### How many times each tag has been viewed:"
   ]
  },
  {
   "cell_type": "code",
   "execution_count": 7,
   "metadata": {},
   "outputs": [],
   "source": [
    "unique_tags = list(count_tags.keys())\n",
    "\n",
    "viewed_tags_dict = dict(zip(unique_tags, [0]*len(unique_tags)))\n",
    "\n",
    "for i, tag_list in enumerate(posts['Tags']): \n",
    "    for tag in tag_list:\n",
    "        if tag in viewed_tags_dict.keys(): \n",
    "            viewed_tags_dict[tag] += posts.iloc[i, 2] # `ViewCount` is column 2.\n",
    "            \n",
    "most_viewed = pd.Series(viewed_tags_dict).sort_values(ascending=False)[:20]"
   ]
  },
  {
   "cell_type": "markdown",
   "metadata": {},
   "source": [
    "Top 20 most viewed tags in `posts`:"
   ]
  },
  {
   "cell_type": "code",
   "execution_count": 8,
   "metadata": {},
   "outputs": [
    {
     "data": {
      "text/plain": [
       "python              537585\n",
       "machine-learning    388499\n",
       "keras               268608\n",
       "deep-learning       233628\n",
       "pandas              201787\n",
       "neural-network      185367\n",
       "scikit-learn        128110\n",
       "tensorflow          121369\n",
       "classification      104457\n",
       "dataframe            89352\n",
       "lstm                 74458\n",
       "nlp                  71382\n",
       "cnn                  70349\n",
       "time-series          64134\n",
       "numpy                49767\n",
       "regression           49451\n",
       "dataset              43151\n",
       "pytorch              40240\n",
       "csv                  38654\n",
       "clustering           33928\n",
       "dtype: int64"
      ]
     },
     "execution_count": 8,
     "metadata": {},
     "output_type": "execute_result"
    }
   ],
   "source": [
    "most_viewed"
   ]
  },
  {
   "cell_type": "markdown",
   "metadata": {},
   "source": [
    "#### Visualizing the findings."
   ]
  },
  {
   "cell_type": "code",
   "execution_count": 9,
   "metadata": {},
   "outputs": [
    {
     "data": {
      "image/png": "[encoded data removed]",
      "text/plain": [
       "<Figure size 720x432 with 1 Axes>"
      ]
     },
     "metadata": {
      "needs_background": "light"
     },
     "output_type": "display_data"
    }
   ],
   "source": [
    "# Using percenatges of top 20 to comapre side-by-side.\n",
    "most_used_pct = round((most_used*100)/most_used.sum(), 2)\n",
    "\n",
    "most_viewed_pct = round((most_viewed*100)/most_viewed.sum(), 2)\n",
    "\n",
    "\n",
    "fig, ax = plt.subplots(figsize=(10, 6))\n",
    "\n",
    "plt.title('Most Used Vs Most Viewed Tags - Top 20 Tags')\n",
    "\n",
    "ax1 = ax.bar(most_used_pct.index,\n",
    "             most_used_pct,\n",
    "             label='Most Used')\n",
    "\n",
    "ax2 = ax.bar(most_viewed_pct.index,\n",
    "             most_viewed_pct,\n",
    "             color='y',\n",
    "             align='center',\n",
    "             alpha=0.5,\n",
    "             label='Most Viewed')\n",
    "\n",
    "plt.legend()\n",
    "\n",
    "plt.ylabel('%')\n",
    "\n",
    "# Rotating X-axis labels\n",
    "plt.xticks(rotation=90)\n",
    "\n",
    "\n",
    "\n",
    "ax.grid(axis='y')\n",
    "ax.set_axisbelow(True)\n",
    "\n",
    "plt.tight_layout()\n",
    "\n",
    "plt.show()"
   ]
  },
  {
   "cell_type": "markdown",
   "metadata": {},
   "source": [
    "The graph above summarizes the information stored at `most_used` and `most_viewed`. Because these series have different scales they are displayed in percentages (calculated using only the top 20 tags and not all tags). The plot shows that both series follow a very close pattern, where concepts associated to artificial intelligence (AI) appear not only at the top but across the board: 'machine-learning', 'deep-learning', 'neural-network', and also 'keras' and 'classification' - Keras is a deep-learning API for Python based on TensorFlow 2, while 'classification' is a statistical concept also associated with deep-learning and AI. Resuming, we can state that what's in vogue is using Python libraries and frameworks, such as Scikit-learn, TensorFlow, Keras, Pytorch, to develop statistical and computational intense applications - 'time-series', 'regression', 'clustering', etc, revolving around AI. \n",
    "\n",
    "The acronyms meaning from other popular tags (the first three are also associated with AI and deep-learning): \n",
    "\n",
    "- 'cnn' - Convolutional Neural Network.\n",
    "- 'nlp' - Natural language processing.\n",
    "- 'lstm' - Long Short-Term Memory network.\n",
    "- 'csv' - Comma-Separated Values."
   ]
  },
  {
   "cell_type": "markdown",
   "metadata": {},
   "source": [
    "## VII\n",
    "---\n",
    "### The Interest For Machine-learning Over Time\n",
    "\n",
    "We've identified that AI concepts are the most sought after knowledge in Data Science, where tags such as 'machine-learning', 'deep-learning' and 'neural-network' appear to be extremely correlated. In order to verify if the trend holds, we can analyze the interest in these terms over time and also compare them against the total number of posted question over time. To do that we resort again to the DSSE's database retrieving the columns of interest from the 'Posts' table, but this time without time restrictions. The query:\n",
    "\n",
    "\n",
    "    SELECT\n",
    "            Id,\n",
    "            CreationDate,\n",
    "            Tags\n",
    "        FROM posts\n",
    "        WHERE PostTypeId = 1;"
   ]
  },
  {
   "cell_type": "markdown",
   "metadata": {},
   "source": [
    "#### Reading and cleaning 'all_questions.csv'\n",
    "\n",
    "Once again we compile the results of the last SQL query into a DataFrame."
   ]
  },
  {
   "cell_type": "code",
   "execution_count": 10,
   "metadata": {},
   "outputs": [
    {
     "name": "stdout",
     "output_type": "stream",
     "text": [
      "<class 'pandas.core.frame.DataFrame'>\n",
      "RangeIndex: 28950 entries, 0 to 28949\n",
      "Data columns (total 3 columns):\n",
      " #   Column        Non-Null Count  Dtype \n",
      "---  ------        --------------  ----- \n",
      " 0   Id            28950 non-null  int64 \n",
      " 1   CreationDate  28950 non-null  object\n",
      " 2   Tags          28950 non-null  object\n",
      "dtypes: int64(1), object(2)\n",
      "memory usage: 678.6+ KB\n"
     ]
    }
   ],
   "source": [
    "all_questions = pd.read_csv('all_questions.csv')\n",
    "\n",
    "all_questions.info()"
   ]
  },
  {
   "cell_type": "markdown",
   "metadata": {},
   "source": [
    "Changing the format of `CreationDate` to DateTime and leaving only year and month:"
   ]
  },
  {
   "cell_type": "code",
   "execution_count": 11,
   "metadata": {},
   "outputs": [
    {
     "name": "stdout",
     "output_type": "stream",
     "text": [
      "Questions spanning from 2014-05 to 2021-05.\n"
     ]
    }
   ],
   "source": [
    "all_questions['CreationDate'] = pd.to_datetime(arg=all_questions['CreationDate']).dt.strftime('%Y-%m')\n",
    "\n",
    "earliest = all_questions['CreationDate'].min()\n",
    "latest = all_questions['CreationDate'].max()\n",
    "\n",
    "print(f'Questions spanning from {earliest} to {latest}.')"
   ]
  },
  {
   "cell_type": "markdown",
   "metadata": {},
   "source": [
    "Data set sample."
   ]
  },
  {
   "cell_type": "code",
   "execution_count": 12,
   "metadata": {},
   "outputs": [
    {
     "data": {
      "text/html": [
       "<div>\n",
       "<style scoped>\n",
       "    .dataframe tbody tr th:only-of-type {\n",
       "        vertical-align: middle;\n",
       "    }\n",
       "\n",
       "    .dataframe tbody tr th {\n",
       "        vertical-align: top;\n",
       "    }\n",
       "\n",
       "    .dataframe thead th {\n",
       "        text-align: right;\n",
       "    }\n",
       "</style>\n",
       "<table border=\"1\" class=\"dataframe\">\n",
       "  <thead>\n",
       "    <tr style=\"text-align: right;\">\n",
       "      <th></th>\n",
       "      <th>Id</th>\n",
       "      <th>CreationDate</th>\n",
       "      <th>Tags</th>\n",
       "    </tr>\n",
       "  </thead>\n",
       "  <tbody>\n",
       "    <tr>\n",
       "      <th>0</th>\n",
       "      <td>52137</td>\n",
       "      <td>2019-05</td>\n",
       "      <td>&lt;python&gt;&lt;keras&gt;&lt;prediction&gt;&lt;evaluation&gt;</td>\n",
       "    </tr>\n",
       "    <tr>\n",
       "      <th>1</th>\n",
       "      <td>52142</td>\n",
       "      <td>2019-05</td>\n",
       "      <td>&lt;deep-learning&gt;&lt;overfitting&gt;&lt;regularization&gt;</td>\n",
       "    </tr>\n",
       "    <tr>\n",
       "      <th>2</th>\n",
       "      <td>52144</td>\n",
       "      <td>2019-05</td>\n",
       "      <td>&lt;machine-learning&gt;&lt;neural-network&gt;</td>\n",
       "    </tr>\n",
       "    <tr>\n",
       "      <th>3</th>\n",
       "      <td>52155</td>\n",
       "      <td>2019-05</td>\n",
       "      <td>&lt;machine-learning&gt;&lt;deep-learning&gt;&lt;cnn&gt;</td>\n",
       "    </tr>\n",
       "    <tr>\n",
       "      <th>4</th>\n",
       "      <td>52157</td>\n",
       "      <td>2019-05</td>\n",
       "      <td>&lt;machine-learning&gt;&lt;cost-function&gt;</td>\n",
       "    </tr>\n",
       "  </tbody>\n",
       "</table>\n",
       "</div>"
      ],
      "text/plain": [
       "      Id CreationDate                                          Tags\n",
       "0  52137      2019-05       <python><keras><prediction><evaluation>\n",
       "1  52142      2019-05  <deep-learning><overfitting><regularization>\n",
       "2  52144      2019-05            <machine-learning><neural-network>\n",
       "3  52155      2019-05        <machine-learning><deep-learning><cnn>\n",
       "4  52157      2019-05             <machine-learning><cost-function>"
      ]
     },
     "execution_count": 12,
     "metadata": {},
     "output_type": "execute_result"
    }
   ],
   "source": [
    "all_questions.head(5)"
   ]
  },
  {
   "cell_type": "markdown",
   "metadata": {},
   "source": [
    "#### `Tags` column cleaning"
   ]
  },
  {
   "cell_type": "code",
   "execution_count": 13,
   "metadata": {},
   "outputs": [],
   "source": [
    "all_questions['Tags'] = all_questions['Tags'].str.replace(\"><\", ', ', regex=True)\n",
    "all_questions['Tags'] = all_questions['Tags'].str.replace('(?:<|>)', '', regex=True)\n",
    "\n",
    "all_questions['Tags'] = all_questions['Tags'].apply(lambda x: x.split(', '))"
   ]
  },
  {
   "cell_type": "markdown",
   "metadata": {},
   "source": [
    "#### Aggregating tags into categories\n",
    "\n",
    "The DSSE site provides descriptions on every tag used. `deep-learning` has the [following description](https://datascience.stackexchange.com/tags/deep-learning/info):\n",
    "\n",
    ">'a new area of Machine Learning research concerned with the technologies used for learning hierarchical representations of data, mainly done with deep neural networks (i.e. networks with two or more hidden layers), but also with some sort of Probabilistic Graphical Models.'\n",
    "\n",
    "DSSE also provides a page aggregates tags synonyms. In the case of 'deep-learning' we [find](https://datascience.stackexchange.com/tags/deep-learning/synonyms) that the concept is also referred as 'deep-network'.\n",
    "\n",
    "\n",
    "To explore the evolution of the trends related with these tags, we can aggregate terms into two different categories:\n",
    "- a narrower category that only considers the two terms that are perfectly equivalent: 'deep-learning' and 'deep-network'.\n",
    "\n",
    "\n",
    "- a wider category that aggregates all tags somehow related to deep-learning. We have seen that some terms can be related upstream, e.g. 'machine-learning', 'tensorflow' or downstream, e.g. 'keras', 'ccn' (Convolutional Neural Network) etc. For this list of terms we'll be only using the most popular ones, compiled in `most_used` and `most_viewed`.\n",
    "\n",
    "\n",
    "\n",
    "First, we replace 'deep-network' tags for 'deep-learning', and then produce a new binary column of the style: \n",
    "- `1` if the list of tags associated with the row/question is 'machine-learning';\n",
    "- `0` if does not."
   ]
  },
  {
   "cell_type": "code",
   "execution_count": 14,
   "metadata": {},
   "outputs": [],
   "source": [
    "# A function to replace in 'deep-network' or 'deep-learning' in `all_questions['Tags']`.\n",
    "def replace_list(list_):\n",
    "    for i, el in enumerate(list_):\n",
    "        if el == 'deep-network':\n",
    "            list_[i] = 'deep-learning'\n",
    "    return list_\n",
    "\n",
    "\n",
    "all_questions['Tags'] = all_questions['Tags'].apply(lambda x: replace_list(x))\n",
    "\n",
    "all_questions['dl_related_narrow'] = all_questions['Tags'].apply(lambda x: 1 if 'deep-learning' in x else 0)"
   ]
  },
  {
   "cell_type": "markdown",
   "metadata": {},
   "source": [
    "For the wider spectrum, we produce a new binary column of the style:\n",
    "- `1` if the list of tags associated with the row/question has at least one of the machine-learning/deep-learning related tags;\n",
    "- `0` if does not.\n",
    "\n",
    "Below, the set `related`, groups the tags related to machine-learning (including deep-learning related tags).\n"
   ]
  },
  {
   "cell_type": "code",
   "execution_count": 15,
   "metadata": {},
   "outputs": [],
   "source": [
    "related = set(['machine-learning',\n",
    "           'deep-learning',\n",
    "           'neural-network',\n",
    "           'keras',\n",
    "           'classification',\n",
    "           'tensorflow',\n",
    "           'scikit-learn',\n",
    "           'cnn',\n",
    "           'nlp',\n",
    "           'lstm',\n",
    "           'machine-learning-model',\n",
    "           'pytorch',\n",
    "           'predictive-modelling'])\n",
    "\n",
    "# `set(x).isdisjoint(related)` is `False` if both sets share at least one element.\n",
    "all_questions['dl_related_wide'] = all_questions['Tags'].apply(lambda x: 1 if  set(x).isdisjoint(related)==False else 0)"
   ]
  },
  {
   "cell_type": "markdown",
   "metadata": {},
   "source": [
    "Checking the new column `dl_related`:"
   ]
  },
  {
   "cell_type": "code",
   "execution_count": 16,
   "metadata": {},
   "outputs": [
    {
     "data": {
      "text/html": [
       "<div>\n",
       "<style scoped>\n",
       "    .dataframe tbody tr th:only-of-type {\n",
       "        vertical-align: middle;\n",
       "    }\n",
       "\n",
       "    .dataframe tbody tr th {\n",
       "        vertical-align: top;\n",
       "    }\n",
       "\n",
       "    .dataframe thead th {\n",
       "        text-align: right;\n",
       "    }\n",
       "</style>\n",
       "<table border=\"1\" class=\"dataframe\">\n",
       "  <thead>\n",
       "    <tr style=\"text-align: right;\">\n",
       "      <th></th>\n",
       "      <th>Tags</th>\n",
       "      <th>dl_related_narrow</th>\n",
       "      <th>dl_related_wide</th>\n",
       "    </tr>\n",
       "  </thead>\n",
       "  <tbody>\n",
       "    <tr>\n",
       "      <th>0</th>\n",
       "      <td>[python, keras, prediction, evaluation]</td>\n",
       "      <td>0</td>\n",
       "      <td>1</td>\n",
       "    </tr>\n",
       "    <tr>\n",
       "      <th>1</th>\n",
       "      <td>[deep-learning, overfitting, regularization]</td>\n",
       "      <td>1</td>\n",
       "      <td>1</td>\n",
       "    </tr>\n",
       "    <tr>\n",
       "      <th>2</th>\n",
       "      <td>[machine-learning, neural-network]</td>\n",
       "      <td>0</td>\n",
       "      <td>1</td>\n",
       "    </tr>\n",
       "    <tr>\n",
       "      <th>3</th>\n",
       "      <td>[machine-learning, deep-learning, cnn]</td>\n",
       "      <td>1</td>\n",
       "      <td>1</td>\n",
       "    </tr>\n",
       "    <tr>\n",
       "      <th>4</th>\n",
       "      <td>[machine-learning, cost-function]</td>\n",
       "      <td>0</td>\n",
       "      <td>1</td>\n",
       "    </tr>\n",
       "    <tr>\n",
       "      <th>5</th>\n",
       "      <td>[nlp]</td>\n",
       "      <td>0</td>\n",
       "      <td>1</td>\n",
       "    </tr>\n",
       "    <tr>\n",
       "      <th>6</th>\n",
       "      <td>[kaggle]</td>\n",
       "      <td>0</td>\n",
       "      <td>0</td>\n",
       "    </tr>\n",
       "    <tr>\n",
       "      <th>7</th>\n",
       "      <td>[machine-learning, r, rstudio]</td>\n",
       "      <td>0</td>\n",
       "      <td>1</td>\n",
       "    </tr>\n",
       "    <tr>\n",
       "      <th>8</th>\n",
       "      <td>[python, tensorflow, numpy]</td>\n",
       "      <td>0</td>\n",
       "      <td>1</td>\n",
       "    </tr>\n",
       "    <tr>\n",
       "      <th>9</th>\n",
       "      <td>[nlp]</td>\n",
       "      <td>0</td>\n",
       "      <td>1</td>\n",
       "    </tr>\n",
       "    <tr>\n",
       "      <th>10</th>\n",
       "      <td>[keras, gan, mnist]</td>\n",
       "      <td>0</td>\n",
       "      <td>1</td>\n",
       "    </tr>\n",
       "  </tbody>\n",
       "</table>\n",
       "</div>"
      ],
      "text/plain": [
       "                                            Tags  dl_related_narrow  \\\n",
       "0        [python, keras, prediction, evaluation]                  0   \n",
       "1   [deep-learning, overfitting, regularization]                  1   \n",
       "2             [machine-learning, neural-network]                  0   \n",
       "3         [machine-learning, deep-learning, cnn]                  1   \n",
       "4              [machine-learning, cost-function]                  0   \n",
       "5                                          [nlp]                  0   \n",
       "6                                       [kaggle]                  0   \n",
       "7                 [machine-learning, r, rstudio]                  0   \n",
       "8                    [python, tensorflow, numpy]                  0   \n",
       "9                                          [nlp]                  0   \n",
       "10                           [keras, gan, mnist]                  0   \n",
       "\n",
       "    dl_related_wide  \n",
       "0                 1  \n",
       "1                 1  \n",
       "2                 1  \n",
       "3                 1  \n",
       "4                 1  \n",
       "5                 1  \n",
       "6                 0  \n",
       "7                 1  \n",
       "8                 1  \n",
       "9                 1  \n",
       "10                1  "
      ]
     },
     "execution_count": 16,
     "metadata": {},
     "output_type": "execute_result"
    }
   ],
   "source": [
    "all_questions.loc[:10, ['Tags', 'dl_related_narrow', 'dl_related_wide']]"
   ]
  },
  {
   "cell_type": "markdown",
   "metadata": {},
   "source": [
    "#### Task 9.4\n",
    "\n",
    "Decide on an adequate time frame and track interest in deep learning across that time frame:\n",
    "- a. Count how many deep learning questions are asked per time period.\n",
    "- b. The total amount of questions per time period.\n",
    "- c. How many deep learning questions there are, relative to the total amount of questions per time period;\n",
    "    \n",
    "\n",
    "Since the number of observations in the data set is lengthy, going back as much as 2014, one can try to condense them into a broader time frame, converting `CreationDate` into a quarterly time series."
   ]
  },
  {
   "cell_type": "code",
   "execution_count": 17,
   "metadata": {},
   "outputs": [],
   "source": [
    "all_questions['quarterly_data'] = pd.PeriodIndex(all_questions.loc[:, 'CreationDate'], freq='Q')\n",
    "\n",
    "all_questions = all_questions.sort_values('quarterly_data')\n",
    "\n",
    "all_questions = all_questions.reset_index(drop=True)"
   ]
  },
  {
   "cell_type": "markdown",
   "metadata": {},
   "source": [
    "We can count the number of questions related to machine-learning and compare it with total number of questions made in a given quarter.\n"
   ]
  },
  {
   "cell_type": "code",
   "execution_count": 18,
   "metadata": {},
   "outputs": [],
   "source": [
    "condition_narrow = all_questions['dl_related_narrow'] == 1\n",
    "condition_wide = all_questions['dl_related_wide'] == 1\n",
    "\n",
    "related_narrow = all_questions[condition_narrow]\n",
    "related_wide = all_questions[condition_wide]\n",
    "\n",
    "group_quarterly_all = all_questions.groupby(by='quarterly_data').size()\n",
    "group_quarterly_narrow = related_narrow.groupby(by='quarterly_data').size()\n",
    "group_quarterly_wide = related_wide.groupby(by='quarterly_data').size()\n",
    "\n",
    "compare_quarterly = pd.concat([group_quarterly_all,\n",
    "                               group_quarterly_narrow,\n",
    "                               group_quarterly_wide],\n",
    "                               axis=1).rename(columns={0: 'All Questions',\n",
    "                                                       1: 'Deep-learning',\n",
    "                                                       2: 'Machine-learning'})\n",
    "\n",
    "compare_quarterly['Deep-learning %'] =\\\n",
    "    round((compare_quarterly['Deep-learning']*100)/compare_quarterly['All Questions'], 2)\n",
    "    \n",
    "compare_quarterly['Machine-learning %'] =\\\n",
    "    round((compare_quarterly['Machine-learning']*100)/compare_quarterly['All Questions'], 2)"
   ]
  },
  {
   "cell_type": "markdown",
   "metadata": {},
   "source": [
    "Checking the last 15 quarters in `compare_quarterly`: the last two columns presents the questions related to either deep-learning or machine-learning as a percentage from the total questions made in each quarter. \n"
   ]
  },
  {
   "cell_type": "code",
   "execution_count": 19,
   "metadata": {},
   "outputs": [
    {
     "data": {
      "text/html": [
       "<div>\n",
       "<style scoped>\n",
       "    .dataframe tbody tr th:only-of-type {\n",
       "        vertical-align: middle;\n",
       "    }\n",
       "\n",
       "    .dataframe tbody tr th {\n",
       "        vertical-align: top;\n",
       "    }\n",
       "\n",
       "    .dataframe thead th {\n",
       "        text-align: right;\n",
       "    }\n",
       "</style>\n",
       "<table border=\"1\" class=\"dataframe\">\n",
       "  <thead>\n",
       "    <tr style=\"text-align: right;\">\n",
       "      <th></th>\n",
       "      <th>All Questions</th>\n",
       "      <th>Deep-learning</th>\n",
       "      <th>Machine-learning</th>\n",
       "      <th>Deep-learning %</th>\n",
       "      <th>Machine-learning %</th>\n",
       "    </tr>\n",
       "    <tr>\n",
       "      <th>quarterly_data</th>\n",
       "      <th></th>\n",
       "      <th></th>\n",
       "      <th></th>\n",
       "      <th></th>\n",
       "      <th></th>\n",
       "    </tr>\n",
       "  </thead>\n",
       "  <tbody>\n",
       "    <tr>\n",
       "      <th>2017Q4</th>\n",
       "      <td>888</td>\n",
       "      <td>152</td>\n",
       "      <td>600</td>\n",
       "      <td>17.12</td>\n",
       "      <td>67.57</td>\n",
       "    </tr>\n",
       "    <tr>\n",
       "      <th>2018Q1</th>\n",
       "      <td>1200</td>\n",
       "      <td>217</td>\n",
       "      <td>843</td>\n",
       "      <td>18.08</td>\n",
       "      <td>70.25</td>\n",
       "    </tr>\n",
       "    <tr>\n",
       "      <th>2018Q2</th>\n",
       "      <td>1424</td>\n",
       "      <td>238</td>\n",
       "      <td>938</td>\n",
       "      <td>16.71</td>\n",
       "      <td>65.87</td>\n",
       "    </tr>\n",
       "    <tr>\n",
       "      <th>2018Q3</th>\n",
       "      <td>1461</td>\n",
       "      <td>269</td>\n",
       "      <td>1038</td>\n",
       "      <td>18.41</td>\n",
       "      <td>71.05</td>\n",
       "    </tr>\n",
       "    <tr>\n",
       "      <th>2018Q4</th>\n",
       "      <td>1268</td>\n",
       "      <td>176</td>\n",
       "      <td>838</td>\n",
       "      <td>13.88</td>\n",
       "      <td>66.09</td>\n",
       "    </tr>\n",
       "    <tr>\n",
       "      <th>2019Q1</th>\n",
       "      <td>1734</td>\n",
       "      <td>224</td>\n",
       "      <td>1180</td>\n",
       "      <td>12.92</td>\n",
       "      <td>68.05</td>\n",
       "    </tr>\n",
       "    <tr>\n",
       "      <th>2019Q2</th>\n",
       "      <td>1792</td>\n",
       "      <td>236</td>\n",
       "      <td>1191</td>\n",
       "      <td>13.17</td>\n",
       "      <td>66.46</td>\n",
       "    </tr>\n",
       "    <tr>\n",
       "      <th>2019Q3</th>\n",
       "      <td>1744</td>\n",
       "      <td>236</td>\n",
       "      <td>1163</td>\n",
       "      <td>13.53</td>\n",
       "      <td>66.69</td>\n",
       "    </tr>\n",
       "    <tr>\n",
       "      <th>2019Q4</th>\n",
       "      <td>1505</td>\n",
       "      <td>200</td>\n",
       "      <td>997</td>\n",
       "      <td>13.29</td>\n",
       "      <td>66.25</td>\n",
       "    </tr>\n",
       "    <tr>\n",
       "      <th>2020Q1</th>\n",
       "      <td>1782</td>\n",
       "      <td>231</td>\n",
       "      <td>1162</td>\n",
       "      <td>12.96</td>\n",
       "      <td>65.21</td>\n",
       "    </tr>\n",
       "    <tr>\n",
       "      <th>2020Q2</th>\n",
       "      <td>1851</td>\n",
       "      <td>249</td>\n",
       "      <td>1185</td>\n",
       "      <td>13.45</td>\n",
       "      <td>64.02</td>\n",
       "    </tr>\n",
       "    <tr>\n",
       "      <th>2020Q3</th>\n",
       "      <td>1753</td>\n",
       "      <td>273</td>\n",
       "      <td>1171</td>\n",
       "      <td>15.57</td>\n",
       "      <td>66.80</td>\n",
       "    </tr>\n",
       "    <tr>\n",
       "      <th>2020Q4</th>\n",
       "      <td>1535</td>\n",
       "      <td>230</td>\n",
       "      <td>1053</td>\n",
       "      <td>14.98</td>\n",
       "      <td>68.60</td>\n",
       "    </tr>\n",
       "    <tr>\n",
       "      <th>2021Q1</th>\n",
       "      <td>1804</td>\n",
       "      <td>254</td>\n",
       "      <td>1137</td>\n",
       "      <td>14.08</td>\n",
       "      <td>63.03</td>\n",
       "    </tr>\n",
       "    <tr>\n",
       "      <th>2021Q2</th>\n",
       "      <td>1343</td>\n",
       "      <td>224</td>\n",
       "      <td>867</td>\n",
       "      <td>16.68</td>\n",
       "      <td>64.56</td>\n",
       "    </tr>\n",
       "  </tbody>\n",
       "</table>\n",
       "</div>"
      ],
      "text/plain": [
       "                All Questions  Deep-learning  Machine-learning  \\\n",
       "quarterly_data                                                   \n",
       "2017Q4                    888            152               600   \n",
       "2018Q1                   1200            217               843   \n",
       "2018Q2                   1424            238               938   \n",
       "2018Q3                   1461            269              1038   \n",
       "2018Q4                   1268            176               838   \n",
       "2019Q1                   1734            224              1180   \n",
       "2019Q2                   1792            236              1191   \n",
       "2019Q3                   1744            236              1163   \n",
       "2019Q4                   1505            200               997   \n",
       "2020Q1                   1782            231              1162   \n",
       "2020Q2                   1851            249              1185   \n",
       "2020Q3                   1753            273              1171   \n",
       "2020Q4                   1535            230              1053   \n",
       "2021Q1                   1804            254              1137   \n",
       "2021Q2                   1343            224               867   \n",
       "\n",
       "                Deep-learning %  Machine-learning %  \n",
       "quarterly_data                                       \n",
       "2017Q4                    17.12               67.57  \n",
       "2018Q1                    18.08               70.25  \n",
       "2018Q2                    16.71               65.87  \n",
       "2018Q3                    18.41               71.05  \n",
       "2018Q4                    13.88               66.09  \n",
       "2019Q1                    12.92               68.05  \n",
       "2019Q2                    13.17               66.46  \n",
       "2019Q3                    13.53               66.69  \n",
       "2019Q4                    13.29               66.25  \n",
       "2020Q1                    12.96               65.21  \n",
       "2020Q2                    13.45               64.02  \n",
       "2020Q3                    15.57               66.80  \n",
       "2020Q4                    14.98               68.60  \n",
       "2021Q1                    14.08               63.03  \n",
       "2021Q2                    16.68               64.56  "
      ]
     },
     "execution_count": 19,
     "metadata": {},
     "output_type": "execute_result"
    }
   ],
   "source": [
    "compare_quarterly.tail(15)"
   ]
  },
  {
   "cell_type": "markdown",
   "metadata": {},
   "source": [
    "#### Visualizing the results compiled in `compare_quarterly`"
   ]
  },
  {
   "cell_type": "code",
   "execution_count": 20,
   "metadata": {},
   "outputs": [
    {
     "data": {
      "image/png": "[encoded data removed]",
      "text/plain": [
       "<Figure size 1008x432 with 2 Axes>"
      ]
     },
     "metadata": {
      "needs_background": "light"
     },
     "output_type": "display_data"
    }
   ],
   "source": [
    "fig, (ax1, ax2) = plt.subplots(1,2, figsize=(14, 6))\n",
    "\n",
    "\n",
    "#### ax1\n",
    "\n",
    "ax1.set_title('Evolution Of Answers Associated To Deep-leaning \\n And To Machine-Learning',\n",
    "              y=1.05)\n",
    "\n",
    "compare_quarterly['All Questions'].plot(ax=ax1, legend=True)\n",
    "\n",
    "compare_quarterly['Deep-learning'].plot(ax=ax1, legend=True, c='green')\n",
    "\n",
    "compare_quarterly['Machine-learning'].plot(ax=ax1, legend=True, c='orange')\n",
    "\n",
    "ax1.set_ylabel('Nr. Of Questions',\n",
    "               rotation=90)\n",
    "ax1.grid()\n",
    "\n",
    "\n",
    "#### ax2\n",
    "\n",
    "ax2.set_title('Deep-leaning Vs Machine-Learning Questions (Normalized)',\n",
    "              y=1.05)\n",
    "\n",
    "compare_quarterly['Deep-learning %'].plot(ax=ax2, legend=True, c='green')\n",
    "\n",
    "compare_quarterly['Machine-learning %'].plot(ax=ax2, legend=True, c='orange')\n",
    "\n",
    "ax2.set_ylabel('% of Total Questions ',\n",
    "               rotation=90)\n",
    "\n",
    "ax2.grid()\n",
    "\n",
    "plt.show()\n"
   ]
  },
  {
   "cell_type": "markdown",
   "metadata": {},
   "source": [
    "When looking to the graph from the left, that compares questions related to either deep-learning or machine-learning against the total volume of questions, we can see that the latter follows very close the overall number of questions. In the graph from the right we can see that during 2018, this type of content represented up to 70% of all questions made in the platform (max. value 71.05% in 2018Q3). In terms of percentage, we can see that the number of machine-learning related questions has steadily grown from 40% at the beginning of the time series to more than 60% at the end, which is good evidence that this area of knowledge has been growing in interest. On the other hand, if we narrow our scope to literal references to 'deep-learning' (and, its synonym 'deep-network'), we can see that there is a correlation with the behavior of all questions but to a significantly lesser extent, when compared with machine-learning. In terms of percentage, we can also see that the term is virtually unreferenced in 2014 but steadily increases in popularity until 2018 (max. value 18.41% in 2018Q3), maintaining a value between 15 and 18% since. \n",
    "\n",
    "\n",
    "Although it might seem unimpressive, we recall that machine-learning related questions are questions that were associated to at least one out of 13 tags, while deep-learning questions refer only to that one tag or its synonym - 'deep-network'; with this perspective, if 18% of all questions are directly associated to that one concept, we can consider it as extremely popular.\n",
    "\n"
   ]
  },
  {
   "cell_type": "markdown",
   "metadata": {},
   "source": [
    "Comparing means calculated with values ranging from 2018Q3 - the date/row with maximum values in both cases, to 2021Q2 - the most recent recorded date."
   ]
  },
  {
   "cell_type": "code",
   "execution_count": 22,
   "metadata": {},
   "outputs": [
    {
     "data": {
      "text/plain": [
       "Deep-learning %       14.41\n",
       "Machine-learning %    66.40\n",
       "dtype: float64"
      ]
     },
     "execution_count": 22,
     "metadata": {},
     "output_type": "execute_result"
    }
   ],
   "source": [
    "compare_quarterly.loc['2018Q3':, ['Deep-learning %', 'Machine-learning %']].mean().round(2)"
   ]
  },
  {
   "cell_type": "markdown",
   "metadata": {},
   "source": [
    "## VIII\n",
    "---\n",
    "### Conclusion\n",
    "\n",
    "To summarize, we gather evidence that deep-learning and machine-learning subjects dominate the interest of those working in the field of data science, while the preferred language to apply these concepts is predominantly Python. We've seen that the the most popular tags account for Python libraries - Scikit-learn, TensorFlow, Keras and  Pytorch, etc. which imply that tools and frameworks directed to the development of the aforementioned fields of data science are in high demand. We could also see that machine-learning and deep-learning subjects have risen in interest from 2015 until 2018 in relation to the total number of questions made in the DSSE platform; stabilizing at a substantial volume, from 2018 until 2021.\n",
    "\n",
    "\n",
    "\n",
    "\\[end of project\\]\n",
    "\n",
    "\\***"
   ]
  }
 ],
 "metadata": {
  "hide_input": false,
  "kernelspec": {
   "display_name": "Python 3",
   "language": "python",
   "name": "python3"
  },
  "language_info": {
   "codemirror_mode": {
    "name": "ipython",
    "version": 3
   },
   "file_extension": ".py",
   "mimetype": "text/x-python",
   "name": "python",
   "nbconvert_exporter": "python",
   "pygments_lexer": "ipython3",
   "version": "3.9.2"
  },
  "toc": {
   "base_numbering": 1,
   "nav_menu": {},
   "number_sections": true,
   "sideBar": true,
   "skip_h1_title": true,
   "title_cell": "Table of Contents",
   "title_sidebar": "Contents",
   "toc_cell": false,
   "toc_position": {},
   "toc_section_display": true,
   "toc_window_display": false
  },
  "varInspector": {
   "cols": {
    "lenName": 16,
    "lenType": 16,
    "lenVar": 40
   },
   "kernels_config": {
    "python": {
     "delete_cmd_postfix": "",
     "delete_cmd_prefix": "del ",
     "library": "var_list.py",
     "varRefreshCmd": "print(var_dic_list())"
    },
    "r": {
     "delete_cmd_postfix": ") ",
     "delete_cmd_prefix": "rm(",
     "library": "var_list.r",
     "varRefreshCmd": "cat(var_dic_list()) "
    }
   },
   "types_to_exclude": [
    "module",
    "function",
    "builtin_function_or_method",
    "instance",
    "_Feature"
   ],
   "window_display": false
  }
 },
 "nbformat": 4,
 "nbformat_minor": 2
}
