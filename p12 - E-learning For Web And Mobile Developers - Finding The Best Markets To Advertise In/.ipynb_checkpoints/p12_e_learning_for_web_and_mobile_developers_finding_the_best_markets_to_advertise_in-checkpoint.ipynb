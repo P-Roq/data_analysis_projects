{
 "cells": [
  {
   "cell_type": "markdown",
   "metadata": {},
   "source": [
    "# E-learning For Web And Mobile Developers - Finding The Best Markets To Advertise In"
   ]
  },
  {
   "cell_type": "markdown",
   "metadata": {},
   "source": [
    "## Introduction\n",
    "---\n",
    "A company in the e-learning business that specializes in mobile and web development wants to know what are the two best markets to promote their recently created programming course, soon to be made available to the public. The company's product is based on a monthly subscription priced at $59.   \n",
    "\n",
    "To produce a quick landscape of the e-leaning we make use of data provided by the free e-learning platform [freeCodeCamp](https://www.freecodecamp.org/). This organization compiled and made public the results of a [survey](https://www.freecodecamp.org/news/take-the-2017-new-coder-survey-and-help-us-build-a-massive-public-dataset-8c808cbee7eb/) they undertook in 2017, which delivers a good profiling on people who have been learning in several fields of IT in the past five years. The survey results are publicly available at their [GitHub](https://github.com/freeCodeCamp/2017-new-coder-survey) archive. This survey is a good resource that provides a general demographic and social characterization of the type of individual that might be interested in purchasing new e-learning content. Some of the profile categories include:\n",
    "\n",
    "\n",
    " - Demographics: age, respondent's nationality, gender, city of residence, etc.\n",
    " \n",
    " \n",
    " - Social/economic:\n",
    "     - Social condition: marital status, has children, etc.\n",
    "     - Employment status: employed, income, debt, etc.\n",
    "     \n",
    "     \n",
    " - IT related: experience in coding, field of expertize, resources used to learn new content, money spent in learning content, etc."
   ]
  },
  {
   "cell_type": "markdown",
   "metadata": {},
   "source": [
    "## Exploring The Data Set\n",
    "---"
   ]
  },
  {
   "cell_type": "code",
   "execution_count": 54,
   "metadata": {},
   "outputs": [],
   "source": [
    "import numpy as np\n",
    "import pandas as pd\n",
    "import re\n",
    "import matplotlib.pyplot as plt\n",
    "import seaborn as sns\n",
    "\n",
    "%matplotlib inline"
   ]
  },
  {
   "cell_type": "code",
   "execution_count": 55,
   "metadata": {},
   "outputs": [],
   "source": [
    "# To avoid 'DtypeWarning: Columns (17, 16)' insert this dict into `pd.read_csv()`.\n",
    "dtype_dic = {\n",
    "    'CodeEventOther': 'str',\n",
    "    'JobInterestOther': 'str'\n",
    "}\n",
    "\n",
    "survey = pd.read_csv('2017-fCC-New-Coders-Survey-Data.csv', dtype=dtype_dic)"
   ]
  },
  {
   "cell_type": "markdown",
   "metadata": {},
   "source": [
    "Basic information on `survey`.\n",
    "\n",
    "\n",
    "\\[Note: due to the extensive number of columns in `survey`, the full information summary on this data set has been relegated to Annex I, at the end of the project.\\]"
   ]
  },
  {
   "cell_type": "code",
   "execution_count": 56,
   "metadata": {
    "scrolled": true
   },
   "outputs": [
    {
     "name": "stdout",
     "output_type": "stream",
     "text": [
      "<class 'pandas.core.frame.DataFrame'>\n",
      "RangeIndex: 18175 entries, 0 to 18174\n",
      "Columns: 136 entries, Age to YouTubeTheNewBoston\n",
      "dtypes: float64(105), object(31)\n",
      "memory usage: 18.9+ MB\n"
     ]
    }
   ],
   "source": [
    "survey.info()"
   ]
  },
  {
   "cell_type": "markdown",
   "metadata": {},
   "source": [
    "As an example let's observe the first respondent's answer to the survey (missing values dropped):"
   ]
  },
  {
   "cell_type": "code",
   "execution_count": 57,
   "metadata": {
    "scrolled": false
   },
   "outputs": [
    {
     "data": {
      "text/plain": [
       "Age                                                          27.0\n",
       "AttendedBootcamp                                              0.0\n",
       "CityPopulation                                more than 1 million\n",
       "CommuteTime                                      15 to 29 minutes\n",
       "CountryCitizen                                             Canada\n",
       "CountryLive                                                Canada\n",
       "EmploymentField                       software development and IT\n",
       "EmploymentStatus                               Employed for wages\n",
       "Gender                                                     female\n",
       "HasDebt                                                       1.0\n",
       "HasFinancialDependents                                        0.0\n",
       "HasHighSpdInternet                                            1.0\n",
       "HasHomeMortgage                                               0.0\n",
       "HasServedInMilitary                                           0.0\n",
       "HasStudentDebt                                                0.0\n",
       "HoursLearning                                                15.0\n",
       "ID.x                             02d9465b21e8bd09374b0066fb2d5614\n",
       "ID.y                             eb78c1c3ac6cd9052aec557065070fbf\n",
       "IsReceiveDisabilitiesBenefits                                 0.0\n",
       "IsSoftwareDev                                                 0.0\n",
       "IsUnderEmployed                                               0.0\n",
       "JobPref                                   start your own business\n",
       "LanguageAtHome                                            English\n",
       "MaritalStatus                     married or domestic partnership\n",
       "MoneyForLearning                                            150.0\n",
       "MonthsProgramming                                             6.0\n",
       "NetworkID                                              6f1fbc6b2b\n",
       "Part1EndTime                                  2017-03-09 00:36:22\n",
       "Part1StartTime                                2017-03-09 00:32:59\n",
       "Part2EndTime                                  2017-03-09 00:59:46\n",
       "Part2StartTime                                2017-03-09 00:36:26\n",
       "PodcastDevTea                                                 1.0\n",
       "ResourceCodecademy                                            1.0\n",
       "ResourceFCC                                                   1.0\n",
       "ResourceMDN                                                   1.0\n",
       "ResourceUdemy                                                 1.0\n",
       "ResourceW3S                                                   1.0\n",
       "SchoolDegree                       some college credit, no degree\n",
       "Name: 0, dtype: object"
      ]
     },
     "execution_count": 57,
     "metadata": {},
     "output_type": "execute_result"
    }
   ],
   "source": [
    "survey.iloc[0, :].dropna()"
   ]
  },
  {
   "cell_type": "markdown",
   "metadata": {},
   "source": [
    "### Formulating The Main Scope Of The Analysis\n",
    "\n",
    "The two basic questions are:\n",
    "\n",
    "- Where to advertise?\n",
    "- To whom does the content provider should target its advertisement?\n",
    "\n",
    "For a quicker approach to the analysis the focus will be initially based on a macro view of the potential markets, to assess which countries possess the greatest growing potential, instead of looking on a micro level, e.g. assessing which partners/platforms the company could consider to advertise in. Focusing on the macro level, we can try to quantify the market dimensions through the dynamics between the willingness to pay of e-learners and the price of the product to be offered by the company we represent. "
   ]
  },
  {
   "cell_type": "markdown",
   "metadata": {},
   "source": [
    "### What Is The Weight Of E-learners Wanting To Be Either Web Or Mobile Developers?\n",
    "\n",
    "The upcoming course is mainly target to web and mobile developers,  therefore it is necessary to understand whether the survey we're exploring is actually representative of our population of interest.\n",
    "\n",
    "The following DataFrame, `desired_job`, compiles the frequency distribution (in percentage) of the values in `JobRoleInterest`, a column where respondents are asked to nominate the job roles within the programming/coding field they are interested in applying for.   "
   ]
  },
  {
   "cell_type": "code",
   "execution_count": 58,
   "metadata": {},
   "outputs": [
    {
     "name": "stdout",
     "output_type": "stream",
     "text": [
      "Desired jobs, answers: 6992\n",
      "Percentage from total answers in survey: 61.53%.\n"
     ]
    }
   ],
   "source": [
    "desired_job_count = survey['JobRoleInterest'].value_counts().sort_values(ascending=False)\n",
    "\n",
    "count_perc = (\n",
    "    survey['JobRoleInterest'].value_counts(normalize=True)\n",
    "    .sort_values(ascending=False)*100\n",
    ")\n",
    "\n",
    "desired_job = pd.DataFrame(\n",
    "    {\n",
    "        'Desired Job Role': desired_job_count.index,\n",
    "        'Count Answers': desired_job_count,\n",
    "        'Percentage (%)': count_perc}\n",
    "    )\n",
    "\n",
    "na_desired_job = survey['JobRoleInterest'].isna().sum()\n",
    "\n",
    "print(f'Desired jobs, answers: {desired_job[\"Count Answers\"].sum()}')\n",
    "\n",
    "print(f'Percentage from total answers in survey: {round(na_desired_job*100/survey.shape[0], 2)}%.')"
   ]
  },
  {
   "cell_type": "markdown",
   "metadata": {},
   "source": [
    "As we can see above, only 61.53% of the respondents answered the job role question. \n",
    "\n",
    "`desired_job.info()` reports that 3213 unique answers were given in the `Desired Job Role` column/question (equivalent to `JobRoleInterest`); this is a consequence of allowing the respondent to fill a unconstrained number of desired job roles. Because we're trying to narrow the profile of our target consumer, the data set will imply some data cleaning and reconfiguration. Let's proceed with the analysis of the summary analysis of `desired_job`."
   ]
  },
  {
   "cell_type": "code",
   "execution_count": 59,
   "metadata": {},
   "outputs": [
    {
     "name": "stdout",
     "output_type": "stream",
     "text": [
      "<class 'pandas.core.frame.DataFrame'>\n",
      "Index: 3213 entries, Full-Stack Web Developer to   DevOps / SysAdmin,   Mobile Developer,   Product Manager, Game Developer,   Front-End Web Developer, Data Engineer,   Quality Assurance Engineer,   User Experience Designer, Back-End Web Developer,   Data Scientist, Full-Stack Web Developer, Information Security, IT specialist \n",
      "Data columns (total 3 columns):\n",
      " #   Column            Non-Null Count  Dtype  \n",
      "---  ------            --------------  -----  \n",
      " 0   Desired Job Role  3213 non-null   object \n",
      " 1   Count Answers     3213 non-null   int64  \n",
      " 2   Percentage (%)    3213 non-null   float64\n",
      "dtypes: float64(1), int64(1), object(1)\n",
      "memory usage: 100.4+ KB\n"
     ]
    }
   ],
   "source": [
    "desired_job.info()"
   ]
  },
  {
   "cell_type": "markdown",
   "metadata": {},
   "source": [
    "Top 10 most replied answer on desired job roles:"
   ]
  },
  {
   "cell_type": "code",
   "execution_count": 60,
   "metadata": {},
   "outputs": [
    {
     "data": {
      "text/html": [
       "<div>\n",
       "<style scoped>\n",
       "    .dataframe tbody tr th:only-of-type {\n",
       "        vertical-align: middle;\n",
       "    }\n",
       "\n",
       "    .dataframe tbody tr th {\n",
       "        vertical-align: top;\n",
       "    }\n",
       "\n",
       "    .dataframe thead th {\n",
       "        text-align: right;\n",
       "    }\n",
       "</style>\n",
       "<table border=\"1\" class=\"dataframe\">\n",
       "  <thead>\n",
       "    <tr style=\"text-align: right;\">\n",
       "      <th></th>\n",
       "      <th>Desired Job Role</th>\n",
       "      <th>Count Answers</th>\n",
       "      <th>Percentage (%)</th>\n",
       "    </tr>\n",
       "  </thead>\n",
       "  <tbody>\n",
       "    <tr>\n",
       "      <th>Full-Stack Web Developer</th>\n",
       "      <td>Full-Stack Web Developer</td>\n",
       "      <td>823</td>\n",
       "      <td>11.770595</td>\n",
       "    </tr>\n",
       "    <tr>\n",
       "      <th>Front-End Web Developer</th>\n",
       "      <td>Front-End Web Developer</td>\n",
       "      <td>450</td>\n",
       "      <td>6.435927</td>\n",
       "    </tr>\n",
       "    <tr>\n",
       "      <th>Data Scientist</th>\n",
       "      <td>Data Scientist</td>\n",
       "      <td>152</td>\n",
       "      <td>2.173913</td>\n",
       "    </tr>\n",
       "    <tr>\n",
       "      <th>Back-End Web Developer</th>\n",
       "      <td>Back-End Web Developer</td>\n",
       "      <td>142</td>\n",
       "      <td>2.030892</td>\n",
       "    </tr>\n",
       "    <tr>\n",
       "      <th>Mobile Developer</th>\n",
       "      <td>Mobile Developer</td>\n",
       "      <td>117</td>\n",
       "      <td>1.673341</td>\n",
       "    </tr>\n",
       "    <tr>\n",
       "      <th>Game Developer</th>\n",
       "      <td>Game Developer</td>\n",
       "      <td>114</td>\n",
       "      <td>1.630435</td>\n",
       "    </tr>\n",
       "    <tr>\n",
       "      <th>Information Security</th>\n",
       "      <td>Information Security</td>\n",
       "      <td>92</td>\n",
       "      <td>1.315789</td>\n",
       "    </tr>\n",
       "    <tr>\n",
       "      <th>Full-Stack Web Developer,   Front-End Web Developer</th>\n",
       "      <td>Full-Stack Web Developer,   Front-End Web Deve...</td>\n",
       "      <td>64</td>\n",
       "      <td>0.915332</td>\n",
       "    </tr>\n",
       "    <tr>\n",
       "      <th>Front-End Web Developer, Full-Stack Web Developer</th>\n",
       "      <td>Front-End Web Developer, Full-Stack Web Deve...</td>\n",
       "      <td>56</td>\n",
       "      <td>0.800915</td>\n",
       "    </tr>\n",
       "    <tr>\n",
       "      <th>Product Manager</th>\n",
       "      <td>Product Manager</td>\n",
       "      <td>55</td>\n",
       "      <td>0.786613</td>\n",
       "    </tr>\n",
       "  </tbody>\n",
       "</table>\n",
       "</div>"
      ],
      "text/plain": [
       "                                                                                     Desired Job Role  \\\n",
       "Full-Stack Web Developer                                                     Full-Stack Web Developer   \n",
       "  Front-End Web Developer                                                     Front-End Web Developer   \n",
       "  Data Scientist                                                                       Data Scientist   \n",
       "Back-End Web Developer                                                         Back-End Web Developer   \n",
       "  Mobile Developer                                                                   Mobile Developer   \n",
       "Game Developer                                                                         Game Developer   \n",
       "Information Security                                                             Information Security   \n",
       "Full-Stack Web Developer,   Front-End Web Devel...  Full-Stack Web Developer,   Front-End Web Deve...   \n",
       "  Front-End Web Developer, Full-Stack Web Devel...    Front-End Web Developer, Full-Stack Web Deve...   \n",
       "  Product Manager                                                                     Product Manager   \n",
       "\n",
       "                                                    Count Answers  \\\n",
       "Full-Stack Web Developer                                      823   \n",
       "  Front-End Web Developer                                     450   \n",
       "  Data Scientist                                              152   \n",
       "Back-End Web Developer                                        142   \n",
       "  Mobile Developer                                            117   \n",
       "Game Developer                                                114   \n",
       "Information Security                                           92   \n",
       "Full-Stack Web Developer,   Front-End Web Devel...             64   \n",
       "  Front-End Web Developer, Full-Stack Web Devel...             56   \n",
       "  Product Manager                                              55   \n",
       "\n",
       "                                                    Percentage (%)  \n",
       "Full-Stack Web Developer                                 11.770595  \n",
       "  Front-End Web Developer                                 6.435927  \n",
       "  Data Scientist                                          2.173913  \n",
       "Back-End Web Developer                                    2.030892  \n",
       "  Mobile Developer                                        1.673341  \n",
       "Game Developer                                            1.630435  \n",
       "Information Security                                      1.315789  \n",
       "Full-Stack Web Developer,   Front-End Web Devel...        0.915332  \n",
       "  Front-End Web Developer, Full-Stack Web Devel...        0.800915  \n",
       "  Product Manager                                         0.786613  "
      ]
     },
     "execution_count": 60,
     "metadata": {},
     "output_type": "execute_result"
    }
   ],
   "source": [
    "desired_job.iloc[:10]"
   ]
  },
  {
   "cell_type": "markdown",
   "metadata": {},
   "source": [
    "Given the multitude of job role interests, and combinations, the number of unique answers is so high, to the point that the ten most answered job roles only comprise of approx. 30% of the total number of unique answers (3213)."
   ]
  },
  {
   "cell_type": "code",
   "execution_count": 61,
   "metadata": {},
   "outputs": [
    {
     "name": "stdout",
     "output_type": "stream",
     "text": [
      "Sum of top 10 most answered job role frequencies: 29.53%\n"
     ]
    }
   ],
   "source": [
    "print(f'Sum of top 10 most answered job role frequencies: {desired_job[\"Percentage (%)\"].iloc[:10].sum().round(2)}%')"
   ]
  },
  {
   "cell_type": "markdown",
   "metadata": {},
   "source": [
    "Desired job roles answers that include either the expression 'Web Developer' or 'Mobile Developer' in the description:"
   ]
  },
  {
   "cell_type": "code",
   "execution_count": 62,
   "metadata": {},
   "outputs": [
    {
     "name": "stdout",
     "output_type": "stream",
     "text": [
      "Desired web or mobile job role unique answers: 2918\n",
      "Percentage from total unique job role answers: 90.82%\n",
      "Percentage from total answers in survey: 86.24%\n"
     ]
    }
   ],
   "source": [
    "web_or_mobile = desired_job['Desired Job Role'].str.contains(\n",
    "    '(?:Web Developer|Mobile Developer)', regex=True\n",
    "    )\n",
    "\n",
    "web_mobile = desired_job[web_or_mobile]\n",
    "\n",
    "web_mobile_perc = round((web_mobile.shape[0]*100/desired_job.shape[0]), 2)\n",
    "\n",
    "print(f'Desired web or mobile job role unique answers: {web_mobile.shape[0]}')\n",
    "print(f'Percentage from total unique job role answers: {web_mobile_perc}%')\n",
    "print(f'Percentage from total answers in survey: {web_mobile[\"Percentage (%)\"].sum().round(2)}%')"
   ]
  },
  {
   "cell_type": "markdown",
   "metadata": {},
   "source": [
    "Looking more closely to the top 10 desired job roles, we can see that most of the jobs contain the expression 'Web Developer' while 'Mobile Developer' appears as the fifth most popular desired job role. Furthermore, we also know that 86.24% of the respondents that answered to the job role question report interest in web or mobile development, which assures us that the data in hand is, at least partially, adequate to the type of exploration we desire to undertake - mind that 38.47% of the respondents did not answer this question. Figure 1 below, summarizes these findings. "
   ]
  },
  {
   "cell_type": "code",
   "execution_count": 63,
   "metadata": {},
   "outputs": [
    {
     "data": {
      "image/png": "[encoded data removed]",
      "text/plain": [
       "<Figure size 864x432 with 2 Axes>"
      ]
     },
     "metadata": {
      "needs_background": "light"
     },
     "output_type": "display_data"
    }
   ],
   "source": [
    "top10 = desired_job.head(10)\n",
    "\n",
    "fig = plt.figure(figsize=(12, 6))\n",
    "\n",
    "plt.style.use('seaborn-v0_8')\n",
    "\n",
    "\n",
    "fig.suptitle('Figure 1', fontsize=16, x=0.62)\n",
    "\n",
    "\n",
    "ax1 = plt.subplot(1, 2, 1)\n",
    "\n",
    "ax2 = plt.subplot(1, 2, 2)\n",
    "\n",
    "\n",
    "# Horizontal bar plot.\n",
    "ax1.set_title('Top 10 Most Popular Desired Job Roles')\n",
    "\n",
    "ax1.barh(y=top10['Desired Job Role'],\n",
    "         width=top10['Percentage (%)'])\n",
    "\n",
    "ax1.invert_yaxis()  # descending order\n",
    "\n",
    "ax1.set_xlabel('Percentage of Total')\n",
    "\n",
    "\n",
    "# Vertical bar plot.\n",
    "ax2.set_title('Desired Job Roles: Web and Mobile vs Total')\n",
    "\n",
    "# X axis labels.\n",
    "ax2_bar_labels = ['Total Job Roles', 'Web or Mobile Developer']\n",
    "\n",
    "graph_2 = ax2.bar(x=[0, 1],\n",
    "                  height=[desired_job['Count Answers'].sum(), web_mobile['Count Answers'].sum()],\n",
    "                  tick_label=ax2_bar_labels)\n",
    "\n",
    "\n",
    "# Top of the bars label values.\n",
    "ax2_bar_values = [desired_job['Count Answers'].sum(), web_mobile['Count Answers'].sum()]\n",
    "\n",
    "i = 0\n",
    "for bar in graph_2:\n",
    "    width = bar.get_width()\n",
    "    height = bar.get_height()\n",
    "    x, y = bar.get_xy()\n",
    "    plt.text(x+width/2,\n",
    "             y+height*1.02,\n",
    "             ax2_bar_values[i],\n",
    "             ha='center',\n",
    "             weight='bold')\n",
    "    i += 1\n",
    "\n",
    "\n",
    "plt.tight_layout()\n",
    "\n",
    "plt.show()"
   ]
  },
  {
   "cell_type": "markdown",
   "metadata": {},
   "source": [
    "### Refining The Data Set And Quantifying The Number Of Respondents By Country Of Residence\n",
    "\n",
    "`survey_2` excludes rows without a response (`NaN`) in the `JobRoleInterest` column. This will narrow down the sample to respondents that clearly pursuit e-learning as an investment towards finding a job role in the IT sector, more specifically in either web or mobile development. We can assume this way that this group of respondents is willing to actively search in the market for e-learning content."
   ]
  },
  {
   "cell_type": "code",
   "execution_count": 64,
   "metadata": {},
   "outputs": [],
   "source": [
    "# Removing rows where `JobRoleInterest` has missing values.  \n",
    "jobrole_not_null = survey['JobRoleInterest'].notnull()\n",
    "\n",
    "survey_2 = survey[jobrole_not_null]"
   ]
  },
  {
   "cell_type": "markdown",
   "metadata": {},
   "source": [
    "Grouping respondents by country of residence:"
   ]
  },
  {
   "cell_type": "code",
   "execution_count": 65,
   "metadata": {},
   "outputs": [],
   "source": [
    "country_res_freq_abs = (\n",
    "    survey_2['CountryLive']\n",
    "    .value_counts()\n",
    "    .sort_values(ascending=False)\n",
    ")\n",
    "\n",
    "country_res_freq_rel = (\n",
    "    survey_2['CountryLive']\n",
    "    .value_counts(normalize=True)\n",
    "    .sort_values(ascending=False)\n",
    "    .round(3)*100\n",
    ")"
   ]
  },
  {
   "cell_type": "markdown",
   "metadata": {},
   "source": [
    "Frequency distribution by country, of the answers in the survey, after filtering."
   ]
  },
  {
   "cell_type": "code",
   "execution_count": 66,
   "metadata": {},
   "outputs": [
    {
     "data": {
      "text/html": [
       "<div>\n",
       "<style scoped>\n",
       "    .dataframe tbody tr th:only-of-type {\n",
       "        vertical-align: middle;\n",
       "    }\n",
       "\n",
       "    .dataframe tbody tr th {\n",
       "        vertical-align: top;\n",
       "    }\n",
       "\n",
       "    .dataframe thead th {\n",
       "        text-align: right;\n",
       "    }\n",
       "</style>\n",
       "<table border=\"1\" class=\"dataframe\">\n",
       "  <thead>\n",
       "    <tr style=\"text-align: right;\">\n",
       "      <th></th>\n",
       "      <th>Absolute</th>\n",
       "      <th>Relative (%)</th>\n",
       "    </tr>\n",
       "  </thead>\n",
       "  <tbody>\n",
       "    <tr>\n",
       "      <th>United States of America</th>\n",
       "      <td>3125</td>\n",
       "      <td>45.7</td>\n",
       "    </tr>\n",
       "    <tr>\n",
       "      <th>India</th>\n",
       "      <td>528</td>\n",
       "      <td>7.7</td>\n",
       "    </tr>\n",
       "    <tr>\n",
       "      <th>United Kingdom</th>\n",
       "      <td>315</td>\n",
       "      <td>4.6</td>\n",
       "    </tr>\n",
       "    <tr>\n",
       "      <th>Canada</th>\n",
       "      <td>260</td>\n",
       "      <td>3.8</td>\n",
       "    </tr>\n",
       "    <tr>\n",
       "      <th>Poland</th>\n",
       "      <td>131</td>\n",
       "      <td>1.9</td>\n",
       "    </tr>\n",
       "    <tr>\n",
       "      <th>Brazil</th>\n",
       "      <td>129</td>\n",
       "      <td>1.9</td>\n",
       "    </tr>\n",
       "    <tr>\n",
       "      <th>Germany</th>\n",
       "      <td>125</td>\n",
       "      <td>1.8</td>\n",
       "    </tr>\n",
       "    <tr>\n",
       "      <th>Australia</th>\n",
       "      <td>112</td>\n",
       "      <td>1.6</td>\n",
       "    </tr>\n",
       "    <tr>\n",
       "      <th>Russia</th>\n",
       "      <td>102</td>\n",
       "      <td>1.5</td>\n",
       "    </tr>\n",
       "    <tr>\n",
       "      <th>Ukraine</th>\n",
       "      <td>89</td>\n",
       "      <td>1.3</td>\n",
       "    </tr>\n",
       "  </tbody>\n",
       "</table>\n",
       "</div>"
      ],
      "text/plain": [
       "                          Absolute  Relative (%)\n",
       "United States of America      3125          45.7\n",
       "India                          528           7.7\n",
       "United Kingdom                 315           4.6\n",
       "Canada                         260           3.8\n",
       "Poland                         131           1.9\n",
       "Brazil                         129           1.9\n",
       "Germany                        125           1.8\n",
       "Australia                      112           1.6\n",
       "Russia                         102           1.5\n",
       "Ukraine                         89           1.3"
      ]
     },
     "execution_count": 66,
     "metadata": {},
     "output_type": "execute_result"
    }
   ],
   "source": [
    "country_res_freq_table = pd.DataFrame(\n",
    "    {\n",
    "        'Absolute': country_res_freq_abs,\n",
    "        'Relative (%)': country_res_freq_rel\n",
    "    }\n",
    ")\n",
    "\n",
    "country_res_freq_table.head(10)"
   ]
  },
  {
   "cell_type": "markdown",
   "metadata": {},
   "source": [
    "Number of countries represented in the 2017 survey:"
   ]
  },
  {
   "cell_type": "code",
   "execution_count": 67,
   "metadata": {},
   "outputs": [
    {
     "data": {
      "text/plain": [
       "137"
      ]
     },
     "execution_count": 67,
     "metadata": {},
     "output_type": "execute_result"
    }
   ],
   "source": [
    "country_res_freq_table.shape[0]"
   ]
  },
  {
   "cell_type": "markdown",
   "metadata": {},
   "source": [
    "`country_res_freq_table` groups the respondents by country of residence. As we can see, the large majority of respondents lives in the US (45.7%), while the rest of the countries, 136 of them, account for the other half of the respondents' residency. The middle ground is formed by India, U.K. and Canada, where approx. 7.7, 4.6, and 3.8 percent of the respondents live in, respectively. All other countries below Canada have a very small representation, with each one being less than 2% of the whole. Given this picture, it may be more interesting to compare the aforementioned top 4 countries/markets, in order to understand which similarities and differences may differentiate them as better or worst markets to advertise in."
   ]
  },
  {
   "cell_type": "markdown",
   "metadata": {},
   "source": [
    "## Assessing The Willingness To Pay Of E-learners \n",
    "---\n",
    "\n",
    "The survey provided by _freeDataCamp_ is very comprehensive, and can give many clues on how to profile the target consumer. It provides essential information, such as:\n",
    " - Money spent on learning content (`MoneyForLearning`). \n",
    " - Months spent learning (`MonthsProgramming`).\n",
    " - Events and bootcamps attended.\n",
    " - Digital platforms, resources, and specialized media (podcasts, blogs, etc.) consumed.\n",
    " \n",
    " \n",
    "For now we'll be focusing on some data cleaning and data transformation, that can give us a term of comparison between the monthly cost of our company's product and how much are e-learners currently spending on a monthly basis:\n",
    "- Some respondents answered that they were learning at `0` months; to avoid later on division errors, we'll assume that learning under a month is equivalent to be learning 'up to one month' (`1`).\n",
    "\n",
    "\n",
    "- Build a ratio -`learn_monthly_expend`, that informs of how much each student spends per month on learning (hereby, also designated in short as 'monthly expenditure').\n",
    "\n",
    "\n",
    "- We'll be trimming the data set again, excluding the rows/answers which miss the value on `learn_monthly_expend`.\n",
    "\n",
    "Note that we're using the term of willingness to pay because we are focusing on what respondents are actually spending in e-learning at the time of the survey, which may differ from their purchasing power. Although the purchasing power of a respondent can affect the willingness to pay for a given product, it doesn't mean that a high purchasing power individual cannot have a low willingness to pay for a given product, and vice-versa."
   ]
  },
  {
   "cell_type": "code",
   "execution_count": 68,
   "metadata": {},
   "outputs": [],
   "source": [
    "# Suppressing `SettingWithCopyWarning`.\n",
    "pd.options.mode.chained_assignment = None  # default='warn'\n",
    "\n",
    "survey_2['MonthsProgramming'] = survey_2['MonthsProgramming'].replace(0, 1)\n",
    "\n",
    "survey_2['learn_monthly_expend'] = survey_2['MoneyForLearning'] / survey_2['MonthsProgramming']\n",
    "\n",
    "survey_3 = survey_2[survey_2['learn_monthly_expend'].notnull()]"
   ]
  },
  {
   "cell_type": "markdown",
   "metadata": {},
   "source": [
    "### Analyzing The Average Monthly Learning Expenditure By Country, Focusing On US, India, The United Kingdom And Canada\n",
    "\n",
    "Compiling the mean, median and modes for the top four countries/markets:"
   ]
  },
  {
   "cell_type": "code",
   "execution_count": 69,
   "metadata": {},
   "outputs": [
    {
     "data": {
      "text/html": [
       "<div>\n",
       "<style scoped>\n",
       "    .dataframe tbody tr th:only-of-type {\n",
       "        vertical-align: middle;\n",
       "    }\n",
       "\n",
       "    .dataframe tbody tr th {\n",
       "        vertical-align: top;\n",
       "    }\n",
       "\n",
       "    .dataframe thead th {\n",
       "        text-align: right;\n",
       "    }\n",
       "</style>\n",
       "<table border=\"1\" class=\"dataframe\">\n",
       "  <thead>\n",
       "    <tr style=\"text-align: right;\">\n",
       "      <th></th>\n",
       "      <th>USA</th>\n",
       "      <th>India</th>\n",
       "      <th>UK</th>\n",
       "      <th>Canada</th>\n",
       "    </tr>\n",
       "  </thead>\n",
       "  <tbody>\n",
       "    <tr>\n",
       "      <th>count</th>\n",
       "      <td>2933.00</td>\n",
       "      <td>463.00</td>\n",
       "      <td>279.00</td>\n",
       "      <td>240.00</td>\n",
       "    </tr>\n",
       "    <tr>\n",
       "      <th>mean</th>\n",
       "      <td>228.00</td>\n",
       "      <td>135.10</td>\n",
       "      <td>45.53</td>\n",
       "      <td>113.51</td>\n",
       "    </tr>\n",
       "    <tr>\n",
       "      <th>std</th>\n",
       "      <td>1940.25</td>\n",
       "      <td>692.96</td>\n",
       "      <td>162.31</td>\n",
       "      <td>441.01</td>\n",
       "    </tr>\n",
       "    <tr>\n",
       "      <th>min</th>\n",
       "      <td>0.00</td>\n",
       "      <td>0.00</td>\n",
       "      <td>0.00</td>\n",
       "      <td>0.00</td>\n",
       "    </tr>\n",
       "    <tr>\n",
       "      <th>25%</th>\n",
       "      <td>0.00</td>\n",
       "      <td>0.00</td>\n",
       "      <td>0.00</td>\n",
       "      <td>0.00</td>\n",
       "    </tr>\n",
       "    <tr>\n",
       "      <th>50%</th>\n",
       "      <td>3.33</td>\n",
       "      <td>0.00</td>\n",
       "      <td>0.00</td>\n",
       "      <td>0.00</td>\n",
       "    </tr>\n",
       "    <tr>\n",
       "      <th>75%</th>\n",
       "      <td>50.00</td>\n",
       "      <td>13.25</td>\n",
       "      <td>20.42</td>\n",
       "      <td>25.00</td>\n",
       "    </tr>\n",
       "    <tr>\n",
       "      <th>max</th>\n",
       "      <td>80000.00</td>\n",
       "      <td>10000.00</td>\n",
       "      <td>1400.00</td>\n",
       "      <td>5000.00</td>\n",
       "    </tr>\n",
       "  </tbody>\n",
       "</table>\n",
       "</div>"
      ],
      "text/plain": [
       "            USA     India       UK   Canada\n",
       "count   2933.00    463.00   279.00   240.00\n",
       "mean     228.00    135.10    45.53   113.51\n",
       "std     1940.25    692.96   162.31   441.01\n",
       "min        0.00      0.00     0.00     0.00\n",
       "25%        0.00      0.00     0.00     0.00\n",
       "50%        3.33      0.00     0.00     0.00\n",
       "75%       50.00     13.25    20.42    25.00\n",
       "max    80000.00  10000.00  1400.00  5000.00"
      ]
     },
     "execution_count": 69,
     "metadata": {},
     "output_type": "execute_result"
    }
   ],
   "source": [
    "usa = survey_3[survey_3['CountryLive'] == 'United States of America'].copy(0)\n",
    "india = survey_3[survey_3['CountryLive'] == 'India'].copy(0)\n",
    "uk = survey_3[survey_3['CountryLive'] == 'United Kingdom'].copy(0)\n",
    "canada = survey_3[survey_3['CountryLive'] == 'Canada'].copy(0)\n",
    "\n",
    "\n",
    "usa_expend = usa['learn_monthly_expend']\n",
    "india_expend = india['learn_monthly_expend']\n",
    "uk_expend = uk['learn_monthly_expend']\n",
    "canada_expend = canada['learn_monthly_expend']\n",
    "\n",
    "\n",
    "country_ = (\n",
    "    pd.DataFrame(\n",
    "        {\n",
    "            'USA':usa_expend.describe(),\n",
    "            'India':india_expend.describe(), \n",
    "            'UK':uk_expend.describe(), \n",
    "            'Canada':canada_expend.describe()\n",
    "        }\n",
    "    )\n",
    "    .round(2)\n",
    ")\n",
    "\n",
    "country_"
   ]
  },
  {
   "cell_type": "markdown",
   "metadata": {},
   "source": [
    "`country_expend_descrip` shows the average monthly learning  expenditure in USD, by country. We can see that there are great discrepancies of magnitude between the mean, the median and the mode (the mode for every country in the panel is `$0`; these are described in the Annex I - 'Monthly Learning Expenditures (2017): mode(s)'). The means are too high if contrasted with the medians, i.e. 50% of all values, are `$0` or close to it. Also, the maximum values for the monthly expenditure in both cases, is suspiciously high; we can see that the difference between the maximum value and the upper percentile (75%), in all cases, is disproportionately high. This discrepancy may indicate that there are outliers that are inflating the mean. We can assume that outliers, in this particular case, are very high monthly expenditures, which may be derived from a mistake/typo in the answer, or maybe, there are e-learning products out there, with prices substantially higher to those practiced by the majority of the e-learning platforms mentioned in the survey. This might be the case of university courses/degrees and bootcamps. "
   ]
  },
  {
   "cell_type": "markdown",
   "metadata": {},
   "source": [
    "### Boxplot Analysis Of Monthy Expenditures\n",
    "\n",
    "Given that the average monthly expenditures are completely uneven, we must decide realistically, what is the consumer target. Provided that most of the high expenditure outliers are correct and are not a typo in the answer, we must observe closely the distribution of values, and then decide whether to and how to remove the extreme outliers."
   ]
  },
  {
   "cell_type": "code",
   "execution_count": 70,
   "metadata": {},
   "outputs": [
    {
     "data": {
      "image/png": "[encoded data removed]",
      "text/plain": [
       "<Figure size 576x396 with 1 Axes>"
      ]
     },
     "metadata": {},
     "output_type": "display_data"
    }
   ],
   "source": [
    "fig, ax = plt.subplots()\n",
    "\n",
    "plt.style.use('seaborn-v0_8')\n",
    "\n",
    "fig.suptitle('Figure 2: Avg. Monthly Learning Expenditure By Country (2017 Survey)', fontsize=16)\n",
    "\n",
    "ax.boxplot(\n",
    "    [usa_expend, uk_expend, canada_expend, india_expend],\n",
    "    labels=['USA', 'UK', 'Canada', 'India']\n",
    ")\n",
    "\n",
    "\n",
    "ax.set_ylabel('USD')\n",
    "\n",
    "\n",
    "plt.show()"
   ]
  },
  {
   "cell_type": "markdown",
   "metadata": {},
   "source": [
    "Based on the boxplots displayed above (Figure 2) we can acknowledge the presence of upper outliers as the boxplots themselves are 'squashed down' near the minimum value, which is `$0`. \n",
    "\n",
    "\n",
    "In order to trim those upper outliers, four possible criteria come to mind:\n",
    "\n",
    "- assess the outliers visually and determine a threshold.\n",
    "\n",
    "\n",
    "- remove the top 1% monthly expenditures or other justified percentage.\n",
    "\n",
    "\n",
    "- remove values over the top whisker, which is calculated resorting to the inter-quartile range (IQR):\n",
    "\n",
    "\\begin{align}\n",
    "IQR = upper_{quartile} - lower_{quartile} \\\\\n",
    "\\text{Upper Box Plot Whisker} = upper_{quartile} + IQR*1.5 \\\\\n",
    "outlier > \\text{Upper Box Plot Whisker} \n",
    "\\end{align}\n",
    "    \n",
    "- compute the Z-score of each value for each Series, and trim the values above 2 or 3 standard-errors. \n",
    "\n",
    "\n",
    "The main idea at this stage is to identify a target group of potential subscribers, but what constitutes a potential subscriber may be difficult to assess by simply using one of the criteria stated above, without any justification behind it. On that matter, one can ask whether high spenders constitute part of the potential market, or in other words, is it fair to assume that someone that is spending for example, \\\\$500+ per month, will be interested in the type of course that costs \\\\$59 per month. One can justify the decision to exclude students in the sub-category of high spending, arguing that perhaps they are more interested in acquiring a more traditional school diploma from an established institution, or perhaps they participated in expensive but short-term learning events. e.g. bootcamps, and aren't so much interested in a monthly subscription based product. Obviously, this justification is conservative and subject to legit criticism, and it is also likely to lead to different conclusions, if the series were trimmed used one of the criteria listed above. In order to trim the extreme outliers, let's instead, exclude all monthly expenditures over 5 times the current monthly subscription price of \\\\$59. This amounts to \\\\$295, which we round to \\\\$300 as our definitive threshold."
   ]
  },
  {
   "cell_type": "code",
   "execution_count": 71,
   "metadata": {},
   "outputs": [],
   "source": [
    "# Applying the threshold as a condition to remove the upper ouliers.\n",
    "usa_expend_trimmed = usa_expend[usa_expend <= 300]\n",
    "india_expend_trimmed = india_expend[india_expend <= 300]\n",
    "uk_expend_trimmed = uk_expend[uk_expend <= 300]\n",
    "canada_expend_trimmed = canada_expend[canada_expend <= 300]"
   ]
  },
  {
   "cell_type": "markdown",
   "metadata": {},
   "source": [
    "`expend_dist_summary_2017` gives the panel of basic statistics for the monthly expenditure series, cleaned of values beyond \\\\$300."
   ]
  },
  {
   "cell_type": "code",
   "execution_count": 72,
   "metadata": {},
   "outputs": [
    {
     "data": {
      "text/html": [
       "<div>\n",
       "<style scoped>\n",
       "    .dataframe tbody tr th:only-of-type {\n",
       "        vertical-align: middle;\n",
       "    }\n",
       "\n",
       "    .dataframe tbody tr th {\n",
       "        vertical-align: top;\n",
       "    }\n",
       "\n",
       "    .dataframe thead th {\n",
       "        text-align: right;\n",
       "    }\n",
       "</style>\n",
       "<table border=\"1\" class=\"dataframe\">\n",
       "  <thead>\n",
       "    <tr style=\"text-align: right;\">\n",
       "      <th></th>\n",
       "      <th>USA</th>\n",
       "      <th>India</th>\n",
       "      <th>UK</th>\n",
       "      <th>Canada</th>\n",
       "    </tr>\n",
       "  </thead>\n",
       "  <tbody>\n",
       "    <tr>\n",
       "      <th>count</th>\n",
       "      <td>2645.00</td>\n",
       "      <td>432.00</td>\n",
       "      <td>271.00</td>\n",
       "      <td>221.00</td>\n",
       "    </tr>\n",
       "    <tr>\n",
       "      <th>mean</th>\n",
       "      <td>25.83</td>\n",
       "      <td>17.96</td>\n",
       "      <td>21.84</td>\n",
       "      <td>19.66</td>\n",
       "    </tr>\n",
       "    <tr>\n",
       "      <th>std</th>\n",
       "      <td>53.01</td>\n",
       "      <td>45.36</td>\n",
       "      <td>47.13</td>\n",
       "      <td>49.57</td>\n",
       "    </tr>\n",
       "    <tr>\n",
       "      <th>min</th>\n",
       "      <td>0.00</td>\n",
       "      <td>0.00</td>\n",
       "      <td>0.00</td>\n",
       "      <td>0.00</td>\n",
       "    </tr>\n",
       "    <tr>\n",
       "      <th>25%</th>\n",
       "      <td>0.00</td>\n",
       "      <td>0.00</td>\n",
       "      <td>0.00</td>\n",
       "      <td>0.00</td>\n",
       "    </tr>\n",
       "    <tr>\n",
       "      <th>50%</th>\n",
       "      <td>0.42</td>\n",
       "      <td>0.00</td>\n",
       "      <td>0.00</td>\n",
       "      <td>0.00</td>\n",
       "    </tr>\n",
       "    <tr>\n",
       "      <th>75%</th>\n",
       "      <td>25.00</td>\n",
       "      <td>8.33</td>\n",
       "      <td>18.33</td>\n",
       "      <td>14.29</td>\n",
       "    </tr>\n",
       "    <tr>\n",
       "      <th>max</th>\n",
       "      <td>300.00</td>\n",
       "      <td>300.00</td>\n",
       "      <td>285.71</td>\n",
       "      <td>300.00</td>\n",
       "    </tr>\n",
       "  </tbody>\n",
       "</table>\n",
       "</div>"
      ],
      "text/plain": [
       "           USA   India      UK  Canada\n",
       "count  2645.00  432.00  271.00  221.00\n",
       "mean     25.83   17.96   21.84   19.66\n",
       "std      53.01   45.36   47.13   49.57\n",
       "min       0.00    0.00    0.00    0.00\n",
       "25%       0.00    0.00    0.00    0.00\n",
       "50%       0.42    0.00    0.00    0.00\n",
       "75%      25.00    8.33   18.33   14.29\n",
       "max     300.00  300.00  285.71  300.00"
      ]
     },
     "execution_count": 72,
     "metadata": {},
     "output_type": "execute_result"
    }
   ],
   "source": [
    "expend_dist_summary_2017 = (\n",
    "    pd.DataFrame(\n",
    "        {\n",
    "            'USA':usa_expend_trimmed.describe(),\n",
    "            'India':india_expend_trimmed.describe(),\n",
    "            'UK':uk_expend_trimmed.describe(),\n",
    "            'Canada':canada_expend_trimmed.describe()}\n",
    "    )\n",
    "    .round(2)\n",
    ")\n",
    "\n",
    "expend_dist_summary_2017"
   ]
  },
  {
   "cell_type": "code",
   "execution_count": 73,
   "metadata": {},
   "outputs": [
    {
     "data": {
      "image/png": "[encoded data removed]",
      "text/plain": [
       "<Figure size 576x396 with 1 Axes>"
      ]
     },
     "metadata": {},
     "output_type": "display_data"
    }
   ],
   "source": [
    "fig, ax = plt.subplots()\n",
    "\n",
    "plt.style.use('seaborn-v0_8')\n",
    "\n",
    "\n",
    "fig.suptitle(\n",
    "    'Figure 3: Avg. Monthly Learning Expenditure - Trimmed Outliers',\n",
    "    fontsize=16\n",
    ")\n",
    "\n",
    "ax.boxplot(\n",
    "    [usa_expend_trimmed, uk_expend_trimmed, canada_expend_trimmed, india_expend_trimmed],\n",
    "    labels=['USA', 'UK', 'Canada', 'India']\n",
    ")\n",
    "\n",
    "\n",
    "ax.set_ylabel('USD')\n",
    "\n",
    "\n",
    "plt.show()"
   ]
  },
  {
   "cell_type": "markdown",
   "metadata": {},
   "source": [
    "As we can see in the latest group of box plots (Figure 3), applying the outlier threshold will trim the data in a way that maximum values are now much closer the mean, even though very far away. We can now even visualize the inter-quartile range of each box plot. Based on the figure and the table displayed above - `expend_dist_summary_2017`, we gather evidence that the US is the best market to advertise in, having the highest number of high paying students of the panel, and the highest number of students overall. Regarding the other countries:\n",
    "\n",
    "- the UK seems to surpass Canada as the second best market to advertise in, having a slightly higher average spending and a market composed of more students.\n",
    "\n",
    "\n",
    "- India at this time, has substantially more potential subscribers than UK and Canada, but the average spending is slightly lower compared with these countries.\n",
    "\n",
    "To conclude on this part of the analysis, USA and the UK seem to be the best markets to advertise in, given the restriction applied to the level of maximum expenditure observed in the original series.   "
   ]
  },
  {
   "cell_type": "markdown",
   "metadata": {},
   "source": [
    "### Choosing The Markets To Invest Based On The Perceived Willingness To Pay Of Potential Costumers\n",
    "\n",
    "How many students spend \\\\$59 or more in learning expenditures? And what if we consider students that spend less than \\\\$59 but can also be perceived as potential subscribers? Lets say that potential subscribers can also be included if they are already spending at least half of the proposed price, i.e. around \\\\$29 in monthly expenditures. Below we register both scenarios.\n",
    "\n",
    "Notes: \n",
    "\n",
    "- By including potential buyers which are currently spending less than the proposed price of our product we are focused in understanding the market potential in terms of costumers; because we are not considering the offering of the product in two different price categories we don't focus the analysis in terms of profit: we expect that potential buyers can be interested in paying \\\\$59 even if they are currently spending less than that. \n",
    "\n",
    "\n",
    "- since the top of the expenditure series have already been trimmed out of values over \\\\$300, in practice we are counting values between ranging from \\\\$29 up to \\\\$300 and from \\\\$59 up to \\\\$300."
   ]
  },
  {
   "cell_type": "code",
   "execution_count": 74,
   "metadata": {},
   "outputs": [
    {
     "data": {
      "text/html": [
       "<div>\n",
       "<style scoped>\n",
       "    .dataframe tbody tr th:only-of-type {\n",
       "        vertical-align: middle;\n",
       "    }\n",
       "\n",
       "    .dataframe tbody tr th {\n",
       "        vertical-align: top;\n",
       "    }\n",
       "\n",
       "    .dataframe thead th {\n",
       "        text-align: right;\n",
       "    }\n",
       "</style>\n",
       "<table border=\"1\" class=\"dataframe\">\n",
       "  <thead>\n",
       "    <tr style=\"text-align: right;\">\n",
       "      <th></th>\n",
       "      <th>$59</th>\n",
       "      <th>$29</th>\n",
       "    </tr>\n",
       "  </thead>\n",
       "  <tbody>\n",
       "    <tr>\n",
       "      <th>Canada</th>\n",
       "      <td>21</td>\n",
       "      <td>35</td>\n",
       "    </tr>\n",
       "    <tr>\n",
       "      <th>India</th>\n",
       "      <td>44</td>\n",
       "      <td>62</td>\n",
       "    </tr>\n",
       "    <tr>\n",
       "      <th>UK</th>\n",
       "      <td>35</td>\n",
       "      <td>55</td>\n",
       "    </tr>\n",
       "    <tr>\n",
       "      <th>USA</th>\n",
       "      <td>376</td>\n",
       "      <td>589</td>\n",
       "    </tr>\n",
       "  </tbody>\n",
       "</table>\n",
       "</div>"
      ],
      "text/plain": [
       "        $59  $29\n",
       "Canada   21   35\n",
       "India    44   62\n",
       "UK       35   55\n",
       "USA     376  589"
      ]
     },
     "execution_count": 74,
     "metadata": {},
     "output_type": "execute_result"
    }
   ],
   "source": [
    "# For $59.\n",
    "usa_over59_count = usa_expend_trimmed[usa_expend_trimmed >= 59].size\n",
    "india_over59_count = india_expend_trimmed[india_expend_trimmed >= 59].size\n",
    "uk_over59_count = uk_expend_trimmed[uk_expend_trimmed >= 59].size\n",
    "canada_over59_count = canada_expend_trimmed[canada_expend_trimmed >= 59].size\n",
    "\n",
    "over_equal59_2017 = (\n",
    "    pd.Series(\n",
    "        {\n",
    "            'USA': usa_over59_count,\n",
    "            'India': india_over59_count,\n",
    "            'UK': uk_over59_count,\n",
    "            'Canada': canada_over59_count,\n",
    "        }\n",
    "    )\n",
    "    .sort_values(ascending=False)\n",
    ")    \n",
    "\n",
    "\n",
    "# For $29.\n",
    "usa_over29_count = usa_expend_trimmed[usa_expend_trimmed >= 29].size\n",
    "india_over29_count = india_expend_trimmed[india_expend_trimmed >= 29].size\n",
    "uk_over29_count = uk_expend_trimmed[uk_expend_trimmed >= 29].size\n",
    "canada_over29_count = canada_expend_trimmed[canada_expend_trimmed >= 29].size\n",
    "\n",
    "\n",
    "over_equal29_2017 = (\n",
    "    pd.Series(\n",
    "        {\n",
    "            'USA': usa_over29_count,\n",
    "            'India': india_over29_count,\n",
    "            'UK': uk_over29_count,\n",
    "            'Canada': canada_over29_count,\n",
    "        }\n",
    "    )\n",
    "    .sort_values(ascending=False)\n",
    ")\n",
    "\n",
    "\n",
    "pd.DataFrame({'$59': over_equal59_2017, '$29': over_equal29_2017}).sort_index()"
   ]
  },
  {
   "cell_type": "markdown",
   "metadata": {},
   "source": [
    "For both cases - `$59` and `$29`, USA appears as the market with more potential subscribers again. What is interesting to see is that India actually exceeds the UK and Canada in students that are already spending a value higher or equal to \\\\$59. Once again, this can be explained by the fact that India registered 432 students (after trimming) compared 271 and 221 of UK and Canada respectively. Given this new piece of information, the fight for the slot of second best market to advertise in appears blurred, and welcomes new data. A follow-up survey to the 2017 could give good hints on which of these markets is growing at a higher pace.  "
   ]
  },
  {
   "cell_type": "markdown",
   "metadata": {},
   "source": [
    "### Some Questions And Answers Derived From The Analysis.\n",
    "---\n",
    "\n",
    "Should the company we represent invest in a second market, which one would it be?\n",
    " \n",
    "- There are arguments in favor of either India, Canada or UK, although with a slight inclination for the former. More elements of analysis should be added so that a more precise/justified answer can be made.\n",
    "\n",
    "---\n",
    " \n",
    "Does it make sense to advertise in more than two countries?\n",
    "\n",
    "- This question makes more sense when seen under the notion of market maturity. If we have data on multiple years it would be easier to arrive at an answer, based on the market growth of each country. The level of established competitors can also be an incentive to search for other markets; in the case of the US, one can expected that its more costly to gain market share than in new markets with high growing potential, such as the case of India. \n",
    "\n",
    "---\n",
    " \n",
    "Does it make sense to split the advertising budget unequally (e.g.: spend 70% to advertise in the US and 30% to advertise in India)?\n",
    "\n",
    "- It may depend on the costs of advertising (business/advertising permits, deals with third party platforms, etc.), but in principle, the market that offers a quicker ROI (return on investment) should weigh in more on the consigned budget.\n",
    "\n",
    "---\n",
    "\n",
    "\n",
    "Does it make sense to advertise only in the US?\n",
    "\n",
    "- Given that these markets are expected to grow, it is important to invest and to be established in new markets from the beginning, as to gain a _[first-mover advantage](https://en.wikipedia.org/wiki/First-mover_advantage)_. Also, the aforementioned advertising costs in India can be potentially lower compared with the other western countries. \n",
    "\n",
    "---\n",
    "\n",
    "If we had a marketing team in our company, would it be better to just send them our results and let them use their domain knowledge to take the best decision?\n",
    "\n",
    "- In the case of having a marketing company it would be wise to coordinate the effort between teams, so that all the expertise could be channeled to reach more refined insights on the subject, and thus more informed decision making. "
   ]
  },
  {
   "cell_type": "markdown",
   "metadata": {},
   "source": [
    "## Conclusion Remarks Based On The Analysis Of The 2017 _freeCodeCamp_ Survey\n",
    "---\n",
    "\n",
    "The analysis shows that the US is the undeniable best choice to advertise in. The perception is that it has, by far, the highest number of potential costumers and also the highest number of potential costumers who are willing to pay more for e-learning services. If the advertising strategy envisions the exploration of other markets, both India and the UK present evidence in their favor, although it is unclear which market might have the highest return on investment, solely based on the information provided in this one survey. To further explore the issue, one possible strategy would be to reach out to the marketing team, asking them to define more precisely the target consumer, based on how much she/he spends on e-learning content, combined with other profile aspects, such as finding out what is the preferred approach to learning, e.g. students that indicate first preference for self-paced 'pay as you go' courses should be seen as the primary target, instead of students that are more interested in bootcamps or college enrolling."
   ]
  },
  {
   "cell_type": "markdown",
   "metadata": {},
   "source": [
    "## Further Exploration - Suggesting A Second Best Market To Invest In\n",
    "---\n",
    "With the support of more information - freeCodeCamp's 2016 and 2018 surveys, lets make a quick comparison between potential secondary markets to advertise in, based on the framework used so far."
   ]
  },
  {
   "cell_type": "markdown",
   "metadata": {},
   "source": [
    "### The 2016 And 2018 Data Sets"
   ]
  },
  {
   "cell_type": "code",
   "execution_count": 75,
   "metadata": {},
   "outputs": [],
   "source": [
    "# `survey_2016` also raises a warning about mixed types in the \n",
    "# columns below, therefore we specify the type manually.\n",
    "# slight name change compared with 2017's survey ('JobInterestOther').\n",
    "dtype_dic_2016 = {\n",
    "    'CodeEventOther': 'str',\n",
    "    'JobRoleInterestOther': 'str'\n",
    "}  \n",
    "\n",
    "survey_2016 = pd.read_csv('2016-FCC-New-Coders-Survey-Data.csv', dtype=dtype_dic_2016)\n",
    "survey_2018 = pd.read_csv('2018-fCC-New-Coders-Survey-Data.csv')\n",
    "\n",
    "# copying 2017's survey into a new identifier.\n",
    "survey_2017 = survey.copy()"
   ]
  },
  {
   "cell_type": "markdown",
   "metadata": {},
   "source": [
    "Basic info on the 2016 and 2018 data sets:\n",
    "\n",
    "- Note: full list of columns' names in the Annex I. "
   ]
  },
  {
   "cell_type": "code",
   "execution_count": 76,
   "metadata": {},
   "outputs": [
    {
     "name": "stdout",
     "output_type": "stream",
     "text": [
      "<class 'pandas.core.frame.DataFrame'>\n",
      "RangeIndex: 15620 entries, 0 to 15619\n",
      "Columns: 113 entries, Age to StudentDebtOwe\n",
      "dtypes: float64(85), object(28)\n",
      "memory usage: 13.5+ MB\n"
     ]
    }
   ],
   "source": [
    "survey_2016.info()"
   ]
  },
  {
   "cell_type": "code",
   "execution_count": 77,
   "metadata": {},
   "outputs": [
    {
     "name": "stdout",
     "output_type": "stream",
     "text": [
      "<class 'pandas.core.frame.DataFrame'>\n",
      "RangeIndex: 28397 entries, 0 to 28396\n",
      "Columns: 137 entries, ID to time_total_sec\n",
      "dtypes: float64(106), int64(3), object(28)\n",
      "memory usage: 29.7+ MB\n"
     ]
    }
   ],
   "source": [
    "survey_2018.info()"
   ]
  },
  {
   "cell_type": "markdown",
   "metadata": {},
   "source": [
    "The first task is to repeat the filtering of both data sets in order to include only students which desire to be either a web or a mobile developer. Contrary to 2016 and 2017 versions, the 2018 survey does not have the column 'JobRoleInterest' but has for each working field, within the job role possibilities, binary columns ('1' if interested, else '0'). To filter out the 2018 data set, we include only rows which have the value `1` in at least one of the columns below:\n",
    "\n",
    "- `job_intr_fllstck` (Full Stack)\n",
    "- `job_intr_backend` (Back End)\n",
    "- `job_intr_frntend` (Front End)\n",
    "- `job_intr_mobile`  (Mobile)\n",
    "- `job_intr_devops`  (DevOps / SysAdmin)   \n",
    "- `job_intr_datasci` (Data Science)  \n",
    "- `job_intr_teacher` (Teacher / Trainer / Developer Evangelist)\n",
    "- `job_intr_qa_engn` (Quality Assurance Engineer)  \n",
    "- `job_intr_ux_engn` (User Experience Designer)  \n",
    "- `job_intr_projm`   (Project Management)  \n",
    "- `job_intr_gamedev` (Game Development) \n",
    "- `job_intr_infosec` (Information Security)   \n",
    "- `job_intr_dataengn`(Data Engineer)\n",
    "- `job_intr_other`   (other job)\n",
    "\n",
    "\n",
    "#### Removing rows without answered desired job role(s) "
   ]
  },
  {
   "cell_type": "markdown",
   "metadata": {},
   "source": [
    "**2016**"
   ]
  },
  {
   "cell_type": "code",
   "execution_count": 78,
   "metadata": {},
   "outputs": [],
   "source": [
    "jobrole_not_null_2016 = survey_2016['JobRoleInterest'].notnull()\n",
    "\n",
    "survey_2016_2 = survey_2016[jobrole_not_null_2016]"
   ]
  },
  {
   "cell_type": "markdown",
   "metadata": {},
   "source": [
    "**2017**\n",
    "\n",
    "(Already done in the previous analysis; copying the 2017 DataFrame into a new identifier)"
   ]
  },
  {
   "cell_type": "code",
   "execution_count": 79,
   "metadata": {},
   "outputs": [],
   "source": [
    "survey_2017_2 = survey_2.copy()"
   ]
  },
  {
   "cell_type": "markdown",
   "metadata": {},
   "source": [
    "**2018**"
   ]
  },
  {
   "cell_type": "code",
   "execution_count": 80,
   "metadata": {},
   "outputs": [],
   "source": [
    "jobrole_not_null_2018_cond = survey_2018.loc[:, 'job_intr_fllstck':'job_intr_other'].notnull()\n",
    "\n",
    "jobrole_not_null_2018_any = jobrole_not_null_2018_cond.any(axis=1).rename('at_least_one_jobrole')\n",
    "\n",
    "survey_2018 = survey_2018.join(jobrole_not_null_2018_any)\n",
    "\n",
    "survey_2018_2 = survey_2018[survey_2018['at_least_one_jobrole']].reset_index(drop=True)"
   ]
  },
  {
   "cell_type": "markdown",
   "metadata": {},
   "source": [
    "### The Absolute And Relative Frequency Distribution Of The Top 10 Countries With More Students"
   ]
  },
  {
   "cell_type": "markdown",
   "metadata": {},
   "source": [
    "**2016**"
   ]
  },
  {
   "cell_type": "code",
   "execution_count": 81,
   "metadata": {},
   "outputs": [],
   "source": [
    "country_res_freq_abs_2016 = survey_2016_2['CountryLive'].value_counts().sort_values(ascending=False)\n",
    "\n",
    "country_res_freq_rel_2016 = (\n",
    "    survey_2016_2['CountryLive']\n",
    "    .value_counts(normalize=True)\n",
    "    .sort_values(ascending=False)\n",
    "    .round(3)*100\n",
    ")"
   ]
  },
  {
   "cell_type": "code",
   "execution_count": 82,
   "metadata": {},
   "outputs": [
    {
     "data": {
      "text/html": [
       "<div>\n",
       "<style scoped>\n",
       "    .dataframe tbody tr th:only-of-type {\n",
       "        vertical-align: middle;\n",
       "    }\n",
       "\n",
       "    .dataframe tbody tr th {\n",
       "        vertical-align: top;\n",
       "    }\n",
       "\n",
       "    .dataframe thead th {\n",
       "        text-align: right;\n",
       "    }\n",
       "</style>\n",
       "<table border=\"1\" class=\"dataframe\">\n",
       "  <thead>\n",
       "    <tr style=\"text-align: right;\">\n",
       "      <th></th>\n",
       "      <th>Absolute</th>\n",
       "      <th>Relative (%)</th>\n",
       "    </tr>\n",
       "  </thead>\n",
       "  <tbody>\n",
       "    <tr>\n",
       "      <th>United States of America</th>\n",
       "      <td>2979</td>\n",
       "      <td>52.5</td>\n",
       "    </tr>\n",
       "    <tr>\n",
       "      <th>India</th>\n",
       "      <td>382</td>\n",
       "      <td>6.7</td>\n",
       "    </tr>\n",
       "    <tr>\n",
       "      <th>United Kingdom</th>\n",
       "      <td>242</td>\n",
       "      <td>4.3</td>\n",
       "    </tr>\n",
       "    <tr>\n",
       "      <th>Canada</th>\n",
       "      <td>221</td>\n",
       "      <td>3.9</td>\n",
       "    </tr>\n",
       "    <tr>\n",
       "      <th>Australia</th>\n",
       "      <td>122</td>\n",
       "      <td>2.2</td>\n",
       "    </tr>\n",
       "    <tr>\n",
       "      <th>Poland</th>\n",
       "      <td>105</td>\n",
       "      <td>1.9</td>\n",
       "    </tr>\n",
       "    <tr>\n",
       "      <th>Russia</th>\n",
       "      <td>98</td>\n",
       "      <td>1.7</td>\n",
       "    </tr>\n",
       "    <tr>\n",
       "      <th>Ukraine</th>\n",
       "      <td>96</td>\n",
       "      <td>1.7</td>\n",
       "    </tr>\n",
       "    <tr>\n",
       "      <th>Germany</th>\n",
       "      <td>80</td>\n",
       "      <td>1.4</td>\n",
       "    </tr>\n",
       "    <tr>\n",
       "      <th>Brazil</th>\n",
       "      <td>73</td>\n",
       "      <td>1.3</td>\n",
       "    </tr>\n",
       "  </tbody>\n",
       "</table>\n",
       "</div>"
      ],
      "text/plain": [
       "                          Absolute  Relative (%)\n",
       "United States of America      2979          52.5\n",
       "India                          382           6.7\n",
       "United Kingdom                 242           4.3\n",
       "Canada                         221           3.9\n",
       "Australia                      122           2.2\n",
       "Poland                         105           1.9\n",
       "Russia                          98           1.7\n",
       "Ukraine                         96           1.7\n",
       "Germany                         80           1.4\n",
       "Brazil                          73           1.3"
      ]
     },
     "execution_count": 82,
     "metadata": {},
     "output_type": "execute_result"
    }
   ],
   "source": [
    "country_res_freq_table_2016 = pd.DataFrame(\n",
    "    {\n",
    "        'Absolute': country_res_freq_abs_2016,\n",
    "        'Relative (%)': country_res_freq_rel_2016\n",
    "    }\n",
    ")\n",
    "\n",
    "country_res_freq_table_2016.head(10)"
   ]
  },
  {
   "cell_type": "markdown",
   "metadata": {},
   "source": [
    "**2018**"
   ]
  },
  {
   "cell_type": "code",
   "execution_count": 83,
   "metadata": {},
   "outputs": [
    {
     "data": {
      "text/html": [
       "<div>\n",
       "<style scoped>\n",
       "    .dataframe tbody tr th:only-of-type {\n",
       "        vertical-align: middle;\n",
       "    }\n",
       "\n",
       "    .dataframe tbody tr th {\n",
       "        vertical-align: top;\n",
       "    }\n",
       "\n",
       "    .dataframe thead th {\n",
       "        text-align: right;\n",
       "    }\n",
       "</style>\n",
       "<table border=\"1\" class=\"dataframe\">\n",
       "  <thead>\n",
       "    <tr style=\"text-align: right;\">\n",
       "      <th></th>\n",
       "      <th>Absolute</th>\n",
       "      <th>Relative (%)</th>\n",
       "    </tr>\n",
       "  </thead>\n",
       "  <tbody>\n",
       "    <tr>\n",
       "      <th>United States of America</th>\n",
       "      <td>5160</td>\n",
       "      <td>37.8</td>\n",
       "    </tr>\n",
       "    <tr>\n",
       "      <th>India</th>\n",
       "      <td>1916</td>\n",
       "      <td>14.0</td>\n",
       "    </tr>\n",
       "    <tr>\n",
       "      <th>United Kingdom</th>\n",
       "      <td>556</td>\n",
       "      <td>4.1</td>\n",
       "    </tr>\n",
       "    <tr>\n",
       "      <th>Canada</th>\n",
       "      <td>407</td>\n",
       "      <td>3.0</td>\n",
       "    </tr>\n",
       "    <tr>\n",
       "      <th>Nigeria</th>\n",
       "      <td>319</td>\n",
       "      <td>2.3</td>\n",
       "    </tr>\n",
       "    <tr>\n",
       "      <th>Brazil</th>\n",
       "      <td>282</td>\n",
       "      <td>2.1</td>\n",
       "    </tr>\n",
       "    <tr>\n",
       "      <th>Germany</th>\n",
       "      <td>260</td>\n",
       "      <td>1.9</td>\n",
       "    </tr>\n",
       "    <tr>\n",
       "      <th>Russia</th>\n",
       "      <td>249</td>\n",
       "      <td>1.8</td>\n",
       "    </tr>\n",
       "    <tr>\n",
       "      <th>Australia</th>\n",
       "      <td>184</td>\n",
       "      <td>1.3</td>\n",
       "    </tr>\n",
       "    <tr>\n",
       "      <th>Spain</th>\n",
       "      <td>170</td>\n",
       "      <td>1.2</td>\n",
       "    </tr>\n",
       "  </tbody>\n",
       "</table>\n",
       "</div>"
      ],
      "text/plain": [
       "                          Absolute  Relative (%)\n",
       "United States of America      5160          37.8\n",
       "India                         1916          14.0\n",
       "United Kingdom                 556           4.1\n",
       "Canada                         407           3.0\n",
       "Nigeria                        319           2.3\n",
       "Brazil                         282           2.1\n",
       "Germany                        260           1.9\n",
       "Russia                         249           1.8\n",
       "Australia                      184           1.3\n",
       "Spain                          170           1.2"
      ]
     },
     "execution_count": 83,
     "metadata": {},
     "output_type": "execute_result"
    }
   ],
   "source": [
    "# 'country_live' instead of 'CountryLive' in the 2018 data set.\n",
    "country_res_freq_abs_2018 = (\n",
    "    survey_2018_2['country_live']\n",
    "    .value_counts()\n",
    "    .sort_values(ascending=False)\n",
    ")\n",
    "\n",
    "country_res_freq_rel_2018 = (\n",
    "    survey_2018_2['country_live']\n",
    "    .value_counts(normalize=True)\n",
    "    .sort_values(ascending=False)\n",
    "    .round(3)*100\n",
    ")\n",
    "\n",
    "\n",
    "country_res_freq_table_2018 = pd.DataFrame(\n",
    "    {\n",
    "        'Absolute': country_res_freq_abs_2018,\n",
    "        'Relative (%)': country_res_freq_rel_2018\n",
    "    }\n",
    ")\n",
    "\n",
    "country_res_freq_table_2018.head(10)"
   ]
  },
  {
   "cell_type": "markdown",
   "metadata": {},
   "source": [
    "From the frequency tables above for 2016 and 2018, we can see that the top 4 is identical for all three years (including 2017), thus we can compare the values side-by-side in order to have a better perspective of year-by-year changes."
   ]
  },
  {
   "cell_type": "markdown",
   "metadata": {},
   "source": [
    "### Which Markets Are Growing And How Do They Compare With The Evolution Of The Business Sector?\n",
    "\n",
    "One of the advantages of having the same survey for several years is that we can compare directly the year-over-year changes in the variables. In this case, we are interested in knowing if the e-learning sector is growing as a whole and which markets may be the main drivers behind that growth. We assume that the number of respondents/answers which have at least one desired job role can be seen as a proxy to the e-learning market in the year each survey was taken."
   ]
  },
  {
   "cell_type": "code",
   "execution_count": 84,
   "metadata": {},
   "outputs": [],
   "source": [
    "# Copying 2017 results into new identifier.\n",
    "country_res_freq_table_2017 = country_res_freq_table.copy()\n",
    "\n",
    "countries = ['United States of America', 'India', 'United Kingdom', 'Canada']\n",
    "\n",
    "top_4_by_country = pd.DataFrame(\n",
    "    {\n",
    "        '2016':country_res_freq_table_2016.loc[countries, 'Relative (%)'],\n",
    "        '2017':country_res_freq_table_2017.loc[countries, 'Relative (%)'],\n",
    "        '2018':country_res_freq_table_2018.loc[countries, 'Relative (%)']\n",
    "    }\n",
    ")"
   ]
  },
  {
   "cell_type": "markdown",
   "metadata": {},
   "source": [
    "#### Comparing the frequency distribution among the the top 4 countries across three years. "
   ]
  },
  {
   "cell_type": "code",
   "execution_count": 85,
   "metadata": {},
   "outputs": [
    {
     "data": {
      "text/html": [
       "<div>\n",
       "<style scoped>\n",
       "    .dataframe tbody tr th:only-of-type {\n",
       "        vertical-align: middle;\n",
       "    }\n",
       "\n",
       "    .dataframe tbody tr th {\n",
       "        vertical-align: top;\n",
       "    }\n",
       "\n",
       "    .dataframe thead th {\n",
       "        text-align: right;\n",
       "    }\n",
       "</style>\n",
       "<table border=\"1\" class=\"dataframe\">\n",
       "  <thead>\n",
       "    <tr style=\"text-align: right;\">\n",
       "      <th></th>\n",
       "      <th>2016</th>\n",
       "      <th>2017</th>\n",
       "      <th>2018</th>\n",
       "    </tr>\n",
       "  </thead>\n",
       "  <tbody>\n",
       "    <tr>\n",
       "      <th>United States of America</th>\n",
       "      <td>52.5</td>\n",
       "      <td>45.7</td>\n",
       "      <td>37.8</td>\n",
       "    </tr>\n",
       "    <tr>\n",
       "      <th>India</th>\n",
       "      <td>6.7</td>\n",
       "      <td>7.7</td>\n",
       "      <td>14.0</td>\n",
       "    </tr>\n",
       "    <tr>\n",
       "      <th>United Kingdom</th>\n",
       "      <td>4.3</td>\n",
       "      <td>4.6</td>\n",
       "      <td>4.1</td>\n",
       "    </tr>\n",
       "    <tr>\n",
       "      <th>Canada</th>\n",
       "      <td>3.9</td>\n",
       "      <td>3.8</td>\n",
       "      <td>3.0</td>\n",
       "    </tr>\n",
       "  </tbody>\n",
       "</table>\n",
       "</div>"
      ],
      "text/plain": [
       "                          2016  2017  2018\n",
       "United States of America  52.5  45.7  37.8\n",
       "India                      6.7   7.7  14.0\n",
       "United Kingdom             4.3   4.6   4.1\n",
       "Canada                     3.9   3.8   3.0"
      ]
     },
     "execution_count": 85,
     "metadata": {},
     "output_type": "execute_result"
    }
   ],
   "source": [
    "top_4_by_country"
   ]
  },
  {
   "cell_type": "markdown",
   "metadata": {},
   "source": [
    "As we can see in the table above, India is consistently growing its share, while the other countries represent less of the global market in 2018, than in previous years."
   ]
  },
  {
   "cell_type": "markdown",
   "metadata": {},
   "source": [
    "#### Year-over-year percentage change in the number of respondents (with at least one desired job role), for the top 4 countries."
   ]
  },
  {
   "cell_type": "code",
   "execution_count": 86,
   "metadata": {},
   "outputs": [
    {
     "data": {
      "text/html": [
       "<div>\n",
       "<style scoped>\n",
       "    .dataframe tbody tr th:only-of-type {\n",
       "        vertical-align: middle;\n",
       "    }\n",
       "\n",
       "    .dataframe tbody tr th {\n",
       "        vertical-align: top;\n",
       "    }\n",
       "\n",
       "    .dataframe thead th {\n",
       "        text-align: right;\n",
       "    }\n",
       "</style>\n",
       "<table border=\"1\" class=\"dataframe\">\n",
       "  <thead>\n",
       "    <tr style=\"text-align: right;\">\n",
       "      <th></th>\n",
       "      <th>2016-2017</th>\n",
       "      <th>2017-2018</th>\n",
       "    </tr>\n",
       "  </thead>\n",
       "  <tbody>\n",
       "    <tr>\n",
       "      <th>United States of America</th>\n",
       "      <td>-12.95</td>\n",
       "      <td>-17.29</td>\n",
       "    </tr>\n",
       "    <tr>\n",
       "      <th>India</th>\n",
       "      <td>14.93</td>\n",
       "      <td>81.82</td>\n",
       "    </tr>\n",
       "    <tr>\n",
       "      <th>United Kingdom</th>\n",
       "      <td>6.98</td>\n",
       "      <td>-10.87</td>\n",
       "    </tr>\n",
       "    <tr>\n",
       "      <th>Canada</th>\n",
       "      <td>-2.56</td>\n",
       "      <td>-21.05</td>\n",
       "    </tr>\n",
       "    <tr>\n",
       "      <th>All countries</th>\n",
       "      <td>20.62</td>\n",
       "      <td>99.81</td>\n",
       "    </tr>\n",
       "  </tbody>\n",
       "</table>\n",
       "</div>"
      ],
      "text/plain": [
       "                          2016-2017  2017-2018\n",
       "United States of America     -12.95     -17.29\n",
       "India                         14.93      81.82\n",
       "United Kingdom                 6.98     -10.87\n",
       "Canada                        -2.56     -21.05\n",
       "All countries                 20.62      99.81"
      ]
     },
     "execution_count": 86,
     "metadata": {},
     "output_type": "execute_result"
    }
   ],
   "source": [
    "change_2016_17 = ((top_4_by_country['2017'] - top_4_by_country['2016']) / top_4_by_country['2016'])*100\n",
    "\n",
    "change_2017_18 = ((top_4_by_country['2018'] - top_4_by_country['2017']) / top_4_by_country['2017'])*100\n",
    "\n",
    "change_2016_17 = change_2016_17.rename('2016-2017').round(2)\n",
    "\n",
    "change_2017_18 = change_2017_18.rename('2017-2018').round(2)\n",
    "\n",
    "yearly_change = pd.concat([change_2016_17, change_2017_18], axis=1)\n",
    "\n",
    "\n",
    "# Appending the YoY change in all countries to the df `yearly_change`.\n",
    "change_2016_17_total = (\n",
    "    (country_res_freq_table_2017['Absolute'].sum() - country_res_freq_table_2016['Absolute'].sum()) / country_res_freq_table_2016['Absolute'].sum()\n",
    "                        )*100\n",
    "\n",
    "change_2017_18_total = (\n",
    "    (country_res_freq_table_2018['Absolute'].sum() - country_res_freq_table_2017['Absolute'].sum()) / country_res_freq_table_2017['Absolute'].sum()\n",
    "                        )*100\n",
    "\n",
    "change_2016_17_total = change_2016_17_total.round(2)\n",
    "\n",
    "change_2017_18_total = change_2017_18_total.round(2)\n",
    "\n",
    "changes_total_countries = pd.DataFrame(\n",
    "    {\n",
    "        '2016-2017':change_2016_17_total,\n",
    "        '2017-2018':change_2017_18_total\n",
    "    },\n",
    "    index=['All countries']\n",
    ")\n",
    "\n",
    "yearly_change_top4 = pd.concat([yearly_change, changes_total_countries])\n",
    "\n",
    "yearly_change_top4"
   ]
  },
  {
   "cell_type": "markdown",
   "metadata": {},
   "source": [
    "Total number of respondents by year/survey:"
   ]
  },
  {
   "cell_type": "code",
   "execution_count": 87,
   "metadata": {},
   "outputs": [
    {
     "data": {
      "text/html": [
       "<div>\n",
       "<style scoped>\n",
       "    .dataframe tbody tr th:only-of-type {\n",
       "        vertical-align: middle;\n",
       "    }\n",
       "\n",
       "    .dataframe tbody tr th {\n",
       "        vertical-align: top;\n",
       "    }\n",
       "\n",
       "    .dataframe thead th {\n",
       "        text-align: right;\n",
       "    }\n",
       "</style>\n",
       "<table border=\"1\" class=\"dataframe\">\n",
       "  <thead>\n",
       "    <tr style=\"text-align: right;\">\n",
       "      <th></th>\n",
       "      <th>2016</th>\n",
       "      <th>2017</th>\n",
       "      <th>2018</th>\n",
       "    </tr>\n",
       "  </thead>\n",
       "  <tbody>\n",
       "    <tr>\n",
       "      <th>No. Students</th>\n",
       "      <td>15620</td>\n",
       "      <td>18175</td>\n",
       "      <td>28397</td>\n",
       "    </tr>\n",
       "  </tbody>\n",
       "</table>\n",
       "</div>"
      ],
      "text/plain": [
       "               2016   2017   2018\n",
       "No. Students  15620  18175  28397"
      ]
     },
     "execution_count": 87,
     "metadata": {},
     "output_type": "execute_result"
    }
   ],
   "source": [
    "number_respondents_total = [survey_2016.shape[0],\n",
    "                            survey_2017.shape[0],\n",
    "                            survey_2018.shape[0]]\n",
    "\n",
    "tot_respond_summary = pd.DataFrame(\n",
    "    {\n",
    "        '2016': number_respondents_total[0],\n",
    "        '2017': number_respondents_total[1],\n",
    "        '2018': number_respondents_total[2]\n",
    "    }, \n",
    "    index=['No. Students']\n",
    ")\n",
    "\n",
    "tot_respond_summary"
   ]
  },
  {
   "cell_type": "markdown",
   "metadata": {},
   "source": [
    "Year-over-year percentage change of total number of respondents:"
   ]
  },
  {
   "cell_type": "code",
   "execution_count": 88,
   "metadata": {},
   "outputs": [
    {
     "data": {
      "text/html": [
       "<div>\n",
       "<style scoped>\n",
       "    .dataframe tbody tr th:only-of-type {\n",
       "        vertical-align: middle;\n",
       "    }\n",
       "\n",
       "    .dataframe tbody tr th {\n",
       "        vertical-align: top;\n",
       "    }\n",
       "\n",
       "    .dataframe thead th {\n",
       "        text-align: right;\n",
       "    }\n",
       "</style>\n",
       "<table border=\"1\" class=\"dataframe\">\n",
       "  <thead>\n",
       "    <tr style=\"text-align: right;\">\n",
       "      <th></th>\n",
       "      <th>2016-17</th>\n",
       "      <th>2017-18</th>\n",
       "    </tr>\n",
       "  </thead>\n",
       "  <tbody>\n",
       "    <tr>\n",
       "      <th>YoY % change</th>\n",
       "      <td>16.36</td>\n",
       "      <td>56.24</td>\n",
       "    </tr>\n",
       "  </tbody>\n",
       "</table>\n",
       "</div>"
      ],
      "text/plain": [
       "              2016-17  2017-18\n",
       "YoY % change    16.36    56.24"
      ]
     },
     "execution_count": 88,
     "metadata": {},
     "output_type": "execute_result"
    }
   ],
   "source": [
    "change_total_respondents_2016_17 = round(\n",
    "    ((survey_2017.shape[0] - survey_2016.shape[0]) / survey_2016.shape[0]) * 100, 2)\n",
    "\n",
    "change_total_respondents_2017_18 = round(\n",
    "    ((survey_2018.shape[0] - survey_2017.shape[0]) / survey_2017.shape[0]) * 100, 2)\n",
    "\n",
    "\n",
    "yearly_change_survey = pd.DataFrame(\n",
    "    {\n",
    "        '2016-17': change_total_respondents_2016_17,\n",
    "        '2017-18': change_total_respondents_2017_18\n",
    "    }, \n",
    "    index=['YoY % change']\n",
    ")\n",
    "\n",
    "yearly_change_survey"
   ]
  },
  {
   "cell_type": "markdown",
   "metadata": {},
   "source": [
    "In general, when looking to the table that shows the year-over-year percentage change in the number of students in the top 4 most represented countries - `yearly_change_top4`, while the rest of the countries has less students responding to the survey, India grows its base substantially. For example, the number of respondents living in India increased by almost 82% from 2017 to 2018. This is an indication of a potential growing market, because we can also assess that, while the total number of respondents increased substantially over the years (check `yearly_change_survey` values), the sub-sample of respondents with at least one desired job role (our population of interest), also increased. The idea behind this reasoning is: more students answering the survey provides the perception that the market in the e-learning sector is growing in potential, and at the same time the Indian market seems to be growing at a higher rate, contributing more than the other countries to that global market growth."
   ]
  },
  {
   "cell_type": "markdown",
   "metadata": {},
   "source": [
    "### The Willingness To Pay Of An Average E-learner - Comparing The Years of 2017 and 2018\n",
    "\n",
    "Since 2018 is the most recent data, we go over the process of computing the average monthly expenditure and compare it with the 2017 values, in order to assess whether the average student is spending more or less than before and which country has the highest number of students with the highest willingness to pay.\n",
    "\n",
    "`learn_monthly_expend` gives out how much each student spends per month on e-learning; here by, also designated in short by 'monthly expenditure'."
   ]
  },
  {
   "cell_type": "code",
   "execution_count": 89,
   "metadata": {},
   "outputs": [],
   "source": [
    "# Support series: replace the '0's by '1's.\n",
    "survey_2018_2['months_programming'] = survey_2018_2['months_programming'].replace(0, 1)\n",
    "\n",
    "survey_2018_2['learn_monthly_expend'] = survey_2018_2['money_for_learning'] / survey_2018_2['months_programming']"
   ]
  },
  {
   "cell_type": "markdown",
   "metadata": {},
   "source": [
    "New DataFrame `survey_2018_3`: excluding rows where `learn_monthly_expend` is null:"
   ]
  },
  {
   "cell_type": "code",
   "execution_count": 90,
   "metadata": {},
   "outputs": [],
   "source": [
    "survey_2018_3 = survey_2018_2[survey_2018_2['learn_monthly_expend'].notnull()]"
   ]
  },
  {
   "cell_type": "markdown",
   "metadata": {},
   "source": [
    "#### Comparing Expenditure Frequency Distributions By Country When Trimming Values Beyond \\\\$300 - 2017 Vs 2018 "
   ]
  },
  {
   "cell_type": "code",
   "execution_count": 91,
   "metadata": {},
   "outputs": [],
   "source": [
    "# Isolating 2018 expenditures by country into Series.\n",
    "usa_2018 = survey_2018_3.copy(0)[survey_2018_3['country_live'] == 'United States of America']\n",
    "india_2018 = survey_2018_3.copy(0)[survey_2018_3['country_live'] == 'India']\n",
    "uk_2018 = survey_2018_3.copy(0)[survey_2018_3['country_live'] == 'United Kingdom']\n",
    "canada_2018 = survey_2018_3.copy(0)[survey_2018_3['country_live'] == 'Canada']\n",
    "\n",
    "\n",
    "usa_expend_2018 = usa_2018['learn_monthly_expend']\n",
    "india_expend_2018 = india_2018['learn_monthly_expend']\n",
    "uk_expend_2018 = uk_2018['learn_monthly_expend']\n",
    "canada_expend_2018 = canada_2018['learn_monthly_expend']\n",
    "\n",
    "\n",
    "# Applying the thresholds as a condition to remove the upper ouliers.\n",
    "usa_2018 = usa_expend_2018[usa_expend_2018 <= 300]\n",
    "india_2018 = india_expend_2018[india_expend_2018 <= 300]\n",
    "uk_2018 = uk_expend_2018[uk_expend_2018 <= 300]\n",
    "canada_2018 = canada_expend_2018[canada_expend_2018 <= 300] \n",
    "\n",
    "expend_dist_summary_2018 = (\n",
    "    pd.DataFrame(\n",
    "        {\n",
    "            'USA':usa_2018.describe(),\n",
    "            'India':india_2018.describe(),\n",
    "            'UK':uk_2018.describe(),\n",
    "            'Canada':canada_2018.describe()\n",
    "        }\n",
    "    )\n",
    "    .round(2)\n",
    ")\n",
    "\n",
    "\n",
    "# Rearranging the columns' order for 2017 and 2018 DataFrames. \n",
    "expend_dist_summary_2017.columns = [col + ' (2017)' for col in expend_dist_summary_2017.columns]\n",
    "expend_dist_summary_2018.columns = [col + ' (2018)' for col in expend_dist_summary_2018.columns]\n",
    "\n",
    "compare_dist_columns = list(expend_dist_summary_2017.columns) + list(expend_dist_summary_2018.columns)\n",
    "\n",
    "compare_dist_columns = sorted(compare_dist_columns)\n",
    "\n",
    "# Merging both 2017 and 2018 frequency distribution DataFrames.\n",
    "compare_dist = (\n",
    "    pd.concat([expend_dist_summary_2017, expend_dist_summary_2018], axis=1)\n",
    "    .reindex(columns=compare_dist_columns).iloc[:2]\n",
    ") # keeping only student count and mean expenditure"
   ]
  },
  {
   "cell_type": "code",
   "execution_count": 92,
   "metadata": {},
   "outputs": [
    {
     "data": {
      "text/html": [
       "<div>\n",
       "<style scoped>\n",
       "    .dataframe tbody tr th:only-of-type {\n",
       "        vertical-align: middle;\n",
       "    }\n",
       "\n",
       "    .dataframe tbody tr th {\n",
       "        vertical-align: top;\n",
       "    }\n",
       "\n",
       "    .dataframe thead th {\n",
       "        text-align: right;\n",
       "    }\n",
       "</style>\n",
       "<table border=\"1\" class=\"dataframe\">\n",
       "  <thead>\n",
       "    <tr style=\"text-align: right;\">\n",
       "      <th></th>\n",
       "      <th>Canada (2017)</th>\n",
       "      <th>Canada (2018)</th>\n",
       "      <th>India (2017)</th>\n",
       "      <th>India (2018)</th>\n",
       "      <th>UK (2017)</th>\n",
       "      <th>UK (2018)</th>\n",
       "      <th>USA (2017)</th>\n",
       "      <th>USA (2018)</th>\n",
       "    </tr>\n",
       "  </thead>\n",
       "  <tbody>\n",
       "    <tr>\n",
       "      <th>count</th>\n",
       "      <td>221.00</td>\n",
       "      <td>354.00</td>\n",
       "      <td>432.00</td>\n",
       "      <td>1648.00</td>\n",
       "      <td>271.00</td>\n",
       "      <td>508.00</td>\n",
       "      <td>2645.00</td>\n",
       "      <td>4619.00</td>\n",
       "    </tr>\n",
       "    <tr>\n",
       "      <th>count % change</th>\n",
       "      <td>0.00</td>\n",
       "      <td>60.18</td>\n",
       "      <td>0.00</td>\n",
       "      <td>281.48</td>\n",
       "      <td>0.00</td>\n",
       "      <td>87.45</td>\n",
       "      <td>0.00</td>\n",
       "      <td>74.63</td>\n",
       "    </tr>\n",
       "    <tr>\n",
       "      <th>mean</th>\n",
       "      <td>19.66</td>\n",
       "      <td>21.99</td>\n",
       "      <td>17.96</td>\n",
       "      <td>18.52</td>\n",
       "      <td>21.84</td>\n",
       "      <td>17.60</td>\n",
       "      <td>25.83</td>\n",
       "      <td>23.12</td>\n",
       "    </tr>\n",
       "    <tr>\n",
       "      <th>mean % change</th>\n",
       "      <td>0.00</td>\n",
       "      <td>11.85</td>\n",
       "      <td>0.00</td>\n",
       "      <td>3.12</td>\n",
       "      <td>0.00</td>\n",
       "      <td>-19.41</td>\n",
       "      <td>0.00</td>\n",
       "      <td>-10.49</td>\n",
       "    </tr>\n",
       "  </tbody>\n",
       "</table>\n",
       "</div>"
      ],
      "text/plain": [
       "                Canada (2017)  Canada (2018)  India (2017)  India (2018)  \\\n",
       "count                  221.00         354.00        432.00       1648.00   \n",
       "count % change           0.00          60.18          0.00        281.48   \n",
       "mean                    19.66          21.99         17.96         18.52   \n",
       "mean % change            0.00          11.85          0.00          3.12   \n",
       "\n",
       "                UK (2017)  UK (2018)  USA (2017)  USA (2018)  \n",
       "count              271.00     508.00     2645.00     4619.00  \n",
       "count % change       0.00      87.45        0.00       74.63  \n",
       "mean                21.84      17.60       25.83       23.12  \n",
       "mean % change        0.00     -19.41        0.00      -10.49  "
      ]
     },
     "execution_count": 92,
     "metadata": {},
     "output_type": "execute_result"
    }
   ],
   "source": [
    "# Creating a Dataframe with percentage change from 2017 to 2018 and merging with `compare_dist`.\n",
    "\n",
    "# This list will be filled with two series with percentage changes for the same country.\n",
    "list_2d = []\n",
    "\n",
    "for series in compare_dist.iterrows():\n",
    "    \n",
    "    list_ = []\n",
    "    for index, el in enumerate(series[1]):\n",
    "        if index % 2 != 0:\n",
    "            val_2017 = series[1][index-1]\n",
    "            val_2018 = series[1][index]\n",
    "            perc_change = round((val_2018-val_2017)*100/val_2017, 2)\n",
    "            list_.append(perc_change)\n",
    "        else:\n",
    "            list_.append(0)\n",
    "    \n",
    "    list_2d.append(pd.Series(list_, name=f'{series[0]} % change'))\n",
    "    \n",
    "# Converting `list_2d` into a DataFrame.    \n",
    "compare_dist_perc = pd.DataFrame(list_2d)\n",
    "\n",
    "# Attribute the same columns to the new DataFrame to be able to concatenate properly.\n",
    "compare_dist_perc.columns = compare_dist_columns\n",
    "\n",
    "# New column order to reindex after concat.\n",
    "compare_dist_2_columns = ['count', 'count % change', 'mean', 'mean % change']\n",
    "\n",
    "compare_dist_2 = pd.concat([compare_dist, compare_dist_perc]).reindex(compare_dist_2_columns)   \n",
    "\n",
    "compare_dist_2"
   ]
  },
  {
   "cell_type": "markdown",
   "metadata": {},
   "source": [
    "In the table above we can compare the number of e-learners and the average monthly expenditure by year and by country, after removing values over \\\\$300 for all series. In terms of new e-learners, we can observe a substantial increase in 2018 in all countries, where the US dominates in absolute terms with 4619 potential subscribers, while India has the greatest percentage increase in new students - 281\\%. With a total of 1648 students, India in 2018 has almost twice the students of UK and Canada combined (862), for the analogous period. In terms of average monthly expenditure, both USA and UK see a substantial drop of approx. 19.4\\% and 10.4\\% respectively, while Canada and India see an increase in it, by 11.85\\% and 3\\% respectively. In descending order, the countries with the highest average monthly expenditure in 2018 are: US, Canada, India and lastly UK."
   ]
  },
  {
   "cell_type": "markdown",
   "metadata": {},
   "source": [
    "### Assessing The Willingness To Pay Of Students By Analyzing Their Current Spending, And Comparing With 2017 Results.\n",
    "\n",
    "The two levels of monthly spending:\n",
    "- Students that are already spending from \\\\$59 up to \\\\$300.\n",
    "\n",
    "\n",
    "- Students that are already spending from \\\\$29 up to \\\\$300."
   ]
  },
  {
   "cell_type": "markdown",
   "metadata": {},
   "source": [
    "For `$59`:"
   ]
  },
  {
   "cell_type": "code",
   "execution_count": 93,
   "metadata": {},
   "outputs": [
    {
     "data": {
      "text/html": [
       "<div>\n",
       "<style scoped>\n",
       "    .dataframe tbody tr th:only-of-type {\n",
       "        vertical-align: middle;\n",
       "    }\n",
       "\n",
       "    .dataframe tbody tr th {\n",
       "        vertical-align: top;\n",
       "    }\n",
       "\n",
       "    .dataframe thead th {\n",
       "        text-align: right;\n",
       "    }\n",
       "</style>\n",
       "<table border=\"1\" class=\"dataframe\">\n",
       "  <thead>\n",
       "    <tr style=\"text-align: right;\">\n",
       "      <th></th>\n",
       "      <th>2017</th>\n",
       "      <th>2018</th>\n",
       "      <th>% Change</th>\n",
       "    </tr>\n",
       "  </thead>\n",
       "  <tbody>\n",
       "    <tr>\n",
       "      <th>USA</th>\n",
       "      <td>376</td>\n",
       "      <td>560</td>\n",
       "      <td>48.94</td>\n",
       "    </tr>\n",
       "    <tr>\n",
       "      <th>India</th>\n",
       "      <td>44</td>\n",
       "      <td>166</td>\n",
       "      <td>277.27</td>\n",
       "    </tr>\n",
       "    <tr>\n",
       "      <th>UK</th>\n",
       "      <td>35</td>\n",
       "      <td>45</td>\n",
       "      <td>28.57</td>\n",
       "    </tr>\n",
       "    <tr>\n",
       "      <th>Canada</th>\n",
       "      <td>21</td>\n",
       "      <td>42</td>\n",
       "      <td>100.00</td>\n",
       "    </tr>\n",
       "  </tbody>\n",
       "</table>\n",
       "</div>"
      ],
      "text/plain": [
       "        2017  2018  % Change\n",
       "USA      376   560     48.94\n",
       "India     44   166    277.27\n",
       "UK        35    45     28.57\n",
       "Canada    21    42    100.00"
      ]
     },
     "execution_count": 93,
     "metadata": {},
     "output_type": "execute_result"
    }
   ],
   "source": [
    "# Trim 2018 series \n",
    "usa_over59_count_2018 = usa_2018[usa_2018 >= 59].size\n",
    "india_over59_count_2018 = india_2018[india_2018 >= 59].size\n",
    "uk_over59_count_2018 = uk_2018[uk_2018 >= 59].size\n",
    "canada_over59_count_2018 = canada_2018[canada_2018 >= 59].size\n",
    "\n",
    "# Joining Series above into support DataFrames, for both types of trim respectively.\n",
    "over_equal59_2018 = (\n",
    "    pd.Series(\n",
    "        {\n",
    "            'USA': usa_over59_count_2018,\n",
    "            'India': india_over59_count_2018,\n",
    "            'UK': uk_over59_count_2018,\n",
    "            'Canada': canada_over59_count_2018\n",
    "        }\n",
    "    )\n",
    "    .sort_values(ascending=False)\n",
    ")\n",
    "\n",
    "perc_change = round((over_equal59_2018 - over_equal59_2017)*100/over_equal59_2017, 2)\n",
    "\n",
    "willing_to_spend_comparison_59 = pd.DataFrame(\n",
    "    {\n",
    "        '2017': over_equal59_2017,\n",
    "        '2018': over_equal59_2018,\n",
    "        '% Change': perc_change\n",
    "    }\n",
    ")\n",
    "\n",
    "willing_to_spend_comparison_59"
   ]
  },
  {
   "cell_type": "markdown",
   "metadata": {},
   "source": [
    "If we set the lower threshold at \\\\$59, the price of a subscription for our product, we can observe that the most interesting market besides the US is clearly India; not only has the highest number of potential subscribers in both 2017 and 2018, compared with Canada and the UK, it also has the highest percentage increase in students, 277\\%, that are actually within a reasonable target group. "
   ]
  },
  {
   "cell_type": "markdown",
   "metadata": {},
   "source": [
    "For `$29`:"
   ]
  },
  {
   "cell_type": "code",
   "execution_count": 94,
   "metadata": {},
   "outputs": [
    {
     "data": {
      "text/html": [
       "<div>\n",
       "<style scoped>\n",
       "    .dataframe tbody tr th:only-of-type {\n",
       "        vertical-align: middle;\n",
       "    }\n",
       "\n",
       "    .dataframe tbody tr th {\n",
       "        vertical-align: top;\n",
       "    }\n",
       "\n",
       "    .dataframe thead th {\n",
       "        text-align: right;\n",
       "    }\n",
       "</style>\n",
       "<table border=\"1\" class=\"dataframe\">\n",
       "  <thead>\n",
       "    <tr style=\"text-align: right;\">\n",
       "      <th></th>\n",
       "      <th>2017</th>\n",
       "      <th>2018</th>\n",
       "      <th>% Change</th>\n",
       "    </tr>\n",
       "  </thead>\n",
       "  <tbody>\n",
       "    <tr>\n",
       "      <th>USA</th>\n",
       "      <td>589</td>\n",
       "      <td>937</td>\n",
       "      <td>59.08</td>\n",
       "    </tr>\n",
       "    <tr>\n",
       "      <th>India</th>\n",
       "      <td>62</td>\n",
       "      <td>270</td>\n",
       "      <td>335.48</td>\n",
       "    </tr>\n",
       "    <tr>\n",
       "      <th>UK</th>\n",
       "      <td>55</td>\n",
       "      <td>83</td>\n",
       "      <td>50.91</td>\n",
       "    </tr>\n",
       "    <tr>\n",
       "      <th>Canada</th>\n",
       "      <td>35</td>\n",
       "      <td>70</td>\n",
       "      <td>100.00</td>\n",
       "    </tr>\n",
       "  </tbody>\n",
       "</table>\n",
       "</div>"
      ],
      "text/plain": [
       "        2017  2018  % Change\n",
       "USA      589   937     59.08\n",
       "India     62   270    335.48\n",
       "UK        55    83     50.91\n",
       "Canada    35    70    100.00"
      ]
     },
     "execution_count": 94,
     "metadata": {},
     "output_type": "execute_result"
    }
   ],
   "source": [
    "# Trim 2018 series \n",
    "usa_over29_count_2018 = usa_2018[usa_2018 >= 29].size\n",
    "india_over29_count_2018 = india_2018[india_2018 >= 29].size\n",
    "uk_over29_count_2018 = uk_2018[uk_2018 >= 29].size\n",
    "canada_over29_count_2018 = canada_2018[canada_2018 >= 29].size\n",
    "\n",
    "# Joining Series above into support DataFrames, for both types of trim respectively.\n",
    "\n",
    "over_equal29_2018 = (\n",
    "    pd.Series(\n",
    "        {\n",
    "            'USA': usa_over29_count_2018,\n",
    "            'India': india_over29_count_2018,\n",
    "            'UK': uk_over29_count_2018,\n",
    "            'Canada': canada_over29_count_2018 \n",
    "        }\n",
    "    )\n",
    "    .sort_values(ascending=False)\n",
    ")\n",
    "\n",
    "\n",
    "perc_change = round((over_equal29_2018 - over_equal29_2017)*100/over_equal29_2017, 2)\n",
    "\n",
    "willing_to_spend_comparison_29 = pd.DataFrame(\n",
    "    {\n",
    "        '2017': over_equal29_2017,\n",
    "        '2018': over_equal29_2018,\n",
    "        '% Change': perc_change}\n",
    ")\n",
    "\n",
    "willing_to_spend_comparison_29"
   ]
  },
  {
   "cell_type": "markdown",
   "metadata": {},
   "source": [
    "Lowering threshold to \\\\$29 does not change any of the conclusions stated above. India continues to be perceived as the most promising market after the US. "
   ]
  },
  {
   "cell_type": "markdown",
   "metadata": {},
   "source": [
    "## Concluding Remarks On The Choice To Invest/advertise In A Second Best Market\n",
    "---\n",
    "\n",
    "The analysis gathers some evidence that India might be the next big thing regarding the IT e-learning market. It has shown to be growing considerably during the 2016 to 2018 period, in terms of people interested in acquiring a career in programming/coding. Although in theory, the UK and Canada should have a greater number of potential e-learners with a greater purchasing power, the analysis shows that the difference in average monthly expenditure does not vary greatly among these top countries. Even if Canada has an average spending slightly higher than India, the number of potential subscribers in the former country is still less than half of that observed in the latter, thus reinforcing the idea that this Asian country is the most attractive market to invest in after the US.\n"
   ]
  },
  {
   "cell_type": "markdown",
   "metadata": {},
   "source": [
    "## Annex I\n",
    "---"
   ]
  },
  {
   "cell_type": "markdown",
   "metadata": {},
   "source": [
    "Monthly Learning Expenditures (2017): mode (descriptive statistics)\n"
   ]
  },
  {
   "cell_type": "code",
   "execution_count": 95,
   "metadata": {},
   "outputs": [
    {
     "data": {
      "text/plain": [
       "CountryLive\n",
       "United States of America    0.0\n",
       "India                       0.0\n",
       "United Kingdom              0.0\n",
       "Canada                      0.0\n",
       "Name: learn_monthly_expend, dtype: object"
      ]
     },
     "execution_count": 95,
     "metadata": {},
     "output_type": "execute_result"
    }
   ],
   "source": [
    "by_country = survey_3[['CountryLive', 'learn_monthly_expend']].groupby(by='CountryLive')\n",
    "\n",
    "country_mode = by_country.agg(lambda x: x.mode()).round(2)\n",
    "\n",
    "country_mode.loc[\n",
    "    ['United States of America', 'India',  'United Kingdom', 'Canada'],\n",
    "    'learn_monthly_expend'\n",
    "]"
   ]
  },
  {
   "cell_type": "markdown",
   "metadata": {},
   "source": [
    "## All Columns By Data Set - 2016, 2017 And 2018"
   ]
  },
  {
   "cell_type": "markdown",
   "metadata": {},
   "source": [
    "### 2016"
   ]
  },
  {
   "cell_type": "code",
   "execution_count": 96,
   "metadata": {
    "scrolled": true
   },
   "outputs": [
    {
     "name": "stdout",
     "output_type": "stream",
     "text": [
      "<class 'pandas.core.frame.DataFrame'>\n",
      "RangeIndex: 15620 entries, 0 to 15619\n",
      "Data columns (total 113 columns):\n",
      " #    Column                         Dtype  \n",
      "---   ------                         -----  \n",
      " 0    Age                            float64\n",
      " 1    AttendedBootcamp               float64\n",
      " 2    BootcampFinish                 float64\n",
      " 3    BootcampFullJobAfter           float64\n",
      " 4    BootcampLoanYesNo              float64\n",
      " 5    BootcampMonthsAgo              float64\n",
      " 6    BootcampName                   object \n",
      " 7    BootcampPostSalary             float64\n",
      " 8    BootcampRecommend              float64\n",
      " 9    ChildrenNumber                 float64\n",
      " 10   CityPopulation                 object \n",
      " 11   CodeEventBootcamp              float64\n",
      " 12   CodeEventCoffee                float64\n",
      " 13   CodeEventConferences           float64\n",
      " 14   CodeEventDjangoGirls           float64\n",
      " 15   CodeEventGameJam               float64\n",
      " 16   CodeEventGirlDev               float64\n",
      " 17   CodeEventHackathons            float64\n",
      " 18   CodeEventMeetup                float64\n",
      " 19   CodeEventNodeSchool            float64\n",
      " 20   CodeEventNone                  float64\n",
      " 21   CodeEventOther                 object \n",
      " 22   CodeEventRailsBridge           float64\n",
      " 23   CodeEventRailsGirls            float64\n",
      " 24   CodeEventStartUpWknd           float64\n",
      " 25   CodeEventWomenCode             float64\n",
      " 26   CodeEventWorkshop              float64\n",
      " 27   CommuteTime                    float64\n",
      " 28   CountryCitizen                 object \n",
      " 29   CountryLive                    object \n",
      " 30   EmploymentField                object \n",
      " 31   EmploymentFieldOther           object \n",
      " 32   EmploymentStatus               object \n",
      " 33   EmploymentStatusOther          object \n",
      " 34   ExpectedEarning                float64\n",
      " 35   FinanciallySupporting          float64\n",
      " 36   Gender                         object \n",
      " 37   HasChildren                    float64\n",
      " 38   HasDebt                        float64\n",
      " 39   HasFinancialDependents         float64\n",
      " 40   HasHighSpdInternet             float64\n",
      " 41   HasHomeMortgage                float64\n",
      " 42   HasServedInMilitary            float64\n",
      " 43   HasStudentDebt                 float64\n",
      " 44   HomeMortgageOwe                float64\n",
      " 45   HoursLearning                  float64\n",
      " 46   ID.x                           object \n",
      " 47   ID.y                           object \n",
      " 48   Income                         float64\n",
      " 49   IsEthnicMinority               float64\n",
      " 50   IsReceiveDisabilitiesBenefits  float64\n",
      " 51   IsSoftwareDev                  float64\n",
      " 52   IsUnderEmployed                float64\n",
      " 53   JobApplyWhen                   object \n",
      " 54   JobPref                        object \n",
      " 55   JobRelocateYesNo               float64\n",
      " 56   JobRoleInterest                object \n",
      " 57   JobRoleInterestOther           object \n",
      " 58   JobWherePref                   object \n",
      " 59   LanguageAtHome                 object \n",
      " 60   MaritalStatus                  object \n",
      " 61   MoneyForLearning               float64\n",
      " 62   MonthsProgramming              float64\n",
      " 63   NetworkID                      object \n",
      " 64   Part1EndTime                   object \n",
      " 65   Part1StartTime                 object \n",
      " 66   Part2EndTime                   object \n",
      " 67   Part2StartTime                 object \n",
      " 68   PodcastChangeLog               float64\n",
      " 69   PodcastCodeNewbie              float64\n",
      " 70   PodcastCodingBlocks            float64\n",
      " 71   PodcastDeveloperTea            float64\n",
      " 72   PodcastDotNetRocks             float64\n",
      " 73   PodcastHanselminutes           float64\n",
      " 74   PodcastJsAir                   float64\n",
      " 75   PodcastJSJabber                float64\n",
      " 76   PodcastNone                    float64\n",
      " 77   PodcastOther                   object \n",
      " 78   PodcastProgrammingThrowDown    float64\n",
      " 79   PodcastRubyRogues              float64\n",
      " 80   PodcastSEDaily                 float64\n",
      " 81   PodcastShopTalk                float64\n",
      " 82   PodcastTalkPython              float64\n",
      " 83   PodcastWebAhead                float64\n",
      " 84   ResourceBlogs                  float64\n",
      " 85   ResourceBooks                  float64\n",
      " 86   ResourceCodecademy             float64\n",
      " 87   ResourceCodeWars               float64\n",
      " 88   ResourceCoursera               float64\n",
      " 89   ResourceDevTips                float64\n",
      " 90   ResourceEdX                    float64\n",
      " 91   ResourceEggHead                float64\n",
      " 92   ResourceFCC                    float64\n",
      " 93   ResourceGoogle                 float64\n",
      " 94   ResourceHackerRank             float64\n",
      " 95   ResourceKhanAcademy            float64\n",
      " 96   ResourceLynda                  float64\n",
      " 97   ResourceMDN                    float64\n",
      " 98   ResourceOdinProj               float64\n",
      " 99   ResourceOther                  object \n",
      " 100  ResourcePluralSight            float64\n",
      " 101  ResourceReddit                 float64\n",
      " 102  ResourceSkillCrush             float64\n",
      " 103  ResourceSoloLearn              float64\n",
      " 104  ResourceStackOverflow          float64\n",
      " 105  ResourceTreehouse              float64\n",
      " 106  ResourceUdacity                float64\n",
      " 107  ResourceUdemy                  float64\n",
      " 108  ResourceW3Schools              float64\n",
      " 109  ResourceYouTube                float64\n",
      " 110  SchoolDegree                   object \n",
      " 111  SchoolMajor                    object \n",
      " 112  StudentDebtOwe                 float64\n",
      "dtypes: float64(85), object(28)\n",
      "memory usage: 13.5+ MB\n"
     ]
    }
   ],
   "source": [
    "pd.set_option('display.max_columns', None)\n",
    "\n",
    "survey_2016.info(verbose=True)"
   ]
  },
  {
   "cell_type": "markdown",
   "metadata": {},
   "source": [
    "### 2017"
   ]
  },
  {
   "cell_type": "code",
   "execution_count": 97,
   "metadata": {},
   "outputs": [
    {
     "name": "stdout",
     "output_type": "stream",
     "text": [
      "<class 'pandas.core.frame.DataFrame'>\n",
      "RangeIndex: 18175 entries, 0 to 18174\n",
      "Data columns (total 136 columns):\n",
      " #    Column                         Dtype  \n",
      "---   ------                         -----  \n",
      " 0    Age                            float64\n",
      " 1    AttendedBootcamp               float64\n",
      " 2    BootcampFinish                 float64\n",
      " 3    BootcampLoanYesNo              float64\n",
      " 4    BootcampName                   object \n",
      " 5    BootcampRecommend              float64\n",
      " 6    ChildrenNumber                 float64\n",
      " 7    CityPopulation                 object \n",
      " 8    CodeEventConferences           float64\n",
      " 9    CodeEventDjangoGirls           float64\n",
      " 10   CodeEventFCC                   float64\n",
      " 11   CodeEventGameJam               float64\n",
      " 12   CodeEventGirlDev               float64\n",
      " 13   CodeEventHackathons            float64\n",
      " 14   CodeEventMeetup                float64\n",
      " 15   CodeEventNodeSchool            float64\n",
      " 16   CodeEventNone                  float64\n",
      " 17   CodeEventOther                 object \n",
      " 18   CodeEventRailsBridge           float64\n",
      " 19   CodeEventRailsGirls            float64\n",
      " 20   CodeEventStartUpWknd           float64\n",
      " 21   CodeEventWkdBootcamps          float64\n",
      " 22   CodeEventWomenCode             float64\n",
      " 23   CodeEventWorkshops             float64\n",
      " 24   CommuteTime                    object \n",
      " 25   CountryCitizen                 object \n",
      " 26   CountryLive                    object \n",
      " 27   EmploymentField                object \n",
      " 28   EmploymentFieldOther           object \n",
      " 29   EmploymentStatus               object \n",
      " 30   EmploymentStatusOther          object \n",
      " 31   ExpectedEarning                float64\n",
      " 32   FinanciallySupporting          float64\n",
      " 33   FirstDevJob                    float64\n",
      " 34   Gender                         object \n",
      " 35   GenderOther                    object \n",
      " 36   HasChildren                    float64\n",
      " 37   HasDebt                        float64\n",
      " 38   HasFinancialDependents         float64\n",
      " 39   HasHighSpdInternet             float64\n",
      " 40   HasHomeMortgage                float64\n",
      " 41   HasServedInMilitary            float64\n",
      " 42   HasStudentDebt                 float64\n",
      " 43   HomeMortgageOwe                float64\n",
      " 44   HoursLearning                  float64\n",
      " 45   ID.x                           object \n",
      " 46   ID.y                           object \n",
      " 47   Income                         float64\n",
      " 48   IsEthnicMinority               float64\n",
      " 49   IsReceiveDisabilitiesBenefits  float64\n",
      " 50   IsSoftwareDev                  float64\n",
      " 51   IsUnderEmployed                float64\n",
      " 52   JobApplyWhen                   object \n",
      " 53   JobInterestBackEnd             float64\n",
      " 54   JobInterestDataEngr            float64\n",
      " 55   JobInterestDataSci             float64\n",
      " 56   JobInterestDevOps              float64\n",
      " 57   JobInterestFrontEnd            float64\n",
      " 58   JobInterestFullStack           float64\n",
      " 59   JobInterestGameDev             float64\n",
      " 60   JobInterestInfoSec             float64\n",
      " 61   JobInterestMobile              float64\n",
      " 62   JobInterestOther               object \n",
      " 63   JobInterestProjMngr            float64\n",
      " 64   JobInterestQAEngr              float64\n",
      " 65   JobInterestUX                  float64\n",
      " 66   JobPref                        object \n",
      " 67   JobRelocateYesNo               float64\n",
      " 68   JobRoleInterest                object \n",
      " 69   JobWherePref                   object \n",
      " 70   LanguageAtHome                 object \n",
      " 71   MaritalStatus                  object \n",
      " 72   MoneyForLearning               float64\n",
      " 73   MonthsProgramming              float64\n",
      " 74   NetworkID                      object \n",
      " 75   Part1EndTime                   object \n",
      " 76   Part1StartTime                 object \n",
      " 77   Part2EndTime                   object \n",
      " 78   Part2StartTime                 object \n",
      " 79   PodcastChangeLog               float64\n",
      " 80   PodcastCodeNewbie              float64\n",
      " 81   PodcastCodePen                 float64\n",
      " 82   PodcastDevTea                  float64\n",
      " 83   PodcastDotNET                  float64\n",
      " 84   PodcastGiantRobots             float64\n",
      " 85   PodcastJSAir                   float64\n",
      " 86   PodcastJSJabber                float64\n",
      " 87   PodcastNone                    float64\n",
      " 88   PodcastOther                   object \n",
      " 89   PodcastProgThrowdown           float64\n",
      " 90   PodcastRubyRogues              float64\n",
      " 91   PodcastSEDaily                 float64\n",
      " 92   PodcastSERadio                 float64\n",
      " 93   PodcastShopTalk                float64\n",
      " 94   PodcastTalkPython              float64\n",
      " 95   PodcastTheWebAhead             float64\n",
      " 96   ResourceCodecademy             float64\n",
      " 97   ResourceCodeWars               float64\n",
      " 98   ResourceCoursera               float64\n",
      " 99   ResourceCSS                    float64\n",
      " 100  ResourceEdX                    float64\n",
      " 101  ResourceEgghead                float64\n",
      " 102  ResourceFCC                    float64\n",
      " 103  ResourceHackerRank             float64\n",
      " 104  ResourceKA                     float64\n",
      " 105  ResourceLynda                  float64\n",
      " 106  ResourceMDN                    float64\n",
      " 107  ResourceOdinProj               float64\n",
      " 108  ResourceOther                  object \n",
      " 109  ResourcePluralSight            float64\n",
      " 110  ResourceSkillcrush             float64\n",
      " 111  ResourceSO                     float64\n",
      " 112  ResourceTreehouse              float64\n",
      " 113  ResourceUdacity                float64\n",
      " 114  ResourceUdemy                  float64\n",
      " 115  ResourceW3S                    float64\n",
      " 116  SchoolDegree                   object \n",
      " 117  SchoolMajor                    object \n",
      " 118  StudentDebtOwe                 float64\n",
      " 119  YouTubeCodeCourse              float64\n",
      " 120  YouTubeCodingTrain             float64\n",
      " 121  YouTubeCodingTut360            float64\n",
      " 122  YouTubeComputerphile           float64\n",
      " 123  YouTubeDerekBanas              float64\n",
      " 124  YouTubeDevTips                 float64\n",
      " 125  YouTubeEngineeredTruth         float64\n",
      " 126  YouTubeFCC                     float64\n",
      " 127  YouTubeFunFunFunction          float64\n",
      " 128  YouTubeGoogleDev               float64\n",
      " 129  YouTubeLearnCode               float64\n",
      " 130  YouTubeLevelUpTuts             float64\n",
      " 131  YouTubeMIT                     float64\n",
      " 132  YouTubeMozillaHacks            float64\n",
      " 133  YouTubeOther                   object \n",
      " 134  YouTubeSimplilearn             float64\n",
      " 135  YouTubeTheNewBoston            float64\n",
      "dtypes: float64(105), object(31)\n",
      "memory usage: 18.9+ MB\n"
     ]
    }
   ],
   "source": [
    "survey_2017.info(verbose=True)"
   ]
  },
  {
   "cell_type": "markdown",
   "metadata": {},
   "source": [
    "### 2018"
   ]
  },
  {
   "cell_type": "code",
   "execution_count": 98,
   "metadata": {},
   "outputs": [
    {
     "name": "stdout",
     "output_type": "stream",
     "text": [
      "<class 'pandas.core.frame.DataFrame'>\n",
      "RangeIndex: 28397 entries, 0 to 28396\n",
      "Data columns (total 138 columns):\n",
      " #    Column                 Dtype  \n",
      "---   ------                 -----  \n",
      " 0    ID                     object \n",
      " 1    is_software_dev        float64\n",
      " 2    is_first_dev_job       float64\n",
      " 3    months_job_search      float64\n",
      " 4    job_pref               object \n",
      " 5    job_intr_fllstck       float64\n",
      " 6    job_intr_backend       float64\n",
      " 7    job_intr_frntend       float64\n",
      " 8    job_intr_mobile        float64\n",
      " 9    job_intr_devops        float64\n",
      " 10   job_intr_datasci       float64\n",
      " 11   job_intr_teacher       float64\n",
      " 12   job_intr_qa_engn       float64\n",
      " 13   job_intr_ux_engn       float64\n",
      " 14   job_intr_projm         float64\n",
      " 15   job_intr_gamedev       float64\n",
      " 16   job_intr_infosec       float64\n",
      " 17   job_intr_dataengn      float64\n",
      " 18   job_intr_other         object \n",
      " 19   when_appl_job          object \n",
      " 20   expected_earn          float64\n",
      " 21   job_lctn_pref          object \n",
      " 22   job_relocate           float64\n",
      " 23   reasons_to_code        object \n",
      " 24   reasons_to_code_other  object \n",
      " 25   rsrc_fcc               float64\n",
      " 26   rsrc_mdn               float64\n",
      " 27   rsrc_so                float64\n",
      " 28   rsrc_edx               float64\n",
      " 29   rsrc_coursera          float64\n",
      " 30   rsrc_khan_acdm         float64\n",
      " 31   rsrc_pluralsght        float64\n",
      " 32   rsrc_codeacdm          float64\n",
      " 33   rsrc_udacity           float64\n",
      " 34   rsrc_udemy             float64\n",
      " 35   rsrc_code_wars         float64\n",
      " 36   rsrc_treehouse         float64\n",
      " 37   rsrc_hackerrank        float64\n",
      " 38   rsrc_frntendmstr       float64\n",
      " 39   rsrc_lynda             float64\n",
      " 40   rsrc_egghead           float64\n",
      " 41   rsrc_css_tricks        float64\n",
      " 42   rsrc_other             object \n",
      " 43   codeevnt_fcc           float64\n",
      " 44   codeevnt_hackthn       float64\n",
      " 45   codeevnt_confs         float64\n",
      " 46   codeevnt_workshps      float64\n",
      " 47   codeevnt_startupwknd   float64\n",
      " 48   codeevnt_nodeschl      float64\n",
      " 49   codeevnt_womenwc       float64\n",
      " 50   codeevnt_girldevit     float64\n",
      " 51   codeevnt_coderdojo     float64\n",
      " 52   codeevnt_meetup        float64\n",
      " 53   codeevnt_railsbrdg     float64\n",
      " 54   codeevnt_gamejam       float64\n",
      " 55   codeevnt_railsgrls     float64\n",
      " 56   codeevnt_djangogrls    float64\n",
      " 57   codeevnt_wkndbtcmp     float64\n",
      " 58   codeevnt_other         object \n",
      " 59   podcast_fcc            float64\n",
      " 60   podcast_codenewbie     float64\n",
      " 61   podcast_changelog      float64\n",
      " 62   podcast_sedaily        float64\n",
      " 63   podcast_js_jabber      float64\n",
      " 64   podcast_syntaxfm       float64\n",
      " 65   podcast_ltcwm          float64\n",
      " 66   podcast_fullstckrd     float64\n",
      " 67   podcast_frnthppyhr     float64\n",
      " 68   podcast_codingblcks    float64\n",
      " 69   podcast_shoptalk       float64\n",
      " 70   podcast_devtea         float64\n",
      " 71   podcast_progthrwdwn    float64\n",
      " 72   podcast_geekspeak      float64\n",
      " 73   podcast_hanselmnts     float64\n",
      " 74   podcast_talkpythonme   float64\n",
      " 75   podcast_rubyrogues     float64\n",
      " 76   podcast_codepenrd      float64\n",
      " 77   podcast_seradio        float64\n",
      " 78   podcast_other          object \n",
      " 79   yt_mit_ocw             float64\n",
      " 80   yt_fcc                 float64\n",
      " 81   yt_computerphile       float64\n",
      " 82   yt_devtips             float64\n",
      " 83   yt_cs_dojo             float64\n",
      " 84   yt_engn_truth          float64\n",
      " 85   yt_learncodeacdm       float64\n",
      " 86   yt_lvluptuts           float64\n",
      " 87   yt_funfunfunct         float64\n",
      " 88   yt_codingtuts360       float64\n",
      " 89   yt_codingtrain         float64\n",
      " 90   yt_derekbanas          float64\n",
      " 91   yt_simplilearn         float64\n",
      " 92   yt_simpleprog          float64\n",
      " 93   yt_mozillahacks        float64\n",
      " 94   yt_googledevs          float64\n",
      " 95   yt_other               object \n",
      " 96   hours_learning         float64\n",
      " 97   months_programming     int64  \n",
      " 98   bootcamp_attend        float64\n",
      " 99   bootcamp_name          object \n",
      " 100  bootcamp_finished      float64\n",
      " 101  bootcamp_have_loan     float64\n",
      " 102  bootcamp_recommend     float64\n",
      " 103  money_for_learning     float64\n",
      " 104  age                    int64  \n",
      " 105  gender                 object \n",
      " 106  gender_other           object \n",
      " 107  country_citizen        object \n",
      " 108  country_live           object \n",
      " 109  live_city_population   object \n",
      " 110  is_ethnic_minority     float64\n",
      " 111  lang_at_home           object \n",
      " 112  school_degree          object \n",
      " 113  school_major           object \n",
      " 114  marital_status         object \n",
      " 115  has_finance_depends    float64\n",
      " 116  has_children           float64\n",
      " 117  num_children           float64\n",
      " 118  do_finance_support     float64\n",
      " 119  debt_amt               float64\n",
      " 120  home_mrtg_has          float64\n",
      " 121  home_mrtg_owe          float64\n",
      " 122  student_debt_has       float64\n",
      " 123  student_debt_amt       float64\n",
      " 124  curr_emplymnt          object \n",
      " 125  curr_emplymnt_other    object \n",
      " 126  curr_field             object \n",
      " 127  last_yr_income         float64\n",
      " 128  communite_time         object \n",
      " 129  is_self_employed       float64\n",
      " 130  has_served_military    float64\n",
      " 131  is_recv_disab_bnft     float64\n",
      " 132  has_high_spd_ntnet     float64\n",
      " 133  time_start             object \n",
      " 134  time_end               object \n",
      " 135  network_id             object \n",
      " 136  time_total_sec         int64  \n",
      " 137  at_least_one_jobrole   bool   \n",
      "dtypes: bool(1), float64(106), int64(3), object(28)\n",
      "memory usage: 29.7+ MB\n"
     ]
    }
   ],
   "source": [
    "survey_2018.info(verbose=True)"
   ]
  },
  {
   "cell_type": "markdown",
   "metadata": {},
   "source": [
    "#### Summary DataFrame of Expenditure Frequency Distributions By Country  - 2017 vs 2018 "
   ]
  },
  {
   "cell_type": "code",
   "execution_count": 99,
   "metadata": {},
   "outputs": [
    {
     "data": {
      "text/html": [
       "<div>\n",
       "<style scoped>\n",
       "    .dataframe tbody tr th:only-of-type {\n",
       "        vertical-align: middle;\n",
       "    }\n",
       "\n",
       "    .dataframe tbody tr th {\n",
       "        vertical-align: top;\n",
       "    }\n",
       "\n",
       "    .dataframe thead th {\n",
       "        text-align: right;\n",
       "    }\n",
       "</style>\n",
       "<table border=\"1\" class=\"dataframe\">\n",
       "  <thead>\n",
       "    <tr style=\"text-align: right;\">\n",
       "      <th></th>\n",
       "      <th>Canada (2017)</th>\n",
       "      <th>Canada (2018)</th>\n",
       "      <th>India (2017)</th>\n",
       "      <th>India (2018)</th>\n",
       "      <th>UK (2017)</th>\n",
       "      <th>UK (2018)</th>\n",
       "      <th>USA (2017)</th>\n",
       "      <th>USA (2018)</th>\n",
       "    </tr>\n",
       "  </thead>\n",
       "  <tbody>\n",
       "    <tr>\n",
       "      <th>count</th>\n",
       "      <td>221.00</td>\n",
       "      <td>354.00</td>\n",
       "      <td>432.00</td>\n",
       "      <td>1648.00</td>\n",
       "      <td>271.00</td>\n",
       "      <td>508.00</td>\n",
       "      <td>2645.00</td>\n",
       "      <td>4619.00</td>\n",
       "    </tr>\n",
       "    <tr>\n",
       "      <th>mean</th>\n",
       "      <td>19.66</td>\n",
       "      <td>21.99</td>\n",
       "      <td>17.96</td>\n",
       "      <td>18.52</td>\n",
       "      <td>21.84</td>\n",
       "      <td>17.60</td>\n",
       "      <td>25.83</td>\n",
       "      <td>23.12</td>\n",
       "    </tr>\n",
       "    <tr>\n",
       "      <th>std</th>\n",
       "      <td>49.57</td>\n",
       "      <td>50.52</td>\n",
       "      <td>45.36</td>\n",
       "      <td>43.99</td>\n",
       "      <td>47.13</td>\n",
       "      <td>43.00</td>\n",
       "      <td>53.01</td>\n",
       "      <td>51.56</td>\n",
       "    </tr>\n",
       "    <tr>\n",
       "      <th>min</th>\n",
       "      <td>0.00</td>\n",
       "      <td>0.00</td>\n",
       "      <td>0.00</td>\n",
       "      <td>0.00</td>\n",
       "      <td>0.00</td>\n",
       "      <td>0.00</td>\n",
       "      <td>0.00</td>\n",
       "      <td>0.00</td>\n",
       "    </tr>\n",
       "    <tr>\n",
       "      <th>25%</th>\n",
       "      <td>0.00</td>\n",
       "      <td>0.00</td>\n",
       "      <td>0.00</td>\n",
       "      <td>0.00</td>\n",
       "      <td>0.00</td>\n",
       "      <td>0.00</td>\n",
       "      <td>0.00</td>\n",
       "      <td>0.00</td>\n",
       "    </tr>\n",
       "    <tr>\n",
       "      <th>50%</th>\n",
       "      <td>0.00</td>\n",
       "      <td>0.00</td>\n",
       "      <td>0.00</td>\n",
       "      <td>0.00</td>\n",
       "      <td>0.00</td>\n",
       "      <td>0.00</td>\n",
       "      <td>0.42</td>\n",
       "      <td>0.00</td>\n",
       "    </tr>\n",
       "    <tr>\n",
       "      <th>75%</th>\n",
       "      <td>14.29</td>\n",
       "      <td>16.67</td>\n",
       "      <td>8.33</td>\n",
       "      <td>11.22</td>\n",
       "      <td>18.33</td>\n",
       "      <td>13.33</td>\n",
       "      <td>25.00</td>\n",
       "      <td>20.00</td>\n",
       "    </tr>\n",
       "    <tr>\n",
       "      <th>max</th>\n",
       "      <td>300.00</td>\n",
       "      <td>300.00</td>\n",
       "      <td>300.00</td>\n",
       "      <td>300.00</td>\n",
       "      <td>285.71</td>\n",
       "      <td>300.00</td>\n",
       "      <td>300.00</td>\n",
       "      <td>300.00</td>\n",
       "    </tr>\n",
       "  </tbody>\n",
       "</table>\n",
       "</div>"
      ],
      "text/plain": [
       "       Canada (2017)  Canada (2018)  India (2017)  India (2018)  UK (2017)  \\\n",
       "count         221.00         354.00        432.00       1648.00     271.00   \n",
       "mean           19.66          21.99         17.96         18.52      21.84   \n",
       "std            49.57          50.52         45.36         43.99      47.13   \n",
       "min             0.00           0.00          0.00          0.00       0.00   \n",
       "25%             0.00           0.00          0.00          0.00       0.00   \n",
       "50%             0.00           0.00          0.00          0.00       0.00   \n",
       "75%            14.29          16.67          8.33         11.22      18.33   \n",
       "max           300.00         300.00        300.00        300.00     285.71   \n",
       "\n",
       "       UK (2018)  USA (2017)  USA (2018)  \n",
       "count     508.00     2645.00     4619.00  \n",
       "mean       17.60       25.83       23.12  \n",
       "std        43.00       53.01       51.56  \n",
       "min         0.00        0.00        0.00  \n",
       "25%         0.00        0.00        0.00  \n",
       "50%         0.00        0.42        0.00  \n",
       "75%        13.33       25.00       20.00  \n",
       "max       300.00      300.00      300.00  "
      ]
     },
     "execution_count": 99,
     "metadata": {},
     "output_type": "execute_result"
    }
   ],
   "source": [
    "# Merging both 2017 and 2018 frequency distribution DataFrames.\n",
    "compare_dist = (\n",
    "    pd.concat([expend_dist_summary_2017, expend_dist_summary_2018], axis=1)\n",
    "    .reindex(columns=compare_dist_columns)\n",
    ")\n",
    "\n",
    "compare_dist"
   ]
  },
  {
   "cell_type": "markdown",
   "metadata": {},
   "source": [
    "\\[End of Project\\]\n",
    "\n",
    "\\***"
   ]
  }
 ],
 "metadata": {
  "hide_input": false,
  "kernelspec": {
   "display_name": "Python 3",
   "language": "python",
   "name": "python3"
  },
  "language_info": {
   "codemirror_mode": {
    "name": "ipython",
    "version": 3
   },
   "file_extension": ".py",
   "mimetype": "text/x-python",
   "name": "python",
   "nbconvert_exporter": "python",
   "pygments_lexer": "ipython3",
   "version": "3.9.2"
  },
  "toc": {
   "base_numbering": 1,
   "nav_menu": {
    "height": "507.333px",
    "width": "907.6px"
   },
   "number_sections": false,
   "sideBar": true,
   "skip_h1_title": true,
   "title_cell": "Table of Contents",
   "title_sidebar": "Contents",
   "toc_cell": false,
   "toc_position": {},
   "toc_section_display": true,
   "toc_window_display": false
  },
  "varInspector": {
   "cols": {
    "lenName": 16,
    "lenType": 16,
    "lenVar": 40
   },
   "kernels_config": {
    "python": {
     "delete_cmd_postfix": "",
     "delete_cmd_prefix": "del ",
     "library": "var_list.py",
     "varRefreshCmd": "print(var_dic_list())"
    },
    "r": {
     "delete_cmd_postfix": ") ",
     "delete_cmd_prefix": "rm(",
     "library": "var_list.r",
     "varRefreshCmd": "cat(var_dic_list()) "
    }
   },
   "position": {
    "height": "596.85px",
    "left": "588px",
    "right": "20px",
    "top": "120px",
    "width": "350px"
   },
   "types_to_exclude": [
    "module",
    "function",
    "builtin_function_or_method",
    "instance",
    "_Feature"
   ],
   "window_display": false
  }
 },
 "nbformat": 4,
 "nbformat_minor": 4
}
