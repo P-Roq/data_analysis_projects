{
 "cells": [
  {
   "cell_type": "markdown",
   "metadata": {},
   "source": [
    "# Guided Project 12: Building a Spam Filter with Naive Bayes"
   ]
  },
  {
   "cell_type": "code",
   "execution_count": 1,
   "metadata": {
    "init_cell": true
   },
   "outputs": [],
   "source": [
    "import numpy as np\n",
    "import pandas as pd\n",
    "import re\n",
    "import matplotlib.pyplot as plt\n",
    "import seaborn as sns\n",
    "\n",
    "%matplotlib inline"
   ]
  },
  {
   "cell_type": "markdown",
   "metadata": {},
   "source": [
    "The spam data set to be worked with will be named `sms_spam`. "
   ]
  },
  {
   "cell_type": "code",
   "execution_count": 68,
   "metadata": {},
   "outputs": [],
   "source": [
    "sms_spam_full = pd.read_csv('SMSSpamCollection.txt',\n",
    "                   sep='\\t',\n",
    "                   names=['Label', 'SMS'])"
   ]
  },
  {
   "cell_type": "markdown",
   "metadata": {},
   "source": [
    "Below, we can see that only aprox. 13.4% of the messages are spam."
   ]
  },
  {
   "cell_type": "code",
   "execution_count": 69,
   "metadata": {},
   "outputs": [
    {
     "data": {
      "text/plain": [
       "ham     86.6\n",
       "spam    13.4\n",
       "Name: ham vs spam (%), dtype: float64"
      ]
     },
     "execution_count": 69,
     "metadata": {},
     "output_type": "execute_result"
    }
   ],
   "source": [
    "count_label = sms_spam_full.Label.value_counts(normalize=True).round(3)*100\n",
    "\n",
    "count_label = count_label.rename('ham vs spam (%)')\n",
    "\n",
    "count_label"
   ]
  },
  {
   "cell_type": "markdown",
   "metadata": {},
   "source": [
    "The next step is to create a training set and a test set out of `sms_spam_full`:\n",
    "\n",
    "1. Randomizing the `sms_spam_full`.\n",
    "\n",
    "\n",
    "2. Split randomized DF into a training set (20%) and a testing set (remaining 80%).\n",
    "\n",
    "\n",
    "3. Compare the 'Label' value distribution of the entire randomized DF with the previously made subsets."
   ]
  },
  {
   "cell_type": "code",
   "execution_count": 70,
   "metadata": {},
   "outputs": [],
   "source": [
    "# 1.\n",
    "random_sms_spam = sms_spam_full.sample(n=None, frac=1, random_state=1).reset_index(drop=True)"
   ]
  },
  {
   "cell_type": "markdown",
   "metadata": {},
   "source": [
    "From earlier on we know that `random_sms_spam` has 5572 entries (0 to 5571)."
   ]
  },
  {
   "cell_type": "code",
   "execution_count": 71,
   "metadata": {},
   "outputs": [
    {
     "name": "stdout",
     "output_type": "stream",
     "text": [
      "Total number of observations/rows in random_sms_spam: 5572 \n",
      "20% of total observations/rows in random_sms_spam: 4458.0\n"
     ]
    }
   ],
   "source": [
    "eighty_perc = random_sms_spam.shape[0] * 0.8\n",
    "\n",
    "print(f'Total number of observations/rows in random_sms_spam: {random_sms_spam.shape[0]}', \n",
    "      f'\\n20% of total observations/rows in random_sms_spam: {round(eighty_perc, 0)}')"
   ]
  },
  {
   "cell_type": "markdown",
   "metadata": {},
   "source": [
    "Based on the information above we set the training set as the rows 0 to 4458, 80% of the total rows in `random_sms_spam`. The remaining rows, will form the testing set. "
   ]
  },
  {
   "cell_type": "code",
   "execution_count": 72,
   "metadata": {},
   "outputs": [],
   "source": [
    "# 2.\n",
    "training_set = random_sms_spam.copy().iloc[:4458+1, :]\n",
    "\n",
    "testing_set = random_sms_spam.copy().iloc[4458:, :]"
   ]
  },
  {
   "cell_type": "markdown",
   "metadata": {},
   "source": [
    "Finally, comparing the distribution of values in the `Label` column across DataFrames."
   ]
  },
  {
   "cell_type": "code",
   "execution_count": 73,
   "metadata": {},
   "outputs": [
    {
     "data": {
      "text/html": [
       "<div>\n",
       "<style scoped>\n",
       "    .dataframe tbody tr th:only-of-type {\n",
       "        vertical-align: middle;\n",
       "    }\n",
       "\n",
       "    .dataframe tbody tr th {\n",
       "        vertical-align: top;\n",
       "    }\n",
       "\n",
       "    .dataframe thead th {\n",
       "        text-align: right;\n",
       "    }\n",
       "</style>\n",
       "<table border=\"1\" class=\"dataframe\">\n",
       "  <thead>\n",
       "    <tr style=\"text-align: right;\">\n",
       "      <th></th>\n",
       "      <th>random_sms_spam</th>\n",
       "      <th>count_label_training</th>\n",
       "      <th>count_label_testing</th>\n",
       "    </tr>\n",
       "  </thead>\n",
       "  <tbody>\n",
       "    <tr>\n",
       "      <th>ham</th>\n",
       "      <td>86.6</td>\n",
       "      <td>86.5</td>\n",
       "      <td>86.8</td>\n",
       "    </tr>\n",
       "    <tr>\n",
       "      <th>spam</th>\n",
       "      <td>13.4</td>\n",
       "      <td>13.5</td>\n",
       "      <td>13.2</td>\n",
       "    </tr>\n",
       "  </tbody>\n",
       "</table>\n",
       "</div>"
      ],
      "text/plain": [
       "      random_sms_spam  count_label_training  count_label_testing\n",
       "ham              86.6                  86.5                 86.8\n",
       "spam             13.4                  13.5                 13.2"
      ]
     },
     "execution_count": 73,
     "metadata": {},
     "output_type": "execute_result"
    }
   ],
   "source": [
    "# 3.\n",
    "\n",
    "# Training set.\n",
    "count_label_training = training_set.Label.value_counts(normalize=True).round(3)*100\n",
    "\n",
    "count_label_training = count_label_training.rename('ham vs spam (%)')\n",
    "\n",
    "# Testing set.\n",
    "count_label_testing = testing_set.Label.value_counts(normalize=True).round(3)*100\n",
    "\n",
    "count_label_testing = count_label_testing.rename('ham vs spam (%)')\n",
    "\n",
    "\n",
    "# Combining all label percentage counts for comparison.\n",
    "compare_label = pd.DataFrame({'random_sms_spam': count_label,\n",
    "                              'count_label_training': count_label_training,\n",
    "                              'count_label_testing': count_label_testing})\n",
    "\n",
    "compare_label"
   ]
  },
  {
   "cell_type": "markdown",
   "metadata": {},
   "source": [
    "As we can see in the table above, the value distribution is very similar across the panel, meaning that we can infer the conclusions produced from the training set to the testing set, since both sets resemble the original series."
   ]
  },
  {
   "cell_type": "code",
   "execution_count": 74,
   "metadata": {},
   "outputs": [],
   "source": [
    "# Saving RAM 1\n",
    "del sms_spam_full\n",
    "del random_sms_spam"
   ]
  },
  {
   "cell_type": "markdown",
   "metadata": {},
   "source": [
    "For the next stage we focus on working with the training set. In order to apply the Naive Bayes Theorem, we can build a table that, for each message, classifies it as spam or not spam and counts the number of times a word, from the vocabulary, appears in the message. Whenever a message does not contain a word from the vocabulary, each word in the vocabulary having its own column, it registers `0`. Remember that the vocabulary is the group of all unique words gathered from all the messages within the training set.\n",
    "\n",
    "Prior to building this DataFrame, two cleaning steps applied to the `SMS` column will be undertaken:\n",
    "\n",
    "- eliminate punctuation.\n",
    "- lower case every word."
   ]
  },
  {
   "cell_type": "markdown",
   "metadata": {},
   "source": [
    "The list below `non_words_list`, gives the characters that are removed from the strings/messages when `str.replace()` is applied with the parameter `pattern=\\W` to the `training_set.SMS` column.\n",
    "This is important to analise because the regex character class `\\W`, when applied, may remove some specific characters that are common in spam messages, hence weakening the algorithm's accuracy."
   ]
  },
  {
   "cell_type": "code",
   "execution_count": 75,
   "metadata": {},
   "outputs": [],
   "source": [
    "all_messages_str = ''\n",
    "\n",
    "for index, value in enumerate(training_set.SMS):\n",
    "    all_messages_str = ' '.join([all_messages_str, value])\n",
    "    \n",
    "\n",
    "non_words_set = set(re.findall('\\W', all_messages_str))\n",
    "\n",
    "\n",
    "non_words_list = list(non_words_set)\n",
    "\n",
    "non_words_list_w_spaces = [' ' + i + ' ' for i in non_words_list]"
   ]
  },
  {
   "cell_type": "code",
   "execution_count": 76,
   "metadata": {},
   "outputs": [
    {
     "data": {
      "text/plain": [
       "[')',\n",
       " '\\x94',\n",
       " '~',\n",
       " '%',\n",
       " '\\t',\n",
       " '@',\n",
       " ';',\n",
       " '|',\n",
       " '\\x96',\n",
       " '>',\n",
       " ',',\n",
       " '\\\\',\n",
       " '/',\n",
       " '.',\n",
       " '\"',\n",
       " '\\x93',\n",
       " '\\x92',\n",
       " '“',\n",
       " '+',\n",
       " '#',\n",
       " '$',\n",
       " '*',\n",
       " '£',\n",
       " '?',\n",
       " '=',\n",
       " ' ',\n",
       " '-',\n",
       " \"'\",\n",
       " ']',\n",
       " '<',\n",
       " '!',\n",
       " '’',\n",
       " '—',\n",
       " '¡',\n",
       " ':',\n",
       " '–',\n",
       " '(',\n",
       " '┾',\n",
       " '&',\n",
       " '‘',\n",
       " '…',\n",
       " '\\n',\n",
       " '»',\n",
       " '[',\n",
       " '\\x91',\n",
       " '^']"
      ]
     },
     "execution_count": 76,
     "metadata": {},
     "output_type": "execute_result"
    }
   ],
   "source": [
    "non_words_list"
   ]
  },
  {
   "cell_type": "markdown",
   "metadata": {},
   "source": [
    "As we can observe above, there are caraceters such as currency symbols, which would are removed from the strings if we apply:\n",
    "\n",
    "    training_set.SMS.copy().str.replace('\\W', ' ', regex=True)\n",
    "    \n",
    "Therefore, we proceed to maintain characters related to currency in the messages:"
   ]
  },
  {
   "cell_type": "code",
   "execution_count": 77,
   "metadata": {},
   "outputs": [],
   "source": [
    "# Training set `SMS` cleaned series\n",
    "\n",
    "ts_cleaned_SMS = training_set.SMS.copy().str.replace('[^A-Za-z0-9\\s£€\\$]', ' ', regex=True)\n",
    "ts_cleaned_SMS = ts_cleaned_SMS.str.replace('€', ' € ', regex=False)\n",
    "ts_cleaned_SMS = ts_cleaned_SMS.str.replace('£', ' £ ', regex=True)\n",
    "ts_cleaned_SMS = ts_cleaned_SMS.str.replace('\\$', ' $ ', regex=True)\n"
   ]
  },
  {
   "cell_type": "markdown",
   "metadata": {},
   "source": [
    "We've seen in 'p12 - practice 2' that this innovation will marginally improve the algorithm's accuracy, but some money references were still not accounted for.\n",
    "\n",
    "We can tell that we are working with a set of messages presumably from UK, since the money/currency references made are either 'GBP' or pences. When filtering the training set for 'pence' or other proxy we realize that there are many variations of this 'tell tell' sign of spamming. Some variations on 'pence' include '150pm', which stands for '150 per message' can be seen below. \n",
    "\n",
    "The regex expression inside `re.findall` - `pattern_pences`, looks for every sequence of characters that \n",
    "might include a sequence of characters composed of a single  to 3 digits (`\\d{1, 3}`) followed immediately by the word `p`. This limitation is due to the fact that we know by default that references to pences range usually from 5 to 150 (or more) but not in the thousands range. Expected matches are: \n",
    "\n",
    "|sub-pattern  |  example                 | \n",
    "|---------|--------------------------|\n",
    "|  \\d+p\\w+ |'**150p**pmsg'   | \n",
    "|  \\d+p\\w+ |'**50p**erwksub'   | \n",
    "|  \\w+\\d+p | '08712400602**450p**'  | \n",
    "|  \\w+\\d{1,}p\\w+ | 'com1win**150p**pmx3age16'  | \n",
    "\n",
    "We can notice that in some situations such as in the second example, some words may not be referencing pences but we'll leave it as such for now."
   ]
  },
  {
   "cell_type": "code",
   "execution_count": 78,
   "metadata": {},
   "outputs": [
    {
     "data": {
      "text/plain": [
       "['08700621170150p',\n",
       " '150pm',\n",
       " '150p',\n",
       " '10p',\n",
       " '150p',\n",
       " '150p',\n",
       " '50pmmorefrommobile2Bremoved',\n",
       " 'MobStoreQuiz10ppm',\n",
       " 'callcost150ppmmobilesvary',\n",
       " '450pw',\n",
       " '35p',\n",
       " 'com1win150ppmx3age16',\n",
       " '1x150p',\n",
       " '10ppm',\n",
       " '000pes',\n",
       " '150ppm',\n",
       " '150p',\n",
       " '150ppm',\n",
       " '150p',\n",
       " '150p',\n",
       " '150p',\n",
       " '08712400602450p',\n",
       " '150p',\n",
       " '150p',\n",
       " '150ppm',\n",
       " '150p',\n",
       " '150ppmPOBox10183BhamB64XE',\n",
       " '8pm',\n",
       " '150p',\n",
       " '150p',\n",
       " '150ppmsg',\n",
       " '10p',\n",
       " '7pm',\n",
       " '50perWKsub',\n",
       " '50p',\n",
       " '25p',\n",
       " '150p',\n",
       " '150ppm',\n",
       " '60p',\n",
       " '20p',\n",
       " '150p',\n",
       " '150p',\n",
       " '25p',\n",
       " '150p',\n",
       " '150ppm',\n",
       " 'gr8prizes',\n",
       " 'com1win150ppmx3age16subscription',\n",
       " '150p',\n",
       " '150p',\n",
       " '10p',\n",
       " '2price',\n",
       " '50p',\n",
       " '2p',\n",
       " '18p',\n",
       " '150p',\n",
       " 'norm150p',\n",
       " '150p',\n",
       " '150ppm',\n",
       " '100percent',\n",
       " '150p',\n",
       " '11pm',\n",
       " '150p',\n",
       " '150p',\n",
       " '60p',\n",
       " '08712400602450p',\n",
       " '150p',\n",
       " '50perWKsub',\n",
       " '150p',\n",
       " '5p',\n",
       " '150pm',\n",
       " 'box245c2150pm',\n",
       " '100percent',\n",
       " '45pm',\n",
       " '50p',\n",
       " '25p',\n",
       " '150ppermessSubscription',\n",
       " '08701417012150p',\n",
       " '150p',\n",
       " '20p',\n",
       " '150p',\n",
       " '60p',\n",
       " '50p',\n",
       " '9pm',\n",
       " '7pm',\n",
       " '30pm',\n",
       " '150p',\n",
       " '10p',\n",
       " '150ppm',\n",
       " '20p',\n",
       " '150p',\n",
       " '150p',\n",
       " '25p',\n",
       " '150ppm',\n",
       " '1x150p',\n",
       " '9pm',\n",
       " '20p',\n",
       " 'Msg150p',\n",
       " '10p',\n",
       " '08700435505150p',\n",
       " '10p',\n",
       " '10p',\n",
       " '7pm',\n",
       " 'com1win150ppmx3age16',\n",
       " '150p',\n",
       " '7pm',\n",
       " '150p',\n",
       " '100p',\n",
       " '150p',\n",
       " '150ppm',\n",
       " '150ppm',\n",
       " '50p',\n",
       " '150p',\n",
       " '30pp',\n",
       " '150ppermessSubscription',\n",
       " '150ppm',\n",
       " '150ppm',\n",
       " '6pm',\n",
       " '10p',\n",
       " '150p',\n",
       " '20p',\n",
       " '1x150p',\n",
       " '7pm',\n",
       " '7pm',\n",
       " 'com1win150ppmx3age16',\n",
       " '60p',\n",
       " '150ppm',\n",
       " '20p',\n",
       " '150ppm',\n",
       " '150ppm',\n",
       " '150ppm',\n",
       " '10p',\n",
       " '9pm',\n",
       " 'norm150p',\n",
       " '150pm',\n",
       " '20p',\n",
       " '150p',\n",
       " '50ppm',\n",
       " 'PoBox12n146tf150p',\n",
       " '10p',\n",
       " '7876150ppm',\n",
       " '10p',\n",
       " '25p',\n",
       " '1x150p',\n",
       " '08700621170150p',\n",
       " '1win150ppmx3',\n",
       " '150p',\n",
       " '10p',\n",
       " '50pm',\n",
       " '150p',\n",
       " '150ppm',\n",
       " '11pm',\n",
       " '150ppm',\n",
       " '150ppm',\n",
       " '6pm',\n",
       " '5pm',\n",
       " '300p',\n",
       " '150p',\n",
       " '150p',\n",
       " '47per',\n",
       " '80122300p',\n",
       " '150ppm',\n",
       " '118p',\n",
       " '150p',\n",
       " '150pm',\n",
       " '150pm',\n",
       " '30pp',\n",
       " '20p',\n",
       " '150ppm',\n",
       " '150ppm',\n",
       " '08718727870150ppm',\n",
       " 'norm150p',\n",
       " '150ppm',\n",
       " '150pw',\n",
       " 'cc100p',\n",
       " '10ppm',\n",
       " '150p',\n",
       " '11pm',\n",
       " '150ppm',\n",
       " '25p',\n",
       " '08701417012150p',\n",
       " '5p',\n",
       " '15pm',\n",
       " '1win150ppmx3',\n",
       " '150p',\n",
       " '150p',\n",
       " '31p',\n",
       " '10p',\n",
       " '150p',\n",
       " '8pm',\n",
       " '150p',\n",
       " '1pm',\n",
       " '10p',\n",
       " '50p',\n",
       " '150p',\n",
       " '150ppm',\n",
       " '150pm',\n",
       " '150p',\n",
       " '150ppm',\n",
       " '150p',\n",
       " '150p',\n",
       " '5p',\n",
       " '150p',\n",
       " '120p',\n",
       " '50perWKsub',\n",
       " '150p',\n",
       " '5pm',\n",
       " '150p',\n",
       " 'norm150p',\n",
       " 'norm150p',\n",
       " '50p',\n",
       " '140ppm',\n",
       " '150p',\n",
       " '20p']"
      ]
     },
     "execution_count": 78,
     "metadata": {},
     "output_type": "execute_result"
    }
   ],
   "source": [
    "list_of_patterns = []\n",
    "\n",
    "pattern_pences = '\\\\b\\w*\\d{1,3}p\\w*\\\\b'\n",
    "\n",
    "for i, val in enumerate(ts_cleaned_SMS):\n",
    "    pences = re.findall(pattern_pences, val)\n",
    "    if len(pences):\n",
    "        list_of_patterns.append(pences[0])\n",
    "        \n",
    "list_of_patterns      "
   ]
  },
  {
   "cell_type": "markdown",
   "metadata": {},
   "source": [
    "One attempt to make the algorithm recognize references to pences is to separate expressions like the ones previously mentioned, e.g. '10p', '150p', from the rest of the characters with a whitespace. The way to achieve this is to first, identify a list of patterns (which is already done above); create a modified string compiled in a `list_of_replacements`, and last, replacing in the main data set the old expression for the new expression inside the same message. Example of a message modification: `training_set.SMS[186]`, contains this expression: 'callcost150ppmmobilesvary'.\n",
    "\n",
    "In its former form:\n",
    "\n",
    "'URGENT  This is the 2nd attempt to contact U U have WON  £ 1000CALL 09071512432 b4 300603t csBCM4235WC1N3XX callcost150ppmmobilesvary  max £ 7  50'\n",
    "\n",
    "In its later form, after the modification:\n",
    "\n",
    "'URGENT  This is the 2nd attempt to contact U U have WON  £ 1000CALL 09071512432 b4 300603t csBCM4235WC1N3XX callcost 150p pmmobilesvary  max £ 7  50'\n",
    "\n",
    "To that end, we create "
   ]
  },
  {
   "cell_type": "code",
   "execution_count": 79,
   "metadata": {},
   "outputs": [
    {
     "data": {
      "text/plain": [
       "['08700621170 150p ',\n",
       " ' 150p m',\n",
       " ' 150p ',\n",
       " ' 10p ',\n",
       " ' 150p ',\n",
       " ' 150p ',\n",
       " ' 50p mmorefrommobile2Bremoved',\n",
       " 'MobStoreQuiz 10p pm',\n",
       " 'callcost 150p pmmobilesvary',\n",
       " ' 450p w',\n",
       " ' 35p ',\n",
       " 'com1win 150p pmx3age16',\n",
       " '1x 150p ',\n",
       " ' 10p pm',\n",
       " ' 000p es',\n",
       " ' 150p pm',\n",
       " ' 150p ',\n",
       " ' 150p pm',\n",
       " ' 150p ',\n",
       " ' 150p ',\n",
       " ' 150p ',\n",
       " '08712400602 450p ',\n",
       " ' 150p ',\n",
       " ' 150p ',\n",
       " ' 150p pm',\n",
       " ' 150p ',\n",
       " ' 150p pmPOBox10183BhamB64XE',\n",
       " ' 150p pmPOBox10183BhamB64XE',\n",
       " ' 150p ',\n",
       " ' 150p ',\n",
       " ' 150p pmsg',\n",
       " ' 10p ',\n",
       " ' 10p ',\n",
       " ' 50p erWKsub',\n",
       " ' 50p ',\n",
       " ' 25p ',\n",
       " ' 150p ',\n",
       " ' 150p pm',\n",
       " ' 60p ',\n",
       " ' 20p ',\n",
       " ' 150p ',\n",
       " ' 150p ',\n",
       " ' 25p ',\n",
       " ' 150p ',\n",
       " ' 150p pm',\n",
       " 'gr 8p rizes',\n",
       " 'com1win 150p pmx3age16subscription',\n",
       " ' 150p ',\n",
       " ' 150p ',\n",
       " ' 10p ',\n",
       " ' 2p rice',\n",
       " ' 50p ',\n",
       " ' 2p ',\n",
       " ' 18p ',\n",
       " ' 150p ',\n",
       " 'norm 150p ',\n",
       " ' 150p ',\n",
       " ' 150p pm',\n",
       " ' 100p ercent',\n",
       " ' 150p ',\n",
       " ' 150p ',\n",
       " ' 150p ',\n",
       " ' 150p ',\n",
       " ' 60p ',\n",
       " '08712400602 450p ',\n",
       " ' 150p ',\n",
       " ' 50p erWKsub',\n",
       " ' 150p ',\n",
       " ' 5p ',\n",
       " ' 150p m',\n",
       " 'box245c2 150p m',\n",
       " ' 100p ercent',\n",
       " ' 100p ercent',\n",
       " ' 50p ',\n",
       " ' 25p ',\n",
       " ' 150p permessSubscription',\n",
       " '08701417012 150p ',\n",
       " ' 150p ',\n",
       " ' 20p ',\n",
       " ' 150p ',\n",
       " ' 60p ',\n",
       " ' 50p ',\n",
       " ' 50p ',\n",
       " ' 50p ',\n",
       " ' 30p m',\n",
       " ' 150p ',\n",
       " ' 10p ',\n",
       " ' 150p pm',\n",
       " ' 20p ',\n",
       " ' 150p ',\n",
       " ' 150p ',\n",
       " ' 25p ',\n",
       " ' 150p pm',\n",
       " '1x 150p ',\n",
       " '1x 150p ',\n",
       " ' 20p ',\n",
       " 'Msg 150p ',\n",
       " ' 10p ',\n",
       " '08700435505 150p ',\n",
       " ' 10p ',\n",
       " ' 10p ',\n",
       " ' 10p ',\n",
       " 'com1win 150p pmx3age16',\n",
       " ' 150p ',\n",
       " ' 150p ',\n",
       " ' 150p ',\n",
       " ' 100p ',\n",
       " ' 150p ',\n",
       " ' 150p pm',\n",
       " ' 150p pm',\n",
       " ' 50p ',\n",
       " ' 150p ',\n",
       " ' 30p p',\n",
       " ' 150p permessSubscription',\n",
       " ' 150p pm',\n",
       " ' 150p pm',\n",
       " ' 150p pm',\n",
       " ' 10p ',\n",
       " ' 150p ',\n",
       " ' 20p ',\n",
       " '1x 150p ',\n",
       " '1x 150p ',\n",
       " '1x 150p ',\n",
       " 'com1win 150p pmx3age16',\n",
       " ' 60p ',\n",
       " ' 150p pm',\n",
       " ' 20p ',\n",
       " ' 150p pm',\n",
       " ' 150p pm',\n",
       " ' 150p pm',\n",
       " ' 10p ',\n",
       " ' 10p ',\n",
       " 'norm 150p ',\n",
       " ' 150p m',\n",
       " ' 20p ',\n",
       " ' 150p ',\n",
       " ' 50p pm',\n",
       " 'PoBox12n146tf 150p ',\n",
       " ' 10p ',\n",
       " '7876 150p pm',\n",
       " ' 10p ',\n",
       " ' 25p ',\n",
       " '1x 150p ',\n",
       " '08700621170 150p ',\n",
       " '1win 150p pmx3',\n",
       " ' 150p ',\n",
       " ' 10p ',\n",
       " ' 50p m',\n",
       " ' 150p ',\n",
       " ' 150p pm',\n",
       " ' 150p pm',\n",
       " ' 150p pm',\n",
       " ' 150p pm',\n",
       " ' 150p pm',\n",
       " ' 150p pm',\n",
       " ' 300p ',\n",
       " ' 150p ',\n",
       " ' 150p ',\n",
       " ' 47p er',\n",
       " '80122 300p ',\n",
       " ' 150p pm',\n",
       " ' 118p ',\n",
       " ' 150p ',\n",
       " ' 150p m',\n",
       " ' 150p m',\n",
       " ' 30p p',\n",
       " ' 20p ',\n",
       " ' 150p pm',\n",
       " ' 150p pm',\n",
       " '08718727870 150p pm',\n",
       " 'norm 150p ',\n",
       " ' 150p pm',\n",
       " ' 150p w',\n",
       " 'cc 100p ',\n",
       " ' 10p pm',\n",
       " ' 150p ',\n",
       " ' 150p ',\n",
       " ' 150p pm',\n",
       " ' 25p ',\n",
       " '08701417012 150p ',\n",
       " ' 5p ',\n",
       " ' 5p ',\n",
       " '1win 150p pmx3',\n",
       " ' 150p ',\n",
       " ' 150p ',\n",
       " ' 31p ',\n",
       " ' 10p ',\n",
       " ' 150p ',\n",
       " ' 150p ',\n",
       " ' 150p ',\n",
       " ' 150p ',\n",
       " ' 10p ',\n",
       " ' 50p ',\n",
       " ' 150p ',\n",
       " ' 150p pm',\n",
       " ' 150p m',\n",
       " ' 150p ',\n",
       " ' 150p pm',\n",
       " ' 150p ',\n",
       " ' 150p ',\n",
       " ' 5p ',\n",
       " ' 150p ',\n",
       " ' 120p ',\n",
       " ' 50p erWKsub',\n",
       " ' 150p ',\n",
       " ' 150p ',\n",
       " ' 150p ',\n",
       " 'norm 150p ',\n",
       " 'norm 150p ',\n",
       " ' 50p ',\n",
       " ' 140p pm',\n",
       " ' 150p ',\n",
       " ' 20p ']"
      ]
     },
     "execution_count": 79,
     "metadata": {},
     "output_type": "execute_result"
    }
   ],
   "source": [
    "list_of_replacements = []\n",
    "pences_references = []\n",
    "\n",
    "for i, val_1 in enumerate(list_of_patterns):\n",
    "    if re.findall('([1-9]pm|1[0-2]pm)', val_1) == []:\n",
    "        pence_ref = val_1\n",
    "        digits = re.findall('\\d{1,3}p', pence_ref)\n",
    "        pences_references.append(digits)\n",
    "\n",
    "    final_str = ''\n",
    "    \n",
    "    for val_2 in digits:\n",
    "        \n",
    "        sub = ' ' + val_2 + ' '\n",
    "        \n",
    "        if final_str == '':\n",
    "            final_str = re.sub(val_2, sub, pence_ref, count=1)\n",
    "            \n",
    "        else:\n",
    "            final_str = re.sub(val_2, sub, final_str, count=1)\n",
    "    \n",
    "    list_of_replacements.append(final_str)\n",
    "\n",
    "list_of_replacements"
   ]
  },
  {
   "cell_type": "markdown",
   "metadata": {},
   "source": [
    "The following function, when applied to a string, looks for expressions that may be in the `list_of_patterns` and if there is a match, it replaces that expression for the equivelent version (with whispaces separating letters from words, as seen previously), resorting to the `list_of_replacements`."
   ]
  },
  {
   "cell_type": "code",
   "execution_count": 80,
   "metadata": {},
   "outputs": [],
   "source": [
    "def replace(string):\n",
    "    \n",
    "    new_string = ''\n",
    "    \n",
    "    for i, val in enumerate(list_of_patterns):\n",
    "        if val in string:\n",
    "            new_string += re.sub(val, list_of_replacements[i], string)\n",
    "            break\n",
    "            \n",
    "    if len(new_string):\n",
    "        return new_string\n",
    "    else:\n",
    "        return string"
   ]
  },
  {
   "cell_type": "markdown",
   "metadata": {},
   "source": [
    "Applying the `replace` function in the `ts_cleaned_SMS` data set:"
   ]
  },
  {
   "cell_type": "code",
   "execution_count": 81,
   "metadata": {},
   "outputs": [],
   "source": [
    "ts_cleaned_SMS_2 = ts_cleaned_SMS.apply(replace)"
   ]
  },
  {
   "cell_type": "markdown",
   "metadata": {},
   "source": [
    "Manually verifying changes made by the function in two random spam messages:"
   ]
  },
  {
   "cell_type": "code",
   "execution_count": 82,
   "metadata": {},
   "outputs": [
    {
     "data": {
      "text/plain": [
       "'URGENT  This is the 2nd attempt to contact U U have WON  £ 1000CALL 09071512432 b4 300603t csBCM4235WC1N3XX callcost150ppmmobilesvary  max £ 7  50'"
      ]
     },
     "execution_count": 82,
     "metadata": {},
     "output_type": "execute_result"
    }
   ],
   "source": [
    "# the one from the previous example\n",
    "ts_cleaned_SMS[186]"
   ]
  },
  {
   "cell_type": "code",
   "execution_count": 83,
   "metadata": {},
   "outputs": [
    {
     "data": {
      "text/plain": [
       "'URGENT  This is the 2nd attempt to contact U U have WON  £ 1000CALL 09071512432 b4 300603t csBCM4235WC1N3XX callcost 150p pmmobilesvary  max £ 7  50'"
      ]
     },
     "execution_count": 83,
     "metadata": {},
     "output_type": "execute_result"
    }
   ],
   "source": [
    "ts_cleaned_SMS_2[186]"
   ]
  },
  {
   "cell_type": "code",
   "execution_count": 84,
   "metadata": {},
   "outputs": [
    {
     "data": {
      "text/plain": [
       "'Someone has contacted our dating service and entered your phone because they fancy you  To find out who it is call from a landline 09111032124   PoBox12n146tf150p'"
      ]
     },
     "execution_count": 84,
     "metadata": {},
     "output_type": "execute_result"
    }
   ],
   "source": [
    "ts_cleaned_SMS[2821]"
   ]
  },
  {
   "cell_type": "code",
   "execution_count": 85,
   "metadata": {},
   "outputs": [
    {
     "data": {
      "text/plain": [
       "'Someone has contacted our dating service and entered your phone because they fancy you  To find out who it is call from a landline 09111032124   PoBox12n146tf 150p '"
      ]
     },
     "execution_count": 85,
     "metadata": {},
     "output_type": "execute_result"
    }
   ],
   "source": [
    "ts_cleaned_SMS_2[2821]"
   ]
  },
  {
   "cell_type": "code",
   "execution_count": 86,
   "metadata": {},
   "outputs": [
    {
     "data": {
      "text/plain": [
       "0                                                                                                                                                                                                                                                                                                       Yep by the pretty sculpture\n",
       "1                                                                                                                                                                                                                                                                                       Yes princess Are you going to make me moan \n",
       "2                                                                                                                                                                                                                                                                                                        Welp apparently he retired\n",
       "3                                                                                                                                                                                                                                                                                                                           Havent \n",
       "4                                                                                                                                                                                                                                 I forgot 2 ask all smth There s a card on da present lei How all want 2 write smth or sign on it \n",
       "5                                                                                                                                                                                                                                                                                Ok i thk i got it Then u wan me 2 come now or wat \n",
       "6                                                                                                                                                                                                                                                            I want kfc its Tuesday Only buy 2 meals ONLY 2 No gravy Only 2 Mark 2 \n",
       "7                                                                                                                                                                                                                                                                                                          No dear i was sleeping P\n",
       "8                                                                                                                                                                                                                                                                                                            Ok pa Nothing problem \n",
       "9                                                                                                                                                                                                                                                                                                         Ill be there on lt gt ok \n",
       "10                                                                                                                                                                                                                                                                             My uncles in Atlanta Wish you guys a great semester \n",
       "11                                                                                                                                                                                                                                                                                                                         My phone\n",
       "12                                                                                                                                                                                                                                                                                                     Ok which your another number\n",
       "13                                                                                                                                                                                                                                               The greatest test of courage on earth is to bear defeat without losing heart gn tc\n",
       "14                                                                                                                                                                                                                                                                                Dai what this da Can i send my resume to this id \n",
       "15                                                                                                                                                                                                                                                                                                     I am late I will be there at\n",
       "16                                                                                                                                                                      FreeMsg Why haven t you replied to my text I m Randy sexy female and live local Luv to hear from u Netcollex Ltd 08700621170 150p per msg reply Stop to end\n",
       "17                                                                                                                                                                                                                                                                                                 K text me when you re on the way\n",
       "18                                                                                                                                                                         Congrats 2 mobile 3G Videophones R yours call 09061744553 now videochat wid ur mates play java games Dload polyH music noline rentl bx420 ip4 5we 150p m\n",
       "19                                                                                                                                                                                                                                                                                  Please leave this topic sorry for telling that \n",
       "20                                                                                                                                                                                                                                                                      Ooooooh I forgot to tell u I can get on yoville on my phone\n",
       "21                                                                                                                                                                                                                                                                                         Hi this is yijue can i meet u at 11 tmr \n",
       "22                                                                                                                                                                                                                                                                          I want to show you the world princess how about europe \n",
       "23                                                                                                                                                                                                                                                                                                Well that must be a pain to catch\n",
       "24                                                                                                                                                                                                                                                                                                Well You know what i mean Texting\n",
       "25                                                                                                                                                                                                                                                                                      Your bill at 3 is £ 33 65 so thats not bad \n",
       "26                                                                                                                                                                                                                                                                                                      Yeah where s your class at \n",
       "27                                                                                                                                                                                                                                                                                                                   What s ur pin \n",
       "28                                                                                                                                                                                 Fighting with the world is easy u either win or lose bt fightng with some1 who is close to u is dificult if u lose u lose if u win u still lose \n",
       "29    Dude What s up How Teresa Hope you have been okay When i didnt hear from these people i called them and they had received the package since dec lt gt Just thot you ld like to know Do have a fantastic year and all the best with your reading Plus if you can really really Bam first aid for Usmle then your work is done \n",
       "Name: SMS, dtype: object"
      ]
     },
     "execution_count": 86,
     "metadata": {},
     "output_type": "execute_result"
    }
   ],
   "source": [
    "#`\\s+` ensures that if there are two or more joined whitespaces they are converted to just one.\n",
    "ts_cleaned_SMS_2 = ts_cleaned_SMS_2.str.replace('\\s+', ' ', regex=True) \n",
    "\n",
    "ts_cleaned_SMS_2.head(30)"
   ]
  },
  {
   "cell_type": "markdown",
   "metadata": {},
   "source": [
    "The last version of `ts_cleaned_SMS` still has rows which have whitespaces at the beginning or end of the message which can be removed."
   ]
  },
  {
   "cell_type": "code",
   "execution_count": 87,
   "metadata": {},
   "outputs": [],
   "source": [
    "ts_cleaned_SMS = ts_cleaned_SMS.str.replace('(\\A +| +\\Z)', '', regex=True)"
   ]
  },
  {
   "cell_type": "markdown",
   "metadata": {},
   "source": [
    "Below we confirm that there is no whitespaces at the beginning or end of the row/string. "
   ]
  },
  {
   "cell_type": "code",
   "execution_count": 88,
   "metadata": {},
   "outputs": [
    {
     "name": "stdout",
     "output_type": "stream",
     "text": [
      "Series([], Name: SMS, dtype: bool)\n",
      "Series([], Name: SMS, dtype: bool)\n"
     ]
    }
   ],
   "source": [
    "cond1 = ts_cleaned_SMS.str.contains(pat='(?:\\A +| +\\Z)')\n",
    "\n",
    "ts_cleaned_SMS[cond1]"
   ]
  },
  {
   "cell_type": "code",
   "execution_count": 89,
   "metadata": {},
   "outputs": [],
   "source": [
    "# Lower case for every string.\n",
    "ts_cleaned_SMS_2 = ts_cleaned_SMS_2.str.lower()"
   ]
  },
  {
   "cell_type": "markdown",
   "metadata": {},
   "source": [
    "Checking if the changes in `training_set.SMS` were successful:"
   ]
  },
  {
   "cell_type": "code",
   "execution_count": 90,
   "metadata": {},
   "outputs": [
    {
     "data": {
      "text/plain": [
       "0                                                                         yep by the pretty sculpture\n",
       "1                                                          yes princess are you going to make me moan\n",
       "2                                                                          welp apparently he retired\n",
       "3                                                                                              havent\n",
       "4    i forgot 2 ask all smth there s a card on da present lei how all want 2 write smth or sign on it\n",
       "Name: SMS, dtype: object"
      ]
     },
     "execution_count": 90,
     "metadata": {},
     "output_type": "execute_result"
    }
   ],
   "source": [
    "ts_cleaned_SMS_2.head()"
   ]
  },
  {
   "cell_type": "markdown",
   "metadata": {},
   "source": [
    "The next stage is producing the vocabulary (set of unique words), with the following steps:\n",
    "\n",
    "1. Split messages into columns - one unique string per column (removing most of the whitespaces as well).\n",
    "2. Concatenating all the columns of strings into a single Series.\n",
    "3. Dropping Nan-values.\n",
    "3. Convert Series into a list.\n",
    "4. Converting list into a set, thus excluding duplicated values/words.\n",
    "5. Convert set into back into a list."
   ]
  },
  {
   "cell_type": "code",
   "execution_count": 91,
   "metadata": {},
   "outputs": [],
   "source": [
    "# 1.\n",
    "ts_cleaned_SMS_split = ts_cleaned_SMS_2.str.split(' ', expand=True) \n",
    "\n",
    "# 2.\n",
    "ts_cleaned_SMS_split_cat = pd.concat([ts_cleaned_SMS_split.iloc[i, :] for i in range(0, ts_cleaned_SMS_split.shape[0])], ignore_index=True)\n",
    "# 3.\n",
    "ts_cleaned_SMS_split_cat = ts_cleaned_SMS_split_cat.dropna()\n",
    "\n",
    "# 4.\n",
    "ts_cleaned_SMS_split_cat_to_list = ts_cleaned_SMS_split_cat.to_list()\n",
    "\n",
    "#5.\n",
    "vocabulary_set = set(ts_cleaned_SMS_split_cat_to_list)\n",
    "\n",
    "#6.\n",
    "vocabulary = list(vocabulary_set)"
   ]
  },
  {
   "cell_type": "markdown",
   "metadata": {},
   "source": [
    "When checking `vocabulary` below, we see that whitespace still appears as a value, thus it can be removed."
   ]
  },
  {
   "cell_type": "code",
   "execution_count": 92,
   "metadata": {},
   "outputs": [
    {
     "data": {
      "text/plain": [
       "['', 'impede', 'dogging', '7634', 'image']"
      ]
     },
     "execution_count": 92,
     "metadata": {},
     "output_type": "execute_result"
    }
   ],
   "source": [
    "vocabulary[:5]"
   ]
  },
  {
   "cell_type": "code",
   "execution_count": 93,
   "metadata": {},
   "outputs": [
    {
     "data": {
      "text/plain": [
       "['impede', 'dogging', '7634', 'image', 'gona']"
      ]
     },
     "execution_count": 93,
     "metadata": {},
     "output_type": "execute_result"
    }
   ],
   "source": [
    "for index, el in enumerate(vocabulary):\n",
    "    if el == '':\n",
    "        del vocabulary[index]\n",
    "        \n",
    "vocabulary[:5]"
   ]
  },
  {
   "cell_type": "code",
   "execution_count": 94,
   "metadata": {},
   "outputs": [],
   "source": [
    "# Free RAM 2\n",
    "\n",
    "del ts_cleaned_SMS_split_cat \n",
    "del ts_cleaned_SMS_split_cat_to_list\n",
    "del vocabulary_set"
   ]
  },
  {
   "cell_type": "markdown",
   "metadata": {},
   "source": [
    "Prior to what is in the instructions we create a splitted version of `ts_cleaned_SMS` that does not expand each string into a single column but compiles the message into a list with strings.\n",
    "\n",
    "Similarly to `vocabulary`, I delete empty strings, `''`; this time resorting to a custom function - `remove_elements` that is applied to `ts_cleaned_SMS_split_listed`."
   ]
  },
  {
   "cell_type": "code",
   "execution_count": 95,
   "metadata": {},
   "outputs": [],
   "source": [
    "def remove_elements(list_x, list_strings):\n",
    "    \"\"\"Strings in list_strings are removed from list_x if this later \n",
    "    list contains any of those strings.\n",
    "    \"\"\"\n",
    "    \n",
    "    for index, el in enumerate(list_x):\n",
    "        if el in list_strings:\n",
    "            del list_x[index]\n",
    "    \n",
    "    return list_x"
   ]
  },
  {
   "cell_type": "code",
   "execution_count": 96,
   "metadata": {},
   "outputs": [],
   "source": [
    "ts_cleaned_SMS_split_listed = ts_cleaned_SMS_2.str.split(' ') # `expand=False` by default\n",
    "\n",
    "strings_to_remove = ['']\n",
    "\n",
    "ts_cleaned_SMS_split_listed_1 = ts_cleaned_SMS_split_listed.copy().apply(lambda x: remove_elements(x, strings_to_remove))"
   ]
  },
  {
   "cell_type": "markdown",
   "metadata": {},
   "source": [
    "As suggested by the tutorial, first a dictionary is created and then I go through every message and count each word repetition (each word is a key), filling out the dictionary."
   ]
  },
  {
   "cell_type": "code",
   "execution_count": 97,
   "metadata": {},
   "outputs": [],
   "source": [
    "# From the tutorial.\n",
    "\n",
    "# 1.\n",
    "word_counts_per_sms = {unique_word: [0] * len(ts_cleaned_SMS_split_listed_1) for unique_word in vocabulary}\n",
    "\n",
    "for index, sms in enumerate(ts_cleaned_SMS_split_listed_1):\n",
    "    for word in sms:\n",
    "        word_counts_per_sms[word][index] += 1"
   ]
  },
  {
   "cell_type": "code",
   "execution_count": 98,
   "metadata": {},
   "outputs": [],
   "source": [
    "# 2. Convert dictionary into DataFrame\n",
    "\n",
    "word_counts_per_sms_df = pd.DataFrame(word_counts_per_sms)"
   ]
  },
  {
   "cell_type": "markdown",
   "metadata": {},
   "source": [
    "Assessing if the conversion was successful. "
   ]
  },
  {
   "cell_type": "code",
   "execution_count": 99,
   "metadata": {},
   "outputs": [
    {
     "data": {
      "text/html": [
       "<div>\n",
       "<style scoped>\n",
       "    .dataframe tbody tr th:only-of-type {\n",
       "        vertical-align: middle;\n",
       "    }\n",
       "\n",
       "    .dataframe tbody tr th {\n",
       "        vertical-align: top;\n",
       "    }\n",
       "\n",
       "    .dataframe thead th {\n",
       "        text-align: right;\n",
       "    }\n",
       "</style>\n",
       "<table border=\"1\" class=\"dataframe\">\n",
       "  <thead>\n",
       "    <tr style=\"text-align: right;\">\n",
       "      <th></th>\n",
       "      <th>charge</th>\n",
       "      <th>ibn</th>\n",
       "      <th>rite</th>\n",
       "      <th>traditions</th>\n",
       "      <th>outsomewhere</th>\n",
       "      <th>oveable</th>\n",
       "      <th>warner</th>\n",
       "      <th>girlie</th>\n",
       "      <th>uncles</th>\n",
       "      <th>cops</th>\n",
       "      <th>...</th>\n",
       "      <th>sundayish</th>\n",
       "      <th>safety</th>\n",
       "      <th>calls</th>\n",
       "      <th>motorola</th>\n",
       "      <th>09050000928</th>\n",
       "      <th>duffer</th>\n",
       "      <th>luck</th>\n",
       "      <th>medicine</th>\n",
       "      <th>aa</th>\n",
       "      <th>while</th>\n",
       "    </tr>\n",
       "  </thead>\n",
       "  <tbody>\n",
       "    <tr>\n",
       "      <th>0</th>\n",
       "      <td>0</td>\n",
       "      <td>0</td>\n",
       "      <td>0</td>\n",
       "      <td>0</td>\n",
       "      <td>0</td>\n",
       "      <td>0</td>\n",
       "      <td>0</td>\n",
       "      <td>0</td>\n",
       "      <td>0</td>\n",
       "      <td>0</td>\n",
       "      <td>...</td>\n",
       "      <td>0</td>\n",
       "      <td>0</td>\n",
       "      <td>0</td>\n",
       "      <td>0</td>\n",
       "      <td>0</td>\n",
       "      <td>0</td>\n",
       "      <td>0</td>\n",
       "      <td>0</td>\n",
       "      <td>0</td>\n",
       "      <td>0</td>\n",
       "    </tr>\n",
       "    <tr>\n",
       "      <th>1</th>\n",
       "      <td>0</td>\n",
       "      <td>0</td>\n",
       "      <td>0</td>\n",
       "      <td>0</td>\n",
       "      <td>0</td>\n",
       "      <td>0</td>\n",
       "      <td>0</td>\n",
       "      <td>0</td>\n",
       "      <td>0</td>\n",
       "      <td>0</td>\n",
       "      <td>...</td>\n",
       "      <td>0</td>\n",
       "      <td>0</td>\n",
       "      <td>0</td>\n",
       "      <td>0</td>\n",
       "      <td>0</td>\n",
       "      <td>0</td>\n",
       "      <td>0</td>\n",
       "      <td>0</td>\n",
       "      <td>0</td>\n",
       "      <td>0</td>\n",
       "    </tr>\n",
       "  </tbody>\n",
       "</table>\n",
       "<p>2 rows × 7753 columns</p>\n",
       "</div>"
      ],
      "text/plain": [
       "   charge  ibn  rite  traditions  outsomewhere  oveable  warner  girlie  \\\n",
       "0       0    0     0           0             0        0       0       0   \n",
       "1       0    0     0           0             0        0       0       0   \n",
       "\n",
       "   uncles  cops  ...  sundayish  safety  calls  motorola  09050000928  duffer  \\\n",
       "0       0     0  ...          0       0      0         0            0       0   \n",
       "1       0     0  ...          0       0      0         0            0       0   \n",
       "\n",
       "   luck  medicine  aa  while  \n",
       "0     0         0   0      0  \n",
       "1     0         0   0      0  \n",
       "\n",
       "[2 rows x 7753 columns]"
      ]
     },
     "execution_count": 99,
     "metadata": {},
     "output_type": "execute_result"
    }
   ],
   "source": [
    "word_counts_per_sms_df.iloc[:2, 10:]"
   ]
  },
  {
   "cell_type": "markdown",
   "metadata": {},
   "source": [
    "Finally, concatenating `training_set` with `word_counts_per_sms_df` into a new DataFrame - `training_set_2`."
   ]
  },
  {
   "cell_type": "code",
   "execution_count": 100,
   "metadata": {},
   "outputs": [],
   "source": [
    "# 3. \n",
    "\n",
    "# `sort=False` is required to preserve the order of the columns in a 'first in' fashion.\n",
    "training_set_2 = pd.concat([training_set, word_counts_per_sms_df], axis=1, sort=False)"
   ]
  },
  {
   "cell_type": "code",
   "execution_count": 101,
   "metadata": {},
   "outputs": [
    {
     "data": {
      "text/html": [
       "<div>\n",
       "<style scoped>\n",
       "    .dataframe tbody tr th:only-of-type {\n",
       "        vertical-align: middle;\n",
       "    }\n",
       "\n",
       "    .dataframe tbody tr th {\n",
       "        vertical-align: top;\n",
       "    }\n",
       "\n",
       "    .dataframe thead th {\n",
       "        text-align: right;\n",
       "    }\n",
       "</style>\n",
       "<table border=\"1\" class=\"dataframe\">\n",
       "  <thead>\n",
       "    <tr style=\"text-align: right;\">\n",
       "      <th></th>\n",
       "      <th>Label</th>\n",
       "      <th>SMS</th>\n",
       "      <th>impede</th>\n",
       "      <th>dogging</th>\n",
       "      <th>7634</th>\n",
       "      <th>image</th>\n",
       "      <th>gona</th>\n",
       "      <th>yep</th>\n",
       "      <th>finn</th>\n",
       "      <th>road</th>\n",
       "    </tr>\n",
       "  </thead>\n",
       "  <tbody>\n",
       "    <tr>\n",
       "      <th>0</th>\n",
       "      <td>ham</td>\n",
       "      <td>Yep, by the pretty sculpture</td>\n",
       "      <td>0</td>\n",
       "      <td>0</td>\n",
       "      <td>0</td>\n",
       "      <td>0</td>\n",
       "      <td>0</td>\n",
       "      <td>1</td>\n",
       "      <td>0</td>\n",
       "      <td>0</td>\n",
       "    </tr>\n",
       "    <tr>\n",
       "      <th>1</th>\n",
       "      <td>ham</td>\n",
       "      <td>Yes, princess. Are you going to make me moan?</td>\n",
       "      <td>0</td>\n",
       "      <td>0</td>\n",
       "      <td>0</td>\n",
       "      <td>0</td>\n",
       "      <td>0</td>\n",
       "      <td>0</td>\n",
       "      <td>0</td>\n",
       "      <td>0</td>\n",
       "    </tr>\n",
       "  </tbody>\n",
       "</table>\n",
       "</div>"
      ],
      "text/plain": [
       "  Label                                            SMS  impede  dogging  7634  \\\n",
       "0   ham                   Yep, by the pretty sculpture       0        0     0   \n",
       "1   ham  Yes, princess. Are you going to make me moan?       0        0     0   \n",
       "\n",
       "   image  gona  yep  finn  road  \n",
       "0      0     0    1     0     0  \n",
       "1      0     0    0     0     0  "
      ]
     },
     "execution_count": 101,
     "metadata": {},
     "output_type": "execute_result"
    }
   ],
   "source": [
    "training_set_2.iloc[:2, :10]"
   ]
  },
  {
   "cell_type": "code",
   "execution_count": 102,
   "metadata": {},
   "outputs": [],
   "source": [
    "# Free RAM 3\n",
    "\n",
    "del ts_cleaned_SMS_split_listed\n",
    "del word_counts_per_sms"
   ]
  },
  {
   "cell_type": "markdown",
   "metadata": {},
   "source": [
    "Calculating the elements within the Naive Bayes algorithm. Starting with:\n",
    "\n",
    "- $P(Spam)$ and $P(Ham)$.\n",
    "- $N_{Spam}$, $N_{Ham}$, $N_{Vocabulary}$\n",
    "\n",
    "The Laplace smoothing parameter is set to 1: $α=1$."
   ]
  },
  {
   "cell_type": "markdown",
   "metadata": {},
   "source": [
    "Probability of Spam and Ham. "
   ]
  },
  {
   "cell_type": "code",
   "execution_count": 103,
   "metadata": {},
   "outputs": [],
   "source": [
    "label_counts_ts2 = training_set_2.Label.value_counts(normalize=True)\n",
    "\n",
    "p_spam = label_counts_ts2.spam\n",
    "\n",
    "p_ham = label_counts_ts2.ham"
   ]
  },
  {
   "cell_type": "code",
   "execution_count": 104,
   "metadata": {},
   "outputs": [
    {
     "data": {
      "text/plain": [
       "0.13455931823278763"
      ]
     },
     "execution_count": 104,
     "metadata": {},
     "output_type": "execute_result"
    }
   ],
   "source": [
    "p_spam"
   ]
  },
  {
   "cell_type": "code",
   "execution_count": 105,
   "metadata": {},
   "outputs": [
    {
     "data": {
      "text/plain": [
       "0.8654406817672123"
      ]
     },
     "execution_count": 105,
     "metadata": {},
     "output_type": "execute_result"
    }
   ],
   "source": [
    "p_ham"
   ]
  },
  {
   "cell_type": "markdown",
   "metadata": {},
   "source": [
    "Counting $N_{Spam}$, $N_{Ham}$, $N_{Vocabulary}$."
   ]
  },
  {
   "cell_type": "code",
   "execution_count": 106,
   "metadata": {},
   "outputs": [
    {
     "data": {
      "text/plain": [
       "7763"
      ]
     },
     "execution_count": 106,
     "metadata": {},
     "output_type": "execute_result"
    }
   ],
   "source": [
    "# n_vocabulary.\n",
    "\n",
    "n_vocabulary = len(vocabulary)\n",
    "\n",
    "n_vocabulary"
   ]
  },
  {
   "cell_type": "markdown",
   "metadata": {},
   "source": [
    "To sum up the total number of words for spam messages and for non-spam messages - $N_{Spam}$, $N_{Ham}$ respectively, the procedure will be the following:\n",
    "\n",
    "1. add a column summing up the number of words per message/row.\n",
    "\n",
    "2. calculate sum of words if row if messages are spam; same for non-spam."
   ]
  },
  {
   "cell_type": "code",
   "execution_count": 107,
   "metadata": {},
   "outputs": [],
   "source": [
    "# 1.\n",
    "training_set_2['sum_words_sms'] = training_set_2.iloc[:, 2:].copy().sum(axis=1)"
   ]
  },
  {
   "cell_type": "code",
   "execution_count": 108,
   "metadata": {},
   "outputs": [],
   "source": [
    "# 2.\n",
    "\n",
    "n_spam = training_set_2.loc[training_set_2.Label=='spam', 'sum_words_sms'].sum()\n",
    "\n",
    "n_ham = training_set_2.loc[training_set_2.Label=='ham', 'sum_words_sms'].sum()"
   ]
  },
  {
   "cell_type": "code",
   "execution_count": 109,
   "metadata": {},
   "outputs": [
    {
     "name": "stdout",
     "output_type": "stream",
     "text": [
      "n_spam: 15557 \n",
      "n_ham: 57141\n"
     ]
    }
   ],
   "source": [
    "print(f'n_spam: {n_spam}',\n",
    "     f'\\nn_ham: {n_ham}')"
   ]
  },
  {
   "cell_type": "markdown",
   "metadata": {},
   "source": [
    "Finally setting $α=1$."
   ]
  },
  {
   "cell_type": "code",
   "execution_count": 110,
   "metadata": {},
   "outputs": [],
   "source": [
    "alpha = 1 "
   ]
  },
  {
   "cell_type": "code",
   "execution_count": 111,
   "metadata": {},
   "outputs": [],
   "source": [
    "# 1. the last colum 'sum_words_sms' is not included in the calculations\n",
    "# of these Series, so I set `.iloc[:, 2:-1]`.\n",
    "sms_spam = training_set_2.iloc[:, 2:-1].copy()[training_set_2.Label=='spam']\n",
    "\n",
    "sms_ham = training_set_2.iloc[:, 2:-1].copy()[training_set_2.Label=='ham']"
   ]
  },
  {
   "cell_type": "code",
   "execution_count": 112,
   "metadata": {},
   "outputs": [
    {
     "data": {
      "text/html": [
       "<div>\n",
       "<style scoped>\n",
       "    .dataframe tbody tr th:only-of-type {\n",
       "        vertical-align: middle;\n",
       "    }\n",
       "\n",
       "    .dataframe tbody tr th {\n",
       "        vertical-align: top;\n",
       "    }\n",
       "\n",
       "    .dataframe thead th {\n",
       "        text-align: right;\n",
       "    }\n",
       "</style>\n",
       "<table border=\"1\" class=\"dataframe\">\n",
       "  <thead>\n",
       "    <tr style=\"text-align: right;\">\n",
       "      <th></th>\n",
       "      <th>impede</th>\n",
       "      <th>dogging</th>\n",
       "      <th>7634</th>\n",
       "      <th>image</th>\n",
       "      <th>gona</th>\n",
       "      <th>yep</th>\n",
       "      <th>finn</th>\n",
       "      <th>road</th>\n",
       "      <th>wish</th>\n",
       "      <th>2day</th>\n",
       "      <th>...</th>\n",
       "      <th>sundayish</th>\n",
       "      <th>safety</th>\n",
       "      <th>calls</th>\n",
       "      <th>motorola</th>\n",
       "      <th>09050000928</th>\n",
       "      <th>duffer</th>\n",
       "      <th>luck</th>\n",
       "      <th>medicine</th>\n",
       "      <th>aa</th>\n",
       "      <th>while</th>\n",
       "    </tr>\n",
       "  </thead>\n",
       "  <tbody>\n",
       "    <tr>\n",
       "      <th>16</th>\n",
       "      <td>0</td>\n",
       "      <td>0</td>\n",
       "      <td>0</td>\n",
       "      <td>0</td>\n",
       "      <td>0</td>\n",
       "      <td>0</td>\n",
       "      <td>0</td>\n",
       "      <td>0</td>\n",
       "      <td>0</td>\n",
       "      <td>0</td>\n",
       "      <td>...</td>\n",
       "      <td>0</td>\n",
       "      <td>0</td>\n",
       "      <td>0</td>\n",
       "      <td>0</td>\n",
       "      <td>0</td>\n",
       "      <td>0</td>\n",
       "      <td>0</td>\n",
       "      <td>0</td>\n",
       "      <td>0</td>\n",
       "      <td>0</td>\n",
       "    </tr>\n",
       "    <tr>\n",
       "      <th>18</th>\n",
       "      <td>0</td>\n",
       "      <td>0</td>\n",
       "      <td>0</td>\n",
       "      <td>0</td>\n",
       "      <td>0</td>\n",
       "      <td>0</td>\n",
       "      <td>0</td>\n",
       "      <td>0</td>\n",
       "      <td>0</td>\n",
       "      <td>0</td>\n",
       "      <td>...</td>\n",
       "      <td>0</td>\n",
       "      <td>0</td>\n",
       "      <td>0</td>\n",
       "      <td>0</td>\n",
       "      <td>0</td>\n",
       "      <td>0</td>\n",
       "      <td>0</td>\n",
       "      <td>0</td>\n",
       "      <td>0</td>\n",
       "      <td>0</td>\n",
       "    </tr>\n",
       "    <tr>\n",
       "      <th>56</th>\n",
       "      <td>0</td>\n",
       "      <td>0</td>\n",
       "      <td>0</td>\n",
       "      <td>0</td>\n",
       "      <td>0</td>\n",
       "      <td>0</td>\n",
       "      <td>0</td>\n",
       "      <td>0</td>\n",
       "      <td>0</td>\n",
       "      <td>0</td>\n",
       "      <td>...</td>\n",
       "      <td>0</td>\n",
       "      <td>0</td>\n",
       "      <td>0</td>\n",
       "      <td>0</td>\n",
       "      <td>0</td>\n",
       "      <td>0</td>\n",
       "      <td>0</td>\n",
       "      <td>0</td>\n",
       "      <td>0</td>\n",
       "      <td>0</td>\n",
       "    </tr>\n",
       "  </tbody>\n",
       "</table>\n",
       "<p>3 rows × 7763 columns</p>\n",
       "</div>"
      ],
      "text/plain": [
       "    impede  dogging  7634  image  gona  yep  finn  road  wish  2day  ...  \\\n",
       "16       0        0     0      0     0    0     0     0     0     0  ...   \n",
       "18       0        0     0      0     0    0     0     0     0     0  ...   \n",
       "56       0        0     0      0     0    0     0     0     0     0  ...   \n",
       "\n",
       "    sundayish  safety  calls  motorola  09050000928  duffer  luck  medicine  \\\n",
       "16          0       0      0         0            0       0     0         0   \n",
       "18          0       0      0         0            0       0     0         0   \n",
       "56          0       0      0         0            0       0     0         0   \n",
       "\n",
       "    aa  while  \n",
       "16   0      0  \n",
       "18   0      0  \n",
       "56   0      0  \n",
       "\n",
       "[3 rows x 7763 columns]"
      ]
     },
     "execution_count": 112,
     "metadata": {},
     "output_type": "execute_result"
    }
   ],
   "source": [
    "sms_spam.head(3)"
   ]
  },
  {
   "cell_type": "code",
   "execution_count": 113,
   "metadata": {},
   "outputs": [],
   "source": [
    "# 2.\n",
    "sms_spam_sum = sms_spam.sum().transpose()\n",
    "\n",
    "sms_ham_sum = sms_ham.sum().transpose()"
   ]
  },
  {
   "cell_type": "code",
   "execution_count": 114,
   "metadata": {},
   "outputs": [
    {
     "data": {
      "text/plain": [
       "impede     0\n",
       "dogging    4\n",
       "7634       1\n",
       "image      0\n",
       "gona       0\n",
       "dtype: int64"
      ]
     },
     "execution_count": 114,
     "metadata": {},
     "output_type": "execute_result"
    }
   ],
   "source": [
    "sms_spam_sum.head()"
   ]
  },
  {
   "cell_type": "code",
   "execution_count": 115,
   "metadata": {},
   "outputs": [],
   "source": [
    "# 3.\n",
    "\n",
    "p_wi_given_spam_dict = {}\n",
    "\n",
    "p_wi_given_ham_dict = {}\n",
    "\n",
    "# P(w_i|Spam)\n",
    "for i in range(0, sms_spam_sum.size):\n",
    "    index = sms_spam_sum.index[i]\n",
    "    dividend = sms_spam_sum[index] + alpha\n",
    "    divisor = n_spam + (alpha*n_vocabulary)\n",
    "    p_wi_given_spam_dict[index] =  dividend / divisor\n",
    "\n",
    "    \n",
    "# P(w_i|Ham)\n",
    "for i in range(0, sms_ham_sum.size):\n",
    "    index = sms_ham_sum.index[i]\n",
    "    dividend = sms_ham_sum[index] + alpha\n",
    "    divisor = n_ham + (alpha*n_vocabulary)\n",
    "    p_wi_given_ham_dict[index] =  dividend / divisor"
   ]
  },
  {
   "cell_type": "markdown",
   "metadata": {},
   "source": [
    "Checking first 20 items in `p_wi_given_spam_dict` and `p_wi_given_ham_dict`:"
   ]
  },
  {
   "cell_type": "code",
   "execution_count": 116,
   "metadata": {},
   "outputs": [
    {
     "data": {
      "text/plain": [
       "[('impede', 4.288164665523156e-05),\n",
       " ('dogging', 0.0002144082332761578),\n",
       " ('7634', 8.576329331046312e-05),\n",
       " ('image', 4.288164665523156e-05),\n",
       " ('gona', 4.288164665523156e-05),\n",
       " ('yep', 4.288164665523156e-05),\n",
       " ('finn', 4.288164665523156e-05),\n",
       " ('road', 4.288164665523156e-05),\n",
       " ('wish', 8.576329331046312e-05),\n",
       " ('2day', 0.00017152658662092623)]"
      ]
     },
     "execution_count": 116,
     "metadata": {},
     "output_type": "execute_result"
    }
   ],
   "source": [
    "list(p_wi_given_spam_dict.items())[:10] "
   ]
  },
  {
   "cell_type": "code",
   "execution_count": 117,
   "metadata": {},
   "outputs": [
    {
     "data": {
      "text/plain": [
       "[('impede', 3.081474177246395e-05),\n",
       " ('dogging', 1.5407370886231974e-05),\n",
       " ('7634', 1.5407370886231974e-05),\n",
       " ('image', 3.081474177246395e-05),\n",
       " ('gona', 4.622211265869592e-05),\n",
       " ('yep', 0.00015407370886231974),\n",
       " ('finn', 3.081474177246395e-05),\n",
       " ('road', 0.00013866633797608775),\n",
       " ('wish', 0.0007549611734253667),\n",
       " ('2day', 9.244422531739184e-05)]"
      ]
     },
     "execution_count": 117,
     "metadata": {},
     "output_type": "execute_result"
    }
   ],
   "source": [
    "list(p_wi_given_ham_dict.items())[:10] "
   ]
  },
  {
   "cell_type": "code",
   "execution_count": 118,
   "metadata": {},
   "outputs": [],
   "source": [
    "# Free RAM 4\n",
    "\n",
    "del sms_spam\n",
    "del sms_ham"
   ]
  },
  {
   "cell_type": "markdown",
   "metadata": {},
   "source": [
    "Now that $P(w_i|Spam)$ and $P(w_i|Ham)$ is calculated throughout the entire span of messages contained in the training set, it is possible to finally build the spam filter, by calculating and comparing $P(Spam|w_1, w_2, ..., w_n)$ with $P(Ham|w_1, w_2, ..., w_n)$."
   ]
  },
  {
   "cell_type": "code",
   "execution_count": 119,
   "metadata": {},
   "outputs": [],
   "source": [
    "def classify(message):\n",
    "    \"\"\"Takes in a string - a cellphone message (SMS), and returns the probability of Spam given the input message,\n",
    "    the probability of non-spam (ham) given the input message and classifies whether\n",
    "    the message is spam, not spam (ham), or if a human is required to classify the message.\n",
    "    \"\"\"\n",
    "\n",
    "    message = re.sub('[^A-Za-z0-9\\s£€\\$]', ' ', message) # still a string\n",
    "    message = re.sub('£', ' £ ', message)\n",
    "    message = re.sub('€', ' € ', message)\n",
    "    message = re.sub('\\$', ' $ ', message)\n",
    "    message = replace(message)\n",
    "    message = re.sub('\\s+', ' ', message)\n",
    "#     message = message.lower() # still a string\n",
    "    message = message.split() # now a list of strings\n",
    "\n",
    "    \n",
    "    # Calculating P(Spam|w_1, w_2, ..., w_n) with P(Ham|w_1, w_2, ..., w_n).\n",
    "    p_spam_given_message = p_spam\n",
    "    p_ham_given_message = p_ham\n",
    "    \n",
    "    # Note: if `word` is not in the spam or in the non-spam DataFrames the loop does nothing by default.\n",
    "    for word in message:\n",
    "        \n",
    "        if word in p_wi_given_spam_dict.keys():\n",
    "            p_spam_given_message *= p_wi_given_spam_dict[word]\n",
    "            \n",
    "        if word in p_wi_given_ham_dict.keys():\n",
    "            p_ham_given_message *= p_wi_given_ham_dict[word]\n",
    "        \n",
    "\n",
    "    print('P(Spam|message):', p_spam_given_message)\n",
    "    print('P(Ham|message):', p_ham_given_message)\n",
    "\n",
    "    if p_ham_given_message > p_spam_given_message:\n",
    "        print('Label: Ham')\n",
    "        \n",
    "    elif p_ham_given_message < p_spam_given_message:\n",
    "        print('Label: Spam')\n",
    "        \n",
    "    else:\n",
    "        print('Equal proabilities, have a human classify this!')"
   ]
  },
  {
   "cell_type": "markdown",
   "metadata": {},
   "source": [
    "Testing the filter:"
   ]
  },
  {
   "cell_type": "code",
   "execution_count": 120,
   "metadata": {},
   "outputs": [
    {
     "name": "stdout",
     "output_type": "stream",
     "text": [
      "P(Spam|message): 6.443283729086874e-20\n",
      "P(Ham|message): 4.02491069038485e-20\n",
      "Label: Spam\n"
     ]
    }
   ],
   "source": [
    "classify('WINNER!! This is the secret code to unlock the money: C3421.')"
   ]
  },
  {
   "cell_type": "code",
   "execution_count": 121,
   "metadata": {},
   "outputs": [
    {
     "name": "stdout",
     "output_type": "stream",
     "text": [
      "P(Spam|message): 5.965566857521189e-17\n",
      "P(Ham|message): 4.369378838594486e-13\n",
      "Label: Ham\n"
     ]
    }
   ],
   "source": [
    "classify('Sounds good, Tom, then see u there')"
   ]
  },
  {
   "cell_type": "code",
   "execution_count": 122,
   "metadata": {},
   "outputs": [
    {
     "name": "stdout",
     "output_type": "stream",
     "text": [
      "P(Spam|message): 1.5715754774554154e-65\n",
      "P(Ham|message): 8.431834489246886e-65\n",
      "Label: Ham\n"
     ]
    }
   ],
   "source": [
    "classify(\"Oh my god! I've found your number again! I'm so glad, text me back xafter this msgs cst std ntwk chg £1.50\")"
   ]
  },
  {
   "cell_type": "markdown",
   "metadata": {},
   "source": [
    "Instead of going for the suggested method in the instructions we'll add two new columns to `testing_set`: first, `Test` displays the output returned by `classify_test_set()` for each row/message; the second, `Correct`, is '1' if the filter returns the right classification, i.e. the same classification in the `Label` column (which previously classifies the message has 'spam' or 'ham'), or '0' otherwise."
   ]
  },
  {
   "cell_type": "code",
   "execution_count": 123,
   "metadata": {},
   "outputs": [],
   "source": [
    "def classify_test_set(message):\n",
    "    \"\"\"Takes in a string - a cellphone message (SMS), and returns a classification of whether \n",
    "    the message is spam, not spam (ham), or if a human is required to classify the message.\n",
    "    \"\"\"\n",
    "\n",
    "    message = re.sub('[^A-Za-z0-9\\s£€\\$]', ' ', message) # still a string\n",
    "    message = re.sub('£', ' £ ', message)\n",
    "    message = re.sub('€', ' € ', message)\n",
    "    message = re.sub('\\$', ' $ ', message)\n",
    "    message = replace(message)\n",
    "    message = re.sub('\\s+', ' ', message)\n",
    "    message = message.lower() # still a string\n",
    "    message = message.split() # now a list of strings\n",
    "\n",
    "    \n",
    "    # Calculating P(Spam|w_1, w_2, ..., w_n) with P(Ham|w_1, w_2, ..., w_n).\n",
    "    p_spam_given_message = p_spam\n",
    "    p_ham_given_message = p_ham\n",
    "    \n",
    "    # Note: if `word` is not in the spam or in the non-spam DataFrames the loop does nothing by default.\n",
    "    for word in message:\n",
    "        \n",
    "        if word in p_wi_given_spam_dict.keys():\n",
    "            p_spam_given_message *= p_wi_given_spam_dict[word]\n",
    "            \n",
    "        if word in p_wi_given_ham_dict.keys():\n",
    "            p_ham_given_message *= p_wi_given_ham_dict[word]\n",
    "\n",
    "    if p_ham_given_message > p_spam_given_message:\n",
    "        return 'ham'\n",
    "    elif p_spam_given_message > p_ham_given_message:\n",
    "        return 'spam'\n",
    "    else:\n",
    "        return 'Requires human classification.'"
   ]
  },
  {
   "cell_type": "code",
   "execution_count": 124,
   "metadata": {},
   "outputs": [],
   "source": [
    "testing_set['Test'] = testing_set['SMS'].apply(classify_test_set)\n",
    "\n",
    "\n",
    "# Assigns True if condition is met and multplying by one converts True in '1' and False in '0'.\n",
    "testing_set['Correct'] = (testing_set['Label'] == testing_set['Test'])*1"
   ]
  },
  {
   "cell_type": "code",
   "execution_count": 125,
   "metadata": {},
   "outputs": [
    {
     "data": {
      "text/html": [
       "<div>\n",
       "<style scoped>\n",
       "    .dataframe tbody tr th:only-of-type {\n",
       "        vertical-align: middle;\n",
       "    }\n",
       "\n",
       "    .dataframe tbody tr th {\n",
       "        vertical-align: top;\n",
       "    }\n",
       "\n",
       "    .dataframe thead th {\n",
       "        text-align: right;\n",
       "    }\n",
       "</style>\n",
       "<table border=\"1\" class=\"dataframe\">\n",
       "  <thead>\n",
       "    <tr style=\"text-align: right;\">\n",
       "      <th></th>\n",
       "      <th>Label</th>\n",
       "      <th>SMS</th>\n",
       "      <th>Test</th>\n",
       "      <th>Correct</th>\n",
       "    </tr>\n",
       "  </thead>\n",
       "  <tbody>\n",
       "    <tr>\n",
       "      <th>4458</th>\n",
       "      <td>ham</td>\n",
       "      <td>Later i guess. I needa do mcat study too.</td>\n",
       "      <td>ham</td>\n",
       "      <td>1</td>\n",
       "    </tr>\n",
       "    <tr>\n",
       "      <th>4459</th>\n",
       "      <td>ham</td>\n",
       "      <td>But i haf enuff space got like 4 mb...</td>\n",
       "      <td>ham</td>\n",
       "      <td>1</td>\n",
       "    </tr>\n",
       "    <tr>\n",
       "      <th>4460</th>\n",
       "      <td>spam</td>\n",
       "      <td>Had your mobile 10 mths? Update to latest Orange camera/video phones for FREE. Save £s with Free texts/weekend calls. Text YES for a callback orno to opt out</td>\n",
       "      <td>spam</td>\n",
       "      <td>1</td>\n",
       "    </tr>\n",
       "    <tr>\n",
       "      <th>4461</th>\n",
       "      <td>ham</td>\n",
       "      <td>All sounds good. Fingers . Makes it difficult to type</td>\n",
       "      <td>ham</td>\n",
       "      <td>1</td>\n",
       "    </tr>\n",
       "    <tr>\n",
       "      <th>4462</th>\n",
       "      <td>ham</td>\n",
       "      <td>All done, all handed in. Don't know if mega shop in asda counts as celebration but thats what i'm doing!</td>\n",
       "      <td>ham</td>\n",
       "      <td>1</td>\n",
       "    </tr>\n",
       "  </tbody>\n",
       "</table>\n",
       "</div>"
      ],
      "text/plain": [
       "     Label  \\\n",
       "4458   ham   \n",
       "4459   ham   \n",
       "4460  spam   \n",
       "4461   ham   \n",
       "4462   ham   \n",
       "\n",
       "                                                                                                                                                                SMS  \\\n",
       "4458                                                                                                                      Later i guess. I needa do mcat study too.   \n",
       "4459                                                                                                                         But i haf enuff space got like 4 mb...   \n",
       "4460  Had your mobile 10 mths? Update to latest Orange camera/video phones for FREE. Save £s with Free texts/weekend calls. Text YES for a callback orno to opt out   \n",
       "4461                                                                                                          All sounds good. Fingers . Makes it difficult to type   \n",
       "4462                                                       All done, all handed in. Don't know if mega shop in asda counts as celebration but thats what i'm doing!   \n",
       "\n",
       "      Test  Correct  \n",
       "4458   ham        1  \n",
       "4459   ham        1  \n",
       "4460  spam        1  \n",
       "4461   ham        1  \n",
       "4462   ham        1  "
      ]
     },
     "execution_count": 125,
     "metadata": {},
     "output_type": "execute_result"
    }
   ],
   "source": [
    "testing_set.head()"
   ]
  },
  {
   "cell_type": "markdown",
   "metadata": {},
   "source": [
    "Percentage of well classified messages when using the `classify_test_set()` function/filter:"
   ]
  },
  {
   "cell_type": "code",
   "execution_count": 126,
   "metadata": {},
   "outputs": [
    {
     "name": "stdout",
     "output_type": "stream",
     "text": [
      "When applied to the messages in the `training_set` (1114 entries) the test accuracy was aprox. 98.83%.\n"
     ]
    }
   ],
   "source": [
    "test_accuracy = (testing_set['Correct'].sum() / testing_set.shape[0])*100\n",
    "\n",
    "test_accuracy = test_accuracy.round(2)\n",
    "\n",
    "print(f'When applied to the messages in the `testing_set` ({testing_set.shape[0]} entries) the test accuracy was aprox. {test_accuracy}%.')"
   ]
  },
  {
   "cell_type": "markdown",
   "metadata": {},
   "source": [
    "The result above is case sensitive, i.e. the algorithm does not distinguish capitalized from lower case words. In this case , it is the same result an in the 'practice 2 version', where the only modification from the original is the non-removal of currency symbols.\n",
    "\n",
    "Lowercase off (case insensitive): When applied to the messages in the `training_set` (1114 entries) the test accuracy was aprox. 98.74%. In this case, the result is slightly better <1% then the analogous version of the 'practice 2' version."
   ]
  },
  {
   "cell_type": "markdown",
   "metadata": {},
   "source": [
    "## Extra Tasks"
   ]
  },
  {
   "cell_type": "markdown",
   "metadata": {},
   "source": [
    "### 1. Isolate the 14 messages that were classified incorrectly and try to figure out why the algorithm reached the wrong conclusion."
   ]
  },
  {
   "cell_type": "code",
   "execution_count": 127,
   "metadata": {},
   "outputs": [],
   "source": [
    "cond_incorrect = testing_set.Correct == 0\n",
    "\n",
    "incorrect = testing_set[cond_incorrect].copy().reset_index(drop=True)"
   ]
  },
  {
   "cell_type": "code",
   "execution_count": 128,
   "metadata": {},
   "outputs": [
    {
     "name": "stdout",
     "output_type": "stream",
     "text": [
      "<class 'pandas.core.frame.DataFrame'>\n",
      "RangeIndex: 13 entries, 0 to 12\n",
      "Data columns (total 4 columns):\n",
      " #   Column   Non-Null Count  Dtype \n",
      "---  ------   --------------  ----- \n",
      " 0   Label    13 non-null     object\n",
      " 1   SMS      13 non-null     object\n",
      " 2   Test     13 non-null     object\n",
      " 3   Correct  13 non-null     int32 \n",
      "dtypes: int32(1), object(3)\n",
      "memory usage: 272.0+ bytes\n"
     ]
    }
   ],
   "source": [
    "incorrect.info()"
   ]
  },
  {
   "cell_type": "code",
   "execution_count": 129,
   "metadata": {},
   "outputs": [
    {
     "data": {
      "text/html": [
       "<div>\n",
       "<style scoped>\n",
       "    .dataframe tbody tr th:only-of-type {\n",
       "        vertical-align: middle;\n",
       "    }\n",
       "\n",
       "    .dataframe tbody tr th {\n",
       "        vertical-align: top;\n",
       "    }\n",
       "\n",
       "    .dataframe thead th {\n",
       "        text-align: right;\n",
       "    }\n",
       "</style>\n",
       "<table border=\"1\" class=\"dataframe\">\n",
       "  <thead>\n",
       "    <tr style=\"text-align: right;\">\n",
       "      <th></th>\n",
       "      <th>Label</th>\n",
       "      <th>SMS</th>\n",
       "    </tr>\n",
       "  </thead>\n",
       "  <tbody>\n",
       "    <tr>\n",
       "      <th>0</th>\n",
       "      <td>spam</td>\n",
       "      <td>Not heard from U4 a while. Call me now am here all night with just my knickers on. Make me beg for it like U did last time 01223585236 XX Luv Nikiyu4.net</td>\n",
       "    </tr>\n",
       "    <tr>\n",
       "      <th>1</th>\n",
       "      <td>ham</td>\n",
       "      <td>Unlimited texts. Limited minutes.</td>\n",
       "    </tr>\n",
       "    <tr>\n",
       "      <th>2</th>\n",
       "      <td>ham</td>\n",
       "      <td>26th OF JULY</td>\n",
       "    </tr>\n",
       "    <tr>\n",
       "      <th>3</th>\n",
       "      <td>ham</td>\n",
       "      <td>Nokia phone is lovly..</td>\n",
       "    </tr>\n",
       "    <tr>\n",
       "      <th>4</th>\n",
       "      <td>ham</td>\n",
       "      <td>A Boy loved a gal. He propsd bt she didnt mind. He gv lv lttrs, Bt her frnds threw thm. Again d boy decided 2 aproach d gal , dt time a truck was speeding towards d gal. Wn it was about 2 hit d girl,d boy ran like hell n saved her. She asked 'hw cn u run so fast?' D boy replied \"Boost is d secret of my energy\" n instantly d girl shouted \"our energy\" n Thy lived happily 2gthr drinking boost evrydy Moral of d story:- I hv free msgs:D;): gud ni8</td>\n",
       "    </tr>\n",
       "    <tr>\n",
       "      <th>5</th>\n",
       "      <td>ham</td>\n",
       "      <td>No calls..messages..missed calls</td>\n",
       "    </tr>\n",
       "    <tr>\n",
       "      <th>6</th>\n",
       "      <td>ham</td>\n",
       "      <td>We have sent JD for Customer Service cum Accounts Executive to ur mail id, For details contact us</td>\n",
       "    </tr>\n",
       "    <tr>\n",
       "      <th>7</th>\n",
       "      <td>ham</td>\n",
       "      <td>Just taste fish curry :-P</td>\n",
       "    </tr>\n",
       "    <tr>\n",
       "      <th>8</th>\n",
       "      <td>spam</td>\n",
       "      <td>Oh my god! I've found your number again! I'm so glad, text me back xafter this msgs cst std ntwk chg £1.50</td>\n",
       "    </tr>\n",
       "    <tr>\n",
       "      <th>9</th>\n",
       "      <td>spam</td>\n",
       "      <td>Hi babe its Chloe, how r u? I was smashed on saturday night, it was great! How was your weekend? U been missing me? SP visionsms.com Text stop to stop 150p/text</td>\n",
       "    </tr>\n",
       "    <tr>\n",
       "      <th>10</th>\n",
       "      <td>spam</td>\n",
       "      <td>0A$NETWORKS allow companies to bill for SMS, so they are responsible for their \"suppliers\", just as a shop has to give a guarantee on what they sell. B. G.</td>\n",
       "    </tr>\n",
       "    <tr>\n",
       "      <th>11</th>\n",
       "      <td>spam</td>\n",
       "      <td>RCT' THNQ Adrian for U text. Rgds Vatian</td>\n",
       "    </tr>\n",
       "    <tr>\n",
       "      <th>12</th>\n",
       "      <td>spam</td>\n",
       "      <td>Hello. We need some posh birds and chaps to user trial prods for champneys. Can i put you down? I need your address and dob asap. Ta r</td>\n",
       "    </tr>\n",
       "  </tbody>\n",
       "</table>\n",
       "</div>"
      ],
      "text/plain": [
       "   Label  \\\n",
       "0   spam   \n",
       "1    ham   \n",
       "2    ham   \n",
       "3    ham   \n",
       "4    ham   \n",
       "5    ham   \n",
       "6    ham   \n",
       "7    ham   \n",
       "8   spam   \n",
       "9   spam   \n",
       "10  spam   \n",
       "11  spam   \n",
       "12  spam   \n",
       "\n",
       "                                                                                                                                                                                                                                                                                                                                                                                                                                                               SMS  \n",
       "0                                                                                                                                                                                                                                                                                                        Not heard from U4 a while. Call me now am here all night with just my knickers on. Make me beg for it like U did last time 01223585236 XX Luv Nikiyu4.net  \n",
       "1                                                                                                                                                                                                                                                                                                                                                                                                                                Unlimited texts. Limited minutes.  \n",
       "2                                                                                                                                                                                                                                                                                                                                                                                                                                                     26th OF JULY  \n",
       "3                                                                                                                                                                                                                                                                                                                                                                                                                                           Nokia phone is lovly..  \n",
       "4   A Boy loved a gal. He propsd bt she didnt mind. He gv lv lttrs, Bt her frnds threw thm. Again d boy decided 2 aproach d gal , dt time a truck was speeding towards d gal. Wn it was about 2 hit d girl,d boy ran like hell n saved her. She asked 'hw cn u run so fast?' D boy replied \"Boost is d secret of my energy\" n instantly d girl shouted \"our energy\" n Thy lived happily 2gthr drinking boost evrydy Moral of d story:- I hv free msgs:D;): gud ni8  \n",
       "5                                                                                                                                                                                                                                                                                                                                                                                                                                 No calls..messages..missed calls  \n",
       "6                                                                                                                                                                                                                                                                                                                                                                We have sent JD for Customer Service cum Accounts Executive to ur mail id, For details contact us  \n",
       "7                                                                                                                                                                                                                                                                                                                                                                                                                                        Just taste fish curry :-P  \n",
       "8                                                                                                                                                                                                                                                                                                                                                       Oh my god! I've found your number again! I'm so glad, text me back xafter this msgs cst std ntwk chg £1.50  \n",
       "9                                                                                                                                                                                                                                                                                                 Hi babe its Chloe, how r u? I was smashed on saturday night, it was great! How was your weekend? U been missing me? SP visionsms.com Text stop to stop 150p/text  \n",
       "10                                                                                                                                                                                                                                                                                                     0A$NETWORKS allow companies to bill for SMS, so they are responsible for their \"suppliers\", just as a shop has to give a guarantee on what they sell. B. G.  \n",
       "11                                                                                                                                                                                                                                                                                                                                                                                                                        RCT' THNQ Adrian for U text. Rgds Vatian  \n",
       "12                                                                                                                                                                                                                                                                                                                          Hello. We need some posh birds and chaps to user trial prods for champneys. Can i put you down? I need your address and dob asap. Ta r  "
      ]
     },
     "execution_count": 129,
     "metadata": {},
     "output_type": "execute_result"
    }
   ],
   "source": [
    " pd.options.display.max_colwidth = 500\n",
    "\n",
    "incorrect[['Label', 'SMS']]"
   ]
  },
  {
   "cell_type": "code",
   "execution_count": 130,
   "metadata": {},
   "outputs": [],
   "source": [
    "incorrect_split = incorrect.SMS.str.replace('\\W', ' ', regex=True)"
   ]
  },
  {
   "cell_type": "code",
   "execution_count": 131,
   "metadata": {},
   "outputs": [
    {
     "data": {
      "text/plain": [
       "0                                                                                                                                                                                                                                                                                                          Not heard from U4 a while  Call me now am here all night with just my knickers on  Make me beg for it like U did last time 01223585236 XX Luv Nikiyu4 net\n",
       "1                                                                                                                                                                                                                                                                                                                                                                                                                                  Unlimited texts  Limited minutes \n",
       "2                                                                                                                                                                                                                                                                                                                                                                                                                                                       26th OF JULY\n",
       "3                                                                                                                                                                                                                                                                                                                                                                                                                                             Nokia phone is lovly  \n",
       "4     A Boy loved a gal  He propsd bt she didnt mind  He gv lv lttrs  Bt her frnds threw thm  Again d boy decided 2 aproach d gal   dt time a truck was speeding towards d gal  Wn it was about 2 hit d girl d boy ran like hell n saved her  She asked  hw cn u run so fast   D boy replied  Boost is d secret of my energy  n instantly d girl shouted  our energy  n Thy lived happily 2gthr drinking boost evrydy Moral of d story   I hv free msgs D    gud ni8\n",
       "5                                                                                                                                                                                                                                                                                                                                                                                                                                   No calls  messages  missed calls\n",
       "6                                                                                                                                                                                                                                                                                                                                                                  We have sent JD for Customer Service cum Accounts Executive to ur mail id  For details contact us\n",
       "7                                                                                                                                                                                                                                                                                                                                                                                                                                          Just taste fish curry   P\n",
       "8                                                                                                                                                                                                                                                                                                                                                         Oh my god  I ve found your number again  I m so glad  text me back xafter this msgs cst std ntwk chg  1 50\n",
       "9                                                                                                                                                                                                                                                                                                   Hi babe its Chloe  how r u  I was smashed on saturday night  it was great  How was your weekend  U been missing me  SP visionsms com Text stop to stop 150p text\n",
       "10                                                                                                                                                                                                                                                                                                       0A NETWORKS allow companies to bill for SMS  so they are responsible for their  suppliers   just as a shop has to give a guarantee on what they sell  B  G \n",
       "11                                                                                                                                                                                                                                                                                                                                                                                                                          RCT  THNQ Adrian for U text  Rgds Vatian\n",
       "12                                                                                                                                                                                                                                                                                                                            Hello  We need some posh birds and chaps to user trial prods for champneys  Can i put you down  I need your address and dob asap  Ta r\n",
       "Name: SMS, dtype: object"
      ]
     },
     "execution_count": 131,
     "metadata": {},
     "output_type": "execute_result"
    }
   ],
   "source": [
    "incorrect_split "
   ]
  },
  {
   "cell_type": "code",
   "execution_count": null,
   "metadata": {},
   "outputs": [],
   "source": []
  }
 ],
 "metadata": {
  "celltoolbar": "Initialization Cell",
  "hide_input": false,
  "kernelspec": {
   "display_name": "Python 3 (ipykernel)",
   "language": "python",
   "name": "python3"
  },
  "language_info": {
   "codemirror_mode": {
    "name": "ipython",
    "version": 3
   },
   "file_extension": ".py",
   "mimetype": "text/x-python",
   "name": "python",
   "nbconvert_exporter": "python",
   "pygments_lexer": "ipython3",
   "version": "3.9.2"
  },
  "toc": {
   "base_numbering": 1,
   "nav_menu": {},
   "number_sections": false,
   "sideBar": true,
   "skip_h1_title": true,
   "title_cell": "Table of Contents",
   "title_sidebar": "Contents",
   "toc_cell": false,
   "toc_position": {
    "height": "calc(100% - 180px)",
    "left": "10px",
    "top": "150px",
    "width": "165px"
   },
   "toc_section_display": true,
   "toc_window_display": true
  },
  "varInspector": {
   "cols": {
    "lenName": 16,
    "lenType": 16,
    "lenVar": 40
   },
   "kernels_config": {
    "python": {
     "delete_cmd_postfix": "",
     "delete_cmd_prefix": "del ",
     "library": "var_list.py",
     "varRefreshCmd": "print(var_dic_list())"
    },
    "r": {
     "delete_cmd_postfix": ") ",
     "delete_cmd_prefix": "rm(",
     "library": "var_list.r",
     "varRefreshCmd": "cat(var_dic_list()) "
    }
   },
   "position": {
    "height": "600.85px",
    "left": "1545px",
    "right": "20px",
    "top": "120px",
    "width": "355px"
   },
   "types_to_exclude": [
    "module",
    "function",
    "builtin_function_or_method",
    "instance",
    "_Feature"
   ],
   "window_display": false
  }
 },
 "nbformat": 4,
 "nbformat_minor": 4
}
