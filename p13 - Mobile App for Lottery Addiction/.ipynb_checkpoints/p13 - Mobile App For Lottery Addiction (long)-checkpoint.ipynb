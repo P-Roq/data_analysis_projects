{
 "cells": [
  {
   "cell_type": "markdown",
   "metadata": {},
   "source": [
    "# Mobile App For Lottery Addiction - Helping Lottery Buyers Understanding Their Chances Of Winning It\n"
   ]
  },
  {
   "cell_type": "code",
   "execution_count": 2,
   "metadata": {
    "init_cell": true
   },
   "outputs": [],
   "source": [
    "import numpy as np\n",
    "import pandas as pd\n",
    "import re"
   ]
  },
  {
   "cell_type": "markdown",
   "metadata": {},
   "source": [
    "## Slide 1\n",
    "---\n",
    "We've come a long way in this course and learned:\n",
    "\n",
    "\n",
    "- How to calculate theoretical and empirical probabilities.\n",
    "\n",
    "\n",
    "- How to use probability rules to solve probability problems.\n",
    "\n",
    "\n",
    "- How to use combinations and permutations.\n",
    "\n",
    "\n",
    "To make learning easier for you, we taught these topics in isolation. In this guided project, however, we put everything together to contribute to the development of a mobile app that is meant to help lottery addicts better estimate their chances of winning.\n",
    "\n",
    "Many people start playing the lottery for fun, but for some this activity turns into a habit which eventually escalates into addiction. Like other compulsive gamblers, lottery addicts soon begin spending from their savings and loans, they start to accumulate debts, and eventually engage in desperate behaviors like theft.\n",
    "\n",
    "A medical institute that aims to prevent and treat gambling addictions wants to build a dedicated mobile app to help lottery addicts better estimate their chances of winning. The institute has a team of engineers that will build the app, but they need us to create the logical core of the app and calculate probabilities.\n",
    "\n",
    "For the first version of the app, they want us to focus on the [6/49](https://en.wikipedia.org/wiki/Lotto_6/49) lottery and build functions that enable users to answer questions like:\n",
    "\n",
    "\n",
    "- What is the probability of winning the big prize with a single ticket?\n",
    "\n",
    "\n",
    "- What is the probability of winning the big prize if we play 40 different tickets (or any other number)?\n",
    "\n",
    "\n",
    "- What is the probability of having at least five (or four, or three, or two) winning numbers on a single ticket?\n",
    "\n",
    "\n",
    "The institute also wants us to consider historical data coming from the national 6/49 lottery game in Canada. The [data set](https://www.kaggle.com/datascienceai/lottery-dataset) has data for 3,665 drawings, dating from 1982 to 2018 (we'll come back to this).\n",
    "\n",
    "The scenario we're following throughout this project is fictional — the main purpose is to practice applying the concepts we learned in a setting that simulates a real-world scenario.\n",
    "\n",
    "You'll be able to find the solutions to this project [at this link](https://github.com/dataquestio/solutions/blob/master/Mission382Solutions.ipynb) or by clicking the key icon on the top right of the interface.\n",
    "\n",
    "\n",
    "\n",
    "#### Instructions\n",
    "---\n",
    "To help readers gain context into your project, use the first Markdown cell of the notebook to:\n",
    "\n",
    "- Add a title.\n",
    "\n",
    "\n",
    "- Write a short introduction where you explain readers:\n",
    "    - What the project is about.\n",
    "    - What your goal is in this project."
   ]
  },
  {
   "cell_type": "markdown",
   "metadata": {},
   "source": [
    "## Introduction\n",
    "\n",
    "From Dataquest: \n",
    "\n",
    ">A medical institute that aims to prevent and treat gambling addictions wants to build a dedicated mobile app to help lottery addicts better estimate their chances of winning. The institute has a team of engineers that will build the app, but they need us to create the logical core of the app and calculate probabilities.\n",
    "For the first version of the app, they want us to focus on the 6/49 lottery and build functions that enable users to answer questions like:\n",
    ">\n",
    ">\n",
    ">   - What is the probability of winning the big prize with a single ticket?\n",
    ">\n",
    ">\n",
    ">   - What is the probability of winning the big prize if we play 40 different tickets (or any other number)?\n",
    ">\n",
    ">\n",
    ">   - What is the probability of having at least five (or four, or three, or two) winning numbers on a single ticket?\n",
    ">\n",
    ">\n",
    ">The institute also wants us to consider historical data coming from the national [6/49](https://en.wikipedia.org/wiki/Lotto_6/49) lottery game in Canada. The data set has data for 3,665 drawings, dating from 1982 to 2018 (we'll come back to this)."
   ]
  },
  {
   "cell_type": "markdown",
   "metadata": {},
   "source": [
    "## Slide 2\n",
    "---\n",
    "On the first screen, we saw our goal is to write code that can enable users to answer probability questions about playing the lottery. Throughout the project, we'll need to calculate repeatedly probabilities and combinations. As a consequence, we'll start by writing two functions that we'll use often:\n",
    "\n",
    "\n",
    "- A function that calculates factorials; and\n",
    "\n",
    "\n",
    "- A function that calculates combinations.\n",
    "\n",
    "\n",
    "To calculate factorials, this is the formula we learned we need to use:\n",
    "\n",
    "\\begin{equation}\n",
    "n! = n \\times (n - 1) \\times (n - 2) \\times ... \\times 2 \\times 1\n",
    "\\end{equation}\n",
    "\n",
    "In the 6/49 lottery, six numbers are drawn from a set of 49 numbers that range from 1 to 49. The drawing is done _without replacement_, which means once a number is drawn, it's not put back in the set.\n",
    "\n",
    "To find the number of combinations when we're sampling without replacement and taking only _k_ objects from a group of _n_ objects, we can use the formula:\n",
    "\n",
    "\\begin{equation}\n",
    "_nC_k = {n \\choose k} =  \\frac{n!}{k!(n-k)!}\n",
    "\\end{equation}\n",
    "\n",
    "Now let's start coding the two functions.\n",
    "\n",
    "#### Instructions\n",
    "---\n",
    "1. Write a function named `factorial()` which takes as input a number _n_ and computes the factorial of that number _n_. Remember that we already coded this function in the last lesson.\n",
    "\n",
    "\n",
    "2. Write a function named `combinations()` which takes in two inputs (_n_ and _k_) and outputs the number of combinations when we're taking only k objects from a group of _n_ objects. Remember that we already coded this function in the last lesson."
   ]
  },
  {
   "cell_type": "markdown",
   "metadata": {},
   "source": [
    "We begin by writing two functions that will be useful later on:\n",
    "- `factorial(n)` calculates the [factorial](https://en.wikipedia.org/wiki/Factorial) of an integer 'n': \n",
    "    - $n! = \\prod_{i=1} ^{n} i$\n",
    "\n",
    "\n",
    "- `combinations(n, k)`  calculates the number of combinations without replacement, given a pool of 'n' numbers and 'k' draws: \n",
    "    - $\\frac{n!}{k!(n-k)!}$"
   ]
  },
  {
   "cell_type": "code",
   "execution_count": 4,
   "metadata": {},
   "outputs": [],
   "source": [
    "def factorial(n):\n",
    "    \n",
    "    factorial_n = n\n",
    "    \n",
    "    for i in range(1, n): # This range ends at n-1.\n",
    "        factorial_n *= i\n",
    "\n",
    "    return factorial_n\n",
    "\n",
    "def combinations(n, k):\n",
    "    return int((1 / factorial(k)) * (factorial(n) / factorial(n - k)))"
   ]
  },
  {
   "cell_type": "markdown",
   "metadata": {},
   "source": [
    "## Slide 3\n",
    "---\n",
    "On the previous screen, we focused on writing `factorial()` and `combinations()`, two core functions that we're going to need repeatedly moving forward. On this screen, we focus on writing a function that calculates the probability of winning the big prize.\n",
    "\n",
    "In the 6/49 lottery, six numbers are drawn from a set of 49 numbers that range from 1 to 49. A player wins the big prize if the six numbers on their tickets match all the six numbers drawn. If a player has a ticket with the numbers {13, 22, 24, 27, 42, 44}, he only wins the big prize if the numbers drawn are {13, 22, 24, 27, 42, 44}. If only one number differs, he doesn't win.\n",
    "\n",
    "For the first version of the app, we want players to be able to calculate the probability of winning the big prize with the various numbers they play on a single ticket (for each ticket a player chooses six numbers out of 49). So, we'll start by building a function that calculates the probability of winning the big prize for any given ticket.\n",
    "\n",
    "We discussed with the engineering team of the medical institute, and they told us we need to be aware of the following details when we write the function:\n",
    "\n",
    "\n",
    "- Inside the app, the user inputs six different numbers from 1 to 49.\n",
    "\n",
    "\n",
    "- Under the hood, the six numbers will come as a Python list, which will serve as the single input to our function.\n",
    "\n",
    "\n",
    "- The engineering team wants the function to print the probability value in a friendly way — in a way that people without any probability training are able to understand.\n",
    "\n",
    "Let's try to write this function!\n",
    "\n",
    "\n",
    "\n",
    "#### Instructions\n",
    "---\n",
    "1. Write a function named `one_ticket_probability()`, which takes in a list of six unique numbers and prints the probability of winning in a way that's easy to understand.\n",
    "\n",
    "\n",
    "- Start by calculating the total number of possible outcomes — this is total number of combinations for a six-number lottery ticket. There are 49 possible numbers, and six numbers are sampled without replacement. Use the `combinations()` function you wrote in the previous screen.\n",
    "\n",
    "\n",
    "- The user inputs just one combination, which means the number of successful outcomes is 1.\n",
    "\n",
    "\n",
    "- Use the number of successful outcomes and the total number of possible outcomes to calculate the probability for one ticket.\n",
    "\n",
    "\n",
    "- The function should print the probability in a way that's easy to understand. It's up to you what you choose, but here are a few suggestions:\n",
    "    - Print the probability as a percentage.\n",
    "    - Use the `str.format()` method to make the printed message more personalized with respect to what the user inputs.\n",
    "\n",
    "\n",
    "2. Test your function using a few inputs.\n",
    "\n",
    "\n",
    "3. Add some context for your readers to explain what you did in this step and why."
   ]
  },
  {
   "cell_type": "code",
   "execution_count": 5,
   "metadata": {},
   "outputs": [],
   "source": [
    "def one_ticket_probability_calc(bet):\n",
    "    \"\"\"Takes in a list of six unique numbers and prints the probability of winning.\n",
    "    This functions requires numpy.\n",
    "    \"\"\"\n",
    "    \n",
    "    n = 49\n",
    "    k = 6\n",
    "    \n",
    "    n_choose_k = combinations(n, k)\n",
    "\n",
    "    one_ticket_prob_perc = (1 / n_choose_k) * 100\n",
    "\n",
    "    one_ticket_prob_perc = round(one_ticket_prob_perc, 6)\n",
    "\n",
    "    return one_ticket_prob_perc\n",
    "\n",
    "\n",
    "def check_input(bet):\n",
    "    \n",
    "    # Essential information: the input is a '49 choose 6' type of combination:\n",
    "    n = 49\n",
    "    k = 6\n",
    "    \n",
    "    # Condition 1 - Is the input a list?\n",
    "    # Condition 2 - Are the values in the list integers?\n",
    "    # Condition 3 - Does the input list has the same number of draws?\n",
    "    # Condition 4 - Are the values in the list inside the 1 to 49 range?\n",
    "    # Condition 5 - Are all integers unique?\n",
    "    \n",
    "    common_error_statement = 'Error: the function input must be a list composed of 6 natural non-repeated numbers from 1 to 49. Fill the bet again please.' \n",
    "        \n",
    "    error_spec = ['    - Input is not a list; example of an O.K. list: [5, 10, 15, 20, 25, 30]',\n",
    "              '    - Value(s) which are not natural numbers (integers) were inserted.',\n",
    "              f'    - The bet must be composed exactly of 6 natural numbers.', \n",
    "              '    - At least one value does not belong to the range between 1 to 49 (both extremes included).',\n",
    "              '    - At least one number inserted is repeated.']\n",
    "    \n",
    "    # We must raise an early error if the input is not a list,\n",
    "    # otherwise we would have another error raised when the \n",
    "    # program tries to use list comprehension inside 'conditions'.\n",
    "    if not isinstance(bet, list):\n",
    "        print(common_error_statement)\n",
    "        print('Error specification:')\n",
    "        print(error_spec[0])\n",
    "        return\n",
    "\n",
    "    conditions = [isinstance(bet, list),\n",
    "                  all([type(el) == int for el in bet]),\n",
    "                  len(bet)==k,\n",
    "                  all([el in range(1, 49+1) for el in bet]),\n",
    "                  len(bet) == len(set(bet))]  \n",
    "    \n",
    "    \n",
    "    # If every input condition is met:\n",
    "    if all(conditions):\n",
    "        return one_ticket_probability_calc(bet)\n",
    "\n",
    "    else:\n",
    "        print(common_error_statement)\n",
    "        print('Error specification:')\n",
    "\n",
    "        if (conditions[2] == False) & (type(bet)==list):\n",
    "            error_spec[2] += f' {len(bet)} were inserted.'\n",
    "\n",
    "        for index, cond in enumerate(conditions):\n",
    "            if cond == False:\n",
    "                print(error_spec[index])\n",
    "                \n",
    "\n",
    "def one_ticket_probability(bet):\n",
    "    prob = check_input(bet)\n",
    "     # To print the probability without scientific notation (is converted into a string).\n",
    "    if prob:\n",
    "        prob = np.format_float_positional(prob, trim='-')\n",
    "        return f'The probability of winning the lottery with the inserted bet is {prob}%.'"
   ]
  },
  {
   "cell_type": "markdown",
   "metadata": {},
   "source": [
    "`one_ticket_probability()` works by redirecting the bet (output) to an auxiliary function `check_input()`; this function will check whether the bet meets the five conditions below, or will return which a message detailing which conditions have been broking, asking the user to insert a corrected version of the bet.  \n",
    "\n",
    "- 1. the input argument of our function must be a list.\n",
    "- 2. the list must have six values.\n",
    "- 3. the values are integers (natural numbers).\n",
    "- 4. numbers must not repeat.\n",
    "- 5. every number is inside the 1 to 49 range.\n",
    "\n",
    "In case that all conditions are met, the output of `check_input()` will be piped as input to `one_ticket_probability_cal()`, which will calculate and return the probability of winning the lottery. \n",
    "\n",
    "Testing `one_ticket_probability()` by inserting six different numbers:"
   ]
  },
  {
   "cell_type": "code",
   "execution_count": 6,
   "metadata": {},
   "outputs": [
    {
     "data": {
      "text/plain": [
       "'The probability of winning the lottery with the inserted bet is 0.000007%.'"
      ]
     },
     "execution_count": 6,
     "metadata": {},
     "output_type": "execute_result"
    }
   ],
   "source": [
    "one_ticket_probability([1, 2, 3, 4, 5, 6])"
   ]
  },
  {
   "cell_type": "markdown",
   "metadata": {},
   "source": [
    "#### Checking if `check_input()` helps the user to identify errors in the bet inserted. \n",
    "\n",
    "First error, inserting an argument in the function that is not a list, two examples:"
   ]
  },
  {
   "cell_type": "code",
   "execution_count": 7,
   "metadata": {},
   "outputs": [
    {
     "name": "stdout",
     "output_type": "stream",
     "text": [
      "Error: the function input must be a list composed of 6 natural non-repeated numbers from 1 to 49. Fill the bet again please.\n",
      "Error specification:\n",
      "    - Input is not a list; example of an O.K. list: [5, 10, 15, 20, 25, 30]\n"
     ]
    }
   ],
   "source": [
    "one_ticket_probability(2324)"
   ]
  },
  {
   "cell_type": "code",
   "execution_count": 8,
   "metadata": {},
   "outputs": [
    {
     "name": "stdout",
     "output_type": "stream",
     "text": [
      "Error: the function input must be a list composed of 6 natural non-repeated numbers from 1 to 49. Fill the bet again please.\n",
      "Error specification:\n",
      "    - Input is not a list; example of an O.K. list: [5, 10, 15, 20, 25, 30]\n"
     ]
    }
   ],
   "source": [
    "one_ticket_probability('dog')"
   ]
  },
  {
   "cell_type": "markdown",
   "metadata": {},
   "source": [
    "Second error, inserting one list with 5 elements, and another with 7."
   ]
  },
  {
   "cell_type": "code",
   "execution_count": 9,
   "metadata": {},
   "outputs": [
    {
     "name": "stdout",
     "output_type": "stream",
     "text": [
      "Error: the function input must be a list composed of 6 natural non-repeated numbers from 1 to 49. Fill the bet again please.\n",
      "Error specification:\n",
      "    - The bet must be composed exactly of 6 natural numbers. 5 were inserted.\n"
     ]
    }
   ],
   "source": [
    "one_ticket_probability([22, 41, 35, 5, 3])"
   ]
  },
  {
   "cell_type": "code",
   "execution_count": 10,
   "metadata": {},
   "outputs": [
    {
     "name": "stdout",
     "output_type": "stream",
     "text": [
      "Error: the function input must be a list composed of 6 natural non-repeated numbers from 1 to 49. Fill the bet again please.\n",
      "Error specification:\n",
      "    - The bet must be composed exactly of 6 natural numbers. 7 were inserted.\n"
     ]
    }
   ],
   "source": [
    "one_ticket_probability([1, 2, 3, 4, 5, 6, 7])"
   ]
  },
  {
   "cell_type": "markdown",
   "metadata": {},
   "source": [
    "Third error, inserting a number with decimals or any other value that is not an integer within the 1 to 49 range (see the last value in the input lists below); Two examples:"
   ]
  },
  {
   "cell_type": "code",
   "execution_count": 11,
   "metadata": {},
   "outputs": [
    {
     "name": "stdout",
     "output_type": "stream",
     "text": [
      "Error: the function input must be a list composed of 6 natural non-repeated numbers from 1 to 49. Fill the bet again please.\n",
      "Error specification:\n",
      "    - Value(s) which are not natural numbers (integers) were inserted.\n",
      "    - At least one value does not belong to the range between 1 to 49 (both extremes included).\n"
     ]
    }
   ],
   "source": [
    "one_ticket_probability([22, 41, 35, 12, 5, 22.5])"
   ]
  },
  {
   "cell_type": "code",
   "execution_count": 12,
   "metadata": {},
   "outputs": [
    {
     "name": "stdout",
     "output_type": "stream",
     "text": [
      "Error: the function input must be a list composed of 6 natural non-repeated numbers from 1 to 49. Fill the bet again please.\n",
      "Error specification:\n",
      "    - Value(s) which are not natural numbers (integers) were inserted.\n",
      "    - At least one value does not belong to the range between 1 to 49 (both extremes included).\n"
     ]
    }
   ],
   "source": [
    "one_ticket_probability([22, 41, 35, 12, 5, 'dog'])"
   ]
  },
  {
   "cell_type": "markdown",
   "metadata": {},
   "source": [
    "In this last case we make two mistakes on purpose: a repeated number (6), and a string value."
   ]
  },
  {
   "cell_type": "code",
   "execution_count": 13,
   "metadata": {},
   "outputs": [
    {
     "name": "stdout",
     "output_type": "stream",
     "text": [
      "Error: the function input must be a list composed of 6 natural non-repeated numbers from 1 to 49. Fill the bet again please.\n",
      "Error specification:\n",
      "    - Value(s) which are not natural numbers (integers) were inserted.\n",
      "    - At least one value does not belong to the range between 1 to 49 (both extremes included).\n",
      "    - At least one number inserted is repeated.\n"
     ]
    }
   ],
   "source": [
    "one_ticket_probability([22, 41, 35, 6, 6, 'dog'])"
   ]
  },
  {
   "cell_type": "markdown",
   "metadata": {},
   "source": [
    "Inserting a list with three possible mistakes."
   ]
  },
  {
   "cell_type": "code",
   "execution_count": 14,
   "metadata": {},
   "outputs": [
    {
     "name": "stdout",
     "output_type": "stream",
     "text": [
      "Error: the function input must be a list composed of 6 natural non-repeated numbers from 1 to 49. Fill the bet again please.\n",
      "Error specification:\n",
      "    - The bet must be composed exactly of 6 natural numbers. 8 were inserted.\n",
      "    - At least one value does not belong to the range between 1 to 49 (both extremes included).\n",
      "    - At least one number inserted is repeated.\n"
     ]
    }
   ],
   "source": [
    "one_ticket_probability([21, 9, 4, 44, 44, 80, 20, 1])"
   ]
  },
  {
   "cell_type": "markdown",
   "metadata": {},
   "source": [
    "## Slide 4\n",
    "---\n",
    "On the previous screen, we wrote a function that can tell users what is the probability of winning the big prize with a single ticket. For the first version of the app, however, users should also be able to compare their ticket against the historical lottery data in Canada and determine whether they would have ever won by now.\n",
    "\n",
    "On this screen, we'll focus on exploring the historical data coming from the Canada 6/49 lottery. The data set can be downloaded from Kaggle and it has the following structure:\n",
    "\n",
    "\n",
    "\n",
    "#### Instructions\n",
    "---\n",
    "- Open the `649.csv` file and save it as a pandas DataFrame.\n",
    "\n",
    "\n",
    "- Print the number of rows and columns of this data set.\n",
    "    \n",
    "    \n",
    "- Print the first and the last three rows and try to get familiar with the data set."
   ]
  },
  {
   "cell_type": "markdown",
   "metadata": {},
   "source": [
    "## Adding Features To The App\n",
    "\n",
    "For the first version of the app, however, users should also be able to know if the bet they inserted was also a winning bet in earlier drawings. To that effect we enable the compare the inserted bet with the historical lottery data in Canada.\n",
    "\n",
    "The first task will be creating a Series that stores all the winning combinations of numbers, by building a function that can be piped, later on, into the main function. "
   ]
  },
  {
   "cell_type": "markdown",
   "metadata": {},
   "source": [
    "### Canadian Lottery History \n",
    "\n",
    "Exploring the data set `lot_hist`."
   ]
  },
  {
   "cell_type": "code",
   "execution_count": 15,
   "metadata": {},
   "outputs": [],
   "source": [
    "# The name of the df is short for 'lottery history'.\n",
    "lot_hist = pd.read_csv('649.csv')"
   ]
  },
  {
   "cell_type": "code",
   "execution_count": 16,
   "metadata": {},
   "outputs": [
    {
     "name": "stdout",
     "output_type": "stream",
     "text": [
      "<class 'pandas.core.frame.DataFrame'>\n",
      "RangeIndex: 3665 entries, 0 to 3664\n",
      "Data columns (total 11 columns):\n",
      " #   Column           Non-Null Count  Dtype \n",
      "---  ------           --------------  ----- \n",
      " 0   PRODUCT          3665 non-null   int64 \n",
      " 1   DRAW NUMBER      3665 non-null   int64 \n",
      " 2   SEQUENCE NUMBER  3665 non-null   int64 \n",
      " 3   DRAW DATE        3665 non-null   object\n",
      " 4   NUMBER DRAWN 1   3665 non-null   int64 \n",
      " 5   NUMBER DRAWN 2   3665 non-null   int64 \n",
      " 6   NUMBER DRAWN 3   3665 non-null   int64 \n",
      " 7   NUMBER DRAWN 4   3665 non-null   int64 \n",
      " 8   NUMBER DRAWN 5   3665 non-null   int64 \n",
      " 9   NUMBER DRAWN 6   3665 non-null   int64 \n",
      " 10  BONUS NUMBER     3665 non-null   int64 \n",
      "dtypes: int64(10), object(1)\n",
      "memory usage: 315.1+ KB\n"
     ]
    }
   ],
   "source": [
    "lot_hist.info()"
   ]
  },
  {
   "cell_type": "code",
   "execution_count": 17,
   "metadata": {},
   "outputs": [
    {
     "data": {
      "text/html": [
       "<div>\n",
       "<style scoped>\n",
       "    .dataframe tbody tr th:only-of-type {\n",
       "        vertical-align: middle;\n",
       "    }\n",
       "\n",
       "    .dataframe tbody tr th {\n",
       "        vertical-align: top;\n",
       "    }\n",
       "\n",
       "    .dataframe thead th {\n",
       "        text-align: right;\n",
       "    }\n",
       "</style>\n",
       "<table border=\"1\" class=\"dataframe\">\n",
       "  <thead>\n",
       "    <tr style=\"text-align: right;\">\n",
       "      <th></th>\n",
       "      <th>PRODUCT</th>\n",
       "      <th>DRAW NUMBER</th>\n",
       "      <th>SEQUENCE NUMBER</th>\n",
       "      <th>DRAW DATE</th>\n",
       "      <th>NUMBER DRAWN 1</th>\n",
       "      <th>NUMBER DRAWN 2</th>\n",
       "      <th>NUMBER DRAWN 3</th>\n",
       "      <th>NUMBER DRAWN 4</th>\n",
       "      <th>NUMBER DRAWN 5</th>\n",
       "      <th>NUMBER DRAWN 6</th>\n",
       "      <th>BONUS NUMBER</th>\n",
       "    </tr>\n",
       "  </thead>\n",
       "  <tbody>\n",
       "    <tr>\n",
       "      <th>0</th>\n",
       "      <td>649</td>\n",
       "      <td>1</td>\n",
       "      <td>0</td>\n",
       "      <td>6/12/1982</td>\n",
       "      <td>3</td>\n",
       "      <td>11</td>\n",
       "      <td>12</td>\n",
       "      <td>14</td>\n",
       "      <td>41</td>\n",
       "      <td>43</td>\n",
       "      <td>13</td>\n",
       "    </tr>\n",
       "    <tr>\n",
       "      <th>1</th>\n",
       "      <td>649</td>\n",
       "      <td>2</td>\n",
       "      <td>0</td>\n",
       "      <td>6/19/1982</td>\n",
       "      <td>8</td>\n",
       "      <td>33</td>\n",
       "      <td>36</td>\n",
       "      <td>37</td>\n",
       "      <td>39</td>\n",
       "      <td>41</td>\n",
       "      <td>9</td>\n",
       "    </tr>\n",
       "    <tr>\n",
       "      <th>2</th>\n",
       "      <td>649</td>\n",
       "      <td>3</td>\n",
       "      <td>0</td>\n",
       "      <td>6/26/1982</td>\n",
       "      <td>1</td>\n",
       "      <td>6</td>\n",
       "      <td>23</td>\n",
       "      <td>24</td>\n",
       "      <td>27</td>\n",
       "      <td>39</td>\n",
       "      <td>34</td>\n",
       "    </tr>\n",
       "    <tr>\n",
       "      <th>3</th>\n",
       "      <td>649</td>\n",
       "      <td>4</td>\n",
       "      <td>0</td>\n",
       "      <td>7/3/1982</td>\n",
       "      <td>3</td>\n",
       "      <td>9</td>\n",
       "      <td>10</td>\n",
       "      <td>13</td>\n",
       "      <td>20</td>\n",
       "      <td>43</td>\n",
       "      <td>34</td>\n",
       "    </tr>\n",
       "    <tr>\n",
       "      <th>4</th>\n",
       "      <td>649</td>\n",
       "      <td>5</td>\n",
       "      <td>0</td>\n",
       "      <td>7/10/1982</td>\n",
       "      <td>5</td>\n",
       "      <td>14</td>\n",
       "      <td>21</td>\n",
       "      <td>31</td>\n",
       "      <td>34</td>\n",
       "      <td>47</td>\n",
       "      <td>45</td>\n",
       "    </tr>\n",
       "  </tbody>\n",
       "</table>\n",
       "</div>"
      ],
      "text/plain": [
       "   PRODUCT  DRAW NUMBER  SEQUENCE NUMBER  DRAW DATE  NUMBER DRAWN 1  \\\n",
       "0      649            1                0  6/12/1982               3   \n",
       "1      649            2                0  6/19/1982               8   \n",
       "2      649            3                0  6/26/1982               1   \n",
       "3      649            4                0   7/3/1982               3   \n",
       "4      649            5                0  7/10/1982               5   \n",
       "\n",
       "   NUMBER DRAWN 2  NUMBER DRAWN 3  NUMBER DRAWN 4  NUMBER DRAWN 5  \\\n",
       "0              11              12              14              41   \n",
       "1              33              36              37              39   \n",
       "2               6              23              24              27   \n",
       "3               9              10              13              20   \n",
       "4              14              21              31              34   \n",
       "\n",
       "   NUMBER DRAWN 6  BONUS NUMBER  \n",
       "0              43            13  \n",
       "1              41             9  \n",
       "2              39            34  \n",
       "3              43            34  \n",
       "4              47            45  "
      ]
     },
     "execution_count": 17,
     "metadata": {},
     "output_type": "execute_result"
    }
   ],
   "source": [
    "lot_hist.head()"
   ]
  },
  {
   "cell_type": "markdown",
   "metadata": {},
   "source": [
    "\\[Slide 4 - continuation\\]\n",
    "\n",
    "The data set contains historical data for 3,665 drawings (each row shows data for a single drawing), dating from 1982 to 2018. For each drawing, we can find the six numbers drawn in the following six columns:\n",
    "\n",
    "\n",
    "- `NUMBER DRAWN 1`.\n",
    "- `NUMBER DRAWN 2`.\n",
    "- `NUMBER DRAWN 3`.\n",
    "- `NUMBER DRAWN 4`.\n",
    "- `NUMBER DRAWN 5`.\n",
    "- `NUMBER DRAWN 6`.\n",
    "\n",
    "Let's now write some code to open this data set and get familiar with its structure.\n",
    "\n",
    "#### Instructions\n",
    "---\n",
    "- Open the `649.csv` file and save it as a pandas DataFrame. \\[**Note**: made above.\\]\n",
    "\n",
    "\n",
    "- Print the number of rows and columns of this data set. \\[**Note**: made above.\\]\n",
    "\n",
    "\n",
    "- Print the first and the last three rows and try to get familiar with the data set."
   ]
  },
  {
   "cell_type": "markdown",
   "metadata": {},
   "source": [
    "## Slide 5\n",
    "---\n",
    "On the previous screen, we focused on opening and exploring the Canada lottery data set. On this screen, we're going to write a function that will enable users to compare their ticket against the historical lottery data in Canada and determine whether they would have ever won by now.\n",
    "\n",
    "The engineering team told us that we need to be aware of the following details:\n",
    "\n",
    "\n",
    "- Inside the app, the user inputs six different numbers from 1 to 49.\n",
    "\n",
    "\n",
    "- Under the hood, the six numbers will come as a Python list and serve as an input to our function.\n",
    "\n",
    "\n",
    "- The engineering team wants us to write a function that prints:\n",
    "    - the number of times the combination selected occurred in the Canada data set; and\n",
    "    - the probability of winning the big prize in the next drawing with that combination.\n",
    "\n",
    "\n",
    "We'll now start working on writing this function. Note there's more than one way to solve this problem, so take the instructions below as suggestions.\n",
    "\n",
    "\n",
    "\n",
    "#### Instructions\n",
    "---\n",
    "1. Extract all the winning six numbers from the historical data set as Python sets [(set is a data type in Python)](https://docs.python.org/3/tutorial/datastructures.html#sets).\n",
    "    - Write a function named `extract_numbers()` that takes as input a row of the lottery dataframe and returns a set containing all the six winning numbers. For the first row, for instance, the function should return the set `{3, 41, 11, 12, 43, 14}`.\n",
    "    - Use `extract_numbers()` in combination with the `DataFrame.apply()` method to extract all the winning numbers.\n",
    "\n",
    "\n",
    "2. Write a function named `check_historical_occurrence()` that takes in two inputs: a Python list containing the user numbers and a pandas Series containing sets with the winning numbers (this is the Series you'll extract using the extract_numbers() function).\n",
    "    - Convert the user numbers list as a set using the `set()` function.\n",
    "    - Compare the set against the pandas Series that contains the sets with the winning numbers to find the number of matches — a Series of Boolean values will be returned as a result of the comparison (the value will be `True` each time there'll be a match).\n",
    "    - Print information about the number of times the combination inputted by the user occurred in the past.\n",
    "    - Print information (in an easy-to-understand way) about the probability of winning the big prize in the next drawing with that combination.\n",
    "\n",
    "\n",
    "3. Test your function with a few inputs.\n",
    "\n",
    "\n",
    "4. Add some context for your readers to explain what you did in this step and why."
   ]
  },
  {
   "cell_type": "markdown",
   "metadata": {},
   "source": [
    "### Support Function That Retrieves All Winning Bets \n",
    "\n",
    "As we can see, we have a lottery style that also includes a 'Bonus Number', but as one can read in this [Wikipedia article](https://en.wikipedia.org/wiki/Lottery_mathematics#Powerballs_and_bonus_balls), it is not related to the main prize event, therefore we do not consider it. To facilitate the comparison between the full draws and the bets inserted by our users, we produce a Series of set objects."
   ]
  },
  {
   "cell_type": "code",
   "execution_count": 18,
   "metadata": {},
   "outputs": [],
   "source": [
    "def extract_winning_bets():\n",
    "    \n",
    "    winning_set = []\n",
    "\n",
    "    for col, series in lot_hist.iloc[:, 4:9+1].iterrows():\n",
    "\n",
    "        total_draw = []\n",
    "    \n",
    "        for nr_drawn in series:\n",
    "            total_draw.append(nr_drawn)\n",
    "\n",
    "        winning_set.append(sorted(total_draw))\n",
    "\n",
    "    winning_set = pd.Series(winning_set, name='all_winning_bets')\n",
    "    \n",
    "    winning_set = winning_set.apply(lambda x: set(x))\n",
    "        \n",
    "    return winning_set\n",
    "    "
   ]
  },
  {
   "cell_type": "markdown",
   "metadata": {},
   "source": [
    "Testing `extract_winning_bets()`."
   ]
  },
  {
   "cell_type": "code",
   "execution_count": 19,
   "metadata": {},
   "outputs": [],
   "source": [
    "winning_bets = extract_winning_bets()"
   ]
  },
  {
   "cell_type": "code",
   "execution_count": 20,
   "metadata": {},
   "outputs": [
    {
     "data": {
      "text/plain": [
       "0        {3, 41, 11, 12, 43, 14}\n",
       "1        {33, 36, 37, 39, 8, 41}\n",
       "2         {1, 6, 39, 23, 24, 27}\n",
       "3         {3, 9, 10, 43, 13, 20}\n",
       "4        {34, 5, 14, 47, 21, 31}\n",
       "                  ...           \n",
       "3660    {38, 40, 41, 10, 15, 23}\n",
       "3661    {36, 46, 47, 19, 25, 31}\n",
       "3662     {32, 34, 6, 22, 24, 31}\n",
       "3663     {2, 38, 15, 49, 21, 31}\n",
       "3664    {35, 37, 14, 48, 24, 31}\n",
       "Name: all_winning_bets, Length: 3665, dtype: object"
      ]
     },
     "execution_count": 20,
     "metadata": {},
     "output_type": "execute_result"
    }
   ],
   "source": [
    "winning_bets"
   ]
  },
  {
   "cell_type": "markdown",
   "metadata": {},
   "source": [
    "### Reformulating The Main Algorithm So That It Informs The User About The Historical Occurrence Of The Placed Bet\n",
    "\n",
    "\n",
    "`check_historical_occurrence()` returns the same output as `one_ticket_probability()` and also displays the number of times the user's bet was a winning bet in the Canadian lottery. We make use of Python set objects to count how many time the user's bet can be entirely found in each of the Canadian lottery history drawings.   \n",
    "\n",
    "`extract_winning_bets()` is piped so that the winning bets can be automatically extracted from the data set we're working with. "
   ]
  },
  {
   "cell_type": "code",
   "execution_count": 21,
   "metadata": {},
   "outputs": [],
   "source": [
    "def check_historical_occurrence(bet):\n",
    "    \n",
    "    # PART ONE: defining input restrictions and calculating probabilities of winning.\n",
    "    one_ticket_prob = one_ticket_probability(bet)\n",
    "    \n",
    "    \n",
    "    # PART TWO: comparing actual bet with past bets of the Canadian Lottery history.\n",
    "    if one_ticket_prob:\n",
    "        print(one_ticket_prob)\n",
    "        \n",
    "        winning_bets = extract_winning_bets()\n",
    "\n",
    "        # Set logic: set >= other, 'Test whether every element in other is in the set'.\n",
    "        win_count = sum(winning_bets>=set(bet)) \n",
    "\n",
    "        print(f\"Number of times the user's bet was a winning combination in past events of the Canadian lottery: {win_count}.\")"
   ]
  },
  {
   "cell_type": "markdown",
   "metadata": {},
   "source": [
    "Testing the function."
   ]
  },
  {
   "cell_type": "code",
   "execution_count": 22,
   "metadata": {},
   "outputs": [
    {
     "name": "stdout",
     "output_type": "stream",
     "text": [
      "The probability of winning the lottery with the inserted bet is 0.000007%.\n",
      "Number of times the user's bet was a winning combination in past events of the Canadian lottery: 0.\n"
     ]
    }
   ],
   "source": [
    "check_historical_occurrence([23, 41, 3, 35, 12, 8])"
   ]
  },
  {
   "cell_type": "markdown",
   "metadata": {},
   "source": [
    "Inserting the bet with a mistake on purpose (a bet with only 5 digits), to check whether `check_historical_occurrence(bet)` also raises errors correctly, resorting to the `check_input()` support function. "
   ]
  },
  {
   "cell_type": "code",
   "execution_count": 23,
   "metadata": {},
   "outputs": [
    {
     "name": "stdout",
     "output_type": "stream",
     "text": [
      "Error: the function input must be a list composed of 6 natural non-repeated numbers from 1 to 49. Fill the bet again please.\n",
      "Error specification:\n",
      "    - The bet must be composed exactly of 6 natural numbers. 5 were inserted.\n"
     ]
    }
   ],
   "source": [
    "check_historical_occurrence([23, 41, 3, 35, 12]) "
   ]
  },
  {
   "cell_type": "code",
   "execution_count": 24,
   "metadata": {},
   "outputs": [
    {
     "name": "stdout",
     "output_type": "stream",
     "text": [
      "Error: the function input must be a list composed of 6 natural non-repeated numbers from 1 to 49. Fill the bet again please.\n",
      "Error specification:\n",
      "    - Input is not a list; example of an O.K. list: [5, 10, 15, 20, 25, 30]\n"
     ]
    }
   ],
   "source": [
    "check_historical_occurrence('dog') "
   ]
  },
  {
   "cell_type": "markdown",
   "metadata": {},
   "source": [
    "## Slide 6\n",
    "---\n",
    "So far, we wrote two functions:\n",
    "\n",
    "\n",
    "- `one_ticket_probability()` — calculates the probability of winning the big prize with a single ticket.\n",
    "\n",
    "\n",
    "- `check_historical_occurrence()` — checks whether a certain combination has occurred in the Canada lottery data set.\n",
    "\n",
    "\n",
    "Lottery addicts usually play more than one ticket on a single drawing, thinking that this might increase their chances of winning significantly. Our purpose is to help them better estimate their chances of winning — on this screen, we're going to write a function that will allow the users to calculate the chances of winning for any number of different tickets.\n",
    "\n",
    "We've talked with the engineering team and they gave us the following information:\n",
    "\n",
    "\n",
    "- The user will input the number of different tickets they want to play (without inputting the specific combinations they intend to play).\n",
    "\n",
    "\n",
    "- Our function will see an integer between 1 and 13,983,816 (the maximum number of different tickets).\n",
    "\n",
    "\n",
    "- The function should print information about the probability of winning the big prize depending on the number of different tickets played.\n",
    "\n",
    "\n",
    "Let's now start writing this function.\n",
    "\n",
    "\n",
    "\n",
    "#### Instructions\n",
    "---\n",
    "1. Write a function named `multi_ticket_probability()` that prints the probability of winning the big prize depending on the number of different tickets played.\n",
    "    - Start by calculating the total number of possible outcomes — this is total number of combinations for a six-number lottery ticket. There are 49 total numbers, and six numbers are sampled without replacement. Use the `combinations()` function you wrote in a previous screen.\n",
    "\n",
    "    - The number of successful outcomes is given by the number of tickets the user intends to play.\n",
    "    \n",
    "    - Use the number of successful outcomes and the total number of possible outcomes to calculate the probability for the number of tickets inputted.\n",
    "    \n",
    "    - The function should print the probability in a way that's easy to understand. It's up to you what you choose, but here are a few suggestions:\n",
    "        - Print the probability as a percentage.\n",
    "        - Use the `str.format()` method to make the printed message more personalized with respect to what the user inputs.\n",
    "\n",
    "\n",
    "2. Test your function using the following inputs: \\[1, 10, 100, 10000, 1000000, 6991908, 13983816\\].\n",
    "\n",
    "\n",
    "3. Add some context for your readers to explain what you did in this step and why."
   ]
  },
  {
   "cell_type": "markdown",
   "metadata": {},
   "source": [
    "## Adding Another Feature: Inform The User About The Probability Of Winning A Lottery Event Given $n$ Number Of Random Bets\n",
    "\n",
    "`multi_ticket_probability` is a function that helps the lottery player understand what are the realistic chances of winning the lottery given a certain number of bets for one lottery event."
   ]
  },
  {
   "cell_type": "code",
   "execution_count": 25,
   "metadata": {},
   "outputs": [],
   "source": [
    "def check_input_2(n):\n",
    "    \n",
    "    maximum_number_bets = combinations(49, 6)\n",
    "    \n",
    "    bet_range = range(1, maximum_number_bets+1)\n",
    "    \n",
    "    conditions = [isinstance(n, int), n in bet_range] \n",
    "    \n",
    "    if all(conditions):\n",
    "        return n\n",
    "    else:\n",
    "        print(f'Error: the inserted number should be a natural number between 1 and {maximum_number_bets} - the total number of possible combinations. Insert the bet again please.\\n')\n",
    "\n",
    "\n",
    "def multi_ticket_probability(number_of_bets):\n",
    "    \"\"\"Takes the number of bets the user wants to play and returns the probability of\n",
    "    winning a '49 choose 6' type of lottery game.\n",
    "    \"\"\"\n",
    "    \n",
    "    n = check_input_2(number_of_bets)\n",
    "    \n",
    "    if n:\n",
    "        # Probability of winning.\n",
    "        prob_win = n / combinations(49, 6)\n",
    "\n",
    "        # Rounded and percentage converted.\n",
    "        prob_win_perc = round(prob_win*100, 10)\n",
    "\n",
    "        # To print the probability without scientific notation.\n",
    "        prob_win_perc = np.format_float_positional(prob_win_perc, trim='-')\n",
    "\n",
    "        return f'The probability of winning with the lottery with {number_of_bets} bet(s) is:\\n-{prob_win_perc}%.'\n"
   ]
  },
  {
   "cell_type": "markdown",
   "metadata": {},
   "source": [
    "Testing function."
   ]
  },
  {
   "cell_type": "code",
   "execution_count": 26,
   "metadata": {},
   "outputs": [],
   "source": [
    "list_test_1 = [1, 10, 100, 10000, 1000000, 6991908, 13983816]\n",
    "\n",
    "test_1 = [multi_ticket_probability(i) for i in list_test_1]"
   ]
  },
  {
   "cell_type": "code",
   "execution_count": 27,
   "metadata": {},
   "outputs": [
    {
     "name": "stdout",
     "output_type": "stream",
     "text": [
      "The probability of winning with the lottery with 1 bet(s) is:\n",
      "-0.0000071511%.\n",
      "\n",
      "The probability of winning with the lottery with 10 bet(s) is:\n",
      "-0.0000715112%.\n",
      "\n",
      "The probability of winning with the lottery with 100 bet(s) is:\n",
      "-0.0007151124%.\n",
      "\n",
      "The probability of winning with the lottery with 10000 bet(s) is:\n",
      "-0.0715112384%.\n",
      "\n",
      "The probability of winning with the lottery with 1000000 bet(s) is:\n",
      "-7.151123842%.\n",
      "\n",
      "The probability of winning with the lottery with 6991908 bet(s) is:\n",
      "-50%.\n",
      "\n",
      "The probability of winning with the lottery with 13983816 bet(s) is:\n",
      "-100%.\n"
     ]
    }
   ],
   "source": [
    "print(*test_1, sep='\\n\\n')"
   ]
  },
  {
   "cell_type": "markdown",
   "metadata": {},
   "source": [
    "Checking mistakes and error message."
   ]
  },
  {
   "cell_type": "code",
   "execution_count": 28,
   "metadata": {},
   "outputs": [
    {
     "name": "stdout",
     "output_type": "stream",
     "text": [
      "Error: the inserted number should be a natural number between 1 and 13983816 - the total number of possible combinations. Insert the bet again please.\n",
      "\n",
      "Error: the inserted number should be a natural number between 1 and 13983816 - the total number of possible combinations. Insert the bet again please.\n",
      "\n",
      "Error: the inserted number should be a natural number between 1 and 13983816 - the total number of possible combinations. Insert the bet again please.\n",
      "\n"
     ]
    }
   ],
   "source": [
    "list_test_2 = ['dog', [10], -1]\n",
    "\n",
    "test_2 = [multi_ticket_probability(i) for i in list_test_2]"
   ]
  },
  {
   "cell_type": "markdown",
   "metadata": {},
   "source": [
    "## Slide 7\n",
    "---\n",
    "So far, we wrote three main functions:\n",
    "\n",
    "\n",
    "- `one_ticket_probability()` — calculates the probability of winning the big prize with a single ticket.\n",
    "\n",
    "\n",
    "- `check_historical_occurrence()` — checks whether a certain combination has occurred in the Canada lottery data set.\n",
    "\n",
    "\n",
    "- `multi_ticket_probability()` — calculates the probability for any number of tickets between 1 and 13,983,816.\n",
    "\n",
    "\n",
    "On this screen, we're going to write one more function to allow the users to calculate probabilities for two, three, four, or five winning numbers.\n",
    "\n",
    "For extra context, in most 6/49 lotteries there are smaller prizes if a player's ticket match two, three, four, or five of the six numbers drawn. As a consequence, the users might be interested in knowing the probability of having two, three, four, or five winning numbers.\n",
    "\n",
    "These are the engineering details we'll need to be aware of:\n",
    "\n",
    "\n",
    "- Inside the app, the user inputs:\n",
    "    - six different numbers from 1 to 49; and\n",
    "    - an integer between 2 and 5 that represents the number of winning numbers expected.\n",
    "    \n",
    "    \n",
    "- Our function prints information about the probability of having the inputted number of winning numbers.\n",
    "\n",
    "To help you code this function, we'll guide you through calculating the probability for having exactly five winning numbers. First, we need to differentiate between these two probability questions:\n",
    "\n",
    "\n",
    "1. What is the probability of having _exactly_ five winning numbers?\n",
    "\n",
    "\n",
    "2. What is the probability of having _at least_ five winning numbers?\n",
    "\n",
    "\n",
    "For our purposes here, we want to answer the first question.\n",
    "\n",
    "For the sake of example, let's say a player chose these six numbers on a ticket: (1, 2, 3, 4 ,5 ,6). Out of these six numbers, we can form six five-number combinations:\n",
    "\n",
    "\n",
    "- (1, 2, 3, 4, 5)\n",
    "\n",
    "- (1, 2, 3, 4, 6)\n",
    "\n",
    "- (1, 2, 3, 5, 6)\n",
    "\n",
    "- (1, 2, 4, 5, 6)\n",
    "\n",
    "- (1, 3, 4, 5, 6)\n",
    "\n",
    "- (2, 3, 4, 5, 6)\n",
    "\n",
    "\n",
    "We can also find the total number of five-number combinations by calculating ${6 \\choose 5}$ (\"6 choose 5\"):\n",
    "\n",
    "\\begin{equation}\n",
    "_6C_5 = {6 \\choose 5} =  \\frac{6!}{5!(6-5)!} =  6\n",
    "\\end{equation}\n",
    "\n",
    "For each one of the six five-number combinations above, there are 44 possible successful outcomes in a lottery drawing. For the combination (1, 2, 3, 4, 5), for instance, there are 44 lottery outcomes that would return a prize:\n",
    "\n",
    "- (**1**, **2**, **3**, **4**, **5**, 6)\n",
    "- (**1**, **2**, **3**, **4**, **5**, 7)\n",
    "- ...\n",
    "- (**1**, **2**, **3**, **4**, **5**, 30)\n",
    "- (**1**, **2**, **3**, **4**, **5**, 31)\n",
    "- ...\n",
    "- (**1**, **2**, **3**, **4**, **5**, 49)\n",
    "\n",
    "However, we need to leave out the outcome (1, 2, 3, 4, 5, 6) because we're only interested in outcomes that match exactly five numbers, not at least five numbers. This means that for each of our six five-number combinations we have 43 possible successful outcomes, not 44.\n",
    "\n",
    "Since there are six five-number combinations and each combination corresponds to 43 successful outcomes, we need to multiply 6 by 43 to find the total number of successful outcomes:\n",
    "\n",
    "$6×43=258$\n",
    "\n",
    "Since there are 258 successful outcomes and there are 13,983,816 total possible outcomes (the result of ${49 \\choose 6}$), \n",
    "\n",
    "the probability of having exactly five winning numbers for a single lottery ticket is:\n",
    "\n",
    "\\begin{equation}\n",
    "P(\\text{5-winning numbers}) = \\frac{258}{{49 \\choose 6}} = 0.00001845\n",
    "\\end{equation}\n",
    "\n",
    "Now let's try to code the function. To calculate the probabilities, we tell the engineering team that the specific combination on the ticket is irrelevant behind the scenes, and we only need the integer between 2 and 5 representing the number of winning numbers expected.\n",
    "\n",
    "\n",
    "#### Instructions\n",
    "---\n",
    "1. Write a function named `probability_less_6()` which takes in an integer between `2` and `5` and prints information about the chances of winning depending on the value of that integer.\n",
    "    - First, calculate the number of successful outcomes given the value of the input. We already covered how to calculate this when the input is `5` — when the input is lower, we need to take the same approach (but be careful, the number of combinations will vary). If you get stuck, try to sneak a look at the [solution notebook](https://github.com/dataquestio/solutions/blob/master/Mission382Solutions.ipynb).\n",
    "    - Second, calculate the number of total possible outcomes.\n",
    "    - Calculate the probability using the number of successful outcomes and the number of total possible outcomes.\n",
    "    - Display the probability value in a way that will be easy to understand for the user.\n",
    "\n",
    "\n",
    "2. Test your function on all possible inputs: `2`, `3`, `4`, and `5`.\n",
    "\n",
    "\n",
    "3. Add some context for your readers to explain what you did in this step and why."
   ]
  },
  {
   "cell_type": "markdown",
   "metadata": {},
   "source": [
    "## Chances Of Partially Match The Winning Combination\n",
    "\n",
    "Next we produce a function - `probability_less_6()`, that allows the user to know what is the probability of getting $i$ numbers correct out of the 6 required that compose the winning combination.\n",
    "\n",
    "To automate `probability_less_6()` we followed this progression:\n",
    "\n",
    "\n",
    "- Probability of getting 5 out 6 numbers right: \n",
    "\n",
    "\\begin{equation}\n",
    "\\frac{{6 \\choose 5} * {43 \\choose 1}}{{49 \\choose 6}}\n",
    "\\end{equation}\n",
    "\n",
    "- Probability of getting 4 out 6 numbers right: \n",
    "\n",
    "\\begin{equation}\n",
    "\\frac{{6 \\choose 4} * {43 \\choose 2}}{{49 \\choose 6}}\n",
    "\\end{equation}\n",
    "\n",
    "\n",
    "- Probability of getting 3 out 6 numbers right: \n",
    "\n",
    "\\begin{equation}\n",
    "\\frac{{6 \\choose 3} * {43 \\choose 3}}{{49 \\choose 6}}\n",
    "\\end{equation}\n",
    "\n",
    "\n",
    "- Probability of getting 2 out 6 numbers right: \n",
    "\n",
    "\\begin{equation}\n",
    "\\frac{{6 \\choose 2} * {43 \\choose 4}}{{49 \\choose 6}}\n",
    "\\end{equation}\n",
    "\n",
    "\n",
    "- Probability of getting 1 out 6 numbers right: \n",
    "\n",
    "\\begin{equation}\n",
    "\\frac{{6 \\choose 1} * {43 \\choose 5}}{{49 \\choose 6}}\n",
    "\\end{equation}\n",
    "\n",
    "\n",
    "So, we can generalize: \n",
    "\n",
    "\\begin{equation}\n",
    "\\text{Probability of matching i numbers} = \\frac{{k \\choose \\text{i}} * {n-k \\choose k-i}}{{n \\choose k}}\n",
    "\\end{equation}\n"
   ]
  },
  {
   "cell_type": "code",
   "execution_count": 29,
   "metadata": {},
   "outputs": [],
   "source": [
    "def probability_less_6(i):\n",
    "    \n",
    "    if (i in range(1, 5+1)) & (isinstance(i, int)):\n",
    "        dividend = combinations(6, i) * combinations(43, 6 - i)\n",
    "\n",
    "        divisor = combinations(49, 6) \n",
    "\n",
    "        probability = dividend / divisor\n",
    "\n",
    "        percentage = round(probability*100, 4)\n",
    "\n",
    "        return f'The probability of getting {i} number(s) out of 6, in a single lottery event with a total of 49 numbers, is {percentage}%.'\n",
    "    \n",
    "    else:\n",
    "        return 'Error: The number (integer) inserted must be between 1 and 5 (included). Try again please.'"
   ]
  },
  {
   "cell_type": "markdown",
   "metadata": {},
   "source": [
    "Testing function (first entry on the list below with a mistake on purpose: $i = 0$)."
   ]
  },
  {
   "cell_type": "code",
   "execution_count": 30,
   "metadata": {},
   "outputs": [
    {
     "name": "stdout",
     "output_type": "stream",
     "text": [
      "Error: The number (integer) inserted must be between 1 and 5 (included). Try again please.\n",
      "\n",
      "The probability of getting 1 number(s) out of 6, in a single lottery event with a total of 49 numbers, is 41.3019%.\n",
      "\n",
      "The probability of getting 2 number(s) out of 6, in a single lottery event with a total of 49 numbers, is 13.2378%.\n",
      "\n",
      "The probability of getting 3 number(s) out of 6, in a single lottery event with a total of 49 numbers, is 1.765%.\n",
      "\n",
      "The probability of getting 4 number(s) out of 6, in a single lottery event with a total of 49 numbers, is 0.0969%.\n",
      "\n",
      "The probability of getting 5 number(s) out of 6, in a single lottery event with a total of 49 numbers, is 0.0018%.\n"
     ]
    }
   ],
   "source": [
    "test_a = [probability_less_6(i) for i in range(0, 5+1)]\n",
    "\n",
    "print(*test_a, sep='\\n\\n')"
   ]
  },
  {
   "cell_type": "markdown",
   "metadata": {},
   "source": [
    "## Conclusion\n",
    "---\n",
    "\n",
    "In this project we were able to build a series of algorithms that can be implemented into an app, which allow the user to retrieve answers to the most frequently asked questions one could have regarding the chance of winning the lottery. These algorithms not only check whether the values placed were correctly specified but try to identify possible mistakes. Along th same line, the information retrieved by the algorithms is conveyed in a clear manner, allowing the user to relate the input/bet to its associated probability.\n"
   ]
  },
  {
   "cell_type": "markdown",
   "metadata": {},
   "source": [
    "## Slide 8 (end of project)\n",
    "---\n",
    "That was all for the guided part of the project! We managed to write four main functions for our app:\n",
    "\n",
    "\n",
    "- `one_ticket_probability()` — calculates the probability of winning the big prize with a single ticket.\n",
    "\n",
    "\n",
    "- `check_historical_occurrence()` — checks whether a certain combination has occurred in the Canada lottery data set.\n",
    "\n",
    "\n",
    "- `multi_ticket_probability()` — calculates the probability for any number of of tickets between 1 and 13,983,816.\n",
    "\n",
    "\n",
    "- `probability_less_6()` — calculates the probability of having two, three, four or five winning numbers.\n",
    "\n",
    "\n",
    "Possible features for a second version of the app include:\n",
    "\n",
    "\n",
    "1. Making the outputs even easier to understand by adding fun analogies (for example, we can find probabilities for strange events and compare with the chances of winning in lottery; for instance, we can output something along the lines \"You are 100 times more likely to be the victim of a shark attack than winning the lottery\").\n",
    "\n",
    "\n",
    "2.  Combining the `one_ticket_probability()` and `check_historical_occurrence()` to output information on probability and historical occurrence at the same time.\n",
    "\n",
    "\n",
    "3. Creating a function similar to `probability_less_6()` which calculates the probability of having at least two, three, four or five winning numbers. Hint: the number of successful outcomes for having at least four winning numbers is the sum of these three numbers:\n",
    "    - The number of successful outcomes for having four winning numbers exactly.\n",
    "    - The number of successful outcomes for having five winning numbers exactly.\n",
    "    - The number of successful outcomes for having six winning numbers exactly.\n",
    "\n",
    "When you finish your project, try to make it portfolio-ready using this style guide for data science projects.\n",
    "\n",
    "Curious to see what other students have done on this project? [Head over to our Community to check them out.](https://community.dataquest.io/tags/c/social/share/49/382) While you are there, please remember to show some love and give your own feedback!\n",
    "\n",
    "And of course, we welcome you to share your own project and show off your hard work. Head over to our Community to share your finished Guided Project!\n",
    "\n",
    "Congratulations, you finished the Probability Fundamentals course!"
   ]
  },
  {
   "cell_type": "markdown",
   "metadata": {},
   "source": [
    "## Exploring Other Possible  App Features\n",
    "---\n",
    "Extra-task 3. 'Creating a function similar to `probability_less_6()` which calculates the probability of having at least two, three, four or five winning numbers. (...).'\n"
   ]
  },
  {
   "cell_type": "code",
   "execution_count": 31,
   "metadata": {},
   "outputs": [],
   "source": [
    "def get_right_at_least(i=int):\n",
    "    \"\"\"Takes an integer: i in range(1, 5+1), and returns the probability of getting \n",
    "    at least i number(s) in a '49  choose 6' type of lottery.\n",
    "    \"\"\"\n",
    "    \n",
    "    n = 49 \n",
    "    k = 6\n",
    "    \n",
    "    n_choose_k = combinations(49, 6)\n",
    "    \n",
    "    \n",
    "    if (i not in range(2, 5+1)) or (type(i) != int):\n",
    "        return 'The number (integer) inserted must be between 2 and 5 (included).'\n",
    "\n",
    "    # Total number of combiantions.\n",
    "    total_combinations_1_to_5 = []\n",
    "    \n",
    "    for x in range(1, 5+1): \n",
    "        total_combinations = combinations(k, x) * combinations(43, k - x)\n",
    "        total_combinations_1_to_5.append(total_combinations)\n",
    "\n",
    "    prob_at_least_i = (1 + sum(total_combinations_1_to_5[i:])) / n_choose_k\n",
    "    \n",
    "    prob_at_least_i = prob_at_least_i * 100\n",
    "\n",
    "#     prob_at_least_i = round(prob_at_least_i, 3)\n",
    "\n",
    "    # To print the probability without scientific notation.\n",
    "    prob_at_least_i = np.format_float_positional(prob_at_least_i, trim='-')\n",
    "    \n",
    "    return prob_at_least_i"
   ]
  },
  {
   "cell_type": "code",
   "execution_count": 32,
   "metadata": {},
   "outputs": [
    {
     "data": {
      "text/plain": [
       "'0.000007151123842018516'"
      ]
     },
     "execution_count": 32,
     "metadata": {},
     "output_type": "execute_result"
    }
   ],
   "source": [
    "get_right_at_least(5)"
   ]
  },
  {
   "cell_type": "code",
   "execution_count": 33,
   "metadata": {},
   "outputs": [
    {
     "ename": "NameError",
     "evalue": "name 'probability_less_6_v2' is not defined",
     "output_type": "error",
     "traceback": [
      "\u001b[0;31m---------------------------------------------------------------------------\u001b[0m",
      "\u001b[0;31mNameError\u001b[0m                                 Traceback (most recent call last)",
      "\u001b[0;32m<ipython-input-33-438105627744>\u001b[0m in \u001b[0;36m<module>\u001b[0;34m\u001b[0m\n\u001b[0;32m----> 1\u001b[0;31m \u001b[0;34m(\u001b[0m\u001b[0;36m1\u001b[0m \u001b[0;34m/\u001b[0m \u001b[0mcombinations\u001b[0m\u001b[0;34m(\u001b[0m\u001b[0;36m49\u001b[0m\u001b[0;34m,\u001b[0m \u001b[0;36m6\u001b[0m\u001b[0;34m)\u001b[0m\u001b[0;34m)\u001b[0m \u001b[0;34m+\u001b[0m \u001b[0;34m(\u001b[0m\u001b[0mprobability_less_6_v2\u001b[0m\u001b[0;34m(\u001b[0m\u001b[0;36m5\u001b[0m\u001b[0;34m)\u001b[0m\u001b[0;34m)\u001b[0m\u001b[0;34m\u001b[0m\u001b[0;34m\u001b[0m\u001b[0m\n\u001b[0m",
      "\u001b[0;31mNameError\u001b[0m: name 'probability_less_6_v2' is not defined"
     ]
    }
   ],
   "source": [
    "(1 / combinations(49, 6)) + (probability_less_6_v2(5))"
   ]
  },
  {
   "cell_type": "code",
   "execution_count": null,
   "metadata": {},
   "outputs": [],
   "source": [
    "get_right_at_least(3)"
   ]
  },
  {
   "cell_type": "code",
   "execution_count": null,
   "metadata": {},
   "outputs": [],
   "source": [
    "(1 / combinations(49, 6)) + probability_less_6_v2(5) + probability_less_6_v2(4) + probability_less_6_v2(3)"
   ]
  }
 ],
 "metadata": {
  "celltoolbar": "Initialization Cell",
  "hide_input": false,
  "kernelspec": {
   "display_name": "Python 3",
   "language": "python",
   "name": "python3"
  },
  "language_info": {
   "codemirror_mode": {
    "name": "ipython",
    "version": 3
   },
   "file_extension": ".py",
   "mimetype": "text/x-python",
   "name": "python",
   "nbconvert_exporter": "python",
   "pygments_lexer": "ipython3",
   "version": "3.9.2"
  },
  "toc": {
   "base_numbering": 1,
   "nav_menu": {},
   "number_sections": false,
   "sideBar": true,
   "skip_h1_title": true,
   "title_cell": "Table of Contents",
   "title_sidebar": "Contents",
   "toc_cell": false,
   "toc_position": {},
   "toc_section_display": true,
   "toc_window_display": false
  },
  "varInspector": {
   "cols": {
    "lenName": 16,
    "lenType": 16,
    "lenVar": 40
   },
   "kernels_config": {
    "python": {
     "delete_cmd_postfix": "",
     "delete_cmd_prefix": "del ",
     "library": "var_list.py",
     "varRefreshCmd": "print(var_dic_list())"
    },
    "r": {
     "delete_cmd_postfix": ") ",
     "delete_cmd_prefix": "rm(",
     "library": "var_list.r",
     "varRefreshCmd": "cat(var_dic_list()) "
    }
   },
   "position": {
    "height": "515.85px",
    "left": "1176px",
    "right": "20px",
    "top": "120px",
    "width": "538px"
   },
   "types_to_exclude": [
    "module",
    "function",
    "builtin_function_or_method",
    "instance",
    "_Feature"
   ],
   "window_display": false
  }
 },
 "nbformat": 4,
 "nbformat_minor": 4
}
