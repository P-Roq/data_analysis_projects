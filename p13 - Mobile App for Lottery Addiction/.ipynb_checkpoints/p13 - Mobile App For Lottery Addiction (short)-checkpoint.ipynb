{
 "cells": [
  {
   "cell_type": "markdown",
   "metadata": {},
   "source": [
    "# Mobile App For Lottery Addiction - Helping Lottery Buyers Understanding Their Chances Of Winning It\n"
   ]
  },
  {
   "cell_type": "markdown",
   "metadata": {},
   "source": [
    "## Introduction\n",
    "---\n",
    "\n",
    "From Dataquest: \n",
    "\n",
    ">A medical institute that aims to prevent and treat gambling addictions wants to build a dedicated mobile app to help lottery addicts better estimate their chances of winning. The institute has a team of engineers that will build the app, but they need us to create the logical core of the app and calculate probabilities.\n",
    "For the first version of the app, they want us to focus on the 6/49 lottery and build functions that enable users to answer questions like:\n",
    ">\n",
    ">\n",
    ">   - What is the probability of winning the big prize with a single ticket?\n",
    ">\n",
    ">\n",
    ">   - What is the probability of winning the big prize if we play 40 different tickets (or any other number)?\n",
    ">\n",
    ">\n",
    ">   - What is the probability of having at least five (or four, or three, or two) winning numbers on a single ticket?\n",
    ">\n",
    ">\n",
    ">The institute also wants us to consider historical data coming from the national [6/49](https://en.wikipedia.org/wiki/Lotto_6/49) lottery game in Canada. The data set has data for 3,665 drawings, dating from 1982 to 2018 (...)."
   ]
  },
  {
   "cell_type": "markdown",
   "metadata": {
    "collapsed": true
   },
   "source": [
    "## The Probability Of Winning The Lottery With One Bet\n",
    "---\n",
    "\n",
    "The first task consists in writing an algorithm that calculates the probability of winning the big prize, i.e. being able to guess all the 6 numbers drawn out of the 49 available. \n",
    "\n",
    "`one_ticket_probability()` works by first redirecting the bet (output) to an auxiliary function `check_input()`; this function will check whether the bet meets the five conditions established below:  \n",
    "\n",
    "Conditions for the bet to be considered correctly placed:\n",
    "1. the bet should be placed as a list object (inside squared brackets).\n",
    "2. the list must have six values.\n",
    "3. the values are integers (natural numbers).\n",
    "4. those numbers must not repeat.\n",
    "5. every number must be inside the 1 to 49 range.\n",
    "\n",
    "In case that all conditions are met, the output of `check_input()` will be piped as input to `one_ticket_probability_cal()`, which will calculate and return the probability of winning the lottery. In the case that one or more conditions is broken, `check_input` returns a message detailing which conditions have been broken, asking the user to insert a corrected version of the bet.  \n",
    "\n",
    "We also write another two helper functions that will be useful for calculating probabilities:\n",
    "- `factorial(n)` calculates the [factorial](https://en.wikipedia.org/wiki/Factorial) of an integer 'n': \n",
    "    - $n! = \\prod_{i=1} ^{n} i$\n",
    "\n",
    "\n",
    "- `combinations(n, k)`  calculates the number of combinations without replacement, given a pool of 'n' numbers and 'k' draws: \n",
    "    - $\\frac{n!}{k!(n-k)!}$\n",
    "      "
   ]
  },
  {
   "cell_type": "code",
   "execution_count": 1,
   "metadata": {},
   "outputs": [],
   "source": [
    "import numpy as np\n",
    "import pandas as pd\n",
    "import re\n",
    "\n",
    "\n",
    "def factorial(n):\n",
    "    \n",
    "    factorial_n = n\n",
    "    \n",
    "    for i in range(1, n): # This range ends at n-1.\n",
    "        factorial_n *= i\n",
    "\n",
    "    return factorial_n\n",
    "\n",
    "\n",
    "def combinations(n, k):\n",
    "    return int((1 / factorial(k)) * (factorial(n) / factorial(n - k)))"
   ]
  },
  {
   "cell_type": "code",
   "execution_count": 2,
   "metadata": {},
   "outputs": [],
   "source": [
    "def one_ticket_probability_calc(bet):\n",
    "    \"\"\"Takes in a list of six unique numbers and prints the probability of winning.\n",
    "    This functions requires numpy.\n",
    "    \"\"\"\n",
    "    \n",
    "    n = 49\n",
    "    k = 6\n",
    "    \n",
    "    n_choose_k = combinations(n, k)\n",
    "\n",
    "    one_ticket_prob_perc = (1 / n_choose_k) * 100\n",
    "\n",
    "    one_ticket_prob_perc = round(one_ticket_prob_perc, 6)\n",
    "\n",
    "    return one_ticket_prob_perc\n",
    "\n",
    "\n",
    "def check_input(bet):\n",
    "    \n",
    "    # Essential information: the input is a '49 choose 6' type of combination:\n",
    "    n = 49\n",
    "    k = 6\n",
    "    \n",
    "    # Condition 1 - Is the input a list?\n",
    "    # Condition 2 - Are the values in the list integers?\n",
    "    # Condition 3 - Does the input list has the same number of draws?\n",
    "    # Condition 4 - Are the values in the list inside the 1 to 49 range?\n",
    "    # Condition 5 - Are all integers unique?\n",
    "    \n",
    "    # Generic error statement (always printed).\n",
    "    common_error_statement = 'Error: the function input must be a list composed of 6 natural non-repeated numbers from 1 to 49. Fill the bet again please.' \n",
    "        \n",
    "       \n",
    "    error_spec = [\n",
    "        '    - Input is not a list; example of an O.K. list: [5, 10, 15, 20, 25, 30]',\n",
    "        '    - Value(s) which are not natural numbers (integers) were inserted.',\n",
    "        f'    - The bet must be composed exactly of 6 natural numbers.', \n",
    "        '    - At least one value does not belong to the range between 1 to 49 (both extremes included).',\n",
    "        '    - At least one number inserted is repeated.'\n",
    "        ]\n",
    "\n",
    "    # We must raise an early error if the input is not a list,\n",
    "    # otherwise we would have another error raised when the \n",
    "    # program tries to use list comprehension inside 'conditions'.\n",
    "    if not isinstance(bet, list):\n",
    "        print(common_error_statement)\n",
    "        print('Error specification:')\n",
    "        print(error_spec[0])\n",
    "        return\n",
    "\n",
    "    conditions = [isinstance(bet, list),\n",
    "                  all([type(el) == int for el in bet]),\n",
    "                  len(bet)==k,\n",
    "                  all([el in range(1, 49+1) for el in bet]),\n",
    "                  len(bet) == len(set(bet))]  \n",
    "    \n",
    "    \n",
    "    # If every input condition is met:\n",
    "    if all(conditions):\n",
    "        return one_ticket_probability_calc(bet)\n",
    "\n",
    "    else:\n",
    "        print(common_error_statement)\n",
    "        print('Error specification:')\n",
    "\n",
    "        if (conditions[2] == False) & (type(bet)==list):\n",
    "            error_spec[2] += f' {len(bet)} were inserted.'\n",
    "\n",
    "        for index, cond in enumerate(conditions):\n",
    "            if cond == False:\n",
    "                print(error_spec[index])\n",
    "                \n",
    "\n",
    "def one_ticket_probability(bet):\n",
    "    prob = check_input(bet)\n",
    "    if prob:\n",
    "         # To print the probability without scientific notation (is converted into a string).\n",
    "        prob = np.format_float_positional(prob, trim='-')\n",
    "        return f'The probability of winning the lottery with the inserted bet is {prob}%.'"
   ]
  },
  {
   "cell_type": "markdown",
   "metadata": {},
   "source": [
    "### Testing the algorithm\n",
    "\n",
    "Testing `one_ticket_probability()` by inserting six different numbers:"
   ]
  },
  {
   "cell_type": "code",
   "execution_count": 3,
   "metadata": {},
   "outputs": [
    {
     "data": {
      "text/plain": [
       "'The probability of winning the lottery with the inserted bet is 0.000007%.'"
      ]
     },
     "execution_count": 3,
     "metadata": {},
     "output_type": "execute_result"
    }
   ],
   "source": [
    "one_ticket_probability([1, 2, 3, 4, 5, 6])"
   ]
  },
  {
   "cell_type": "markdown",
   "metadata": {},
   "source": [
    "#### Checking whether `check_input()` helps the user to identify errors in the placed bet. \n",
    "\n",
    "First error, inserting an argument in the function that is not a list, two examples:"
   ]
  },
  {
   "cell_type": "code",
   "execution_count": 4,
   "metadata": {},
   "outputs": [
    {
     "name": "stdout",
     "output_type": "stream",
     "text": [
      "Error: the function input must be a list composed of 6 natural non-repeated numbers from 1 to 49. Fill the bet again please.\n",
      "Error specification:\n",
      "    - Input is not a list; example of an O.K. list: [5, 10, 15, 20, 25, 30]\n"
     ]
    }
   ],
   "source": [
    "one_ticket_probability(2324)"
   ]
  },
  {
   "cell_type": "code",
   "execution_count": 5,
   "metadata": {},
   "outputs": [
    {
     "name": "stdout",
     "output_type": "stream",
     "text": [
      "Error: the function input must be a list composed of 6 natural non-repeated numbers from 1 to 49. Fill the bet again please.\n",
      "Error specification:\n",
      "    - Input is not a list; example of an O.K. list: [5, 10, 15, 20, 25, 30]\n"
     ]
    }
   ],
   "source": [
    "one_ticket_probability('dog')"
   ]
  },
  {
   "cell_type": "markdown",
   "metadata": {},
   "source": [
    "Second error, inserting one list with 5 elements, and another with 7."
   ]
  },
  {
   "cell_type": "code",
   "execution_count": 6,
   "metadata": {},
   "outputs": [
    {
     "name": "stdout",
     "output_type": "stream",
     "text": [
      "Error: the function input must be a list composed of 6 natural non-repeated numbers from 1 to 49. Fill the bet again please.\n",
      "Error specification:\n",
      "    - The bet must be composed exactly of 6 natural numbers. 5 were inserted.\n"
     ]
    }
   ],
   "source": [
    "one_ticket_probability([22, 41, 35, 5, 3])"
   ]
  },
  {
   "cell_type": "code",
   "execution_count": 7,
   "metadata": {},
   "outputs": [
    {
     "name": "stdout",
     "output_type": "stream",
     "text": [
      "Error: the function input must be a list composed of 6 natural non-repeated numbers from 1 to 49. Fill the bet again please.\n",
      "Error specification:\n",
      "    - The bet must be composed exactly of 6 natural numbers. 7 were inserted.\n"
     ]
    }
   ],
   "source": [
    "one_ticket_probability([1, 2, 3, 4, 5, 6, 7])"
   ]
  },
  {
   "cell_type": "markdown",
   "metadata": {},
   "source": [
    "Third error, inserting a number with decimals or any other value that is not an integer within the 1 to 49 range (see the last value in the input list). Two examples:"
   ]
  },
  {
   "cell_type": "code",
   "execution_count": 8,
   "metadata": {},
   "outputs": [
    {
     "name": "stdout",
     "output_type": "stream",
     "text": [
      "Error: the function input must be a list composed of 6 natural non-repeated numbers from 1 to 49. Fill the bet again please.\n",
      "Error specification:\n",
      "    - Value(s) which are not natural numbers (integers) were inserted.\n",
      "    - At least one value does not belong to the range between 1 to 49 (both extremes included).\n"
     ]
    }
   ],
   "source": [
    "one_ticket_probability([22, 41, 35, 12, 5, 22.5])"
   ]
  },
  {
   "cell_type": "code",
   "execution_count": 9,
   "metadata": {},
   "outputs": [
    {
     "name": "stdout",
     "output_type": "stream",
     "text": [
      "Error: the function input must be a list composed of 6 natural non-repeated numbers from 1 to 49. Fill the bet again please.\n",
      "Error specification:\n",
      "    - Value(s) which are not natural numbers (integers) were inserted.\n",
      "    - At least one value does not belong to the range between 1 to 49 (both extremes included).\n"
     ]
    }
   ],
   "source": [
    "one_ticket_probability([22, 41, 35, 12, 5, 'dog'])"
   ]
  },
  {
   "cell_type": "markdown",
   "metadata": {},
   "source": [
    "In this last case we make two mistakes on purpose: a repeated number (6), and a string value."
   ]
  },
  {
   "cell_type": "code",
   "execution_count": 10,
   "metadata": {},
   "outputs": [
    {
     "name": "stdout",
     "output_type": "stream",
     "text": [
      "Error: the function input must be a list composed of 6 natural non-repeated numbers from 1 to 49. Fill the bet again please.\n",
      "Error specification:\n",
      "    - Value(s) which are not natural numbers (integers) were inserted.\n",
      "    - At least one value does not belong to the range between 1 to 49 (both extremes included).\n",
      "    - At least one number inserted is repeated.\n"
     ]
    }
   ],
   "source": [
    "one_ticket_probability([22, 41, 35, 6, 6, 'dog'])"
   ]
  },
  {
   "cell_type": "markdown",
   "metadata": {},
   "source": [
    "Inserting a list with three possible mistakes."
   ]
  },
  {
   "cell_type": "code",
   "execution_count": 11,
   "metadata": {},
   "outputs": [
    {
     "name": "stdout",
     "output_type": "stream",
     "text": [
      "Error: the function input must be a list composed of 6 natural non-repeated numbers from 1 to 49. Fill the bet again please.\n",
      "Error specification:\n",
      "    - The bet must be composed exactly of 6 natural numbers. 8 were inserted.\n",
      "    - At least one value does not belong to the range between 1 to 49 (both extremes included).\n",
      "    - At least one number inserted is repeated.\n"
     ]
    }
   ],
   "source": [
    "one_ticket_probability([21, 9, 4, 44, 44, 80, 20, 1])"
   ]
  },
  {
   "cell_type": "markdown",
   "metadata": {},
   "source": [
    "## Adding Features To The App\n",
    "---\n",
    "\n",
    "For the first version of the app, however, users should also be able to know if the bet they inserted was also a winning bet in earlier drawings, which entails knowing the historical data of the Canadian Lottery.\n",
    "\n",
    "To that effect we'll be creating a Series that stores all the past winning combinations of the Canadian Lottery, by building a function that can be added to the main algorithm. "
   ]
  },
  {
   "cell_type": "markdown",
   "metadata": {},
   "source": [
    "### Introducing the Canadian Lottery history data set"
   ]
  },
  {
   "cell_type": "code",
   "execution_count": 12,
   "metadata": {},
   "outputs": [
    {
     "name": "stdout",
     "output_type": "stream",
     "text": [
      "<class 'pandas.core.frame.DataFrame'>\n",
      "RangeIndex: 3665 entries, 0 to 3664\n",
      "Data columns (total 11 columns):\n",
      " #   Column           Non-Null Count  Dtype \n",
      "---  ------           --------------  ----- \n",
      " 0   PRODUCT          3665 non-null   int64 \n",
      " 1   DRAW NUMBER      3665 non-null   int64 \n",
      " 2   SEQUENCE NUMBER  3665 non-null   int64 \n",
      " 3   DRAW DATE        3665 non-null   object\n",
      " 4   NUMBER DRAWN 1   3665 non-null   int64 \n",
      " 5   NUMBER DRAWN 2   3665 non-null   int64 \n",
      " 6   NUMBER DRAWN 3   3665 non-null   int64 \n",
      " 7   NUMBER DRAWN 4   3665 non-null   int64 \n",
      " 8   NUMBER DRAWN 5   3665 non-null   int64 \n",
      " 9   NUMBER DRAWN 6   3665 non-null   int64 \n",
      " 10  BONUS NUMBER     3665 non-null   int64 \n",
      "dtypes: int64(10), object(1)\n",
      "memory usage: 315.1+ KB\n"
     ]
    }
   ],
   "source": [
    "lot_hist = pd.read_csv('649.csv')\n",
    "\n",
    "lot_hist.info()"
   ]
  },
  {
   "cell_type": "code",
   "execution_count": 13,
   "metadata": {},
   "outputs": [
    {
     "data": {
      "text/html": [
       "<div>\n",
       "<style scoped>\n",
       "    .dataframe tbody tr th:only-of-type {\n",
       "        vertical-align: middle;\n",
       "    }\n",
       "\n",
       "    .dataframe tbody tr th {\n",
       "        vertical-align: top;\n",
       "    }\n",
       "\n",
       "    .dataframe thead th {\n",
       "        text-align: right;\n",
       "    }\n",
       "</style>\n",
       "<table border=\"1\" class=\"dataframe\">\n",
       "  <thead>\n",
       "    <tr style=\"text-align: right;\">\n",
       "      <th></th>\n",
       "      <th>PRODUCT</th>\n",
       "      <th>DRAW NUMBER</th>\n",
       "      <th>SEQUENCE NUMBER</th>\n",
       "      <th>DRAW DATE</th>\n",
       "      <th>NUMBER DRAWN 1</th>\n",
       "      <th>NUMBER DRAWN 2</th>\n",
       "      <th>NUMBER DRAWN 3</th>\n",
       "      <th>NUMBER DRAWN 4</th>\n",
       "      <th>NUMBER DRAWN 5</th>\n",
       "      <th>NUMBER DRAWN 6</th>\n",
       "      <th>BONUS NUMBER</th>\n",
       "    </tr>\n",
       "  </thead>\n",
       "  <tbody>\n",
       "    <tr>\n",
       "      <th>0</th>\n",
       "      <td>649</td>\n",
       "      <td>1</td>\n",
       "      <td>0</td>\n",
       "      <td>6/12/1982</td>\n",
       "      <td>3</td>\n",
       "      <td>11</td>\n",
       "      <td>12</td>\n",
       "      <td>14</td>\n",
       "      <td>41</td>\n",
       "      <td>43</td>\n",
       "      <td>13</td>\n",
       "    </tr>\n",
       "    <tr>\n",
       "      <th>1</th>\n",
       "      <td>649</td>\n",
       "      <td>2</td>\n",
       "      <td>0</td>\n",
       "      <td>6/19/1982</td>\n",
       "      <td>8</td>\n",
       "      <td>33</td>\n",
       "      <td>36</td>\n",
       "      <td>37</td>\n",
       "      <td>39</td>\n",
       "      <td>41</td>\n",
       "      <td>9</td>\n",
       "    </tr>\n",
       "    <tr>\n",
       "      <th>2</th>\n",
       "      <td>649</td>\n",
       "      <td>3</td>\n",
       "      <td>0</td>\n",
       "      <td>6/26/1982</td>\n",
       "      <td>1</td>\n",
       "      <td>6</td>\n",
       "      <td>23</td>\n",
       "      <td>24</td>\n",
       "      <td>27</td>\n",
       "      <td>39</td>\n",
       "      <td>34</td>\n",
       "    </tr>\n",
       "    <tr>\n",
       "      <th>3</th>\n",
       "      <td>649</td>\n",
       "      <td>4</td>\n",
       "      <td>0</td>\n",
       "      <td>7/3/1982</td>\n",
       "      <td>3</td>\n",
       "      <td>9</td>\n",
       "      <td>10</td>\n",
       "      <td>13</td>\n",
       "      <td>20</td>\n",
       "      <td>43</td>\n",
       "      <td>34</td>\n",
       "    </tr>\n",
       "    <tr>\n",
       "      <th>4</th>\n",
       "      <td>649</td>\n",
       "      <td>5</td>\n",
       "      <td>0</td>\n",
       "      <td>7/10/1982</td>\n",
       "      <td>5</td>\n",
       "      <td>14</td>\n",
       "      <td>21</td>\n",
       "      <td>31</td>\n",
       "      <td>34</td>\n",
       "      <td>47</td>\n",
       "      <td>45</td>\n",
       "    </tr>\n",
       "  </tbody>\n",
       "</table>\n",
       "</div>"
      ],
      "text/plain": [
       "   PRODUCT  DRAW NUMBER  SEQUENCE NUMBER  DRAW DATE  NUMBER DRAWN 1  \\\n",
       "0      649            1                0  6/12/1982               3   \n",
       "1      649            2                0  6/19/1982               8   \n",
       "2      649            3                0  6/26/1982               1   \n",
       "3      649            4                0   7/3/1982               3   \n",
       "4      649            5                0  7/10/1982               5   \n",
       "\n",
       "   NUMBER DRAWN 2  NUMBER DRAWN 3  NUMBER DRAWN 4  NUMBER DRAWN 5  \\\n",
       "0              11              12              14              41   \n",
       "1              33              36              37              39   \n",
       "2               6              23              24              27   \n",
       "3               9              10              13              20   \n",
       "4              14              21              31              34   \n",
       "\n",
       "   NUMBER DRAWN 6  BONUS NUMBER  \n",
       "0              43            13  \n",
       "1              41             9  \n",
       "2              39            34  \n",
       "3              43            34  \n",
       "4              47            45  "
      ]
     },
     "execution_count": 13,
     "metadata": {},
     "output_type": "execute_result"
    }
   ],
   "source": [
    "lot_hist.head()"
   ]
  },
  {
   "cell_type": "markdown",
   "metadata": {},
   "source": [
    "### Support Function That Retrieves All Winning Bets \n",
    "\n",
    "As we can see, we have a lottery style that also includes a 'Bonus Number', but as one can read in this [Wikipedia article](https://en.wikipedia.org/wiki/Lottery_mathematics#Powerballs_and_bonus_balls), it is not related to the main prize event, therefore we do not consider it. To facilitate the comparison between the full draws and the bets inserted by our users, we produce a Series of set objects."
   ]
  },
  {
   "cell_type": "code",
   "execution_count": 14,
   "metadata": {},
   "outputs": [],
   "source": [
    "def extract_winning_bets():\n",
    "    \n",
    "    winning_set = []\n",
    "\n",
    "    for col, series in lot_hist.iloc[:, 4:9+1].iterrows():\n",
    "\n",
    "        total_draw = []\n",
    "    \n",
    "        for nr_drawn in series:\n",
    "            total_draw.append(nr_drawn)\n",
    "\n",
    "        winning_set.append(sorted(total_draw))\n",
    "\n",
    "    winning_set = pd.Series(winning_set, name='all_winning_bets')\n",
    "    \n",
    "    winning_set = winning_set.apply(lambda x: set(x))\n",
    "        \n",
    "    return winning_set\n",
    "    "
   ]
  },
  {
   "cell_type": "markdown",
   "metadata": {
    "collapsed": true
   },
   "source": [
    "Testing `extract_winning_bets()`: `winning_bets` extracts all the unique winning combinations from `lot_hist`."
   ]
  },
  {
   "cell_type": "code",
   "execution_count": 15,
   "metadata": {},
   "outputs": [],
   "source": [
    "winning_bets = extract_winning_bets()"
   ]
  },
  {
   "cell_type": "code",
   "execution_count": 16,
   "metadata": {},
   "outputs": [
    {
     "data": {
      "text/plain": [
       "0        {3, 41, 11, 12, 43, 14}\n",
       "1        {33, 36, 37, 39, 8, 41}\n",
       "2         {1, 6, 39, 23, 24, 27}\n",
       "3         {3, 9, 10, 43, 13, 20}\n",
       "4        {34, 5, 14, 47, 21, 31}\n",
       "                  ...           \n",
       "3660    {38, 40, 41, 10, 15, 23}\n",
       "3661    {36, 46, 47, 19, 25, 31}\n",
       "3662     {32, 34, 6, 22, 24, 31}\n",
       "3663     {2, 38, 15, 49, 21, 31}\n",
       "3664    {35, 37, 14, 48, 24, 31}\n",
       "Name: all_winning_bets, Length: 3665, dtype: object"
      ]
     },
     "execution_count": 16,
     "metadata": {},
     "output_type": "execute_result"
    }
   ],
   "source": [
    "winning_bets"
   ]
  },
  {
   "cell_type": "markdown",
   "metadata": {},
   "source": [
    "### Reformulating The Main Algorithm So That It Informs The User About The Historical Occurrence Of The Placed Bet\n",
    "\n",
    "- `check_historical_occurrence()` returns the same output as `one_ticket_probability()` and also counts it's historical occurrence.  \n",
    "\n",
    "- `extract_winning_bets()` is piped so that the winning bets can be automatically extracted from the data set we're working with. "
   ]
  },
  {
   "cell_type": "code",
   "execution_count": 17,
   "metadata": {},
   "outputs": [],
   "source": [
    "def check_historical_occurrence(bet):\n",
    "    \n",
    "    # PART ONE: defining input restrictions and calculating probabilities of winning.\n",
    "    one_ticket_prob = one_ticket_probability(bet)\n",
    "    \n",
    "    print(one_ticket_prob)\n",
    "    \n",
    "    \n",
    "    # PART TWO: comparing the actual bet with past bets of the Canadian Lottery history.\n",
    "    if one_ticket_prob:\n",
    "        winning_bets = extract_winning_bets()\n",
    "\n",
    "        # Set logic: `set >= other`, 'Test whether every element in 'other' is in the set'.\n",
    "        win_count = sum(winning_bets>=set(bet)) \n",
    "\n",
    "        print(f\"Number of times the user's bet was a winning combination in past events of the Canadian lottery: {win_count}.\")"
   ]
  },
  {
   "cell_type": "markdown",
   "metadata": {},
   "source": [
    "### Testing the algorithm\n",
    "\n",
    "Three cases:\n",
    " - a winning combination is placed.\n",
    " - a random combination is placed.\n",
    " - an erroneous bet is placed."
   ]
  },
  {
   "cell_type": "code",
   "execution_count": 18,
   "metadata": {},
   "outputs": [
    {
     "name": "stdout",
     "output_type": "stream",
     "text": [
      "The probability of winning the lottery with the inserted bet is 0.000007%.\n",
      "Number of times the user's bet was a winning combination in past events of the Canadian lottery: 1.\n"
     ]
    }
   ],
   "source": [
    "check_historical_occurrence([3, 41, 11, 12, 43, 14])"
   ]
  },
  {
   "cell_type": "code",
   "execution_count": 19,
   "metadata": {},
   "outputs": [
    {
     "name": "stdout",
     "output_type": "stream",
     "text": [
      "The probability of winning the lottery with the inserted bet is 0.000007%.\n",
      "Number of times the user's bet was a winning combination in past events of the Canadian lottery: 0.\n"
     ]
    }
   ],
   "source": [
    "check_historical_occurrence([23, 41, 3, 35, 12, 8])"
   ]
  },
  {
   "cell_type": "markdown",
   "metadata": {},
   "source": [
    "Inserting the bet with a mistake on purpose (a bet with only 5 digits), to check whether `check_historical_occurrence(bet)` also raises errors correctly resorting to the `check_input()` support function. "
   ]
  },
  {
   "cell_type": "code",
   "execution_count": 20,
   "metadata": {},
   "outputs": [
    {
     "name": "stdout",
     "output_type": "stream",
     "text": [
      "Error: the function input must be a list composed of 6 natural non-repeated numbers from 1 to 49. Fill the bet again please.\n",
      "Error specification:\n",
      "    - The bet must be composed exactly of 6 natural numbers. 5 were inserted.\n",
      "None\n"
     ]
    }
   ],
   "source": [
    "check_historical_occurrence([23, 41, 3, 35, 12]) "
   ]
  },
  {
   "cell_type": "markdown",
   "metadata": {},
   "source": [
    "### Another Feature: Inform The User About The Probability Of Winning A Lottery Event Given $n$ Random Bets\n",
    "\n",
    "`multi_ticket_probability()` is a function that helps the lottery player understand what are the realistic chances of winning the lottery given a certain number of bets for one lottery event.\n",
    "\n",
    "`check_input_2()` insures that a number within the boundaries of possibilities, i.e. a number of bets that goes from 1 up to the number of bets required to win the lottery event once. "
   ]
  },
  {
   "cell_type": "code",
   "execution_count": 21,
   "metadata": {},
   "outputs": [],
   "source": [
    "def check_input_2(n):\n",
    "    \n",
    "    maximum_number_bets = combinations(49, 6)\n",
    "    \n",
    "    bet_range = range(1, maximum_number_bets+1)\n",
    "    \n",
    "    conditions = [\n",
    "        isinstance(n, int),\n",
    "        n in bet_range\n",
    "        ] \n",
    "    \n",
    "    if all(conditions):\n",
    "        return n\n",
    "    else:\n",
    "        print(f'Error: the inserted number should be a natural number between 1 and {maximum_number_bets} - the total number of possible combinations. Insert another number please.\\n')\n",
    "\n",
    "\n",
    "def multi_ticket_probability(number_of_bets):\n",
    "    \"\"\"Takes the number of bets the user wants to play and returns the probability of\n",
    "    winning a '49 choose 6' type of lottery game.\n",
    "    \"\"\"\n",
    "    \n",
    "    n = check_input_2(number_of_bets)\n",
    "    \n",
    "    if n:\n",
    "        # Probability of winning.\n",
    "        prob_win = n / combinations(49, 6)\n",
    "\n",
    "        # Rounded and percentage converted.\n",
    "        prob_win_perc = round(prob_win*100, 10)\n",
    "\n",
    "        # To print the probability without scientific notation.\n",
    "        prob_win_perc = np.format_float_positional(prob_win_perc, trim='-')\n",
    "\n",
    "        return f'The probability of winning with the lottery with {number_of_bets} bet(s) is:\\n- {prob_win_perc}%.'\n"
   ]
  },
  {
   "cell_type": "markdown",
   "metadata": {},
   "source": [
    "### Testing the algorithm."
   ]
  },
  {
   "cell_type": "code",
   "execution_count": 22,
   "metadata": {},
   "outputs": [],
   "source": [
    "list_test_1 = [1, 10, 40, 100, 10000, 1000000, 6991908, 13983816]\n",
    "\n",
    "test_1 = [multi_ticket_probability(i) for i in list_test_1]"
   ]
  },
  {
   "cell_type": "code",
   "execution_count": 23,
   "metadata": {},
   "outputs": [
    {
     "name": "stdout",
     "output_type": "stream",
     "text": [
      "The probability of winning with the lottery with 1 bet(s) is:\n",
      "- 0.0000071511%.\n",
      "\n",
      "The probability of winning with the lottery with 10 bet(s) is:\n",
      "- 0.0000715112%.\n",
      "\n",
      "The probability of winning with the lottery with 40 bet(s) is:\n",
      "- 0.000286045%.\n",
      "\n",
      "The probability of winning with the lottery with 100 bet(s) is:\n",
      "- 0.0007151124%.\n",
      "\n",
      "The probability of winning with the lottery with 10000 bet(s) is:\n",
      "- 0.0715112384%.\n",
      "\n",
      "The probability of winning with the lottery with 1000000 bet(s) is:\n",
      "- 7.151123842%.\n",
      "\n",
      "The probability of winning with the lottery with 6991908 bet(s) is:\n",
      "- 50%.\n",
      "\n",
      "The probability of winning with the lottery with 13983816 bet(s) is:\n",
      "- 100%.\n"
     ]
    }
   ],
   "source": [
    "print(*test_1, sep='\\n\\n')"
   ]
  },
  {
   "cell_type": "markdown",
   "metadata": {},
   "source": [
    "Checking mistakes and error message."
   ]
  },
  {
   "cell_type": "code",
   "execution_count": 24,
   "metadata": {},
   "outputs": [
    {
     "name": "stdout",
     "output_type": "stream",
     "text": [
      "Error: the inserted number should be a natural number between 1 and 13983816 - the total number of possible combinations. Insert another number please.\n",
      "\n",
      "Error: the inserted number should be a natural number between 1 and 13983816 - the total number of possible combinations. Insert another number please.\n",
      "\n",
      "Error: the inserted number should be a natural number between 1 and 13983816 - the total number of possible combinations. Insert another number please.\n",
      "\n"
     ]
    }
   ],
   "source": [
    "list_test_2 = ['dog', [10], -1]\n",
    "\n",
    "test_2 = [multi_ticket_probability(i) for i in list_test_2]"
   ]
  },
  {
   "cell_type": "markdown",
   "metadata": {
    "collapsed": true
   },
   "source": [
    "## Chances Of Partially Match The Winning Combination\n",
    "---\n",
    "\n",
    "Next we produce a function - `probability_less_6()`, that allows the user to know what is the probability of getting $i$ numbers correct out of the 6 withdrawn.\n",
    "\n",
    "To automate `probability_less_6()` we followed this progression:\n",
    "\n",
    "\n",
    "\n",
    "- Probability of getting 5 out 6 numbers right: \n",
    "\n",
    "\\begin{equation}\n",
    "\\frac{{6 \\choose 5} * {43 \\choose 1}}{{49 \\choose 6}}\n",
    "\\end{equation}\n",
    "\n",
    "- Probability of getting 4 out 6 numbers right: \n",
    "\n",
    "\\begin{equation}\n",
    "\\frac{{6 \\choose 4} * {43 \\choose 2}}{{49 \\choose 6}}\n",
    "\\end{equation}\n",
    "\n",
    "\n",
    "- Probability of getting 3 out 6 numbers right: \n",
    "\n",
    "\\begin{equation}\n",
    "\\frac{{6 \\choose 3} * {43 \\choose 3}}{{49 \\choose 6}}\n",
    "\\end{equation}\n",
    "\n",
    "\n",
    "- Probability of getting 2 out 6 numbers right: \n",
    "\n",
    "\\begin{equation}\n",
    "\\frac{{6 \\choose 2} * {43 \\choose 4}}{{49 \\choose 6}}\n",
    "\\end{equation}\n",
    "\n",
    "\n",
    "- Probability of getting 1 out 6 numbers right: \n",
    "\n",
    "\\begin{equation}\n",
    "\\frac{{6 \\choose 1} * {43 \\choose 5}}{{49 \\choose 6}}\n",
    "\\end{equation}\n",
    "\n",
    "\n",
    "So, we can generalize: \n",
    "\n",
    "\\begin{equation}\n",
    "\\text{Probability of matching i numbers} = \\frac{{k \\choose \\text{i}} * {n-k \\choose k-i}}{{n \\choose k}}\n",
    "\\end{equation}\n"
   ]
  },
  {
   "cell_type": "code",
   "execution_count": 25,
   "metadata": {},
   "outputs": [],
   "source": [
    "def probability_less_6(i):\n",
    "    \n",
    "    if (i in range(1, 5+1)) & (isinstance(i, int)):\n",
    "        dividend = combinations(6, i) * combinations(43, 6 - i)\n",
    "\n",
    "        divisor = combinations(49, 6) \n",
    "\n",
    "        probability = dividend / divisor\n",
    "\n",
    "        percentage = round(probability*100, 4)\n",
    "\n",
    "        return f'The probability of getting {i} number(s) out of 6, in a single lottery event with a total of 49 numbers, is {percentage}%.'\n",
    "    \n",
    "    else:\n",
    "        return 'Error: The number (integer) inserted must be between 1 and 5 (included). Try again please.'"
   ]
  },
  {
   "cell_type": "markdown",
   "metadata": {
    "collapsed": true
   },
   "source": [
    "### Testing the algorithm\n",
    "\n",
    "- the first entry on the list below with a mistake on purpose: $i = 0$."
   ]
  },
  {
   "cell_type": "code",
   "execution_count": 26,
   "metadata": {},
   "outputs": [
    {
     "name": "stdout",
     "output_type": "stream",
     "text": [
      "Error: The number (integer) inserted must be between 1 and 5 (included). Try again please.\n",
      "\n",
      "The probability of getting 1 number(s) out of 6, in a single lottery event with a total of 49 numbers, is 41.3019%.\n",
      "\n",
      "The probability of getting 2 number(s) out of 6, in a single lottery event with a total of 49 numbers, is 13.2378%.\n",
      "\n",
      "The probability of getting 3 number(s) out of 6, in a single lottery event with a total of 49 numbers, is 1.765%.\n",
      "\n",
      "The probability of getting 4 number(s) out of 6, in a single lottery event with a total of 49 numbers, is 0.0969%.\n",
      "\n",
      "The probability of getting 5 number(s) out of 6, in a single lottery event with a total of 49 numbers, is 0.0018%.\n"
     ]
    }
   ],
   "source": [
    "test_a = [probability_less_6(i) for i in range(0, 5+1)]\n",
    "\n",
    "print(*test_a, sep='\\n\\n')"
   ]
  },
  {
   "cell_type": "markdown",
   "metadata": {},
   "source": [
    "## Conclusion\n",
    "---\n",
    "\n",
    "In this project we were able to build a series of algorithms that can be implemented into an app, which allow the user to retrieve answers to the most frequently asked questions one could have regarding the chance of winning the lottery. These algorithms not only check whether the values placed were correctly specified but try to identify possible mistakes. Along th same line, the information retrieved by the algorithms is conveyed in a clear manner, allowing the user to relate the input/bet to its associated probability.\n",
    "\n",
    "\n",
    "\\[End of Project\\]\n",
    "\n",
    "\\***"
   ]
  }
 ],
 "metadata": {
  "hide_input": false,
  "kernelspec": {
   "display_name": "Python 3",
   "language": "python",
   "name": "python3"
  },
  "language_info": {
   "codemirror_mode": {
    "name": "ipython",
    "version": 3
   },
   "file_extension": ".py",
   "mimetype": "text/x-python",
   "name": "python",
   "nbconvert_exporter": "python",
   "pygments_lexer": "ipython3",
   "version": "3.9.2"
  },
  "toc": {
   "base_numbering": 1,
   "nav_menu": {
    "height": "309.467px",
    "width": "436.467px"
   },
   "number_sections": true,
   "sideBar": true,
   "skip_h1_title": true,
   "title_cell": "Table of Contents",
   "title_sidebar": "Contents",
   "toc_cell": false,
   "toc_position": {
    "height": "calc(100% - 180px)",
    "left": "10px",
    "top": "150px",
    "width": "268.467px"
   },
   "toc_section_display": true,
   "toc_window_display": false
  },
  "varInspector": {
   "cols": {
    "lenName": 16,
    "lenType": 16,
    "lenVar": 40
   },
   "kernels_config": {
    "python": {
     "delete_cmd_postfix": "",
     "delete_cmd_prefix": "del ",
     "library": "var_list.py",
     "varRefreshCmd": "print(var_dic_list())"
    },
    "r": {
     "delete_cmd_postfix": ") ",
     "delete_cmd_prefix": "rm(",
     "library": "var_list.r",
     "varRefreshCmd": "cat(var_dic_list()) "
    }
   },
   "types_to_exclude": [
    "module",
    "function",
    "builtin_function_or_method",
    "instance",
    "_Feature"
   ],
   "window_display": false
  }
 },
 "nbformat": 4,
 "nbformat_minor": 2
}
