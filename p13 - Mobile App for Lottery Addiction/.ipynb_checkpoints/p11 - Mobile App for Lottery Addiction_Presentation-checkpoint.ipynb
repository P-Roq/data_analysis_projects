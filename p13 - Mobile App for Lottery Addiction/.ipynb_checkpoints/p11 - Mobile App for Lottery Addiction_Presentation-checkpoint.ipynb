{
 "cells": [
  {
   "cell_type": "markdown",
   "metadata": {},
   "source": [
    "# Guided Project 11: Mobile App for Lottery Addiction"
   ]
  },
  {
   "cell_type": "code",
   "execution_count": 2,
   "metadata": {},
   "outputs": [],
   "source": [
    "import numpy as np\n",
    "import pandas as pd\n",
    "import re\n",
    "import matplotlib.pyplot as plt\n",
    "import seaborn as sns\n",
    "\n",
    "%matplotlib inline"
   ]
  },
  {
   "cell_type": "markdown",
   "metadata": {},
   "source": [
    "## Introduction\n",
    "\n",
    "From the tutorial: 'A medical institute that aims to prevent and treat gambling addictions wants to build a dedicated mobile app to help lottery addicts better estimate their chances of winning. The institute has a team of engineers that will build the app, but they need us to create the logical core of the app and calculate probabilities.'"
   ]
  },
  {
   "cell_type": "code",
   "execution_count": 3,
   "metadata": {},
   "outputs": [],
   "source": [
    "def factorial(n):\n",
    "    \"\"\"Takes as input a number n and computes the factorial of that number n.\"\"\"\n",
    "\n",
    "    factorial_n = n\n",
    "\n",
    "    # Mind that this range ends in n-1.\n",
    "    for i in range(1, n):\n",
    "        factorial_n *= i\n",
    "\n",
    "    return factorial_n"
   ]
  },
  {
   "cell_type": "code",
   "execution_count": 4,
   "metadata": {},
   "outputs": [],
   "source": [
    "def combinations(n, k):\n",
    "    \"\"\"Takes in two inputs (n and k) and outputs the number of combinations\n",
    "    when we're taking only k objects from a group of n objects.\n",
    "    \"\"\"\n",
    "\n",
    "    return (1 / factorial(k)) * (factorial(n) / factorial(n - k))"
   ]
  },
  {
   "cell_type": "markdown",
   "metadata": {
    "collapsed": true
   },
   "source": [
    "writing a function that calculates the probability of winning the big prize."
   ]
  },
  {
   "cell_type": "code",
   "execution_count": 5,
   "metadata": {},
   "outputs": [],
   "source": [
    "def one_ticket_probability(list_=[int, int, int, int, int, int]):\n",
    "    \"\"\"Takes in a list of six unique numbers and prints the probability of winning.\n",
    "    This functions requires numpy.\n",
    "    \"\"\"\n",
    "\n",
    "    # Condition 1 - Is the input a list?\n",
    "    if (type(list_) is not list):\n",
    "        return 'Error: the function input must be a list composed of 6 natural non-repeated numbers from 1 to 49.'\n",
    "\n",
    "    list_lenght = len(list_)\n",
    "\n",
    "    nr_draws = 6\n",
    "\n",
    "    # Condition 2 - Does the input list has the same number of draws?\n",
    "    if list_lenght != nr_draws:\n",
    "        return 'Error: the bet must be composed by six natural numbers from 1 to 49.'\n",
    "\n",
    "    \n",
    "    # Conditions 3, 4 and 5.\n",
    "    \n",
    "    repetitions = 0\n",
    "\n",
    "    outside_range = 0\n",
    "\n",
    "    not_int = 0\n",
    "\n",
    "    for el in list_:\n",
    "        if list_.count(el) > 1:\n",
    "            repetitions += 1\n",
    "\n",
    "        if el not in range(1, 50):\n",
    "            outside_range += 1\n",
    "\n",
    "        if type(el) is not int:\n",
    "            not_int += 1\n",
    "\n",
    "    # Condition 3 - Are the values in the list integers?\n",
    "    if not_int > 0:\n",
    "        return 'Error: only natural numbers within the 1 to 49 range are accepeted.'\n",
    "\n",
    "    # Conditions 4 and 5 - Does the list has repeated values or out of range values?\n",
    "    if (repetitions != 0) or (outside_range != 0):\n",
    "        return 'Error: the inserted bet has either repeated number(s) or number(s) outside the 1 to 49 range.'\n",
    "\n",
    "    # If every restriction is met:\n",
    "    if (repetitions == 0) and (outside_range == 0):\n",
    "\n",
    "        nr_draws = len(list_)\n",
    "\n",
    "        n_choose_k = combinations(49, nr_draws)\n",
    "\n",
    "        one_ticket_prob_perc = (1 / n_choose_k) * 100\n",
    "\n",
    "        return 'The probability of winning the lottery with the inserted bet is {}'.format(one_ticket_prob_perc)"
   ]
  },
  {
   "cell_type": "markdown",
   "metadata": {},
   "source": [
    "The function only computes the desired output if the following conditions are met regarding the function's input:\n",
    "\n",
    "- 1. the input argument of our function must be a list.\n",
    "- 2. the list must have six values.\n",
    "- 3. the values are integers (natural numbers).\n",
    "- 4. there is no repeated numbers.\n",
    "- 5. every number is inside the 1 to 49 range.\n",
    "\n",
    "Moreover, the function will scan in order for the conditions 1 to 3 and then scan simultaneously for conditions 4 and 5. \n",
    "\n",
    "If the conditions above are met the function computes the probability of winning a lottery of the style $49 \\choose 6$ with the given bet.\n",
    "\n",
    "Testing `one_ticket_probability()` by inserting six different numbers:"
   ]
  },
  {
   "cell_type": "code",
   "execution_count": 6,
   "metadata": {},
   "outputs": [
    {
     "data": {
      "text/plain": [
       "'The probability of winning the lottery with the inserted bet is 7.151123842018516e-06'"
      ]
     },
     "execution_count": 6,
     "metadata": {},
     "output_type": "execute_result"
    }
   ],
   "source": [
    "one_ticket_probability([1, 2, 3, 4, 5, 6])"
   ]
  },
  {
   "cell_type": "markdown",
   "metadata": {},
   "source": [
    "First error, inserting an argument in the function that is not a list, two examples:"
   ]
  },
  {
   "cell_type": "code",
   "execution_count": 7,
   "metadata": {},
   "outputs": [
    {
     "data": {
      "text/plain": [
       "'Error: the function input must be a list composed of 6 natural non-repeated numbers from 1 to 49.'"
      ]
     },
     "execution_count": 7,
     "metadata": {},
     "output_type": "execute_result"
    }
   ],
   "source": [
    "one_ticket_probability(2324)"
   ]
  },
  {
   "cell_type": "code",
   "execution_count": 8,
   "metadata": {},
   "outputs": [
    {
     "data": {
      "text/plain": [
       "'Error: the function input must be a list composed of 6 natural non-repeated numbers from 1 to 49.'"
      ]
     },
     "execution_count": 8,
     "metadata": {},
     "output_type": "execute_result"
    }
   ],
   "source": [
    "one_ticket_probability('dog')"
   ]
  },
  {
   "cell_type": "markdown",
   "metadata": {},
   "source": [
    "Second error, inserting one list with 5 elements, and another with 7."
   ]
  },
  {
   "cell_type": "code",
   "execution_count": 9,
   "metadata": {},
   "outputs": [
    {
     "data": {
      "text/plain": [
       "'Error: the bet must be composed by six natural numbers from 1 to 49.'"
      ]
     },
     "execution_count": 9,
     "metadata": {},
     "output_type": "execute_result"
    }
   ],
   "source": [
    "# 5 values.\n",
    "one_ticket_probability([22, 41, 35, 5, 3])"
   ]
  },
  {
   "cell_type": "code",
   "execution_count": 10,
   "metadata": {},
   "outputs": [
    {
     "data": {
      "text/plain": [
       "'Error: the bet must be composed by six natural numbers from 1 to 49.'"
      ]
     },
     "execution_count": 10,
     "metadata": {},
     "output_type": "execute_result"
    }
   ],
   "source": [
    "# 7 values.\n",
    "one_ticket_probability([1, 2, 3, 4, 5, 6, 7])"
   ]
  },
  {
   "cell_type": "markdown",
   "metadata": {},
   "source": [
    "Third error, inserting a number with decimals or any other value that is not an integer within th 1 to 49 range (see the last value in the input list); Two examples:"
   ]
  },
  {
   "cell_type": "code",
   "execution_count": 11,
   "metadata": {},
   "outputs": [
    {
     "data": {
      "text/plain": [
       "'Error: only natural numbers within the 1 to 49 range are accepeted.'"
      ]
     },
     "execution_count": 11,
     "metadata": {},
     "output_type": "execute_result"
    }
   ],
   "source": [
    "one_ticket_probability([22, 41, 35, 12, 5, 22.5])"
   ]
  },
  {
   "cell_type": "code",
   "execution_count": 12,
   "metadata": {},
   "outputs": [
    {
     "data": {
      "text/plain": [
       "'Error: only natural numbers within the 1 to 49 range are accepeted.'"
      ]
     },
     "execution_count": 12,
     "metadata": {},
     "output_type": "execute_result"
    }
   ],
   "source": [
    "one_ticket_probability([22, 41, 35, 12, 5, 'dog'])"
   ]
  },
  {
   "cell_type": "markdown",
   "metadata": {},
   "source": [
    "In this last case we make two mistakes on purpose: a repeated number (6), and a string value. The function is built so that will first assess whether the input list is exclusively constituted by integers. If not an integer is included in the list, it will raise the error printed below. If the string value is replaced by an integer, the function will then return the error concerning the number(s) repeated or outside the range."
   ]
  },
  {
   "cell_type": "code",
   "execution_count": 13,
   "metadata": {},
   "outputs": [
    {
     "data": {
      "text/plain": [
       "'Error: only natural numbers within the 1 to 49 range are accepeted.'"
      ]
     },
     "execution_count": 13,
     "metadata": {},
     "output_type": "execute_result"
    }
   ],
   "source": [
    "one_ticket_probability([22, 41, 35, 6, 6, 'dog'])"
   ]
  },
  {
   "cell_type": "markdown",
   "metadata": {},
   "source": [
    "For the first version of the app, however, users should also be able to compare their ticket against the historical lottery data in Canada and determine whether they would have ever won by now."
   ]
  },
  {
   "cell_type": "code",
   "execution_count": 14,
   "metadata": {},
   "outputs": [],
   "source": [
    "# The name of the df is short for 'lottery history'.\n",
    "lot_hist = pd.read_csv('649.csv')"
   ]
  },
  {
   "cell_type": "code",
   "execution_count": 15,
   "metadata": {},
   "outputs": [
    {
     "data": {
      "text/html": [
       "<div>\n",
       "<style scoped>\n",
       "    .dataframe tbody tr th:only-of-type {\n",
       "        vertical-align: middle;\n",
       "    }\n",
       "\n",
       "    .dataframe tbody tr th {\n",
       "        vertical-align: top;\n",
       "    }\n",
       "\n",
       "    .dataframe thead th {\n",
       "        text-align: right;\n",
       "    }\n",
       "</style>\n",
       "<table border=\"1\" class=\"dataframe\">\n",
       "  <thead>\n",
       "    <tr style=\"text-align: right;\">\n",
       "      <th></th>\n",
       "      <th>PRODUCT</th>\n",
       "      <th>DRAW NUMBER</th>\n",
       "      <th>SEQUENCE NUMBER</th>\n",
       "      <th>DRAW DATE</th>\n",
       "      <th>NUMBER DRAWN 1</th>\n",
       "      <th>NUMBER DRAWN 2</th>\n",
       "      <th>NUMBER DRAWN 3</th>\n",
       "      <th>NUMBER DRAWN 4</th>\n",
       "      <th>NUMBER DRAWN 5</th>\n",
       "      <th>NUMBER DRAWN 6</th>\n",
       "      <th>BONUS NUMBER</th>\n",
       "    </tr>\n",
       "  </thead>\n",
       "  <tbody>\n",
       "    <tr>\n",
       "      <th>0</th>\n",
       "      <td>649</td>\n",
       "      <td>1</td>\n",
       "      <td>0</td>\n",
       "      <td>6/12/1982</td>\n",
       "      <td>3</td>\n",
       "      <td>11</td>\n",
       "      <td>12</td>\n",
       "      <td>14</td>\n",
       "      <td>41</td>\n",
       "      <td>43</td>\n",
       "      <td>13</td>\n",
       "    </tr>\n",
       "    <tr>\n",
       "      <th>1</th>\n",
       "      <td>649</td>\n",
       "      <td>2</td>\n",
       "      <td>0</td>\n",
       "      <td>6/19/1982</td>\n",
       "      <td>8</td>\n",
       "      <td>33</td>\n",
       "      <td>36</td>\n",
       "      <td>37</td>\n",
       "      <td>39</td>\n",
       "      <td>41</td>\n",
       "      <td>9</td>\n",
       "    </tr>\n",
       "    <tr>\n",
       "      <th>2</th>\n",
       "      <td>649</td>\n",
       "      <td>3</td>\n",
       "      <td>0</td>\n",
       "      <td>6/26/1982</td>\n",
       "      <td>1</td>\n",
       "      <td>6</td>\n",
       "      <td>23</td>\n",
       "      <td>24</td>\n",
       "      <td>27</td>\n",
       "      <td>39</td>\n",
       "      <td>34</td>\n",
       "    </tr>\n",
       "    <tr>\n",
       "      <th>3662</th>\n",
       "      <td>649</td>\n",
       "      <td>3589</td>\n",
       "      <td>0</td>\n",
       "      <td>6/13/2018</td>\n",
       "      <td>6</td>\n",
       "      <td>22</td>\n",
       "      <td>24</td>\n",
       "      <td>31</td>\n",
       "      <td>32</td>\n",
       "      <td>34</td>\n",
       "      <td>16</td>\n",
       "    </tr>\n",
       "    <tr>\n",
       "      <th>3663</th>\n",
       "      <td>649</td>\n",
       "      <td>3590</td>\n",
       "      <td>0</td>\n",
       "      <td>6/16/2018</td>\n",
       "      <td>2</td>\n",
       "      <td>15</td>\n",
       "      <td>21</td>\n",
       "      <td>31</td>\n",
       "      <td>38</td>\n",
       "      <td>49</td>\n",
       "      <td>8</td>\n",
       "    </tr>\n",
       "    <tr>\n",
       "      <th>3664</th>\n",
       "      <td>649</td>\n",
       "      <td>3591</td>\n",
       "      <td>0</td>\n",
       "      <td>6/20/2018</td>\n",
       "      <td>14</td>\n",
       "      <td>24</td>\n",
       "      <td>31</td>\n",
       "      <td>35</td>\n",
       "      <td>37</td>\n",
       "      <td>48</td>\n",
       "      <td>17</td>\n",
       "    </tr>\n",
       "  </tbody>\n",
       "</table>\n",
       "</div>"
      ],
      "text/plain": [
       "      PRODUCT  DRAW NUMBER  SEQUENCE NUMBER  DRAW DATE  NUMBER DRAWN 1  \\\n",
       "0         649            1                0  6/12/1982               3   \n",
       "1         649            2                0  6/19/1982               8   \n",
       "2         649            3                0  6/26/1982               1   \n",
       "3662      649         3589                0  6/13/2018               6   \n",
       "3663      649         3590                0  6/16/2018               2   \n",
       "3664      649         3591                0  6/20/2018              14   \n",
       "\n",
       "      NUMBER DRAWN 2  NUMBER DRAWN 3  NUMBER DRAWN 4  NUMBER DRAWN 5  \\\n",
       "0                 11              12              14              41   \n",
       "1                 33              36              37              39   \n",
       "2                  6              23              24              27   \n",
       "3662              22              24              31              32   \n",
       "3663              15              21              31              38   \n",
       "3664              24              31              35              37   \n",
       "\n",
       "      NUMBER DRAWN 6  BONUS NUMBER  \n",
       "0                 43            13  \n",
       "1                 41             9  \n",
       "2                 39            34  \n",
       "3662              34            16  \n",
       "3663              49             8  \n",
       "3664              48            17  "
      ]
     },
     "execution_count": 15,
     "metadata": {},
     "output_type": "execute_result"
    }
   ],
   "source": [
    "# First three and last three rows.\n",
    "lot_hist.iloc[[0, 1, 2, -3, -2, -1], :]"
   ]
  },
  {
   "cell_type": "code",
   "execution_count": 16,
   "metadata": {},
   "outputs": [
    {
     "name": "stdout",
     "output_type": "stream",
     "text": [
      "<class 'pandas.core.frame.DataFrame'>\n",
      "RangeIndex: 3665 entries, 0 to 3664\n",
      "Data columns (total 11 columns):\n",
      " #   Column           Non-Null Count  Dtype \n",
      "---  ------           --------------  ----- \n",
      " 0   PRODUCT          3665 non-null   int64 \n",
      " 1   DRAW NUMBER      3665 non-null   int64 \n",
      " 2   SEQUENCE NUMBER  3665 non-null   int64 \n",
      " 3   DRAW DATE        3665 non-null   object\n",
      " 4   NUMBER DRAWN 1   3665 non-null   int64 \n",
      " 5   NUMBER DRAWN 2   3665 non-null   int64 \n",
      " 6   NUMBER DRAWN 3   3665 non-null   int64 \n",
      " 7   NUMBER DRAWN 4   3665 non-null   int64 \n",
      " 8   NUMBER DRAWN 5   3665 non-null   int64 \n",
      " 9   NUMBER DRAWN 6   3665 non-null   int64 \n",
      " 10  BONUS NUMBER     3665 non-null   int64 \n",
      "dtypes: int64(10), object(1)\n",
      "memory usage: 300.7+ KB\n"
     ]
    }
   ],
   "source": [
    "lot_hist.info()"
   ]
  },
  {
   "cell_type": "code",
   "execution_count": 17,
   "metadata": {},
   "outputs": [],
   "source": [
    "def extract_numbers(n = int):\n",
    "    \"\"\"Takes as input a row of the lottery dataframe and returns\n",
    "    a set containing all the six winning numbers.\n",
    "    \"\"\"\n",
    "    \n",
    "        # n should be an integer (whole number).\n",
    "    if type(n) is not int:\n",
    "        return 'The input should be an integer (whole number).'\n",
    "    \n",
    "    \n",
    "    # n should be between 0 and 3664.\n",
    "    if n not in range(0, 3665):\n",
    "        return 'The input should be a whole number inside the 0 to 3664 range.'\n",
    "    \n",
    "\n",
    "    # `{}` gives us an empty dictionary, `set()` gives an empty set.\n",
    "    winning_set = set()\n",
    "    \n",
    "    # columns that represent draws are lot_hist.iloc[:, 4:10] (6 draws)\n",
    "    for i in range(4, 10, 1):\n",
    "        draw = lot_hist.iloc[n, i]\n",
    "        winning_set.add(draw)\n",
    "    \n",
    "    return winning_set"
   ]
  },
  {
   "cell_type": "markdown",
   "metadata": {
    "collapsed": true
   },
   "source": [
    "Testing `extracting_numbers()` vs slicing the draw columns for row 0:"
   ]
  },
  {
   "cell_type": "code",
   "execution_count": 18,
   "metadata": {},
   "outputs": [
    {
     "data": {
      "text/plain": [
       "NUMBER DRAWN 1     3\n",
       "NUMBER DRAWN 2    11\n",
       "NUMBER DRAWN 3    12\n",
       "NUMBER DRAWN 4    14\n",
       "NUMBER DRAWN 5    41\n",
       "NUMBER DRAWN 6    43\n",
       "Name: 0, dtype: object"
      ]
     },
     "execution_count": 18,
     "metadata": {},
     "output_type": "execute_result"
    }
   ],
   "source": [
    "lot_hist.iloc[0, 4:10]"
   ]
  },
  {
   "cell_type": "code",
   "execution_count": 19,
   "metadata": {},
   "outputs": [
    {
     "data": {
      "text/plain": [
       "{3, 11, 12, 14, 41, 43}"
      ]
     },
     "execution_count": 19,
     "metadata": {},
     "output_type": "execute_result"
    }
   ],
   "source": [
    "extract_numbers(0)"
   ]
  },
  {
   "cell_type": "markdown",
   "metadata": {
    "collapsed": true
   },
   "source": [
    "Creating a series with all the winning bets. I will use list comprehension because `extract_numbers()` only accepts values within the `lot_hist` row index: 0 to 3664 included. Using df.apply() implied that `extract_numbers()` accepted as an input a whole row from `lot_hist`."
   ]
  },
  {
   "cell_type": "code",
   "execution_count": 20,
   "metadata": {},
   "outputs": [],
   "source": [
    "past_winning_bets = pd.Series([extract_numbers(n) for n in range(0, lot_hist.shape[0])], name='Winning Bets')"
   ]
  },
  {
   "cell_type": "markdown",
   "metadata": {},
   "source": [
    "Checking new series:"
   ]
  },
  {
   "cell_type": "code",
   "execution_count": 21,
   "metadata": {},
   "outputs": [
    {
     "data": {
      "text/plain": [
       "0        {3, 41, 11, 12, 43, 14}\n",
       "1        {33, 36, 37, 39, 8, 41}\n",
       "2         {1, 6, 39, 23, 24, 27}\n",
       "3662     {32, 34, 6, 22, 24, 31}\n",
       "3663     {2, 38, 15, 49, 21, 31}\n",
       "3664    {35, 37, 14, 48, 24, 31}\n",
       "Name: Winning Bets, dtype: object"
      ]
     },
     "execution_count": 21,
     "metadata": {},
     "output_type": "execute_result"
    }
   ],
   "source": [
    "past_winning_bets.iloc[[0, 1, 2, -3, -2, -1]]"
   ]
  },
  {
   "cell_type": "markdown",
   "metadata": {
    "collapsed": true
   },
   "source": [
    "The next function,`check_historical_occurence`, takes two inputs - the 6 digit bet as before, and the history of past winning combinations, and has two fold purpose: 1. returns the same output of `one_ticket_probability`, i.e. the probability of winning the lottery with the inserted bet; 2. also returns the number of times the inserted bet has been drawn in the Canadian lottery.\n",
    "\n",
    "Inside the function's logic, the second output is subjugated to the first output, i.e. the output 2. is only returned if all the input restrictions are met for output 1., or in other words, both outputs will only be returned if the input is a combination of six non-repeated natural numbers from 1 to 49 (included). "
   ]
  },
  {
   "cell_type": "code",
   "execution_count": 22,
   "metadata": {},
   "outputs": [],
   "source": [
    "def check_historical_occurence(bet=[int]*6, history = past_winning_bets):\n",
    "    \"\"\"Takes in two inputs: a Python list containing the user numbers and \n",
    "    a pandas Series containing sets with the winning numbers; returns information \n",
    "    about the number of times the combination inputted by the user occurred in the past.\n",
    "    And information about the probability of winning the big prize in the next drawing \n",
    "    with that combination.\n",
    "    \"\"\"\n",
    "    \n",
    "    # Essential information: the input is a '49 choose 6' type of combination:\n",
    "    n = 49\n",
    "    k = 6\n",
    "\n",
    "    # PART ONE: defining input restrictions and calculating probabilities of winning. \n",
    "    \n",
    "    # Condition 1 - Is the input a list?\n",
    "    if type(bet) is not list:\n",
    "        return 'Error: the function input must be a list composed of 6 natural non-repeated numbers from 1 to 49.'\n",
    "\n",
    "    bet_lenght = len(bet)\n",
    "\n",
    "\n",
    "    # Condition 2 - Does the input list has the same number of draws?\n",
    "    if bet_lenght != k:\n",
    "        return 'Error: the bet must be composed by six natural numbers from 1 to 49.'\n",
    "\n",
    "    \n",
    "    # Conditions 3, 4 and 5.\n",
    "    \n",
    "    repetitions = 0\n",
    "\n",
    "    outside_range = 0\n",
    "\n",
    "    not_int = 0\n",
    "\n",
    "    for el in bet:\n",
    "        if bet.count(el) > 1:\n",
    "            repetitions += 1\n",
    "\n",
    "        if el not in range(1, n+1):\n",
    "            outside_range += 1\n",
    "\n",
    "        if type(el) is not int:\n",
    "            not_int += 1\n",
    "\n",
    "    # Condition 3 - Are the values in the list integers?\n",
    "    if not_int > 0:\n",
    "        return 'Error: only natural numbers within the 1 to 49 range are accepeted.'\n",
    "\n",
    "    # Conditions 4 and 5 - Does the list has repeated values or out of range values?\n",
    "    if (repetitions != 0) or (outside_range != 0):\n",
    "        return 'Error: the inserted bet has either repeated number(s) or number(s) outside the 1 to 49 range.'\n",
    "\n",
    "    # If every restriction is met:\n",
    "    if (repetitions == 0) and (outside_range == 0):\n",
    "\n",
    "        n_choose_k = combinations(n, k)\n",
    "\n",
    "        one_ticket_prob_perc = round((1 / n_choose_k) * 100, 10)\n",
    "\n",
    "        # For printing probability without scientific notation.\n",
    "        one_ticket_prob_perc_1 = np.format_float_positional(one_ticket_prob_perc, trim='-')\n",
    "    \n",
    "    \n",
    "        # PART TWO: comparing actual bet with past bets of the Canadian Lottery history.\n",
    "\n",
    "        bet_set = set(bet)\n",
    "\n",
    "        condition = history == bet_set\n",
    "\n",
    "        # Is the bet placed by the user a winning past in the past?\n",
    "        past_winning_bet = history[condition]\n",
    "\n",
    "        # Number of times the user bet was a winning bet in the past.\n",
    "        past_winning_bet_count = past_winning_bet.size\n",
    "        \n",
    "        \n",
    "        print_list = [f'The probability of winning the lottery with the inserted bet is {one_ticket_prob_perc_1}.']\n",
    "        \n",
    "        print_list += [f'Number of times the user bet was a winning bet in the past: {past_winning_bet_count}.']\n",
    "        \n",
    "        return  print(*print_list, sep='\\n\\n')"
   ]
  },
  {
   "cell_type": "markdown",
   "metadata": {},
   "source": [
    "Testing the function."
   ]
  },
  {
   "cell_type": "code",
   "execution_count": 23,
   "metadata": {},
   "outputs": [
    {
     "name": "stdout",
     "output_type": "stream",
     "text": [
      "The probability of winning the lottery with the inserted bet is 0.0000071511.\n",
      "\n",
      "Number of times the user bet was a winning bet in the past: 0.\n"
     ]
    }
   ],
   "source": [
    "# because the second argumant is fixed - `history = past_winning_bets` we can ommit it.\n",
    "check_historical_occurence([23, 41, 3, 35, 12, 8])"
   ]
  },
  {
   "cell_type": "code",
   "execution_count": 24,
   "metadata": {},
   "outputs": [
    {
     "data": {
      "text/plain": [
       "'Error: the bet must be composed by six natural numbers from 1 to 49.'"
      ]
     },
     "execution_count": 24,
     "metadata": {},
     "output_type": "execute_result"
    }
   ],
   "source": [
    "check_historical_occurence([23, 41, 3, 35, 12]) # Mistake on purpose: 5 digits."
   ]
  },
  {
   "cell_type": "markdown",
   "metadata": {},
   "source": [
    "`multi_ticket_probability` is a function that helps the lottery player understand what are the realistic chances of winning the lottery given a certain number of bets for one lottery event."
   ]
  },
  {
   "cell_type": "code",
   "execution_count": 25,
   "metadata": {},
   "outputs": [],
   "source": [
    "def multi_ticket_probability(number_of_bets = int):\n",
    "    \"\"\"Takes the number of bets the user wants to play and returns the probability of\n",
    "    winning a '49 choose 6' type of lottery game.\n",
    "    \"\"\"\n",
    "    \n",
    "    # Fixed values:\n",
    "    n = 49\n",
    "    k = 6\n",
    "    \n",
    "    # Number of possible combinations.\n",
    "    n_choose_k = int(combinations(n, k)) \n",
    "    \n",
    "    # Is `number_of_bets` an integer?\n",
    "    if type(number_of_bets) != int:\n",
    "        return 'The inserted number must be natural number (integer)'\n",
    "    \n",
    "    # Is `number_of_bets` within the range of possible combinations?\n",
    "    if number_of_bets not in range(1, n_choose_k+1):\n",
    "        return 'Error: number of bets must be within the 1 to {} range.'.format(n_choose_k) \n",
    "    \n",
    "    # Probability of winning.\n",
    "    prob_win = number_of_bets / (n_choose_k)\n",
    "    \n",
    "    # Rounded and percentage converted.\n",
    "    prob_win_perc = round(prob_win*100, 10)\n",
    "\n",
    "    # For printing probability without scientific notation.\n",
    "    prob_win_perc = np.format_float_positional(prob_win_perc, trim='-')\n",
    "    \n",
    "    return 'The probability of winning with the lottery with {p} bet(s) is {z}%.'.format(p=number_of_bets, z=prob_win_perc)"
   ]
  },
  {
   "cell_type": "markdown",
   "metadata": {},
   "source": [
    "Testing the function:"
   ]
  },
  {
   "cell_type": "code",
   "execution_count": 26,
   "metadata": {},
   "outputs": [],
   "source": [
    "list_test_1 = [1, 10, 100, 10000, 1000000, 6991908, 13983816]\n",
    "\n",
    "tests_1 = [multi_ticket_probability(i) for i in list_test_1]"
   ]
  },
  {
   "cell_type": "code",
   "execution_count": 27,
   "metadata": {},
   "outputs": [
    {
     "name": "stdout",
     "output_type": "stream",
     "text": [
      "The probability of winning with the lottery with 1 bet(s) is 0.0000071511%.\n",
      "\n",
      "The probability of winning with the lottery with 10 bet(s) is 0.0000715112%.\n",
      "\n",
      "The probability of winning with the lottery with 100 bet(s) is 0.0007151124%.\n",
      "\n",
      "The probability of winning with the lottery with 10000 bet(s) is 0.0715112384%.\n",
      "\n",
      "The probability of winning with the lottery with 1000000 bet(s) is 7.151123842%.\n",
      "\n",
      "The probability of winning with the lottery with 6991908 bet(s) is 50%.\n",
      "\n",
      "The probability of winning with the lottery with 13983816 bet(s) is 100%.\n"
     ]
    }
   ],
   "source": [
    "print(*tests_1, sep='\\n\\n')"
   ]
  },
  {
   "cell_type": "markdown",
   "metadata": {
    "collapsed": true
   },
   "source": [
    "Next we produce a function - 'probability_less_6()', that allows the user to know what is the probability of getting i numbers right out of a '49 choose 6' lottery; e.g. i = 2: what is the chance of getting right 2 numbers out of 6? 'i' can take a value from {2, 3, 4, 5}."
   ]
  },
  {
   "cell_type": "code",
   "execution_count": 28,
   "metadata": {},
   "outputs": [],
   "source": [
    "def probability_less_6(i=int):\n",
    "    \"\"\"Takes an integer that represents a combination composed of i numbers (2 to 5), \n",
    "    and returns its probability of success when a '49 choose 6' type of lottery is drawn,\n",
    "    e.g. what is the probability of getting right 4 numbers (i = 4) out of 6, in a '49 choose 6' \n",
    "    type of lottery single event?\n",
    "    \"\"\"\n",
    "\n",
    "    n = 49\n",
    "\n",
    "    k = 6\n",
    "\n",
    "    n_choose_k = combinations(n, k)\n",
    "\n",
    "    if (i not in range(2, 5+1)) or (type(i) != int):\n",
    "        return 'The number (integer) inserted must be between 2 and 5 (included).'\n",
    "\n",
    "    # Total number of combiantions.\n",
    "    n_combinations_ticket = combinations(k, i)\n",
    "    n_combinations_remaining = combinations(43, k - i)\n",
    "    \n",
    "    # successful_outcomes = combinatons(k, i) * comabinations(43, k - i)\n",
    "    successful_outcomes = n_combinations_ticket * n_combinations_remaining\n",
    "    \n",
    "    prob_success_perc = (successful_outcomes / n_choose_k) * 100\n",
    "\n",
    "    prob_success_perc = round(prob_success_perc, 3)\n",
    "    \n",
    "    # For printing probability without scientific notation.\n",
    "    prob_success_perc = np.format_float_positional(prob_success_perc, trim='-')\n",
    "\n",
    "    return 'The probability of getting {f1} numbers out of 6, in a single lottery event with a total of 49 numbers, is {f2}%.'.format(f1=i, f2=prob_success_perc)"
   ]
  },
  {
   "cell_type": "markdown",
   "metadata": {
    "collapsed": true
   },
   "source": [
    "Testing the function (first entry on the list below with a mistake on purpose: n = 1)."
   ]
  },
  {
   "cell_type": "code",
   "execution_count": 29,
   "metadata": {},
   "outputs": [
    {
     "name": "stdout",
     "output_type": "stream",
     "text": [
      "The number (integer) inserted must be between 2 and 5 (included).\n",
      "\n",
      "The probability of getting 2 numbers out of 6, in a single lottery event with a total of 49 numbers, is 13.238%.\n",
      "\n",
      "The probability of getting 3 numbers out of 6, in a single lottery event with a total of 49 numbers, is 1.765%.\n",
      "\n",
      "The probability of getting 4 numbers out of 6, in a single lottery event with a total of 49 numbers, is 0.097%.\n",
      "\n",
      "The probability of getting 5 numbers out of 6, in a single lottery event with a total of 49 numbers, is 0.002%.\n"
     ]
    }
   ],
   "source": [
    "test_b = [probability_less_6(i) for i in range(1, 5+1)]\n",
    "\n",
    "print(*test_b, sep='\\n\\n')"
   ]
  },
  {
   "cell_type": "markdown",
   "metadata": {},
   "source": [
    "## Exploring Other Possible  App Features\n",
    "---"
   ]
  },
  {
   "cell_type": "code",
   "execution_count": 30,
   "metadata": {},
   "outputs": [],
   "source": [
    "def check_historical_occurence_v2(bet=[int]*6, history = past_winning_bets):\n",
    "    \"\"\"Takes in two inputs: a Python list containing the user numbers and \n",
    "    a pandas Series containing sets with the winning numbers; returns information \n",
    "    about the number of times the combination inputted by the user occurred in the past.\n",
    "    And information about the probability of winning the big prize in the next drawing \n",
    "    with that combination.\n",
    "    \"\"\"\n",
    "    \n",
    "    # Essential information: the input is a '49 choose 6' type of combination:\n",
    "    n = 49\n",
    "    k = 6\n",
    "\n",
    "    # PART ONE: defining input restrictions and calculating probabilities of winning. \n",
    "    \n",
    "    # Condition 1 - Is the input a list?\n",
    "    if type(bet) is not list:\n",
    "        return 'Error: the function input must be a list composed of 6 natural non-repeated numbers from 1 to 49.'\n",
    "\n",
    "    bet_lenght = len(bet)\n",
    "\n",
    "\n",
    "    # Condition 2 - Does the input list has the same number of draws?\n",
    "    if bet_lenght != k:\n",
    "        return 'Error: the bet must be composed by six natural numbers from 1 to 49.'\n",
    "\n",
    "    \n",
    "    # Conditions 3, 4 and 5.\n",
    "    \n",
    "    repetitions = 0\n",
    "\n",
    "    outside_range = 0\n",
    "\n",
    "    not_int = 0\n",
    "\n",
    "    for el in bet:\n",
    "        if bet.count(el) > 1:\n",
    "            repetitions += 1\n",
    "\n",
    "        if el not in range(1, n+1):\n",
    "            outside_range += 1\n",
    "\n",
    "        if type(el) is not int:\n",
    "            not_int += 1\n",
    "\n",
    "    # Condition 3 - Are the values in the list integers?\n",
    "    if not_int > 0:\n",
    "        return 'Error: only natural numbers within the 1 to 49 range are accepeted.'\n",
    "\n",
    "    # Conditions 4 and 5 - Does the list has repeated values or out of range values?\n",
    "    if (repetitions != 0) or (outside_range != 0):\n",
    "        return 'Error: the inserted bet has either repeated number(s) or number(s) outside the 1 to 49 range.'\n",
    "\n",
    "    # If every restriction is met:\n",
    "    if (repetitions == 0) and (outside_range == 0):\n",
    "\n",
    "        n_choose_k = combinations(n, k)\n",
    "\n",
    "        one_ticket_prob_perc = round((1 / n_choose_k) * 100, 10)\n",
    "\n",
    "        # For printing probability without scientific notation.\n",
    "        one_ticket_prob_perc_1 = np.format_float_positional(one_ticket_prob_perc, trim='-')\n",
    "    \n",
    "    \n",
    "        # PART TWO: comparing actual bet with past bets of the Canadian Lottery history.\n",
    "\n",
    "        bet_set = set(bet)\n",
    "\n",
    "        condition = history == bet_set\n",
    "\n",
    "        # Is the bet placed by the user a winning past in the past?\n",
    "        past_winning_bet = history[condition]\n",
    "\n",
    "        # Number of times the user bet was a winning bet in the past.\n",
    "        past_winning_bet_count = past_winning_bet.size\n",
    "        \n",
    "        print_list = [f'The probability of winning the lottery with the inserted bet is {one_ticket_prob_perc_1}.']\n",
    "        \n",
    "        print_list += [f'Number of times the user bet was a winning bet in the past: {past_winning_bet_count}.']\n",
    "        \n",
    "        return  print(*print_list, sep='\\n\\n')\n"
   ]
  },
  {
   "cell_type": "code",
   "execution_count": 31,
   "metadata": {},
   "outputs": [
    {
     "name": "stdout",
     "output_type": "stream",
     "text": [
      "The probability of winning the lottery with the inserted bet is 0.0000071511.\n",
      "\n",
      "Number of times the user bet was a winning bet in the past: 0.\n"
     ]
    }
   ],
   "source": [
    "check_historical_occurence_v2([1, 2, 3, 4, 5, 6])"
   ]
  },
  {
   "cell_type": "code",
   "execution_count": 32,
   "metadata": {},
   "outputs": [],
   "source": [
    "b = ['a']"
   ]
  },
  {
   "cell_type": "code",
   "execution_count": 33,
   "metadata": {},
   "outputs": [],
   "source": [
    "b += ['b']"
   ]
  },
  {
   "cell_type": "code",
   "execution_count": 34,
   "metadata": {},
   "outputs": [
    {
     "data": {
      "text/plain": [
       "['a', 'b']"
      ]
     },
     "execution_count": 34,
     "metadata": {},
     "output_type": "execute_result"
    }
   ],
   "source": [
    "b"
   ]
  },
  {
   "cell_type": "code",
   "execution_count": 35,
   "metadata": {},
   "outputs": [
    {
     "data": {
      "text/plain": [
       "'a\\\\nb'"
      ]
     },
     "execution_count": 35,
     "metadata": {},
     "output_type": "execute_result"
    }
   ],
   "source": [
    "'\\\\n'.join(b)"
   ]
  },
  {
   "cell_type": "code",
   "execution_count": 36,
   "metadata": {},
   "outputs": [],
   "source": [
    "newline = ord('\\n')"
   ]
  },
  {
   "cell_type": "code",
   "execution_count": null,
   "metadata": {},
   "outputs": [],
   "source": []
  },
  {
   "cell_type": "code",
   "execution_count": null,
   "metadata": {},
   "outputs": [],
   "source": []
  }
 ],
 "metadata": {
  "hide_input": false,
  "kernelspec": {
   "display_name": "Python 3",
   "language": "python",
   "name": "python3"
  },
  "language_info": {
   "codemirror_mode": {
    "name": "ipython",
    "version": 3
   },
   "file_extension": ".py",
   "mimetype": "text/x-python",
   "name": "python",
   "nbconvert_exporter": "python",
   "pygments_lexer": "ipython3",
   "version": "3.7.3"
  },
  "toc": {
   "base_numbering": 1,
   "nav_menu": {},
   "number_sections": true,
   "sideBar": true,
   "skip_h1_title": true,
   "title_cell": "Table of Contents",
   "title_sidebar": "Contents",
   "toc_cell": false,
   "toc_position": {},
   "toc_section_display": true,
   "toc_window_display": false
  },
  "varInspector": {
   "cols": {
    "lenName": 16,
    "lenType": 16,
    "lenVar": 40
   },
   "kernels_config": {
    "python": {
     "delete_cmd_postfix": "",
     "delete_cmd_prefix": "del ",
     "library": "var_list.py",
     "varRefreshCmd": "print(var_dic_list())"
    },
    "r": {
     "delete_cmd_postfix": ") ",
     "delete_cmd_prefix": "rm(",
     "library": "var_list.r",
     "varRefreshCmd": "cat(var_dic_list()) "
    }
   },
   "types_to_exclude": [
    "module",
    "function",
    "builtin_function_or_method",
    "instance",
    "_Feature"
   ],
   "window_display": false
  }
 },
 "nbformat": 4,
 "nbformat_minor": 2
}
