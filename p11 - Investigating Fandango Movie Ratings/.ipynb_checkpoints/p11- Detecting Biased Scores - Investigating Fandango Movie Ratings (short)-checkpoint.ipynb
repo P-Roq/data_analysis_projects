{
 "cells": [
  {
   "cell_type": "markdown",
   "metadata": {
    "collapsed": true
   },
   "source": [
    "# Detecting Biased Scores - Investigating Fandango Movie Ratings\n",
    "\n",
    "\n",
    "\n",
    "## Introduction\n",
    "---\n",
    "\n",
    "In October 2015, Walt Hickey, a journalist associated to the [FiveThirtyEight](https://fivethirtyeight.com/features/fandango-movies-ratings/) media outlet, found evidence that movie ratings at [Fandango](https://www.fandango.com/) were biased; according to the author, this bias was achieved mainly through how Fandango decided to round the final ratings presented to the public, e.g. if a movie was rated initially with 4.1 stars out of 5, it would be rated in a final score with 4.5 stars in the final scale, instead of 4. This method resulted in the overall inflation of the selection of movies reviewed by this platform. Fandango replied to the article, promising to solve that inconsistency. Some years have passed since then, so it may be interesting to determine whether we can still verify some sort of bias from Fandango ratings, or has the company really attempted to solve the issue. To support our analysis, we'll be comparing Fandango ratings with analogous data from other popular online movie review platforms - IMDB, Metacritic and Rotten Tomatoes.\n",
    "\n",
    "\n",
    "\n",
    "## The Data\n",
    "---\n",
    "\n",
    "To perform this task, we'll need information about the Fandango's movie ratings from before and after the FiveThirtyEight's release of the exposing article, in order to conduct a comparison. For the 'before' we resort to the [Walt Hickey's repository](https://github.com/fivethirtyeight/data/tree/master/fandango) on GitHub, while for the 'after', we kindly thank the Dataquest team for providing analogous [data](https://github.com/mircealex/Movie_ratings_2016_17) regarding movie ratings released in 2016 and 2017. "
   ]
  },
  {
   "cell_type": "code",
   "execution_count": 67,
   "metadata": {},
   "outputs": [],
   "source": [
    "# Importing libraries.\n",
    "import numpy as np\n",
    "import pandas as pd\n",
    "import re\n",
    "import matplotlib.pyplot as plt\n",
    "import seaborn as sns\n",
    "\n",
    "%matplotlib inline"
   ]
  },
  {
   "cell_type": "code",
   "execution_count": 68,
   "metadata": {},
   "outputs": [],
   "source": [
    "# Walt Hickey's initial data set.\n",
    "ratings_bfr = pd.read_csv('fandango_score_comparison.csv').rename(columns={'FILM':'MOVIE'})\n",
    "\n",
    "# Dataquest's 2016-17 data set.\n",
    "ratings_aft = pd.read_csv('movie_ratings_16_17.csv')"
   ]
  },
  {
   "cell_type": "markdown",
   "metadata": {},
   "source": [
    "### First Assessment Of The Data Sets\n",
    "\n",
    "Data set description (these are the first 7 columns, full description in Annex I):\n",
    "\n",
    "From `ratings_bfr`:\n",
    "\n",
    "| **Column**                    | **Definition**|\n",
    "| ----------------------------- |---------------|\n",
    "| `FILM`                          | The film in question.|\n",
    "| `RottenTomatoes`                | The Rotten Tomatoes Tomatometer score for the film.|\n",
    "| `RottenTomatoes_User`          | The Rotten Tomatoes user score for the film.|\n",
    "| `Metacritic`                    | The Metacritic critic score for the film.|\n",
    "| `Metacritic_User`              | The Metacritic user score for the film.|\n",
    "| `IMDB`                          | The IMDb user score for the film.|\n",
    "| `Fandango_Stars`               | The number of stars the film had on its Fandango movie page.|\n",
    "| ...        | ... |\n",
    "\n",
    "\n",
    "From `ratings_aft`:\n",
    "\n",
    "|Column              |Description                                                                                                                      |\n",
    "|--------------------|-------------|\n",
    "| `movie`         | The name of the movie.                                                                   |\n",
    "| `year`          | The release year of the movie.                                                           |\n",
    "| `metascore`     | The Metacritic rating of the movie (the \"metascore\" - critic score).                     |\n",
    "| `imdb`          | The IMDB rating of the movie (user score).                                               |\n",
    "| `tmeter`        | The Rotten Tomatoes rating of the movie (the \"tomatometer\" - critic score).              |\n",
    "| `audience`      | The Rotten Tomatoes rating of the movie (user score).                                    |\n",
    "| `fandango`      | The Fandango rating of the movie (user score).                                           |\n",
    "| ...        | ... |\n",
    "\n",
    "\n",
    "To generalize about Fandango's rating system as whole, it is necessary to check whether both data sets are comprehensive, i.e. are they a good representation of all movies rated in this platform? From the statements below, we know that both data sets were cleaned of some movie ratings, using different criteria:\n",
    "\n",
    "- 'before' data set (by Walt Hickey): ['contains every movie (...) at least 30 fan reviews on Fandango'.](https://github.com/fivethirtyeight/data/blob/master/fandango/README.md)\n",
    "\n",
    "\n",
    "- 'after' data set (by Alex Olteanu): ['I have collected ratings for some of the most voted and reviewed movies in 2016 and 2017.'](https://www.freecodecamp.org/news/whose-reviews-should-you-trust-imdb-rotten-tomatoes-metacritic-or-fandango-7d1010c6cf19/)\n",
    "\n",
    "Since both data sets account for movies with a reasonable number of reviews, we can assume they are somewhat comparable.\n",
    "\n",
    "\n",
    "#### Number of rows, columns and data types:\n",
    "- as we can see, for all columns, the number of non-null values always matches the number of entries/rows given by the `RangeIndex`, meaning that we don't have any missing values in our data sets. "
   ]
  },
  {
   "cell_type": "code",
   "execution_count": 69,
   "metadata": {},
   "outputs": [
    {
     "name": "stdout",
     "output_type": "stream",
     "text": [
      "<class 'pandas.core.frame.DataFrame'>\n",
      "RangeIndex: 146 entries, 0 to 145\n",
      "Data columns (total 22 columns):\n",
      " #   Column                      Non-Null Count  Dtype  \n",
      "---  ------                      --------------  -----  \n",
      " 0   MOVIE                       146 non-null    object \n",
      " 1   RottenTomatoes              146 non-null    int64  \n",
      " 2   RottenTomatoes_User         146 non-null    int64  \n",
      " 3   Metacritic                  146 non-null    int64  \n",
      " 4   Metacritic_User             146 non-null    float64\n",
      " 5   IMDB                        146 non-null    float64\n",
      " 6   Fandango_Stars              146 non-null    float64\n",
      " 7   Fandango_Ratingvalue        146 non-null    float64\n",
      " 8   RT_norm                     146 non-null    float64\n",
      " 9   RT_user_norm                146 non-null    float64\n",
      " 10  Metacritic_norm             146 non-null    float64\n",
      " 11  Metacritic_user_nom         146 non-null    float64\n",
      " 12  IMDB_norm                   146 non-null    float64\n",
      " 13  RT_norm_round               146 non-null    float64\n",
      " 14  RT_user_norm_round          146 non-null    float64\n",
      " 15  Metacritic_norm_round       146 non-null    float64\n",
      " 16  Metacritic_user_norm_round  146 non-null    float64\n",
      " 17  IMDB_norm_round             146 non-null    float64\n",
      " 18  Metacritic_user_vote_count  146 non-null    int64  \n",
      " 19  IMDB_user_vote_count        146 non-null    int64  \n",
      " 20  Fandango_votes              146 non-null    int64  \n",
      " 21  Fandango_Difference         146 non-null    float64\n",
      "dtypes: float64(15), int64(6), object(1)\n",
      "memory usage: 24.6+ KB\n"
     ]
    }
   ],
   "source": [
    "ratings_bfr.info()"
   ]
  },
  {
   "cell_type": "code",
   "execution_count": 70,
   "metadata": {},
   "outputs": [
    {
     "name": "stdout",
     "output_type": "stream",
     "text": [
      "<class 'pandas.core.frame.DataFrame'>\n",
      "RangeIndex: 214 entries, 0 to 213\n",
      "Data columns (total 15 columns):\n",
      " #   Column        Non-Null Count  Dtype  \n",
      "---  ------        --------------  -----  \n",
      " 0   movie         214 non-null    object \n",
      " 1   year          214 non-null    int64  \n",
      " 2   metascore     214 non-null    int64  \n",
      " 3   imdb          214 non-null    float64\n",
      " 4   tmeter        214 non-null    int64  \n",
      " 5   audience      214 non-null    int64  \n",
      " 6   fandango      214 non-null    float64\n",
      " 7   n_metascore   214 non-null    float64\n",
      " 8   n_imdb        214 non-null    float64\n",
      " 9   n_tmeter      214 non-null    float64\n",
      " 10  n_audience    214 non-null    float64\n",
      " 11  nr_metascore  214 non-null    float64\n",
      " 12  nr_imdb       214 non-null    float64\n",
      " 13  nr_tmeter     214 non-null    float64\n",
      " 14  nr_audience   214 non-null    float64\n",
      "dtypes: float64(10), int64(4), object(1)\n",
      "memory usage: 24.3+ KB\n"
     ]
    }
   ],
   "source": [
    "ratings_aft.info()"
   ]
  },
  {
   "cell_type": "markdown",
   "metadata": {},
   "source": [
    "A quick look at the DataFrames by inspecting the first row: "
   ]
  },
  {
   "cell_type": "code",
   "execution_count": 71,
   "metadata": {},
   "outputs": [
    {
     "data": {
      "text/plain": [
       "MOVIE                         Avengers: Age of Ultron (2015)\n",
       "RottenTomatoes                                            74\n",
       "RottenTomatoes_User                                       86\n",
       "Metacritic                                                66\n",
       "Metacritic_User                                          7.1\n",
       "IMDB                                                     7.8\n",
       "Fandango_Stars                                             5\n",
       "Fandango_Ratingvalue                                     4.5\n",
       "RT_norm                                                  3.7\n",
       "RT_user_norm                                             4.3\n",
       "Metacritic_norm                                          3.3\n",
       "Metacritic_user_nom                                     3.55\n",
       "IMDB_norm                                                3.9\n",
       "RT_norm_round                                            3.5\n",
       "RT_user_norm_round                                       4.5\n",
       "Metacritic_norm_round                                    3.5\n",
       "Metacritic_user_norm_round                               3.5\n",
       "IMDB_norm_round                                            4\n",
       "Metacritic_user_vote_count                              1330\n",
       "IMDB_user_vote_count                                  271107\n",
       "Fandango_votes                                         14846\n",
       "Fandango_Difference                                      0.5\n",
       "Name: 0, dtype: object"
      ]
     },
     "execution_count": 71,
     "metadata": {},
     "output_type": "execute_result"
    }
   ],
   "source": [
    "ratings_bfr.iloc[0, :]"
   ]
  },
  {
   "cell_type": "code",
   "execution_count": 72,
   "metadata": {},
   "outputs": [
    {
     "data": {
      "text/plain": [
       "movie           10 Cloverfield Lane\n",
       "year                           2016\n",
       "metascore                        76\n",
       "imdb                            7.2\n",
       "tmeter                           90\n",
       "audience                         79\n",
       "fandango                        3.5\n",
       "n_metascore                     3.8\n",
       "n_imdb                          3.6\n",
       "n_tmeter                        4.5\n",
       "n_audience                     3.95\n",
       "nr_metascore                      4\n",
       "nr_imdb                         3.5\n",
       "nr_tmeter                       4.5\n",
       "nr_audience                       4\n",
       "Name: 0, dtype: object"
      ]
     },
     "execution_count": 72,
     "metadata": {},
     "output_type": "execute_result"
    }
   ],
   "source": [
    "ratings_aft.iloc[0, :]"
   ]
  },
  {
   "cell_type": "markdown",
   "metadata": {},
   "source": [
    "### Quick clean-up of the `Movie` column in `ratings_bfr`\n",
    "\n",
    "As we can see the column `MOVIE` contains both the title of the movie and the year of release. Below we separate these two elements into separate columns."
   ]
  },
  {
   "cell_type": "code",
   "execution_count": 73,
   "metadata": {},
   "outputs": [
    {
     "data": {
      "text/html": [
       "<div>\n",
       "<style scoped>\n",
       "    .dataframe tbody tr th:only-of-type {\n",
       "        vertical-align: middle;\n",
       "    }\n",
       "\n",
       "    .dataframe tbody tr th {\n",
       "        vertical-align: top;\n",
       "    }\n",
       "\n",
       "    .dataframe thead th {\n",
       "        text-align: right;\n",
       "    }\n",
       "</style>\n",
       "<table border=\"1\" class=\"dataframe\">\n",
       "  <thead>\n",
       "    <tr style=\"text-align: right;\">\n",
       "      <th></th>\n",
       "      <th>MOVIE</th>\n",
       "      <th>YEAR</th>\n",
       "    </tr>\n",
       "  </thead>\n",
       "  <tbody>\n",
       "    <tr>\n",
       "      <th>0</th>\n",
       "      <td>Avengers: Age of Ultron</td>\n",
       "      <td>2015</td>\n",
       "    </tr>\n",
       "    <tr>\n",
       "      <th>1</th>\n",
       "      <td>Cinderella</td>\n",
       "      <td>2015</td>\n",
       "    </tr>\n",
       "    <tr>\n",
       "      <th>2</th>\n",
       "      <td>Ant-Man</td>\n",
       "      <td>2015</td>\n",
       "    </tr>\n",
       "    <tr>\n",
       "      <th>3</th>\n",
       "      <td>Do You Believe?</td>\n",
       "      <td>2015</td>\n",
       "    </tr>\n",
       "  </tbody>\n",
       "</table>\n",
       "</div>"
      ],
      "text/plain": [
       "                     MOVIE  YEAR\n",
       "0  Avengers: Age of Ultron  2015\n",
       "1               Cinderella  2015\n",
       "2                  Ant-Man  2015\n",
       "3          Do You Believe?  2015"
      ]
     },
     "execution_count": 73,
     "metadata": {},
     "output_type": "execute_result"
    }
   ],
   "source": [
    "ratings_bfr_MOVIE_splitted = ratings_bfr['MOVIE'].str.split(pat=' \\(', expand=True)\n",
    "\n",
    "ratings_bfr_MOVIE_splitted = ratings_bfr_MOVIE_splitted.rename(columns={0:'MOVIE', 1:'YEAR'})\n",
    "\n",
    "ratings_bfr_MOVIE_splitted['YEAR'] = ratings_bfr_MOVIE_splitted['YEAR'].str.replace('\\)', '', regex=True)\n",
    "\n",
    "ratings_bfr_MOVIE_splitted = ratings_bfr_MOVIE_splitted.astype({'YEAR':'int'})\n",
    "\n",
    "# Replacing the old `MOVIE` column in `ratings_bfr` by  the columns in`ratings_bfr_MOVIE_splitted`.\n",
    "ratings_bfr['MOVIE'] = ratings_bfr_MOVIE_splitted['MOVIE']\n",
    "\n",
    "ratings_bfr = ratings_bfr.join(ratings_bfr_MOVIE_splitted['YEAR'])\n",
    "\n",
    "# Checking changes. \n",
    "ratings_bfr.loc[:3, ['MOVIE', 'YEAR']]"
   ]
  },
  {
   "cell_type": "markdown",
   "metadata": {},
   "source": [
    "## Analysis Of Frequency Distributions - A Visual Exploration\n",
    "---\n",
    "\n",
    "Here we try to find out whether there is a substantial difference between the Fandango user ratings' distributions before and after the bias has been exposed. To do that, we resort to kernel density plots in order to compare the frequency distributions. The comparison will be between:\n",
    "- Fandango ratings and a simulated normally distributed array.\n",
    "- Fandango ratings over different years.\n",
    "- Fandango ratings against other movie review platforms.\n",
    "\n",
    "The fundamental premise is that an unbiased array of ratings should have a symmetrical frequency distribution around the mean, which in this case should be 2.5 stars. We should also expect values to be spread across the whole range spectrum, from 0 to 5. \n",
    "\n",
    "We start with a year vs year frame of comparison, isolating the 2015 and 2016 values from `ratings_bfr` and `ratings_aft` respectively:"
   ]
  },
  {
   "cell_type": "code",
   "execution_count": 74,
   "metadata": {},
   "outputs": [
    {
     "name": "stdout",
     "output_type": "stream",
     "text": [
      "Number of movies in 2015: 129\n",
      "Number of movies in 2016: 191\n"
     ]
    }
   ],
   "source": [
    "rts_2015 = ratings_bfr[ratings_bfr['YEAR']==2015].copy()\n",
    "\n",
    "rts_2016 = ratings_aft[ratings_aft['year']==2016].copy()\n",
    "\n",
    "print('Number of movies in 2015:', rts_2015.shape[0])\n",
    "print('Number of movies in 2016:', rts_2016.shape[0])"
   ]
  },
  {
   "cell_type": "markdown",
   "metadata": {},
   "source": [
    "Descriptive statistics of Fandango ratings in 2015 and 2016."
   ]
  },
  {
   "cell_type": "code",
   "execution_count": 75,
   "metadata": {},
   "outputs": [
    {
     "data": {
      "text/plain": [
       "count    129.000000\n",
       "mean       4.085271\n",
       "std        0.538096\n",
       "min        3.000000\n",
       "25%        3.500000\n",
       "50%        4.000000\n",
       "75%        4.500000\n",
       "max        5.000000\n",
       "Name: Fandango_Stars, dtype: float64"
      ]
     },
     "execution_count": 75,
     "metadata": {},
     "output_type": "execute_result"
    }
   ],
   "source": [
    "rts_2015['Fandango_Stars'].describe()"
   ]
  },
  {
   "cell_type": "code",
   "execution_count": 76,
   "metadata": {},
   "outputs": [
    {
     "data": {
      "text/plain": [
       "count    191.000000\n",
       "mean       3.887435\n",
       "std        0.509540\n",
       "min        2.500000\n",
       "25%        3.500000\n",
       "50%        4.000000\n",
       "75%        4.250000\n",
       "max        5.000000\n",
       "Name: fandango, dtype: float64"
      ]
     },
     "execution_count": 76,
     "metadata": {},
     "output_type": "execute_result"
    }
   ],
   "source": [
    "rts_2016['fandango'].describe()"
   ]
  },
  {
   "cell_type": "markdown",
   "metadata": {},
   "source": [
    "Looking at the descriptive statistics above, we can tell that values/ratings are generally inflated in both cases. In a range from 0 to 5, the mean plus one-standard-deviation should sum up to approx. 3.5 (stars), and in a normal distribution, values equal and below that threshold should account for approx. 84% of the total observations. As we can see, values equal and below 3.5 stars account only for 25% of the total, meaning that 75% of all values surpass the mean plus one standard-deviation (when it should only be around 16%)."
   ]
  },
  {
   "cell_type": "code",
   "execution_count": 77,
   "metadata": {
    "hide_input": false
   },
   "outputs": [
    {
     "data": {
      "image/png": "[encoded data removed]",
      "text/plain": [
       "<Figure size 720x432 with 1 Axes>"
      ]
     },
     "metadata": {
      "needs_background": "light"
     },
     "output_type": "display_data"
    }
   ],
   "source": [
    "fig, ax = plt.subplots(figsize=(10, 6))\n",
    "\n",
    "# Setting the 'fivethirtyeight' custom style.\n",
    "plt.style.use('fivethirtyeight')\n",
    "\n",
    "ax.set_title('Graph 1 - Fandango User Reviews Kernel Density Plots: 2015 v. 2016',\n",
    "             size=20,\n",
    "             y=1.08)\n",
    "\n",
    "# Plotting the two lines.\n",
    "sns.kdeplot(data=rts_2015['Fandango_Stars'],\n",
    "            label='2015')\n",
    "\n",
    "\n",
    "sns.kdeplot(data=rts_2016['fandango'],\n",
    "            label='2016',\n",
    "            color='orange')  # 'fandango' is equivelent to 'Fandango_Stars'\n",
    "\n",
    "\n",
    "sns.kdeplot(data=np.random.normal(loc=2.5, scale=1.0, size=1000),\n",
    "            label='Normal Dist.',\n",
    "            color='purple')  # Normal distribution \n",
    "\n",
    "\n",
    "# `rts_2015['Fandango_Stars']` mean.\n",
    "ax.axvline(x=rts_2015['Fandango_Stars'].mean(),\n",
    "           ymin=0,\n",
    "           ymax=0.64,\n",
    "           linewidth=3,\n",
    "           c='b',\n",
    "           ls='--',\n",
    "           label='Mean 2015')\n",
    "\n",
    "# `rts_2016['fandango']` mean\n",
    "ax.axvline(ymin=0,\n",
    "           ymax=0.8,\n",
    "           x=rts_2016['fandango'].mean(),\n",
    "           linewidth=3,\n",
    "           color='y',\n",
    "           ls='--',\n",
    "           label='Mean 2016')\n",
    "\n",
    "\n",
    "# Ticks.\n",
    "ax.set_xticks(np.arange(0, 5.5, 0.5))\n",
    "\n",
    "# Code line to hide the first value - '0', in the y ticks.\n",
    "plt.yticks(np.arange(0.2, 1.0, 0.2))\n",
    "\n",
    "\n",
    "# Labels.\n",
    "ax.set_ylabel('Frequency', position=(0.2, 0.5))\n",
    "\n",
    "ax.set_xlabel('Fandango Stars')\n",
    "\n",
    "\n",
    "# Others.\n",
    "plt.legend(bbox_to_anchor=(1.4, 1))\n",
    "\n",
    "\n",
    "plt.show()"
   ]
  },
  {
   "cell_type": "markdown",
   "metadata": {
    "collapsed": true
   },
   "source": [
    "From Graph 1 (above) we can assess: \n",
    "\n",
    "- The purple line is a random process that simulates a normal distribution with 1000 observations, centered around the mean at  (approx.) 2.5; when comparing it with the ratings' distributions, we can see that these lines may resemble the shape of a normal distribution, but are completely off center and both have high kurtosis (high concentration of values around a shorter magnitude range), which visibly shortens both left and right tails while augments the peaks' height.  \n",
    "\n",
    "\n",
    "- The rating system ranges from 0 to 5 stars, therefore it is expected for a normal distribution that the mean, mode and median to be equally centered at 2.5, which we can see it does not apply in this case. In both cases, means are at very high values (4.08 in 2015 and 3.88 in 2016).\n",
    "\n",
    "\n",
    "- Also in both years, we can notice that the peak frequency is at the right side of the mean (more pronounced in 2015 than in 2016), which causes these distributions to be negatively skewed (longer and slimmer left tail).\n",
    "\n",
    "### Descriptive Statistics - Divergence Between Mode, Mean And The Median\n",
    "\n",
    "According to statistical theory, a distribution of values becomes closer to a normal distribution when the mean, the median and the mode converge; inversely, if the mean and the mode diverge more and more from the median, we tend to have an increasingly skewed distribution. "
   ]
  },
  {
   "cell_type": "code",
   "execution_count": 78,
   "metadata": {},
   "outputs": [
    {
     "data": {
      "image/png": "[encoded data removed]",
      "text/plain": [
       "<Figure size 432x288 with 1 Axes>"
      ]
     },
     "metadata": {},
     "output_type": "display_data"
    }
   ],
   "source": [
    "# Support DataFrame with the mean, median and mode for 2015 and 2016 series.\n",
    "stats_15_dic = {'mean':round(rts_2015['Fandango_Stars'].mean(), 2),\n",
    "            'median':rts_2015['Fandango_Stars'].median(),\n",
    "            'mode':rts_2015['Fandango_Stars'].mode()}\n",
    "\n",
    "stats_16_dic = {'mean':round(rts_2016['fandango'].mean(), 2),\n",
    "            'median':rts_2016['fandango'].median(),\n",
    "            'mode':rts_2016['fandango'].mode()}\n",
    "\n",
    "stats_15 = pd.DataFrame(stats_15_dic).set_index(np.array([2015]))\n",
    "\n",
    "stats_16 = pd.DataFrame(stats_16_dic).set_index(np.array([2016]))\n",
    "\n",
    "stats = pd.concat([stats_15, stats_16])\n",
    "\n",
    "# Bar chart based on `stats`.\n",
    "fig, ax = plt.subplots()\n",
    "\n",
    "\n",
    "ax.set_title('Graph 2  - Comparing Summary Statistics: 2015 vs 2016', y=1.08)\n",
    "\n",
    "labels = stats.columns\n",
    "\n",
    "x = np.arange(len(labels))  # the label locations\n",
    "\n",
    "width = 0.4  # the width of the bars\n",
    "\n",
    "\n",
    "# Plot in pairs.\n",
    "bars_2015 = ax.bar(x - width/2, stats.loc[2015, :], width, label='2015', color='b')\n",
    "bars_2016 = ax.bar(x + width/2, stats.loc[2016, :], width, label='2016', color='g')\n",
    "\n",
    "\n",
    "# Values over bars.\n",
    "\n",
    "# 2015.\n",
    "for index, bar in enumerate(bars_2015):\n",
    "    width = bar.get_width()\n",
    "    height = bar.get_height()\n",
    "    x, y = bar.get_xy()\n",
    "    plt.text(x+width/2,\n",
    "             y+height*1.02,\n",
    "             stats.iloc[0, index], # 2015 is row 0\n",
    "             ha='center',\n",
    "             weight='bold')\n",
    "\n",
    "# 2016.\n",
    "for index, bar in enumerate(bars_2016):\n",
    "    width = bar.get_width()\n",
    "    height = bar.get_height()\n",
    "    x, y = bar.get_xy()\n",
    "    plt.text(x+width/2,\n",
    "             y+height*1.02,\n",
    "             stats.iloc[1, index], # 2016 is row 1\n",
    "             ha='center',\n",
    "             weight='bold')\n",
    "\n",
    "                               \n",
    "# Ticks and labels.\n",
    "ax.set_ylabel('Stars')\n",
    "ax.set_xticks(range(0, len(stats.columns)))\n",
    "ax.set_xticklabels(labels)\n",
    "\n",
    "\n",
    "# Placing the legend next to the graph avoiding the overlapping.\n",
    "plt.legend(bbox_to_anchor=(1.1, 1))\n",
    "\n",
    "ax.grid(axis='x')\n",
    "\n",
    "plt.show()\n",
    "                 "
   ]
  },
  {
   "cell_type": "markdown",
   "metadata": {},
   "source": [
    "Observing Graph 2, we see that 2015 values for the mean and mode are higher and farther away from the median, whilst in the 2016 values, all statistics converge to 4 (stars), re-enforcing the idea that the ratings in 2015 are exceptionally positively inflated, while ratings in 2016 still look inflated, albeit to a less extent. "
   ]
  },
  {
   "cell_type": "markdown",
   "metadata": {},
   "source": [
    "## Comparing Fandango  Ratings With IMDB, Metacritic and Rotten Tomatoes\n",
    "---\n",
    "\n",
    "Besides comparing Fandango against it self, we can also compare the distribution of user ratings across the aforementioned group of popular platforms, throughout 2015 and 2016. `ratings_bfr` and `ratings_aft` contain a normalized version of the movie ratings of each platform, i.e. these ratings have been standardized to resemble the Fandango 0 to 5 star rating scale.    \n",
    "\n",
    "This time around, we'll be analyzing all movies released in 2014-15 and 2016-17 separately, instead of a year over year comparison.\n",
    "\n",
    "The normalized ratings in both data sets:"
   ]
  },
  {
   "cell_type": "code",
   "execution_count": 79,
   "metadata": {},
   "outputs": [
    {
     "data": {
      "text/html": [
       "<div>\n",
       "<style scoped>\n",
       "    .dataframe tbody tr th:only-of-type {\n",
       "        vertical-align: middle;\n",
       "    }\n",
       "\n",
       "    .dataframe tbody tr th {\n",
       "        vertical-align: top;\n",
       "    }\n",
       "\n",
       "    .dataframe thead th {\n",
       "        text-align: right;\n",
       "    }\n",
       "</style>\n",
       "<table border=\"1\" class=\"dataframe\">\n",
       "  <thead>\n",
       "    <tr style=\"text-align: right;\">\n",
       "      <th></th>\n",
       "      <th>RT_norm_round</th>\n",
       "      <th>RT_user_norm_round</th>\n",
       "      <th>Metacritic_norm_round</th>\n",
       "      <th>Metacritic_user_norm_round</th>\n",
       "      <th>IMDB_norm_round</th>\n",
       "    </tr>\n",
       "  </thead>\n",
       "  <tbody>\n",
       "    <tr>\n",
       "      <th>0</th>\n",
       "      <td>3.5</td>\n",
       "      <td>4.5</td>\n",
       "      <td>3.5</td>\n",
       "      <td>3.5</td>\n",
       "      <td>4.0</td>\n",
       "    </tr>\n",
       "    <tr>\n",
       "      <th>1</th>\n",
       "      <td>4.5</td>\n",
       "      <td>4.0</td>\n",
       "      <td>3.5</td>\n",
       "      <td>4.0</td>\n",
       "      <td>3.5</td>\n",
       "    </tr>\n",
       "    <tr>\n",
       "      <th>2</th>\n",
       "      <td>4.0</td>\n",
       "      <td>4.5</td>\n",
       "      <td>3.0</td>\n",
       "      <td>4.0</td>\n",
       "      <td>4.0</td>\n",
       "    </tr>\n",
       "    <tr>\n",
       "      <th>3</th>\n",
       "      <td>1.0</td>\n",
       "      <td>4.0</td>\n",
       "      <td>1.0</td>\n",
       "      <td>2.5</td>\n",
       "      <td>2.5</td>\n",
       "    </tr>\n",
       "    <tr>\n",
       "      <th>4</th>\n",
       "      <td>0.5</td>\n",
       "      <td>1.5</td>\n",
       "      <td>1.5</td>\n",
       "      <td>1.5</td>\n",
       "      <td>2.5</td>\n",
       "    </tr>\n",
       "  </tbody>\n",
       "</table>\n",
       "</div>"
      ],
      "text/plain": [
       "   RT_norm_round  RT_user_norm_round  Metacritic_norm_round  \\\n",
       "0            3.5                 4.5                    3.5   \n",
       "1            4.5                 4.0                    3.5   \n",
       "2            4.0                 4.5                    3.0   \n",
       "3            1.0                 4.0                    1.0   \n",
       "4            0.5                 1.5                    1.5   \n",
       "\n",
       "   Metacritic_user_norm_round  IMDB_norm_round  \n",
       "0                         3.5              4.0  \n",
       "1                         4.0              3.5  \n",
       "2                         4.0              4.0  \n",
       "3                         2.5              2.5  \n",
       "4                         1.5              2.5  "
      ]
     },
     "execution_count": 79,
     "metadata": {},
     "output_type": "execute_result"
    }
   ],
   "source": [
    "ratings_bfr.loc[:, ratings_bfr.columns.str.contains('round')].head()"
   ]
  },
  {
   "cell_type": "code",
   "execution_count": 80,
   "metadata": {},
   "outputs": [
    {
     "data": {
      "text/html": [
       "<div>\n",
       "<style scoped>\n",
       "    .dataframe tbody tr th:only-of-type {\n",
       "        vertical-align: middle;\n",
       "    }\n",
       "\n",
       "    .dataframe tbody tr th {\n",
       "        vertical-align: top;\n",
       "    }\n",
       "\n",
       "    .dataframe thead th {\n",
       "        text-align: right;\n",
       "    }\n",
       "</style>\n",
       "<table border=\"1\" class=\"dataframe\">\n",
       "  <thead>\n",
       "    <tr style=\"text-align: right;\">\n",
       "      <th></th>\n",
       "      <th>n_imdb</th>\n",
       "      <th>fandango</th>\n",
       "      <th>n_metascore</th>\n",
       "      <th>n_audience</th>\n",
       "    </tr>\n",
       "  </thead>\n",
       "  <tbody>\n",
       "    <tr>\n",
       "      <th>0</th>\n",
       "      <td>3.60</td>\n",
       "      <td>3.5</td>\n",
       "      <td>3.80</td>\n",
       "      <td>3.95</td>\n",
       "    </tr>\n",
       "    <tr>\n",
       "      <th>1</th>\n",
       "      <td>3.65</td>\n",
       "      <td>4.5</td>\n",
       "      <td>2.40</td>\n",
       "      <td>4.15</td>\n",
       "    </tr>\n",
       "    <tr>\n",
       "      <th>2</th>\n",
       "      <td>3.30</td>\n",
       "      <td>3.0</td>\n",
       "      <td>2.35</td>\n",
       "      <td>2.35</td>\n",
       "    </tr>\n",
       "    <tr>\n",
       "      <th>3</th>\n",
       "      <td>2.60</td>\n",
       "      <td>4.5</td>\n",
       "      <td>2.15</td>\n",
       "      <td>3.80</td>\n",
       "    </tr>\n",
       "    <tr>\n",
       "      <th>4</th>\n",
       "      <td>3.05</td>\n",
       "      <td>3.0</td>\n",
       "      <td>2.90</td>\n",
       "      <td>2.85</td>\n",
       "    </tr>\n",
       "    <tr>\n",
       "      <th>5</th>\n",
       "      <td>3.75</td>\n",
       "      <td>4.0</td>\n",
       "      <td>3.80</td>\n",
       "      <td>4.20</td>\n",
       "    </tr>\n",
       "  </tbody>\n",
       "</table>\n",
       "</div>"
      ],
      "text/plain": [
       "   n_imdb  fandango  n_metascore  n_audience\n",
       "0    3.60       3.5         3.80        3.95\n",
       "1    3.65       4.5         2.40        4.15\n",
       "2    3.30       3.0         2.35        2.35\n",
       "3    2.60       4.5         2.15        3.80\n",
       "4    3.05       3.0         2.90        2.85\n",
       "5    3.75       4.0         3.80        4.20"
      ]
     },
     "execution_count": 80,
     "metadata": {},
     "output_type": "execute_result"
    }
   ],
   "source": [
    "ratings_aft.loc[:5, ['n_imdb', 'fandango', 'n_metascore', 'n_audience']]"
   ]
  },
  {
   "cell_type": "markdown",
   "metadata": {},
   "source": [
    "Storing the normalized columns into support DataFrames - `ratings_norm_bfr` and `ratings_norm_aft`, in order to make a new battery of density kernel plots.\n",
    "\n",
    "Note: Rotten Tomatoes has two normalized ratings in the `ratings_bfr` data set - `RT_norm_round` and `RT_user_norm_round`; we'll use the latter, which is the user score."
   ]
  },
  {
   "cell_type": "code",
   "execution_count": 81,
   "metadata": {},
   "outputs": [],
   "source": [
    "# New 'before' DataFrame with solely the normalized ratings columns.\n",
    "ratings_norm_bfr = ratings_bfr.loc[:, ratings_bfr.columns.str.contains('(?:user_norm_round|Fandango_Stars|IMDB_norm_round)')].copy()\n",
    "\n",
    "ratings_norm_bfr = ratings_norm_bfr.rename(columns={'IMDB_norm_round':'IMDB',\n",
    "                                                    'Fandango_Stars':'Fandango',\n",
    "                                                    'Metacritic_user_norm_round':'Metacritic',\n",
    "                                                    'RT_user_norm_round':'Rotten Tomatoes'\n",
    "                                                    })\n",
    "\n",
    "ratings_norm_bfr = ratings_norm_bfr.reindex(columns=sorted(ratings_norm_bfr.columns))\n",
    "\n",
    "\n",
    "\n",
    "# New 'after' DataFrame with solely the normalized ratings columns.\n",
    "# 'n_audience' is the Rotten Tomatoes normalized user score.\n",
    "ratings_norm_aft = ratings_aft.loc[:, ['n_imdb', 'fandango', 'n_metascore', 'n_audience']].copy()\n",
    "\n",
    "ratings_norm_aft = ratings_norm_aft.rename(columns={'n_imdb':'IMDB',\n",
    "                                                    'fandango':'Fandango',\n",
    "                                                    'n_metascore':'Metacritic',\n",
    "                                                    'n_audience':'Rotten Tomatoes'\n",
    "                                                    })\n"
   ]
  },
  {
   "cell_type": "code",
   "execution_count": 82,
   "metadata": {},
   "outputs": [
    {
     "data": {
      "image/png": "[encoded data removed]",
      "text/plain": [
       "<Figure size 576x432 with 1 Axes>"
      ]
     },
     "metadata": {},
     "output_type": "display_data"
    }
   ],
   "source": [
    "fig, ax = plt.subplots(figsize=(8, 6))\n",
    "\n",
    "# Setting the 'fivethirtyeight' custom style.\n",
    "plt.style.use('fivethirtyeight')\n",
    "  \n",
    "    \n",
    "# Tiles.\n",
    "ax.set_title('Graph 3 - Kernel Density Plots For All Platforms', \n",
    "             size=20,\n",
    "             y=1.15)\n",
    "\n",
    "fig.suptitle('Movies released in 2014 and 2015.', \n",
    "             size=16,\n",
    "             y=1)\n",
    "\n",
    "\n",
    "# Plotting the lines for all platforms.\n",
    "for col in ratings_norm_bfr.columns:\n",
    "    sns.kdeplot(data=ratings_norm_bfr[col], \n",
    "                label=col)\n",
    "\n",
    "    \n",
    "# Normal distribution plot.   \n",
    "sns.kdeplot(data=np.random.normal(loc=2.5, scale=1.0, size=1000),\n",
    "            label='Normal Dist.',\n",
    "            color='purple',\n",
    "            ls='--')   \n",
    "    \n",
    "    \n",
    "# Ticks.\n",
    "ax.set_xticks(np.arange(0, 5.5, 0.5))\n",
    "\n",
    "\n",
    "\n",
    "# Code line to hide the first value - '0', in the y ticks.\n",
    "plt.yticks(np.arange(0.2, 1.0, 0.2))\n",
    "\n",
    "\n",
    "# Labels.\n",
    "ax.set_ylabel('Frequency', position=(0.2, 0.5))\n",
    "\n",
    "ax.set_xlabel('Rating')\n",
    "\n",
    "\n",
    "\n",
    "# Legend setting.\n",
    "\n",
    "plt.legend(bbox_to_anchor=(0.35, 1.01))\n",
    "\n",
    "\n",
    "plt.show()\n"
   ]
  },
  {
   "cell_type": "markdown",
   "metadata": {},
   "source": [
    "Descriptive statistics for all platform ratings: 2014-15. \n"
   ]
  },
  {
   "cell_type": "code",
   "execution_count": 83,
   "metadata": {},
   "outputs": [
    {
     "data": {
      "text/html": [
       "<div>\n",
       "<style scoped>\n",
       "    .dataframe tbody tr th:only-of-type {\n",
       "        vertical-align: middle;\n",
       "    }\n",
       "\n",
       "    .dataframe tbody tr th {\n",
       "        vertical-align: top;\n",
       "    }\n",
       "\n",
       "    .dataframe thead th {\n",
       "        text-align: right;\n",
       "    }\n",
       "</style>\n",
       "<table border=\"1\" class=\"dataframe\">\n",
       "  <thead>\n",
       "    <tr style=\"text-align: right;\">\n",
       "      <th></th>\n",
       "      <th>Fandango</th>\n",
       "      <th>IMDB</th>\n",
       "      <th>Metacritic</th>\n",
       "      <th>Rotten Tomatoes</th>\n",
       "    </tr>\n",
       "  </thead>\n",
       "  <tbody>\n",
       "    <tr>\n",
       "      <th>count</th>\n",
       "      <td>146.00</td>\n",
       "      <td>146.00</td>\n",
       "      <td>146.00</td>\n",
       "      <td>146.00</td>\n",
       "    </tr>\n",
       "    <tr>\n",
       "      <th>mean</th>\n",
       "      <td>4.09</td>\n",
       "      <td>3.38</td>\n",
       "      <td>3.27</td>\n",
       "      <td>3.23</td>\n",
       "    </tr>\n",
       "    <tr>\n",
       "      <th>std</th>\n",
       "      <td>0.54</td>\n",
       "      <td>0.50</td>\n",
       "      <td>0.79</td>\n",
       "      <td>1.01</td>\n",
       "    </tr>\n",
       "    <tr>\n",
       "      <th>min</th>\n",
       "      <td>3.00</td>\n",
       "      <td>2.00</td>\n",
       "      <td>1.00</td>\n",
       "      <td>1.00</td>\n",
       "    </tr>\n",
       "    <tr>\n",
       "      <th>25%</th>\n",
       "      <td>3.50</td>\n",
       "      <td>3.00</td>\n",
       "      <td>3.00</td>\n",
       "      <td>2.50</td>\n",
       "    </tr>\n",
       "    <tr>\n",
       "      <th>50%</th>\n",
       "      <td>4.00</td>\n",
       "      <td>3.50</td>\n",
       "      <td>3.50</td>\n",
       "      <td>3.50</td>\n",
       "    </tr>\n",
       "    <tr>\n",
       "      <th>75%</th>\n",
       "      <td>4.50</td>\n",
       "      <td>3.50</td>\n",
       "      <td>4.00</td>\n",
       "      <td>4.00</td>\n",
       "    </tr>\n",
       "    <tr>\n",
       "      <th>max</th>\n",
       "      <td>5.00</td>\n",
       "      <td>4.50</td>\n",
       "      <td>5.00</td>\n",
       "      <td>4.50</td>\n",
       "    </tr>\n",
       "  </tbody>\n",
       "</table>\n",
       "</div>"
      ],
      "text/plain": [
       "       Fandango    IMDB  Metacritic  Rotten Tomatoes\n",
       "count    146.00  146.00      146.00           146.00\n",
       "mean       4.09    3.38        3.27             3.23\n",
       "std        0.54    0.50        0.79             1.01\n",
       "min        3.00    2.00        1.00             1.00\n",
       "25%        3.50    3.00        3.00             2.50\n",
       "50%        4.00    3.50        3.50             3.50\n",
       "75%        4.50    3.50        4.00             4.00\n",
       "max        5.00    4.50        5.00             4.50"
      ]
     },
     "execution_count": 83,
     "metadata": {},
     "output_type": "execute_result"
    }
   ],
   "source": [
    "ratings_norm_bfr.describe().round(2)"
   ]
  },
  {
   "cell_type": "markdown",
   "metadata": {},
   "source": [
    "According to the Graph 3 and the table above, we can see that:\n",
    "- None of the ratings in the various the platforms is actually close to resemble a normally distributed series (the dashed purple line is a simulation of normally distributed series, similar to the one used in Graph 1).\n",
    "\n",
    "\n",
    "- Fandango distribution seems the most uneven of the group, with 50% of the values being equal or over 4 stars. \n",
    "\n",
    "\n",
    "- Metacritic seems to be the distribution which resembles more a normal distribution, although it has a high mean, 3.27, compared with the expected 2.5; and also has a higher frequency peak (mode) beyond 50% of the total values, when a normal distribution has its peak frequency around 40%. Metacritic is also the only distribution where values span over an extended range, from 1 up to 5 stars.\n",
    "\n",
    "\n",
    "- IMDB distribution seems to have a very similar shape to Fandango's distribution in 2016 (see Graph 1 and Graph 4).\n",
    "\n",
    "\n",
    "- Rotten Tomatoes distribution has the lowest average rating, 3.23, but still shows a noticeable negative skewness. \n",
    "    "
   ]
  },
  {
   "cell_type": "code",
   "execution_count": 84,
   "metadata": {},
   "outputs": [
    {
     "data": {
      "image/png": "[encoded data removed]",
      "text/plain": [
       "<Figure size 576x432 with 1 Axes>"
      ]
     },
     "metadata": {},
     "output_type": "display_data"
    }
   ],
   "source": [
    "fig, ax = plt.subplots(figsize=(8, 6))\n",
    "\n",
    "# Setting the 'fivethirtyeight' custom style.\n",
    "plt.style.use('fivethirtyeight')\n",
    "  \n",
    "    \n",
    "# Tiles.\n",
    "ax.set_title('Graph 4 - Kernel Density Plots For All Platforms', \n",
    "             size=20,\n",
    "             y=1.15)\n",
    "\n",
    "fig.suptitle('Movies released in 2016 and 2017.', \n",
    "             size=16,\n",
    "             y=1)\n",
    "\n",
    "\n",
    "# Plotting the lines for all platforms.\n",
    "for col in ratings_norm_aft.columns:\n",
    "    sns.kdeplot(data=ratings_norm_aft[col], \n",
    "                label=col)\n",
    "\n",
    "\n",
    "# Normal distribution plot.   \n",
    "sns.kdeplot(data=np.random.normal(loc=2.5, scale=1.0, size=1000),\n",
    "            label='Normal Dist.',\n",
    "            color='purple',\n",
    "            ls='--')      \n",
    "\n",
    "# Ticks.\n",
    "ax.set_xticks(np.arange(0, 5.5, 0.5))\n",
    "\n",
    "\n",
    "\n",
    "# Code line to hide the first value - '0', in the y ticks.\n",
    "plt.yticks(np.arange(0.2, 1.0, 0.2))\n",
    "\n",
    "\n",
    "# Labels.\n",
    "ax.set_ylabel('Frequency', position=(0.2, 0.5))\n",
    "\n",
    "ax.set_xlabel('Rating')\n",
    "\n",
    "\n",
    "\n",
    "# Legend setting.\n",
    "\n",
    "plt.legend(bbox_to_anchor=(0.35, 1.01))\n",
    "\n",
    "\n",
    "plt.show()"
   ]
  },
  {
   "cell_type": "markdown",
   "metadata": {},
   "source": [
    "Descriptive statistics for all platform ratings: 2016-17. "
   ]
  },
  {
   "cell_type": "code",
   "execution_count": 85,
   "metadata": {},
   "outputs": [
    {
     "data": {
      "text/html": [
       "<div>\n",
       "<style scoped>\n",
       "    .dataframe tbody tr th:only-of-type {\n",
       "        vertical-align: middle;\n",
       "    }\n",
       "\n",
       "    .dataframe tbody tr th {\n",
       "        vertical-align: top;\n",
       "    }\n",
       "\n",
       "    .dataframe thead th {\n",
       "        text-align: right;\n",
       "    }\n",
       "</style>\n",
       "<table border=\"1\" class=\"dataframe\">\n",
       "  <thead>\n",
       "    <tr style=\"text-align: right;\">\n",
       "      <th></th>\n",
       "      <th>IMDB</th>\n",
       "      <th>Fandango</th>\n",
       "      <th>Metacritic</th>\n",
       "      <th>Rotten Tomatoes</th>\n",
       "    </tr>\n",
       "  </thead>\n",
       "  <tbody>\n",
       "    <tr>\n",
       "      <th>count</th>\n",
       "      <td>214.00</td>\n",
       "      <td>214.00</td>\n",
       "      <td>214.00</td>\n",
       "      <td>214.00</td>\n",
       "    </tr>\n",
       "    <tr>\n",
       "      <th>mean</th>\n",
       "      <td>3.22</td>\n",
       "      <td>3.89</td>\n",
       "      <td>2.66</td>\n",
       "      <td>2.93</td>\n",
       "    </tr>\n",
       "    <tr>\n",
       "      <th>std</th>\n",
       "      <td>0.52</td>\n",
       "      <td>0.52</td>\n",
       "      <td>0.89</td>\n",
       "      <td>1.06</td>\n",
       "    </tr>\n",
       "    <tr>\n",
       "      <th>min</th>\n",
       "      <td>1.75</td>\n",
       "      <td>2.50</td>\n",
       "      <td>0.55</td>\n",
       "      <td>0.55</td>\n",
       "    </tr>\n",
       "    <tr>\n",
       "      <th>25%</th>\n",
       "      <td>2.91</td>\n",
       "      <td>3.50</td>\n",
       "      <td>1.95</td>\n",
       "      <td>2.16</td>\n",
       "    </tr>\n",
       "    <tr>\n",
       "      <th>50%</th>\n",
       "      <td>3.25</td>\n",
       "      <td>4.00</td>\n",
       "      <td>2.68</td>\n",
       "      <td>3.02</td>\n",
       "    </tr>\n",
       "    <tr>\n",
       "      <th>75%</th>\n",
       "      <td>3.60</td>\n",
       "      <td>4.50</td>\n",
       "      <td>3.30</td>\n",
       "      <td>3.84</td>\n",
       "    </tr>\n",
       "    <tr>\n",
       "      <th>max</th>\n",
       "      <td>4.25</td>\n",
       "      <td>5.00</td>\n",
       "      <td>4.95</td>\n",
       "      <td>4.65</td>\n",
       "    </tr>\n",
       "  </tbody>\n",
       "</table>\n",
       "</div>"
      ],
      "text/plain": [
       "         IMDB  Fandango  Metacritic  Rotten Tomatoes\n",
       "count  214.00    214.00      214.00           214.00\n",
       "mean     3.22      3.89        2.66             2.93\n",
       "std      0.52      0.52        0.89             1.06\n",
       "min      1.75      2.50        0.55             0.55\n",
       "25%      2.91      3.50        1.95             2.16\n",
       "50%      3.25      4.00        2.68             3.02\n",
       "75%      3.60      4.50        3.30             3.84\n",
       "max      4.25      5.00        4.95             4.65"
      ]
     },
     "execution_count": 85,
     "metadata": {},
     "output_type": "execute_result"
    }
   ],
   "source": [
    "ratings_norm_aft.describe().round(2)"
   ]
  },
  {
   "cell_type": "markdown",
   "metadata": {},
   "source": [
    "In Graph 4 we see that the Metacritic's is by far the distribution that most resembles a normal distribution, having a mean and a median very close to 2.5 (see table above). On the other hand, Fandango has its distribution the farthest away from a normal distribution shape, having also the highest average rating of the group - 3.89 stars, and a median of 4 stars."
   ]
  },
  {
   "cell_type": "markdown",
   "metadata": {},
   "source": [
    "#### Quick normal distribution test battery for the `ratings_norm_aft` DataFrame.\n",
    "\n",
    "Since Metacritic visually shows a distribution of ratings close to normality, let's perform two tests where the null hypothesis states: 'the data was drawn from a normal distribution'; these are:\n",
    "-  [Shapiro-Wilk test for normality](https://docs.scipy.org/doc/scipy/reference/generated/scipy.stats.shapiro.html?highlight=shapiro)\n",
    "- [Normality test based on D’Agostino and Pearson’s test](https://docs.scipy.org/doc/scipy/reference/generated/scipy.stats.normaltest.html)\n",
    "\n",
    "For both tests, if the p-value of the test statistic is under our threshold, say 5%, we can reject the null hypothesis that the series in question has a normal distribution."
   ]
  },
  {
   "cell_type": "code",
   "execution_count": 86,
   "metadata": {},
   "outputs": [
    {
     "name": "stdout",
     "output_type": "stream",
     "text": [
      "IMDB:\n",
      "shapiro_stat = 0.98, shapiro_p_value = 0.004\n",
      "dagostino_stat = 7.418, dagostino_p_value = 0.025\n",
      "\n",
      "\n",
      "Fandango:\n",
      "shapiro_stat = 0.883, shapiro_p_value = 0.0\n",
      "dagostino_stat = 12.614, dagostino_p_value = 0.002\n",
      "\n",
      "\n",
      "Metacritic:\n",
      "shapiro_stat = 0.989, shapiro_p_value = 0.115\n",
      "dagostino_stat = 7.816, dagostino_p_value = 0.02\n",
      "\n",
      "\n",
      "Rotten Tomatoes:\n",
      "shapiro_stat = 0.966, shapiro_p_value = 0.0\n",
      "dagostino_stat = 26.404, dagostino_p_value = 0.0\n",
      "\n",
      "\n"
     ]
    }
   ],
   "source": [
    "from scipy.stats import shapiro\n",
    "from scipy.stats import normaltest as dagostino\n",
    "\n",
    "for col in ratings_norm_aft.columns:\n",
    "    shapiro_stat, shapiro_p_value = shapiro(ratings_norm_aft[col])\n",
    "    dagostino_stat, dagostino_p_value = dagostino(ratings_norm_aft[col])\n",
    "    shapiro_stat = round(shapiro_stat, 3)\n",
    "    shapiro_p_value = round(shapiro_p_value, 3)\n",
    "    dagostino_stat = round(dagostino_stat, 3)\n",
    "    dagostino_p_value = round(dagostino_p_value, 3)\n",
    "    \n",
    "    print(f'{col}:')\n",
    "    print(f'{shapiro_stat = }, {shapiro_p_value = }')\n",
    "    print(f'{dagostino_stat = }, {dagostino_p_value = }')\n",
    "    print('\\n')"
   ]
  },
  {
   "cell_type": "markdown",
   "metadata": {
    "collapsed": true
   },
   "source": [
    "Looking at the test results, we can see that besides Metacritic, we can reject normality for all series/ratings. For Metacritic, we cannot reject the null hypothesis when using the Shapiro-Wilk test (p-value=0.115), whilst we do so, if we refer to the D'Agostino-Pearson based test (p-value=0.02). In any case, we can confirm that Metacritic is the review platform closest to be unbiased, if we take the resemblance of the ratings distribution to a normal distribution as the defining criterion for unbiasedness. \n",
    "\n",
    "\n",
    "## Conclusion\n",
    "---\n",
    "Given the analysis we conducted here, one can see that all the evidence points towards a dissipation of the excessive number of positive ratings observed at Fandango prior to 2016, at least to a certain extent. This maybe the direct result of Fandango's decision to act upon the rounding-up caveat exposed by the Walt Hickey's article. Still to be explained by Fandango is why there aren't movies with a rating lower than 2.5 stars (2016-2017 ratings) in their sample. Comparing to other movie review platform ratings, we can also conclude that Fandango presents the most inflated values, without us having a reason for that fact. \n",
    "\n",
    "Another interesting fact stems from the fact that Metacritic ratings of 2016-17 resemble somewhat a normal distribution, where average films with a rating around 2.5 stars (normalized to fit a 0 to 5 rating) should be the most frequent movies, while both bad and good films should be increasingly rarer as they tend towards to either mindlessness or excellency, respectively.  "
   ]
  },
  {
   "cell_type": "markdown",
   "metadata": {},
   "source": [
    "### Annex I\n",
    "---"
   ]
  },
  {
   "cell_type": "markdown",
   "metadata": {},
   "source": [
    "Full description of `ratings_bfr`:\n",
    "\n",
    "| **Column**                    | **Definition**|\n",
    "| ----------------------------- |---------------|\n",
    "| FILM                          | The film in question.|\n",
    "| RottenTomatoes                | The Rotten Tomatoes Tomatometer score for the film.|\n",
    "| RottenTomatoes_User          | The Rotten Tomatoes user score for the film.|\n",
    "| Metacritic                    | The Metacritic critic score for the film.|\n",
    "| Metacritic_User              | The Metacritic user score for the film.|\n",
    "| IMDB                          | The IMDb user score for the film.|\n",
    "| Fandango_Stars               | The number of stars the film had on its Fandango movie page.|\n",
    "| Fandango_Ratingvalue         | The Fandango ratingValue for the film, as pulled from the HTML of each page. This is the actual average score the movie obtained. |\n",
    "| RT_norm                      | The Rotten Tomatoes Tomatometer score for the film , normalized to a 0 to 5 point system.|\n",
    "| RT_user_norm                | The Rotten Tomatoes user score for the film , normalized to a 0 to 5 point system.|\n",
    "| Metacritic_norm              | The Metacritic critic score for the film, normalized to a 0 to 5 point system.|\n",
    "| Metacritic_user_nom         | The Metacritic user score for the film, normalized to a 0 to 5 point system.|\n",
    "| IMDB_norm                    | The IMDb user score for the film, normalized to a 0 to 5 point system.|\n",
    "| RT_norm_round               | The Rotten Tomatoes Tomatometer score for the film , normalized to a 0 to 5 point system and rounded to the nearest half-star.|\n",
    "| RT_user_norm_round         | The Rotten Tomatoes user score for the film , normalized to a 0 to 5 point system and rounded to the nearest half-star.|\n",
    "| Metacritic_norm_round       | The Metacritic critic score for the film, normalized to a 0 to 5 point system and rounded to the nearest half-star.|\n",
    "| Metacritic_user_norm_round | The Metacritic user score for the film, normalized to a 0 to 5 point system and rounded to the nearest half-star.|\n",
    "| IMDB_norm_round             | The IMDb user score for the film, normalized to a 0 to 5 point system and rounded to the nearest half-star.|\n",
    "| Metacritic_user_vote_count | The number of user votes the film had on Metacritic.|\n",
    "| IMDB_user_vote_count       | The number of user votes the film had on IMDb.|\n",
    "| Fandango_votes               | The number of user votes the film had on Fandango.|\n",
    "| Fandango_Difference          | The difference between the presented Fandango_Stars and the actual Fandango_Ratingvalue.|"
   ]
  },
  {
   "cell_type": "markdown",
   "metadata": {},
   "source": [
    "Full description of `ratings_aft`:\n",
    "\n",
    "| **Column**    | **Description**                                                                         |\n",
    "| ------------- | --------------------------------------------------------------------------------------- |\n",
    "| movie         | the name of the movie                                                                   |\n",
    "| year          | the release year of the movie                                                           |\n",
    "| metascore     | the Metacritic rating of the movie (the \"metascore\" - critic score)                     |\n",
    "| imdb          | the IMDB rating of the movie (user score)                                               |\n",
    "| tmeter        | the Rotten Tomatoes rating of the movie (the \"tomatometer\" - critic score)              |\n",
    "| audience      | the Rotten Tomatoes rating of the movie (user score)                                    |\n",
    "| fandango      | the Fandango rating of the movie (user score)                                           |\n",
    "| n_metascore  | the metascore normalized to a 0-5 scale                                                 |\n",
    "| n_imdb       | the IMDB rating normalized to a 0-5 scale                                               |\n",
    "| n_tmeter     | the tomatometer normalized to a 0-5 scale                                               |\n",
    "| n_audience   | the Rotten Tomatoes user score normalized to a 0-5 scale                                |\n",
    "| nr_metascore | the metascore normalized to a 0-5 scale and rounded to the nearest 0.5                  |\n",
    "| nr_imdb      | the IMDB rating normalized to a 0-5 scale and rounded to the nearest 0.5                |\n",
    "| nr_tmeter    | the tomatometer normalized to a 0-5 scale and rounded to the nearest 0.5                |\n",
    "| nr_audience  | the Rotten Tomatoes user score normalized to a 0-5 scale and rounded to the nearest 0.5 |"
   ]
  },
  {
   "cell_type": "markdown",
   "metadata": {},
   "source": [
    "\\[End of Project\\]\n",
    "\n",
    "\\***"
   ]
  }
 ],
 "metadata": {
  "hide_input": false,
  "kernelspec": {
   "display_name": "Python 3",
   "language": "python",
   "name": "python3"
  },
  "language_info": {
   "codemirror_mode": {
    "name": "ipython",
    "version": 3
   },
   "file_extension": ".py",
   "mimetype": "text/x-python",
   "name": "python",
   "nbconvert_exporter": "python",
   "pygments_lexer": "ipython3",
   "version": "3.9.2"
  },
  "toc": {
   "base_numbering": "1",
   "nav_menu": {
    "height": "310px",
    "width": "390px"
   },
   "number_sections": true,
   "sideBar": true,
   "skip_h1_title": true,
   "title_cell": "Table of Contents",
   "title_sidebar": "Contents",
   "toc_cell": true,
   "toc_position": {
    "height": "calc(100% - 180px)",
    "left": "10px",
    "top": "150px",
    "width": "221.933px"
   },
   "toc_section_display": true,
   "toc_window_display": true
  },
  "varInspector": {
   "cols": {
    "lenName": 16,
    "lenType": 16,
    "lenVar": 40
   },
   "kernels_config": {
    "python": {
     "delete_cmd_postfix": "",
     "delete_cmd_prefix": "del ",
     "library": "var_list.py",
     "varRefreshCmd": "print(var_dic_list())"
    },
    "r": {
     "delete_cmd_postfix": ") ",
     "delete_cmd_prefix": "rm(",
     "library": "var_list.r",
     "varRefreshCmd": "cat(var_dic_list()) "
    }
   },
   "types_to_exclude": [
    "module",
    "function",
    "builtin_function_or_method",
    "instance",
    "_Feature"
   ],
   "window_display": false
  }
 },
 "nbformat": 4,
 "nbformat_minor": 2
}
