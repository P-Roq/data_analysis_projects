{
 "cells": [
  {
   "cell_type": "markdown",
   "metadata": {
    "collapsed": true
   },
   "source": [
    "# Guided Project 9 - Investigating Fandango Movie Ratings"
   ]
  },
  {
   "cell_type": "markdown",
   "metadata": {
    "toc": true
   },
   "source": [
    "<h1>Table of Contents<span class=\"tocSkip\"></span></h1>\n",
    "<div class=\"toc\"><ul class=\"toc-item\"><li><span><a href=\"#Introduction\" data-toc-modified-id=\"Introduction-1\"><span class=\"toc-item-num\">1&nbsp;&nbsp;</span>Introduction</a></span></li><li><span><a href=\"#Data\" data-toc-modified-id=\"Data-2\"><span class=\"toc-item-num\">2&nbsp;&nbsp;</span>Data</a></span><ul class=\"toc-item\"><li><span><a href=\"#First-Assessment\" data-toc-modified-id=\"First-Assessment-2.1\"><span class=\"toc-item-num\">2.1&nbsp;&nbsp;</span>First Assessment</a></span></li><li><span><a href=\"#Refining-the-Focus-of-the-Analysis\" data-toc-modified-id=\"Refining-the-Focus-of-the-Analysis-2.2\"><span class=\"toc-item-num\">2.2&nbsp;&nbsp;</span>Refining the Focus of the Analysis</a></span><ul class=\"toc-item\"><li><span><a href=\"#Can-we-be-sure-that-2016-17-data-set-contains-only-popular-movies?\" data-toc-modified-id=\"Can-we-be-sure-that-2016-17-data-set-contains-only-popular-movies?-2.2.1\"><span class=\"toc-item-num\">2.2.1&nbsp;&nbsp;</span>Can we be sure that 2016-17 data set contains only popular movies?</a></span></li></ul></li></ul></li><li><span><a href=\"#Data-Analysis\" data-toc-modified-id=\"Data-Analysis-3\"><span class=\"toc-item-num\">3&nbsp;&nbsp;</span>Data Analysis</a></span><ul class=\"toc-item\"><li><span><a href=\"#Frequency-Distributions\" data-toc-modified-id=\"Frequency-Distributions-3.1\"><span class=\"toc-item-num\">3.1&nbsp;&nbsp;</span>Frequency Distributions</a></span></li><li><span><a href=\"#Skewness-and-Descriptive-Statistics\" data-toc-modified-id=\"Skewness-and-Descriptive-Statistics-3.2\"><span class=\"toc-item-num\">3.2&nbsp;&nbsp;</span>Skewness and Descriptive Statistics</a></span></li><li><span><a href=\"#Comparison-between-movie-rating-platforms\" data-toc-modified-id=\"Comparison-between-movie-rating-platforms-3.3\"><span class=\"toc-item-num\">3.3&nbsp;&nbsp;</span>Comparison between movie rating platforms</a></span></li></ul></li><li><span><a href=\"#Conclusion\" data-toc-modified-id=\"Conclusion-4\"><span class=\"toc-item-num\">4&nbsp;&nbsp;</span>Conclusion</a></span><ul class=\"toc-item\"><li><span><a href=\"#Annex\" data-toc-modified-id=\"Annex-4.1\"><span class=\"toc-item-num\">4.1&nbsp;&nbsp;</span>Annex</a></span></li></ul></li></ul></div>"
   ]
  },
  {
   "cell_type": "markdown",
   "metadata": {},
   "source": [
    "## Introduction \n",
    "\n",
    "\n",
    "In October 2015, Walt Hickey, a journalist associated to the [FiveThirtyEight](https://fivethirtyeight.com/features/fandango-movies-ratings/) media outlet, found evidence that movie ratings at [Fandango](https://www.fandango.com/) were biased; according to the author, this bias was achieved mainly through how Fandango decided to round the final ratings presented to the public, e.g. if a movie rated at 4.1, it would be rated in a final score with 4.5 stars in the scale, instead of 4. This method resulted in the overall inflation of the selection of movies reviewed in this platform. \n",
    "\n",
    "Responsibles at Fandango replied to the article, promising to solve that inconsistency. A few years have passed since then, so it may be interesting to determine whether we can still verify some sort of bias from Fandango ratings, or the company really attempted to solve the issue. \n",
    "\n",
    "\n",
    "\n",
    "## Data\n",
    "\n",
    "To this end, we'll need information about the Fandango's movie ratings from before and after the FiveThirtyEight's release of the exposing article, in order to conduct a comparison. For the 'before' we resort to the [Walt Hickey's archives](https://github.com/fivethirtyeight/data/tree/master/fandango) on GitHub, while for the 'after' we kindly thank the Dataquest team for providing analogous [information](https://github.com/mircealex/Movie_ratings_2016_17) regarding movie ratings released in 2016 and 2017. "
   ]
  },
  {
   "cell_type": "code",
   "execution_count": 2,
   "metadata": {},
   "outputs": [],
   "source": [
    "# Importing libraries.\n",
    "\n",
    "import numpy as np\n",
    "import pandas as pd\n",
    "import re\n",
    "import matplotlib.pyplot as plt\n",
    "import seaborn as sns\n",
    "\n",
    "%matplotlib inline"
   ]
  },
  {
   "cell_type": "code",
   "execution_count": 3,
   "metadata": {},
   "outputs": [],
   "source": [
    "# Walt Hickey's initial data set.\n",
    "ratings_bfr_full = pd.read_csv('fandango_score_comparison.csv').rename(columns={'FILM':'MOVIE'})\n",
    "\n",
    "# Dataquest's 2016-17 data set.\n",
    "ratings_aft_full = pd.read_csv('movie_ratings_16_17.csv')"
   ]
  },
  {
   "cell_type": "markdown",
   "metadata": {},
   "source": [
    "### First Assessment\n",
    "\n",
    "From the data sets above we'll only work with a few columns:\n",
    "\n",
    "From ratings_bfr_full:\n",
    "\n",
    "| Column  | Definition |         \n",
    "|--------|----------|\n",
    "| MOVIE | The movie in question|\n",
    "|Fandango_Stars |The number of stars the movie had on its Fandango movie page|\n",
    "|Fandango_Ratingvalue|The Fandango ratingValue for the movie, as pulled from the HTML of each page. <br> This is the actual average rating the movie obtained.|\n",
    "|Fandango_votes |The number of user votes the movie had on Fandango|\n",
    "|Fandango_Difference |The difference between the presented Fandango_Stars and the actual Fandango_Ratingvalue |\n",
    "\n",
    "\n",
    "From ratings_aft_full:\n",
    "\n",
    "|Column              |Description                                                                                                                      |\n",
    "|--------------------|---------------------------------------------------------------------------------------------------------------------------------|\n",
    "|movie               |the name of the movie                                                                                                            |\n",
    "|year                |the release year of the movie                                                                                                    |\n",
    "|fandango            |the Fandango rating of the movie (user rating)                                                                                    |"
   ]
  },
  {
   "cell_type": "code",
   "execution_count": 4,
   "metadata": {},
   "outputs": [],
   "source": [
    "# sliced versions according to the tables above.\n",
    "\n",
    "ratings_bfr = ratings_bfr_full[['MOVIE', 'Fandango_Stars', 'Fandango_Ratingvalue', 'Fandango_votes', 'Fandango_Difference']].copy()\n",
    "\n",
    "ratings_aft = ratings_aft_full[['movie', 'year', 'fandango']].copy()"
   ]
  },
  {
   "cell_type": "markdown",
   "metadata": {},
   "source": [
    "A quick look at the dataframes: "
   ]
  },
  {
   "cell_type": "code",
   "execution_count": 5,
   "metadata": {},
   "outputs": [
    {
     "data": {
      "text/html": [
       "<div>\n",
       "<style scoped>\n",
       "    .dataframe tbody tr th:only-of-type {\n",
       "        vertical-align: middle;\n",
       "    }\n",
       "\n",
       "    .dataframe tbody tr th {\n",
       "        vertical-align: top;\n",
       "    }\n",
       "\n",
       "    .dataframe thead th {\n",
       "        text-align: right;\n",
       "    }\n",
       "</style>\n",
       "<table border=\"1\" class=\"dataframe\">\n",
       "  <thead>\n",
       "    <tr style=\"text-align: right;\">\n",
       "      <th></th>\n",
       "      <th>MOVIE</th>\n",
       "      <th>Fandango_Stars</th>\n",
       "      <th>Fandango_Ratingvalue</th>\n",
       "      <th>Fandango_votes</th>\n",
       "      <th>Fandango_Difference</th>\n",
       "    </tr>\n",
       "  </thead>\n",
       "  <tbody>\n",
       "    <tr>\n",
       "      <th>0</th>\n",
       "      <td>Avengers: Age of Ultron (2015)</td>\n",
       "      <td>5.0</td>\n",
       "      <td>4.5</td>\n",
       "      <td>14846</td>\n",
       "      <td>0.5</td>\n",
       "    </tr>\n",
       "    <tr>\n",
       "      <th>1</th>\n",
       "      <td>Cinderella (2015)</td>\n",
       "      <td>5.0</td>\n",
       "      <td>4.5</td>\n",
       "      <td>12640</td>\n",
       "      <td>0.5</td>\n",
       "    </tr>\n",
       "    <tr>\n",
       "      <th>2</th>\n",
       "      <td>Ant-Man (2015)</td>\n",
       "      <td>5.0</td>\n",
       "      <td>4.5</td>\n",
       "      <td>12055</td>\n",
       "      <td>0.5</td>\n",
       "    </tr>\n",
       "  </tbody>\n",
       "</table>\n",
       "</div>"
      ],
      "text/plain": [
       "                            MOVIE  Fandango_Stars  Fandango_Ratingvalue  \\\n",
       "0  Avengers: Age of Ultron (2015)             5.0                   4.5   \n",
       "1               Cinderella (2015)             5.0                   4.5   \n",
       "2                  Ant-Man (2015)             5.0                   4.5   \n",
       "\n",
       "   Fandango_votes  Fandango_Difference  \n",
       "0           14846                  0.5  \n",
       "1           12640                  0.5  \n",
       "2           12055                  0.5  "
      ]
     },
     "execution_count": 5,
     "metadata": {},
     "output_type": "execute_result"
    }
   ],
   "source": [
    "ratings_bfr.head(3)"
   ]
  },
  {
   "cell_type": "code",
   "execution_count": 6,
   "metadata": {},
   "outputs": [
    {
     "data": {
      "text/html": [
       "<div>\n",
       "<style scoped>\n",
       "    .dataframe tbody tr th:only-of-type {\n",
       "        vertical-align: middle;\n",
       "    }\n",
       "\n",
       "    .dataframe tbody tr th {\n",
       "        vertical-align: top;\n",
       "    }\n",
       "\n",
       "    .dataframe thead th {\n",
       "        text-align: right;\n",
       "    }\n",
       "</style>\n",
       "<table border=\"1\" class=\"dataframe\">\n",
       "  <thead>\n",
       "    <tr style=\"text-align: right;\">\n",
       "      <th></th>\n",
       "      <th>movie</th>\n",
       "      <th>year</th>\n",
       "      <th>fandango</th>\n",
       "    </tr>\n",
       "  </thead>\n",
       "  <tbody>\n",
       "    <tr>\n",
       "      <th>0</th>\n",
       "      <td>10 Cloverfield Lane</td>\n",
       "      <td>2016</td>\n",
       "      <td>3.5</td>\n",
       "    </tr>\n",
       "    <tr>\n",
       "      <th>1</th>\n",
       "      <td>13 Hours</td>\n",
       "      <td>2016</td>\n",
       "      <td>4.5</td>\n",
       "    </tr>\n",
       "    <tr>\n",
       "      <th>2</th>\n",
       "      <td>A Cure for Wellness</td>\n",
       "      <td>2016</td>\n",
       "      <td>3.0</td>\n",
       "    </tr>\n",
       "  </tbody>\n",
       "</table>\n",
       "</div>"
      ],
      "text/plain": [
       "                 movie  year  fandango\n",
       "0  10 Cloverfield Lane  2016       3.5\n",
       "1             13 Hours  2016       4.5\n",
       "2  A Cure for Wellness  2016       3.0"
      ]
     },
     "execution_count": 6,
     "metadata": {},
     "output_type": "execute_result"
    }
   ],
   "source": [
    "ratings_aft.head(3)"
   ]
  },
  {
   "cell_type": "markdown",
   "metadata": {},
   "source": [
    "As we can see `ratings_bfr['MOVIE']` contains both the title of each movies but also the year of release. Below we separate these two elements for each movie/row."
   ]
  },
  {
   "cell_type": "code",
   "execution_count": 7,
   "metadata": {},
   "outputs": [
    {
     "data": {
      "text/html": [
       "<div>\n",
       "<style scoped>\n",
       "    .dataframe tbody tr th:only-of-type {\n",
       "        vertical-align: middle;\n",
       "    }\n",
       "\n",
       "    .dataframe tbody tr th {\n",
       "        vertical-align: top;\n",
       "    }\n",
       "\n",
       "    .dataframe thead th {\n",
       "        text-align: right;\n",
       "    }\n",
       "</style>\n",
       "<table border=\"1\" class=\"dataframe\">\n",
       "  <thead>\n",
       "    <tr style=\"text-align: right;\">\n",
       "      <th></th>\n",
       "      <th>MOVIE</th>\n",
       "      <th>YEAR</th>\n",
       "    </tr>\n",
       "  </thead>\n",
       "  <tbody>\n",
       "    <tr>\n",
       "      <th>0</th>\n",
       "      <td>Avengers: Age of Ultron</td>\n",
       "      <td>2015</td>\n",
       "    </tr>\n",
       "    <tr>\n",
       "      <th>1</th>\n",
       "      <td>Cinderella</td>\n",
       "      <td>2015</td>\n",
       "    </tr>\n",
       "    <tr>\n",
       "      <th>2</th>\n",
       "      <td>Ant-Man</td>\n",
       "      <td>2015</td>\n",
       "    </tr>\n",
       "    <tr>\n",
       "      <th>3</th>\n",
       "      <td>Do You Believe?</td>\n",
       "      <td>2015</td>\n",
       "    </tr>\n",
       "    <tr>\n",
       "      <th>4</th>\n",
       "      <td>Hot Tub Time Machine 2</td>\n",
       "      <td>2015</td>\n",
       "    </tr>\n",
       "  </tbody>\n",
       "</table>\n",
       "</div>"
      ],
      "text/plain": [
       "                     MOVIE  YEAR\n",
       "0  Avengers: Age of Ultron  2015\n",
       "1               Cinderella  2015\n",
       "2                  Ant-Man  2015\n",
       "3          Do You Believe?  2015\n",
       "4   Hot Tub Time Machine 2  2015"
      ]
     },
     "execution_count": 7,
     "metadata": {},
     "output_type": "execute_result"
    }
   ],
   "source": [
    "ratings_bfr_MOVIE_splited = ratings_bfr['MOVIE'].str.split(pat=' \\(', expand=True)\n",
    "\n",
    "ratings_bfr_MOVIE_splited = ratings_bfr_MOVIE_splited.rename(columns={0:'MOVIE', 1:'YEAR'})\n",
    "\n",
    "ratings_bfr_MOVIE_splited['YEAR'] = ratings_bfr_MOVIE_splited['YEAR'].str.replace('\\)', '', regex=True)\n",
    "\n",
    "ratings_bfr_MOVIE_splited = ratings_bfr_MOVIE_splited.astype({'YEAR':'int'})\n",
    "\n",
    "ratings_bfr_MOVIE_splited.head()"
   ]
  },
  {
   "cell_type": "markdown",
   "metadata": {},
   "source": [
    "Replacing and including `ratings_bfr_MOVIE_splited` in ratings_bfr:"
   ]
  },
  {
   "cell_type": "code",
   "execution_count": 8,
   "metadata": {},
   "outputs": [],
   "source": [
    "ratings_bfr['MOVIE'] = ratings_bfr_MOVIE_splited['MOVIE']\n",
    "\n",
    "ratings_bfr = ratings_bfr.join(ratings_bfr_MOVIE_splited['YEAR'])"
   ]
  },
  {
   "cell_type": "code",
   "execution_count": 9,
   "metadata": {},
   "outputs": [
    {
     "data": {
      "text/html": [
       "<div>\n",
       "<style scoped>\n",
       "    .dataframe tbody tr th:only-of-type {\n",
       "        vertical-align: middle;\n",
       "    }\n",
       "\n",
       "    .dataframe tbody tr th {\n",
       "        vertical-align: top;\n",
       "    }\n",
       "\n",
       "    .dataframe thead th {\n",
       "        text-align: right;\n",
       "    }\n",
       "</style>\n",
       "<table border=\"1\" class=\"dataframe\">\n",
       "  <thead>\n",
       "    <tr style=\"text-align: right;\">\n",
       "      <th></th>\n",
       "      <th>MOVIE</th>\n",
       "      <th>Fandango_Stars</th>\n",
       "      <th>Fandango_Ratingvalue</th>\n",
       "      <th>Fandango_votes</th>\n",
       "      <th>Fandango_Difference</th>\n",
       "      <th>YEAR</th>\n",
       "    </tr>\n",
       "  </thead>\n",
       "  <tbody>\n",
       "    <tr>\n",
       "      <th>0</th>\n",
       "      <td>Avengers: Age of Ultron</td>\n",
       "      <td>5.0</td>\n",
       "      <td>4.5</td>\n",
       "      <td>14846</td>\n",
       "      <td>0.5</td>\n",
       "      <td>2015</td>\n",
       "    </tr>\n",
       "  </tbody>\n",
       "</table>\n",
       "</div>"
      ],
      "text/plain": [
       "                     MOVIE  Fandango_Stars  Fandango_Ratingvalue  \\\n",
       "0  Avengers: Age of Ultron             5.0                   4.5   \n",
       "\n",
       "   Fandango_votes  Fandango_Difference  YEAR  \n",
       "0           14846                  0.5  2015  "
      ]
     },
     "execution_count": 9,
     "metadata": {},
     "output_type": "execute_result"
    }
   ],
   "source": [
    "# checking changes\n",
    "ratings_bfr.head(1)"
   ]
  },
  {
   "cell_type": "markdown",
   "metadata": {},
   "source": [
    "For reference, below are shown the the number of null vales and basic statistics on these two data sets."
   ]
  },
  {
   "cell_type": "code",
   "execution_count": 10,
   "metadata": {},
   "outputs": [
    {
     "data": {
      "text/plain": [
       "MOVIE                   0\n",
       "Fandango_Stars          0\n",
       "Fandango_Ratingvalue    0\n",
       "Fandango_votes          0\n",
       "Fandango_Difference     0\n",
       "YEAR                    0\n",
       "dtype: int64"
      ]
     },
     "execution_count": 10,
     "metadata": {},
     "output_type": "execute_result"
    }
   ],
   "source": [
    "ratings_bfr.isna().sum()"
   ]
  },
  {
   "cell_type": "code",
   "execution_count": 11,
   "metadata": {},
   "outputs": [
    {
     "data": {
      "text/plain": [
       "movie       0\n",
       "year        0\n",
       "fandango    0\n",
       "dtype: int64"
      ]
     },
     "execution_count": 11,
     "metadata": {},
     "output_type": "execute_result"
    }
   ],
   "source": [
    "ratings_aft.isna().sum()"
   ]
  },
  {
   "cell_type": "code",
   "execution_count": 12,
   "metadata": {},
   "outputs": [
    {
     "name": "stdout",
     "output_type": "stream",
     "text": [
      "<class 'pandas.core.frame.DataFrame'>\n",
      "RangeIndex: 146 entries, 0 to 145\n",
      "Data columns (total 6 columns):\n",
      " #   Column                Non-Null Count  Dtype  \n",
      "---  ------                --------------  -----  \n",
      " 0   MOVIE                 146 non-null    object \n",
      " 1   Fandango_Stars        146 non-null    float64\n",
      " 2   Fandango_Ratingvalue  146 non-null    float64\n",
      " 3   Fandango_votes        146 non-null    int64  \n",
      " 4   Fandango_Difference   146 non-null    float64\n",
      " 5   YEAR                  146 non-null    int32  \n",
      "dtypes: float64(3), int32(1), int64(1), object(1)\n",
      "memory usage: 5.8+ KB\n"
     ]
    }
   ],
   "source": [
    "ratings_bfr.info()"
   ]
  },
  {
   "cell_type": "code",
   "execution_count": 13,
   "metadata": {},
   "outputs": [
    {
     "name": "stdout",
     "output_type": "stream",
     "text": [
      "<class 'pandas.core.frame.DataFrame'>\n",
      "RangeIndex: 214 entries, 0 to 213\n",
      "Data columns (total 3 columns):\n",
      " #   Column    Non-Null Count  Dtype  \n",
      "---  ------    --------------  -----  \n",
      " 0   movie     214 non-null    object \n",
      " 1   year      214 non-null    int64  \n",
      " 2   fandango  214 non-null    float64\n",
      "dtypes: float64(1), int64(1), object(1)\n",
      "memory usage: 4.2+ KB\n"
     ]
    }
   ],
   "source": [
    "ratings_aft.info()"
   ]
  },
  {
   "cell_type": "code",
   "execution_count": 14,
   "metadata": {
    "scrolled": true
   },
   "outputs": [
    {
     "data": {
      "text/html": [
       "<div>\n",
       "<style scoped>\n",
       "    .dataframe tbody tr th:only-of-type {\n",
       "        vertical-align: middle;\n",
       "    }\n",
       "\n",
       "    .dataframe tbody tr th {\n",
       "        vertical-align: top;\n",
       "    }\n",
       "\n",
       "    .dataframe thead th {\n",
       "        text-align: right;\n",
       "    }\n",
       "</style>\n",
       "<table border=\"1\" class=\"dataframe\">\n",
       "  <thead>\n",
       "    <tr style=\"text-align: right;\">\n",
       "      <th></th>\n",
       "      <th>Fandango_Stars</th>\n",
       "      <th>Fandango_Ratingvalue</th>\n",
       "      <th>Fandango_votes</th>\n",
       "      <th>Fandango_Difference</th>\n",
       "      <th>YEAR</th>\n",
       "    </tr>\n",
       "  </thead>\n",
       "  <tbody>\n",
       "    <tr>\n",
       "      <th>count</th>\n",
       "      <td>146.000000</td>\n",
       "      <td>146.000000</td>\n",
       "      <td>146.000000</td>\n",
       "      <td>146.000000</td>\n",
       "      <td>146.000000</td>\n",
       "    </tr>\n",
       "    <tr>\n",
       "      <th>mean</th>\n",
       "      <td>4.089041</td>\n",
       "      <td>3.845205</td>\n",
       "      <td>3848.787671</td>\n",
       "      <td>0.243836</td>\n",
       "      <td>2014.883562</td>\n",
       "    </tr>\n",
       "    <tr>\n",
       "      <th>std</th>\n",
       "      <td>0.540386</td>\n",
       "      <td>0.502831</td>\n",
       "      <td>6357.778617</td>\n",
       "      <td>0.152665</td>\n",
       "      <td>0.321854</td>\n",
       "    </tr>\n",
       "    <tr>\n",
       "      <th>min</th>\n",
       "      <td>3.000000</td>\n",
       "      <td>2.700000</td>\n",
       "      <td>35.000000</td>\n",
       "      <td>0.000000</td>\n",
       "      <td>2014.000000</td>\n",
       "    </tr>\n",
       "    <tr>\n",
       "      <th>25%</th>\n",
       "      <td>3.500000</td>\n",
       "      <td>3.500000</td>\n",
       "      <td>222.250000</td>\n",
       "      <td>0.100000</td>\n",
       "      <td>2015.000000</td>\n",
       "    </tr>\n",
       "    <tr>\n",
       "      <th>50%</th>\n",
       "      <td>4.000000</td>\n",
       "      <td>3.900000</td>\n",
       "      <td>1446.000000</td>\n",
       "      <td>0.200000</td>\n",
       "      <td>2015.000000</td>\n",
       "    </tr>\n",
       "    <tr>\n",
       "      <th>75%</th>\n",
       "      <td>4.500000</td>\n",
       "      <td>4.200000</td>\n",
       "      <td>4439.500000</td>\n",
       "      <td>0.400000</td>\n",
       "      <td>2015.000000</td>\n",
       "    </tr>\n",
       "    <tr>\n",
       "      <th>max</th>\n",
       "      <td>5.000000</td>\n",
       "      <td>4.800000</td>\n",
       "      <td>34846.000000</td>\n",
       "      <td>0.500000</td>\n",
       "      <td>2015.000000</td>\n",
       "    </tr>\n",
       "  </tbody>\n",
       "</table>\n",
       "</div>"
      ],
      "text/plain": [
       "       Fandango_Stars  Fandango_Ratingvalue  Fandango_votes  \\\n",
       "count      146.000000            146.000000      146.000000   \n",
       "mean         4.089041              3.845205     3848.787671   \n",
       "std          0.540386              0.502831     6357.778617   \n",
       "min          3.000000              2.700000       35.000000   \n",
       "25%          3.500000              3.500000      222.250000   \n",
       "50%          4.000000              3.900000     1446.000000   \n",
       "75%          4.500000              4.200000     4439.500000   \n",
       "max          5.000000              4.800000    34846.000000   \n",
       "\n",
       "       Fandango_Difference         YEAR  \n",
       "count           146.000000   146.000000  \n",
       "mean              0.243836  2014.883562  \n",
       "std               0.152665     0.321854  \n",
       "min               0.000000  2014.000000  \n",
       "25%               0.100000  2015.000000  \n",
       "50%               0.200000  2015.000000  \n",
       "75%               0.400000  2015.000000  \n",
       "max               0.500000  2015.000000  "
      ]
     },
     "execution_count": 14,
     "metadata": {},
     "output_type": "execute_result"
    }
   ],
   "source": [
    "ratings_bfr.describe()"
   ]
  },
  {
   "cell_type": "code",
   "execution_count": 15,
   "metadata": {
    "scrolled": true
   },
   "outputs": [
    {
     "data": {
      "text/html": [
       "<div>\n",
       "<style scoped>\n",
       "    .dataframe tbody tr th:only-of-type {\n",
       "        vertical-align: middle;\n",
       "    }\n",
       "\n",
       "    .dataframe tbody tr th {\n",
       "        vertical-align: top;\n",
       "    }\n",
       "\n",
       "    .dataframe thead th {\n",
       "        text-align: right;\n",
       "    }\n",
       "</style>\n",
       "<table border=\"1\" class=\"dataframe\">\n",
       "  <thead>\n",
       "    <tr style=\"text-align: right;\">\n",
       "      <th></th>\n",
       "      <th>year</th>\n",
       "      <th>fandango</th>\n",
       "    </tr>\n",
       "  </thead>\n",
       "  <tbody>\n",
       "    <tr>\n",
       "      <th>count</th>\n",
       "      <td>214.000000</td>\n",
       "      <td>214.000000</td>\n",
       "    </tr>\n",
       "    <tr>\n",
       "      <th>mean</th>\n",
       "      <td>2016.107477</td>\n",
       "      <td>3.894860</td>\n",
       "    </tr>\n",
       "    <tr>\n",
       "      <th>std</th>\n",
       "      <td>0.310444</td>\n",
       "      <td>0.516781</td>\n",
       "    </tr>\n",
       "    <tr>\n",
       "      <th>min</th>\n",
       "      <td>2016.000000</td>\n",
       "      <td>2.500000</td>\n",
       "    </tr>\n",
       "    <tr>\n",
       "      <th>25%</th>\n",
       "      <td>2016.000000</td>\n",
       "      <td>3.500000</td>\n",
       "    </tr>\n",
       "    <tr>\n",
       "      <th>50%</th>\n",
       "      <td>2016.000000</td>\n",
       "      <td>4.000000</td>\n",
       "    </tr>\n",
       "    <tr>\n",
       "      <th>75%</th>\n",
       "      <td>2016.000000</td>\n",
       "      <td>4.500000</td>\n",
       "    </tr>\n",
       "    <tr>\n",
       "      <th>max</th>\n",
       "      <td>2017.000000</td>\n",
       "      <td>5.000000</td>\n",
       "    </tr>\n",
       "  </tbody>\n",
       "</table>\n",
       "</div>"
      ],
      "text/plain": [
       "              year    fandango\n",
       "count   214.000000  214.000000\n",
       "mean   2016.107477    3.894860\n",
       "std       0.310444    0.516781\n",
       "min    2016.000000    2.500000\n",
       "25%    2016.000000    3.500000\n",
       "50%    2016.000000    4.000000\n",
       "75%    2016.000000    4.500000\n",
       "max    2017.000000    5.000000"
      ]
     },
     "execution_count": 15,
     "metadata": {},
     "output_type": "execute_result"
    }
   ],
   "source": [
    "ratings_aft.describe()"
   ]
  },
  {
   "cell_type": "markdown",
   "metadata": {
    "collapsed": true
   },
   "source": [
    "### Refining the Focus of the Analysis\n",
    "\n",
    "When approaching this research, a first caveat stems from the fact that the 'before' and 'after' data sets do not overlap, i.e. we cannot check if movies released prior to 2016 had their ratings corrected subsequently, since the 'after' data set is only comprised of movies released during 2016 and 2017. \n",
    "\n",
    "In order to circumvent this problem we can still compare the frequency distributions across different years or among rating platforms - Fandango, IMDB, Rotten Tomatoes and Metacritic.  \n",
    "\n",
    "Also, being the main idea of this analysis to generalize about Fandango's rating system as whole, it is necessary to define the data at our disposal. These data sets aren't actually comprised of all the movies rated at Fandango but rather samples that obey to a slightly different criteria, established by their authors, that they implemented in order to include or exclude movies from these representative samples. The main idea of that criterion is that movies with a very low number of user voters weren't suitable, for various reasons pointed out by the authors in their articles, and could distort, rather than help, to clarify the presence of bias:\n",
    "\n",
    "- 'before' data set (by Walt Hickey): ['contains every movie (...) at least 30 fan reviews on Fandango'.](https://github.com/fivethirtyeight/data/blob/master/fandango/README.md)\n",
    "\n",
    "\n",
    "- 'after' data set (by Alex Olteanu): ['I have collected ratings for some of the most voted and reviewed movies in 2016 and 2017.'](https://www.freecodecamp.org/news/whose-reviews-should-you-trust-imdb-rotten-tomatoes-metacritic-or-fandango-7d1010c6cf19/)\n",
    "\n",
    "\n",
    "**Addressing the lack of information on the criterion that defines the 'after' data set.**\n",
    "\n",
    "\n",
    "As we can read above, the criterion applied to the 'after' data set is ambiguous and if not further specified, can cast a shadow over the validity of the sample. For the author of the 'after' data set what constitutes the 'most voted and reviewed movies in 2016?' To the researcher, there are a few options that have their pros and cons:\n",
    "\n",
    "| Option          |   Pros         | Cons   |\n",
    "|-----------------|---------------|--------|\n",
    "| Ask the author for clarification.| Best - clears any doubts. |  Depends on the willing of the author to respond; possibly time consuming. |\n",
    "| Scrape the desired data. | Very Good - clears any doubts; this proxy data is now the latest up to date (the number of user reviews). | Time consuming; depends on the hosts - movie rating platforms, to be kind enough to allow the scraping of the desired info.|\n",
    "|Look for other scrap works on the subject. | O.K. - Given a few restrictions - the date of the scrap, we may find the number of user reviews for the same movies in our data set.  | Lucky to find similar data sets. Watch out time discrepancies - if our data is from 2018, the closest the other scraps were made the better: it is more likely that the user ratings are similar.|\n",
    "| Search manually for a sample of user ratings at Fandango to infer about the movies' popularity. | Less O.K. - last resort. | The power of inference is weak if the sample is small. There is a time discrepancy - the number of reviews is up to date but we are inferring about information collected in 2018; time consuming.|\n",
    "\n",
    "Lucky enough, to shorten the time of the analysis, we can resort to a similar data set provided by the same author that created the 'after' data set - Alex Olteanu. This is a good starting point to assess the popularity levels (number of user reviews) of the 'after' data set because:\n",
    "\n",
    "- the data was provided by the same author, so it can bare some resemblances with the information in the 'after' data set;\n",
    "\n",
    "\n",
    "- from his [GitHub archive](https://github.com/mircealex/Scraped_dataset_movie_ratings) we know that the author compiled a data set on IMDB's movie ratings, uploaded on Jul 31, 2017, which is very close to when the 'after' date set was set as up to date: March 22, 2017. \n",
    "\n",
    "\n",
    "- the data collected was for movies released from 2000 to 2017, which coincides we the 'after' data set (2016 and 2017).\n",
    "\n",
    "\n",
    "- because the information was collected from IDMB, including their user ratings records, we can assume that the level of movies' popularity is similar to the one presented in Fandango, and thus we can take some conclusions about the popularity of the movies analyzed.\n",
    "\n",
    "\n",
    "- there's still a discrepancy: the 'before' data set is comprised of movies with lots of reviews; the 'after' data set excludes movies with very low reviews (30 or less). \n",
    "\n",
    "To summarize, **we define our samples as a representation of movies of relevant popularity at Fandango**. We define these movies as 'relevant' because we are only excluding movies with a very low number of reviews in both data sets."
   ]
  },
  {
   "cell_type": "markdown",
   "metadata": {},
   "source": [
    "#### Can we be sure that 2016-17 data set contains only popular movies?\n",
    "\n",
    "Let's take the IMDB 2000-2017 data set, withdraw the movies that are also in the 'after' data set (`ratings_aft`) and check number of user ratings for each movie. "
   ]
  },
  {
   "cell_type": "code",
   "execution_count": 16,
   "metadata": {},
   "outputs": [],
   "source": [
    "# the proxy data set\n",
    "imdb_ratings = pd.read_csv('movie_ratings_2000_17.csv')"
   ]
  },
  {
   "cell_type": "code",
   "execution_count": 17,
   "metadata": {},
   "outputs": [
    {
     "data": {
      "text/html": [
       "<div>\n",
       "<style scoped>\n",
       "    .dataframe tbody tr th:only-of-type {\n",
       "        vertical-align: middle;\n",
       "    }\n",
       "\n",
       "    .dataframe tbody tr th {\n",
       "        vertical-align: top;\n",
       "    }\n",
       "\n",
       "    .dataframe thead th {\n",
       "        text-align: right;\n",
       "    }\n",
       "</style>\n",
       "<table border=\"1\" class=\"dataframe\">\n",
       "  <thead>\n",
       "    <tr style=\"text-align: right;\">\n",
       "      <th></th>\n",
       "      <th>movie</th>\n",
       "      <th>year</th>\n",
       "      <th>imdb</th>\n",
       "      <th>metascore</th>\n",
       "      <th>votes</th>\n",
       "      <th>n_imdb</th>\n",
       "    </tr>\n",
       "  </thead>\n",
       "  <tbody>\n",
       "    <tr>\n",
       "      <th>0</th>\n",
       "      <td>Gladiator</td>\n",
       "      <td>2000</td>\n",
       "      <td>8.5</td>\n",
       "      <td>67</td>\n",
       "      <td>1054911</td>\n",
       "      <td>85</td>\n",
       "    </tr>\n",
       "    <tr>\n",
       "      <th>1</th>\n",
       "      <td>Memento</td>\n",
       "      <td>2000</td>\n",
       "      <td>8.5</td>\n",
       "      <td>80</td>\n",
       "      <td>904727</td>\n",
       "      <td>85</td>\n",
       "    </tr>\n",
       "    <tr>\n",
       "      <th>2</th>\n",
       "      <td>Snatch</td>\n",
       "      <td>2000</td>\n",
       "      <td>8.3</td>\n",
       "      <td>55</td>\n",
       "      <td>640191</td>\n",
       "      <td>83</td>\n",
       "    </tr>\n",
       "    <tr>\n",
       "      <th>3</th>\n",
       "      <td>Requiem for a Dream</td>\n",
       "      <td>2000</td>\n",
       "      <td>8.4</td>\n",
       "      <td>68</td>\n",
       "      <td>614277</td>\n",
       "      <td>84</td>\n",
       "    </tr>\n",
       "    <tr>\n",
       "      <th>4</th>\n",
       "      <td>X-Men</td>\n",
       "      <td>2000</td>\n",
       "      <td>7.4</td>\n",
       "      <td>64</td>\n",
       "      <td>482938</td>\n",
       "      <td>74</td>\n",
       "    </tr>\n",
       "  </tbody>\n",
       "</table>\n",
       "</div>"
      ],
      "text/plain": [
       "                 movie  year  imdb  metascore    votes  n_imdb\n",
       "0            Gladiator  2000   8.5         67  1054911      85\n",
       "1              Memento  2000   8.5         80   904727      85\n",
       "2               Snatch  2000   8.3         55   640191      83\n",
       "3  Requiem for a Dream  2000   8.4         68   614277      84\n",
       "4                X-Men  2000   7.4         64   482938      74"
      ]
     },
     "execution_count": 17,
     "metadata": {},
     "output_type": "execute_result"
    }
   ],
   "source": [
    "# checking the data set\n",
    "imdb_ratings.head()"
   ]
  },
  {
   "cell_type": "markdown",
   "metadata": {
    "collapsed": true
   },
   "source": [
    "The movies' titles seem to be written in a similar fashion in both `imdb_ratings['movie']` and `ratings_aft['MOVIE']`. Let's search for the same movie, randomly, in both data sets:"
   ]
  },
  {
   "cell_type": "markdown",
   "metadata": {},
   "source": [
    "The movie '13 Hour' appears in both data sets."
   ]
  },
  {
   "cell_type": "code",
   "execution_count": 18,
   "metadata": {},
   "outputs": [
    {
     "data": {
      "text/html": [
       "<div>\n",
       "<style scoped>\n",
       "    .dataframe tbody tr th:only-of-type {\n",
       "        vertical-align: middle;\n",
       "    }\n",
       "\n",
       "    .dataframe tbody tr th {\n",
       "        vertical-align: top;\n",
       "    }\n",
       "\n",
       "    .dataframe thead th {\n",
       "        text-align: right;\n",
       "    }\n",
       "</style>\n",
       "<table border=\"1\" class=\"dataframe\">\n",
       "  <thead>\n",
       "    <tr style=\"text-align: right;\">\n",
       "      <th></th>\n",
       "      <th>movie</th>\n",
       "      <th>year</th>\n",
       "      <th>imdb</th>\n",
       "      <th>metascore</th>\n",
       "      <th>votes</th>\n",
       "      <th>n_imdb</th>\n",
       "    </tr>\n",
       "  </thead>\n",
       "  <tbody>\n",
       "    <tr>\n",
       "      <th>2710</th>\n",
       "      <td>13 Hours</td>\n",
       "      <td>2016</td>\n",
       "      <td>7.3</td>\n",
       "      <td>48</td>\n",
       "      <td>77254</td>\n",
       "      <td>73</td>\n",
       "    </tr>\n",
       "  </tbody>\n",
       "</table>\n",
       "</div>"
      ],
      "text/plain": [
       "         movie  year  imdb  metascore  votes  n_imdb\n",
       "2710  13 Hours  2016   7.3         48  77254      73"
      ]
     },
     "execution_count": 18,
     "metadata": {},
     "output_type": "execute_result"
    }
   ],
   "source": [
    "imdb_ratings[imdb_ratings['movie']=='13 Hours']"
   ]
  },
  {
   "cell_type": "code",
   "execution_count": 19,
   "metadata": {},
   "outputs": [
    {
     "data": {
      "text/html": [
       "<div>\n",
       "<style scoped>\n",
       "    .dataframe tbody tr th:only-of-type {\n",
       "        vertical-align: middle;\n",
       "    }\n",
       "\n",
       "    .dataframe tbody tr th {\n",
       "        vertical-align: top;\n",
       "    }\n",
       "\n",
       "    .dataframe thead th {\n",
       "        text-align: right;\n",
       "    }\n",
       "</style>\n",
       "<table border=\"1\" class=\"dataframe\">\n",
       "  <thead>\n",
       "    <tr style=\"text-align: right;\">\n",
       "      <th></th>\n",
       "      <th>movie</th>\n",
       "      <th>year</th>\n",
       "      <th>fandango</th>\n",
       "    </tr>\n",
       "  </thead>\n",
       "  <tbody>\n",
       "    <tr>\n",
       "      <th>1</th>\n",
       "      <td>13 Hours</td>\n",
       "      <td>2016</td>\n",
       "      <td>4.5</td>\n",
       "    </tr>\n",
       "  </tbody>\n",
       "</table>\n",
       "</div>"
      ],
      "text/plain": [
       "      movie  year  fandango\n",
       "1  13 Hours  2016       4.5"
      ]
     },
     "execution_count": 19,
     "metadata": {},
     "output_type": "execute_result"
    }
   ],
   "source": [
    "ratings_aft[ratings_aft['movie']=='13 Hours']"
   ]
  },
  {
   "cell_type": "markdown",
   "metadata": {},
   "source": [
    "The movie 'A Cure for Wellness' does not appear in `imdb_ratings` even when looking closer for this title. "
   ]
  },
  {
   "cell_type": "code",
   "execution_count": 20,
   "metadata": {},
   "outputs": [
    {
     "data": {
      "text/html": [
       "<div>\n",
       "<style scoped>\n",
       "    .dataframe tbody tr th:only-of-type {\n",
       "        vertical-align: middle;\n",
       "    }\n",
       "\n",
       "    .dataframe tbody tr th {\n",
       "        vertical-align: top;\n",
       "    }\n",
       "\n",
       "    .dataframe thead th {\n",
       "        text-align: right;\n",
       "    }\n",
       "</style>\n",
       "<table border=\"1\" class=\"dataframe\">\n",
       "  <thead>\n",
       "    <tr style=\"text-align: right;\">\n",
       "      <th></th>\n",
       "      <th>movie</th>\n",
       "      <th>year</th>\n",
       "      <th>imdb</th>\n",
       "      <th>metascore</th>\n",
       "      <th>votes</th>\n",
       "      <th>n_imdb</th>\n",
       "    </tr>\n",
       "  </thead>\n",
       "  <tbody>\n",
       "  </tbody>\n",
       "</table>\n",
       "</div>"
      ],
      "text/plain": [
       "Empty DataFrame\n",
       "Columns: [movie, year, imdb, metascore, votes, n_imdb]\n",
       "Index: []"
      ]
     },
     "execution_count": 20,
     "metadata": {},
     "output_type": "execute_result"
    }
   ],
   "source": [
    "imdb_ratings[imdb_ratings['movie'].str.contains('[Cc]ure', regex=True)]"
   ]
  },
  {
   "cell_type": "code",
   "execution_count": 21,
   "metadata": {},
   "outputs": [
    {
     "data": {
      "text/html": [
       "<div>\n",
       "<style scoped>\n",
       "    .dataframe tbody tr th:only-of-type {\n",
       "        vertical-align: middle;\n",
       "    }\n",
       "\n",
       "    .dataframe tbody tr th {\n",
       "        vertical-align: top;\n",
       "    }\n",
       "\n",
       "    .dataframe thead th {\n",
       "        text-align: right;\n",
       "    }\n",
       "</style>\n",
       "<table border=\"1\" class=\"dataframe\">\n",
       "  <thead>\n",
       "    <tr style=\"text-align: right;\">\n",
       "      <th></th>\n",
       "      <th>movie</th>\n",
       "      <th>year</th>\n",
       "      <th>fandango</th>\n",
       "    </tr>\n",
       "  </thead>\n",
       "  <tbody>\n",
       "    <tr>\n",
       "      <th>2</th>\n",
       "      <td>A Cure for Wellness</td>\n",
       "      <td>2016</td>\n",
       "      <td>3.0</td>\n",
       "    </tr>\n",
       "  </tbody>\n",
       "</table>\n",
       "</div>"
      ],
      "text/plain": [
       "                 movie  year  fandango\n",
       "2  A Cure for Wellness  2016       3.0"
      ]
     },
     "execution_count": 21,
     "metadata": {},
     "output_type": "execute_result"
    }
   ],
   "source": [
    "ratings_aft[ratings_aft['movie']=='A Cure for Wellness']"
   ]
  },
  {
   "cell_type": "markdown",
   "metadata": {},
   "source": [
    "As we can see above, the IMDB data set does not contain all the movies in `ratings_aft`.\n",
    "\n",
    "Below we produce a DataFrame, `match_ratings`, which is a shortened version of `IMDB_ratings` that only includes movies that are also in `ratings_aft`."
   ]
  },
  {
   "cell_type": "code",
   "execution_count": 22,
   "metadata": {},
   "outputs": [],
   "source": [
    "match_ratings_cond = imdb_ratings['movie'].isin(ratings_aft['movie'])"
   ]
  },
  {
   "cell_type": "code",
   "execution_count": 23,
   "metadata": {},
   "outputs": [],
   "source": [
    "match_ratings = imdb_ratings[match_ratings_cond]"
   ]
  },
  {
   "cell_type": "code",
   "execution_count": 24,
   "metadata": {},
   "outputs": [
    {
     "data": {
      "text/html": [
       "<div>\n",
       "<style scoped>\n",
       "    .dataframe tbody tr th:only-of-type {\n",
       "        vertical-align: middle;\n",
       "    }\n",
       "\n",
       "    .dataframe tbody tr th {\n",
       "        vertical-align: top;\n",
       "    }\n",
       "\n",
       "    .dataframe thead th {\n",
       "        text-align: right;\n",
       "    }\n",
       "</style>\n",
       "<table border=\"1\" class=\"dataframe\">\n",
       "  <thead>\n",
       "    <tr style=\"text-align: right;\">\n",
       "      <th></th>\n",
       "      <th>year</th>\n",
       "      <th>imdb</th>\n",
       "      <th>metascore</th>\n",
       "      <th>votes</th>\n",
       "      <th>n_imdb</th>\n",
       "    </tr>\n",
       "  </thead>\n",
       "  <tbody>\n",
       "    <tr>\n",
       "      <th>count</th>\n",
       "      <td>153.000000</td>\n",
       "      <td>153.000000</td>\n",
       "      <td>153.000000</td>\n",
       "      <td>153.000000</td>\n",
       "      <td>153.000000</td>\n",
       "    </tr>\n",
       "    <tr>\n",
       "      <th>mean</th>\n",
       "      <td>2015.980392</td>\n",
       "      <td>6.635948</td>\n",
       "      <td>56.699346</td>\n",
       "      <td>85865.712418</td>\n",
       "      <td>66.359477</td>\n",
       "    </tr>\n",
       "    <tr>\n",
       "      <th>std</th>\n",
       "      <td>1.354673</td>\n",
       "      <td>0.866300</td>\n",
       "      <td>16.956246</td>\n",
       "      <td>86297.310197</td>\n",
       "      <td>8.662999</td>\n",
       "    </tr>\n",
       "    <tr>\n",
       "      <th>min</th>\n",
       "      <td>2002.000000</td>\n",
       "      <td>4.300000</td>\n",
       "      <td>18.000000</td>\n",
       "      <td>2447.000000</td>\n",
       "      <td>43.000000</td>\n",
       "    </tr>\n",
       "    <tr>\n",
       "      <th>25%</th>\n",
       "      <td>2016.000000</td>\n",
       "      <td>6.100000</td>\n",
       "      <td>42.000000</td>\n",
       "      <td>35433.000000</td>\n",
       "      <td>61.000000</td>\n",
       "    </tr>\n",
       "    <tr>\n",
       "      <th>50%</th>\n",
       "      <td>2016.000000</td>\n",
       "      <td>6.600000</td>\n",
       "      <td>58.000000</td>\n",
       "      <td>56000.000000</td>\n",
       "      <td>66.000000</td>\n",
       "    </tr>\n",
       "    <tr>\n",
       "      <th>75%</th>\n",
       "      <td>2016.000000</td>\n",
       "      <td>7.300000</td>\n",
       "      <td>68.000000</td>\n",
       "      <td>107236.000000</td>\n",
       "      <td>73.000000</td>\n",
       "    </tr>\n",
       "    <tr>\n",
       "      <th>max</th>\n",
       "      <td>2017.000000</td>\n",
       "      <td>8.300000</td>\n",
       "      <td>99.000000</td>\n",
       "      <td>629939.000000</td>\n",
       "      <td>83.000000</td>\n",
       "    </tr>\n",
       "  </tbody>\n",
       "</table>\n",
       "</div>"
      ],
      "text/plain": [
       "              year        imdb   metascore          votes      n_imdb\n",
       "count   153.000000  153.000000  153.000000     153.000000  153.000000\n",
       "mean   2015.980392    6.635948   56.699346   85865.712418   66.359477\n",
       "std       1.354673    0.866300   16.956246   86297.310197    8.662999\n",
       "min    2002.000000    4.300000   18.000000    2447.000000   43.000000\n",
       "25%    2016.000000    6.100000   42.000000   35433.000000   61.000000\n",
       "50%    2016.000000    6.600000   58.000000   56000.000000   66.000000\n",
       "75%    2016.000000    7.300000   68.000000  107236.000000   73.000000\n",
       "max    2017.000000    8.300000   99.000000  629939.000000   83.000000"
      ]
     },
     "execution_count": 24,
     "metadata": {},
     "output_type": "execute_result"
    }
   ],
   "source": [
    "match_ratings.describe()"
   ]
  },
  {
   "cell_type": "markdown",
   "metadata": {},
   "source": [
    "We can see in the 'year' column that there are something wrong because there are movies marked as released before 2016 (see min = 2002). "
   ]
  },
  {
   "cell_type": "code",
   "execution_count": 25,
   "metadata": {},
   "outputs": [
    {
     "data": {
      "text/plain": [
       "array([2002, 2008, 2016, 2017], dtype=int64)"
      ]
     },
     "execution_count": 25,
     "metadata": {},
     "output_type": "execute_result"
    }
   ],
   "source": [
    "match_ratings['year'].unique()"
   ]
  },
  {
   "cell_type": "markdown",
   "metadata": {},
   "source": [
    "Below we see that only to movies not release in 2016 or 2017 appear to be a match between the two DataFrames. Searching for the same movies in `ratings_aft` we can see that is the same title but a different year of release, which (possibly) indicates that these are different movies with the same title. After a search on the web, there are in fact two unrelated movies called 'Passengers' (2008 and 2016); also, Cabin Fever from 2016 is as remake of the 2002 version. "
   ]
  },
  {
   "cell_type": "code",
   "execution_count": 26,
   "metadata": {},
   "outputs": [
    {
     "data": {
      "text/html": [
       "<div>\n",
       "<style scoped>\n",
       "    .dataframe tbody tr th:only-of-type {\n",
       "        vertical-align: middle;\n",
       "    }\n",
       "\n",
       "    .dataframe tbody tr th {\n",
       "        vertical-align: top;\n",
       "    }\n",
       "\n",
       "    .dataframe thead th {\n",
       "        text-align: right;\n",
       "    }\n",
       "</style>\n",
       "<table border=\"1\" class=\"dataframe\">\n",
       "  <thead>\n",
       "    <tr style=\"text-align: right;\">\n",
       "      <th></th>\n",
       "      <th>movie</th>\n",
       "      <th>year</th>\n",
       "      <th>imdb</th>\n",
       "      <th>metascore</th>\n",
       "      <th>votes</th>\n",
       "      <th>n_imdb</th>\n",
       "    </tr>\n",
       "  </thead>\n",
       "  <tbody>\n",
       "    <tr>\n",
       "      <th>396</th>\n",
       "      <td>Cabin Fever</td>\n",
       "      <td>2002</td>\n",
       "      <td>5.6</td>\n",
       "      <td>56</td>\n",
       "      <td>64577</td>\n",
       "      <td>56</td>\n",
       "    </tr>\n",
       "  </tbody>\n",
       "</table>\n",
       "</div>"
      ],
      "text/plain": [
       "           movie  year  imdb  metascore  votes  n_imdb\n",
       "396  Cabin Fever  2002   5.6         56  64577      56"
      ]
     },
     "execution_count": 26,
     "metadata": {},
     "output_type": "execute_result"
    }
   ],
   "source": [
    "match_ratings[match_ratings['year']==2002]"
   ]
  },
  {
   "cell_type": "code",
   "execution_count": 27,
   "metadata": {},
   "outputs": [
    {
     "data": {
      "text/html": [
       "<div>\n",
       "<style scoped>\n",
       "    .dataframe tbody tr th:only-of-type {\n",
       "        vertical-align: middle;\n",
       "    }\n",
       "\n",
       "    .dataframe tbody tr th {\n",
       "        vertical-align: top;\n",
       "    }\n",
       "\n",
       "    .dataframe thead th {\n",
       "        text-align: right;\n",
       "    }\n",
       "</style>\n",
       "<table border=\"1\" class=\"dataframe\">\n",
       "  <thead>\n",
       "    <tr style=\"text-align: right;\">\n",
       "      <th></th>\n",
       "      <th>movie</th>\n",
       "      <th>year</th>\n",
       "      <th>imdb</th>\n",
       "      <th>metascore</th>\n",
       "      <th>votes</th>\n",
       "      <th>n_imdb</th>\n",
       "    </tr>\n",
       "  </thead>\n",
       "  <tbody>\n",
       "    <tr>\n",
       "      <th>1483</th>\n",
       "      <td>Passengers</td>\n",
       "      <td>2008</td>\n",
       "      <td>5.9</td>\n",
       "      <td>40</td>\n",
       "      <td>29157</td>\n",
       "      <td>59</td>\n",
       "    </tr>\n",
       "  </tbody>\n",
       "</table>\n",
       "</div>"
      ],
      "text/plain": [
       "           movie  year  imdb  metascore  votes  n_imdb\n",
       "1483  Passengers  2008   5.9         40  29157      59"
      ]
     },
     "execution_count": 27,
     "metadata": {},
     "output_type": "execute_result"
    }
   ],
   "source": [
    "match_ratings[match_ratings['year']==2008]"
   ]
  },
  {
   "cell_type": "code",
   "execution_count": 28,
   "metadata": {},
   "outputs": [
    {
     "data": {
      "text/html": [
       "<div>\n",
       "<style scoped>\n",
       "    .dataframe tbody tr th:only-of-type {\n",
       "        vertical-align: middle;\n",
       "    }\n",
       "\n",
       "    .dataframe tbody tr th {\n",
       "        vertical-align: top;\n",
       "    }\n",
       "\n",
       "    .dataframe thead th {\n",
       "        text-align: right;\n",
       "    }\n",
       "</style>\n",
       "<table border=\"1\" class=\"dataframe\">\n",
       "  <thead>\n",
       "    <tr style=\"text-align: right;\">\n",
       "      <th></th>\n",
       "      <th>movie</th>\n",
       "      <th>year</th>\n",
       "      <th>fandango</th>\n",
       "    </tr>\n",
       "  </thead>\n",
       "  <tbody>\n",
       "    <tr>\n",
       "      <th>29</th>\n",
       "      <td>Cabin Fever</td>\n",
       "      <td>2016</td>\n",
       "      <td>4.0</td>\n",
       "    </tr>\n",
       "  </tbody>\n",
       "</table>\n",
       "</div>"
      ],
      "text/plain": [
       "          movie  year  fandango\n",
       "29  Cabin Fever  2016       4.0"
      ]
     },
     "execution_count": 28,
     "metadata": {},
     "output_type": "execute_result"
    }
   ],
   "source": [
    "ratings_aft[ratings_aft['movie']=='Cabin Fever']"
   ]
  },
  {
   "cell_type": "code",
   "execution_count": 29,
   "metadata": {},
   "outputs": [
    {
     "data": {
      "text/html": [
       "<div>\n",
       "<style scoped>\n",
       "    .dataframe tbody tr th:only-of-type {\n",
       "        vertical-align: middle;\n",
       "    }\n",
       "\n",
       "    .dataframe tbody tr th {\n",
       "        vertical-align: top;\n",
       "    }\n",
       "\n",
       "    .dataframe thead th {\n",
       "        text-align: right;\n",
       "    }\n",
       "</style>\n",
       "<table border=\"1\" class=\"dataframe\">\n",
       "  <thead>\n",
       "    <tr style=\"text-align: right;\">\n",
       "      <th></th>\n",
       "      <th>movie</th>\n",
       "      <th>year</th>\n",
       "      <th>fandango</th>\n",
       "    </tr>\n",
       "  </thead>\n",
       "  <tbody>\n",
       "    <tr>\n",
       "      <th>129</th>\n",
       "      <td>Passengers</td>\n",
       "      <td>2016</td>\n",
       "      <td>4.0</td>\n",
       "    </tr>\n",
       "  </tbody>\n",
       "</table>\n",
       "</div>"
      ],
      "text/plain": [
       "          movie  year  fandango\n",
       "129  Passengers  2016       4.0"
      ]
     },
     "execution_count": 29,
     "metadata": {},
     "output_type": "execute_result"
    }
   ],
   "source": [
    "ratings_aft[ratings_aft['movie']=='Passengers']"
   ]
  },
  {
   "cell_type": "markdown",
   "metadata": {},
   "source": [
    "To proceed with the analysis we can exclude the 2002 and 2008 movies from `match_ratings`."
   ]
  },
  {
   "cell_type": "code",
   "execution_count": 30,
   "metadata": {},
   "outputs": [],
   "source": [
    "match_ratings = match_ratings.drop([396, 1483])"
   ]
  },
  {
   "cell_type": "code",
   "execution_count": 31,
   "metadata": {},
   "outputs": [
    {
     "data": {
      "text/html": [
       "<div>\n",
       "<style scoped>\n",
       "    .dataframe tbody tr th:only-of-type {\n",
       "        vertical-align: middle;\n",
       "    }\n",
       "\n",
       "    .dataframe tbody tr th {\n",
       "        vertical-align: top;\n",
       "    }\n",
       "\n",
       "    .dataframe thead th {\n",
       "        text-align: right;\n",
       "    }\n",
       "</style>\n",
       "<table border=\"1\" class=\"dataframe\">\n",
       "  <thead>\n",
       "    <tr style=\"text-align: right;\">\n",
       "      <th></th>\n",
       "      <th>year</th>\n",
       "      <th>imdb</th>\n",
       "      <th>metascore</th>\n",
       "      <th>votes</th>\n",
       "      <th>n_imdb</th>\n",
       "    </tr>\n",
       "  </thead>\n",
       "  <tbody>\n",
       "    <tr>\n",
       "      <th>count</th>\n",
       "      <td>151.000000</td>\n",
       "      <td>151.000000</td>\n",
       "      <td>151.000000</td>\n",
       "      <td>151.000000</td>\n",
       "      <td>151.000000</td>\n",
       "    </tr>\n",
       "    <tr>\n",
       "      <th>mean</th>\n",
       "      <td>2016.125828</td>\n",
       "      <td>6.647682</td>\n",
       "      <td>56.814570</td>\n",
       "      <td>86382.251656</td>\n",
       "      <td>66.476821</td>\n",
       "    </tr>\n",
       "    <tr>\n",
       "      <th>std</th>\n",
       "      <td>0.332759</td>\n",
       "      <td>0.865782</td>\n",
       "      <td>17.013878</td>\n",
       "      <td>86728.270574</td>\n",
       "      <td>8.657817</td>\n",
       "    </tr>\n",
       "    <tr>\n",
       "      <th>min</th>\n",
       "      <td>2016.000000</td>\n",
       "      <td>4.300000</td>\n",
       "      <td>18.000000</td>\n",
       "      <td>2447.000000</td>\n",
       "      <td>43.000000</td>\n",
       "    </tr>\n",
       "    <tr>\n",
       "      <th>25%</th>\n",
       "      <td>2016.000000</td>\n",
       "      <td>6.100000</td>\n",
       "      <td>42.500000</td>\n",
       "      <td>35568.000000</td>\n",
       "      <td>61.000000</td>\n",
       "    </tr>\n",
       "    <tr>\n",
       "      <th>50%</th>\n",
       "      <td>2016.000000</td>\n",
       "      <td>6.600000</td>\n",
       "      <td>58.000000</td>\n",
       "      <td>56000.000000</td>\n",
       "      <td>66.000000</td>\n",
       "    </tr>\n",
       "    <tr>\n",
       "      <th>75%</th>\n",
       "      <td>2016.000000</td>\n",
       "      <td>7.300000</td>\n",
       "      <td>68.500000</td>\n",
       "      <td>109590.500000</td>\n",
       "      <td>73.000000</td>\n",
       "    </tr>\n",
       "    <tr>\n",
       "      <th>max</th>\n",
       "      <td>2017.000000</td>\n",
       "      <td>8.300000</td>\n",
       "      <td>99.000000</td>\n",
       "      <td>629939.000000</td>\n",
       "      <td>83.000000</td>\n",
       "    </tr>\n",
       "  </tbody>\n",
       "</table>\n",
       "</div>"
      ],
      "text/plain": [
       "              year        imdb   metascore          votes      n_imdb\n",
       "count   151.000000  151.000000  151.000000     151.000000  151.000000\n",
       "mean   2016.125828    6.647682   56.814570   86382.251656   66.476821\n",
       "std       0.332759    0.865782   17.013878   86728.270574    8.657817\n",
       "min    2016.000000    4.300000   18.000000    2447.000000   43.000000\n",
       "25%    2016.000000    6.100000   42.500000   35568.000000   61.000000\n",
       "50%    2016.000000    6.600000   58.000000   56000.000000   66.000000\n",
       "75%    2016.000000    7.300000   68.500000  109590.500000   73.000000\n",
       "max    2017.000000    8.300000   99.000000  629939.000000   83.000000"
      ]
     },
     "execution_count": 31,
     "metadata": {},
     "output_type": "execute_result"
    }
   ],
   "source": [
    "match_ratings.describe()"
   ]
  },
  {
   "cell_type": "markdown",
   "metadata": {},
   "source": [
    "**Closing remarks on defining the 'after' sample**:\n",
    "\n",
    "The first fact that is important to mention is that only 151 movies from `imdb_ratings` are also in `ratings_aft`, which has 214 in total; this further weakens our ability to generalize the conclusions. Albeit far from perfect, we can observe that the minimum number of user ratings in those 151 movies - `match_ratings['votes']`, is 2447. What we can infer from this is that if 151 out of 214 movies have more than 2000 user votes in IMDB, then it is likely that all the 214 movies had more than 30 user ratings, both in IMDB and Fandango, at the moment Alex Olteanu compiled and released the 'after' data set - `ratings_aft`."
   ]
  },
  {
   "cell_type": "markdown",
   "metadata": {},
   "source": [
    "## Data Analysis\n",
    "\n",
    "\n",
    "### Frequency Distributions\n",
    "\n",
    "Having dealt with the definition of the samples at hand one can now focus on the primary object of this analysis: find out whether there is a substantial difference between the Fandango user ratings distributions before and after the bias has been exposed.\n",
    "\n",
    "To do that, we resort to kernel density plots in order to compare the frequency distributions of the data at hand.\n",
    "\n",
    "We start with a year vs year frame of comparison isolating the 2015 and 2016 values from `ratings_bfr` and `ratings_aft` respectively:"
   ]
  },
  {
   "cell_type": "code",
   "execution_count": 32,
   "metadata": {},
   "outputs": [],
   "source": [
    "rts_2015 = ratings_bfr[ratings_bfr['YEAR']==2015]\n",
    "\n",
    "rts_2016 = ratings_aft[ratings_aft['year']==2016]"
   ]
  },
  {
   "cell_type": "code",
   "execution_count": 33,
   "metadata": {},
   "outputs": [
    {
     "name": "stdout",
     "output_type": "stream",
     "text": [
      "Number of movies in 2015: 129\n",
      "Number of movies in 2016: 191\n"
     ]
    }
   ],
   "source": [
    "print('Number of movies in 2015:', rts_2015.shape[0])\n",
    "print('Number of movies in 2016:', rts_2016.shape[0])"
   ]
  },
  {
   "cell_type": "code",
   "execution_count": 34,
   "metadata": {},
   "outputs": [
    {
     "data": {
      "text/plain": [
       "count    129.000000\n",
       "mean       4.085271\n",
       "std        0.538096\n",
       "min        3.000000\n",
       "25%        3.500000\n",
       "50%        4.000000\n",
       "75%        4.500000\n",
       "max        5.000000\n",
       "Name: Fandango_Stars, dtype: float64"
      ]
     },
     "execution_count": 34,
     "metadata": {},
     "output_type": "execute_result"
    }
   ],
   "source": [
    "qrts_15 = rts_2015['Fandango_Stars'].describe()\n",
    "\n",
    "qrts_15"
   ]
  },
  {
   "cell_type": "code",
   "execution_count": 35,
   "metadata": {},
   "outputs": [
    {
     "data": {
      "text/plain": [
       "count    191.000000\n",
       "mean       3.887435\n",
       "std        0.509540\n",
       "min        2.500000\n",
       "25%        3.500000\n",
       "50%        4.000000\n",
       "75%        4.250000\n",
       "max        5.000000\n",
       "Name: fandango, dtype: float64"
      ]
     },
     "execution_count": 35,
     "metadata": {},
     "output_type": "execute_result"
    }
   ],
   "source": [
    "qrts_16 = rts_2016['fandango'].describe()\n",
    "\n",
    "qrts_16"
   ]
  },
  {
   "cell_type": "code",
   "execution_count": 73,
   "metadata": {
    "hide_input": false
   },
   "outputs": [
    {
     "data": {
      "image/png": "[encoded data removed]",
      "text/plain": [
       "<Figure size 576x432 with 1 Axes>"
      ]
     },
     "metadata": {},
     "output_type": "display_data"
    }
   ],
   "source": [
    "fig, ax = plt.subplots(figsize=(8, 6))\n",
    "\n",
    "# Setting the 'fivethirtyeight' custom style.\n",
    "plt.style.use('fivethirtyeight')\n",
    "\n",
    "ax.set_title('3.1.a - Fandango User Reviews Kernel Density Plots: 2015 v. 2016',\n",
    "             size=20,\n",
    "             y=1.08)\n",
    "\n",
    "# Plotting the two lines.\n",
    "sns.kdeplot(data=rts_2015['Fandango_Stars'],\n",
    "            label='2015')\n",
    "\n",
    "\n",
    "sns.kdeplot(data=rts_2016['fandango'],\n",
    "            label='2016',\n",
    "            color='orange')  # 'fandango' is equivelent to 'Fandango_Stars'\n",
    "\n",
    "\n",
    "# `rts_2015['Fandango_Stars']` mean.\n",
    "ax.axvline(x=rts_2015['Fandango_Stars'].mean(),\n",
    "           ymin=0,\n",
    "           ymax=0.64,\n",
    "           linewidth=3,\n",
    "           c='b',\n",
    "           ls='--')\n",
    "\n",
    "# `rts_2016['fandango']` mean\n",
    "ax.axvline(ymin=0,\n",
    "           ymax=0.8,\n",
    "           x=rts_2016['fandango'].mean(),\n",
    "           linewidth=3,\n",
    "           color='y',\n",
    "           ls='--')\n",
    "\n",
    "\n",
    "# Ticks.\n",
    "ax.set_xticks(np.arange(\n",
    "    rts_2015['Fandango_Stars'].min(),\n",
    "    rts_2015['Fandango_Stars'].max(),\n",
    "    0.5)\n",
    "             )\n",
    "\n",
    "# Code line to hide the first value - '0', in the y ticks.\n",
    "plt.yticks(np.arange(0.2, 1.0, 0.2))\n",
    "\n",
    "\n",
    "# Labels.\n",
    "ax.set_ylabel('Frequency', position=(0.2, 0.5))\n",
    "\n",
    "ax.set_xlabel('Fandango Stars')\n",
    "\n",
    "# Others.\n",
    "plt.legend()\n",
    "\n",
    "plt.show()"
   ]
  },
  {
   "cell_type": "markdown",
   "metadata": {
    "collapsed": true
   },
   "source": [
    "In the graph 3.1.a (above) we can first observe that there are interesting features when looking at both plots: \n",
    "\n",
    "- there is a visible negative (also called left) skewness: in the support graph below, 3.1.b we can see  marked in green a vertical line that stands for the average rating in 2015. This line helps us to see that there is a peak concentration of values in it's right side; additionally, we can see that the right tail is steeper than the left one. \n",
    "\n",
    "\n",
    "- on the other hand, looking at the distribution by quartiles (displayed above - `qrts_15` and `qrts_16`), we can see that 50% of the values are between 4 and 5 stars, for both 2015 and 2016, making it ambiguous on whether the distributions differ that much from each other. Nevertheless it is still possible to see, on a more granular level, that the 4th quartile for the 2015 values, is comprised of 5 and 4.5 values only, whilst for 2016 values the 4th quartile is comprised of 5, 4.5 and 4.25 values. Making it possible to argue that there is indeed a negative skewness of the 2015 value distribution. \n",
    "\n",
    "\n",
    "- Contrastingly, the 2016 line (in yellow) looks more symmetrical, indicating a substantial difference with the former, closer to a normal distribution (symmetrical tails around the mean).\n",
    "\n",
    "\n",
    "- the support graph 3.1.c below, shows that, for the 2016 values, the peak is also at the right of the mean but closer to it when compared with 2015, which is compensated with a slightly larger left tail. This evidence of a benign left skewness. \n",
    "\n",
    "\n",
    "- going back to graph 3.1.a, we can see that the 2016 values are lower in general because the right tail of the density line (in red) is under and to the left of the 2015 line (in blue).\n",
    "\n",
    "Having considered the observations above, it is possible to state that, despite of not knowing why ratings only start above 3 or 2.5 stars (2015 and 2016 respectively), there is evidence that a correction took place, or in other words, the previous bias is now much less visible in 2016, if present at all."
   ]
  },
  {
   "cell_type": "code",
   "execution_count": 37,
   "metadata": {},
   "outputs": [
    {
     "data": {
      "text/plain": [
       "4.0852713178294575"
      ]
     },
     "execution_count": 37,
     "metadata": {},
     "output_type": "execute_result"
    }
   ],
   "source": [
    "rts_2015['Fandango_Stars'].mean()"
   ]
  },
  {
   "cell_type": "code",
   "execution_count": 38,
   "metadata": {},
   "outputs": [
    {
     "data": {
      "image/png": "[encoded data removed]",
      "text/plain": [
       "<Figure size 576x432 with 1 Axes>"
      ]
     },
     "metadata": {},
     "output_type": "display_data"
    }
   ],
   "source": [
    "fig, ax = plt.subplots(figsize=(8, 6))\n",
    "\n",
    "# Setting the 'fivethirtyeight' custom style.\n",
    "plt.style.use('fivethirtyeight')\n",
    "    \n",
    "ax.set_title('3.1.b - Fandango User Reviews Kernel Density Plot: 2015', \n",
    "             size=20,\n",
    "             y=1.08)\n",
    "\n",
    "# Plotting the plot.\n",
    "sns.kdeplot(data=rts_2015['Fandango_Stars'], \n",
    "            label='2015')\n",
    "\n",
    "\n",
    "# `rts_2015['Fandango_Stars']` mean.\n",
    "ax.axvline(rts_2015['Fandango_Stars'].mean(),\n",
    "           linewidth=3,\n",
    "           c='g')\n",
    "\n",
    "\n",
    "# Ticks.\n",
    "ax.set_xticks(np.arange(0, 5.5, 0.5))\n",
    "\n",
    "# Code line to hide the first value - '0', in the y ticks.\n",
    "plt.yticks(np.arange(0.2, 1.0, 0.2))\n",
    "\n",
    "\n",
    "# Labels.\n",
    "ax.set_ylabel('Frequency', position=(0.2, 0.5))\n",
    "\n",
    "ax.set_xlabel('Fandango Stars')\n",
    "\n",
    "# Others.\n",
    "plt.legend()\n",
    "\n",
    "plt.show()"
   ]
  },
  {
   "cell_type": "code",
   "execution_count": 39,
   "metadata": {},
   "outputs": [
    {
     "data": {
      "image/png": "[encoded data removed]",
      "text/plain": [
       "<Figure size 576x432 with 1 Axes>"
      ]
     },
     "metadata": {},
     "output_type": "display_data"
    }
   ],
   "source": [
    "fig, ax = plt.subplots(figsize=(8, 6))\n",
    "\n",
    "# Setting the 'fivethirtyeight' custom style.\n",
    "plt.style.use('fivethirtyeight')\n",
    "    \n",
    "ax.set_title('3.1.c - Fandango User Reviews Kernel Density Plot: 2016', \n",
    "             size=20,\n",
    "             y=1.08)\n",
    "\n",
    "# Plotting the plot.\n",
    "sns.kdeplot(data=rts_2016['fandango'], \n",
    "            label='2016',\n",
    "            color='orange') # 'fandango' is equivelent to 'Fandango_Stars'\n",
    "\n",
    "# `rts_2016['fandango']` mean\n",
    "ax.axvline(rts_2016['fandango'].mean(), linewidth=3, color='r')\n",
    "\n",
    "# Ticks.\n",
    "ax.set_xticks(np.arange(0, 5.5, 0.5))\n",
    "\n",
    "# Code line to hide the first value - '0', in the y ticks.\n",
    "plt.yticks(np.arange(0.2, 1.0, 0.2))\n",
    "\n",
    "\n",
    "# Labels.\n",
    "ax.set_ylabel('Frequency', position=(0.2, 0.5))\n",
    "\n",
    "ax.set_xlabel('Fandango Stars')\n",
    "\n",
    "# Others.\n",
    "plt.legend()\n",
    "\n",
    "plt.show()"
   ]
  },
  {
   "cell_type": "markdown",
   "metadata": {
    "collapsed": true
   },
   "source": [
    "### Skewness and Descriptive Statistics\n",
    "\n",
    "Resorting to statistical theory, a distribution of values becomes closer to a nomal distribution when the mean, the median and the mode converge; inversely, if the mean and the mode diverge more and more from the median we tend to have an increasely skewed distribution. \n",
    "\n",
    "Observing the graph 3.2.a, we see that 2015 values for the mean and mode are more divergent around the the median whilst in the 2016 values, all statistics converge to 4 (starts), re-inforcing the idea, albeit not of great magnitude, that there is a skewed distribution in 2015."
   ]
  },
  {
   "cell_type": "code",
   "execution_count": 40,
   "metadata": {},
   "outputs": [],
   "source": [
    "# Bilding a df - `stats` with the mean, median and mode for 2015 and 2016.\n",
    "\n",
    "stats_15_dic = {'mean':rts_2015['Fandango_Stars'].mean().round(2),\n",
    "            'median':rts_2015['Fandango_Stars'].median(),\n",
    "            'mode':rts_2015['Fandango_Stars'].mode()}\n",
    "\n",
    "stats_16_dic = {'mean':rts_2016['fandango'].mean().round(2),\n",
    "            'median':rts_2016['fandango'].median(),\n",
    "            'mode':rts_2016['fandango'].mode()}\n",
    "\n",
    "stats_15 = pd.DataFrame(stats_15_dic).set_index(np.array([2015]))\n",
    "\n",
    "stats_16 = pd.DataFrame(stats_16_dic).set_index(np.array([2016]))\n",
    "\n",
    "stats = pd.concat([stats_15, stats_16])"
   ]
  },
  {
   "cell_type": "code",
   "execution_count": 41,
   "metadata": {},
   "outputs": [
    {
     "data": {
      "text/html": [
       "<div>\n",
       "<style scoped>\n",
       "    .dataframe tbody tr th:only-of-type {\n",
       "        vertical-align: middle;\n",
       "    }\n",
       "\n",
       "    .dataframe tbody tr th {\n",
       "        vertical-align: top;\n",
       "    }\n",
       "\n",
       "    .dataframe thead th {\n",
       "        text-align: right;\n",
       "    }\n",
       "</style>\n",
       "<table border=\"1\" class=\"dataframe\">\n",
       "  <thead>\n",
       "    <tr style=\"text-align: right;\">\n",
       "      <th></th>\n",
       "      <th>mean</th>\n",
       "      <th>median</th>\n",
       "      <th>mode</th>\n",
       "    </tr>\n",
       "  </thead>\n",
       "  <tbody>\n",
       "    <tr>\n",
       "      <th>2015</th>\n",
       "      <td>4.09</td>\n",
       "      <td>4.0</td>\n",
       "      <td>4.5</td>\n",
       "    </tr>\n",
       "    <tr>\n",
       "      <th>2016</th>\n",
       "      <td>3.89</td>\n",
       "      <td>4.0</td>\n",
       "      <td>4.0</td>\n",
       "    </tr>\n",
       "  </tbody>\n",
       "</table>\n",
       "</div>"
      ],
      "text/plain": [
       "      mean  median  mode\n",
       "2015  4.09     4.0   4.5\n",
       "2016  3.89     4.0   4.0"
      ]
     },
     "execution_count": 41,
     "metadata": {},
     "output_type": "execute_result"
    }
   ],
   "source": [
    "stats"
   ]
  },
  {
   "cell_type": "code",
   "execution_count": 42,
   "metadata": {},
   "outputs": [
    {
     "data": {
      "image/png": "[encoded data removed]",
      "text/plain": [
       "<Figure size 432x288 with 1 Axes>"
      ]
     },
     "metadata": {},
     "output_type": "display_data"
    }
   ],
   "source": [
    "fig, ax = plt.subplots()\n",
    "\n",
    "\n",
    "ax.set_title('3.2.a - Comparing Summary Statistics: 2015 vs 2016', y=1.08)\n",
    "\n",
    "labels = stats.columns\n",
    "\n",
    "x = np.arange(len(labels))  # the label locations\n",
    "\n",
    "width = 0.4  # the width of the bars\n",
    "\n",
    "# Plot in pairs\n",
    "ax.bar(x - width/2, stats.loc[2015, :], width, label='2015', color='b')\n",
    "ax.bar(x + width/2, stats.loc[2016, :], width, label='2016', color='g')\n",
    "\n",
    "                               \n",
    "# Ticks and labels.\n",
    "ax.set_ylabel('Stars')\n",
    "ax.set_xticks(x)\n",
    "ax.set_xticklabels(labels)\n",
    "\n",
    "# placing the legend next to the graph avoiding the overlapping\n",
    "plt.legend(bbox_to_anchor=(1.1, 1))\n",
    "\n",
    "ax.grid()\n",
    "\n",
    "plt.show()\n",
    "                 "
   ]
  },
  {
   "cell_type": "markdown",
   "metadata": {},
   "source": [
    "### Comparison between movie rating platforms\n",
    "---\n",
    "Besides comparing Fandango against it self, we can also compare the distribution of user ratings across the aforementioned group of popular platforms, throughout 2015 and 2016. To do this task we resort to the first version of our data sets - `ratings_bfr_full` and `ratings_aft_full`, which contain a normalized version of the movie ratings for every platform, i.e. these ratings have been standardize to resemble the Fandango star system: {0, 0.5, 1, 1.5,..., 4.5, 5}.    \n",
    "\n",
    "Furthermore, this time around there is no limitation that prevent us to extend the number of movies included, therefore we analyze again two sets: movies released in 2014-15 and 2016-17 for the 'before' and 'after' data sets respectively.\n",
    "\n",
    "The normalized ratings in the original data set:"
   ]
  },
  {
   "cell_type": "code",
   "execution_count": 43,
   "metadata": {},
   "outputs": [
    {
     "data": {
      "text/html": [
       "<div>\n",
       "<style scoped>\n",
       "    .dataframe tbody tr th:only-of-type {\n",
       "        vertical-align: middle;\n",
       "    }\n",
       "\n",
       "    .dataframe tbody tr th {\n",
       "        vertical-align: top;\n",
       "    }\n",
       "\n",
       "    .dataframe thead th {\n",
       "        text-align: right;\n",
       "    }\n",
       "</style>\n",
       "<table border=\"1\" class=\"dataframe\">\n",
       "  <thead>\n",
       "    <tr style=\"text-align: right;\">\n",
       "      <th></th>\n",
       "      <th>RT_norm_round</th>\n",
       "      <th>RT_user_norm_round</th>\n",
       "      <th>Metacritic_norm_round</th>\n",
       "      <th>Metacritic_user_norm_round</th>\n",
       "      <th>IMDB_norm_round</th>\n",
       "    </tr>\n",
       "  </thead>\n",
       "  <tbody>\n",
       "    <tr>\n",
       "      <th>0</th>\n",
       "      <td>3.5</td>\n",
       "      <td>4.5</td>\n",
       "      <td>3.5</td>\n",
       "      <td>3.5</td>\n",
       "      <td>4.0</td>\n",
       "    </tr>\n",
       "    <tr>\n",
       "      <th>1</th>\n",
       "      <td>4.5</td>\n",
       "      <td>4.0</td>\n",
       "      <td>3.5</td>\n",
       "      <td>4.0</td>\n",
       "      <td>3.5</td>\n",
       "    </tr>\n",
       "    <tr>\n",
       "      <th>2</th>\n",
       "      <td>4.0</td>\n",
       "      <td>4.5</td>\n",
       "      <td>3.0</td>\n",
       "      <td>4.0</td>\n",
       "      <td>4.0</td>\n",
       "    </tr>\n",
       "    <tr>\n",
       "      <th>3</th>\n",
       "      <td>1.0</td>\n",
       "      <td>4.0</td>\n",
       "      <td>1.0</td>\n",
       "      <td>2.5</td>\n",
       "      <td>2.5</td>\n",
       "    </tr>\n",
       "    <tr>\n",
       "      <th>4</th>\n",
       "      <td>0.5</td>\n",
       "      <td>1.5</td>\n",
       "      <td>1.5</td>\n",
       "      <td>1.5</td>\n",
       "      <td>2.5</td>\n",
       "    </tr>\n",
       "  </tbody>\n",
       "</table>\n",
       "</div>"
      ],
      "text/plain": [
       "   RT_norm_round  RT_user_norm_round  Metacritic_norm_round  \\\n",
       "0            3.5                 4.5                    3.5   \n",
       "1            4.5                 4.0                    3.5   \n",
       "2            4.0                 4.5                    3.0   \n",
       "3            1.0                 4.0                    1.0   \n",
       "4            0.5                 1.5                    1.5   \n",
       "\n",
       "   Metacritic_user_norm_round  IMDB_norm_round  \n",
       "0                         3.5              4.0  \n",
       "1                         4.0              3.5  \n",
       "2                         4.0              4.0  \n",
       "3                         2.5              2.5  \n",
       "4                         1.5              2.5  "
      ]
     },
     "execution_count": 43,
     "metadata": {},
     "output_type": "execute_result"
    }
   ],
   "source": [
    "# The normalized ratings in the original data set.\n",
    "ratings_bfr_full.loc[:, ratings_bfr_full.columns.str.contains('round')].head()"
   ]
  },
  {
   "cell_type": "code",
   "execution_count": 44,
   "metadata": {},
   "outputs": [],
   "source": [
    "# New df only with the normalized ratings columns.\n",
    "ratings_norm_bfr = ratings_bfr_full.loc[:, ratings_bfr_full.columns.str.contains('(?:user_norm_round|Fandango_Stars|IMDB_norm_round)')]"
   ]
  },
  {
   "cell_type": "code",
   "execution_count": 45,
   "metadata": {},
   "outputs": [],
   "source": [
    "ratings_norm_bfr = ratings_norm_bfr.rename(columns={'Fandango_Stars':'Fandango',\n",
    "                                                    'RT_user_norm_round':'Rotten Tomatoes',\n",
    "                                                    'Metacritic_user_norm_round':'Metacritic',\n",
    "                                                    'IMDB_norm_round':'IMDB'})\n",
    "\n"
   ]
  },
  {
   "cell_type": "code",
   "execution_count": 46,
   "metadata": {},
   "outputs": [
    {
     "data": {
      "text/html": [
       "<div>\n",
       "<style scoped>\n",
       "    .dataframe tbody tr th:only-of-type {\n",
       "        vertical-align: middle;\n",
       "    }\n",
       "\n",
       "    .dataframe tbody tr th {\n",
       "        vertical-align: top;\n",
       "    }\n",
       "\n",
       "    .dataframe thead th {\n",
       "        text-align: right;\n",
       "    }\n",
       "</style>\n",
       "<table border=\"1\" class=\"dataframe\">\n",
       "  <thead>\n",
       "    <tr style=\"text-align: right;\">\n",
       "      <th></th>\n",
       "      <th>Fandango</th>\n",
       "      <th>Rotten Tomatoes</th>\n",
       "      <th>Metacritic</th>\n",
       "      <th>IMDB</th>\n",
       "    </tr>\n",
       "  </thead>\n",
       "  <tbody>\n",
       "    <tr>\n",
       "      <th>0</th>\n",
       "      <td>5.0</td>\n",
       "      <td>4.5</td>\n",
       "      <td>3.5</td>\n",
       "      <td>4.0</td>\n",
       "    </tr>\n",
       "    <tr>\n",
       "      <th>1</th>\n",
       "      <td>5.0</td>\n",
       "      <td>4.0</td>\n",
       "      <td>4.0</td>\n",
       "      <td>3.5</td>\n",
       "    </tr>\n",
       "    <tr>\n",
       "      <th>2</th>\n",
       "      <td>5.0</td>\n",
       "      <td>4.5</td>\n",
       "      <td>4.0</td>\n",
       "      <td>4.0</td>\n",
       "    </tr>\n",
       "    <tr>\n",
       "      <th>3</th>\n",
       "      <td>5.0</td>\n",
       "      <td>4.0</td>\n",
       "      <td>2.5</td>\n",
       "      <td>2.5</td>\n",
       "    </tr>\n",
       "    <tr>\n",
       "      <th>4</th>\n",
       "      <td>3.5</td>\n",
       "      <td>1.5</td>\n",
       "      <td>1.5</td>\n",
       "      <td>2.5</td>\n",
       "    </tr>\n",
       "  </tbody>\n",
       "</table>\n",
       "</div>"
      ],
      "text/plain": [
       "   Fandango  Rotten Tomatoes  Metacritic  IMDB\n",
       "0       5.0              4.5         3.5   4.0\n",
       "1       5.0              4.0         4.0   3.5\n",
       "2       5.0              4.5         4.0   4.0\n",
       "3       5.0              4.0         2.5   2.5\n",
       "4       3.5              1.5         1.5   2.5"
      ]
     },
     "execution_count": 46,
     "metadata": {},
     "output_type": "execute_result"
    }
   ],
   "source": [
    "# Checking the final form.\n",
    "ratings_norm_bfr.head()"
   ]
  },
  {
   "cell_type": "code",
   "execution_count": 47,
   "metadata": {},
   "outputs": [
    {
     "data": {
      "image/png": "[encoded data removed]",
      "text/plain": [
       "<Figure size 576x432 with 1 Axes>"
      ]
     },
     "metadata": {},
     "output_type": "display_data"
    }
   ],
   "source": [
    "fig, ax = plt.subplots(figsize=(8, 6))\n",
    "\n",
    "# Setting the 'fivethirtyeight' custom style.\n",
    "plt.style.use('fivethirtyeight')\n",
    "  \n",
    "    \n",
    "# Tiles.\n",
    "ax.set_title('3.3.a - Kernel Density Plots For All Platforms', \n",
    "             size=20,\n",
    "             y=1.15)\n",
    "\n",
    "fig.suptitle('Movies released in 2014 and 2015.', \n",
    "             size=16,\n",
    "             y=1)\n",
    "\n",
    "\n",
    "# Plotting the lines for all platforms.\n",
    "for col in ratings_norm_bfr.columns:\n",
    "    sns.kdeplot(data=ratings_norm_bfr[col], \n",
    "                label=col)\n",
    "\n",
    "    \n",
    "\n",
    "# Ticks.\n",
    "ax.set_xticks(np.arange(0, 5.5, 0.5))\n",
    "\n",
    "\n",
    "\n",
    "# Code line to hide the first value - '0', in the y ticks.\n",
    "plt.yticks(np.arange(0.2, 1.0, 0.2))\n",
    "\n",
    "\n",
    "# Labels.\n",
    "ax.set_ylabel('Frequency', position=(0.2, 0.5))\n",
    "\n",
    "ax.set_xlabel('Rating')\n",
    "\n",
    "\n",
    "\n",
    "# Legend setting.\n",
    "\n",
    "plt.legend(bbox_to_anchor=(0.35, 1.01))\n",
    "\n",
    "\n",
    "plt.show()\n"
   ]
  },
  {
   "cell_type": "code",
   "execution_count": null,
   "metadata": {},
   "outputs": [],
   "source": []
  },
  {
   "cell_type": "code",
   "execution_count": 48,
   "metadata": {},
   "outputs": [
    {
     "data": {
      "text/html": [
       "<div>\n",
       "<style scoped>\n",
       "    .dataframe tbody tr th:only-of-type {\n",
       "        vertical-align: middle;\n",
       "    }\n",
       "\n",
       "    .dataframe tbody tr th {\n",
       "        vertical-align: top;\n",
       "    }\n",
       "\n",
       "    .dataframe thead th {\n",
       "        text-align: right;\n",
       "    }\n",
       "</style>\n",
       "<table border=\"1\" class=\"dataframe\">\n",
       "  <thead>\n",
       "    <tr style=\"text-align: right;\">\n",
       "      <th></th>\n",
       "      <th>movie</th>\n",
       "      <th>year</th>\n",
       "      <th>metascore</th>\n",
       "      <th>imdb</th>\n",
       "      <th>tmeter</th>\n",
       "      <th>audience</th>\n",
       "      <th>fandango</th>\n",
       "      <th>n_metascore</th>\n",
       "      <th>n_imdb</th>\n",
       "      <th>n_tmeter</th>\n",
       "      <th>n_audience</th>\n",
       "      <th>nr_metascore</th>\n",
       "      <th>nr_imdb</th>\n",
       "      <th>nr_tmeter</th>\n",
       "      <th>nr_audience</th>\n",
       "    </tr>\n",
       "  </thead>\n",
       "  <tbody>\n",
       "    <tr>\n",
       "      <th>0</th>\n",
       "      <td>10 Cloverfield Lane</td>\n",
       "      <td>2016</td>\n",
       "      <td>76</td>\n",
       "      <td>7.2</td>\n",
       "      <td>90</td>\n",
       "      <td>79</td>\n",
       "      <td>3.5</td>\n",
       "      <td>3.80</td>\n",
       "      <td>3.60</td>\n",
       "      <td>4.5</td>\n",
       "      <td>3.95</td>\n",
       "      <td>4.0</td>\n",
       "      <td>3.5</td>\n",
       "      <td>4.5</td>\n",
       "      <td>4.0</td>\n",
       "    </tr>\n",
       "    <tr>\n",
       "      <th>1</th>\n",
       "      <td>13 Hours</td>\n",
       "      <td>2016</td>\n",
       "      <td>48</td>\n",
       "      <td>7.3</td>\n",
       "      <td>50</td>\n",
       "      <td>83</td>\n",
       "      <td>4.5</td>\n",
       "      <td>2.40</td>\n",
       "      <td>3.65</td>\n",
       "      <td>2.5</td>\n",
       "      <td>4.15</td>\n",
       "      <td>2.5</td>\n",
       "      <td>3.5</td>\n",
       "      <td>2.5</td>\n",
       "      <td>4.0</td>\n",
       "    </tr>\n",
       "    <tr>\n",
       "      <th>2</th>\n",
       "      <td>A Cure for Wellness</td>\n",
       "      <td>2016</td>\n",
       "      <td>47</td>\n",
       "      <td>6.6</td>\n",
       "      <td>40</td>\n",
       "      <td>47</td>\n",
       "      <td>3.0</td>\n",
       "      <td>2.35</td>\n",
       "      <td>3.30</td>\n",
       "      <td>2.0</td>\n",
       "      <td>2.35</td>\n",
       "      <td>2.5</td>\n",
       "      <td>3.5</td>\n",
       "      <td>2.0</td>\n",
       "      <td>2.5</td>\n",
       "    </tr>\n",
       "  </tbody>\n",
       "</table>\n",
       "</div>"
      ],
      "text/plain": [
       "                 movie  year  metascore  imdb  tmeter  audience  fandango  \\\n",
       "0  10 Cloverfield Lane  2016         76   7.2      90        79       3.5   \n",
       "1             13 Hours  2016         48   7.3      50        83       4.5   \n",
       "2  A Cure for Wellness  2016         47   6.6      40        47       3.0   \n",
       "\n",
       "   n_metascore  n_imdb  n_tmeter  n_audience  nr_metascore  nr_imdb  \\\n",
       "0         3.80    3.60       4.5        3.95           4.0      3.5   \n",
       "1         2.40    3.65       2.5        4.15           2.5      3.5   \n",
       "2         2.35    3.30       2.0        2.35           2.5      3.5   \n",
       "\n",
       "   nr_tmeter  nr_audience  \n",
       "0        4.5          4.0  \n",
       "1        2.5          4.0  \n",
       "2        2.0          2.5  "
      ]
     },
     "execution_count": 48,
     "metadata": {},
     "output_type": "execute_result"
    }
   ],
   "source": [
    "# The normalized ratings in the original data set - after data set.\n",
    "ratings_aft_full.head(3)"
   ]
  },
  {
   "cell_type": "code",
   "execution_count": 49,
   "metadata": {},
   "outputs": [],
   "source": [
    "# New 'after 'df only with the normalized ratings columns.\n",
    "ratings_norm_aft = ratings_aft_full.iloc[:, 6:10]"
   ]
  },
  {
   "cell_type": "code",
   "execution_count": 50,
   "metadata": {},
   "outputs": [],
   "source": [
    "ratings_norm_aft = ratings_norm_aft.rename(columns={'fandango':'Fandango',\n",
    "                                                    'n_tmeter':'Rotten Tomatoes',\n",
    "                                                    'n_metascore':'Metacritic',\n",
    "                                                    'n_imdb':'IMDB'})"
   ]
  },
  {
   "cell_type": "code",
   "execution_count": 51,
   "metadata": {},
   "outputs": [
    {
     "data": {
      "text/html": [
       "<div>\n",
       "<style scoped>\n",
       "    .dataframe tbody tr th:only-of-type {\n",
       "        vertical-align: middle;\n",
       "    }\n",
       "\n",
       "    .dataframe tbody tr th {\n",
       "        vertical-align: top;\n",
       "    }\n",
       "\n",
       "    .dataframe thead th {\n",
       "        text-align: right;\n",
       "    }\n",
       "</style>\n",
       "<table border=\"1\" class=\"dataframe\">\n",
       "  <thead>\n",
       "    <tr style=\"text-align: right;\">\n",
       "      <th></th>\n",
       "      <th>Fandango</th>\n",
       "      <th>Metacritic</th>\n",
       "      <th>IMDB</th>\n",
       "      <th>Rotten Tomatoes</th>\n",
       "    </tr>\n",
       "  </thead>\n",
       "  <tbody>\n",
       "    <tr>\n",
       "      <th>0</th>\n",
       "      <td>3.5</td>\n",
       "      <td>3.80</td>\n",
       "      <td>3.60</td>\n",
       "      <td>4.5</td>\n",
       "    </tr>\n",
       "    <tr>\n",
       "      <th>1</th>\n",
       "      <td>4.5</td>\n",
       "      <td>2.40</td>\n",
       "      <td>3.65</td>\n",
       "      <td>2.5</td>\n",
       "    </tr>\n",
       "    <tr>\n",
       "      <th>2</th>\n",
       "      <td>3.0</td>\n",
       "      <td>2.35</td>\n",
       "      <td>3.30</td>\n",
       "      <td>2.0</td>\n",
       "    </tr>\n",
       "  </tbody>\n",
       "</table>\n",
       "</div>"
      ],
      "text/plain": [
       "   Fandango  Metacritic  IMDB  Rotten Tomatoes\n",
       "0       3.5        3.80  3.60              4.5\n",
       "1       4.5        2.40  3.65              2.5\n",
       "2       3.0        2.35  3.30              2.0"
      ]
     },
     "execution_count": 51,
     "metadata": {},
     "output_type": "execute_result"
    }
   ],
   "source": [
    "# Checking the final form.\n",
    "ratings_norm_aft.head(3)"
   ]
  },
  {
   "cell_type": "code",
   "execution_count": 52,
   "metadata": {},
   "outputs": [
    {
     "data": {
      "image/png": "[encoded data removed]",
      "text/plain": [
       "<Figure size 576x432 with 1 Axes>"
      ]
     },
     "metadata": {},
     "output_type": "display_data"
    }
   ],
   "source": [
    "fig, ax = plt.subplots(figsize=(8, 6))\n",
    "\n",
    "# Setting the 'fivethirtyeight' custom style.\n",
    "plt.style.use('fivethirtyeight')\n",
    "  \n",
    "    \n",
    "# Tiles.\n",
    "ax.set_title('3.3.b - Kernel Density Plots For All Platforms', \n",
    "             size=20,\n",
    "             y=1.15)\n",
    "\n",
    "fig.suptitle('Movies released in 2016 and 2017.', \n",
    "             size=16,\n",
    "             y=1)\n",
    "\n",
    "\n",
    "# Plotting the lines for all platforms.\n",
    "for col in ratings_norm_aft.columns:\n",
    "    sns.kdeplot(data=ratings_norm_aft[col], \n",
    "                label=col)\n",
    "\n",
    "    \n",
    "\n",
    "# Ticks.\n",
    "ax.set_xticks(np.arange(0, 5.5, 0.5))\n",
    "\n",
    "\n",
    "\n",
    "# Code line to hide the first value - '0', in the y ticks.\n",
    "plt.yticks(np.arange(0.2, 1.0, 0.2))\n",
    "\n",
    "\n",
    "# Labels.\n",
    "ax.set_ylabel('Frequency', position=(0.2, 0.5))\n",
    "\n",
    "ax.set_xlabel('Rating')\n",
    "\n",
    "\n",
    "\n",
    "# Legend setting.\n",
    "\n",
    "plt.legend(bbox_to_anchor=(0.35, 1.01))\n",
    "\n",
    "\n",
    "plt.show()"
   ]
  },
  {
   "cell_type": "code",
   "execution_count": null,
   "metadata": {},
   "outputs": [],
   "source": []
  },
  {
   "cell_type": "markdown",
   "metadata": {
    "collapsed": true
   },
   "source": [
    "## Conclusion\n",
    "---\n",
    "Given the analysis we conducted here, one can see that all the evidence points towards a dissipation of the excessive positive ratings observed at Fandango prior to 2016, at least to a certain extent. This maybe the direct result of Fandango's decision to act upon the rounding-up caveat exposed by the Walt Hickey's article. Still to be explained by Fandango is why there are not movies with a rating lower than 2.5 stars (2016-2017 ratings) in their database. "
   ]
  },
  {
   "cell_type": "markdown",
   "metadata": {},
   "source": [
    "### Annex\n",
    "---"
   ]
  },
  {
   "cell_type": "code",
   "execution_count": 53,
   "metadata": {},
   "outputs": [
    {
     "data": {
      "image/png": "[encoded data removed]",
      "text/plain": [
       "<Figure size 576x432 with 1 Axes>"
      ]
     },
     "metadata": {},
     "output_type": "display_data"
    }
   ],
   "source": [
    "fig, ax = plt.subplots(figsize=(8, 6))\n",
    "\n",
    "# Setting the 'fivethirtyeight' custom style.\n",
    "plt.style.use('fivethirtyeight')\n",
    "    \n",
    "    \n",
    "# Tiles.\n",
    "ax.set_title('Annex.a - Kernel Density Plots', \n",
    "             size=20,\n",
    "             y=1.15)\n",
    "\n",
    "fig.suptitle('IMDB 2014-15 vs Fandango 2016', \n",
    "             size=16,\n",
    "             y=0.985)\n",
    "\n",
    "\n",
    "# Plotting the two lines.\n",
    "sns.kdeplot(data=ratings_norm_bfr['IMDB'], \n",
    "            label='IMDB')\n",
    "\n",
    "\n",
    "sns.kdeplot(data=rts_2016['fandango'], \n",
    "            label='Fandango') # 'fandango' is equivelent to 'Fandango_Stars'\n",
    "\n",
    "\n",
    "# Ticks.\n",
    "ax.set_xticks(np.arange(0, 5.5, 0.5))\n",
    "\n",
    "# Code line to hide the first value - '0', in the y ticks.\n",
    "plt.yticks(np.arange(0.2, 1.0, 0.2))\n",
    "\n",
    "\n",
    "# Labels.\n",
    "ax.set_ylabel('Frequency', position=(0.2, 0.5))\n",
    "\n",
    "ax.set_xlabel('Fandango Stars')\n",
    "\n",
    "# Others.\n",
    "plt.legend()\n",
    "\n",
    "plt.show()\n"
   ]
  }
 ],
 "metadata": {
  "hide_input": false,
  "kernelspec": {
   "display_name": "Python 3",
   "language": "python",
   "name": "python3"
  },
  "language_info": {
   "codemirror_mode": {
    "name": "ipython",
    "version": 3
   },
   "file_extension": ".py",
   "mimetype": "text/x-python",
   "name": "python",
   "nbconvert_exporter": "python",
   "pygments_lexer": "ipython3",
   "version": "3.7.3"
  },
  "toc": {
   "base_numbering": "1",
   "nav_menu": {
    "height": "310px",
    "width": "390px"
   },
   "number_sections": true,
   "sideBar": true,
   "skip_h1_title": true,
   "title_cell": "Table of Contents",
   "title_sidebar": "Contents",
   "toc_cell": true,
   "toc_position": {
    "height": "calc(100% - 180px)",
    "left": "10px",
    "top": "150px",
    "width": "176.6px"
   },
   "toc_section_display": true,
   "toc_window_display": true
  },
  "varInspector": {
   "cols": {
    "lenName": 16,
    "lenType": 16,
    "lenVar": 40
   },
   "kernels_config": {
    "python": {
     "delete_cmd_postfix": "",
     "delete_cmd_prefix": "del ",
     "library": "var_list.py",
     "varRefreshCmd": "print(var_dic_list())"
    },
    "r": {
     "delete_cmd_postfix": ") ",
     "delete_cmd_prefix": "rm(",
     "library": "var_list.r",
     "varRefreshCmd": "cat(var_dic_list()) "
    }
   },
   "types_to_exclude": [
    "module",
    "function",
    "builtin_function_or_method",
    "instance",
    "_Feature"
   ],
   "window_display": false
  }
 },
 "nbformat": 4,
 "nbformat_minor": 2
}
